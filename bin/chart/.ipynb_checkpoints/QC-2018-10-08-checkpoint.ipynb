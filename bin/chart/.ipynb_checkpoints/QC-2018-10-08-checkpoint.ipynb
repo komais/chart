{
 "cells": [
  {
   "cell_type": "code",
   "execution_count": 3,
   "metadata": {
    "collapsed": false
   },
   "outputs": [
    {
     "name": "stdout",
     "output_type": "stream",
     "text": [
      "The autoreload extension is already loaded. To reload it, use:\n",
      "  %reload_ext autoreload\n"
     ]
    }
   ],
   "source": [
    "%load_ext autoreload\n",
    "%autoreload 2"
   ]
  },
  {
   "cell_type": "code",
   "execution_count": 4,
   "metadata": {
    "collapsed": false,
    "hide_input": false
   },
   "outputs": [
    {
     "data": {
      "text/html": [
       "<script>requirejs.config({paths: { 'plotly': ['https://cdn.plot.ly/plotly-latest.min']},});if(!window.Plotly) {{require(['plotly'],function(plotly) {window.Plotly=plotly;});}}</script>"
      ],
      "text/vnd.plotly.v1+html": [
       "<script>requirejs.config({paths: { 'plotly': ['https://cdn.plot.ly/plotly-latest.min']},});if(!window.Plotly) {{require(['plotly'],function(plotly) {window.Plotly=plotly;});}}</script>"
      ]
     },
     "metadata": {},
     "output_type": "display_data"
    }
   ],
   "source": [
    "import sys\n",
    "sys.path.append('./')\n",
    "import myModule\n",
    "import pandas as pd "
   ]
  },
  {
   "cell_type": "code",
   "execution_count": 19,
   "metadata": {
    "collapsed": false
   },
   "outputs": [
    {
     "data": {
      "text/html": [
       "<script>requirejs.config({paths: { 'plotly': ['https://cdn.plot.ly/plotly-latest.min']},});if(!window.Plotly) {{require(['plotly'],function(plotly) {window.Plotly=plotly;});}}</script>"
      ],
      "text/vnd.plotly.v1+html": [
       "<script>requirejs.config({paths: { 'plotly': ['https://cdn.plot.ly/plotly-latest.min']},});if(!window.Plotly) {{require(['plotly'],function(plotly) {window.Plotly=plotly;});}}</script>"
      ]
     },
     "metadata": {},
     "output_type": "display_data"
    },
    {
     "data": {
      "text/html": [
       "<script>requirejs.config({paths: { 'plotly': ['https://cdn.plot.ly/plotly-latest.min']},});if(!window.Plotly) {{require(['plotly'],function(plotly) {window.Plotly=plotly;});}}</script>"
      ],
      "text/vnd.plotly.v1+html": [
       "<script>requirejs.config({paths: { 'plotly': ['https://cdn.plot.ly/plotly-latest.min']},});if(!window.Plotly) {{require(['plotly'],function(plotly) {window.Plotly=plotly;});}}</script>"
      ]
     },
     "metadata": {},
     "output_type": "display_data"
    },
    {
     "data": {
      "text/plain": [
       "<module 'myModule' from '/mnt/e/jupyter/bin/chart/myModule.py'>"
      ]
     },
     "execution_count": 19,
     "metadata": {},
     "output_type": "execute_result"
    }
   ],
   "source": [
    "import imp\n",
    "imp.reload(myModule)"
   ]
  },
  {
   "cell_type": "code",
   "execution_count": 8,
   "metadata": {
    "collapsed": true
   },
   "outputs": [],
   "source": [
    "pathway = \"/mnt/e/jupyter/data/QC/\"\n",
    "all_files , title = myModule.get_title(pathway , 0)##给路径\n",
    "all_df1 = myModule.read_xlsx(all_files, 0 ) ## read all files\n",
    "#data_dict = {'下机批次比':['下机批次数','下机项目数']}\n",
    "\n",
    "all_df2 = myModule.read_xlsx(all_files , 1 )\n"
   ]
  },
  {
   "cell_type": "code",
   "execution_count": 28,
   "metadata": {
    "collapsed": true
   },
   "outputs": [],
   "source": [
    "myModule.upgrade_df(all_df1, [ ['下机批次比','下机批次数','下机项目数','/'] ])\n",
    "#all_df1[['下机批次比','下机批次数','下机项目数']]"
   ]
  },
  {
   "cell_type": "markdown",
   "metadata": {},
   "source": [
    "# QC分析组整体情况"
   ]
  },
  {
   "cell_type": "markdown",
   "metadata": {},
   "source": [
    "## 整体人员情况"
   ]
  },
  {
   "cell_type": "code",
   "execution_count": 10,
   "metadata": {
    "collapsed": false
   },
   "outputs": [
    {
     "data": {
      "application/vnd.plotly.v1+json": {
       "data": [
        {
         "name": "人员",
         "type": "bar",
         "uid": "8dd27878-cac2-11e8-8d03-a81e84e6c740",
         "x": [
          "8-1",
          "8-2",
          "8-3",
          "8-4",
          "8-5",
          "9-1",
          "9-2",
          "9-3",
          "9-4"
         ],
         "y": [
          4,
          4,
          4,
          4,
          4,
          4,
          4,
          4,
          4
         ]
        }
       ],
       "layout": {
        "title": "人员周趋势图",
        "xaxis": {
         "mirror": "all",
         "nticks": 20,
         "showgrid": true,
         "showline": true,
         "title": "周",
         "zeroline": true
        },
        "yaxis": {
         "mirror": "all",
         "nticks": 20,
         "showgrid": true,
         "showline": true,
         "title": "人员",
         "zeroline": true
        }
       }
      },
      "text/html": [
       "<div id=\"2e95d649-f06c-4cc2-a0b3-8c3f26ede1ca\" style=\"height: 525px; width: 100%;\" class=\"plotly-graph-div\"></div><script type=\"text/javascript\">require([\"plotly\"], function(Plotly) { window.PLOTLYENV=window.PLOTLYENV || {};window.PLOTLYENV.BASE_URL=\"https://plot.ly\";Plotly.newPlot(\"2e95d649-f06c-4cc2-a0b3-8c3f26ede1ca\", [{\"name\": \"\\u4eba\\u5458\", \"x\": [\"8-1\", \"8-2\", \"8-3\", \"8-4\", \"8-5\", \"9-1\", \"9-2\", \"9-3\", \"9-4\"], \"y\": [4, 4, 4, 4, 4, 4, 4, 4, 4], \"type\": \"bar\", \"uid\": \"8dd27878-cac2-11e8-8d03-a81e84e6c740\"}], {\"title\": \"\\u4eba\\u5458\\u5468\\u8d8b\\u52bf\\u56fe\", \"xaxis\": {\"mirror\": \"all\", \"nticks\": 20, \"showgrid\": true, \"showline\": true, \"title\": \"\\u5468\", \"zeroline\": true}, \"yaxis\": {\"mirror\": \"all\", \"nticks\": 20, \"showgrid\": true, \"showline\": true, \"title\": \"\\u4eba\\u5458\", \"zeroline\": true}}, {\"showLink\": true, \"linkText\": \"Export to plot.ly\"})});</script>"
      ],
      "text/vnd.plotly.v1+html": [
       "<div id=\"2e95d649-f06c-4cc2-a0b3-8c3f26ede1ca\" style=\"height: 525px; width: 100%;\" class=\"plotly-graph-div\"></div><script type=\"text/javascript\">require([\"plotly\"], function(Plotly) { window.PLOTLYENV=window.PLOTLYENV || {};window.PLOTLYENV.BASE_URL=\"https://plot.ly\";Plotly.newPlot(\"2e95d649-f06c-4cc2-a0b3-8c3f26ede1ca\", [{\"name\": \"\\u4eba\\u5458\", \"x\": [\"8-1\", \"8-2\", \"8-3\", \"8-4\", \"8-5\", \"9-1\", \"9-2\", \"9-3\", \"9-4\"], \"y\": [4, 4, 4, 4, 4, 4, 4, 4, 4], \"type\": \"bar\", \"uid\": \"8dd27878-cac2-11e8-8d03-a81e84e6c740\"}], {\"title\": \"\\u4eba\\u5458\\u5468\\u8d8b\\u52bf\\u56fe\", \"xaxis\": {\"mirror\": \"all\", \"nticks\": 20, \"showgrid\": true, \"showline\": true, \"title\": \"\\u5468\", \"zeroline\": true}, \"yaxis\": {\"mirror\": \"all\", \"nticks\": 20, \"showgrid\": true, \"showline\": true, \"title\": \"\\u4eba\\u5458\", \"zeroline\": true}}, {\"showLink\": true, \"linkText\": \"Export to plot.ly\"})});</script>"
      ]
     },
     "metadata": {},
     "output_type": "display_data"
    },
    {
     "data": {
      "application/vnd.plotly.v1+json": {
       "data": [
        {
         "name": "人员",
         "type": "bar",
         "uid": "8ddaf2d2-cac2-11e8-8d03-a81e84e6c740",
         "x": [
          8,
          9
         ],
         "y": [
          4,
          4
         ]
        }
       ],
       "layout": {
        "title": "人员月趋势图",
        "xaxis": {
         "mirror": "all",
         "nticks": 20,
         "showgrid": true,
         "showline": true,
         "title": "月",
         "zeroline": true
        },
        "yaxis": {
         "mirror": "all",
         "nticks": 20,
         "showgrid": true,
         "showline": true,
         "title": "人员",
         "zeroline": true
        }
       }
      },
      "text/html": [
       "<div id=\"73a31428-1947-4741-be73-8ae4da0e979a\" style=\"height: 525px; width: 100%;\" class=\"plotly-graph-div\"></div><script type=\"text/javascript\">require([\"plotly\"], function(Plotly) { window.PLOTLYENV=window.PLOTLYENV || {};window.PLOTLYENV.BASE_URL=\"https://plot.ly\";Plotly.newPlot(\"73a31428-1947-4741-be73-8ae4da0e979a\", [{\"name\": \"\\u4eba\\u5458\", \"x\": [8, 9], \"y\": [4, 4], \"type\": \"bar\", \"uid\": \"8ddaf2d2-cac2-11e8-8d03-a81e84e6c740\"}], {\"title\": \"\\u4eba\\u5458\\u6708\\u8d8b\\u52bf\\u56fe\", \"xaxis\": {\"mirror\": \"all\", \"nticks\": 20, \"showgrid\": true, \"showline\": true, \"title\": \"\\u6708\", \"zeroline\": true}, \"yaxis\": {\"mirror\": \"all\", \"nticks\": 20, \"showgrid\": true, \"showline\": true, \"title\": \"\\u4eba\\u5458\", \"zeroline\": true}}, {\"showLink\": true, \"linkText\": \"Export to plot.ly\"})});</script>"
      ],
      "text/vnd.plotly.v1+html": [
       "<div id=\"73a31428-1947-4741-be73-8ae4da0e979a\" style=\"height: 525px; width: 100%;\" class=\"plotly-graph-div\"></div><script type=\"text/javascript\">require([\"plotly\"], function(Plotly) { window.PLOTLYENV=window.PLOTLYENV || {};window.PLOTLYENV.BASE_URL=\"https://plot.ly\";Plotly.newPlot(\"73a31428-1947-4741-be73-8ae4da0e979a\", [{\"name\": \"\\u4eba\\u5458\", \"x\": [8, 9], \"y\": [4, 4], \"type\": \"bar\", \"uid\": \"8ddaf2d2-cac2-11e8-8d03-a81e84e6c740\"}], {\"title\": \"\\u4eba\\u5458\\u6708\\u8d8b\\u52bf\\u56fe\", \"xaxis\": {\"mirror\": \"all\", \"nticks\": 20, \"showgrid\": true, \"showline\": true, \"title\": \"\\u6708\", \"zeroline\": true}, \"yaxis\": {\"mirror\": \"all\", \"nticks\": 20, \"showgrid\": true, \"showline\": true, \"title\": \"\\u4eba\\u5458\", \"zeroline\": true}}, {\"showLink\": true, \"linkText\": \"Export to plot.ly\"})});</script>"
      ]
     },
     "metadata": {},
     "output_type": "display_data"
    }
   ],
   "source": [
    "ss = myModule.format(all_df1 ,\"日期（格式“月-周次”）\" ,['人员'])\n",
    "tt = myModule.myPlot(ss.groupby('count'))\n",
    "tt.plot('bar')\n",
    "\n",
    "ss = myModule.format(all_df1 ,\"month\" ,['人员'] )\n",
    "ss.get_average_by('日期（格式“月-周次”）')\n",
    "tt = myModule.myPlot(ss.groupby(\"count\") )# ,\"日期（格式“月-周次”）\" ,['人员'])\n",
    "tt.plot('bar',tag='月')"
   ]
  },
  {
   "cell_type": "markdown",
   "metadata": {
    "hide_input": true
   },
   "source": [
    "## 过滤项目整体情况"
   ]
  },
  {
   "cell_type": "markdown",
   "metadata": {},
   "source": [
    "### 产能"
   ]
  },
  {
   "cell_type": "markdown",
   "metadata": {},
   "source": [
    "\n",
    "#### 下机批次数和下机项目数\n"
   ]
  },
  {
   "cell_type": "code",
   "execution_count": 13,
   "metadata": {
    "collapsed": false
   },
   "outputs": [
    {
     "data": {
      "application/vnd.plotly.v1+json": {
       "data": [
        {
         "name": "下机项目数",
         "type": "bar",
         "uid": "33897096-cac3-11e8-8d03-a81e84e6c740",
         "x": [
          "8-1",
          "8-2",
          "8-3",
          "8-4",
          "8-5",
          "9-1",
          "9-2",
          "9-3",
          "9-4"
         ],
         "y": [
          94,
          146,
          135,
          136,
          85,
          174,
          103,
          122,
          153
         ]
        },
        {
         "name": "下机批次数",
         "type": "bar",
         "uid": "338975a0-cac3-11e8-8d03-a81e84e6c740",
         "x": [
          "8-1",
          "8-2",
          "8-3",
          "8-4",
          "8-5",
          "9-1",
          "9-2",
          "9-3",
          "9-4"
         ],
         "y": [
          118,
          181,
          165,
          161,
          100,
          199,
          124,
          136,
          176
         ]
        }
       ],
       "layout": {
        "barmode": "stack",
        "title": "下机项目数&下机批次数周趋势图",
        "xaxis": {
         "mirror": "all",
         "nticks": 20,
         "showgrid": true,
         "showline": true,
         "title": "周",
         "zeroline": true
        },
        "yaxis": {
         "mirror": "all",
         "nticks": 20,
         "showgrid": true,
         "showline": true,
         "title": "下机项目数&下机批次数",
         "zeroline": true
        }
       }
      },
      "text/html": [
       "<div id=\"1a325179-f321-4dd8-9064-6fa71eacde44\" style=\"height: 525px; width: 100%;\" class=\"plotly-graph-div\"></div><script type=\"text/javascript\">require([\"plotly\"], function(Plotly) { window.PLOTLYENV=window.PLOTLYENV || {};window.PLOTLYENV.BASE_URL=\"https://plot.ly\";Plotly.newPlot(\"1a325179-f321-4dd8-9064-6fa71eacde44\", [{\"name\": \"\\u4e0b\\u673a\\u9879\\u76ee\\u6570\", \"x\": [\"8-1\", \"8-2\", \"8-3\", \"8-4\", \"8-5\", \"9-1\", \"9-2\", \"9-3\", \"9-4\"], \"y\": [94, 146, 135, 136, 85, 174, 103, 122, 153], \"type\": \"bar\", \"uid\": \"33897096-cac3-11e8-8d03-a81e84e6c740\"}, {\"name\": \"\\u4e0b\\u673a\\u6279\\u6b21\\u6570\", \"x\": [\"8-1\", \"8-2\", \"8-3\", \"8-4\", \"8-5\", \"9-1\", \"9-2\", \"9-3\", \"9-4\"], \"y\": [118, 181, 165, 161, 100, 199, 124, 136, 176], \"type\": \"bar\", \"uid\": \"338975a0-cac3-11e8-8d03-a81e84e6c740\"}], {\"barmode\": \"stack\", \"title\": \"\\u4e0b\\u673a\\u9879\\u76ee\\u6570&\\u4e0b\\u673a\\u6279\\u6b21\\u6570\\u5468\\u8d8b\\u52bf\\u56fe\", \"xaxis\": {\"mirror\": \"all\", \"nticks\": 20, \"showgrid\": true, \"showline\": true, \"title\": \"\\u5468\", \"zeroline\": true}, \"yaxis\": {\"mirror\": \"all\", \"nticks\": 20, \"showgrid\": true, \"showline\": true, \"title\": \"\\u4e0b\\u673a\\u9879\\u76ee\\u6570&\\u4e0b\\u673a\\u6279\\u6b21\\u6570\", \"zeroline\": true}}, {\"showLink\": true, \"linkText\": \"Export to plot.ly\"})});</script>"
      ],
      "text/vnd.plotly.v1+html": [
       "<div id=\"1a325179-f321-4dd8-9064-6fa71eacde44\" style=\"height: 525px; width: 100%;\" class=\"plotly-graph-div\"></div><script type=\"text/javascript\">require([\"plotly\"], function(Plotly) { window.PLOTLYENV=window.PLOTLYENV || {};window.PLOTLYENV.BASE_URL=\"https://plot.ly\";Plotly.newPlot(\"1a325179-f321-4dd8-9064-6fa71eacde44\", [{\"name\": \"\\u4e0b\\u673a\\u9879\\u76ee\\u6570\", \"x\": [\"8-1\", \"8-2\", \"8-3\", \"8-4\", \"8-5\", \"9-1\", \"9-2\", \"9-3\", \"9-4\"], \"y\": [94, 146, 135, 136, 85, 174, 103, 122, 153], \"type\": \"bar\", \"uid\": \"33897096-cac3-11e8-8d03-a81e84e6c740\"}, {\"name\": \"\\u4e0b\\u673a\\u6279\\u6b21\\u6570\", \"x\": [\"8-1\", \"8-2\", \"8-3\", \"8-4\", \"8-5\", \"9-1\", \"9-2\", \"9-3\", \"9-4\"], \"y\": [118, 181, 165, 161, 100, 199, 124, 136, 176], \"type\": \"bar\", \"uid\": \"338975a0-cac3-11e8-8d03-a81e84e6c740\"}], {\"barmode\": \"stack\", \"title\": \"\\u4e0b\\u673a\\u9879\\u76ee\\u6570&\\u4e0b\\u673a\\u6279\\u6b21\\u6570\\u5468\\u8d8b\\u52bf\\u56fe\", \"xaxis\": {\"mirror\": \"all\", \"nticks\": 20, \"showgrid\": true, \"showline\": true, \"title\": \"\\u5468\", \"zeroline\": true}, \"yaxis\": {\"mirror\": \"all\", \"nticks\": 20, \"showgrid\": true, \"showline\": true, \"title\": \"\\u4e0b\\u673a\\u9879\\u76ee\\u6570&\\u4e0b\\u673a\\u6279\\u6b21\\u6570\", \"zeroline\": true}}, {\"showLink\": true, \"linkText\": \"Export to plot.ly\"})});</script>"
      ]
     },
     "metadata": {},
     "output_type": "display_data"
    },
    {
     "data": {
      "application/vnd.plotly.v1+json": {
       "data": [
        {
         "name": "下机项目数",
         "type": "bar",
         "uid": "339e638e-cac3-11e8-8d03-a81e84e6c740",
         "x": [
          8,
          9
         ],
         "y": [
          596,
          552
         ]
        },
        {
         "name": "下机批次数",
         "type": "bar",
         "uid": "339e6e2e-cac3-11e8-8d03-a81e84e6c740",
         "x": [
          8,
          9
         ],
         "y": [
          725,
          635
         ]
        }
       ],
       "layout": {
        "barmode": "stack",
        "title": "下机项目数&下机批次数月趋势图",
        "xaxis": {
         "mirror": "all",
         "nticks": 20,
         "showgrid": true,
         "showline": true,
         "title": "月",
         "zeroline": true
        },
        "yaxis": {
         "mirror": "all",
         "nticks": 20,
         "showgrid": true,
         "showline": true,
         "title": "下机项目数&下机批次数",
         "zeroline": true
        }
       }
      },
      "text/html": [
       "<div id=\"c1870677-d640-43d4-b40c-a2aff492bef3\" style=\"height: 525px; width: 100%;\" class=\"plotly-graph-div\"></div><script type=\"text/javascript\">require([\"plotly\"], function(Plotly) { window.PLOTLYENV=window.PLOTLYENV || {};window.PLOTLYENV.BASE_URL=\"https://plot.ly\";Plotly.newPlot(\"c1870677-d640-43d4-b40c-a2aff492bef3\", [{\"name\": \"\\u4e0b\\u673a\\u9879\\u76ee\\u6570\", \"x\": [8, 9], \"y\": [596, 552], \"type\": \"bar\", \"uid\": \"339e638e-cac3-11e8-8d03-a81e84e6c740\"}, {\"name\": \"\\u4e0b\\u673a\\u6279\\u6b21\\u6570\", \"x\": [8, 9], \"y\": [725, 635], \"type\": \"bar\", \"uid\": \"339e6e2e-cac3-11e8-8d03-a81e84e6c740\"}], {\"barmode\": \"stack\", \"title\": \"\\u4e0b\\u673a\\u9879\\u76ee\\u6570&\\u4e0b\\u673a\\u6279\\u6b21\\u6570\\u6708\\u8d8b\\u52bf\\u56fe\", \"xaxis\": {\"mirror\": \"all\", \"nticks\": 20, \"showgrid\": true, \"showline\": true, \"title\": \"\\u6708\", \"zeroline\": true}, \"yaxis\": {\"mirror\": \"all\", \"nticks\": 20, \"showgrid\": true, \"showline\": true, \"title\": \"\\u4e0b\\u673a\\u9879\\u76ee\\u6570&\\u4e0b\\u673a\\u6279\\u6b21\\u6570\", \"zeroline\": true}}, {\"showLink\": true, \"linkText\": \"Export to plot.ly\"})});</script>"
      ],
      "text/vnd.plotly.v1+html": [
       "<div id=\"c1870677-d640-43d4-b40c-a2aff492bef3\" style=\"height: 525px; width: 100%;\" class=\"plotly-graph-div\"></div><script type=\"text/javascript\">require([\"plotly\"], function(Plotly) { window.PLOTLYENV=window.PLOTLYENV || {};window.PLOTLYENV.BASE_URL=\"https://plot.ly\";Plotly.newPlot(\"c1870677-d640-43d4-b40c-a2aff492bef3\", [{\"name\": \"\\u4e0b\\u673a\\u9879\\u76ee\\u6570\", \"x\": [8, 9], \"y\": [596, 552], \"type\": \"bar\", \"uid\": \"339e638e-cac3-11e8-8d03-a81e84e6c740\"}, {\"name\": \"\\u4e0b\\u673a\\u6279\\u6b21\\u6570\", \"x\": [8, 9], \"y\": [725, 635], \"type\": \"bar\", \"uid\": \"339e6e2e-cac3-11e8-8d03-a81e84e6c740\"}], {\"barmode\": \"stack\", \"title\": \"\\u4e0b\\u673a\\u9879\\u76ee\\u6570&\\u4e0b\\u673a\\u6279\\u6b21\\u6570\\u6708\\u8d8b\\u52bf\\u56fe\", \"xaxis\": {\"mirror\": \"all\", \"nticks\": 20, \"showgrid\": true, \"showline\": true, \"title\": \"\\u6708\", \"zeroline\": true}, \"yaxis\": {\"mirror\": \"all\", \"nticks\": 20, \"showgrid\": true, \"showline\": true, \"title\": \"\\u4e0b\\u673a\\u9879\\u76ee\\u6570&\\u4e0b\\u673a\\u6279\\u6b21\\u6570\", \"zeroline\": true}}, {\"showLink\": true, \"linkText\": \"Export to plot.ly\"})});</script>"
      ]
     },
     "metadata": {},
     "output_type": "display_data"
    }
   ],
   "source": [
    "ss = myModule.format(all_df1 ,\"日期（格式“月-周次”）\" ,['下机批次数','下机项目数'])\n",
    "myModule.myPlot(ss.groupby('sum')).plot('stack_bar')\n",
    "ss = myModule.format(all_df1 ,\"month\" ,['下机批次数','下机项目数'])\n",
    "myModule.myPlot(ss.groupby('sum')).plot('stack_bar',\"月\")"
   ]
  },
  {
   "cell_type": "markdown",
   "metadata": {},
   "source": [
    "#### 下机批次比"
   ]
  },
  {
   "cell_type": "code",
   "execution_count": 60,
   "metadata": {
    "collapsed": false
   },
   "outputs": [
    {
     "data": {
      "text/html": [
       "<script>requirejs.config({paths: { 'plotly': ['https://cdn.plot.ly/plotly-latest.min']},});if(!window.Plotly) {{require(['plotly'],function(plotly) {window.Plotly=plotly;});}}</script>"
      ],
      "text/vnd.plotly.v1+html": [
       "<script>requirejs.config({paths: { 'plotly': ['https://cdn.plot.ly/plotly-latest.min']},});if(!window.Plotly) {{require(['plotly'],function(plotly) {window.Plotly=plotly;});}}</script>"
      ]
     },
     "metadata": {},
     "output_type": "display_data"
    },
    {
     "data": {
      "application/vnd.plotly.v1+json": {
       "data": [
        {
         "name": "下机批次比",
         "type": "scatter",
         "uid": "01d24eae-caca-11e8-8d03-a81e84e6c740",
         "x": [
          "8-1",
          "8-2",
          "8-3",
          "8-4",
          "8-5",
          "9-1",
          "9-2",
          "9-3",
          "9-4"
         ],
         "y": [
          1.2553191489361701,
          1.2397260273972603,
          1.2222222222222223,
          1.1838235294117647,
          1.1764705882352942,
          1.1436781609195403,
          1.203883495145631,
          1.1147540983606556,
          1.1503267973856208
         ]
        }
       ],
       "layout": {
        "title": "下机批次比周趋势图",
        "xaxis": {
         "mirror": "all",
         "nticks": 20,
         "showgrid": true,
         "showline": true,
         "title": "周",
         "zeroline": true
        },
        "yaxis": {
         "mirror": "all",
         "nticks": 20,
         "showgrid": true,
         "showline": true,
         "title": "下机批次比",
         "zeroline": true
        }
       }
      },
      "text/html": [
       "<div id=\"23f1033b-0816-4307-8220-1b4673a26e70\" style=\"height: 525px; width: 100%;\" class=\"plotly-graph-div\"></div><script type=\"text/javascript\">require([\"plotly\"], function(Plotly) { window.PLOTLYENV=window.PLOTLYENV || {};window.PLOTLYENV.BASE_URL=\"https://plot.ly\";Plotly.newPlot(\"23f1033b-0816-4307-8220-1b4673a26e70\", [{\"name\": \"\\u4e0b\\u673a\\u6279\\u6b21\\u6bd4\", \"x\": [\"8-1\", \"8-2\", \"8-3\", \"8-4\", \"8-5\", \"9-1\", \"9-2\", \"9-3\", \"9-4\"], \"y\": [1.2553191489361701, 1.2397260273972603, 1.2222222222222223, 1.1838235294117647, 1.1764705882352942, 1.1436781609195403, 1.203883495145631, 1.1147540983606556, 1.1503267973856208], \"type\": \"scatter\", \"uid\": \"01d24eae-caca-11e8-8d03-a81e84e6c740\"}], {\"title\": \"\\u4e0b\\u673a\\u6279\\u6b21\\u6bd4\\u5468\\u8d8b\\u52bf\\u56fe\", \"xaxis\": {\"mirror\": \"all\", \"nticks\": 20, \"showgrid\": true, \"showline\": true, \"title\": \"\\u5468\", \"zeroline\": true}, \"yaxis\": {\"mirror\": \"all\", \"nticks\": 20, \"showgrid\": true, \"showline\": true, \"title\": \"\\u4e0b\\u673a\\u6279\\u6b21\\u6bd4\", \"zeroline\": true}}, {\"showLink\": true, \"linkText\": \"Export to plot.ly\"})});</script>"
      ],
      "text/vnd.plotly.v1+html": [
       "<div id=\"23f1033b-0816-4307-8220-1b4673a26e70\" style=\"height: 525px; width: 100%;\" class=\"plotly-graph-div\"></div><script type=\"text/javascript\">require([\"plotly\"], function(Plotly) { window.PLOTLYENV=window.PLOTLYENV || {};window.PLOTLYENV.BASE_URL=\"https://plot.ly\";Plotly.newPlot(\"23f1033b-0816-4307-8220-1b4673a26e70\", [{\"name\": \"\\u4e0b\\u673a\\u6279\\u6b21\\u6bd4\", \"x\": [\"8-1\", \"8-2\", \"8-3\", \"8-4\", \"8-5\", \"9-1\", \"9-2\", \"9-3\", \"9-4\"], \"y\": [1.2553191489361701, 1.2397260273972603, 1.2222222222222223, 1.1838235294117647, 1.1764705882352942, 1.1436781609195403, 1.203883495145631, 1.1147540983606556, 1.1503267973856208], \"type\": \"scatter\", \"uid\": \"01d24eae-caca-11e8-8d03-a81e84e6c740\"}], {\"title\": \"\\u4e0b\\u673a\\u6279\\u6b21\\u6bd4\\u5468\\u8d8b\\u52bf\\u56fe\", \"xaxis\": {\"mirror\": \"all\", \"nticks\": 20, \"showgrid\": true, \"showline\": true, \"title\": \"\\u5468\", \"zeroline\": true}, \"yaxis\": {\"mirror\": \"all\", \"nticks\": 20, \"showgrid\": true, \"showline\": true, \"title\": \"\\u4e0b\\u673a\\u6279\\u6b21\\u6bd4\", \"zeroline\": true}}, {\"showLink\": true, \"linkText\": \"Export to plot.ly\"})});</script>"
      ]
     },
     "metadata": {},
     "output_type": "display_data"
    },
    {
     "data": {
      "application/vnd.plotly.v1+json": {
       "data": [
        {
         "name": "下机批次比",
         "type": "scatter",
         "uid": "01dc0764-caca-11e8-8d03-a81e84e6c740",
         "x": [
          8,
          9
         ],
         "y": [
          1.2164429530201342,
          1.1503623188405796
         ]
        }
       ],
       "layout": {
        "title": "下机批次比周趋势图",
        "xaxis": {
         "mirror": "all",
         "nticks": 20,
         "showgrid": true,
         "showline": true,
         "title": "周",
         "zeroline": true
        },
        "yaxis": {
         "mirror": "all",
         "nticks": 20,
         "showgrid": true,
         "showline": true,
         "title": "下机批次比",
         "zeroline": true
        }
       }
      },
      "text/html": [
       "<div id=\"60275c74-2943-4b3c-8838-d8e6bff125b9\" style=\"height: 525px; width: 100%;\" class=\"plotly-graph-div\"></div><script type=\"text/javascript\">require([\"plotly\"], function(Plotly) { window.PLOTLYENV=window.PLOTLYENV || {};window.PLOTLYENV.BASE_URL=\"https://plot.ly\";Plotly.newPlot(\"60275c74-2943-4b3c-8838-d8e6bff125b9\", [{\"name\": \"\\u4e0b\\u673a\\u6279\\u6b21\\u6bd4\", \"x\": [8, 9], \"y\": [1.2164429530201342, 1.1503623188405796], \"type\": \"scatter\", \"uid\": \"01dc0764-caca-11e8-8d03-a81e84e6c740\"}], {\"title\": \"\\u4e0b\\u673a\\u6279\\u6b21\\u6bd4\\u5468\\u8d8b\\u52bf\\u56fe\", \"xaxis\": {\"mirror\": \"all\", \"nticks\": 20, \"showgrid\": true, \"showline\": true, \"title\": \"\\u5468\", \"zeroline\": true}, \"yaxis\": {\"mirror\": \"all\", \"nticks\": 20, \"showgrid\": true, \"showline\": true, \"title\": \"\\u4e0b\\u673a\\u6279\\u6b21\\u6bd4\", \"zeroline\": true}}, {\"showLink\": true, \"linkText\": \"Export to plot.ly\"})});</script>"
      ],
      "text/vnd.plotly.v1+html": [
       "<div id=\"60275c74-2943-4b3c-8838-d8e6bff125b9\" style=\"height: 525px; width: 100%;\" class=\"plotly-graph-div\"></div><script type=\"text/javascript\">require([\"plotly\"], function(Plotly) { window.PLOTLYENV=window.PLOTLYENV || {};window.PLOTLYENV.BASE_URL=\"https://plot.ly\";Plotly.newPlot(\"60275c74-2943-4b3c-8838-d8e6bff125b9\", [{\"name\": \"\\u4e0b\\u673a\\u6279\\u6b21\\u6bd4\", \"x\": [8, 9], \"y\": [1.2164429530201342, 1.1503623188405796], \"type\": \"scatter\", \"uid\": \"01dc0764-caca-11e8-8d03-a81e84e6c740\"}], {\"title\": \"\\u4e0b\\u673a\\u6279\\u6b21\\u6bd4\\u5468\\u8d8b\\u52bf\\u56fe\", \"xaxis\": {\"mirror\": \"all\", \"nticks\": 20, \"showgrid\": true, \"showline\": true, \"title\": \"\\u5468\", \"zeroline\": true}, \"yaxis\": {\"mirror\": \"all\", \"nticks\": 20, \"showgrid\": true, \"showline\": true, \"title\": \"\\u4e0b\\u673a\\u6279\\u6b21\\u6bd4\", \"zeroline\": true}}, {\"showLink\": true, \"linkText\": \"Export to plot.ly\"})});</script>"
      ]
     },
     "metadata": {},
     "output_type": "display_data"
    }
   ],
   "source": [
    "ss = myModule.format(all_df1 ,\"日期（格式“月-周次”）\" ,['下机批次数','下机项目数'])\n",
    "tt = ss.get_total_ratio([['下机批次比' ,'下机批次数' , '下机项目数','/']] )\n",
    "myModule.myPlot(tt).plot('line')\n",
    "\n",
    "ss = myModule.format(all_df1 ,\"month\" ,['下机批次数','下机项目数'])\n",
    "tt = ss.get_total_ratio([['下机批次比' ,'下机批次数' , '下机项目数','/']] )\n",
    "myModule.myPlot(tt).plot('line')\n"
   ]
  },
  {
   "cell_type": "markdown",
   "metadata": {
    "hide_input": true
   },
   "source": [
    "### 效率"
   ]
  },
  {
   "cell_type": "markdown",
   "metadata": {},
   "source": [
    "#### 反馈及时率和数据交付及时率"
   ]
  },
  {
   "cell_type": "code",
   "execution_count": 63,
   "metadata": {
    "collapsed": false
   },
   "outputs": [
    {
     "data": {
      "application/vnd.plotly.v1+json": {
       "data": [
        {
         "name": "反馈及时率",
         "type": "scatter",
         "uid": "6bc653c8-caca-11e8-8d03-a81e84e6c740",
         "x": [
          "8-1",
          "8-2",
          "8-3",
          "8-4",
          "8-5",
          "9-1",
          "9-2",
          "9-3",
          "9-4"
         ],
         "y": [
          0.9661016949152542,
          0.9668508287292817,
          0.9878787878787879,
          0.968944099378882,
          0.93,
          0.9849246231155779,
          0.9274193548387096,
          1,
          0.9943181818181818
         ]
        },
        {
         "name": "数据及时交付率",
         "type": "scatter",
         "uid": "6bc65904-caca-11e8-8d03-a81e84e6c740",
         "x": [
          "8-1",
          "8-2",
          "8-3",
          "8-4",
          "8-5",
          "9-1",
          "9-2",
          "9-3",
          "9-4"
         ],
         "y": [
          1,
          1,
          1,
          1,
          1,
          1,
          1,
          1,
          1
         ]
        }
       ],
       "layout": {
        "title": "反馈及时率&数据及时交付率周趋势图",
        "xaxis": {
         "mirror": "all",
         "nticks": 20,
         "showgrid": true,
         "showline": true,
         "title": "周",
         "zeroline": true
        },
        "yaxis": {
         "mirror": "all",
         "nticks": 20,
         "showgrid": true,
         "showline": true,
         "title": "反馈及时率&数据及时交付率",
         "zeroline": true
        }
       }
      },
      "text/html": [
       "<div id=\"199702b1-197a-468c-ba65-51db2c37aa58\" style=\"height: 525px; width: 100%;\" class=\"plotly-graph-div\"></div><script type=\"text/javascript\">require([\"plotly\"], function(Plotly) { window.PLOTLYENV=window.PLOTLYENV || {};window.PLOTLYENV.BASE_URL=\"https://plot.ly\";Plotly.newPlot(\"199702b1-197a-468c-ba65-51db2c37aa58\", [{\"name\": \"\\u53cd\\u9988\\u53ca\\u65f6\\u7387\", \"x\": [\"8-1\", \"8-2\", \"8-3\", \"8-4\", \"8-5\", \"9-1\", \"9-2\", \"9-3\", \"9-4\"], \"y\": [0.9661016949152542, 0.9668508287292817, 0.9878787878787879, 0.968944099378882, 0.93, 0.9849246231155779, 0.9274193548387096, 1.0, 0.9943181818181818], \"type\": \"scatter\", \"uid\": \"6bc653c8-caca-11e8-8d03-a81e84e6c740\"}, {\"name\": \"\\u6570\\u636e\\u53ca\\u65f6\\u4ea4\\u4ed8\\u7387\", \"x\": [\"8-1\", \"8-2\", \"8-3\", \"8-4\", \"8-5\", \"9-1\", \"9-2\", \"9-3\", \"9-4\"], \"y\": [1.0, 1.0, 1.0, 1.0, 1.0, 1.0, 1.0, 1.0, 1.0], \"type\": \"scatter\", \"uid\": \"6bc65904-caca-11e8-8d03-a81e84e6c740\"}], {\"title\": \"\\u53cd\\u9988\\u53ca\\u65f6\\u7387&\\u6570\\u636e\\u53ca\\u65f6\\u4ea4\\u4ed8\\u7387\\u5468\\u8d8b\\u52bf\\u56fe\", \"xaxis\": {\"mirror\": \"all\", \"nticks\": 20, \"showgrid\": true, \"showline\": true, \"title\": \"\\u5468\", \"zeroline\": true}, \"yaxis\": {\"mirror\": \"all\", \"nticks\": 20, \"showgrid\": true, \"showline\": true, \"title\": \"\\u53cd\\u9988\\u53ca\\u65f6\\u7387&\\u6570\\u636e\\u53ca\\u65f6\\u4ea4\\u4ed8\\u7387\", \"zeroline\": true}}, {\"showLink\": true, \"linkText\": \"Export to plot.ly\"})});</script>"
      ],
      "text/vnd.plotly.v1+html": [
       "<div id=\"199702b1-197a-468c-ba65-51db2c37aa58\" style=\"height: 525px; width: 100%;\" class=\"plotly-graph-div\"></div><script type=\"text/javascript\">require([\"plotly\"], function(Plotly) { window.PLOTLYENV=window.PLOTLYENV || {};window.PLOTLYENV.BASE_URL=\"https://plot.ly\";Plotly.newPlot(\"199702b1-197a-468c-ba65-51db2c37aa58\", [{\"name\": \"\\u53cd\\u9988\\u53ca\\u65f6\\u7387\", \"x\": [\"8-1\", \"8-2\", \"8-3\", \"8-4\", \"8-5\", \"9-1\", \"9-2\", \"9-3\", \"9-4\"], \"y\": [0.9661016949152542, 0.9668508287292817, 0.9878787878787879, 0.968944099378882, 0.93, 0.9849246231155779, 0.9274193548387096, 1.0, 0.9943181818181818], \"type\": \"scatter\", \"uid\": \"6bc653c8-caca-11e8-8d03-a81e84e6c740\"}, {\"name\": \"\\u6570\\u636e\\u53ca\\u65f6\\u4ea4\\u4ed8\\u7387\", \"x\": [\"8-1\", \"8-2\", \"8-3\", \"8-4\", \"8-5\", \"9-1\", \"9-2\", \"9-3\", \"9-4\"], \"y\": [1.0, 1.0, 1.0, 1.0, 1.0, 1.0, 1.0, 1.0, 1.0], \"type\": \"scatter\", \"uid\": \"6bc65904-caca-11e8-8d03-a81e84e6c740\"}], {\"title\": \"\\u53cd\\u9988\\u53ca\\u65f6\\u7387&\\u6570\\u636e\\u53ca\\u65f6\\u4ea4\\u4ed8\\u7387\\u5468\\u8d8b\\u52bf\\u56fe\", \"xaxis\": {\"mirror\": \"all\", \"nticks\": 20, \"showgrid\": true, \"showline\": true, \"title\": \"\\u5468\", \"zeroline\": true}, \"yaxis\": {\"mirror\": \"all\", \"nticks\": 20, \"showgrid\": true, \"showline\": true, \"title\": \"\\u53cd\\u9988\\u53ca\\u65f6\\u7387&\\u6570\\u636e\\u53ca\\u65f6\\u4ea4\\u4ed8\\u7387\", \"zeroline\": true}}, {\"showLink\": true, \"linkText\": \"Export to plot.ly\"})});</script>"
      ]
     },
     "metadata": {},
     "output_type": "display_data"
    },
    {
     "data": {
      "application/vnd.plotly.v1+json": {
       "data": [
        {
         "name": "反馈及时率",
         "type": "scatter",
         "uid": "6bd2d97c-caca-11e8-8d03-a81e84e6c740",
         "x": [
          8,
          9
         ],
         "y": [
          0.9668965517241379,
          0.9795275590551181
         ]
        },
        {
         "name": "数据及时交付率",
         "type": "scatter",
         "uid": "6bd2dcc4-caca-11e8-8d03-a81e84e6c740",
         "x": [
          8,
          9
         ],
         "y": [
          1,
          1
         ]
        }
       ],
       "layout": {
        "title": "反馈及时率&数据及时交付率周趋势图",
        "xaxis": {
         "mirror": "all",
         "nticks": 20,
         "showgrid": true,
         "showline": true,
         "title": "周",
         "zeroline": true
        },
        "yaxis": {
         "mirror": "all",
         "nticks": 20,
         "showgrid": true,
         "showline": true,
         "title": "反馈及时率&数据及时交付率",
         "zeroline": true
        }
       }
      },
      "text/html": [
       "<div id=\"105ebb0f-bff6-482f-a9b9-3b91ef394593\" style=\"height: 525px; width: 100%;\" class=\"plotly-graph-div\"></div><script type=\"text/javascript\">require([\"plotly\"], function(Plotly) { window.PLOTLYENV=window.PLOTLYENV || {};window.PLOTLYENV.BASE_URL=\"https://plot.ly\";Plotly.newPlot(\"105ebb0f-bff6-482f-a9b9-3b91ef394593\", [{\"name\": \"\\u53cd\\u9988\\u53ca\\u65f6\\u7387\", \"x\": [8, 9], \"y\": [0.9668965517241379, 0.9795275590551181], \"type\": \"scatter\", \"uid\": \"6bd2d97c-caca-11e8-8d03-a81e84e6c740\"}, {\"name\": \"\\u6570\\u636e\\u53ca\\u65f6\\u4ea4\\u4ed8\\u7387\", \"x\": [8, 9], \"y\": [1.0, 1.0], \"type\": \"scatter\", \"uid\": \"6bd2dcc4-caca-11e8-8d03-a81e84e6c740\"}], {\"title\": \"\\u53cd\\u9988\\u53ca\\u65f6\\u7387&\\u6570\\u636e\\u53ca\\u65f6\\u4ea4\\u4ed8\\u7387\\u5468\\u8d8b\\u52bf\\u56fe\", \"xaxis\": {\"mirror\": \"all\", \"nticks\": 20, \"showgrid\": true, \"showline\": true, \"title\": \"\\u5468\", \"zeroline\": true}, \"yaxis\": {\"mirror\": \"all\", \"nticks\": 20, \"showgrid\": true, \"showline\": true, \"title\": \"\\u53cd\\u9988\\u53ca\\u65f6\\u7387&\\u6570\\u636e\\u53ca\\u65f6\\u4ea4\\u4ed8\\u7387\", \"zeroline\": true}}, {\"showLink\": true, \"linkText\": \"Export to plot.ly\"})});</script>"
      ],
      "text/vnd.plotly.v1+html": [
       "<div id=\"105ebb0f-bff6-482f-a9b9-3b91ef394593\" style=\"height: 525px; width: 100%;\" class=\"plotly-graph-div\"></div><script type=\"text/javascript\">require([\"plotly\"], function(Plotly) { window.PLOTLYENV=window.PLOTLYENV || {};window.PLOTLYENV.BASE_URL=\"https://plot.ly\";Plotly.newPlot(\"105ebb0f-bff6-482f-a9b9-3b91ef394593\", [{\"name\": \"\\u53cd\\u9988\\u53ca\\u65f6\\u7387\", \"x\": [8, 9], \"y\": [0.9668965517241379, 0.9795275590551181], \"type\": \"scatter\", \"uid\": \"6bd2d97c-caca-11e8-8d03-a81e84e6c740\"}, {\"name\": \"\\u6570\\u636e\\u53ca\\u65f6\\u4ea4\\u4ed8\\u7387\", \"x\": [8, 9], \"y\": [1.0, 1.0], \"type\": \"scatter\", \"uid\": \"6bd2dcc4-caca-11e8-8d03-a81e84e6c740\"}], {\"title\": \"\\u53cd\\u9988\\u53ca\\u65f6\\u7387&\\u6570\\u636e\\u53ca\\u65f6\\u4ea4\\u4ed8\\u7387\\u5468\\u8d8b\\u52bf\\u56fe\", \"xaxis\": {\"mirror\": \"all\", \"nticks\": 20, \"showgrid\": true, \"showline\": true, \"title\": \"\\u5468\", \"zeroline\": true}, \"yaxis\": {\"mirror\": \"all\", \"nticks\": 20, \"showgrid\": true, \"showline\": true, \"title\": \"\\u53cd\\u9988\\u53ca\\u65f6\\u7387&\\u6570\\u636e\\u53ca\\u65f6\\u4ea4\\u4ed8\\u7387\", \"zeroline\": true}}, {\"showLink\": true, \"linkText\": \"Export to plot.ly\"})});</script>"
      ]
     },
     "metadata": {},
     "output_type": "display_data"
    }
   ],
   "source": [
    "ss = myModule.format(all_df1 ,\"日期（格式“月-周次”）\" ,['及时反馈数','下机批次数','数据及时交付数','数据交付总数'])\n",
    "tt = ss.get_total_ratio([['反馈及时率' ,'及时反馈数' , '下机批次数','/'], \n",
    "                    ['数据及时交付率','数据及时交付数','数据交付总数','/']])\n",
    "myModule.myPlot(tt).plot('line')\n",
    "\n",
    "ss = myModule.format(all_df1 ,\"month\" ,['及时反馈数','下机批次数','数据及时交付数','数据交付总数'])\n",
    "tt = ss.get_total_ratio([['反馈及时率' ,'及时反馈数' , '下机批次数','/'], \n",
    "                    ['数据及时交付率','数据及时交付数','数据交付总数','/']])\n",
    "myModule.myPlot(tt).plot('line')\n"
   ]
  },
  {
   "cell_type": "markdown",
   "metadata": {},
   "source": [
    "#### 24h拆分过滤率和48h拆分过滤率"
   ]
  },
  {
   "cell_type": "code",
   "execution_count": 66,
   "metadata": {
    "collapsed": false
   },
   "outputs": [
    {
     "data": {
      "application/vnd.plotly.v1+json": {
       "data": [
        {
         "name": "48h拆分过滤率",
         "type": "scatter",
         "uid": "c425c2ec-caca-11e8-8d03-a81e84e6c740",
         "x": [
          "8-1",
          "8-2",
          "8-3",
          "8-4",
          "8-5",
          "9-1",
          "9-2",
          "9-3",
          "9-4"
         ],
         "y": [
          0.923728813559322,
          0.8121546961325967,
          0.9757575757575757,
          0.9751552795031055,
          0.79,
          0.8492462311557789,
          0.9516129032258065,
          0.7941176470588235,
          0.8181818181818182
         ]
        },
        {
         "name": "24h拆分过滤率",
         "type": "scatter",
         "uid": "c425c648-caca-11e8-8d03-a81e84e6c740",
         "x": [
          "8-1",
          "8-2",
          "8-3",
          "8-4",
          "8-5",
          "9-1",
          "9-2",
          "9-3",
          "9-4"
         ],
         "y": [
          0.6271186440677966,
          0.5359116022099447,
          0.6787878787878788,
          0.9192546583850931,
          0.71,
          0.7286432160804021,
          0.782258064516129,
          0.7426470588235294,
          0.7556818181818182
         ]
        }
       ],
       "layout": {
        "title": "48h拆分过滤率&24h拆分过滤率周趋势图",
        "xaxis": {
         "mirror": "all",
         "nticks": 20,
         "showgrid": true,
         "showline": true,
         "title": "周",
         "zeroline": true
        },
        "yaxis": {
         "mirror": "all",
         "nticks": 20,
         "showgrid": true,
         "showline": true,
         "title": "48h拆分过滤率&24h拆分过滤率",
         "zeroline": true
        }
       }
      },
      "text/html": [
       "<div id=\"0a7cdf56-6f71-4b5a-a312-a41f51c64627\" style=\"height: 525px; width: 100%;\" class=\"plotly-graph-div\"></div><script type=\"text/javascript\">require([\"plotly\"], function(Plotly) { window.PLOTLYENV=window.PLOTLYENV || {};window.PLOTLYENV.BASE_URL=\"https://plot.ly\";Plotly.newPlot(\"0a7cdf56-6f71-4b5a-a312-a41f51c64627\", [{\"name\": \"48h\\u62c6\\u5206\\u8fc7\\u6ee4\\u7387\", \"x\": [\"8-1\", \"8-2\", \"8-3\", \"8-4\", \"8-5\", \"9-1\", \"9-2\", \"9-3\", \"9-4\"], \"y\": [0.923728813559322, 0.8121546961325967, 0.9757575757575757, 0.9751552795031055, 0.79, 0.8492462311557789, 0.9516129032258065, 0.7941176470588235, 0.8181818181818182], \"type\": \"scatter\", \"uid\": \"c425c2ec-caca-11e8-8d03-a81e84e6c740\"}, {\"name\": \"24h\\u62c6\\u5206\\u8fc7\\u6ee4\\u7387\", \"x\": [\"8-1\", \"8-2\", \"8-3\", \"8-4\", \"8-5\", \"9-1\", \"9-2\", \"9-3\", \"9-4\"], \"y\": [0.6271186440677966, 0.5359116022099447, 0.6787878787878788, 0.9192546583850931, 0.71, 0.7286432160804021, 0.782258064516129, 0.7426470588235294, 0.7556818181818182], \"type\": \"scatter\", \"uid\": \"c425c648-caca-11e8-8d03-a81e84e6c740\"}], {\"title\": \"48h\\u62c6\\u5206\\u8fc7\\u6ee4\\u7387&24h\\u62c6\\u5206\\u8fc7\\u6ee4\\u7387\\u5468\\u8d8b\\u52bf\\u56fe\", \"xaxis\": {\"mirror\": \"all\", \"nticks\": 20, \"showgrid\": true, \"showline\": true, \"title\": \"\\u5468\", \"zeroline\": true}, \"yaxis\": {\"mirror\": \"all\", \"nticks\": 20, \"showgrid\": true, \"showline\": true, \"title\": \"48h\\u62c6\\u5206\\u8fc7\\u6ee4\\u7387&24h\\u62c6\\u5206\\u8fc7\\u6ee4\\u7387\", \"zeroline\": true}}, {\"showLink\": true, \"linkText\": \"Export to plot.ly\"})});</script>"
      ],
      "text/vnd.plotly.v1+html": [
       "<div id=\"0a7cdf56-6f71-4b5a-a312-a41f51c64627\" style=\"height: 525px; width: 100%;\" class=\"plotly-graph-div\"></div><script type=\"text/javascript\">require([\"plotly\"], function(Plotly) { window.PLOTLYENV=window.PLOTLYENV || {};window.PLOTLYENV.BASE_URL=\"https://plot.ly\";Plotly.newPlot(\"0a7cdf56-6f71-4b5a-a312-a41f51c64627\", [{\"name\": \"48h\\u62c6\\u5206\\u8fc7\\u6ee4\\u7387\", \"x\": [\"8-1\", \"8-2\", \"8-3\", \"8-4\", \"8-5\", \"9-1\", \"9-2\", \"9-3\", \"9-4\"], \"y\": [0.923728813559322, 0.8121546961325967, 0.9757575757575757, 0.9751552795031055, 0.79, 0.8492462311557789, 0.9516129032258065, 0.7941176470588235, 0.8181818181818182], \"type\": \"scatter\", \"uid\": \"c425c2ec-caca-11e8-8d03-a81e84e6c740\"}, {\"name\": \"24h\\u62c6\\u5206\\u8fc7\\u6ee4\\u7387\", \"x\": [\"8-1\", \"8-2\", \"8-3\", \"8-4\", \"8-5\", \"9-1\", \"9-2\", \"9-3\", \"9-4\"], \"y\": [0.6271186440677966, 0.5359116022099447, 0.6787878787878788, 0.9192546583850931, 0.71, 0.7286432160804021, 0.782258064516129, 0.7426470588235294, 0.7556818181818182], \"type\": \"scatter\", \"uid\": \"c425c648-caca-11e8-8d03-a81e84e6c740\"}], {\"title\": \"48h\\u62c6\\u5206\\u8fc7\\u6ee4\\u7387&24h\\u62c6\\u5206\\u8fc7\\u6ee4\\u7387\\u5468\\u8d8b\\u52bf\\u56fe\", \"xaxis\": {\"mirror\": \"all\", \"nticks\": 20, \"showgrid\": true, \"showline\": true, \"title\": \"\\u5468\", \"zeroline\": true}, \"yaxis\": {\"mirror\": \"all\", \"nticks\": 20, \"showgrid\": true, \"showline\": true, \"title\": \"48h\\u62c6\\u5206\\u8fc7\\u6ee4\\u7387&24h\\u62c6\\u5206\\u8fc7\\u6ee4\\u7387\", \"zeroline\": true}}, {\"showLink\": true, \"linkText\": \"Export to plot.ly\"})});</script>"
      ]
     },
     "metadata": {},
     "output_type": "display_data"
    },
    {
     "data": {
      "application/vnd.plotly.v1+json": {
       "data": [
        {
         "name": "48h拆分过滤率",
         "type": "scatter",
         "uid": "c42e8ed6-caca-11e8-8d03-a81e84e6c740",
         "x": [
          8,
          9
         ],
         "y": [
          0.9006896551724138,
          0.8488188976377953
         ]
        },
        {
         "name": "24h拆分过滤率",
         "type": "scatter",
         "uid": "c42e99d0-caca-11e8-8d03-a81e84e6c740",
         "x": [
          8,
          9
         ],
         "y": [
          0.6924137931034483,
          0.7496062992125985
         ]
        }
       ],
       "layout": {
        "title": "48h拆分过滤率&24h拆分过滤率周趋势图",
        "xaxis": {
         "mirror": "all",
         "nticks": 20,
         "showgrid": true,
         "showline": true,
         "title": "周",
         "zeroline": true
        },
        "yaxis": {
         "mirror": "all",
         "nticks": 20,
         "showgrid": true,
         "showline": true,
         "title": "48h拆分过滤率&24h拆分过滤率",
         "zeroline": true
        }
       }
      },
      "text/html": [
       "<div id=\"be406efa-f37b-4fce-b206-a5b9d48ee826\" style=\"height: 525px; width: 100%;\" class=\"plotly-graph-div\"></div><script type=\"text/javascript\">require([\"plotly\"], function(Plotly) { window.PLOTLYENV=window.PLOTLYENV || {};window.PLOTLYENV.BASE_URL=\"https://plot.ly\";Plotly.newPlot(\"be406efa-f37b-4fce-b206-a5b9d48ee826\", [{\"name\": \"48h\\u62c6\\u5206\\u8fc7\\u6ee4\\u7387\", \"x\": [8, 9], \"y\": [0.9006896551724138, 0.8488188976377953], \"type\": \"scatter\", \"uid\": \"c42e8ed6-caca-11e8-8d03-a81e84e6c740\"}, {\"name\": \"24h\\u62c6\\u5206\\u8fc7\\u6ee4\\u7387\", \"x\": [8, 9], \"y\": [0.6924137931034483, 0.7496062992125985], \"type\": \"scatter\", \"uid\": \"c42e99d0-caca-11e8-8d03-a81e84e6c740\"}], {\"title\": \"48h\\u62c6\\u5206\\u8fc7\\u6ee4\\u7387&24h\\u62c6\\u5206\\u8fc7\\u6ee4\\u7387\\u5468\\u8d8b\\u52bf\\u56fe\", \"xaxis\": {\"mirror\": \"all\", \"nticks\": 20, \"showgrid\": true, \"showline\": true, \"title\": \"\\u5468\", \"zeroline\": true}, \"yaxis\": {\"mirror\": \"all\", \"nticks\": 20, \"showgrid\": true, \"showline\": true, \"title\": \"48h\\u62c6\\u5206\\u8fc7\\u6ee4\\u7387&24h\\u62c6\\u5206\\u8fc7\\u6ee4\\u7387\", \"zeroline\": true}}, {\"showLink\": true, \"linkText\": \"Export to plot.ly\"})});</script>"
      ],
      "text/vnd.plotly.v1+html": [
       "<div id=\"be406efa-f37b-4fce-b206-a5b9d48ee826\" style=\"height: 525px; width: 100%;\" class=\"plotly-graph-div\"></div><script type=\"text/javascript\">require([\"plotly\"], function(Plotly) { window.PLOTLYENV=window.PLOTLYENV || {};window.PLOTLYENV.BASE_URL=\"https://plot.ly\";Plotly.newPlot(\"be406efa-f37b-4fce-b206-a5b9d48ee826\", [{\"name\": \"48h\\u62c6\\u5206\\u8fc7\\u6ee4\\u7387\", \"x\": [8, 9], \"y\": [0.9006896551724138, 0.8488188976377953], \"type\": \"scatter\", \"uid\": \"c42e8ed6-caca-11e8-8d03-a81e84e6c740\"}, {\"name\": \"24h\\u62c6\\u5206\\u8fc7\\u6ee4\\u7387\", \"x\": [8, 9], \"y\": [0.6924137931034483, 0.7496062992125985], \"type\": \"scatter\", \"uid\": \"c42e99d0-caca-11e8-8d03-a81e84e6c740\"}], {\"title\": \"48h\\u62c6\\u5206\\u8fc7\\u6ee4\\u7387&24h\\u62c6\\u5206\\u8fc7\\u6ee4\\u7387\\u5468\\u8d8b\\u52bf\\u56fe\", \"xaxis\": {\"mirror\": \"all\", \"nticks\": 20, \"showgrid\": true, \"showline\": true, \"title\": \"\\u5468\", \"zeroline\": true}, \"yaxis\": {\"mirror\": \"all\", \"nticks\": 20, \"showgrid\": true, \"showline\": true, \"title\": \"48h\\u62c6\\u5206\\u8fc7\\u6ee4\\u7387&24h\\u62c6\\u5206\\u8fc7\\u6ee4\\u7387\", \"zeroline\": true}}, {\"showLink\": true, \"linkText\": \"Export to plot.ly\"})});</script>"
      ]
     },
     "metadata": {},
     "output_type": "display_data"
    }
   ],
   "source": [
    "ss = myModule.format(all_df1 ,\"日期（格式“月-周次”）\" ,['24h完成批次数', '下机批次数','48h完成批次数'])\n",
    "tt = ss.get_total_ratio([['24h拆分过滤率' ,'24h完成批次数', '下机批次数','/'], \n",
    "                    ['48h拆分过滤率','48h完成批次数', '下机批次数','/']])\n",
    "myModule.myPlot(tt).plot('line')\n",
    "\n",
    "ss = myModule.format(all_df1 ,\"month\" ,['24h完成批次数', '下机批次数','48h完成批次数'])\n",
    "tt = ss.get_total_ratio([['24h拆分过滤率' ,'24h完成批次数', '下机批次数','/'], \n",
    "                    ['48h拆分过滤率','48h完成批次数', '下机批次数','/']])\n",
    "myModule.myPlot(tt).plot('line')"
   ]
  },
  {
   "cell_type": "markdown",
   "metadata": {},
   "source": [
    "#### 平均反馈时长"
   ]
  },
  {
   "cell_type": "code",
   "execution_count": 69,
   "metadata": {
    "collapsed": false
   },
   "outputs": [
    {
     "data": {
      "application/vnd.plotly.v1+json": {
       "data": [
        {
         "name": "平均反馈时长",
         "type": "scatter",
         "uid": "2da1651e-cacb-11e8-8d03-a81e84e6c740",
         "x": [
          "8-1",
          "8-2",
          "8-3",
          "8-4",
          "8-5",
          "9-1",
          "9-2",
          "9-3",
          "9-4"
         ],
         "y": [
          6.4072881355932205,
          4.446298342541437,
          5.337454545454546,
          4.985962732919255,
          6.498000000000001,
          9.664371859296482,
          7.4699193548387095,
          3.604632352941177,
          3.2088068181818183
         ]
        }
       ],
       "layout": {
        "title": "平均反馈时长周趋势图",
        "xaxis": {
         "mirror": "all",
         "nticks": 20,
         "showgrid": true,
         "showline": true,
         "title": "周",
         "zeroline": true
        },
        "yaxis": {
         "mirror": "all",
         "nticks": 20,
         "showgrid": true,
         "showline": true,
         "title": "平均反馈时长",
         "zeroline": true
        }
       }
      },
      "text/html": [
       "<div id=\"db3ebed2-cf53-4abf-a0bf-0a049f48cf0f\" style=\"height: 525px; width: 100%;\" class=\"plotly-graph-div\"></div><script type=\"text/javascript\">require([\"plotly\"], function(Plotly) { window.PLOTLYENV=window.PLOTLYENV || {};window.PLOTLYENV.BASE_URL=\"https://plot.ly\";Plotly.newPlot(\"db3ebed2-cf53-4abf-a0bf-0a049f48cf0f\", [{\"name\": \"\\u5e73\\u5747\\u53cd\\u9988\\u65f6\\u957f\", \"x\": [\"8-1\", \"8-2\", \"8-3\", \"8-4\", \"8-5\", \"9-1\", \"9-2\", \"9-3\", \"9-4\"], \"y\": [6.4072881355932205, 4.446298342541437, 5.337454545454546, 4.985962732919255, 6.498000000000001, 9.664371859296482, 7.4699193548387095, 3.604632352941177, 3.2088068181818183], \"type\": \"scatter\", \"uid\": \"2da1651e-cacb-11e8-8d03-a81e84e6c740\"}], {\"title\": \"\\u5e73\\u5747\\u53cd\\u9988\\u65f6\\u957f\\u5468\\u8d8b\\u52bf\\u56fe\", \"xaxis\": {\"mirror\": \"all\", \"nticks\": 20, \"showgrid\": true, \"showline\": true, \"title\": \"\\u5468\", \"zeroline\": true}, \"yaxis\": {\"mirror\": \"all\", \"nticks\": 20, \"showgrid\": true, \"showline\": true, \"title\": \"\\u5e73\\u5747\\u53cd\\u9988\\u65f6\\u957f\", \"zeroline\": true}}, {\"showLink\": true, \"linkText\": \"Export to plot.ly\"})});</script>"
      ],
      "text/vnd.plotly.v1+html": [
       "<div id=\"db3ebed2-cf53-4abf-a0bf-0a049f48cf0f\" style=\"height: 525px; width: 100%;\" class=\"plotly-graph-div\"></div><script type=\"text/javascript\">require([\"plotly\"], function(Plotly) { window.PLOTLYENV=window.PLOTLYENV || {};window.PLOTLYENV.BASE_URL=\"https://plot.ly\";Plotly.newPlot(\"db3ebed2-cf53-4abf-a0bf-0a049f48cf0f\", [{\"name\": \"\\u5e73\\u5747\\u53cd\\u9988\\u65f6\\u957f\", \"x\": [\"8-1\", \"8-2\", \"8-3\", \"8-4\", \"8-5\", \"9-1\", \"9-2\", \"9-3\", \"9-4\"], \"y\": [6.4072881355932205, 4.446298342541437, 5.337454545454546, 4.985962732919255, 6.498000000000001, 9.664371859296482, 7.4699193548387095, 3.604632352941177, 3.2088068181818183], \"type\": \"scatter\", \"uid\": \"2da1651e-cacb-11e8-8d03-a81e84e6c740\"}], {\"title\": \"\\u5e73\\u5747\\u53cd\\u9988\\u65f6\\u957f\\u5468\\u8d8b\\u52bf\\u56fe\", \"xaxis\": {\"mirror\": \"all\", \"nticks\": 20, \"showgrid\": true, \"showline\": true, \"title\": \"\\u5468\", \"zeroline\": true}, \"yaxis\": {\"mirror\": \"all\", \"nticks\": 20, \"showgrid\": true, \"showline\": true, \"title\": \"\\u5e73\\u5747\\u53cd\\u9988\\u65f6\\u957f\", \"zeroline\": true}}, {\"showLink\": true, \"linkText\": \"Export to plot.ly\"})});</script>"
      ]
     },
     "metadata": {},
     "output_type": "display_data"
    },
    {
     "data": {
      "application/vnd.plotly.v1+json": {
       "data": [
        {
         "name": "平均反馈时长",
         "type": "scatter",
         "uid": "2dac4dee-cacb-11e8-8d03-a81e84e6c740",
         "x": [
          8,
          9
         ],
         "y": [
          5.371117241379309,
          6.148755905511811
         ]
        }
       ],
       "layout": {
        "title": "平均反馈时长周趋势图",
        "xaxis": {
         "mirror": "all",
         "nticks": 20,
         "showgrid": true,
         "showline": true,
         "title": "周",
         "zeroline": true
        },
        "yaxis": {
         "mirror": "all",
         "nticks": 20,
         "showgrid": true,
         "showline": true,
         "title": "平均反馈时长",
         "zeroline": true
        }
       }
      },
      "text/html": [
       "<div id=\"e8388515-7de1-4890-9a40-10f344cbc624\" style=\"height: 525px; width: 100%;\" class=\"plotly-graph-div\"></div><script type=\"text/javascript\">require([\"plotly\"], function(Plotly) { window.PLOTLYENV=window.PLOTLYENV || {};window.PLOTLYENV.BASE_URL=\"https://plot.ly\";Plotly.newPlot(\"e8388515-7de1-4890-9a40-10f344cbc624\", [{\"name\": \"\\u5e73\\u5747\\u53cd\\u9988\\u65f6\\u957f\", \"x\": [8, 9], \"y\": [5.371117241379309, 6.148755905511811], \"type\": \"scatter\", \"uid\": \"2dac4dee-cacb-11e8-8d03-a81e84e6c740\"}], {\"title\": \"\\u5e73\\u5747\\u53cd\\u9988\\u65f6\\u957f\\u5468\\u8d8b\\u52bf\\u56fe\", \"xaxis\": {\"mirror\": \"all\", \"nticks\": 20, \"showgrid\": true, \"showline\": true, \"title\": \"\\u5468\", \"zeroline\": true}, \"yaxis\": {\"mirror\": \"all\", \"nticks\": 20, \"showgrid\": true, \"showline\": true, \"title\": \"\\u5e73\\u5747\\u53cd\\u9988\\u65f6\\u957f\", \"zeroline\": true}}, {\"showLink\": true, \"linkText\": \"Export to plot.ly\"})});</script>"
      ],
      "text/vnd.plotly.v1+html": [
       "<div id=\"e8388515-7de1-4890-9a40-10f344cbc624\" style=\"height: 525px; width: 100%;\" class=\"plotly-graph-div\"></div><script type=\"text/javascript\">require([\"plotly\"], function(Plotly) { window.PLOTLYENV=window.PLOTLYENV || {};window.PLOTLYENV.BASE_URL=\"https://plot.ly\";Plotly.newPlot(\"e8388515-7de1-4890-9a40-10f344cbc624\", [{\"name\": \"\\u5e73\\u5747\\u53cd\\u9988\\u65f6\\u957f\", \"x\": [8, 9], \"y\": [5.371117241379309, 6.148755905511811], \"type\": \"scatter\", \"uid\": \"2dac4dee-cacb-11e8-8d03-a81e84e6c740\"}], {\"title\": \"\\u5e73\\u5747\\u53cd\\u9988\\u65f6\\u957f\\u5468\\u8d8b\\u52bf\\u56fe\", \"xaxis\": {\"mirror\": \"all\", \"nticks\": 20, \"showgrid\": true, \"showline\": true, \"title\": \"\\u5468\", \"zeroline\": true}, \"yaxis\": {\"mirror\": \"all\", \"nticks\": 20, \"showgrid\": true, \"showline\": true, \"title\": \"\\u5e73\\u5747\\u53cd\\u9988\\u65f6\\u957f\", \"zeroline\": true}}, {\"showLink\": true, \"linkText\": \"Export to plot.ly\"})});</script>"
      ]
     },
     "metadata": {},
     "output_type": "display_data"
    }
   ],
   "source": [
    "ss = myModule.format(all_df1 ,\"日期（格式“月-周次”）\" ,['反馈总时长','下机批次数'])\n",
    "tt = ss.get_total_ratio([['平均反馈时长','反馈总时长','下机批次数','/']] )\n",
    "myModule.myPlot(tt).plot('line')\n",
    "\n",
    "ss = myModule.format(all_df1 ,\"month\" ,['反馈总时长','下机批次数'])\n",
    "tt = ss.get_total_ratio([['平均反馈时长','反馈总时长','下机批次数','/']] )\n",
    "myModule.myPlot(tt).plot('line')\n"
   ]
  },
  {
   "cell_type": "markdown",
   "metadata": {},
   "source": [
    "### 异常"
   ]
  },
  {
   "cell_type": "markdown",
   "metadata": {},
   "source": [
    "#### 个性化拆分"
   ]
  },
  {
   "cell_type": "code",
   "execution_count": 74,
   "metadata": {
    "collapsed": false
   },
   "outputs": [
    {
     "data": {
      "application/vnd.plotly.v1+json": {
       "data": [
        {
         "name": "个性化数",
         "type": "scatter",
         "uid": "b8d5c72e-cacb-11e8-8d03-a81e84e6c740",
         "x": [
          "8-1",
          "8-2",
          "8-3",
          "8-4",
          "8-5",
          "9-1",
          "9-2",
          "9-3",
          "9-4"
         ],
         "y": [
          0,
          0,
          0,
          0,
          0,
          0,
          0,
          1,
          3
         ]
        }
       ],
       "layout": {
        "title": "个性化数周趋势图",
        "xaxis": {
         "mirror": "all",
         "nticks": 20,
         "showgrid": true,
         "showline": true,
         "title": "周",
         "zeroline": true
        },
        "yaxis": {
         "mirror": "all",
         "nticks": 20,
         "showgrid": true,
         "showline": true,
         "title": "个性化数",
         "zeroline": true
        }
       }
      },
      "text/html": [
       "<div id=\"7b8e0dd9-dace-4530-bfc7-9da55e2fc6df\" style=\"height: 525px; width: 100%;\" class=\"plotly-graph-div\"></div><script type=\"text/javascript\">require([\"plotly\"], function(Plotly) { window.PLOTLYENV=window.PLOTLYENV || {};window.PLOTLYENV.BASE_URL=\"https://plot.ly\";Plotly.newPlot(\"7b8e0dd9-dace-4530-bfc7-9da55e2fc6df\", [{\"name\": \"\\u4e2a\\u6027\\u5316\\u6570\", \"x\": [\"8-1\", \"8-2\", \"8-3\", \"8-4\", \"8-5\", \"9-1\", \"9-2\", \"9-3\", \"9-4\"], \"y\": [0, 0, 0, 0, 0, 0, 0, 1, 3], \"type\": \"scatter\", \"uid\": \"b8d5c72e-cacb-11e8-8d03-a81e84e6c740\"}], {\"title\": \"\\u4e2a\\u6027\\u5316\\u6570\\u5468\\u8d8b\\u52bf\\u56fe\", \"xaxis\": {\"mirror\": \"all\", \"nticks\": 20, \"showgrid\": true, \"showline\": true, \"title\": \"\\u5468\", \"zeroline\": true}, \"yaxis\": {\"mirror\": \"all\", \"nticks\": 20, \"showgrid\": true, \"showline\": true, \"title\": \"\\u4e2a\\u6027\\u5316\\u6570\", \"zeroline\": true}}, {\"showLink\": true, \"linkText\": \"Export to plot.ly\"})});</script>"
      ],
      "text/vnd.plotly.v1+html": [
       "<div id=\"7b8e0dd9-dace-4530-bfc7-9da55e2fc6df\" style=\"height: 525px; width: 100%;\" class=\"plotly-graph-div\"></div><script type=\"text/javascript\">require([\"plotly\"], function(Plotly) { window.PLOTLYENV=window.PLOTLYENV || {};window.PLOTLYENV.BASE_URL=\"https://plot.ly\";Plotly.newPlot(\"7b8e0dd9-dace-4530-bfc7-9da55e2fc6df\", [{\"name\": \"\\u4e2a\\u6027\\u5316\\u6570\", \"x\": [\"8-1\", \"8-2\", \"8-3\", \"8-4\", \"8-5\", \"9-1\", \"9-2\", \"9-3\", \"9-4\"], \"y\": [0, 0, 0, 0, 0, 0, 0, 1, 3], \"type\": \"scatter\", \"uid\": \"b8d5c72e-cacb-11e8-8d03-a81e84e6c740\"}], {\"title\": \"\\u4e2a\\u6027\\u5316\\u6570\\u5468\\u8d8b\\u52bf\\u56fe\", \"xaxis\": {\"mirror\": \"all\", \"nticks\": 20, \"showgrid\": true, \"showline\": true, \"title\": \"\\u5468\", \"zeroline\": true}, \"yaxis\": {\"mirror\": \"all\", \"nticks\": 20, \"showgrid\": true, \"showline\": true, \"title\": \"\\u4e2a\\u6027\\u5316\\u6570\", \"zeroline\": true}}, {\"showLink\": true, \"linkText\": \"Export to plot.ly\"})});</script>"
      ]
     },
     "metadata": {},
     "output_type": "display_data"
    },
    {
     "data": {
      "application/vnd.plotly.v1+json": {
       "data": [
        {
         "name": "个性化数",
         "type": "scatter",
         "uid": "b8dcbc5a-cacb-11e8-8d03-a81e84e6c740",
         "x": [
          8,
          9
         ],
         "y": [
          0,
          4
         ]
        }
       ],
       "layout": {
        "title": "个性化数月趋势图",
        "xaxis": {
         "mirror": "all",
         "nticks": 20,
         "showgrid": true,
         "showline": true,
         "title": "月",
         "zeroline": true
        },
        "yaxis": {
         "mirror": "all",
         "nticks": 20,
         "showgrid": true,
         "showline": true,
         "title": "个性化数",
         "zeroline": true
        }
       }
      },
      "text/html": [
       "<div id=\"418973c4-883f-4a20-8573-b0ce38c7bbd5\" style=\"height: 525px; width: 100%;\" class=\"plotly-graph-div\"></div><script type=\"text/javascript\">require([\"plotly\"], function(Plotly) { window.PLOTLYENV=window.PLOTLYENV || {};window.PLOTLYENV.BASE_URL=\"https://plot.ly\";Plotly.newPlot(\"418973c4-883f-4a20-8573-b0ce38c7bbd5\", [{\"name\": \"\\u4e2a\\u6027\\u5316\\u6570\", \"x\": [8, 9], \"y\": [0, 4], \"type\": \"scatter\", \"uid\": \"b8dcbc5a-cacb-11e8-8d03-a81e84e6c740\"}], {\"title\": \"\\u4e2a\\u6027\\u5316\\u6570\\u6708\\u8d8b\\u52bf\\u56fe\", \"xaxis\": {\"mirror\": \"all\", \"nticks\": 20, \"showgrid\": true, \"showline\": true, \"title\": \"\\u6708\", \"zeroline\": true}, \"yaxis\": {\"mirror\": \"all\", \"nticks\": 20, \"showgrid\": true, \"showline\": true, \"title\": \"\\u4e2a\\u6027\\u5316\\u6570\", \"zeroline\": true}}, {\"showLink\": true, \"linkText\": \"Export to plot.ly\"})});</script>"
      ],
      "text/vnd.plotly.v1+html": [
       "<div id=\"418973c4-883f-4a20-8573-b0ce38c7bbd5\" style=\"height: 525px; width: 100%;\" class=\"plotly-graph-div\"></div><script type=\"text/javascript\">require([\"plotly\"], function(Plotly) { window.PLOTLYENV=window.PLOTLYENV || {};window.PLOTLYENV.BASE_URL=\"https://plot.ly\";Plotly.newPlot(\"418973c4-883f-4a20-8573-b0ce38c7bbd5\", [{\"name\": \"\\u4e2a\\u6027\\u5316\\u6570\", \"x\": [8, 9], \"y\": [0, 4], \"type\": \"scatter\", \"uid\": \"b8dcbc5a-cacb-11e8-8d03-a81e84e6c740\"}], {\"title\": \"\\u4e2a\\u6027\\u5316\\u6570\\u6708\\u8d8b\\u52bf\\u56fe\", \"xaxis\": {\"mirror\": \"all\", \"nticks\": 20, \"showgrid\": true, \"showline\": true, \"title\": \"\\u6708\", \"zeroline\": true}, \"yaxis\": {\"mirror\": \"all\", \"nticks\": 20, \"showgrid\": true, \"showline\": true, \"title\": \"\\u4e2a\\u6027\\u5316\\u6570\", \"zeroline\": true}}, {\"showLink\": true, \"linkText\": \"Export to plot.ly\"})});</script>"
      ]
     },
     "metadata": {},
     "output_type": "display_data"
    }
   ],
   "source": [
    "ss = myModule.format(all_df1 ,\"日期（格式“月-周次”）\" ,['个性化数'])\n",
    "myModule.myPlot(ss.groupby('sum')).plot('line')\n",
    "\n",
    "ss = myModule.format(all_df1 ,\"month\" ,['个性化数'])\n",
    "myModule.myPlot(ss.groupby('sum')).plot('line','月')"
   ]
  },
  {
   "cell_type": "markdown",
   "metadata": {},
   "source": [
    "#### lims异常数和下单错误数"
   ]
  },
  {
   "cell_type": "code",
   "execution_count": 75,
   "metadata": {
    "collapsed": false
   },
   "outputs": [
    {
     "data": {
      "application/vnd.plotly.v1+json": {
       "data": [
        {
         "name": "lims异常数",
         "type": "scatter",
         "uid": "be46a7f0-cacb-11e8-8d03-a81e84e6c740",
         "x": [
          "8-1",
          "8-2",
          "8-3",
          "8-4",
          "8-5",
          "9-1",
          "9-2",
          "9-3",
          "9-4"
         ],
         "y": [
          2,
          2,
          2,
          1,
          2,
          1,
          0,
          0,
          1
         ]
        },
        {
         "name": "下单错误数",
         "type": "scatter",
         "uid": "be46ac96-cacb-11e8-8d03-a81e84e6c740",
         "x": [
          "8-1",
          "8-2",
          "8-3",
          "8-4",
          "8-5",
          "9-1",
          "9-2",
          "9-3",
          "9-4"
         ],
         "y": [
          1,
          0,
          6,
          1,
          1,
          1,
          1,
          0,
          0
         ]
        }
       ],
       "layout": {
        "title": "lims异常数&下单错误数周趋势图",
        "xaxis": {
         "mirror": "all",
         "nticks": 20,
         "showgrid": true,
         "showline": true,
         "title": "周",
         "zeroline": true
        },
        "yaxis": {
         "mirror": "all",
         "nticks": 20,
         "showgrid": true,
         "showline": true,
         "title": "lims异常数&下单错误数",
         "zeroline": true
        }
       }
      },
      "text/html": [
       "<div id=\"b2e64fef-caa1-449c-8544-c297c08c0be1\" style=\"height: 525px; width: 100%;\" class=\"plotly-graph-div\"></div><script type=\"text/javascript\">require([\"plotly\"], function(Plotly) { window.PLOTLYENV=window.PLOTLYENV || {};window.PLOTLYENV.BASE_URL=\"https://plot.ly\";Plotly.newPlot(\"b2e64fef-caa1-449c-8544-c297c08c0be1\", [{\"name\": \"lims\\u5f02\\u5e38\\u6570\", \"x\": [\"8-1\", \"8-2\", \"8-3\", \"8-4\", \"8-5\", \"9-1\", \"9-2\", \"9-3\", \"9-4\"], \"y\": [2, 2, 2, 1, 2, 1, 0, 0, 1], \"type\": \"scatter\", \"uid\": \"be46a7f0-cacb-11e8-8d03-a81e84e6c740\"}, {\"name\": \"\\u4e0b\\u5355\\u9519\\u8bef\\u6570\", \"x\": [\"8-1\", \"8-2\", \"8-3\", \"8-4\", \"8-5\", \"9-1\", \"9-2\", \"9-3\", \"9-4\"], \"y\": [1, 0, 6, 1, 1, 1, 1, 0, 0], \"type\": \"scatter\", \"uid\": \"be46ac96-cacb-11e8-8d03-a81e84e6c740\"}], {\"title\": \"lims\\u5f02\\u5e38\\u6570&\\u4e0b\\u5355\\u9519\\u8bef\\u6570\\u5468\\u8d8b\\u52bf\\u56fe\", \"xaxis\": {\"mirror\": \"all\", \"nticks\": 20, \"showgrid\": true, \"showline\": true, \"title\": \"\\u5468\", \"zeroline\": true}, \"yaxis\": {\"mirror\": \"all\", \"nticks\": 20, \"showgrid\": true, \"showline\": true, \"title\": \"lims\\u5f02\\u5e38\\u6570&\\u4e0b\\u5355\\u9519\\u8bef\\u6570\", \"zeroline\": true}}, {\"showLink\": true, \"linkText\": \"Export to plot.ly\"})});</script>"
      ],
      "text/vnd.plotly.v1+html": [
       "<div id=\"b2e64fef-caa1-449c-8544-c297c08c0be1\" style=\"height: 525px; width: 100%;\" class=\"plotly-graph-div\"></div><script type=\"text/javascript\">require([\"plotly\"], function(Plotly) { window.PLOTLYENV=window.PLOTLYENV || {};window.PLOTLYENV.BASE_URL=\"https://plot.ly\";Plotly.newPlot(\"b2e64fef-caa1-449c-8544-c297c08c0be1\", [{\"name\": \"lims\\u5f02\\u5e38\\u6570\", \"x\": [\"8-1\", \"8-2\", \"8-3\", \"8-4\", \"8-5\", \"9-1\", \"9-2\", \"9-3\", \"9-4\"], \"y\": [2, 2, 2, 1, 2, 1, 0, 0, 1], \"type\": \"scatter\", \"uid\": \"be46a7f0-cacb-11e8-8d03-a81e84e6c740\"}, {\"name\": \"\\u4e0b\\u5355\\u9519\\u8bef\\u6570\", \"x\": [\"8-1\", \"8-2\", \"8-3\", \"8-4\", \"8-5\", \"9-1\", \"9-2\", \"9-3\", \"9-4\"], \"y\": [1, 0, 6, 1, 1, 1, 1, 0, 0], \"type\": \"scatter\", \"uid\": \"be46ac96-cacb-11e8-8d03-a81e84e6c740\"}], {\"title\": \"lims\\u5f02\\u5e38\\u6570&\\u4e0b\\u5355\\u9519\\u8bef\\u6570\\u5468\\u8d8b\\u52bf\\u56fe\", \"xaxis\": {\"mirror\": \"all\", \"nticks\": 20, \"showgrid\": true, \"showline\": true, \"title\": \"\\u5468\", \"zeroline\": true}, \"yaxis\": {\"mirror\": \"all\", \"nticks\": 20, \"showgrid\": true, \"showline\": true, \"title\": \"lims\\u5f02\\u5e38\\u6570&\\u4e0b\\u5355\\u9519\\u8bef\\u6570\", \"zeroline\": true}}, {\"showLink\": true, \"linkText\": \"Export to plot.ly\"})});</script>"
      ]
     },
     "metadata": {},
     "output_type": "display_data"
    },
    {
     "data": {
      "application/vnd.plotly.v1+json": {
       "data": [
        {
         "name": "lims异常数",
         "type": "scatter",
         "uid": "be528b60-cacb-11e8-8d03-a81e84e6c740",
         "x": [
          8,
          9
         ],
         "y": [
          9,
          2
         ]
        },
        {
         "name": "下单错误数",
         "type": "scatter",
         "uid": "be528ebc-cacb-11e8-8d03-a81e84e6c740",
         "x": [
          8,
          9
         ],
         "y": [
          9,
          2
         ]
        }
       ],
       "layout": {
        "title": "lims异常数&下单错误数月趋势图",
        "xaxis": {
         "mirror": "all",
         "nticks": 20,
         "showgrid": true,
         "showline": true,
         "title": "月",
         "zeroline": true
        },
        "yaxis": {
         "mirror": "all",
         "nticks": 20,
         "showgrid": true,
         "showline": true,
         "title": "lims异常数&下单错误数",
         "zeroline": true
        }
       }
      },
      "text/html": [
       "<div id=\"5ec4995a-ba73-4a5e-8054-22397436d52e\" style=\"height: 525px; width: 100%;\" class=\"plotly-graph-div\"></div><script type=\"text/javascript\">require([\"plotly\"], function(Plotly) { window.PLOTLYENV=window.PLOTLYENV || {};window.PLOTLYENV.BASE_URL=\"https://plot.ly\";Plotly.newPlot(\"5ec4995a-ba73-4a5e-8054-22397436d52e\", [{\"name\": \"lims\\u5f02\\u5e38\\u6570\", \"x\": [8, 9], \"y\": [9, 2], \"type\": \"scatter\", \"uid\": \"be528b60-cacb-11e8-8d03-a81e84e6c740\"}, {\"name\": \"\\u4e0b\\u5355\\u9519\\u8bef\\u6570\", \"x\": [8, 9], \"y\": [9, 2], \"type\": \"scatter\", \"uid\": \"be528ebc-cacb-11e8-8d03-a81e84e6c740\"}], {\"title\": \"lims\\u5f02\\u5e38\\u6570&\\u4e0b\\u5355\\u9519\\u8bef\\u6570\\u6708\\u8d8b\\u52bf\\u56fe\", \"xaxis\": {\"mirror\": \"all\", \"nticks\": 20, \"showgrid\": true, \"showline\": true, \"title\": \"\\u6708\", \"zeroline\": true}, \"yaxis\": {\"mirror\": \"all\", \"nticks\": 20, \"showgrid\": true, \"showline\": true, \"title\": \"lims\\u5f02\\u5e38\\u6570&\\u4e0b\\u5355\\u9519\\u8bef\\u6570\", \"zeroline\": true}}, {\"showLink\": true, \"linkText\": \"Export to plot.ly\"})});</script>"
      ],
      "text/vnd.plotly.v1+html": [
       "<div id=\"5ec4995a-ba73-4a5e-8054-22397436d52e\" style=\"height: 525px; width: 100%;\" class=\"plotly-graph-div\"></div><script type=\"text/javascript\">require([\"plotly\"], function(Plotly) { window.PLOTLYENV=window.PLOTLYENV || {};window.PLOTLYENV.BASE_URL=\"https://plot.ly\";Plotly.newPlot(\"5ec4995a-ba73-4a5e-8054-22397436d52e\", [{\"name\": \"lims\\u5f02\\u5e38\\u6570\", \"x\": [8, 9], \"y\": [9, 2], \"type\": \"scatter\", \"uid\": \"be528b60-cacb-11e8-8d03-a81e84e6c740\"}, {\"name\": \"\\u4e0b\\u5355\\u9519\\u8bef\\u6570\", \"x\": [8, 9], \"y\": [9, 2], \"type\": \"scatter\", \"uid\": \"be528ebc-cacb-11e8-8d03-a81e84e6c740\"}], {\"title\": \"lims\\u5f02\\u5e38\\u6570&\\u4e0b\\u5355\\u9519\\u8bef\\u6570\\u6708\\u8d8b\\u52bf\\u56fe\", \"xaxis\": {\"mirror\": \"all\", \"nticks\": 20, \"showgrid\": true, \"showline\": true, \"title\": \"\\u6708\", \"zeroline\": true}, \"yaxis\": {\"mirror\": \"all\", \"nticks\": 20, \"showgrid\": true, \"showline\": true, \"title\": \"lims\\u5f02\\u5e38\\u6570&\\u4e0b\\u5355\\u9519\\u8bef\\u6570\", \"zeroline\": true}}, {\"showLink\": true, \"linkText\": \"Export to plot.ly\"})});</script>"
      ]
     },
     "metadata": {},
     "output_type": "display_data"
    }
   ],
   "source": [
    "ss = myModule.format(all_df1 ,\"日期（格式“月-周次”）\" ,['lims异常数' , '下单错误数'])\n",
    "myModule.myPlot(ss.groupby('sum')).plot('line')\n",
    "\n",
    "ss = myModule.format(all_df1 ,\"month\" ,['lims异常数' , '下单错误数'])\n",
    "myModule.myPlot(ss.groupby('sum')).plot('line','月')"
   ]
  },
  {
   "cell_type": "markdown",
   "metadata": {},
   "source": [
    "#### 过滤流程异常数"
   ]
  },
  {
   "cell_type": "code",
   "execution_count": 76,
   "metadata": {
    "collapsed": false
   },
   "outputs": [
    {
     "data": {
      "application/vnd.plotly.v1+json": {
       "data": [
        {
         "name": "过滤流程异常数",
         "type": "scatter",
         "uid": "d11d9be0-cacb-11e8-8d03-a81e84e6c740",
         "x": [
          "8-1",
          "8-2",
          "8-3",
          "8-4",
          "8-5",
          "9-1",
          "9-2",
          "9-3",
          "9-4"
         ],
         "y": [
          0,
          1,
          0,
          0,
          2,
          1,
          0,
          0,
          0
         ]
        }
       ],
       "layout": {
        "title": "过滤流程异常数周趋势图",
        "xaxis": {
         "mirror": "all",
         "nticks": 20,
         "showgrid": true,
         "showline": true,
         "title": "周",
         "zeroline": true
        },
        "yaxis": {
         "mirror": "all",
         "nticks": 20,
         "showgrid": true,
         "showline": true,
         "title": "过滤流程异常数",
         "zeroline": true
        }
       }
      },
      "text/html": [
       "<div id=\"0456567a-8bf3-4da8-a101-fe599908fa6f\" style=\"height: 525px; width: 100%;\" class=\"plotly-graph-div\"></div><script type=\"text/javascript\">require([\"plotly\"], function(Plotly) { window.PLOTLYENV=window.PLOTLYENV || {};window.PLOTLYENV.BASE_URL=\"https://plot.ly\";Plotly.newPlot(\"0456567a-8bf3-4da8-a101-fe599908fa6f\", [{\"name\": \"\\u8fc7\\u6ee4\\u6d41\\u7a0b\\u5f02\\u5e38\\u6570\", \"x\": [\"8-1\", \"8-2\", \"8-3\", \"8-4\", \"8-5\", \"9-1\", \"9-2\", \"9-3\", \"9-4\"], \"y\": [0, 1, 0, 0, 2, 1, 0, 0, 0], \"type\": \"scatter\", \"uid\": \"d11d9be0-cacb-11e8-8d03-a81e84e6c740\"}], {\"title\": \"\\u8fc7\\u6ee4\\u6d41\\u7a0b\\u5f02\\u5e38\\u6570\\u5468\\u8d8b\\u52bf\\u56fe\", \"xaxis\": {\"mirror\": \"all\", \"nticks\": 20, \"showgrid\": true, \"showline\": true, \"title\": \"\\u5468\", \"zeroline\": true}, \"yaxis\": {\"mirror\": \"all\", \"nticks\": 20, \"showgrid\": true, \"showline\": true, \"title\": \"\\u8fc7\\u6ee4\\u6d41\\u7a0b\\u5f02\\u5e38\\u6570\", \"zeroline\": true}}, {\"showLink\": true, \"linkText\": \"Export to plot.ly\"})});</script>"
      ],
      "text/vnd.plotly.v1+html": [
       "<div id=\"0456567a-8bf3-4da8-a101-fe599908fa6f\" style=\"height: 525px; width: 100%;\" class=\"plotly-graph-div\"></div><script type=\"text/javascript\">require([\"plotly\"], function(Plotly) { window.PLOTLYENV=window.PLOTLYENV || {};window.PLOTLYENV.BASE_URL=\"https://plot.ly\";Plotly.newPlot(\"0456567a-8bf3-4da8-a101-fe599908fa6f\", [{\"name\": \"\\u8fc7\\u6ee4\\u6d41\\u7a0b\\u5f02\\u5e38\\u6570\", \"x\": [\"8-1\", \"8-2\", \"8-3\", \"8-4\", \"8-5\", \"9-1\", \"9-2\", \"9-3\", \"9-4\"], \"y\": [0, 1, 0, 0, 2, 1, 0, 0, 0], \"type\": \"scatter\", \"uid\": \"d11d9be0-cacb-11e8-8d03-a81e84e6c740\"}], {\"title\": \"\\u8fc7\\u6ee4\\u6d41\\u7a0b\\u5f02\\u5e38\\u6570\\u5468\\u8d8b\\u52bf\\u56fe\", \"xaxis\": {\"mirror\": \"all\", \"nticks\": 20, \"showgrid\": true, \"showline\": true, \"title\": \"\\u5468\", \"zeroline\": true}, \"yaxis\": {\"mirror\": \"all\", \"nticks\": 20, \"showgrid\": true, \"showline\": true, \"title\": \"\\u8fc7\\u6ee4\\u6d41\\u7a0b\\u5f02\\u5e38\\u6570\", \"zeroline\": true}}, {\"showLink\": true, \"linkText\": \"Export to plot.ly\"})});</script>"
      ]
     },
     "metadata": {},
     "output_type": "display_data"
    },
    {
     "data": {
      "application/vnd.plotly.v1+json": {
       "data": [
        {
         "name": "过滤流程异常数",
         "type": "scatter",
         "uid": "d12ba168-cacb-11e8-8d03-a81e84e6c740",
         "x": [
          8,
          9
         ],
         "y": [
          3,
          1
         ]
        }
       ],
       "layout": {
        "title": "过滤流程异常数月趋势图",
        "xaxis": {
         "mirror": "all",
         "nticks": 20,
         "showgrid": true,
         "showline": true,
         "title": "月",
         "zeroline": true
        },
        "yaxis": {
         "mirror": "all",
         "nticks": 20,
         "showgrid": true,
         "showline": true,
         "title": "过滤流程异常数",
         "zeroline": true
        }
       }
      },
      "text/html": [
       "<div id=\"53db0de7-d20f-422d-9a3c-f354f4c51547\" style=\"height: 525px; width: 100%;\" class=\"plotly-graph-div\"></div><script type=\"text/javascript\">require([\"plotly\"], function(Plotly) { window.PLOTLYENV=window.PLOTLYENV || {};window.PLOTLYENV.BASE_URL=\"https://plot.ly\";Plotly.newPlot(\"53db0de7-d20f-422d-9a3c-f354f4c51547\", [{\"name\": \"\\u8fc7\\u6ee4\\u6d41\\u7a0b\\u5f02\\u5e38\\u6570\", \"x\": [8, 9], \"y\": [3, 1], \"type\": \"scatter\", \"uid\": \"d12ba168-cacb-11e8-8d03-a81e84e6c740\"}], {\"title\": \"\\u8fc7\\u6ee4\\u6d41\\u7a0b\\u5f02\\u5e38\\u6570\\u6708\\u8d8b\\u52bf\\u56fe\", \"xaxis\": {\"mirror\": \"all\", \"nticks\": 20, \"showgrid\": true, \"showline\": true, \"title\": \"\\u6708\", \"zeroline\": true}, \"yaxis\": {\"mirror\": \"all\", \"nticks\": 20, \"showgrid\": true, \"showline\": true, \"title\": \"\\u8fc7\\u6ee4\\u6d41\\u7a0b\\u5f02\\u5e38\\u6570\", \"zeroline\": true}}, {\"showLink\": true, \"linkText\": \"Export to plot.ly\"})});</script>"
      ],
      "text/vnd.plotly.v1+html": [
       "<div id=\"53db0de7-d20f-422d-9a3c-f354f4c51547\" style=\"height: 525px; width: 100%;\" class=\"plotly-graph-div\"></div><script type=\"text/javascript\">require([\"plotly\"], function(Plotly) { window.PLOTLYENV=window.PLOTLYENV || {};window.PLOTLYENV.BASE_URL=\"https://plot.ly\";Plotly.newPlot(\"53db0de7-d20f-422d-9a3c-f354f4c51547\", [{\"name\": \"\\u8fc7\\u6ee4\\u6d41\\u7a0b\\u5f02\\u5e38\\u6570\", \"x\": [8, 9], \"y\": [3, 1], \"type\": \"scatter\", \"uid\": \"d12ba168-cacb-11e8-8d03-a81e84e6c740\"}], {\"title\": \"\\u8fc7\\u6ee4\\u6d41\\u7a0b\\u5f02\\u5e38\\u6570\\u6708\\u8d8b\\u52bf\\u56fe\", \"xaxis\": {\"mirror\": \"all\", \"nticks\": 20, \"showgrid\": true, \"showline\": true, \"title\": \"\\u6708\", \"zeroline\": true}, \"yaxis\": {\"mirror\": \"all\", \"nticks\": 20, \"showgrid\": true, \"showline\": true, \"title\": \"\\u8fc7\\u6ee4\\u6d41\\u7a0b\\u5f02\\u5e38\\u6570\", \"zeroline\": true}}, {\"showLink\": true, \"linkText\": \"Export to plot.ly\"})});</script>"
      ]
     },
     "metadata": {},
     "output_type": "display_data"
    }
   ],
   "source": [
    "ss = myModule.format(all_df1 ,\"日期（格式“月-周次”）\" ,['过滤流程异常数'])\n",
    "myModule.myPlot(ss.groupby('sum')).plot('line')\n",
    "\n",
    "ss = myModule.format(all_df1 ,\"month\" ,['过滤流程异常数'])\n",
    "myModule.myPlot(ss.groupby('sum')).plot('line','月')"
   ]
  },
  {
   "cell_type": "markdown",
   "metadata": {},
   "source": [
    "## 芯片拆分整体情况"
   ]
  },
  {
   "cell_type": "markdown",
   "metadata": {},
   "source": [
    "### 产能"
   ]
  },
  {
   "cell_type": "markdown",
   "metadata": {},
   "source": [
    "#### 芯片总数和不通过芯片数"
   ]
  },
  {
   "cell_type": "code",
   "execution_count": 77,
   "metadata": {
    "collapsed": false
   },
   "outputs": [
    {
     "data": {
      "application/vnd.plotly.v1+json": {
       "data": [
        {
         "name": "不通过芯片数",
         "type": "scatter",
         "uid": "04401be2-cacc-11e8-8d03-a81e84e6c740",
         "x": [
          "8-1",
          "8-2",
          "8-3",
          "8-4",
          "8-5",
          "9-1",
          "9-2",
          "9-3",
          "9-4"
         ],
         "y": [
          13,
          22,
          20,
          14,
          14,
          15,
          8,
          20,
          18
         ]
        },
        {
         "name": "芯片总数",
         "type": "scatter",
         "uid": "04402290-cacc-11e8-8d03-a81e84e6c740",
         "x": [
          "8-1",
          "8-2",
          "8-3",
          "8-4",
          "8-5",
          "9-1",
          "9-2",
          "9-3",
          "9-4"
         ],
         "y": [
          27,
          37,
          29,
          33,
          22,
          29,
          26,
          29,
          25
         ]
        }
       ],
       "layout": {
        "title": "不通过芯片数&芯片总数周趋势图",
        "xaxis": {
         "mirror": "all",
         "nticks": 20,
         "showgrid": true,
         "showline": true,
         "title": "周",
         "zeroline": true
        },
        "yaxis": {
         "mirror": "all",
         "nticks": 20,
         "showgrid": true,
         "showline": true,
         "title": "不通过芯片数&芯片总数",
         "zeroline": true
        }
       }
      },
      "text/html": [
       "<div id=\"e2112cde-3b16-42f7-bccf-bebbed53340a\" style=\"height: 525px; width: 100%;\" class=\"plotly-graph-div\"></div><script type=\"text/javascript\">require([\"plotly\"], function(Plotly) { window.PLOTLYENV=window.PLOTLYENV || {};window.PLOTLYENV.BASE_URL=\"https://plot.ly\";Plotly.newPlot(\"e2112cde-3b16-42f7-bccf-bebbed53340a\", [{\"name\": \"\\u4e0d\\u901a\\u8fc7\\u82af\\u7247\\u6570\", \"x\": [\"8-1\", \"8-2\", \"8-3\", \"8-4\", \"8-5\", \"9-1\", \"9-2\", \"9-3\", \"9-4\"], \"y\": [13, 22, 20, 14, 14, 15, 8, 20, 18], \"type\": \"scatter\", \"uid\": \"04401be2-cacc-11e8-8d03-a81e84e6c740\"}, {\"name\": \"\\u82af\\u7247\\u603b\\u6570\", \"x\": [\"8-1\", \"8-2\", \"8-3\", \"8-4\", \"8-5\", \"9-1\", \"9-2\", \"9-3\", \"9-4\"], \"y\": [27, 37, 29, 33, 22, 29, 26, 29, 25], \"type\": \"scatter\", \"uid\": \"04402290-cacc-11e8-8d03-a81e84e6c740\"}], {\"title\": \"\\u4e0d\\u901a\\u8fc7\\u82af\\u7247\\u6570&\\u82af\\u7247\\u603b\\u6570\\u5468\\u8d8b\\u52bf\\u56fe\", \"xaxis\": {\"mirror\": \"all\", \"nticks\": 20, \"showgrid\": true, \"showline\": true, \"title\": \"\\u5468\", \"zeroline\": true}, \"yaxis\": {\"mirror\": \"all\", \"nticks\": 20, \"showgrid\": true, \"showline\": true, \"title\": \"\\u4e0d\\u901a\\u8fc7\\u82af\\u7247\\u6570&\\u82af\\u7247\\u603b\\u6570\", \"zeroline\": true}}, {\"showLink\": true, \"linkText\": \"Export to plot.ly\"})});</script>"
      ],
      "text/vnd.plotly.v1+html": [
       "<div id=\"e2112cde-3b16-42f7-bccf-bebbed53340a\" style=\"height: 525px; width: 100%;\" class=\"plotly-graph-div\"></div><script type=\"text/javascript\">require([\"plotly\"], function(Plotly) { window.PLOTLYENV=window.PLOTLYENV || {};window.PLOTLYENV.BASE_URL=\"https://plot.ly\";Plotly.newPlot(\"e2112cde-3b16-42f7-bccf-bebbed53340a\", [{\"name\": \"\\u4e0d\\u901a\\u8fc7\\u82af\\u7247\\u6570\", \"x\": [\"8-1\", \"8-2\", \"8-3\", \"8-4\", \"8-5\", \"9-1\", \"9-2\", \"9-3\", \"9-4\"], \"y\": [13, 22, 20, 14, 14, 15, 8, 20, 18], \"type\": \"scatter\", \"uid\": \"04401be2-cacc-11e8-8d03-a81e84e6c740\"}, {\"name\": \"\\u82af\\u7247\\u603b\\u6570\", \"x\": [\"8-1\", \"8-2\", \"8-3\", \"8-4\", \"8-5\", \"9-1\", \"9-2\", \"9-3\", \"9-4\"], \"y\": [27, 37, 29, 33, 22, 29, 26, 29, 25], \"type\": \"scatter\", \"uid\": \"04402290-cacc-11e8-8d03-a81e84e6c740\"}], {\"title\": \"\\u4e0d\\u901a\\u8fc7\\u82af\\u7247\\u6570&\\u82af\\u7247\\u603b\\u6570\\u5468\\u8d8b\\u52bf\\u56fe\", \"xaxis\": {\"mirror\": \"all\", \"nticks\": 20, \"showgrid\": true, \"showline\": true, \"title\": \"\\u5468\", \"zeroline\": true}, \"yaxis\": {\"mirror\": \"all\", \"nticks\": 20, \"showgrid\": true, \"showline\": true, \"title\": \"\\u4e0d\\u901a\\u8fc7\\u82af\\u7247\\u6570&\\u82af\\u7247\\u603b\\u6570\", \"zeroline\": true}}, {\"showLink\": true, \"linkText\": \"Export to plot.ly\"})});</script>"
      ]
     },
     "metadata": {},
     "output_type": "display_data"
    },
    {
     "data": {
      "application/vnd.plotly.v1+json": {
       "data": [
        {
         "name": "不通过芯片数",
         "type": "scatter",
         "uid": "04482d46-cacc-11e8-8d03-a81e84e6c740",
         "x": [
          8,
          9
         ],
         "y": [
          83,
          61
         ]
        },
        {
         "name": "芯片总数",
         "type": "scatter",
         "uid": "044832c8-cacc-11e8-8d03-a81e84e6c740",
         "x": [
          8,
          9
         ],
         "y": [
          148,
          109
         ]
        }
       ],
       "layout": {
        "title": "不通过芯片数&芯片总数月趋势图",
        "xaxis": {
         "mirror": "all",
         "nticks": 20,
         "showgrid": true,
         "showline": true,
         "title": "月",
         "zeroline": true
        },
        "yaxis": {
         "mirror": "all",
         "nticks": 20,
         "showgrid": true,
         "showline": true,
         "title": "不通过芯片数&芯片总数",
         "zeroline": true
        }
       }
      },
      "text/html": [
       "<div id=\"0a431da5-f441-4093-abbc-8b5e43baa86c\" style=\"height: 525px; width: 100%;\" class=\"plotly-graph-div\"></div><script type=\"text/javascript\">require([\"plotly\"], function(Plotly) { window.PLOTLYENV=window.PLOTLYENV || {};window.PLOTLYENV.BASE_URL=\"https://plot.ly\";Plotly.newPlot(\"0a431da5-f441-4093-abbc-8b5e43baa86c\", [{\"name\": \"\\u4e0d\\u901a\\u8fc7\\u82af\\u7247\\u6570\", \"x\": [8, 9], \"y\": [83, 61], \"type\": \"scatter\", \"uid\": \"04482d46-cacc-11e8-8d03-a81e84e6c740\"}, {\"name\": \"\\u82af\\u7247\\u603b\\u6570\", \"x\": [8, 9], \"y\": [148, 109], \"type\": \"scatter\", \"uid\": \"044832c8-cacc-11e8-8d03-a81e84e6c740\"}], {\"title\": \"\\u4e0d\\u901a\\u8fc7\\u82af\\u7247\\u6570&\\u82af\\u7247\\u603b\\u6570\\u6708\\u8d8b\\u52bf\\u56fe\", \"xaxis\": {\"mirror\": \"all\", \"nticks\": 20, \"showgrid\": true, \"showline\": true, \"title\": \"\\u6708\", \"zeroline\": true}, \"yaxis\": {\"mirror\": \"all\", \"nticks\": 20, \"showgrid\": true, \"showline\": true, \"title\": \"\\u4e0d\\u901a\\u8fc7\\u82af\\u7247\\u6570&\\u82af\\u7247\\u603b\\u6570\", \"zeroline\": true}}, {\"showLink\": true, \"linkText\": \"Export to plot.ly\"})});</script>"
      ],
      "text/vnd.plotly.v1+html": [
       "<div id=\"0a431da5-f441-4093-abbc-8b5e43baa86c\" style=\"height: 525px; width: 100%;\" class=\"plotly-graph-div\"></div><script type=\"text/javascript\">require([\"plotly\"], function(Plotly) { window.PLOTLYENV=window.PLOTLYENV || {};window.PLOTLYENV.BASE_URL=\"https://plot.ly\";Plotly.newPlot(\"0a431da5-f441-4093-abbc-8b5e43baa86c\", [{\"name\": \"\\u4e0d\\u901a\\u8fc7\\u82af\\u7247\\u6570\", \"x\": [8, 9], \"y\": [83, 61], \"type\": \"scatter\", \"uid\": \"04482d46-cacc-11e8-8d03-a81e84e6c740\"}, {\"name\": \"\\u82af\\u7247\\u603b\\u6570\", \"x\": [8, 9], \"y\": [148, 109], \"type\": \"scatter\", \"uid\": \"044832c8-cacc-11e8-8d03-a81e84e6c740\"}], {\"title\": \"\\u4e0d\\u901a\\u8fc7\\u82af\\u7247\\u6570&\\u82af\\u7247\\u603b\\u6570\\u6708\\u8d8b\\u52bf\\u56fe\", \"xaxis\": {\"mirror\": \"all\", \"nticks\": 20, \"showgrid\": true, \"showline\": true, \"title\": \"\\u6708\", \"zeroline\": true}, \"yaxis\": {\"mirror\": \"all\", \"nticks\": 20, \"showgrid\": true, \"showline\": true, \"title\": \"\\u4e0d\\u901a\\u8fc7\\u82af\\u7247\\u6570&\\u82af\\u7247\\u603b\\u6570\", \"zeroline\": true}}, {\"showLink\": true, \"linkText\": \"Export to plot.ly\"})});</script>"
      ]
     },
     "metadata": {},
     "output_type": "display_data"
    }
   ],
   "source": [
    "ss = myModule.format(all_df2 ,\"日期（格式“月-周次”）\" ,['芯片总数' ,'不通过芯片数' ])\n",
    "myModule.myPlot(ss.groupby('sum')).plot('line')\n",
    "\n",
    "ss = myModule.format(all_df2 ,\"month\" ,['芯片总数' ,'不通过芯片数'])\n",
    "myModule.myPlot(ss.groupby('sum')).plot('line','月')"
   ]
  },
  {
   "cell_type": "markdown",
   "metadata": {},
   "source": [
    "### 效率"
   ]
  },
  {
   "cell_type": "markdown",
   "metadata": {},
   "source": [
    "#### 不合格率"
   ]
  },
  {
   "cell_type": "code",
   "execution_count": 80,
   "metadata": {
    "collapsed": false
   },
   "outputs": [
    {
     "data": {
      "application/vnd.plotly.v1+json": {
       "data": [
        {
         "name": "不合格率",
         "type": "scatter",
         "uid": "677bde62-cacc-11e8-8d03-a81e84e6c740",
         "x": [
          "8-1",
          "8-2",
          "8-3",
          "8-4",
          "8-5",
          "9-1",
          "9-2",
          "9-3",
          "9-4"
         ],
         "y": [
          0.48148148148148145,
          0.5945945945945946,
          0.6896551724137931,
          0.42424242424242425,
          0.6363636363636364,
          0.5172413793103449,
          0.3076923076923077,
          0.6896551724137931,
          0.72
         ]
        }
       ],
       "layout": {
        "title": "不合格率周趋势图",
        "xaxis": {
         "mirror": "all",
         "nticks": 20,
         "showgrid": true,
         "showline": true,
         "title": "周",
         "zeroline": true
        },
        "yaxis": {
         "mirror": "all",
         "nticks": 20,
         "showgrid": true,
         "showline": true,
         "title": "不合格率",
         "zeroline": true
        }
       }
      },
      "text/html": [
       "<div id=\"143e9ccf-56b9-4e3e-a50b-7b42b882b152\" style=\"height: 525px; width: 100%;\" class=\"plotly-graph-div\"></div><script type=\"text/javascript\">require([\"plotly\"], function(Plotly) { window.PLOTLYENV=window.PLOTLYENV || {};window.PLOTLYENV.BASE_URL=\"https://plot.ly\";Plotly.newPlot(\"143e9ccf-56b9-4e3e-a50b-7b42b882b152\", [{\"name\": \"\\u4e0d\\u5408\\u683c\\u7387\", \"x\": [\"8-1\", \"8-2\", \"8-3\", \"8-4\", \"8-5\", \"9-1\", \"9-2\", \"9-3\", \"9-4\"], \"y\": [0.48148148148148145, 0.5945945945945946, 0.6896551724137931, 0.42424242424242425, 0.6363636363636364, 0.5172413793103449, 0.3076923076923077, 0.6896551724137931, 0.72], \"type\": \"scatter\", \"uid\": \"677bde62-cacc-11e8-8d03-a81e84e6c740\"}], {\"title\": \"\\u4e0d\\u5408\\u683c\\u7387\\u5468\\u8d8b\\u52bf\\u56fe\", \"xaxis\": {\"mirror\": \"all\", \"nticks\": 20, \"showgrid\": true, \"showline\": true, \"title\": \"\\u5468\", \"zeroline\": true}, \"yaxis\": {\"mirror\": \"all\", \"nticks\": 20, \"showgrid\": true, \"showline\": true, \"title\": \"\\u4e0d\\u5408\\u683c\\u7387\", \"zeroline\": true}}, {\"showLink\": true, \"linkText\": \"Export to plot.ly\"})});</script>"
      ],
      "text/vnd.plotly.v1+html": [
       "<div id=\"143e9ccf-56b9-4e3e-a50b-7b42b882b152\" style=\"height: 525px; width: 100%;\" class=\"plotly-graph-div\"></div><script type=\"text/javascript\">require([\"plotly\"], function(Plotly) { window.PLOTLYENV=window.PLOTLYENV || {};window.PLOTLYENV.BASE_URL=\"https://plot.ly\";Plotly.newPlot(\"143e9ccf-56b9-4e3e-a50b-7b42b882b152\", [{\"name\": \"\\u4e0d\\u5408\\u683c\\u7387\", \"x\": [\"8-1\", \"8-2\", \"8-3\", \"8-4\", \"8-5\", \"9-1\", \"9-2\", \"9-3\", \"9-4\"], \"y\": [0.48148148148148145, 0.5945945945945946, 0.6896551724137931, 0.42424242424242425, 0.6363636363636364, 0.5172413793103449, 0.3076923076923077, 0.6896551724137931, 0.72], \"type\": \"scatter\", \"uid\": \"677bde62-cacc-11e8-8d03-a81e84e6c740\"}], {\"title\": \"\\u4e0d\\u5408\\u683c\\u7387\\u5468\\u8d8b\\u52bf\\u56fe\", \"xaxis\": {\"mirror\": \"all\", \"nticks\": 20, \"showgrid\": true, \"showline\": true, \"title\": \"\\u5468\", \"zeroline\": true}, \"yaxis\": {\"mirror\": \"all\", \"nticks\": 20, \"showgrid\": true, \"showline\": true, \"title\": \"\\u4e0d\\u5408\\u683c\\u7387\", \"zeroline\": true}}, {\"showLink\": true, \"linkText\": \"Export to plot.ly\"})});</script>"
      ]
     },
     "metadata": {},
     "output_type": "display_data"
    },
    {
     "data": {
      "application/vnd.plotly.v1+json": {
       "data": [
        {
         "name": "不合格率",
         "type": "bar",
         "uid": "6785d944-cacc-11e8-8d03-a81e84e6c740",
         "x": [
          8,
          9
         ],
         "y": [
          0.5608108108108109,
          0.5596330275229358
         ]
        }
       ],
       "layout": {
        "title": "不合格率月趋势图",
        "xaxis": {
         "mirror": "all",
         "nticks": 20,
         "showgrid": true,
         "showline": true,
         "title": "月",
         "zeroline": true
        },
        "yaxis": {
         "mirror": "all",
         "nticks": 20,
         "showgrid": true,
         "showline": true,
         "title": "不合格率",
         "zeroline": true
        }
       }
      },
      "text/html": [
       "<div id=\"b65f3e20-d7bd-45f2-9286-d5d3682f49dc\" style=\"height: 525px; width: 100%;\" class=\"plotly-graph-div\"></div><script type=\"text/javascript\">require([\"plotly\"], function(Plotly) { window.PLOTLYENV=window.PLOTLYENV || {};window.PLOTLYENV.BASE_URL=\"https://plot.ly\";Plotly.newPlot(\"b65f3e20-d7bd-45f2-9286-d5d3682f49dc\", [{\"name\": \"\\u4e0d\\u5408\\u683c\\u7387\", \"x\": [8, 9], \"y\": [0.5608108108108109, 0.5596330275229358], \"type\": \"bar\", \"uid\": \"6785d944-cacc-11e8-8d03-a81e84e6c740\"}], {\"title\": \"\\u4e0d\\u5408\\u683c\\u7387\\u6708\\u8d8b\\u52bf\\u56fe\", \"xaxis\": {\"mirror\": \"all\", \"nticks\": 20, \"showgrid\": true, \"showline\": true, \"title\": \"\\u6708\", \"zeroline\": true}, \"yaxis\": {\"mirror\": \"all\", \"nticks\": 20, \"showgrid\": true, \"showline\": true, \"title\": \"\\u4e0d\\u5408\\u683c\\u7387\", \"zeroline\": true}}, {\"showLink\": true, \"linkText\": \"Export to plot.ly\"})});</script>"
      ],
      "text/vnd.plotly.v1+html": [
       "<div id=\"b65f3e20-d7bd-45f2-9286-d5d3682f49dc\" style=\"height: 525px; width: 100%;\" class=\"plotly-graph-div\"></div><script type=\"text/javascript\">require([\"plotly\"], function(Plotly) { window.PLOTLYENV=window.PLOTLYENV || {};window.PLOTLYENV.BASE_URL=\"https://plot.ly\";Plotly.newPlot(\"b65f3e20-d7bd-45f2-9286-d5d3682f49dc\", [{\"name\": \"\\u4e0d\\u5408\\u683c\\u7387\", \"x\": [8, 9], \"y\": [0.5608108108108109, 0.5596330275229358], \"type\": \"bar\", \"uid\": \"6785d944-cacc-11e8-8d03-a81e84e6c740\"}], {\"title\": \"\\u4e0d\\u5408\\u683c\\u7387\\u6708\\u8d8b\\u52bf\\u56fe\", \"xaxis\": {\"mirror\": \"all\", \"nticks\": 20, \"showgrid\": true, \"showline\": true, \"title\": \"\\u6708\", \"zeroline\": true}, \"yaxis\": {\"mirror\": \"all\", \"nticks\": 20, \"showgrid\": true, \"showline\": true, \"title\": \"\\u4e0d\\u5408\\u683c\\u7387\", \"zeroline\": true}}, {\"showLink\": true, \"linkText\": \"Export to plot.ly\"})});</script>"
      ]
     },
     "metadata": {},
     "output_type": "display_data"
    }
   ],
   "source": [
    "ss = myModule.format(all_df2 ,\"日期（格式“月-周次”）\" ,['不通过芯片数', '芯片总数'])\n",
    "tt = ss.get_total_ratio([['不合格率','不通过芯片数','芯片总数','/']])\n",
    "myModule.myPlot(tt).plot('line')\n",
    "\n",
    "ss = myModule.format(all_df2 ,\"month\" ,['不通过芯片数', '芯片总数'])\n",
    "tt = ss.get_total_ratio([['不合格率','不通过芯片数','芯片总数','/']])\n",
    "myModule.myPlot(tt).plot('bar','月')"
   ]
  },
  {
   "cell_type": "markdown",
   "metadata": {},
   "source": [
    "#### 通过率情况"
   ]
  },
  {
   "cell_type": "code",
   "execution_count": 84,
   "metadata": {
    "collapsed": false
   },
   "outputs": [
    {
     "data": {
      "application/vnd.plotly.v1+json": {
       "data": [
        {
         "name": "24h通过率",
         "type": "scatter",
         "uid": "f5baa6ae-cacc-11e8-8d03-a81e84e6c740",
         "x": [
          "8-1",
          "8-2",
          "8-3",
          "8-4",
          "8-5",
          "9-1",
          "9-2",
          "9-3",
          "9-4"
         ],
         "y": [
          0.6296296296296297,
          0.5135135135135135,
          0.7586206896551724,
          0.8484848484848485,
          0.7272727272727273,
          0.5862068965517241,
          0.6923076923076923,
          0.6551724137931034,
          0.72
         ]
        },
        {
         "name": "48h通过率",
         "type": "scatter",
         "uid": "f5baaa0a-cacc-11e8-8d03-a81e84e6c740",
         "x": [
          "8-1",
          "8-2",
          "8-3",
          "8-4",
          "8-5",
          "9-1",
          "9-2",
          "9-3",
          "9-4"
         ],
         "y": [
          0.8518518518518519,
          0.7567567567567568,
          0.896551724137931,
          0.9393939393939394,
          0.8636363636363636,
          0.7931034482758621,
          0.8461538461538461,
          0.6896551724137931,
          0.76
         ]
        },
        {
         "name": "8h通过率",
         "type": "scatter",
         "uid": "f5baac4e-cacc-11e8-8d03-a81e84e6c740",
         "x": [
          "8-1",
          "8-2",
          "8-3",
          "8-4",
          "8-5",
          "9-1",
          "9-2",
          "9-3",
          "9-4"
         ],
         "y": [
          0.3333333333333333,
          0.40540540540540543,
          0.5517241379310345,
          0.6060606060606061,
          0.5,
          0.6206896551724138,
          0.6538461538461539,
          0.4827586206896552,
          0.36
         ]
        }
       ],
       "layout": {
        "title": "24h通过率&48h通过率&8h通过率周趋势图",
        "xaxis": {
         "mirror": "all",
         "nticks": 20,
         "showgrid": true,
         "showline": true,
         "title": "周",
         "zeroline": true
        },
        "yaxis": {
         "mirror": "all",
         "nticks": 20,
         "showgrid": true,
         "showline": true,
         "title": "24h通过率&48h通过率&8h通过率",
         "zeroline": true
        }
       }
      },
      "text/html": [
       "<div id=\"804dfa56-a0e3-4ebe-9d30-65aef004ffd5\" style=\"height: 525px; width: 100%;\" class=\"plotly-graph-div\"></div><script type=\"text/javascript\">require([\"plotly\"], function(Plotly) { window.PLOTLYENV=window.PLOTLYENV || {};window.PLOTLYENV.BASE_URL=\"https://plot.ly\";Plotly.newPlot(\"804dfa56-a0e3-4ebe-9d30-65aef004ffd5\", [{\"name\": \"24h\\u901a\\u8fc7\\u7387\", \"x\": [\"8-1\", \"8-2\", \"8-3\", \"8-4\", \"8-5\", \"9-1\", \"9-2\", \"9-3\", \"9-4\"], \"y\": [0.6296296296296297, 0.5135135135135135, 0.7586206896551724, 0.8484848484848485, 0.7272727272727273, 0.5862068965517241, 0.6923076923076923, 0.6551724137931034, 0.72], \"type\": \"scatter\", \"uid\": \"f5baa6ae-cacc-11e8-8d03-a81e84e6c740\"}, {\"name\": \"48h\\u901a\\u8fc7\\u7387\", \"x\": [\"8-1\", \"8-2\", \"8-3\", \"8-4\", \"8-5\", \"9-1\", \"9-2\", \"9-3\", \"9-4\"], \"y\": [0.8518518518518519, 0.7567567567567568, 0.896551724137931, 0.9393939393939394, 0.8636363636363636, 0.7931034482758621, 0.8461538461538461, 0.6896551724137931, 0.76], \"type\": \"scatter\", \"uid\": \"f5baaa0a-cacc-11e8-8d03-a81e84e6c740\"}, {\"name\": \"8h\\u901a\\u8fc7\\u7387\", \"x\": [\"8-1\", \"8-2\", \"8-3\", \"8-4\", \"8-5\", \"9-1\", \"9-2\", \"9-3\", \"9-4\"], \"y\": [0.3333333333333333, 0.40540540540540543, 0.5517241379310345, 0.6060606060606061, 0.5, 0.6206896551724138, 0.6538461538461539, 0.4827586206896552, 0.36], \"type\": \"scatter\", \"uid\": \"f5baac4e-cacc-11e8-8d03-a81e84e6c740\"}], {\"title\": \"24h\\u901a\\u8fc7\\u7387&48h\\u901a\\u8fc7\\u7387&8h\\u901a\\u8fc7\\u7387\\u5468\\u8d8b\\u52bf\\u56fe\", \"xaxis\": {\"mirror\": \"all\", \"nticks\": 20, \"showgrid\": true, \"showline\": true, \"title\": \"\\u5468\", \"zeroline\": true}, \"yaxis\": {\"mirror\": \"all\", \"nticks\": 20, \"showgrid\": true, \"showline\": true, \"title\": \"24h\\u901a\\u8fc7\\u7387&48h\\u901a\\u8fc7\\u7387&8h\\u901a\\u8fc7\\u7387\", \"zeroline\": true}}, {\"showLink\": true, \"linkText\": \"Export to plot.ly\"})});</script>"
      ],
      "text/vnd.plotly.v1+html": [
       "<div id=\"804dfa56-a0e3-4ebe-9d30-65aef004ffd5\" style=\"height: 525px; width: 100%;\" class=\"plotly-graph-div\"></div><script type=\"text/javascript\">require([\"plotly\"], function(Plotly) { window.PLOTLYENV=window.PLOTLYENV || {};window.PLOTLYENV.BASE_URL=\"https://plot.ly\";Plotly.newPlot(\"804dfa56-a0e3-4ebe-9d30-65aef004ffd5\", [{\"name\": \"24h\\u901a\\u8fc7\\u7387\", \"x\": [\"8-1\", \"8-2\", \"8-3\", \"8-4\", \"8-5\", \"9-1\", \"9-2\", \"9-3\", \"9-4\"], \"y\": [0.6296296296296297, 0.5135135135135135, 0.7586206896551724, 0.8484848484848485, 0.7272727272727273, 0.5862068965517241, 0.6923076923076923, 0.6551724137931034, 0.72], \"type\": \"scatter\", \"uid\": \"f5baa6ae-cacc-11e8-8d03-a81e84e6c740\"}, {\"name\": \"48h\\u901a\\u8fc7\\u7387\", \"x\": [\"8-1\", \"8-2\", \"8-3\", \"8-4\", \"8-5\", \"9-1\", \"9-2\", \"9-3\", \"9-4\"], \"y\": [0.8518518518518519, 0.7567567567567568, 0.896551724137931, 0.9393939393939394, 0.8636363636363636, 0.7931034482758621, 0.8461538461538461, 0.6896551724137931, 0.76], \"type\": \"scatter\", \"uid\": \"f5baaa0a-cacc-11e8-8d03-a81e84e6c740\"}, {\"name\": \"8h\\u901a\\u8fc7\\u7387\", \"x\": [\"8-1\", \"8-2\", \"8-3\", \"8-4\", \"8-5\", \"9-1\", \"9-2\", \"9-3\", \"9-4\"], \"y\": [0.3333333333333333, 0.40540540540540543, 0.5517241379310345, 0.6060606060606061, 0.5, 0.6206896551724138, 0.6538461538461539, 0.4827586206896552, 0.36], \"type\": \"scatter\", \"uid\": \"f5baac4e-cacc-11e8-8d03-a81e84e6c740\"}], {\"title\": \"24h\\u901a\\u8fc7\\u7387&48h\\u901a\\u8fc7\\u7387&8h\\u901a\\u8fc7\\u7387\\u5468\\u8d8b\\u52bf\\u56fe\", \"xaxis\": {\"mirror\": \"all\", \"nticks\": 20, \"showgrid\": true, \"showline\": true, \"title\": \"\\u5468\", \"zeroline\": true}, \"yaxis\": {\"mirror\": \"all\", \"nticks\": 20, \"showgrid\": true, \"showline\": true, \"title\": \"24h\\u901a\\u8fc7\\u7387&48h\\u901a\\u8fc7\\u7387&8h\\u901a\\u8fc7\\u7387\", \"zeroline\": true}}, {\"showLink\": true, \"linkText\": \"Export to plot.ly\"})});</script>"
      ]
     },
     "metadata": {},
     "output_type": "display_data"
    },
    {
     "data": {
      "application/vnd.plotly.v1+json": {
       "data": [
        {
         "name": "24h通过率",
         "type": "scatter",
         "uid": "f5c281a8-cacc-11e8-8d03-a81e84e6c740",
         "x": [
          8,
          9
         ],
         "y": [
          0.6891891891891891,
          0.6605504587155964
         ]
        },
        {
         "name": "48h通过率",
         "type": "scatter",
         "uid": "f5c28aea-cacc-11e8-8d03-a81e84e6c740",
         "x": [
          8,
          9
         ],
         "y": [
          0.8581081081081081,
          0.7706422018348624
         ]
        },
        {
         "name": "8h通过率",
         "type": "scatter",
         "uid": "f5c28f36-cacc-11e8-8d03-a81e84e6c740",
         "x": [
          8,
          9
         ],
         "y": [
          0.4797297297297297,
          0.5321100917431193
         ]
        }
       ],
       "layout": {
        "title": "24h通过率&48h通过率&8h通过率月趋势图",
        "xaxis": {
         "mirror": "all",
         "nticks": 20,
         "showgrid": true,
         "showline": true,
         "title": "月",
         "zeroline": true
        },
        "yaxis": {
         "mirror": "all",
         "nticks": 20,
         "showgrid": true,
         "showline": true,
         "title": "24h通过率&48h通过率&8h通过率",
         "zeroline": true
        }
       }
      },
      "text/html": [
       "<div id=\"9b122c2f-ee2b-4e94-8fa3-c259815db6bb\" style=\"height: 525px; width: 100%;\" class=\"plotly-graph-div\"></div><script type=\"text/javascript\">require([\"plotly\"], function(Plotly) { window.PLOTLYENV=window.PLOTLYENV || {};window.PLOTLYENV.BASE_URL=\"https://plot.ly\";Plotly.newPlot(\"9b122c2f-ee2b-4e94-8fa3-c259815db6bb\", [{\"name\": \"24h\\u901a\\u8fc7\\u7387\", \"x\": [8, 9], \"y\": [0.6891891891891891, 0.6605504587155964], \"type\": \"scatter\", \"uid\": \"f5c281a8-cacc-11e8-8d03-a81e84e6c740\"}, {\"name\": \"48h\\u901a\\u8fc7\\u7387\", \"x\": [8, 9], \"y\": [0.8581081081081081, 0.7706422018348624], \"type\": \"scatter\", \"uid\": \"f5c28aea-cacc-11e8-8d03-a81e84e6c740\"}, {\"name\": \"8h\\u901a\\u8fc7\\u7387\", \"x\": [8, 9], \"y\": [0.4797297297297297, 0.5321100917431193], \"type\": \"scatter\", \"uid\": \"f5c28f36-cacc-11e8-8d03-a81e84e6c740\"}], {\"title\": \"24h\\u901a\\u8fc7\\u7387&48h\\u901a\\u8fc7\\u7387&8h\\u901a\\u8fc7\\u7387\\u6708\\u8d8b\\u52bf\\u56fe\", \"xaxis\": {\"mirror\": \"all\", \"nticks\": 20, \"showgrid\": true, \"showline\": true, \"title\": \"\\u6708\", \"zeroline\": true}, \"yaxis\": {\"mirror\": \"all\", \"nticks\": 20, \"showgrid\": true, \"showline\": true, \"title\": \"24h\\u901a\\u8fc7\\u7387&48h\\u901a\\u8fc7\\u7387&8h\\u901a\\u8fc7\\u7387\", \"zeroline\": true}}, {\"showLink\": true, \"linkText\": \"Export to plot.ly\"})});</script>"
      ],
      "text/vnd.plotly.v1+html": [
       "<div id=\"9b122c2f-ee2b-4e94-8fa3-c259815db6bb\" style=\"height: 525px; width: 100%;\" class=\"plotly-graph-div\"></div><script type=\"text/javascript\">require([\"plotly\"], function(Plotly) { window.PLOTLYENV=window.PLOTLYENV || {};window.PLOTLYENV.BASE_URL=\"https://plot.ly\";Plotly.newPlot(\"9b122c2f-ee2b-4e94-8fa3-c259815db6bb\", [{\"name\": \"24h\\u901a\\u8fc7\\u7387\", \"x\": [8, 9], \"y\": [0.6891891891891891, 0.6605504587155964], \"type\": \"scatter\", \"uid\": \"f5c281a8-cacc-11e8-8d03-a81e84e6c740\"}, {\"name\": \"48h\\u901a\\u8fc7\\u7387\", \"x\": [8, 9], \"y\": [0.8581081081081081, 0.7706422018348624], \"type\": \"scatter\", \"uid\": \"f5c28aea-cacc-11e8-8d03-a81e84e6c740\"}, {\"name\": \"8h\\u901a\\u8fc7\\u7387\", \"x\": [8, 9], \"y\": [0.4797297297297297, 0.5321100917431193], \"type\": \"scatter\", \"uid\": \"f5c28f36-cacc-11e8-8d03-a81e84e6c740\"}], {\"title\": \"24h\\u901a\\u8fc7\\u7387&48h\\u901a\\u8fc7\\u7387&8h\\u901a\\u8fc7\\u7387\\u6708\\u8d8b\\u52bf\\u56fe\", \"xaxis\": {\"mirror\": \"all\", \"nticks\": 20, \"showgrid\": true, \"showline\": true, \"title\": \"\\u6708\", \"zeroline\": true}, \"yaxis\": {\"mirror\": \"all\", \"nticks\": 20, \"showgrid\": true, \"showline\": true, \"title\": \"24h\\u901a\\u8fc7\\u7387&48h\\u901a\\u8fc7\\u7387&8h\\u901a\\u8fc7\\u7387\", \"zeroline\": true}}, {\"showLink\": true, \"linkText\": \"Export to plot.ly\"})});</script>"
      ]
     },
     "metadata": {},
     "output_type": "display_data"
    }
   ],
   "source": [
    "ss = myModule.format(all_df2 ,\"日期（格式“月-周次”）\" ,['8h通过芯片数', '芯片总数','24h通过芯片数','48h通过芯片数'])\n",
    "tt = ss.get_total_ratio([['8h通过率','8h通过芯片数','芯片总数','/'],\n",
    "                         ['24h通过率','24h通过芯片数','芯片总数','/'],\n",
    "                        ['48h通过率','48h通过芯片数','芯片总数','/'],])\n",
    "myModule.myPlot(tt).plot('line')\n",
    "\n",
    "ss = myModule.format(all_df2 ,\"month\" ,['8h通过芯片数', '芯片总数','24h通过芯片数','48h通过芯片数'])\n",
    "tt = ss.get_total_ratio([['8h通过率','8h通过芯片数','芯片总数','/'],\n",
    "                         ['24h通过率','24h通过芯片数','芯片总数','/'],\n",
    "                        ['48h通过率','48h通过芯片数','芯片总数','/'],])\n",
    "myModule.myPlot(tt).plot('line','月')"
   ]
  },
  {
   "cell_type": "markdown",
   "metadata": {},
   "source": [
    "#### 平均通过时长，一次通过平均时长，非一次通过平均时长，通过时长Q80"
   ]
  },
  {
   "cell_type": "code",
   "execution_count": 86,
   "metadata": {
    "collapsed": false
   },
   "outputs": [
    {
     "data": {
      "application/vnd.plotly.v1+json": {
       "data": [
        {
         "name": "平均通过时长",
         "type": "scatter",
         "uid": "53777268-cacd-11e8-8d03-a81e84e6c740",
         "x": [
          "8-1",
          "8-2",
          "8-3",
          "8-4",
          "8-5",
          "9-1",
          "9-2",
          "9-3",
          "9-4"
         ],
         "y": [
          21.03,
          32.65,
          16.84,
          10.54,
          23.82,
          15.1,
          22.28,
          38.57,
          26.16
         ]
        },
        {
         "name": "非一次通过平均时长",
         "type": "scatter",
         "uid": "53777600-cacd-11e8-8d03-a81e84e6c740",
         "x": [
          "8-1",
          "8-2",
          "8-3",
          "8-4",
          "8-5",
          "9-1",
          "9-2",
          "9-3",
          "9-4"
         ],
         "y": [
          30.81,
          50.36,
          22.7,
          20.81,
          35.65,
          24.46,
          37.75,
          53.68,
          34.52
         ]
        },
        {
         "name": "一次通过平均时长",
         "type": "scatter",
         "uid": "53777844-cacd-11e8-8d03-a81e84e6c740",
         "x": [
          "8-1",
          "8-2",
          "8-3",
          "8-4",
          "8-5",
          "9-1",
          "9-2",
          "9-3",
          "9-4"
         ],
         "y": [
          11.95,
          6.68,
          3.81,
          5.41,
          3.11,
          2.07,
          6.43,
          4.81,
          4.68
         ]
        },
        {
         "name": "通过时长Q80",
         "type": "scatter",
         "uid": "53777ac4-cacd-11e8-8d03-a81e84e6c740",
         "x": [
          "8-1",
          "8-2",
          "8-3",
          "8-4",
          "8-5",
          "9-1",
          "9-2",
          "9-3",
          "9-4"
         ],
         "y": [
          35.07,
          59.13,
          33.87,
          27.27,
          29.73,
          24.2,
          31.5,
          64.5,
          50.73
         ]
        }
       ],
       "layout": {
        "title": "平均通过时长&非一次通过平均时长&一次通过平均时长&通过时长Q80周趋势图",
        "xaxis": {
         "mirror": "all",
         "nticks": 20,
         "showgrid": true,
         "showline": true,
         "title": "周",
         "zeroline": true
        },
        "yaxis": {
         "mirror": "all",
         "nticks": 20,
         "showgrid": true,
         "showline": true,
         "title": "平均通过时长&非一次通过平均时长&一次通过平均时长&通过时长Q80",
         "zeroline": true
        }
       }
      },
      "text/html": [
       "<div id=\"d3ab6d74-fbd3-4113-b79e-d8d0418c2127\" style=\"height: 525px; width: 100%;\" class=\"plotly-graph-div\"></div><script type=\"text/javascript\">require([\"plotly\"], function(Plotly) { window.PLOTLYENV=window.PLOTLYENV || {};window.PLOTLYENV.BASE_URL=\"https://plot.ly\";Plotly.newPlot(\"d3ab6d74-fbd3-4113-b79e-d8d0418c2127\", [{\"name\": \"\\u5e73\\u5747\\u901a\\u8fc7\\u65f6\\u957f\", \"x\": [\"8-1\", \"8-2\", \"8-3\", \"8-4\", \"8-5\", \"9-1\", \"9-2\", \"9-3\", \"9-4\"], \"y\": [21.03, 32.65, 16.84, 10.54, 23.82, 15.1, 22.28, 38.57, 26.16], \"type\": \"scatter\", \"uid\": \"53777268-cacd-11e8-8d03-a81e84e6c740\"}, {\"name\": \"\\u975e\\u4e00\\u6b21\\u901a\\u8fc7\\u5e73\\u5747\\u65f6\\u957f\", \"x\": [\"8-1\", \"8-2\", \"8-3\", \"8-4\", \"8-5\", \"9-1\", \"9-2\", \"9-3\", \"9-4\"], \"y\": [30.81, 50.36, 22.7, 20.81, 35.65, 24.46, 37.75, 53.68, 34.52], \"type\": \"scatter\", \"uid\": \"53777600-cacd-11e8-8d03-a81e84e6c740\"}, {\"name\": \"\\u4e00\\u6b21\\u901a\\u8fc7\\u5e73\\u5747\\u65f6\\u957f\", \"x\": [\"8-1\", \"8-2\", \"8-3\", \"8-4\", \"8-5\", \"9-1\", \"9-2\", \"9-3\", \"9-4\"], \"y\": [11.95, 6.68, 3.81, 5.41, 3.11, 2.07, 6.43, 4.81, 4.68], \"type\": \"scatter\", \"uid\": \"53777844-cacd-11e8-8d03-a81e84e6c740\"}, {\"name\": \"\\u901a\\u8fc7\\u65f6\\u957fQ80\", \"x\": [\"8-1\", \"8-2\", \"8-3\", \"8-4\", \"8-5\", \"9-1\", \"9-2\", \"9-3\", \"9-4\"], \"y\": [35.07, 59.13, 33.87, 27.27, 29.73, 24.2, 31.5, 64.5, 50.73], \"type\": \"scatter\", \"uid\": \"53777ac4-cacd-11e8-8d03-a81e84e6c740\"}], {\"title\": \"\\u5e73\\u5747\\u901a\\u8fc7\\u65f6\\u957f&\\u975e\\u4e00\\u6b21\\u901a\\u8fc7\\u5e73\\u5747\\u65f6\\u957f&\\u4e00\\u6b21\\u901a\\u8fc7\\u5e73\\u5747\\u65f6\\u957f&\\u901a\\u8fc7\\u65f6\\u957fQ80\\u5468\\u8d8b\\u52bf\\u56fe\", \"xaxis\": {\"mirror\": \"all\", \"nticks\": 20, \"showgrid\": true, \"showline\": true, \"title\": \"\\u5468\", \"zeroline\": true}, \"yaxis\": {\"mirror\": \"all\", \"nticks\": 20, \"showgrid\": true, \"showline\": true, \"title\": \"\\u5e73\\u5747\\u901a\\u8fc7\\u65f6\\u957f&\\u975e\\u4e00\\u6b21\\u901a\\u8fc7\\u5e73\\u5747\\u65f6\\u957f&\\u4e00\\u6b21\\u901a\\u8fc7\\u5e73\\u5747\\u65f6\\u957f&\\u901a\\u8fc7\\u65f6\\u957fQ80\", \"zeroline\": true}}, {\"showLink\": true, \"linkText\": \"Export to plot.ly\"})});</script>"
      ],
      "text/vnd.plotly.v1+html": [
       "<div id=\"d3ab6d74-fbd3-4113-b79e-d8d0418c2127\" style=\"height: 525px; width: 100%;\" class=\"plotly-graph-div\"></div><script type=\"text/javascript\">require([\"plotly\"], function(Plotly) { window.PLOTLYENV=window.PLOTLYENV || {};window.PLOTLYENV.BASE_URL=\"https://plot.ly\";Plotly.newPlot(\"d3ab6d74-fbd3-4113-b79e-d8d0418c2127\", [{\"name\": \"\\u5e73\\u5747\\u901a\\u8fc7\\u65f6\\u957f\", \"x\": [\"8-1\", \"8-2\", \"8-3\", \"8-4\", \"8-5\", \"9-1\", \"9-2\", \"9-3\", \"9-4\"], \"y\": [21.03, 32.65, 16.84, 10.54, 23.82, 15.1, 22.28, 38.57, 26.16], \"type\": \"scatter\", \"uid\": \"53777268-cacd-11e8-8d03-a81e84e6c740\"}, {\"name\": \"\\u975e\\u4e00\\u6b21\\u901a\\u8fc7\\u5e73\\u5747\\u65f6\\u957f\", \"x\": [\"8-1\", \"8-2\", \"8-3\", \"8-4\", \"8-5\", \"9-1\", \"9-2\", \"9-3\", \"9-4\"], \"y\": [30.81, 50.36, 22.7, 20.81, 35.65, 24.46, 37.75, 53.68, 34.52], \"type\": \"scatter\", \"uid\": \"53777600-cacd-11e8-8d03-a81e84e6c740\"}, {\"name\": \"\\u4e00\\u6b21\\u901a\\u8fc7\\u5e73\\u5747\\u65f6\\u957f\", \"x\": [\"8-1\", \"8-2\", \"8-3\", \"8-4\", \"8-5\", \"9-1\", \"9-2\", \"9-3\", \"9-4\"], \"y\": [11.95, 6.68, 3.81, 5.41, 3.11, 2.07, 6.43, 4.81, 4.68], \"type\": \"scatter\", \"uid\": \"53777844-cacd-11e8-8d03-a81e84e6c740\"}, {\"name\": \"\\u901a\\u8fc7\\u65f6\\u957fQ80\", \"x\": [\"8-1\", \"8-2\", \"8-3\", \"8-4\", \"8-5\", \"9-1\", \"9-2\", \"9-3\", \"9-4\"], \"y\": [35.07, 59.13, 33.87, 27.27, 29.73, 24.2, 31.5, 64.5, 50.73], \"type\": \"scatter\", \"uid\": \"53777ac4-cacd-11e8-8d03-a81e84e6c740\"}], {\"title\": \"\\u5e73\\u5747\\u901a\\u8fc7\\u65f6\\u957f&\\u975e\\u4e00\\u6b21\\u901a\\u8fc7\\u5e73\\u5747\\u65f6\\u957f&\\u4e00\\u6b21\\u901a\\u8fc7\\u5e73\\u5747\\u65f6\\u957f&\\u901a\\u8fc7\\u65f6\\u957fQ80\\u5468\\u8d8b\\u52bf\\u56fe\", \"xaxis\": {\"mirror\": \"all\", \"nticks\": 20, \"showgrid\": true, \"showline\": true, \"title\": \"\\u5468\", \"zeroline\": true}, \"yaxis\": {\"mirror\": \"all\", \"nticks\": 20, \"showgrid\": true, \"showline\": true, \"title\": \"\\u5e73\\u5747\\u901a\\u8fc7\\u65f6\\u957f&\\u975e\\u4e00\\u6b21\\u901a\\u8fc7\\u5e73\\u5747\\u65f6\\u957f&\\u4e00\\u6b21\\u901a\\u8fc7\\u5e73\\u5747\\u65f6\\u957f&\\u901a\\u8fc7\\u65f6\\u957fQ80\", \"zeroline\": true}}, {\"showLink\": true, \"linkText\": \"Export to plot.ly\"})});</script>"
      ]
     },
     "metadata": {},
     "output_type": "display_data"
    },
    {
     "data": {
      "application/vnd.plotly.v1+json": {
       "data": [
        {
         "name": "平均通过时长",
         "type": "scatter",
         "uid": "5385a40a-cacd-11e8-8d03-a81e84e6c740",
         "x": [
          8,
          9
         ],
         "y": [
          20.976,
          25.5275
         ]
        },
        {
         "name": "非一次通过平均时长",
         "type": "scatter",
         "uid": "5385ab26-cacd-11e8-8d03-a81e84e6c740",
         "x": [
          8,
          9
         ],
         "y": [
          32.066,
          37.6025
         ]
        },
        {
         "name": "一次通过平均时长",
         "type": "scatter",
         "uid": "5385ae0a-cacd-11e8-8d03-a81e84e6c740",
         "x": [
          8,
          9
         ],
         "y": [
          6.191999999999999,
          4.4975
         ]
        },
        {
         "name": "通过时长Q80",
         "type": "scatter",
         "uid": "5385b04e-cacd-11e8-8d03-a81e84e6c740",
         "x": [
          8,
          9
         ],
         "y": [
          37.013999999999996,
          42.7325
         ]
        }
       ],
       "layout": {
        "title": "平均通过时长&非一次通过平均时长&一次通过平均时长&通过时长Q80月趋势图",
        "xaxis": {
         "mirror": "all",
         "nticks": 20,
         "showgrid": true,
         "showline": true,
         "title": "月",
         "zeroline": true
        },
        "yaxis": {
         "mirror": "all",
         "nticks": 20,
         "showgrid": true,
         "showline": true,
         "title": "平均通过时长&非一次通过平均时长&一次通过平均时长&通过时长Q80",
         "zeroline": true
        }
       }
      },
      "text/html": [
       "<div id=\"48673647-8bac-470f-994c-ca9d9b29f543\" style=\"height: 525px; width: 100%;\" class=\"plotly-graph-div\"></div><script type=\"text/javascript\">require([\"plotly\"], function(Plotly) { window.PLOTLYENV=window.PLOTLYENV || {};window.PLOTLYENV.BASE_URL=\"https://plot.ly\";Plotly.newPlot(\"48673647-8bac-470f-994c-ca9d9b29f543\", [{\"name\": \"\\u5e73\\u5747\\u901a\\u8fc7\\u65f6\\u957f\", \"x\": [8, 9], \"y\": [20.976, 25.5275], \"type\": \"scatter\", \"uid\": \"5385a40a-cacd-11e8-8d03-a81e84e6c740\"}, {\"name\": \"\\u975e\\u4e00\\u6b21\\u901a\\u8fc7\\u5e73\\u5747\\u65f6\\u957f\", \"x\": [8, 9], \"y\": [32.066, 37.6025], \"type\": \"scatter\", \"uid\": \"5385ab26-cacd-11e8-8d03-a81e84e6c740\"}, {\"name\": \"\\u4e00\\u6b21\\u901a\\u8fc7\\u5e73\\u5747\\u65f6\\u957f\", \"x\": [8, 9], \"y\": [6.191999999999999, 4.4975], \"type\": \"scatter\", \"uid\": \"5385ae0a-cacd-11e8-8d03-a81e84e6c740\"}, {\"name\": \"\\u901a\\u8fc7\\u65f6\\u957fQ80\", \"x\": [8, 9], \"y\": [37.013999999999996, 42.7325], \"type\": \"scatter\", \"uid\": \"5385b04e-cacd-11e8-8d03-a81e84e6c740\"}], {\"title\": \"\\u5e73\\u5747\\u901a\\u8fc7\\u65f6\\u957f&\\u975e\\u4e00\\u6b21\\u901a\\u8fc7\\u5e73\\u5747\\u65f6\\u957f&\\u4e00\\u6b21\\u901a\\u8fc7\\u5e73\\u5747\\u65f6\\u957f&\\u901a\\u8fc7\\u65f6\\u957fQ80\\u6708\\u8d8b\\u52bf\\u56fe\", \"xaxis\": {\"mirror\": \"all\", \"nticks\": 20, \"showgrid\": true, \"showline\": true, \"title\": \"\\u6708\", \"zeroline\": true}, \"yaxis\": {\"mirror\": \"all\", \"nticks\": 20, \"showgrid\": true, \"showline\": true, \"title\": \"\\u5e73\\u5747\\u901a\\u8fc7\\u65f6\\u957f&\\u975e\\u4e00\\u6b21\\u901a\\u8fc7\\u5e73\\u5747\\u65f6\\u957f&\\u4e00\\u6b21\\u901a\\u8fc7\\u5e73\\u5747\\u65f6\\u957f&\\u901a\\u8fc7\\u65f6\\u957fQ80\", \"zeroline\": true}}, {\"showLink\": true, \"linkText\": \"Export to plot.ly\"})});</script>"
      ],
      "text/vnd.plotly.v1+html": [
       "<div id=\"48673647-8bac-470f-994c-ca9d9b29f543\" style=\"height: 525px; width: 100%;\" class=\"plotly-graph-div\"></div><script type=\"text/javascript\">require([\"plotly\"], function(Plotly) { window.PLOTLYENV=window.PLOTLYENV || {};window.PLOTLYENV.BASE_URL=\"https://plot.ly\";Plotly.newPlot(\"48673647-8bac-470f-994c-ca9d9b29f543\", [{\"name\": \"\\u5e73\\u5747\\u901a\\u8fc7\\u65f6\\u957f\", \"x\": [8, 9], \"y\": [20.976, 25.5275], \"type\": \"scatter\", \"uid\": \"5385a40a-cacd-11e8-8d03-a81e84e6c740\"}, {\"name\": \"\\u975e\\u4e00\\u6b21\\u901a\\u8fc7\\u5e73\\u5747\\u65f6\\u957f\", \"x\": [8, 9], \"y\": [32.066, 37.6025], \"type\": \"scatter\", \"uid\": \"5385ab26-cacd-11e8-8d03-a81e84e6c740\"}, {\"name\": \"\\u4e00\\u6b21\\u901a\\u8fc7\\u5e73\\u5747\\u65f6\\u957f\", \"x\": [8, 9], \"y\": [6.191999999999999, 4.4975], \"type\": \"scatter\", \"uid\": \"5385ae0a-cacd-11e8-8d03-a81e84e6c740\"}, {\"name\": \"\\u901a\\u8fc7\\u65f6\\u957fQ80\", \"x\": [8, 9], \"y\": [37.013999999999996, 42.7325], \"type\": \"scatter\", \"uid\": \"5385b04e-cacd-11e8-8d03-a81e84e6c740\"}], {\"title\": \"\\u5e73\\u5747\\u901a\\u8fc7\\u65f6\\u957f&\\u975e\\u4e00\\u6b21\\u901a\\u8fc7\\u5e73\\u5747\\u65f6\\u957f&\\u4e00\\u6b21\\u901a\\u8fc7\\u5e73\\u5747\\u65f6\\u957f&\\u901a\\u8fc7\\u65f6\\u957fQ80\\u6708\\u8d8b\\u52bf\\u56fe\", \"xaxis\": {\"mirror\": \"all\", \"nticks\": 20, \"showgrid\": true, \"showline\": true, \"title\": \"\\u6708\", \"zeroline\": true}, \"yaxis\": {\"mirror\": \"all\", \"nticks\": 20, \"showgrid\": true, \"showline\": true, \"title\": \"\\u5e73\\u5747\\u901a\\u8fc7\\u65f6\\u957f&\\u975e\\u4e00\\u6b21\\u901a\\u8fc7\\u5e73\\u5747\\u65f6\\u957f&\\u4e00\\u6b21\\u901a\\u8fc7\\u5e73\\u5747\\u65f6\\u957f&\\u901a\\u8fc7\\u65f6\\u957fQ80\", \"zeroline\": true}}, {\"showLink\": true, \"linkText\": \"Export to plot.ly\"})});</script>"
      ]
     },
     "metadata": {},
     "output_type": "display_data"
    }
   ],
   "source": [
    "ss = myModule.format(all_df2 ,\"日期（格式“月-周次”）\" ,['平均通过时长', '一次通过平均时长','非一次通过平均时长','通过时长Q80' ])\n",
    "myModule.myPlot(ss.groupby('sum')).plot('line')\n",
    "\n",
    "ss = myModule.format(all_df2 ,\"month\" ,['平均通过时长', '一次通过平均时长','非一次通过平均时长','通过时长Q80' ])\n",
    "myModule.myPlot(ss.groupby('mean')).plot('line','月')"
   ]
  },
  {
   "cell_type": "markdown",
   "metadata": {},
   "source": [
    "#### 一次通过平均时长，xten一次通过时长，NovaS4一次通过时长"
   ]
  },
  {
   "cell_type": "code",
   "execution_count": 87,
   "metadata": {
    "collapsed": false
   },
   "outputs": [
    {
     "data": {
      "application/vnd.plotly.v1+json": {
       "data": [
        {
         "name": "NovaS4一次通过时长",
         "type": "scatter",
         "uid": "78203474-cacd-11e8-8d03-a81e84e6c740",
         "x": [
          "8-1",
          "8-2",
          "8-3",
          "8-4",
          "8-5",
          "9-1",
          "9-2",
          "9-3",
          "9-4"
         ],
         "y": [
          13.29,
          4.73,
          10.54,
          10.54,
          0,
          14.88,
          9.9,
          0,
          0
         ]
        },
        {
         "name": "xten一次通过时长",
         "type": "scatter",
         "uid": "78203cda-cacd-11e8-8d03-a81e84e6c740",
         "x": [
          "8-1",
          "8-2",
          "8-3",
          "8-4",
          "8-5",
          "9-1",
          "9-2",
          "9-3",
          "9-4"
         ],
         "y": [
          5.74,
          6.69,
          3.34,
          3.78,
          2.97,
          3.58,
          4.77,
          3.37,
          4.08
         ]
        },
        {
         "name": "一次通过平均时长",
         "type": "scatter",
         "uid": "78204004-cacd-11e8-8d03-a81e84e6c740",
         "x": [
          "8-1",
          "8-2",
          "8-3",
          "8-4",
          "8-5",
          "9-1",
          "9-2",
          "9-3",
          "9-4"
         ],
         "y": [
          11.95,
          6.68,
          3.81,
          5.41,
          3.11,
          2.07,
          6.43,
          4.81,
          4.68
         ]
        }
       ],
       "layout": {
        "title": "NovaS4一次通过时长&xten一次通过时长&一次通过平均时长周趋势图",
        "xaxis": {
         "mirror": "all",
         "nticks": 20,
         "showgrid": true,
         "showline": true,
         "title": "周",
         "zeroline": true
        },
        "yaxis": {
         "mirror": "all",
         "nticks": 20,
         "showgrid": true,
         "showline": true,
         "title": "NovaS4一次通过时长&xten一次通过时长&一次通过平均时长",
         "zeroline": true
        }
       }
      },
      "text/html": [
       "<div id=\"32272a89-784d-4f52-b897-9ff8fee9bb86\" style=\"height: 525px; width: 100%;\" class=\"plotly-graph-div\"></div><script type=\"text/javascript\">require([\"plotly\"], function(Plotly) { window.PLOTLYENV=window.PLOTLYENV || {};window.PLOTLYENV.BASE_URL=\"https://plot.ly\";Plotly.newPlot(\"32272a89-784d-4f52-b897-9ff8fee9bb86\", [{\"name\": \"NovaS4\\u4e00\\u6b21\\u901a\\u8fc7\\u65f6\\u957f\", \"x\": [\"8-1\", \"8-2\", \"8-3\", \"8-4\", \"8-5\", \"9-1\", \"9-2\", \"9-3\", \"9-4\"], \"y\": [13.29, 4.73, 10.54, 10.54, 0.0, 14.88, 9.9, 0.0, 0.0], \"type\": \"scatter\", \"uid\": \"78203474-cacd-11e8-8d03-a81e84e6c740\"}, {\"name\": \"xten\\u4e00\\u6b21\\u901a\\u8fc7\\u65f6\\u957f\", \"x\": [\"8-1\", \"8-2\", \"8-3\", \"8-4\", \"8-5\", \"9-1\", \"9-2\", \"9-3\", \"9-4\"], \"y\": [5.74, 6.69, 3.34, 3.78, 2.97, 3.58, 4.77, 3.37, 4.08], \"type\": \"scatter\", \"uid\": \"78203cda-cacd-11e8-8d03-a81e84e6c740\"}, {\"name\": \"\\u4e00\\u6b21\\u901a\\u8fc7\\u5e73\\u5747\\u65f6\\u957f\", \"x\": [\"8-1\", \"8-2\", \"8-3\", \"8-4\", \"8-5\", \"9-1\", \"9-2\", \"9-3\", \"9-4\"], \"y\": [11.95, 6.68, 3.81, 5.41, 3.11, 2.07, 6.43, 4.81, 4.68], \"type\": \"scatter\", \"uid\": \"78204004-cacd-11e8-8d03-a81e84e6c740\"}], {\"title\": \"NovaS4\\u4e00\\u6b21\\u901a\\u8fc7\\u65f6\\u957f&xten\\u4e00\\u6b21\\u901a\\u8fc7\\u65f6\\u957f&\\u4e00\\u6b21\\u901a\\u8fc7\\u5e73\\u5747\\u65f6\\u957f\\u5468\\u8d8b\\u52bf\\u56fe\", \"xaxis\": {\"mirror\": \"all\", \"nticks\": 20, \"showgrid\": true, \"showline\": true, \"title\": \"\\u5468\", \"zeroline\": true}, \"yaxis\": {\"mirror\": \"all\", \"nticks\": 20, \"showgrid\": true, \"showline\": true, \"title\": \"NovaS4\\u4e00\\u6b21\\u901a\\u8fc7\\u65f6\\u957f&xten\\u4e00\\u6b21\\u901a\\u8fc7\\u65f6\\u957f&\\u4e00\\u6b21\\u901a\\u8fc7\\u5e73\\u5747\\u65f6\\u957f\", \"zeroline\": true}}, {\"showLink\": true, \"linkText\": \"Export to plot.ly\"})});</script>"
      ],
      "text/vnd.plotly.v1+html": [
       "<div id=\"32272a89-784d-4f52-b897-9ff8fee9bb86\" style=\"height: 525px; width: 100%;\" class=\"plotly-graph-div\"></div><script type=\"text/javascript\">require([\"plotly\"], function(Plotly) { window.PLOTLYENV=window.PLOTLYENV || {};window.PLOTLYENV.BASE_URL=\"https://plot.ly\";Plotly.newPlot(\"32272a89-784d-4f52-b897-9ff8fee9bb86\", [{\"name\": \"NovaS4\\u4e00\\u6b21\\u901a\\u8fc7\\u65f6\\u957f\", \"x\": [\"8-1\", \"8-2\", \"8-3\", \"8-4\", \"8-5\", \"9-1\", \"9-2\", \"9-3\", \"9-4\"], \"y\": [13.29, 4.73, 10.54, 10.54, 0.0, 14.88, 9.9, 0.0, 0.0], \"type\": \"scatter\", \"uid\": \"78203474-cacd-11e8-8d03-a81e84e6c740\"}, {\"name\": \"xten\\u4e00\\u6b21\\u901a\\u8fc7\\u65f6\\u957f\", \"x\": [\"8-1\", \"8-2\", \"8-3\", \"8-4\", \"8-5\", \"9-1\", \"9-2\", \"9-3\", \"9-4\"], \"y\": [5.74, 6.69, 3.34, 3.78, 2.97, 3.58, 4.77, 3.37, 4.08], \"type\": \"scatter\", \"uid\": \"78203cda-cacd-11e8-8d03-a81e84e6c740\"}, {\"name\": \"\\u4e00\\u6b21\\u901a\\u8fc7\\u5e73\\u5747\\u65f6\\u957f\", \"x\": [\"8-1\", \"8-2\", \"8-3\", \"8-4\", \"8-5\", \"9-1\", \"9-2\", \"9-3\", \"9-4\"], \"y\": [11.95, 6.68, 3.81, 5.41, 3.11, 2.07, 6.43, 4.81, 4.68], \"type\": \"scatter\", \"uid\": \"78204004-cacd-11e8-8d03-a81e84e6c740\"}], {\"title\": \"NovaS4\\u4e00\\u6b21\\u901a\\u8fc7\\u65f6\\u957f&xten\\u4e00\\u6b21\\u901a\\u8fc7\\u65f6\\u957f&\\u4e00\\u6b21\\u901a\\u8fc7\\u5e73\\u5747\\u65f6\\u957f\\u5468\\u8d8b\\u52bf\\u56fe\", \"xaxis\": {\"mirror\": \"all\", \"nticks\": 20, \"showgrid\": true, \"showline\": true, \"title\": \"\\u5468\", \"zeroline\": true}, \"yaxis\": {\"mirror\": \"all\", \"nticks\": 20, \"showgrid\": true, \"showline\": true, \"title\": \"NovaS4\\u4e00\\u6b21\\u901a\\u8fc7\\u65f6\\u957f&xten\\u4e00\\u6b21\\u901a\\u8fc7\\u65f6\\u957f&\\u4e00\\u6b21\\u901a\\u8fc7\\u5e73\\u5747\\u65f6\\u957f\", \"zeroline\": true}}, {\"showLink\": true, \"linkText\": \"Export to plot.ly\"})});</script>"
      ]
     },
     "metadata": {},
     "output_type": "display_data"
    },
    {
     "data": {
      "application/vnd.plotly.v1+json": {
       "data": [
        {
         "name": "NovaS4一次通过时长",
         "type": "scatter",
         "uid": "7828fc08-cacd-11e8-8d03-a81e84e6c740",
         "x": [
          8,
          9
         ],
         "y": [
          7.8199999999999985,
          6.195
         ]
        },
        {
         "name": "xten一次通过时长",
         "type": "scatter",
         "uid": "7828ff5a-cacd-11e8-8d03-a81e84e6c740",
         "x": [
          8,
          9
         ],
         "y": [
          4.504,
          3.9499999999999997
         ]
        },
        {
         "name": "一次通过平均时长",
         "type": "scatter",
         "uid": "782901b2-cacd-11e8-8d03-a81e84e6c740",
         "x": [
          8,
          9
         ],
         "y": [
          6.191999999999999,
          4.4975
         ]
        }
       ],
       "layout": {
        "title": "NovaS4一次通过时长&xten一次通过时长&一次通过平均时长月趋势图",
        "xaxis": {
         "mirror": "all",
         "nticks": 20,
         "showgrid": true,
         "showline": true,
         "title": "月",
         "zeroline": true
        },
        "yaxis": {
         "mirror": "all",
         "nticks": 20,
         "showgrid": true,
         "showline": true,
         "title": "NovaS4一次通过时长&xten一次通过时长&一次通过平均时长",
         "zeroline": true
        }
       }
      },
      "text/html": [
       "<div id=\"b368a4d6-e6d1-4461-b5a8-e274ff1b549d\" style=\"height: 525px; width: 100%;\" class=\"plotly-graph-div\"></div><script type=\"text/javascript\">require([\"plotly\"], function(Plotly) { window.PLOTLYENV=window.PLOTLYENV || {};window.PLOTLYENV.BASE_URL=\"https://plot.ly\";Plotly.newPlot(\"b368a4d6-e6d1-4461-b5a8-e274ff1b549d\", [{\"name\": \"NovaS4\\u4e00\\u6b21\\u901a\\u8fc7\\u65f6\\u957f\", \"x\": [8, 9], \"y\": [7.8199999999999985, 6.195], \"type\": \"scatter\", \"uid\": \"7828fc08-cacd-11e8-8d03-a81e84e6c740\"}, {\"name\": \"xten\\u4e00\\u6b21\\u901a\\u8fc7\\u65f6\\u957f\", \"x\": [8, 9], \"y\": [4.504, 3.9499999999999997], \"type\": \"scatter\", \"uid\": \"7828ff5a-cacd-11e8-8d03-a81e84e6c740\"}, {\"name\": \"\\u4e00\\u6b21\\u901a\\u8fc7\\u5e73\\u5747\\u65f6\\u957f\", \"x\": [8, 9], \"y\": [6.191999999999999, 4.4975], \"type\": \"scatter\", \"uid\": \"782901b2-cacd-11e8-8d03-a81e84e6c740\"}], {\"title\": \"NovaS4\\u4e00\\u6b21\\u901a\\u8fc7\\u65f6\\u957f&xten\\u4e00\\u6b21\\u901a\\u8fc7\\u65f6\\u957f&\\u4e00\\u6b21\\u901a\\u8fc7\\u5e73\\u5747\\u65f6\\u957f\\u6708\\u8d8b\\u52bf\\u56fe\", \"xaxis\": {\"mirror\": \"all\", \"nticks\": 20, \"showgrid\": true, \"showline\": true, \"title\": \"\\u6708\", \"zeroline\": true}, \"yaxis\": {\"mirror\": \"all\", \"nticks\": 20, \"showgrid\": true, \"showline\": true, \"title\": \"NovaS4\\u4e00\\u6b21\\u901a\\u8fc7\\u65f6\\u957f&xten\\u4e00\\u6b21\\u901a\\u8fc7\\u65f6\\u957f&\\u4e00\\u6b21\\u901a\\u8fc7\\u5e73\\u5747\\u65f6\\u957f\", \"zeroline\": true}}, {\"showLink\": true, \"linkText\": \"Export to plot.ly\"})});</script>"
      ],
      "text/vnd.plotly.v1+html": [
       "<div id=\"b368a4d6-e6d1-4461-b5a8-e274ff1b549d\" style=\"height: 525px; width: 100%;\" class=\"plotly-graph-div\"></div><script type=\"text/javascript\">require([\"plotly\"], function(Plotly) { window.PLOTLYENV=window.PLOTLYENV || {};window.PLOTLYENV.BASE_URL=\"https://plot.ly\";Plotly.newPlot(\"b368a4d6-e6d1-4461-b5a8-e274ff1b549d\", [{\"name\": \"NovaS4\\u4e00\\u6b21\\u901a\\u8fc7\\u65f6\\u957f\", \"x\": [8, 9], \"y\": [7.8199999999999985, 6.195], \"type\": \"scatter\", \"uid\": \"7828fc08-cacd-11e8-8d03-a81e84e6c740\"}, {\"name\": \"xten\\u4e00\\u6b21\\u901a\\u8fc7\\u65f6\\u957f\", \"x\": [8, 9], \"y\": [4.504, 3.9499999999999997], \"type\": \"scatter\", \"uid\": \"7828ff5a-cacd-11e8-8d03-a81e84e6c740\"}, {\"name\": \"\\u4e00\\u6b21\\u901a\\u8fc7\\u5e73\\u5747\\u65f6\\u957f\", \"x\": [8, 9], \"y\": [6.191999999999999, 4.4975], \"type\": \"scatter\", \"uid\": \"782901b2-cacd-11e8-8d03-a81e84e6c740\"}], {\"title\": \"NovaS4\\u4e00\\u6b21\\u901a\\u8fc7\\u65f6\\u957f&xten\\u4e00\\u6b21\\u901a\\u8fc7\\u65f6\\u957f&\\u4e00\\u6b21\\u901a\\u8fc7\\u5e73\\u5747\\u65f6\\u957f\\u6708\\u8d8b\\u52bf\\u56fe\", \"xaxis\": {\"mirror\": \"all\", \"nticks\": 20, \"showgrid\": true, \"showline\": true, \"title\": \"\\u6708\", \"zeroline\": true}, \"yaxis\": {\"mirror\": \"all\", \"nticks\": 20, \"showgrid\": true, \"showline\": true, \"title\": \"NovaS4\\u4e00\\u6b21\\u901a\\u8fc7\\u65f6\\u957f&xten\\u4e00\\u6b21\\u901a\\u8fc7\\u65f6\\u957f&\\u4e00\\u6b21\\u901a\\u8fc7\\u5e73\\u5747\\u65f6\\u957f\", \"zeroline\": true}}, {\"showLink\": true, \"linkText\": \"Export to plot.ly\"})});</script>"
      ]
     },
     "metadata": {},
     "output_type": "display_data"
    }
   ],
   "source": [
    "ss = myModule.format(all_df2 ,\"日期（格式“月-周次”）\" ,[ '一次通过平均时长','xten一次通过时长','NovaS4一次通过时长' ])\n",
    "myModule.myPlot(ss.groupby('sum')).plot('line')\n",
    "\n",
    "ss = myModule.format(all_df2 ,\"month\" ,[ '一次通过平均时长','xten一次通过时长','NovaS4一次通过时长' ])\n",
    "myModule.myPlot(ss.groupby('mean')).plot('line','月')"
   ]
  },
  {
   "cell_type": "markdown",
   "metadata": {},
   "source": [
    "### 异常"
   ]
  },
  {
   "cell_type": "markdown",
   "metadata": {},
   "source": [
    "####  测序异常，外来index错误，自建库index错误，lims系统错误，个性化拆分数"
   ]
  },
  {
   "cell_type": "code",
   "execution_count": 88,
   "metadata": {
    "collapsed": false
   },
   "outputs": [
    {
     "data": {
      "application/vnd.plotly.v1+json": {
       "data": [
        {
         "name": "外来Index错误",
         "type": "scatter",
         "uid": "a9662b9c-cacd-11e8-8d03-a81e84e6c740",
         "x": [
          "8-1",
          "8-2",
          "8-3",
          "8-4",
          "8-5",
          "9-1",
          "9-2",
          "9-3",
          "9-4"
         ],
         "y": [
          2,
          8,
          4,
          4,
          2,
          8,
          3,
          11,
          12
         ]
        },
        {
         "name": "自建库Index错误",
         "type": "scatter",
         "uid": "a9662ee4-cacd-11e8-8d03-a81e84e6c740",
         "x": [
          "8-1",
          "8-2",
          "8-3",
          "8-4",
          "8-5",
          "9-1",
          "9-2",
          "9-3",
          "9-4"
         ],
         "y": [
          0,
          2,
          0,
          2,
          2,
          1,
          0,
          0,
          0
         ]
        },
        {
         "name": "lims系统错误",
         "type": "scatter",
         "uid": "a9663128-cacd-11e8-8d03-a81e84e6c740",
         "x": [
          "8-1",
          "8-2",
          "8-3",
          "8-4",
          "8-5",
          "9-1",
          "9-2",
          "9-3",
          "9-4"
         ],
         "y": [
          2,
          3,
          0,
          0,
          1,
          0,
          0,
          3,
          0
         ]
        },
        {
         "name": "个性化拆分数",
         "type": "scatter",
         "uid": "a966333a-cacd-11e8-8d03-a81e84e6c740",
         "x": [
          "8-1",
          "8-2",
          "8-3",
          "8-4",
          "8-5",
          "9-1",
          "9-2",
          "9-3",
          "9-4"
         ],
         "y": [
          3,
          1,
          0,
          2,
          3,
          1,
          0,
          1,
          2
         ]
        },
        {
         "name": "测序异常",
         "type": "scatter",
         "uid": "a966359c-cacd-11e8-8d03-a81e84e6c740",
         "x": [
          "8-1",
          "8-2",
          "8-3",
          "8-4",
          "8-5",
          "9-1",
          "9-2",
          "9-3",
          "9-4"
         ],
         "y": [
          10,
          17,
          19,
          12,
          11,
          10,
          6,
          10,
          13
         ]
        }
       ],
       "layout": {
        "title": "外来Index错误&自建库Index错误&lims系统错误&个性化拆分数&测序异常周趋势图",
        "xaxis": {
         "mirror": "all",
         "nticks": 20,
         "showgrid": true,
         "showline": true,
         "title": "周",
         "zeroline": true
        },
        "yaxis": {
         "mirror": "all",
         "nticks": 20,
         "showgrid": true,
         "showline": true,
         "title": "外来Index错误&自建库Index错误&lims系统错误&个性化拆分数&测序异常",
         "zeroline": true
        }
       }
      },
      "text/html": [
       "<div id=\"c60a415e-84b3-4222-ac12-7dc795e9bc89\" style=\"height: 525px; width: 100%;\" class=\"plotly-graph-div\"></div><script type=\"text/javascript\">require([\"plotly\"], function(Plotly) { window.PLOTLYENV=window.PLOTLYENV || {};window.PLOTLYENV.BASE_URL=\"https://plot.ly\";Plotly.newPlot(\"c60a415e-84b3-4222-ac12-7dc795e9bc89\", [{\"name\": \"\\u5916\\u6765Index\\u9519\\u8bef\", \"x\": [\"8-1\", \"8-2\", \"8-3\", \"8-4\", \"8-5\", \"9-1\", \"9-2\", \"9-3\", \"9-4\"], \"y\": [2, 8, 4, 4, 2, 8, 3, 11, 12], \"type\": \"scatter\", \"uid\": \"a9662b9c-cacd-11e8-8d03-a81e84e6c740\"}, {\"name\": \"\\u81ea\\u5efa\\u5e93Index\\u9519\\u8bef\", \"x\": [\"8-1\", \"8-2\", \"8-3\", \"8-4\", \"8-5\", \"9-1\", \"9-2\", \"9-3\", \"9-4\"], \"y\": [0, 2, 0, 2, 2, 1, 0, 0, 0], \"type\": \"scatter\", \"uid\": \"a9662ee4-cacd-11e8-8d03-a81e84e6c740\"}, {\"name\": \"lims\\u7cfb\\u7edf\\u9519\\u8bef\", \"x\": [\"8-1\", \"8-2\", \"8-3\", \"8-4\", \"8-5\", \"9-1\", \"9-2\", \"9-3\", \"9-4\"], \"y\": [2, 3, 0, 0, 1, 0, 0, 3, 0], \"type\": \"scatter\", \"uid\": \"a9663128-cacd-11e8-8d03-a81e84e6c740\"}, {\"name\": \"\\u4e2a\\u6027\\u5316\\u62c6\\u5206\\u6570\", \"x\": [\"8-1\", \"8-2\", \"8-3\", \"8-4\", \"8-5\", \"9-1\", \"9-2\", \"9-3\", \"9-4\"], \"y\": [3, 1, 0, 2, 3, 1, 0, 1, 2], \"type\": \"scatter\", \"uid\": \"a966333a-cacd-11e8-8d03-a81e84e6c740\"}, {\"name\": \"\\u6d4b\\u5e8f\\u5f02\\u5e38\", \"x\": [\"8-1\", \"8-2\", \"8-3\", \"8-4\", \"8-5\", \"9-1\", \"9-2\", \"9-3\", \"9-4\"], \"y\": [10, 17, 19, 12, 11, 10, 6, 10, 13], \"type\": \"scatter\", \"uid\": \"a966359c-cacd-11e8-8d03-a81e84e6c740\"}], {\"title\": \"\\u5916\\u6765Index\\u9519\\u8bef&\\u81ea\\u5efa\\u5e93Index\\u9519\\u8bef&lims\\u7cfb\\u7edf\\u9519\\u8bef&\\u4e2a\\u6027\\u5316\\u62c6\\u5206\\u6570&\\u6d4b\\u5e8f\\u5f02\\u5e38\\u5468\\u8d8b\\u52bf\\u56fe\", \"xaxis\": {\"mirror\": \"all\", \"nticks\": 20, \"showgrid\": true, \"showline\": true, \"title\": \"\\u5468\", \"zeroline\": true}, \"yaxis\": {\"mirror\": \"all\", \"nticks\": 20, \"showgrid\": true, \"showline\": true, \"title\": \"\\u5916\\u6765Index\\u9519\\u8bef&\\u81ea\\u5efa\\u5e93Index\\u9519\\u8bef&lims\\u7cfb\\u7edf\\u9519\\u8bef&\\u4e2a\\u6027\\u5316\\u62c6\\u5206\\u6570&\\u6d4b\\u5e8f\\u5f02\\u5e38\", \"zeroline\": true}}, {\"showLink\": true, \"linkText\": \"Export to plot.ly\"})});</script>"
      ],
      "text/vnd.plotly.v1+html": [
       "<div id=\"c60a415e-84b3-4222-ac12-7dc795e9bc89\" style=\"height: 525px; width: 100%;\" class=\"plotly-graph-div\"></div><script type=\"text/javascript\">require([\"plotly\"], function(Plotly) { window.PLOTLYENV=window.PLOTLYENV || {};window.PLOTLYENV.BASE_URL=\"https://plot.ly\";Plotly.newPlot(\"c60a415e-84b3-4222-ac12-7dc795e9bc89\", [{\"name\": \"\\u5916\\u6765Index\\u9519\\u8bef\", \"x\": [\"8-1\", \"8-2\", \"8-3\", \"8-4\", \"8-5\", \"9-1\", \"9-2\", \"9-3\", \"9-4\"], \"y\": [2, 8, 4, 4, 2, 8, 3, 11, 12], \"type\": \"scatter\", \"uid\": \"a9662b9c-cacd-11e8-8d03-a81e84e6c740\"}, {\"name\": \"\\u81ea\\u5efa\\u5e93Index\\u9519\\u8bef\", \"x\": [\"8-1\", \"8-2\", \"8-3\", \"8-4\", \"8-5\", \"9-1\", \"9-2\", \"9-3\", \"9-4\"], \"y\": [0, 2, 0, 2, 2, 1, 0, 0, 0], \"type\": \"scatter\", \"uid\": \"a9662ee4-cacd-11e8-8d03-a81e84e6c740\"}, {\"name\": \"lims\\u7cfb\\u7edf\\u9519\\u8bef\", \"x\": [\"8-1\", \"8-2\", \"8-3\", \"8-4\", \"8-5\", \"9-1\", \"9-2\", \"9-3\", \"9-4\"], \"y\": [2, 3, 0, 0, 1, 0, 0, 3, 0], \"type\": \"scatter\", \"uid\": \"a9663128-cacd-11e8-8d03-a81e84e6c740\"}, {\"name\": \"\\u4e2a\\u6027\\u5316\\u62c6\\u5206\\u6570\", \"x\": [\"8-1\", \"8-2\", \"8-3\", \"8-4\", \"8-5\", \"9-1\", \"9-2\", \"9-3\", \"9-4\"], \"y\": [3, 1, 0, 2, 3, 1, 0, 1, 2], \"type\": \"scatter\", \"uid\": \"a966333a-cacd-11e8-8d03-a81e84e6c740\"}, {\"name\": \"\\u6d4b\\u5e8f\\u5f02\\u5e38\", \"x\": [\"8-1\", \"8-2\", \"8-3\", \"8-4\", \"8-5\", \"9-1\", \"9-2\", \"9-3\", \"9-4\"], \"y\": [10, 17, 19, 12, 11, 10, 6, 10, 13], \"type\": \"scatter\", \"uid\": \"a966359c-cacd-11e8-8d03-a81e84e6c740\"}], {\"title\": \"\\u5916\\u6765Index\\u9519\\u8bef&\\u81ea\\u5efa\\u5e93Index\\u9519\\u8bef&lims\\u7cfb\\u7edf\\u9519\\u8bef&\\u4e2a\\u6027\\u5316\\u62c6\\u5206\\u6570&\\u6d4b\\u5e8f\\u5f02\\u5e38\\u5468\\u8d8b\\u52bf\\u56fe\", \"xaxis\": {\"mirror\": \"all\", \"nticks\": 20, \"showgrid\": true, \"showline\": true, \"title\": \"\\u5468\", \"zeroline\": true}, \"yaxis\": {\"mirror\": \"all\", \"nticks\": 20, \"showgrid\": true, \"showline\": true, \"title\": \"\\u5916\\u6765Index\\u9519\\u8bef&\\u81ea\\u5efa\\u5e93Index\\u9519\\u8bef&lims\\u7cfb\\u7edf\\u9519\\u8bef&\\u4e2a\\u6027\\u5316\\u62c6\\u5206\\u6570&\\u6d4b\\u5e8f\\u5f02\\u5e38\", \"zeroline\": true}}, {\"showLink\": true, \"linkText\": \"Export to plot.ly\"})});</script>"
      ]
     },
     "metadata": {},
     "output_type": "display_data"
    },
    {
     "data": {
      "application/vnd.plotly.v1+json": {
       "data": [
        {
         "name": "外来Index错误",
         "type": "scatter",
         "uid": "a9703650-cacd-11e8-8d03-a81e84e6c740",
         "x": [
          8,
          9
         ],
         "y": [
          4,
          8.5
         ]
        },
        {
         "name": "自建库Index错误",
         "type": "scatter",
         "uid": "a9703a10-cacd-11e8-8d03-a81e84e6c740",
         "x": [
          8,
          9
         ],
         "y": [
          1.2,
          0.25
         ]
        },
        {
         "name": "lims系统错误",
         "type": "scatter",
         "uid": "a970438e-cacd-11e8-8d03-a81e84e6c740",
         "x": [
          8,
          9
         ],
         "y": [
          1.2,
          0.75
         ]
        },
        {
         "name": "个性化拆分数",
         "type": "scatter",
         "uid": "a97046ea-cacd-11e8-8d03-a81e84e6c740",
         "x": [
          8,
          9
         ],
         "y": [
          1.8,
          1
         ]
        },
        {
         "name": "测序异常",
         "type": "scatter",
         "uid": "a9704938-cacd-11e8-8d03-a81e84e6c740",
         "x": [
          8,
          9
         ],
         "y": [
          13.8,
          9.75
         ]
        }
       ],
       "layout": {
        "title": "外来Index错误&自建库Index错误&lims系统错误&个性化拆分数&测序异常月趋势图",
        "xaxis": {
         "mirror": "all",
         "nticks": 20,
         "showgrid": true,
         "showline": true,
         "title": "月",
         "zeroline": true
        },
        "yaxis": {
         "mirror": "all",
         "nticks": 20,
         "showgrid": true,
         "showline": true,
         "title": "外来Index错误&自建库Index错误&lims系统错误&个性化拆分数&测序异常",
         "zeroline": true
        }
       }
      },
      "text/html": [
       "<div id=\"8548ea26-6af7-4811-9319-baa51e45d675\" style=\"height: 525px; width: 100%;\" class=\"plotly-graph-div\"></div><script type=\"text/javascript\">require([\"plotly\"], function(Plotly) { window.PLOTLYENV=window.PLOTLYENV || {};window.PLOTLYENV.BASE_URL=\"https://plot.ly\";Plotly.newPlot(\"8548ea26-6af7-4811-9319-baa51e45d675\", [{\"name\": \"\\u5916\\u6765Index\\u9519\\u8bef\", \"x\": [8, 9], \"y\": [4.0, 8.5], \"type\": \"scatter\", \"uid\": \"a9703650-cacd-11e8-8d03-a81e84e6c740\"}, {\"name\": \"\\u81ea\\u5efa\\u5e93Index\\u9519\\u8bef\", \"x\": [8, 9], \"y\": [1.2, 0.25], \"type\": \"scatter\", \"uid\": \"a9703a10-cacd-11e8-8d03-a81e84e6c740\"}, {\"name\": \"lims\\u7cfb\\u7edf\\u9519\\u8bef\", \"x\": [8, 9], \"y\": [1.2, 0.75], \"type\": \"scatter\", \"uid\": \"a970438e-cacd-11e8-8d03-a81e84e6c740\"}, {\"name\": \"\\u4e2a\\u6027\\u5316\\u62c6\\u5206\\u6570\", \"x\": [8, 9], \"y\": [1.8, 1.0], \"type\": \"scatter\", \"uid\": \"a97046ea-cacd-11e8-8d03-a81e84e6c740\"}, {\"name\": \"\\u6d4b\\u5e8f\\u5f02\\u5e38\", \"x\": [8, 9], \"y\": [13.8, 9.75], \"type\": \"scatter\", \"uid\": \"a9704938-cacd-11e8-8d03-a81e84e6c740\"}], {\"title\": \"\\u5916\\u6765Index\\u9519\\u8bef&\\u81ea\\u5efa\\u5e93Index\\u9519\\u8bef&lims\\u7cfb\\u7edf\\u9519\\u8bef&\\u4e2a\\u6027\\u5316\\u62c6\\u5206\\u6570&\\u6d4b\\u5e8f\\u5f02\\u5e38\\u6708\\u8d8b\\u52bf\\u56fe\", \"xaxis\": {\"mirror\": \"all\", \"nticks\": 20, \"showgrid\": true, \"showline\": true, \"title\": \"\\u6708\", \"zeroline\": true}, \"yaxis\": {\"mirror\": \"all\", \"nticks\": 20, \"showgrid\": true, \"showline\": true, \"title\": \"\\u5916\\u6765Index\\u9519\\u8bef&\\u81ea\\u5efa\\u5e93Index\\u9519\\u8bef&lims\\u7cfb\\u7edf\\u9519\\u8bef&\\u4e2a\\u6027\\u5316\\u62c6\\u5206\\u6570&\\u6d4b\\u5e8f\\u5f02\\u5e38\", \"zeroline\": true}}, {\"showLink\": true, \"linkText\": \"Export to plot.ly\"})});</script>"
      ],
      "text/vnd.plotly.v1+html": [
       "<div id=\"8548ea26-6af7-4811-9319-baa51e45d675\" style=\"height: 525px; width: 100%;\" class=\"plotly-graph-div\"></div><script type=\"text/javascript\">require([\"plotly\"], function(Plotly) { window.PLOTLYENV=window.PLOTLYENV || {};window.PLOTLYENV.BASE_URL=\"https://plot.ly\";Plotly.newPlot(\"8548ea26-6af7-4811-9319-baa51e45d675\", [{\"name\": \"\\u5916\\u6765Index\\u9519\\u8bef\", \"x\": [8, 9], \"y\": [4.0, 8.5], \"type\": \"scatter\", \"uid\": \"a9703650-cacd-11e8-8d03-a81e84e6c740\"}, {\"name\": \"\\u81ea\\u5efa\\u5e93Index\\u9519\\u8bef\", \"x\": [8, 9], \"y\": [1.2, 0.25], \"type\": \"scatter\", \"uid\": \"a9703a10-cacd-11e8-8d03-a81e84e6c740\"}, {\"name\": \"lims\\u7cfb\\u7edf\\u9519\\u8bef\", \"x\": [8, 9], \"y\": [1.2, 0.75], \"type\": \"scatter\", \"uid\": \"a970438e-cacd-11e8-8d03-a81e84e6c740\"}, {\"name\": \"\\u4e2a\\u6027\\u5316\\u62c6\\u5206\\u6570\", \"x\": [8, 9], \"y\": [1.8, 1.0], \"type\": \"scatter\", \"uid\": \"a97046ea-cacd-11e8-8d03-a81e84e6c740\"}, {\"name\": \"\\u6d4b\\u5e8f\\u5f02\\u5e38\", \"x\": [8, 9], \"y\": [13.8, 9.75], \"type\": \"scatter\", \"uid\": \"a9704938-cacd-11e8-8d03-a81e84e6c740\"}], {\"title\": \"\\u5916\\u6765Index\\u9519\\u8bef&\\u81ea\\u5efa\\u5e93Index\\u9519\\u8bef&lims\\u7cfb\\u7edf\\u9519\\u8bef&\\u4e2a\\u6027\\u5316\\u62c6\\u5206\\u6570&\\u6d4b\\u5e8f\\u5f02\\u5e38\\u6708\\u8d8b\\u52bf\\u56fe\", \"xaxis\": {\"mirror\": \"all\", \"nticks\": 20, \"showgrid\": true, \"showline\": true, \"title\": \"\\u6708\", \"zeroline\": true}, \"yaxis\": {\"mirror\": \"all\", \"nticks\": 20, \"showgrid\": true, \"showline\": true, \"title\": \"\\u5916\\u6765Index\\u9519\\u8bef&\\u81ea\\u5efa\\u5e93Index\\u9519\\u8bef&lims\\u7cfb\\u7edf\\u9519\\u8bef&\\u4e2a\\u6027\\u5316\\u62c6\\u5206\\u6570&\\u6d4b\\u5e8f\\u5f02\\u5e38\", \"zeroline\": true}}, {\"showLink\": true, \"linkText\": \"Export to plot.ly\"})});</script>"
      ]
     },
     "metadata": {},
     "output_type": "display_data"
    }
   ],
   "source": [
    "in_list = ['测序异常', '外来Index错误' , '自建库Index错误' ,'lims系统错误', '个性化拆分数' ]\n",
    "ss = myModule.format(all_df2 ,\"日期（格式“月-周次”）\" ,in_list)\n",
    "myModule.myPlot(ss.groupby('sum')).plot('line')\n",
    "\n",
    "ss = myModule.format(all_df2 ,\"month\" ,in_list)\n",
    "myModule.myPlot(ss.groupby('mean')).plot('line','月')"
   ]
  },
  {
   "cell_type": "markdown",
   "metadata": {},
   "source": [
    "#### 拆分流程异常数，延期处理"
   ]
  },
  {
   "cell_type": "code",
   "execution_count": 89,
   "metadata": {
    "collapsed": false
   },
   "outputs": [
    {
     "data": {
      "application/vnd.plotly.v1+json": {
       "data": [
        {
         "name": "处理延期",
         "type": "scatter",
         "uid": "c6f2e06a-cacd-11e8-8d03-a81e84e6c740",
         "x": [
          "8-1",
          "8-2",
          "8-3",
          "8-4",
          "8-5",
          "9-1",
          "9-2",
          "9-3",
          "9-4"
         ],
         "y": [
          0,
          0,
          0,
          0,
          0,
          0,
          0,
          0,
          1
         ]
        },
        {
         "name": "拆分流程异常数",
         "type": "scatter",
         "uid": "c6f2e3f8-cacd-11e8-8d03-a81e84e6c740",
         "x": [
          "8-1",
          "8-2",
          "8-3",
          "8-4",
          "8-5",
          "9-1",
          "9-2",
          "9-3",
          "9-4"
         ],
         "y": [
          2,
          0,
          1,
          0,
          4,
          2,
          0,
          0,
          0
         ]
        }
       ],
       "layout": {
        "title": "处理延期&拆分流程异常数周趋势图",
        "xaxis": {
         "mirror": "all",
         "nticks": 20,
         "showgrid": true,
         "showline": true,
         "title": "周",
         "zeroline": true
        },
        "yaxis": {
         "mirror": "all",
         "nticks": 20,
         "showgrid": true,
         "showline": true,
         "title": "处理延期&拆分流程异常数",
         "zeroline": true
        }
       }
      },
      "text/html": [
       "<div id=\"0b4e506e-a69b-4a40-8213-8d67000ea651\" style=\"height: 525px; width: 100%;\" class=\"plotly-graph-div\"></div><script type=\"text/javascript\">require([\"plotly\"], function(Plotly) { window.PLOTLYENV=window.PLOTLYENV || {};window.PLOTLYENV.BASE_URL=\"https://plot.ly\";Plotly.newPlot(\"0b4e506e-a69b-4a40-8213-8d67000ea651\", [{\"name\": \"\\u5904\\u7406\\u5ef6\\u671f\", \"x\": [\"8-1\", \"8-2\", \"8-3\", \"8-4\", \"8-5\", \"9-1\", \"9-2\", \"9-3\", \"9-4\"], \"y\": [0, 0, 0, 0, 0, 0, 0, 0, 1], \"type\": \"scatter\", \"uid\": \"c6f2e06a-cacd-11e8-8d03-a81e84e6c740\"}, {\"name\": \"\\u62c6\\u5206\\u6d41\\u7a0b\\u5f02\\u5e38\\u6570\", \"x\": [\"8-1\", \"8-2\", \"8-3\", \"8-4\", \"8-5\", \"9-1\", \"9-2\", \"9-3\", \"9-4\"], \"y\": [2, 0, 1, 0, 4, 2, 0, 0, 0], \"type\": \"scatter\", \"uid\": \"c6f2e3f8-cacd-11e8-8d03-a81e84e6c740\"}], {\"title\": \"\\u5904\\u7406\\u5ef6\\u671f&\\u62c6\\u5206\\u6d41\\u7a0b\\u5f02\\u5e38\\u6570\\u5468\\u8d8b\\u52bf\\u56fe\", \"xaxis\": {\"mirror\": \"all\", \"nticks\": 20, \"showgrid\": true, \"showline\": true, \"title\": \"\\u5468\", \"zeroline\": true}, \"yaxis\": {\"mirror\": \"all\", \"nticks\": 20, \"showgrid\": true, \"showline\": true, \"title\": \"\\u5904\\u7406\\u5ef6\\u671f&\\u62c6\\u5206\\u6d41\\u7a0b\\u5f02\\u5e38\\u6570\", \"zeroline\": true}}, {\"showLink\": true, \"linkText\": \"Export to plot.ly\"})});</script>"
      ],
      "text/vnd.plotly.v1+html": [
       "<div id=\"0b4e506e-a69b-4a40-8213-8d67000ea651\" style=\"height: 525px; width: 100%;\" class=\"plotly-graph-div\"></div><script type=\"text/javascript\">require([\"plotly\"], function(Plotly) { window.PLOTLYENV=window.PLOTLYENV || {};window.PLOTLYENV.BASE_URL=\"https://plot.ly\";Plotly.newPlot(\"0b4e506e-a69b-4a40-8213-8d67000ea651\", [{\"name\": \"\\u5904\\u7406\\u5ef6\\u671f\", \"x\": [\"8-1\", \"8-2\", \"8-3\", \"8-4\", \"8-5\", \"9-1\", \"9-2\", \"9-3\", \"9-4\"], \"y\": [0, 0, 0, 0, 0, 0, 0, 0, 1], \"type\": \"scatter\", \"uid\": \"c6f2e06a-cacd-11e8-8d03-a81e84e6c740\"}, {\"name\": \"\\u62c6\\u5206\\u6d41\\u7a0b\\u5f02\\u5e38\\u6570\", \"x\": [\"8-1\", \"8-2\", \"8-3\", \"8-4\", \"8-5\", \"9-1\", \"9-2\", \"9-3\", \"9-4\"], \"y\": [2, 0, 1, 0, 4, 2, 0, 0, 0], \"type\": \"scatter\", \"uid\": \"c6f2e3f8-cacd-11e8-8d03-a81e84e6c740\"}], {\"title\": \"\\u5904\\u7406\\u5ef6\\u671f&\\u62c6\\u5206\\u6d41\\u7a0b\\u5f02\\u5e38\\u6570\\u5468\\u8d8b\\u52bf\\u56fe\", \"xaxis\": {\"mirror\": \"all\", \"nticks\": 20, \"showgrid\": true, \"showline\": true, \"title\": \"\\u5468\", \"zeroline\": true}, \"yaxis\": {\"mirror\": \"all\", \"nticks\": 20, \"showgrid\": true, \"showline\": true, \"title\": \"\\u5904\\u7406\\u5ef6\\u671f&\\u62c6\\u5206\\u6d41\\u7a0b\\u5f02\\u5e38\\u6570\", \"zeroline\": true}}, {\"showLink\": true, \"linkText\": \"Export to plot.ly\"})});</script>"
      ]
     },
     "metadata": {},
     "output_type": "display_data"
    },
    {
     "data": {
      "application/vnd.plotly.v1+json": {
       "data": [
        {
         "name": "处理延期",
         "type": "scatter",
         "uid": "c6fa96a2-cacd-11e8-8d03-a81e84e6c740",
         "x": [
          8,
          9
         ],
         "y": [
          0,
          0.25
         ]
        },
        {
         "name": "拆分流程异常数",
         "type": "scatter",
         "uid": "c6fa9f1c-cacd-11e8-8d03-a81e84e6c740",
         "x": [
          8,
          9
         ],
         "y": [
          1.4,
          0.5
         ]
        }
       ],
       "layout": {
        "title": "处理延期&拆分流程异常数月趋势图",
        "xaxis": {
         "mirror": "all",
         "nticks": 20,
         "showgrid": true,
         "showline": true,
         "title": "月",
         "zeroline": true
        },
        "yaxis": {
         "mirror": "all",
         "nticks": 20,
         "showgrid": true,
         "showline": true,
         "title": "处理延期&拆分流程异常数",
         "zeroline": true
        }
       }
      },
      "text/html": [
       "<div id=\"615a5a22-05f0-40d4-810d-aa9c2460f5d0\" style=\"height: 525px; width: 100%;\" class=\"plotly-graph-div\"></div><script type=\"text/javascript\">require([\"plotly\"], function(Plotly) { window.PLOTLYENV=window.PLOTLYENV || {};window.PLOTLYENV.BASE_URL=\"https://plot.ly\";Plotly.newPlot(\"615a5a22-05f0-40d4-810d-aa9c2460f5d0\", [{\"name\": \"\\u5904\\u7406\\u5ef6\\u671f\", \"x\": [8, 9], \"y\": [0.0, 0.25], \"type\": \"scatter\", \"uid\": \"c6fa96a2-cacd-11e8-8d03-a81e84e6c740\"}, {\"name\": \"\\u62c6\\u5206\\u6d41\\u7a0b\\u5f02\\u5e38\\u6570\", \"x\": [8, 9], \"y\": [1.4, 0.5], \"type\": \"scatter\", \"uid\": \"c6fa9f1c-cacd-11e8-8d03-a81e84e6c740\"}], {\"title\": \"\\u5904\\u7406\\u5ef6\\u671f&\\u62c6\\u5206\\u6d41\\u7a0b\\u5f02\\u5e38\\u6570\\u6708\\u8d8b\\u52bf\\u56fe\", \"xaxis\": {\"mirror\": \"all\", \"nticks\": 20, \"showgrid\": true, \"showline\": true, \"title\": \"\\u6708\", \"zeroline\": true}, \"yaxis\": {\"mirror\": \"all\", \"nticks\": 20, \"showgrid\": true, \"showline\": true, \"title\": \"\\u5904\\u7406\\u5ef6\\u671f&\\u62c6\\u5206\\u6d41\\u7a0b\\u5f02\\u5e38\\u6570\", \"zeroline\": true}}, {\"showLink\": true, \"linkText\": \"Export to plot.ly\"})});</script>"
      ],
      "text/vnd.plotly.v1+html": [
       "<div id=\"615a5a22-05f0-40d4-810d-aa9c2460f5d0\" style=\"height: 525px; width: 100%;\" class=\"plotly-graph-div\"></div><script type=\"text/javascript\">require([\"plotly\"], function(Plotly) { window.PLOTLYENV=window.PLOTLYENV || {};window.PLOTLYENV.BASE_URL=\"https://plot.ly\";Plotly.newPlot(\"615a5a22-05f0-40d4-810d-aa9c2460f5d0\", [{\"name\": \"\\u5904\\u7406\\u5ef6\\u671f\", \"x\": [8, 9], \"y\": [0.0, 0.25], \"type\": \"scatter\", \"uid\": \"c6fa96a2-cacd-11e8-8d03-a81e84e6c740\"}, {\"name\": \"\\u62c6\\u5206\\u6d41\\u7a0b\\u5f02\\u5e38\\u6570\", \"x\": [8, 9], \"y\": [1.4, 0.5], \"type\": \"scatter\", \"uid\": \"c6fa9f1c-cacd-11e8-8d03-a81e84e6c740\"}], {\"title\": \"\\u5904\\u7406\\u5ef6\\u671f&\\u62c6\\u5206\\u6d41\\u7a0b\\u5f02\\u5e38\\u6570\\u6708\\u8d8b\\u52bf\\u56fe\", \"xaxis\": {\"mirror\": \"all\", \"nticks\": 20, \"showgrid\": true, \"showline\": true, \"title\": \"\\u6708\", \"zeroline\": true}, \"yaxis\": {\"mirror\": \"all\", \"nticks\": 20, \"showgrid\": true, \"showline\": true, \"title\": \"\\u5904\\u7406\\u5ef6\\u671f&\\u62c6\\u5206\\u6d41\\u7a0b\\u5f02\\u5e38\\u6570\", \"zeroline\": true}}, {\"showLink\": true, \"linkText\": \"Export to plot.ly\"})});</script>"
      ]
     },
     "metadata": {},
     "output_type": "display_data"
    }
   ],
   "source": [
    "in_list = ['拆分流程异常数','处理延期' ]\n",
    "ss = myModule.format(all_df2 ,\"日期（格式“月-周次”）\" ,in_list)\n",
    "myModule.myPlot(ss.groupby('sum')).plot('line')\n",
    "\n",
    "ss = myModule.format(all_df2 ,\"month\" ,in_list)\n",
    "myModule.myPlot(ss.groupby('mean')).plot('line','月')"
   ]
  },
  {
   "cell_type": "code",
   "execution_count": 46,
   "metadata": {
    "collapsed": true
   },
   "outputs": [],
   "source": [
    "all_files , title = myModule.get_title(pathway , 0 ) ##给路径\n",
    "all_dict = myModule.read_xlsx(all_files, 0 ) ## read all files"
   ]
  },
  {
   "cell_type": "markdown",
   "metadata": {},
   "source": [
    "# 过滤项目个人情况"
   ]
  },
  {
   "cell_type": "markdown",
   "metadata": {},
   "source": [
    "## 产能"
   ]
  },
  {
   "cell_type": "markdown",
   "metadata": {},
   "source": [
    "### 下机批次"
   ]
  },
  {
   "cell_type": "code",
   "execution_count": 93,
   "metadata": {
    "collapsed": false
   },
   "outputs": [
    {
     "data": {
      "application/vnd.plotly.v1+json": {
       "data": [
        {
         "line": {
          "dash": "solid"
         },
         "name": "下机项目数(冷雪)",
         "type": "scatter",
         "uid": "1e588ad0-cace-11e8-8d03-a81e84e6c740",
         "x": [
          "8-1",
          "8-2",
          "8-3",
          "8-4",
          "8-5",
          "9-1",
          "9-2",
          "9-3",
          "9-4"
         ],
         "y": [
          31,
          49,
          51,
          26,
          2,
          54,
          63,
          103,
          138
         ]
        },
        {
         "line": {
          "dash": "dot"
         },
         "name": "下机项目数(卢楠)",
         "type": "scatter",
         "uid": "1e588f80-cace-11e8-8d03-a81e84e6c740",
         "x": [
          "8-1",
          "8-2",
          "8-3",
          "8-4",
          "8-5",
          "9-1",
          "9-2",
          "9-3",
          "9-4"
         ],
         "y": [
          26,
          34,
          21,
          13,
          2,
          1,
          2,
          0,
          0
         ]
        },
        {
         "line": {
          "dash": "dash"
         },
         "name": "下机项目数(屈昂)",
         "type": "scatter",
         "uid": "1e58939a-cace-11e8-8d03-a81e84e6c740",
         "x": [
          "8-1",
          "8-2",
          "8-3",
          "8-4",
          "8-5",
          "9-1",
          "9-2",
          "9-3",
          "9-4"
         ],
         "y": [
          36,
          62,
          62,
          96,
          76,
          117,
          38,
          19,
          15
         ]
        },
        {
         "line": {
          "dash": "longdash"
         },
         "name": "下机项目数(张悦)",
         "type": "scatter",
         "uid": "1e5896c4-cace-11e8-8d03-a81e84e6c740",
         "x": [
          "8-1",
          "8-2",
          "8-3",
          "8-4",
          "8-5",
          "9-1",
          "9-2",
          "9-3",
          "9-4"
         ],
         "y": [
          1,
          1,
          1,
          1,
          5,
          2,
          0,
          0,
          0
         ]
        },
        {
         "line": {
          "dash": "solid"
         },
         "name": "下机批次数(冷雪)",
         "type": "scatter",
         "uid": "1e589fd4-cace-11e8-8d03-a81e84e6c740",
         "x": [
          "8-1",
          "8-2",
          "8-3",
          "8-4",
          "8-5",
          "9-1",
          "9-2",
          "9-3",
          "9-4"
         ],
         "y": [
          38,
          58,
          66,
          28,
          5,
          58,
          76,
          115,
          159
         ]
        },
        {
         "line": {
          "dash": "dot"
         },
         "name": "下机批次数(卢楠)",
         "type": "scatter",
         "uid": "1e58af24-cace-11e8-8d03-a81e84e6c740",
         "x": [
          "8-1",
          "8-2",
          "8-3",
          "8-4",
          "8-5",
          "9-1",
          "9-2",
          "9-3",
          "9-4"
         ],
         "y": [
          36,
          47,
          23,
          13,
          3,
          2,
          3,
          0,
          0
         ]
        },
        {
         "line": {
          "dash": "dash"
         },
         "name": "下机批次数(屈昂)",
         "type": "scatter",
         "uid": "1e58b5e6-cace-11e8-8d03-a81e84e6c740",
         "x": [
          "8-1",
          "8-2",
          "8-3",
          "8-4",
          "8-5",
          "9-1",
          "9-2",
          "9-3",
          "9-4"
         ],
         "y": [
          42,
          74,
          75,
          119,
          85,
          135,
          45,
          21,
          17
         ]
        },
        {
         "line": {
          "dash": "longdash"
         },
         "name": "下机批次数(张悦)",
         "type": "scatter",
         "uid": "1e58ba14-cace-11e8-8d03-a81e84e6c740",
         "x": [
          "8-1",
          "8-2",
          "8-3",
          "8-4",
          "8-5",
          "9-1",
          "9-2",
          "9-3",
          "9-4"
         ],
         "y": [
          2,
          2,
          1,
          1,
          7,
          4,
          0,
          0,
          0
         ]
        }
       ],
       "layout": {
        "title": "下机项目数&下机批次数周趋势图",
        "xaxis": {
         "mirror": "all",
         "nticks": 20,
         "showgrid": true,
         "showline": true,
         "title": "周",
         "zeroline": true
        },
        "yaxis": {
         "mirror": "all",
         "nticks": 20,
         "showgrid": true,
         "showline": true,
         "title": "下机项目数&下机批次数",
         "zeroline": true
        }
       }
      },
      "text/html": [
       "<div id=\"7df977ee-5309-4361-ae22-fa876d4c035b\" style=\"height: 525px; width: 100%;\" class=\"plotly-graph-div\"></div><script type=\"text/javascript\">require([\"plotly\"], function(Plotly) { window.PLOTLYENV=window.PLOTLYENV || {};window.PLOTLYENV.BASE_URL=\"https://plot.ly\";Plotly.newPlot(\"7df977ee-5309-4361-ae22-fa876d4c035b\", [{\"line\": {\"dash\": \"solid\"}, \"name\": \"\\u4e0b\\u673a\\u9879\\u76ee\\u6570(\\u51b7\\u96ea)\", \"x\": [\"8-1\", \"8-2\", \"8-3\", \"8-4\", \"8-5\", \"9-1\", \"9-2\", \"9-3\", \"9-4\"], \"y\": [31, 49, 51, 26, 2, 54, 63, 103, 138], \"type\": \"scatter\", \"uid\": \"1e588ad0-cace-11e8-8d03-a81e84e6c740\"}, {\"line\": {\"dash\": \"dot\"}, \"name\": \"\\u4e0b\\u673a\\u9879\\u76ee\\u6570(\\u5362\\u6960)\", \"x\": [\"8-1\", \"8-2\", \"8-3\", \"8-4\", \"8-5\", \"9-1\", \"9-2\", \"9-3\", \"9-4\"], \"y\": [26, 34, 21, 13, 2, 1, 2, 0, 0], \"type\": \"scatter\", \"uid\": \"1e588f80-cace-11e8-8d03-a81e84e6c740\"}, {\"line\": {\"dash\": \"dash\"}, \"name\": \"\\u4e0b\\u673a\\u9879\\u76ee\\u6570(\\u5c48\\u6602)\", \"x\": [\"8-1\", \"8-2\", \"8-3\", \"8-4\", \"8-5\", \"9-1\", \"9-2\", \"9-3\", \"9-4\"], \"y\": [36, 62, 62, 96, 76, 117, 38, 19, 15], \"type\": \"scatter\", \"uid\": \"1e58939a-cace-11e8-8d03-a81e84e6c740\"}, {\"line\": {\"dash\": \"longdash\"}, \"name\": \"\\u4e0b\\u673a\\u9879\\u76ee\\u6570(\\u5f20\\u60a6)\", \"x\": [\"8-1\", \"8-2\", \"8-3\", \"8-4\", \"8-5\", \"9-1\", \"9-2\", \"9-3\", \"9-4\"], \"y\": [1, 1, 1, 1, 5, 2, 0, 0, 0], \"type\": \"scatter\", \"uid\": \"1e5896c4-cace-11e8-8d03-a81e84e6c740\"}, {\"line\": {\"dash\": \"solid\"}, \"name\": \"\\u4e0b\\u673a\\u6279\\u6b21\\u6570(\\u51b7\\u96ea)\", \"x\": [\"8-1\", \"8-2\", \"8-3\", \"8-4\", \"8-5\", \"9-1\", \"9-2\", \"9-3\", \"9-4\"], \"y\": [38, 58, 66, 28, 5, 58, 76, 115, 159], \"type\": \"scatter\", \"uid\": \"1e589fd4-cace-11e8-8d03-a81e84e6c740\"}, {\"line\": {\"dash\": \"dot\"}, \"name\": \"\\u4e0b\\u673a\\u6279\\u6b21\\u6570(\\u5362\\u6960)\", \"x\": [\"8-1\", \"8-2\", \"8-3\", \"8-4\", \"8-5\", \"9-1\", \"9-2\", \"9-3\", \"9-4\"], \"y\": [36, 47, 23, 13, 3, 2, 3, 0, 0], \"type\": \"scatter\", \"uid\": \"1e58af24-cace-11e8-8d03-a81e84e6c740\"}, {\"line\": {\"dash\": \"dash\"}, \"name\": \"\\u4e0b\\u673a\\u6279\\u6b21\\u6570(\\u5c48\\u6602)\", \"x\": [\"8-1\", \"8-2\", \"8-3\", \"8-4\", \"8-5\", \"9-1\", \"9-2\", \"9-3\", \"9-4\"], \"y\": [42, 74, 75, 119, 85, 135, 45, 21, 17], \"type\": \"scatter\", \"uid\": \"1e58b5e6-cace-11e8-8d03-a81e84e6c740\"}, {\"line\": {\"dash\": \"longdash\"}, \"name\": \"\\u4e0b\\u673a\\u6279\\u6b21\\u6570(\\u5f20\\u60a6)\", \"x\": [\"8-1\", \"8-2\", \"8-3\", \"8-4\", \"8-5\", \"9-1\", \"9-2\", \"9-3\", \"9-4\"], \"y\": [2, 2, 1, 1, 7, 4, 0, 0, 0], \"type\": \"scatter\", \"uid\": \"1e58ba14-cace-11e8-8d03-a81e84e6c740\"}], {\"title\": \"\\u4e0b\\u673a\\u9879\\u76ee\\u6570&\\u4e0b\\u673a\\u6279\\u6b21\\u6570\\u5468\\u8d8b\\u52bf\\u56fe\", \"xaxis\": {\"mirror\": \"all\", \"nticks\": 20, \"showgrid\": true, \"showline\": true, \"title\": \"\\u5468\", \"zeroline\": true}, \"yaxis\": {\"mirror\": \"all\", \"nticks\": 20, \"showgrid\": true, \"showline\": true, \"title\": \"\\u4e0b\\u673a\\u9879\\u76ee\\u6570&\\u4e0b\\u673a\\u6279\\u6b21\\u6570\", \"zeroline\": true}}, {\"showLink\": true, \"linkText\": \"Export to plot.ly\"})});</script>"
      ],
      "text/vnd.plotly.v1+html": [
       "<div id=\"7df977ee-5309-4361-ae22-fa876d4c035b\" style=\"height: 525px; width: 100%;\" class=\"plotly-graph-div\"></div><script type=\"text/javascript\">require([\"plotly\"], function(Plotly) { window.PLOTLYENV=window.PLOTLYENV || {};window.PLOTLYENV.BASE_URL=\"https://plot.ly\";Plotly.newPlot(\"7df977ee-5309-4361-ae22-fa876d4c035b\", [{\"line\": {\"dash\": \"solid\"}, \"name\": \"\\u4e0b\\u673a\\u9879\\u76ee\\u6570(\\u51b7\\u96ea)\", \"x\": [\"8-1\", \"8-2\", \"8-3\", \"8-4\", \"8-5\", \"9-1\", \"9-2\", \"9-3\", \"9-4\"], \"y\": [31, 49, 51, 26, 2, 54, 63, 103, 138], \"type\": \"scatter\", \"uid\": \"1e588ad0-cace-11e8-8d03-a81e84e6c740\"}, {\"line\": {\"dash\": \"dot\"}, \"name\": \"\\u4e0b\\u673a\\u9879\\u76ee\\u6570(\\u5362\\u6960)\", \"x\": [\"8-1\", \"8-2\", \"8-3\", \"8-4\", \"8-5\", \"9-1\", \"9-2\", \"9-3\", \"9-4\"], \"y\": [26, 34, 21, 13, 2, 1, 2, 0, 0], \"type\": \"scatter\", \"uid\": \"1e588f80-cace-11e8-8d03-a81e84e6c740\"}, {\"line\": {\"dash\": \"dash\"}, \"name\": \"\\u4e0b\\u673a\\u9879\\u76ee\\u6570(\\u5c48\\u6602)\", \"x\": [\"8-1\", \"8-2\", \"8-3\", \"8-4\", \"8-5\", \"9-1\", \"9-2\", \"9-3\", \"9-4\"], \"y\": [36, 62, 62, 96, 76, 117, 38, 19, 15], \"type\": \"scatter\", \"uid\": \"1e58939a-cace-11e8-8d03-a81e84e6c740\"}, {\"line\": {\"dash\": \"longdash\"}, \"name\": \"\\u4e0b\\u673a\\u9879\\u76ee\\u6570(\\u5f20\\u60a6)\", \"x\": [\"8-1\", \"8-2\", \"8-3\", \"8-4\", \"8-5\", \"9-1\", \"9-2\", \"9-3\", \"9-4\"], \"y\": [1, 1, 1, 1, 5, 2, 0, 0, 0], \"type\": \"scatter\", \"uid\": \"1e5896c4-cace-11e8-8d03-a81e84e6c740\"}, {\"line\": {\"dash\": \"solid\"}, \"name\": \"\\u4e0b\\u673a\\u6279\\u6b21\\u6570(\\u51b7\\u96ea)\", \"x\": [\"8-1\", \"8-2\", \"8-3\", \"8-4\", \"8-5\", \"9-1\", \"9-2\", \"9-3\", \"9-4\"], \"y\": [38, 58, 66, 28, 5, 58, 76, 115, 159], \"type\": \"scatter\", \"uid\": \"1e589fd4-cace-11e8-8d03-a81e84e6c740\"}, {\"line\": {\"dash\": \"dot\"}, \"name\": \"\\u4e0b\\u673a\\u6279\\u6b21\\u6570(\\u5362\\u6960)\", \"x\": [\"8-1\", \"8-2\", \"8-3\", \"8-4\", \"8-5\", \"9-1\", \"9-2\", \"9-3\", \"9-4\"], \"y\": [36, 47, 23, 13, 3, 2, 3, 0, 0], \"type\": \"scatter\", \"uid\": \"1e58af24-cace-11e8-8d03-a81e84e6c740\"}, {\"line\": {\"dash\": \"dash\"}, \"name\": \"\\u4e0b\\u673a\\u6279\\u6b21\\u6570(\\u5c48\\u6602)\", \"x\": [\"8-1\", \"8-2\", \"8-3\", \"8-4\", \"8-5\", \"9-1\", \"9-2\", \"9-3\", \"9-4\"], \"y\": [42, 74, 75, 119, 85, 135, 45, 21, 17], \"type\": \"scatter\", \"uid\": \"1e58b5e6-cace-11e8-8d03-a81e84e6c740\"}, {\"line\": {\"dash\": \"longdash\"}, \"name\": \"\\u4e0b\\u673a\\u6279\\u6b21\\u6570(\\u5f20\\u60a6)\", \"x\": [\"8-1\", \"8-2\", \"8-3\", \"8-4\", \"8-5\", \"9-1\", \"9-2\", \"9-3\", \"9-4\"], \"y\": [2, 2, 1, 1, 7, 4, 0, 0, 0], \"type\": \"scatter\", \"uid\": \"1e58ba14-cace-11e8-8d03-a81e84e6c740\"}], {\"title\": \"\\u4e0b\\u673a\\u9879\\u76ee\\u6570&\\u4e0b\\u673a\\u6279\\u6b21\\u6570\\u5468\\u8d8b\\u52bf\\u56fe\", \"xaxis\": {\"mirror\": \"all\", \"nticks\": 20, \"showgrid\": true, \"showline\": true, \"title\": \"\\u5468\", \"zeroline\": true}, \"yaxis\": {\"mirror\": \"all\", \"nticks\": 20, \"showgrid\": true, \"showline\": true, \"title\": \"\\u4e0b\\u673a\\u9879\\u76ee\\u6570&\\u4e0b\\u673a\\u6279\\u6b21\\u6570\", \"zeroline\": true}}, {\"showLink\": true, \"linkText\": \"Export to plot.ly\"})});</script>"
      ]
     },
     "metadata": {},
     "output_type": "display_data"
    },
    {
     "data": {
      "application/vnd.plotly.v1+json": {
       "data": [
        {
         "line": {
          "dash": "solid"
         },
         "name": "下机项目数(冷雪)",
         "type": "scatter",
         "uid": "1e695e3c-cace-11e8-8d03-a81e84e6c740",
         "x": [
          8,
          9
         ],
         "y": [
          159,
          358
         ]
        },
        {
         "line": {
          "dash": "dot"
         },
         "name": "下机项目数(卢楠)",
         "type": "scatter",
         "uid": "1e696224-cace-11e8-8d03-a81e84e6c740",
         "x": [
          8,
          9
         ],
         "y": [
          96,
          3
         ]
        },
        {
         "line": {
          "dash": "dash"
         },
         "name": "下机项目数(屈昂)",
         "type": "scatter",
         "uid": "1e696490-cace-11e8-8d03-a81e84e6c740",
         "x": [
          8,
          9
         ],
         "y": [
          332,
          189
         ]
        },
        {
         "line": {
          "dash": "longdash"
         },
         "name": "下机项目数(张悦)",
         "type": "scatter",
         "uid": "1e6966e8-cace-11e8-8d03-a81e84e6c740",
         "x": [
          8,
          9
         ],
         "y": [
          9,
          2
         ]
        },
        {
         "line": {
          "dash": "solid"
         },
         "name": "下机批次数(冷雪)",
         "type": "scatter",
         "uid": "1e6968fa-cace-11e8-8d03-a81e84e6c740",
         "x": [
          8,
          9
         ],
         "y": [
          195,
          408
         ]
        },
        {
         "line": {
          "dash": "dot"
         },
         "name": "下机批次数(卢楠)",
         "type": "scatter",
         "uid": "1e696b70-cace-11e8-8d03-a81e84e6c740",
         "x": [
          8,
          9
         ],
         "y": [
          122,
          5
         ]
        },
        {
         "line": {
          "dash": "dash"
         },
         "name": "下机批次数(屈昂)",
         "type": "scatter",
         "uid": "1e696d8c-cace-11e8-8d03-a81e84e6c740",
         "x": [
          8,
          9
         ],
         "y": [
          395,
          218
         ]
        },
        {
         "line": {
          "dash": "longdash"
         },
         "name": "下机批次数(张悦)",
         "type": "scatter",
         "uid": "1e696f8a-cace-11e8-8d03-a81e84e6c740",
         "x": [
          8,
          9
         ],
         "y": [
          13,
          4
         ]
        }
       ],
       "layout": {
        "title": "下机项目数&下机批次数月趋势图",
        "xaxis": {
         "mirror": "all",
         "nticks": 20,
         "showgrid": true,
         "showline": true,
         "title": "月",
         "zeroline": true
        },
        "yaxis": {
         "mirror": "all",
         "nticks": 20,
         "showgrid": true,
         "showline": true,
         "title": "下机项目数&下机批次数",
         "zeroline": true
        }
       }
      },
      "text/html": [
       "<div id=\"162b97e5-d9c3-4350-9547-d22494eaee6f\" style=\"height: 525px; width: 100%;\" class=\"plotly-graph-div\"></div><script type=\"text/javascript\">require([\"plotly\"], function(Plotly) { window.PLOTLYENV=window.PLOTLYENV || {};window.PLOTLYENV.BASE_URL=\"https://plot.ly\";Plotly.newPlot(\"162b97e5-d9c3-4350-9547-d22494eaee6f\", [{\"line\": {\"dash\": \"solid\"}, \"name\": \"\\u4e0b\\u673a\\u9879\\u76ee\\u6570(\\u51b7\\u96ea)\", \"x\": [8, 9], \"y\": [159, 358], \"type\": \"scatter\", \"uid\": \"1e695e3c-cace-11e8-8d03-a81e84e6c740\"}, {\"line\": {\"dash\": \"dot\"}, \"name\": \"\\u4e0b\\u673a\\u9879\\u76ee\\u6570(\\u5362\\u6960)\", \"x\": [8, 9], \"y\": [96, 3], \"type\": \"scatter\", \"uid\": \"1e696224-cace-11e8-8d03-a81e84e6c740\"}, {\"line\": {\"dash\": \"dash\"}, \"name\": \"\\u4e0b\\u673a\\u9879\\u76ee\\u6570(\\u5c48\\u6602)\", \"x\": [8, 9], \"y\": [332, 189], \"type\": \"scatter\", \"uid\": \"1e696490-cace-11e8-8d03-a81e84e6c740\"}, {\"line\": {\"dash\": \"longdash\"}, \"name\": \"\\u4e0b\\u673a\\u9879\\u76ee\\u6570(\\u5f20\\u60a6)\", \"x\": [8, 9], \"y\": [9, 2], \"type\": \"scatter\", \"uid\": \"1e6966e8-cace-11e8-8d03-a81e84e6c740\"}, {\"line\": {\"dash\": \"solid\"}, \"name\": \"\\u4e0b\\u673a\\u6279\\u6b21\\u6570(\\u51b7\\u96ea)\", \"x\": [8, 9], \"y\": [195, 408], \"type\": \"scatter\", \"uid\": \"1e6968fa-cace-11e8-8d03-a81e84e6c740\"}, {\"line\": {\"dash\": \"dot\"}, \"name\": \"\\u4e0b\\u673a\\u6279\\u6b21\\u6570(\\u5362\\u6960)\", \"x\": [8, 9], \"y\": [122, 5], \"type\": \"scatter\", \"uid\": \"1e696b70-cace-11e8-8d03-a81e84e6c740\"}, {\"line\": {\"dash\": \"dash\"}, \"name\": \"\\u4e0b\\u673a\\u6279\\u6b21\\u6570(\\u5c48\\u6602)\", \"x\": [8, 9], \"y\": [395, 218], \"type\": \"scatter\", \"uid\": \"1e696d8c-cace-11e8-8d03-a81e84e6c740\"}, {\"line\": {\"dash\": \"longdash\"}, \"name\": \"\\u4e0b\\u673a\\u6279\\u6b21\\u6570(\\u5f20\\u60a6)\", \"x\": [8, 9], \"y\": [13, 4], \"type\": \"scatter\", \"uid\": \"1e696f8a-cace-11e8-8d03-a81e84e6c740\"}], {\"title\": \"\\u4e0b\\u673a\\u9879\\u76ee\\u6570&\\u4e0b\\u673a\\u6279\\u6b21\\u6570\\u6708\\u8d8b\\u52bf\\u56fe\", \"xaxis\": {\"mirror\": \"all\", \"nticks\": 20, \"showgrid\": true, \"showline\": true, \"title\": \"\\u6708\", \"zeroline\": true}, \"yaxis\": {\"mirror\": \"all\", \"nticks\": 20, \"showgrid\": true, \"showline\": true, \"title\": \"\\u4e0b\\u673a\\u9879\\u76ee\\u6570&\\u4e0b\\u673a\\u6279\\u6b21\\u6570\", \"zeroline\": true}}, {\"showLink\": true, \"linkText\": \"Export to plot.ly\"})});</script>"
      ],
      "text/vnd.plotly.v1+html": [
       "<div id=\"162b97e5-d9c3-4350-9547-d22494eaee6f\" style=\"height: 525px; width: 100%;\" class=\"plotly-graph-div\"></div><script type=\"text/javascript\">require([\"plotly\"], function(Plotly) { window.PLOTLYENV=window.PLOTLYENV || {};window.PLOTLYENV.BASE_URL=\"https://plot.ly\";Plotly.newPlot(\"162b97e5-d9c3-4350-9547-d22494eaee6f\", [{\"line\": {\"dash\": \"solid\"}, \"name\": \"\\u4e0b\\u673a\\u9879\\u76ee\\u6570(\\u51b7\\u96ea)\", \"x\": [8, 9], \"y\": [159, 358], \"type\": \"scatter\", \"uid\": \"1e695e3c-cace-11e8-8d03-a81e84e6c740\"}, {\"line\": {\"dash\": \"dot\"}, \"name\": \"\\u4e0b\\u673a\\u9879\\u76ee\\u6570(\\u5362\\u6960)\", \"x\": [8, 9], \"y\": [96, 3], \"type\": \"scatter\", \"uid\": \"1e696224-cace-11e8-8d03-a81e84e6c740\"}, {\"line\": {\"dash\": \"dash\"}, \"name\": \"\\u4e0b\\u673a\\u9879\\u76ee\\u6570(\\u5c48\\u6602)\", \"x\": [8, 9], \"y\": [332, 189], \"type\": \"scatter\", \"uid\": \"1e696490-cace-11e8-8d03-a81e84e6c740\"}, {\"line\": {\"dash\": \"longdash\"}, \"name\": \"\\u4e0b\\u673a\\u9879\\u76ee\\u6570(\\u5f20\\u60a6)\", \"x\": [8, 9], \"y\": [9, 2], \"type\": \"scatter\", \"uid\": \"1e6966e8-cace-11e8-8d03-a81e84e6c740\"}, {\"line\": {\"dash\": \"solid\"}, \"name\": \"\\u4e0b\\u673a\\u6279\\u6b21\\u6570(\\u51b7\\u96ea)\", \"x\": [8, 9], \"y\": [195, 408], \"type\": \"scatter\", \"uid\": \"1e6968fa-cace-11e8-8d03-a81e84e6c740\"}, {\"line\": {\"dash\": \"dot\"}, \"name\": \"\\u4e0b\\u673a\\u6279\\u6b21\\u6570(\\u5362\\u6960)\", \"x\": [8, 9], \"y\": [122, 5], \"type\": \"scatter\", \"uid\": \"1e696b70-cace-11e8-8d03-a81e84e6c740\"}, {\"line\": {\"dash\": \"dash\"}, \"name\": \"\\u4e0b\\u673a\\u6279\\u6b21\\u6570(\\u5c48\\u6602)\", \"x\": [8, 9], \"y\": [395, 218], \"type\": \"scatter\", \"uid\": \"1e696d8c-cace-11e8-8d03-a81e84e6c740\"}, {\"line\": {\"dash\": \"longdash\"}, \"name\": \"\\u4e0b\\u673a\\u6279\\u6b21\\u6570(\\u5f20\\u60a6)\", \"x\": [8, 9], \"y\": [13, 4], \"type\": \"scatter\", \"uid\": \"1e696f8a-cace-11e8-8d03-a81e84e6c740\"}], {\"title\": \"\\u4e0b\\u673a\\u9879\\u76ee\\u6570&\\u4e0b\\u673a\\u6279\\u6b21\\u6570\\u6708\\u8d8b\\u52bf\\u56fe\", \"xaxis\": {\"mirror\": \"all\", \"nticks\": 20, \"showgrid\": true, \"showline\": true, \"title\": \"\\u6708\", \"zeroline\": true}, \"yaxis\": {\"mirror\": \"all\", \"nticks\": 20, \"showgrid\": true, \"showline\": true, \"title\": \"\\u4e0b\\u673a\\u9879\\u76ee\\u6570&\\u4e0b\\u673a\\u6279\\u6b21\\u6570\", \"zeroline\": true}}, {\"showLink\": true, \"linkText\": \"Export to plot.ly\"})});</script>"
      ]
     },
     "metadata": {},
     "output_type": "display_data"
    }
   ],
   "source": [
    "in_list = ['下机批次数' ,'下机项目数' ]\n",
    "ss = myModule.format(all_df1 ,\"日期（格式“月-周次”）\" ,in_list)\n",
    "ss.add_group('人员')\n",
    "myModule.myPlot(ss.groupby('sum')).plot('line')\n",
    "ss = myModule.format(all_df1 ,\"month\" ,in_list)\n",
    "ss.add_group('人员')\n",
    "myModule.myPlot(ss.groupby('sum')).plot('line','月')"
   ]
  },
  {
   "cell_type": "markdown",
   "metadata": {},
   "source": [
    "## 效率"
   ]
  },
  {
   "cell_type": "markdown",
   "metadata": {},
   "source": [
    "### 反馈及时率和数据及时交付率"
   ]
  },
  {
   "cell_type": "code",
   "execution_count": 133,
   "metadata": {
    "collapsed": false
   },
   "outputs": [
    {
     "data": {
      "application/vnd.plotly.v1+json": {
       "data": [
        {
         "line": {
          "dash": "solid"
         },
         "name": "反馈及时率(冷雪)",
         "type": "scatter",
         "uid": "be24aea6-cad1-11e8-8d03-a81e84e6c740",
         "x": [
          "8-1",
          "8-2",
          "8-3",
          "8-4",
          "8-5",
          "9-1",
          "9-2",
          "9-3",
          "9-4"
         ],
         "y": [
          0.9210526315789473,
          0.9655172413793104,
          1,
          1,
          1,
          0.9827586206896551,
          0.8947368421052632,
          1,
          0.9937106918238994
         ]
        },
        {
         "line": {
          "dash": "dot"
         },
         "name": "反馈及时率(卢楠)",
         "type": "scatter",
         "uid": "be24b1ee-cad1-11e8-8d03-a81e84e6c740",
         "x": [
          "8-1",
          "8-2",
          "8-3",
          "8-4",
          "8-5",
          "9-1",
          "9-2",
          "9-3",
          "9-4"
         ],
         "y": [
          1,
          0.9574468085106383,
          0.9565217391304348,
          1,
          1,
          1,
          1,
          null,
          null
         ]
        },
        {
         "line": {
          "dash": "dash"
         },
         "name": "反馈及时率(屈昂)",
         "type": "scatter",
         "uid": "be24b432-cad1-11e8-8d03-a81e84e6c740",
         "x": [
          "8-1",
          "8-2",
          "8-3",
          "8-4",
          "8-5",
          "9-1",
          "9-2",
          "9-3",
          "9-4"
         ],
         "y": [
          0.9761904761904762,
          0.972972972972973,
          0.9866666666666667,
          0.957983193277311,
          0.9176470588235294,
          0.9851851851851852,
          0.9777777777777777,
          1,
          1
         ]
        },
        {
         "line": {
          "dash": "longdash"
         },
         "name": "反馈及时率(张悦)",
         "type": "scatter",
         "uid": "be24b63a-cad1-11e8-8d03-a81e84e6c740",
         "x": [
          "8-1",
          "8-2",
          "8-3",
          "8-4",
          "8-5",
          "9-1",
          "9-2",
          "9-3",
          "9-4"
         ],
         "y": [
          1,
          1,
          1,
          1,
          1,
          1,
          null,
          null,
          null
         ]
        },
        {
         "line": {
          "dash": "solid"
         },
         "name": "数据及时交付率(冷雪)",
         "type": "scatter",
         "uid": "be24b914-cad1-11e8-8d03-a81e84e6c740",
         "x": [
          "8-1",
          "8-2",
          "8-3",
          "8-4",
          "8-5",
          "9-1",
          "9-2",
          "9-3",
          "9-4"
         ],
         "y": [
          1,
          1,
          1,
          1,
          1,
          1,
          1,
          1,
          1
         ]
        },
        {
         "line": {
          "dash": "dot"
         },
         "name": "数据及时交付率(卢楠)",
         "type": "scatter",
         "uid": "be24bbe4-cad1-11e8-8d03-a81e84e6c740",
         "x": [
          "8-1",
          "8-2",
          "8-3",
          "8-4",
          "8-5",
          "9-1",
          "9-2",
          "9-3",
          "9-4"
         ],
         "y": [
          1,
          1,
          1,
          1,
          1,
          1,
          1,
          null,
          1
         ]
        },
        {
         "line": {
          "dash": "dash"
         },
         "name": "数据及时交付率(屈昂)",
         "type": "scatter",
         "uid": "be24be5a-cad1-11e8-8d03-a81e84e6c740",
         "x": [
          "8-1",
          "8-2",
          "8-3",
          "8-4",
          "8-5",
          "9-1",
          "9-2",
          "9-3",
          "9-4"
         ],
         "y": [
          1,
          1,
          1,
          1,
          1,
          1,
          1,
          1,
          1
         ]
        },
        {
         "line": {
          "dash": "longdash"
         },
         "name": "数据及时交付率(张悦)",
         "type": "scatter",
         "uid": "be24c03a-cad1-11e8-8d03-a81e84e6c740",
         "x": [
          "8-1",
          "8-2",
          "8-3",
          "8-4",
          "8-5",
          "9-1",
          "9-2",
          "9-3",
          "9-4"
         ],
         "y": [
          1,
          1,
          1,
          1,
          1,
          1,
          null,
          null,
          1
         ]
        }
       ],
       "layout": {
        "title": "反馈及时率&数据及时交付率周趋势图",
        "xaxis": {
         "mirror": "all",
         "nticks": 20,
         "showgrid": true,
         "showline": true,
         "title": "周",
         "zeroline": true
        },
        "yaxis": {
         "mirror": "all",
         "nticks": 20,
         "showgrid": true,
         "showline": true,
         "title": "反馈及时率&数据及时交付率",
         "zeroline": true
        }
       }
      },
      "text/html": [
       "<div id=\"27bf7887-40c5-4716-8bba-917d951431c8\" style=\"height: 525px; width: 100%;\" class=\"plotly-graph-div\"></div><script type=\"text/javascript\">require([\"plotly\"], function(Plotly) { window.PLOTLYENV=window.PLOTLYENV || {};window.PLOTLYENV.BASE_URL=\"https://plot.ly\";Plotly.newPlot(\"27bf7887-40c5-4716-8bba-917d951431c8\", [{\"line\": {\"dash\": \"solid\"}, \"name\": \"\\u53cd\\u9988\\u53ca\\u65f6\\u7387(\\u51b7\\u96ea)\", \"x\": [\"8-1\", \"8-2\", \"8-3\", \"8-4\", \"8-5\", \"9-1\", \"9-2\", \"9-3\", \"9-4\"], \"y\": [0.9210526315789473, 0.9655172413793104, 1.0, 1.0, 1.0, 0.9827586206896551, 0.8947368421052632, 1.0, 0.9937106918238994], \"type\": \"scatter\", \"uid\": \"be24aea6-cad1-11e8-8d03-a81e84e6c740\"}, {\"line\": {\"dash\": \"dot\"}, \"name\": \"\\u53cd\\u9988\\u53ca\\u65f6\\u7387(\\u5362\\u6960)\", \"x\": [\"8-1\", \"8-2\", \"8-3\", \"8-4\", \"8-5\", \"9-1\", \"9-2\", \"9-3\", \"9-4\"], \"y\": [1.0, 0.9574468085106383, 0.9565217391304348, 1.0, 1.0, 1.0, 1.0, null, null], \"type\": \"scatter\", \"uid\": \"be24b1ee-cad1-11e8-8d03-a81e84e6c740\"}, {\"line\": {\"dash\": \"dash\"}, \"name\": \"\\u53cd\\u9988\\u53ca\\u65f6\\u7387(\\u5c48\\u6602)\", \"x\": [\"8-1\", \"8-2\", \"8-3\", \"8-4\", \"8-5\", \"9-1\", \"9-2\", \"9-3\", \"9-4\"], \"y\": [0.9761904761904762, 0.972972972972973, 0.9866666666666667, 0.957983193277311, 0.9176470588235294, 0.9851851851851852, 0.9777777777777777, 1.0, 1.0], \"type\": \"scatter\", \"uid\": \"be24b432-cad1-11e8-8d03-a81e84e6c740\"}, {\"line\": {\"dash\": \"longdash\"}, \"name\": \"\\u53cd\\u9988\\u53ca\\u65f6\\u7387(\\u5f20\\u60a6)\", \"x\": [\"8-1\", \"8-2\", \"8-3\", \"8-4\", \"8-5\", \"9-1\", \"9-2\", \"9-3\", \"9-4\"], \"y\": [1.0, 1.0, 1.0, 1.0, 1.0, 1.0, null, null, null], \"type\": \"scatter\", \"uid\": \"be24b63a-cad1-11e8-8d03-a81e84e6c740\"}, {\"line\": {\"dash\": \"solid\"}, \"name\": \"\\u6570\\u636e\\u53ca\\u65f6\\u4ea4\\u4ed8\\u7387(\\u51b7\\u96ea)\", \"x\": [\"8-1\", \"8-2\", \"8-3\", \"8-4\", \"8-5\", \"9-1\", \"9-2\", \"9-3\", \"9-4\"], \"y\": [1.0, 1.0, 1.0, 1.0, 1.0, 1.0, 1.0, 1.0, 1.0], \"type\": \"scatter\", \"uid\": \"be24b914-cad1-11e8-8d03-a81e84e6c740\"}, {\"line\": {\"dash\": \"dot\"}, \"name\": \"\\u6570\\u636e\\u53ca\\u65f6\\u4ea4\\u4ed8\\u7387(\\u5362\\u6960)\", \"x\": [\"8-1\", \"8-2\", \"8-3\", \"8-4\", \"8-5\", \"9-1\", \"9-2\", \"9-3\", \"9-4\"], \"y\": [1.0, 1.0, 1.0, 1.0, 1.0, 1.0, 1.0, null, 1.0], \"type\": \"scatter\", \"uid\": \"be24bbe4-cad1-11e8-8d03-a81e84e6c740\"}, {\"line\": {\"dash\": \"dash\"}, \"name\": \"\\u6570\\u636e\\u53ca\\u65f6\\u4ea4\\u4ed8\\u7387(\\u5c48\\u6602)\", \"x\": [\"8-1\", \"8-2\", \"8-3\", \"8-4\", \"8-5\", \"9-1\", \"9-2\", \"9-3\", \"9-4\"], \"y\": [1.0, 1.0, 1.0, 1.0, 1.0, 1.0, 1.0, 1.0, 1.0], \"type\": \"scatter\", \"uid\": \"be24be5a-cad1-11e8-8d03-a81e84e6c740\"}, {\"line\": {\"dash\": \"longdash\"}, \"name\": \"\\u6570\\u636e\\u53ca\\u65f6\\u4ea4\\u4ed8\\u7387(\\u5f20\\u60a6)\", \"x\": [\"8-1\", \"8-2\", \"8-3\", \"8-4\", \"8-5\", \"9-1\", \"9-2\", \"9-3\", \"9-4\"], \"y\": [1.0, 1.0, 1.0, 1.0, 1.0, 1.0, null, null, 1.0], \"type\": \"scatter\", \"uid\": \"be24c03a-cad1-11e8-8d03-a81e84e6c740\"}], {\"title\": \"\\u53cd\\u9988\\u53ca\\u65f6\\u7387&\\u6570\\u636e\\u53ca\\u65f6\\u4ea4\\u4ed8\\u7387\\u5468\\u8d8b\\u52bf\\u56fe\", \"xaxis\": {\"mirror\": \"all\", \"nticks\": 20, \"showgrid\": true, \"showline\": true, \"title\": \"\\u5468\", \"zeroline\": true}, \"yaxis\": {\"mirror\": \"all\", \"nticks\": 20, \"showgrid\": true, \"showline\": true, \"title\": \"\\u53cd\\u9988\\u53ca\\u65f6\\u7387&\\u6570\\u636e\\u53ca\\u65f6\\u4ea4\\u4ed8\\u7387\", \"zeroline\": true}}, {\"showLink\": true, \"linkText\": \"Export to plot.ly\"})});</script>"
      ],
      "text/vnd.plotly.v1+html": [
       "<div id=\"27bf7887-40c5-4716-8bba-917d951431c8\" style=\"height: 525px; width: 100%;\" class=\"plotly-graph-div\"></div><script type=\"text/javascript\">require([\"plotly\"], function(Plotly) { window.PLOTLYENV=window.PLOTLYENV || {};window.PLOTLYENV.BASE_URL=\"https://plot.ly\";Plotly.newPlot(\"27bf7887-40c5-4716-8bba-917d951431c8\", [{\"line\": {\"dash\": \"solid\"}, \"name\": \"\\u53cd\\u9988\\u53ca\\u65f6\\u7387(\\u51b7\\u96ea)\", \"x\": [\"8-1\", \"8-2\", \"8-3\", \"8-4\", \"8-5\", \"9-1\", \"9-2\", \"9-3\", \"9-4\"], \"y\": [0.9210526315789473, 0.9655172413793104, 1.0, 1.0, 1.0, 0.9827586206896551, 0.8947368421052632, 1.0, 0.9937106918238994], \"type\": \"scatter\", \"uid\": \"be24aea6-cad1-11e8-8d03-a81e84e6c740\"}, {\"line\": {\"dash\": \"dot\"}, \"name\": \"\\u53cd\\u9988\\u53ca\\u65f6\\u7387(\\u5362\\u6960)\", \"x\": [\"8-1\", \"8-2\", \"8-3\", \"8-4\", \"8-5\", \"9-1\", \"9-2\", \"9-3\", \"9-4\"], \"y\": [1.0, 0.9574468085106383, 0.9565217391304348, 1.0, 1.0, 1.0, 1.0, null, null], \"type\": \"scatter\", \"uid\": \"be24b1ee-cad1-11e8-8d03-a81e84e6c740\"}, {\"line\": {\"dash\": \"dash\"}, \"name\": \"\\u53cd\\u9988\\u53ca\\u65f6\\u7387(\\u5c48\\u6602)\", \"x\": [\"8-1\", \"8-2\", \"8-3\", \"8-4\", \"8-5\", \"9-1\", \"9-2\", \"9-3\", \"9-4\"], \"y\": [0.9761904761904762, 0.972972972972973, 0.9866666666666667, 0.957983193277311, 0.9176470588235294, 0.9851851851851852, 0.9777777777777777, 1.0, 1.0], \"type\": \"scatter\", \"uid\": \"be24b432-cad1-11e8-8d03-a81e84e6c740\"}, {\"line\": {\"dash\": \"longdash\"}, \"name\": \"\\u53cd\\u9988\\u53ca\\u65f6\\u7387(\\u5f20\\u60a6)\", \"x\": [\"8-1\", \"8-2\", \"8-3\", \"8-4\", \"8-5\", \"9-1\", \"9-2\", \"9-3\", \"9-4\"], \"y\": [1.0, 1.0, 1.0, 1.0, 1.0, 1.0, null, null, null], \"type\": \"scatter\", \"uid\": \"be24b63a-cad1-11e8-8d03-a81e84e6c740\"}, {\"line\": {\"dash\": \"solid\"}, \"name\": \"\\u6570\\u636e\\u53ca\\u65f6\\u4ea4\\u4ed8\\u7387(\\u51b7\\u96ea)\", \"x\": [\"8-1\", \"8-2\", \"8-3\", \"8-4\", \"8-5\", \"9-1\", \"9-2\", \"9-3\", \"9-4\"], \"y\": [1.0, 1.0, 1.0, 1.0, 1.0, 1.0, 1.0, 1.0, 1.0], \"type\": \"scatter\", \"uid\": \"be24b914-cad1-11e8-8d03-a81e84e6c740\"}, {\"line\": {\"dash\": \"dot\"}, \"name\": \"\\u6570\\u636e\\u53ca\\u65f6\\u4ea4\\u4ed8\\u7387(\\u5362\\u6960)\", \"x\": [\"8-1\", \"8-2\", \"8-3\", \"8-4\", \"8-5\", \"9-1\", \"9-2\", \"9-3\", \"9-4\"], \"y\": [1.0, 1.0, 1.0, 1.0, 1.0, 1.0, 1.0, null, 1.0], \"type\": \"scatter\", \"uid\": \"be24bbe4-cad1-11e8-8d03-a81e84e6c740\"}, {\"line\": {\"dash\": \"dash\"}, \"name\": \"\\u6570\\u636e\\u53ca\\u65f6\\u4ea4\\u4ed8\\u7387(\\u5c48\\u6602)\", \"x\": [\"8-1\", \"8-2\", \"8-3\", \"8-4\", \"8-5\", \"9-1\", \"9-2\", \"9-3\", \"9-4\"], \"y\": [1.0, 1.0, 1.0, 1.0, 1.0, 1.0, 1.0, 1.0, 1.0], \"type\": \"scatter\", \"uid\": \"be24be5a-cad1-11e8-8d03-a81e84e6c740\"}, {\"line\": {\"dash\": \"longdash\"}, \"name\": \"\\u6570\\u636e\\u53ca\\u65f6\\u4ea4\\u4ed8\\u7387(\\u5f20\\u60a6)\", \"x\": [\"8-1\", \"8-2\", \"8-3\", \"8-4\", \"8-5\", \"9-1\", \"9-2\", \"9-3\", \"9-4\"], \"y\": [1.0, 1.0, 1.0, 1.0, 1.0, 1.0, null, null, 1.0], \"type\": \"scatter\", \"uid\": \"be24c03a-cad1-11e8-8d03-a81e84e6c740\"}], {\"title\": \"\\u53cd\\u9988\\u53ca\\u65f6\\u7387&\\u6570\\u636e\\u53ca\\u65f6\\u4ea4\\u4ed8\\u7387\\u5468\\u8d8b\\u52bf\\u56fe\", \"xaxis\": {\"mirror\": \"all\", \"nticks\": 20, \"showgrid\": true, \"showline\": true, \"title\": \"\\u5468\", \"zeroline\": true}, \"yaxis\": {\"mirror\": \"all\", \"nticks\": 20, \"showgrid\": true, \"showline\": true, \"title\": \"\\u53cd\\u9988\\u53ca\\u65f6\\u7387&\\u6570\\u636e\\u53ca\\u65f6\\u4ea4\\u4ed8\\u7387\", \"zeroline\": true}}, {\"showLink\": true, \"linkText\": \"Export to plot.ly\"})});</script>"
      ]
     },
     "metadata": {},
     "output_type": "display_data"
    },
    {
     "data": {
      "application/vnd.plotly.v1+json": {
       "data": [
        {
         "line": {
          "dash": "solid"
         },
         "name": "反馈及时率(冷雪)",
         "type": "scatter",
         "uid": "be345392-cad1-11e8-8d03-a81e84e6c740",
         "x": [
          8,
          9
         ],
         "y": [
          0.9743589743589743,
          0.9754901960784313
         ]
        },
        {
         "line": {
          "dash": "dot"
         },
         "name": "反馈及时率(卢楠)",
         "type": "scatter",
         "uid": "be345a86-cad1-11e8-8d03-a81e84e6c740",
         "x": [
          8,
          9
         ],
         "y": [
          0.9754098360655737,
          1
         ]
        },
        {
         "line": {
          "dash": "dash"
         },
         "name": "反馈及时率(屈昂)",
         "type": "scatter",
         "uid": "be345dec-cad1-11e8-8d03-a81e84e6c740",
         "x": [
          8,
          9
         ],
         "y": [
          0.959493670886076,
          0.9862385321100917
         ]
        },
        {
         "line": {
          "dash": "longdash"
         },
         "name": "反馈及时率(张悦)",
         "type": "scatter",
         "uid": "be3460f8-cad1-11e8-8d03-a81e84e6c740",
         "x": [
          8,
          9
         ],
         "y": [
          1,
          1
         ]
        },
        {
         "line": {
          "dash": "solid"
         },
         "name": "数据及时交付率(冷雪)",
         "type": "scatter",
         "uid": "be3463fa-cad1-11e8-8d03-a81e84e6c740",
         "x": [
          8,
          9
         ],
         "y": [
          1,
          1
         ]
        },
        {
         "line": {
          "dash": "dot"
         },
         "name": "数据及时交付率(卢楠)",
         "type": "scatter",
         "uid": "be3466d4-cad1-11e8-8d03-a81e84e6c740",
         "x": [
          8,
          9
         ],
         "y": [
          1,
          1
         ]
        },
        {
         "line": {
          "dash": "dash"
         },
         "name": "数据及时交付率(屈昂)",
         "type": "scatter",
         "uid": "be3469c2-cad1-11e8-8d03-a81e84e6c740",
         "x": [
          8,
          9
         ],
         "y": [
          1,
          1
         ]
        },
        {
         "line": {
          "dash": "longdash"
         },
         "name": "数据及时交付率(张悦)",
         "type": "scatter",
         "uid": "be346ca6-cad1-11e8-8d03-a81e84e6c740",
         "x": [
          8,
          9
         ],
         "y": [
          1,
          1
         ]
        }
       ],
       "layout": {
        "title": "反馈及时率&数据及时交付率月趋势图",
        "xaxis": {
         "mirror": "all",
         "nticks": 20,
         "showgrid": true,
         "showline": true,
         "title": "月",
         "zeroline": true
        },
        "yaxis": {
         "mirror": "all",
         "nticks": 20,
         "showgrid": true,
         "showline": true,
         "title": "反馈及时率&数据及时交付率",
         "zeroline": true
        }
       }
      },
      "text/html": [
       "<div id=\"f7c6d573-b726-4d55-8a8c-df1aa11452bb\" style=\"height: 525px; width: 100%;\" class=\"plotly-graph-div\"></div><script type=\"text/javascript\">require([\"plotly\"], function(Plotly) { window.PLOTLYENV=window.PLOTLYENV || {};window.PLOTLYENV.BASE_URL=\"https://plot.ly\";Plotly.newPlot(\"f7c6d573-b726-4d55-8a8c-df1aa11452bb\", [{\"line\": {\"dash\": \"solid\"}, \"name\": \"\\u53cd\\u9988\\u53ca\\u65f6\\u7387(\\u51b7\\u96ea)\", \"x\": [8, 9], \"y\": [0.9743589743589743, 0.9754901960784313], \"type\": \"scatter\", \"uid\": \"be345392-cad1-11e8-8d03-a81e84e6c740\"}, {\"line\": {\"dash\": \"dot\"}, \"name\": \"\\u53cd\\u9988\\u53ca\\u65f6\\u7387(\\u5362\\u6960)\", \"x\": [8, 9], \"y\": [0.9754098360655737, 1.0], \"type\": \"scatter\", \"uid\": \"be345a86-cad1-11e8-8d03-a81e84e6c740\"}, {\"line\": {\"dash\": \"dash\"}, \"name\": \"\\u53cd\\u9988\\u53ca\\u65f6\\u7387(\\u5c48\\u6602)\", \"x\": [8, 9], \"y\": [0.959493670886076, 0.9862385321100917], \"type\": \"scatter\", \"uid\": \"be345dec-cad1-11e8-8d03-a81e84e6c740\"}, {\"line\": {\"dash\": \"longdash\"}, \"name\": \"\\u53cd\\u9988\\u53ca\\u65f6\\u7387(\\u5f20\\u60a6)\", \"x\": [8, 9], \"y\": [1.0, 1.0], \"type\": \"scatter\", \"uid\": \"be3460f8-cad1-11e8-8d03-a81e84e6c740\"}, {\"line\": {\"dash\": \"solid\"}, \"name\": \"\\u6570\\u636e\\u53ca\\u65f6\\u4ea4\\u4ed8\\u7387(\\u51b7\\u96ea)\", \"x\": [8, 9], \"y\": [1.0, 1.0], \"type\": \"scatter\", \"uid\": \"be3463fa-cad1-11e8-8d03-a81e84e6c740\"}, {\"line\": {\"dash\": \"dot\"}, \"name\": \"\\u6570\\u636e\\u53ca\\u65f6\\u4ea4\\u4ed8\\u7387(\\u5362\\u6960)\", \"x\": [8, 9], \"y\": [1.0, 1.0], \"type\": \"scatter\", \"uid\": \"be3466d4-cad1-11e8-8d03-a81e84e6c740\"}, {\"line\": {\"dash\": \"dash\"}, \"name\": \"\\u6570\\u636e\\u53ca\\u65f6\\u4ea4\\u4ed8\\u7387(\\u5c48\\u6602)\", \"x\": [8, 9], \"y\": [1.0, 1.0], \"type\": \"scatter\", \"uid\": \"be3469c2-cad1-11e8-8d03-a81e84e6c740\"}, {\"line\": {\"dash\": \"longdash\"}, \"name\": \"\\u6570\\u636e\\u53ca\\u65f6\\u4ea4\\u4ed8\\u7387(\\u5f20\\u60a6)\", \"x\": [8, 9], \"y\": [1.0, 1.0], \"type\": \"scatter\", \"uid\": \"be346ca6-cad1-11e8-8d03-a81e84e6c740\"}], {\"title\": \"\\u53cd\\u9988\\u53ca\\u65f6\\u7387&\\u6570\\u636e\\u53ca\\u65f6\\u4ea4\\u4ed8\\u7387\\u6708\\u8d8b\\u52bf\\u56fe\", \"xaxis\": {\"mirror\": \"all\", \"nticks\": 20, \"showgrid\": true, \"showline\": true, \"title\": \"\\u6708\", \"zeroline\": true}, \"yaxis\": {\"mirror\": \"all\", \"nticks\": 20, \"showgrid\": true, \"showline\": true, \"title\": \"\\u53cd\\u9988\\u53ca\\u65f6\\u7387&\\u6570\\u636e\\u53ca\\u65f6\\u4ea4\\u4ed8\\u7387\", \"zeroline\": true}}, {\"showLink\": true, \"linkText\": \"Export to plot.ly\"})});</script>"
      ],
      "text/vnd.plotly.v1+html": [
       "<div id=\"f7c6d573-b726-4d55-8a8c-df1aa11452bb\" style=\"height: 525px; width: 100%;\" class=\"plotly-graph-div\"></div><script type=\"text/javascript\">require([\"plotly\"], function(Plotly) { window.PLOTLYENV=window.PLOTLYENV || {};window.PLOTLYENV.BASE_URL=\"https://plot.ly\";Plotly.newPlot(\"f7c6d573-b726-4d55-8a8c-df1aa11452bb\", [{\"line\": {\"dash\": \"solid\"}, \"name\": \"\\u53cd\\u9988\\u53ca\\u65f6\\u7387(\\u51b7\\u96ea)\", \"x\": [8, 9], \"y\": [0.9743589743589743, 0.9754901960784313], \"type\": \"scatter\", \"uid\": \"be345392-cad1-11e8-8d03-a81e84e6c740\"}, {\"line\": {\"dash\": \"dot\"}, \"name\": \"\\u53cd\\u9988\\u53ca\\u65f6\\u7387(\\u5362\\u6960)\", \"x\": [8, 9], \"y\": [0.9754098360655737, 1.0], \"type\": \"scatter\", \"uid\": \"be345a86-cad1-11e8-8d03-a81e84e6c740\"}, {\"line\": {\"dash\": \"dash\"}, \"name\": \"\\u53cd\\u9988\\u53ca\\u65f6\\u7387(\\u5c48\\u6602)\", \"x\": [8, 9], \"y\": [0.959493670886076, 0.9862385321100917], \"type\": \"scatter\", \"uid\": \"be345dec-cad1-11e8-8d03-a81e84e6c740\"}, {\"line\": {\"dash\": \"longdash\"}, \"name\": \"\\u53cd\\u9988\\u53ca\\u65f6\\u7387(\\u5f20\\u60a6)\", \"x\": [8, 9], \"y\": [1.0, 1.0], \"type\": \"scatter\", \"uid\": \"be3460f8-cad1-11e8-8d03-a81e84e6c740\"}, {\"line\": {\"dash\": \"solid\"}, \"name\": \"\\u6570\\u636e\\u53ca\\u65f6\\u4ea4\\u4ed8\\u7387(\\u51b7\\u96ea)\", \"x\": [8, 9], \"y\": [1.0, 1.0], \"type\": \"scatter\", \"uid\": \"be3463fa-cad1-11e8-8d03-a81e84e6c740\"}, {\"line\": {\"dash\": \"dot\"}, \"name\": \"\\u6570\\u636e\\u53ca\\u65f6\\u4ea4\\u4ed8\\u7387(\\u5362\\u6960)\", \"x\": [8, 9], \"y\": [1.0, 1.0], \"type\": \"scatter\", \"uid\": \"be3466d4-cad1-11e8-8d03-a81e84e6c740\"}, {\"line\": {\"dash\": \"dash\"}, \"name\": \"\\u6570\\u636e\\u53ca\\u65f6\\u4ea4\\u4ed8\\u7387(\\u5c48\\u6602)\", \"x\": [8, 9], \"y\": [1.0, 1.0], \"type\": \"scatter\", \"uid\": \"be3469c2-cad1-11e8-8d03-a81e84e6c740\"}, {\"line\": {\"dash\": \"longdash\"}, \"name\": \"\\u6570\\u636e\\u53ca\\u65f6\\u4ea4\\u4ed8\\u7387(\\u5f20\\u60a6)\", \"x\": [8, 9], \"y\": [1.0, 1.0], \"type\": \"scatter\", \"uid\": \"be346ca6-cad1-11e8-8d03-a81e84e6c740\"}], {\"title\": \"\\u53cd\\u9988\\u53ca\\u65f6\\u7387&\\u6570\\u636e\\u53ca\\u65f6\\u4ea4\\u4ed8\\u7387\\u6708\\u8d8b\\u52bf\\u56fe\", \"xaxis\": {\"mirror\": \"all\", \"nticks\": 20, \"showgrid\": true, \"showline\": true, \"title\": \"\\u6708\", \"zeroline\": true}, \"yaxis\": {\"mirror\": \"all\", \"nticks\": 20, \"showgrid\": true, \"showline\": true, \"title\": \"\\u53cd\\u9988\\u53ca\\u65f6\\u7387&\\u6570\\u636e\\u53ca\\u65f6\\u4ea4\\u4ed8\\u7387\", \"zeroline\": true}}, {\"showLink\": true, \"linkText\": \"Export to plot.ly\"})});</script>"
      ]
     },
     "metadata": {},
     "output_type": "display_data"
    }
   ],
   "source": [
    "ss = myModule.format(all_df1 ,\"日期（格式“月-周次”）\" ,['及时反馈数','下机批次数','数据及时交付数','数据交付总数'])\n",
    "ss.add_group('人员')\n",
    "tt = ss.get_total_ratio([['反馈及时率','及时反馈数','下机批次数','/'],\n",
    "                       ['数据及时交付率','数据及时交付数','数据交付总数','/']])\n",
    "myModule.myPlot(tt).plot('line')\n",
    "\n",
    "ss = myModule.format(all_df1 ,\"month\" ,['及时反馈数','下机批次数','数据及时交付数','数据交付总数'])\n",
    "ss.add_group('人员')\n",
    "tt = ss.get_total_ratio([['反馈及时率','及时反馈数','下机批次数','/'],\n",
    "                       ['数据及时交付率','数据及时交付数','数据交付总数','/']])\n",
    "myModule.myPlot(tt).plot('line','月')"
   ]
  },
  {
   "cell_type": "markdown",
   "metadata": {},
   "source": [
    "### 平均反馈时长和反馈时长Q80"
   ]
  },
  {
   "cell_type": "code",
   "execution_count": 134,
   "metadata": {
    "collapsed": false
   },
   "outputs": [
    {
     "data": {
      "text/html": [
       "<script>requirejs.config({paths: { 'plotly': ['https://cdn.plot.ly/plotly-latest.min']},});if(!window.Plotly) {{require(['plotly'],function(plotly) {window.Plotly=plotly;});}}</script>"
      ],
      "text/vnd.plotly.v1+html": [
       "<script>requirejs.config({paths: { 'plotly': ['https://cdn.plot.ly/plotly-latest.min']},});if(!window.Plotly) {{require(['plotly'],function(plotly) {window.Plotly=plotly;});}}</script>"
      ]
     },
     "metadata": {},
     "output_type": "display_data"
    },
    {
     "data": {
      "application/vnd.plotly.v1+json": {
       "data": [
        {
         "line": {
          "dash": "solid"
         },
         "name": "反馈时长Q80(冷雪)",
         "type": "scatter",
         "uid": "2ec52956-cad2-11e8-8d03-a81e84e6c740",
         "x": [
          "8-1",
          "8-2",
          "8-3",
          "8-4",
          "8-5",
          "9-1",
          "9-2",
          "9-3",
          "9-4"
         ],
         "y": [
          7.59,
          4.66,
          5.63,
          3.23,
          6.49,
          13.99,
          10.5,
          3.83,
          3.99
         ]
        },
        {
         "line": {
          "dash": "dot"
         },
         "name": "反馈时长Q80(卢楠)",
         "type": "scatter",
         "uid": "2ec52cb2-cad2-11e8-8d03-a81e84e6c740",
         "x": [
          "8-1",
          "8-2",
          "8-3",
          "8-4",
          "8-5",
          "9-1",
          "9-2",
          "9-3",
          "9-4"
         ],
         "y": [
          7.58,
          4.61,
          18.53,
          5.89,
          1.85,
          2.18,
          15.12,
          0,
          0
         ]
        },
        {
         "line": {
          "dash": "dash"
         },
         "name": "反馈时长Q80(屈昂)",
         "type": "scatter",
         "uid": "2ec52f0a-cad2-11e8-8d03-a81e84e6c740",
         "x": [
          "8-1",
          "8-2",
          "8-3",
          "8-4",
          "8-5",
          "9-1",
          "9-2",
          "9-3",
          "9-4"
         ],
         "y": [
          5.79,
          5.35,
          5.31,
          5.19,
          11.12,
          16,
          9.89,
          3.92,
          2.71
         ]
        },
        {
         "line": {
          "dash": "longdash"
         },
         "name": "反馈时长Q80(张悦)",
         "type": "scatter",
         "uid": "2ec53130-cad2-11e8-8d03-a81e84e6c740",
         "x": [
          "8-1",
          "8-2",
          "8-3",
          "8-4",
          "8-5",
          "9-1",
          "9-2",
          "9-3",
          "9-4"
         ],
         "y": [
          5.54,
          2.28,
          18.68,
          1.47,
          2.11,
          3.31,
          0,
          0,
          0
         ]
        },
        {
         "line": {
          "dash": "solid"
         },
         "name": "平均反馈时长(冷雪)",
         "type": "scatter",
         "uid": "2ec53342-cad2-11e8-8d03-a81e84e6c740",
         "x": [
          "8-1",
          "8-2",
          "8-3",
          "8-4",
          "8-5",
          "9-1",
          "9-2",
          "9-3",
          "9-4"
         ],
         "y": [
          7.090000000000001,
          3.9827586206896552,
          4.95,
          3.38,
          3.69,
          9.81,
          7.658947368421053,
          3.6,
          3.2600000000000002
         ]
        },
        {
         "line": {
          "dash": "dot"
         },
         "name": "平均反馈时长(卢楠)",
         "type": "scatter",
         "uid": "2ec53536-cad2-11e8-8d03-a81e84e6c740",
         "x": [
          "8-1",
          "8-2",
          "8-3",
          "8-4",
          "8-5",
          "9-1",
          "9-2",
          "9-3",
          "9-4"
         ],
         "y": [
          5.77,
          5,
          8.6,
          5.199999999999999,
          1.7300000000000002,
          7.2,
          14.409999999999998,
          null,
          null
         ]
        },
        {
         "line": {
          "dash": "dash"
         },
         "name": "平均反馈时长(屈昂)",
         "type": "scatter",
         "uid": "2ec5372a-cad2-11e8-8d03-a81e84e6c740",
         "x": [
          "8-1",
          "8-2",
          "8-3",
          "8-4",
          "8-5",
          "9-1",
          "9-2",
          "9-3",
          "9-4"
         ],
         "y": [
          5.95,
          4.49,
          4.5,
          5.37,
          7.139294117647059,
          9.77,
          6.688,
          3.6300000000000003,
          2.73
         ]
        },
        {
         "line": {
          "dash": "longdash"
         },
         "name": "平均反馈时长(张悦)",
         "type": "scatter",
         "uid": "2ec5391e-cad2-11e8-8d03-a81e84e6c740",
         "x": [
          "8-1",
          "8-2",
          "8-3",
          "8-4",
          "8-5",
          "9-1",
          "9-2",
          "9-3",
          "9-4"
         ],
         "y": [
          14.51,
          3.26,
          18.68,
          1.47,
          2.7600000000000002,
          5.22,
          null,
          null,
          null
         ]
        }
       ],
       "layout": {
        "title": "反馈时长Q80&平均反馈时长周趋势图",
        "xaxis": {
         "mirror": "all",
         "nticks": 20,
         "showgrid": true,
         "showline": true,
         "title": "周",
         "zeroline": true
        },
        "yaxis": {
         "mirror": "all",
         "nticks": 20,
         "showgrid": true,
         "showline": true,
         "title": "反馈时长Q80&平均反馈时长",
         "zeroline": true
        }
       }
      },
      "text/html": [
       "<div id=\"c841d900-c8af-41be-a1bd-6074897599a8\" style=\"height: 525px; width: 100%;\" class=\"plotly-graph-div\"></div><script type=\"text/javascript\">require([\"plotly\"], function(Plotly) { window.PLOTLYENV=window.PLOTLYENV || {};window.PLOTLYENV.BASE_URL=\"https://plot.ly\";Plotly.newPlot(\"c841d900-c8af-41be-a1bd-6074897599a8\", [{\"line\": {\"dash\": \"solid\"}, \"name\": \"\\u53cd\\u9988\\u65f6\\u957fQ80(\\u51b7\\u96ea)\", \"x\": [\"8-1\", \"8-2\", \"8-3\", \"8-4\", \"8-5\", \"9-1\", \"9-2\", \"9-3\", \"9-4\"], \"y\": [7.59, 4.66, 5.63, 3.23, 6.49, 13.99, 10.5, 3.83, 3.99], \"type\": \"scatter\", \"uid\": \"2ec52956-cad2-11e8-8d03-a81e84e6c740\"}, {\"line\": {\"dash\": \"dot\"}, \"name\": \"\\u53cd\\u9988\\u65f6\\u957fQ80(\\u5362\\u6960)\", \"x\": [\"8-1\", \"8-2\", \"8-3\", \"8-4\", \"8-5\", \"9-1\", \"9-2\", \"9-3\", \"9-4\"], \"y\": [7.58, 4.61, 18.53, 5.89, 1.85, 2.18, 15.12, 0.0, 0.0], \"type\": \"scatter\", \"uid\": \"2ec52cb2-cad2-11e8-8d03-a81e84e6c740\"}, {\"line\": {\"dash\": \"dash\"}, \"name\": \"\\u53cd\\u9988\\u65f6\\u957fQ80(\\u5c48\\u6602)\", \"x\": [\"8-1\", \"8-2\", \"8-3\", \"8-4\", \"8-5\", \"9-1\", \"9-2\", \"9-3\", \"9-4\"], \"y\": [5.79, 5.35, 5.31, 5.19, 11.12, 16.0, 9.89, 3.92, 2.71], \"type\": \"scatter\", \"uid\": \"2ec52f0a-cad2-11e8-8d03-a81e84e6c740\"}, {\"line\": {\"dash\": \"longdash\"}, \"name\": \"\\u53cd\\u9988\\u65f6\\u957fQ80(\\u5f20\\u60a6)\", \"x\": [\"8-1\", \"8-2\", \"8-3\", \"8-4\", \"8-5\", \"9-1\", \"9-2\", \"9-3\", \"9-4\"], \"y\": [5.54, 2.28, 18.68, 1.47, 2.11, 3.31, 0.0, 0.0, 0.0], \"type\": \"scatter\", \"uid\": \"2ec53130-cad2-11e8-8d03-a81e84e6c740\"}, {\"line\": {\"dash\": \"solid\"}, \"name\": \"\\u5e73\\u5747\\u53cd\\u9988\\u65f6\\u957f(\\u51b7\\u96ea)\", \"x\": [\"8-1\", \"8-2\", \"8-3\", \"8-4\", \"8-5\", \"9-1\", \"9-2\", \"9-3\", \"9-4\"], \"y\": [7.090000000000001, 3.9827586206896552, 4.95, 3.38, 3.69, 9.81, 7.658947368421053, 3.6, 3.2600000000000002], \"type\": \"scatter\", \"uid\": \"2ec53342-cad2-11e8-8d03-a81e84e6c740\"}, {\"line\": {\"dash\": \"dot\"}, \"name\": \"\\u5e73\\u5747\\u53cd\\u9988\\u65f6\\u957f(\\u5362\\u6960)\", \"x\": [\"8-1\", \"8-2\", \"8-3\", \"8-4\", \"8-5\", \"9-1\", \"9-2\", \"9-3\", \"9-4\"], \"y\": [5.77, 5.0, 8.6, 5.199999999999999, 1.7300000000000002, 7.2, 14.409999999999998, null, null], \"type\": \"scatter\", \"uid\": \"2ec53536-cad2-11e8-8d03-a81e84e6c740\"}, {\"line\": {\"dash\": \"dash\"}, \"name\": \"\\u5e73\\u5747\\u53cd\\u9988\\u65f6\\u957f(\\u5c48\\u6602)\", \"x\": [\"8-1\", \"8-2\", \"8-3\", \"8-4\", \"8-5\", \"9-1\", \"9-2\", \"9-3\", \"9-4\"], \"y\": [5.95, 4.49, 4.5, 5.37, 7.139294117647059, 9.77, 6.688, 3.6300000000000003, 2.73], \"type\": \"scatter\", \"uid\": \"2ec5372a-cad2-11e8-8d03-a81e84e6c740\"}, {\"line\": {\"dash\": \"longdash\"}, \"name\": \"\\u5e73\\u5747\\u53cd\\u9988\\u65f6\\u957f(\\u5f20\\u60a6)\", \"x\": [\"8-1\", \"8-2\", \"8-3\", \"8-4\", \"8-5\", \"9-1\", \"9-2\", \"9-3\", \"9-4\"], \"y\": [14.51, 3.26, 18.68, 1.47, 2.7600000000000002, 5.22, null, null, null], \"type\": \"scatter\", \"uid\": \"2ec5391e-cad2-11e8-8d03-a81e84e6c740\"}], {\"title\": \"\\u53cd\\u9988\\u65f6\\u957fQ80&\\u5e73\\u5747\\u53cd\\u9988\\u65f6\\u957f\\u5468\\u8d8b\\u52bf\\u56fe\", \"xaxis\": {\"mirror\": \"all\", \"nticks\": 20, \"showgrid\": true, \"showline\": true, \"title\": \"\\u5468\", \"zeroline\": true}, \"yaxis\": {\"mirror\": \"all\", \"nticks\": 20, \"showgrid\": true, \"showline\": true, \"title\": \"\\u53cd\\u9988\\u65f6\\u957fQ80&\\u5e73\\u5747\\u53cd\\u9988\\u65f6\\u957f\", \"zeroline\": true}}, {\"showLink\": true, \"linkText\": \"Export to plot.ly\"})});</script>"
      ],
      "text/vnd.plotly.v1+html": [
       "<div id=\"c841d900-c8af-41be-a1bd-6074897599a8\" style=\"height: 525px; width: 100%;\" class=\"plotly-graph-div\"></div><script type=\"text/javascript\">require([\"plotly\"], function(Plotly) { window.PLOTLYENV=window.PLOTLYENV || {};window.PLOTLYENV.BASE_URL=\"https://plot.ly\";Plotly.newPlot(\"c841d900-c8af-41be-a1bd-6074897599a8\", [{\"line\": {\"dash\": \"solid\"}, \"name\": \"\\u53cd\\u9988\\u65f6\\u957fQ80(\\u51b7\\u96ea)\", \"x\": [\"8-1\", \"8-2\", \"8-3\", \"8-4\", \"8-5\", \"9-1\", \"9-2\", \"9-3\", \"9-4\"], \"y\": [7.59, 4.66, 5.63, 3.23, 6.49, 13.99, 10.5, 3.83, 3.99], \"type\": \"scatter\", \"uid\": \"2ec52956-cad2-11e8-8d03-a81e84e6c740\"}, {\"line\": {\"dash\": \"dot\"}, \"name\": \"\\u53cd\\u9988\\u65f6\\u957fQ80(\\u5362\\u6960)\", \"x\": [\"8-1\", \"8-2\", \"8-3\", \"8-4\", \"8-5\", \"9-1\", \"9-2\", \"9-3\", \"9-4\"], \"y\": [7.58, 4.61, 18.53, 5.89, 1.85, 2.18, 15.12, 0.0, 0.0], \"type\": \"scatter\", \"uid\": \"2ec52cb2-cad2-11e8-8d03-a81e84e6c740\"}, {\"line\": {\"dash\": \"dash\"}, \"name\": \"\\u53cd\\u9988\\u65f6\\u957fQ80(\\u5c48\\u6602)\", \"x\": [\"8-1\", \"8-2\", \"8-3\", \"8-4\", \"8-5\", \"9-1\", \"9-2\", \"9-3\", \"9-4\"], \"y\": [5.79, 5.35, 5.31, 5.19, 11.12, 16.0, 9.89, 3.92, 2.71], \"type\": \"scatter\", \"uid\": \"2ec52f0a-cad2-11e8-8d03-a81e84e6c740\"}, {\"line\": {\"dash\": \"longdash\"}, \"name\": \"\\u53cd\\u9988\\u65f6\\u957fQ80(\\u5f20\\u60a6)\", \"x\": [\"8-1\", \"8-2\", \"8-3\", \"8-4\", \"8-5\", \"9-1\", \"9-2\", \"9-3\", \"9-4\"], \"y\": [5.54, 2.28, 18.68, 1.47, 2.11, 3.31, 0.0, 0.0, 0.0], \"type\": \"scatter\", \"uid\": \"2ec53130-cad2-11e8-8d03-a81e84e6c740\"}, {\"line\": {\"dash\": \"solid\"}, \"name\": \"\\u5e73\\u5747\\u53cd\\u9988\\u65f6\\u957f(\\u51b7\\u96ea)\", \"x\": [\"8-1\", \"8-2\", \"8-3\", \"8-4\", \"8-5\", \"9-1\", \"9-2\", \"9-3\", \"9-4\"], \"y\": [7.090000000000001, 3.9827586206896552, 4.95, 3.38, 3.69, 9.81, 7.658947368421053, 3.6, 3.2600000000000002], \"type\": \"scatter\", \"uid\": \"2ec53342-cad2-11e8-8d03-a81e84e6c740\"}, {\"line\": {\"dash\": \"dot\"}, \"name\": \"\\u5e73\\u5747\\u53cd\\u9988\\u65f6\\u957f(\\u5362\\u6960)\", \"x\": [\"8-1\", \"8-2\", \"8-3\", \"8-4\", \"8-5\", \"9-1\", \"9-2\", \"9-3\", \"9-4\"], \"y\": [5.77, 5.0, 8.6, 5.199999999999999, 1.7300000000000002, 7.2, 14.409999999999998, null, null], \"type\": \"scatter\", \"uid\": \"2ec53536-cad2-11e8-8d03-a81e84e6c740\"}, {\"line\": {\"dash\": \"dash\"}, \"name\": \"\\u5e73\\u5747\\u53cd\\u9988\\u65f6\\u957f(\\u5c48\\u6602)\", \"x\": [\"8-1\", \"8-2\", \"8-3\", \"8-4\", \"8-5\", \"9-1\", \"9-2\", \"9-3\", \"9-4\"], \"y\": [5.95, 4.49, 4.5, 5.37, 7.139294117647059, 9.77, 6.688, 3.6300000000000003, 2.73], \"type\": \"scatter\", \"uid\": \"2ec5372a-cad2-11e8-8d03-a81e84e6c740\"}, {\"line\": {\"dash\": \"longdash\"}, \"name\": \"\\u5e73\\u5747\\u53cd\\u9988\\u65f6\\u957f(\\u5f20\\u60a6)\", \"x\": [\"8-1\", \"8-2\", \"8-3\", \"8-4\", \"8-5\", \"9-1\", \"9-2\", \"9-3\", \"9-4\"], \"y\": [14.51, 3.26, 18.68, 1.47, 2.7600000000000002, 5.22, null, null, null], \"type\": \"scatter\", \"uid\": \"2ec5391e-cad2-11e8-8d03-a81e84e6c740\"}], {\"title\": \"\\u53cd\\u9988\\u65f6\\u957fQ80&\\u5e73\\u5747\\u53cd\\u9988\\u65f6\\u957f\\u5468\\u8d8b\\u52bf\\u56fe\", \"xaxis\": {\"mirror\": \"all\", \"nticks\": 20, \"showgrid\": true, \"showline\": true, \"title\": \"\\u5468\", \"zeroline\": true}, \"yaxis\": {\"mirror\": \"all\", \"nticks\": 20, \"showgrid\": true, \"showline\": true, \"title\": \"\\u53cd\\u9988\\u65f6\\u957fQ80&\\u5e73\\u5747\\u53cd\\u9988\\u65f6\\u957f\", \"zeroline\": true}}, {\"showLink\": true, \"linkText\": \"Export to plot.ly\"})});</script>"
      ]
     },
     "metadata": {},
     "output_type": "display_data"
    },
    {
     "data": {
      "application/vnd.plotly.v1+json": {
       "data": [
        {
         "line": {
          "dash": "solid"
         },
         "name": "反馈时长Q80(冷雪)",
         "type": "scatter",
         "uid": "2ed9fa98-cad2-11e8-8d03-a81e84e6c740",
         "x": [
          8,
          9
         ],
         "y": [
          27.6,
          32.31
         ]
        },
        {
         "line": {
          "dash": "dot"
         },
         "name": "反馈时长Q80(卢楠)",
         "type": "scatter",
         "uid": "2eda00ba-cad2-11e8-8d03-a81e84e6c740",
         "x": [
          8,
          9
         ],
         "y": [
          38.46,
          17.3
         ]
        },
        {
         "line": {
          "dash": "dash"
         },
         "name": "反馈时长Q80(屈昂)",
         "type": "scatter",
         "uid": "2eda0344-cad2-11e8-8d03-a81e84e6c740",
         "x": [
          8,
          9
         ],
         "y": [
          32.76,
          32.52
         ]
        },
        {
         "line": {
          "dash": "longdash"
         },
         "name": "反馈时长Q80(张悦)",
         "type": "scatter",
         "uid": "2eda0560-cad2-11e8-8d03-a81e84e6c740",
         "x": [
          8,
          9
         ],
         "y": [
          30.08,
          3.31
         ]
        },
        {
         "line": {
          "dash": "solid"
         },
         "name": "平均反馈时长(冷雪)",
         "type": "scatter",
         "uid": "2eda0772-cad2-11e8-8d03-a81e84e6c740",
         "x": [
          8,
          9
         ],
         "y": [
          4.821589743589744,
          5.106372549019608
         ]
        },
        {
         "line": {
          "dash": "dot"
         },
         "name": "平均反馈时长(卢楠)",
         "type": "scatter",
         "uid": "2eda097a-cad2-11e8-8d03-a81e84e6c740",
         "x": [
          8,
          9
         ],
         "y": [
          5.846803278688525,
          11.526
         ]
        },
        {
         "line": {
          "dash": "dash"
         },
         "name": "平均反馈时长(屈昂)",
         "type": "scatter",
         "uid": "2eda0ba0-cad2-11e8-8d03-a81e84e6c740",
         "x": [
          8,
          9
         ],
         "y": [
          5.482354430379747,
          7.993348623853212
         ]
        },
        {
         "line": {
          "dash": "longdash"
         },
         "name": "平均反馈时长(张悦)",
         "type": "scatter",
         "uid": "2eda0d94-cad2-11e8-8d03-a81e84e6c740",
         "x": [
          8,
          9
         ],
         "y": [
          5.77,
          5.22
         ]
        }
       ],
       "layout": {
        "title": "反馈时长Q80&平均反馈时长月趋势图",
        "xaxis": {
         "mirror": "all",
         "nticks": 20,
         "showgrid": true,
         "showline": true,
         "title": "月",
         "zeroline": true
        },
        "yaxis": {
         "mirror": "all",
         "nticks": 20,
         "showgrid": true,
         "showline": true,
         "title": "反馈时长Q80&平均反馈时长",
         "zeroline": true
        }
       }
      },
      "text/html": [
       "<div id=\"0b9bb724-7849-4b23-a4b4-b27c370f1507\" style=\"height: 525px; width: 100%;\" class=\"plotly-graph-div\"></div><script type=\"text/javascript\">require([\"plotly\"], function(Plotly) { window.PLOTLYENV=window.PLOTLYENV || {};window.PLOTLYENV.BASE_URL=\"https://plot.ly\";Plotly.newPlot(\"0b9bb724-7849-4b23-a4b4-b27c370f1507\", [{\"line\": {\"dash\": \"solid\"}, \"name\": \"\\u53cd\\u9988\\u65f6\\u957fQ80(\\u51b7\\u96ea)\", \"x\": [8, 9], \"y\": [27.6, 32.31], \"type\": \"scatter\", \"uid\": \"2ed9fa98-cad2-11e8-8d03-a81e84e6c740\"}, {\"line\": {\"dash\": \"dot\"}, \"name\": \"\\u53cd\\u9988\\u65f6\\u957fQ80(\\u5362\\u6960)\", \"x\": [8, 9], \"y\": [38.46, 17.3], \"type\": \"scatter\", \"uid\": \"2eda00ba-cad2-11e8-8d03-a81e84e6c740\"}, {\"line\": {\"dash\": \"dash\"}, \"name\": \"\\u53cd\\u9988\\u65f6\\u957fQ80(\\u5c48\\u6602)\", \"x\": [8, 9], \"y\": [32.76, 32.52], \"type\": \"scatter\", \"uid\": \"2eda0344-cad2-11e8-8d03-a81e84e6c740\"}, {\"line\": {\"dash\": \"longdash\"}, \"name\": \"\\u53cd\\u9988\\u65f6\\u957fQ80(\\u5f20\\u60a6)\", \"x\": [8, 9], \"y\": [30.08, 3.31], \"type\": \"scatter\", \"uid\": \"2eda0560-cad2-11e8-8d03-a81e84e6c740\"}, {\"line\": {\"dash\": \"solid\"}, \"name\": \"\\u5e73\\u5747\\u53cd\\u9988\\u65f6\\u957f(\\u51b7\\u96ea)\", \"x\": [8, 9], \"y\": [4.821589743589744, 5.106372549019608], \"type\": \"scatter\", \"uid\": \"2eda0772-cad2-11e8-8d03-a81e84e6c740\"}, {\"line\": {\"dash\": \"dot\"}, \"name\": \"\\u5e73\\u5747\\u53cd\\u9988\\u65f6\\u957f(\\u5362\\u6960)\", \"x\": [8, 9], \"y\": [5.846803278688525, 11.526], \"type\": \"scatter\", \"uid\": \"2eda097a-cad2-11e8-8d03-a81e84e6c740\"}, {\"line\": {\"dash\": \"dash\"}, \"name\": \"\\u5e73\\u5747\\u53cd\\u9988\\u65f6\\u957f(\\u5c48\\u6602)\", \"x\": [8, 9], \"y\": [5.482354430379747, 7.993348623853212], \"type\": \"scatter\", \"uid\": \"2eda0ba0-cad2-11e8-8d03-a81e84e6c740\"}, {\"line\": {\"dash\": \"longdash\"}, \"name\": \"\\u5e73\\u5747\\u53cd\\u9988\\u65f6\\u957f(\\u5f20\\u60a6)\", \"x\": [8, 9], \"y\": [5.77, 5.22], \"type\": \"scatter\", \"uid\": \"2eda0d94-cad2-11e8-8d03-a81e84e6c740\"}], {\"title\": \"\\u53cd\\u9988\\u65f6\\u957fQ80&\\u5e73\\u5747\\u53cd\\u9988\\u65f6\\u957f\\u6708\\u8d8b\\u52bf\\u56fe\", \"xaxis\": {\"mirror\": \"all\", \"nticks\": 20, \"showgrid\": true, \"showline\": true, \"title\": \"\\u6708\", \"zeroline\": true}, \"yaxis\": {\"mirror\": \"all\", \"nticks\": 20, \"showgrid\": true, \"showline\": true, \"title\": \"\\u53cd\\u9988\\u65f6\\u957fQ80&\\u5e73\\u5747\\u53cd\\u9988\\u65f6\\u957f\", \"zeroline\": true}}, {\"showLink\": true, \"linkText\": \"Export to plot.ly\"})});</script>"
      ],
      "text/vnd.plotly.v1+html": [
       "<div id=\"0b9bb724-7849-4b23-a4b4-b27c370f1507\" style=\"height: 525px; width: 100%;\" class=\"plotly-graph-div\"></div><script type=\"text/javascript\">require([\"plotly\"], function(Plotly) { window.PLOTLYENV=window.PLOTLYENV || {};window.PLOTLYENV.BASE_URL=\"https://plot.ly\";Plotly.newPlot(\"0b9bb724-7849-4b23-a4b4-b27c370f1507\", [{\"line\": {\"dash\": \"solid\"}, \"name\": \"\\u53cd\\u9988\\u65f6\\u957fQ80(\\u51b7\\u96ea)\", \"x\": [8, 9], \"y\": [27.6, 32.31], \"type\": \"scatter\", \"uid\": \"2ed9fa98-cad2-11e8-8d03-a81e84e6c740\"}, {\"line\": {\"dash\": \"dot\"}, \"name\": \"\\u53cd\\u9988\\u65f6\\u957fQ80(\\u5362\\u6960)\", \"x\": [8, 9], \"y\": [38.46, 17.3], \"type\": \"scatter\", \"uid\": \"2eda00ba-cad2-11e8-8d03-a81e84e6c740\"}, {\"line\": {\"dash\": \"dash\"}, \"name\": \"\\u53cd\\u9988\\u65f6\\u957fQ80(\\u5c48\\u6602)\", \"x\": [8, 9], \"y\": [32.76, 32.52], \"type\": \"scatter\", \"uid\": \"2eda0344-cad2-11e8-8d03-a81e84e6c740\"}, {\"line\": {\"dash\": \"longdash\"}, \"name\": \"\\u53cd\\u9988\\u65f6\\u957fQ80(\\u5f20\\u60a6)\", \"x\": [8, 9], \"y\": [30.08, 3.31], \"type\": \"scatter\", \"uid\": \"2eda0560-cad2-11e8-8d03-a81e84e6c740\"}, {\"line\": {\"dash\": \"solid\"}, \"name\": \"\\u5e73\\u5747\\u53cd\\u9988\\u65f6\\u957f(\\u51b7\\u96ea)\", \"x\": [8, 9], \"y\": [4.821589743589744, 5.106372549019608], \"type\": \"scatter\", \"uid\": \"2eda0772-cad2-11e8-8d03-a81e84e6c740\"}, {\"line\": {\"dash\": \"dot\"}, \"name\": \"\\u5e73\\u5747\\u53cd\\u9988\\u65f6\\u957f(\\u5362\\u6960)\", \"x\": [8, 9], \"y\": [5.846803278688525, 11.526], \"type\": \"scatter\", \"uid\": \"2eda097a-cad2-11e8-8d03-a81e84e6c740\"}, {\"line\": {\"dash\": \"dash\"}, \"name\": \"\\u5e73\\u5747\\u53cd\\u9988\\u65f6\\u957f(\\u5c48\\u6602)\", \"x\": [8, 9], \"y\": [5.482354430379747, 7.993348623853212], \"type\": \"scatter\", \"uid\": \"2eda0ba0-cad2-11e8-8d03-a81e84e6c740\"}, {\"line\": {\"dash\": \"longdash\"}, \"name\": \"\\u5e73\\u5747\\u53cd\\u9988\\u65f6\\u957f(\\u5f20\\u60a6)\", \"x\": [8, 9], \"y\": [5.77, 5.22], \"type\": \"scatter\", \"uid\": \"2eda0d94-cad2-11e8-8d03-a81e84e6c740\"}], {\"title\": \"\\u53cd\\u9988\\u65f6\\u957fQ80&\\u5e73\\u5747\\u53cd\\u9988\\u65f6\\u957f\\u6708\\u8d8b\\u52bf\\u56fe\", \"xaxis\": {\"mirror\": \"all\", \"nticks\": 20, \"showgrid\": true, \"showline\": true, \"title\": \"\\u6708\", \"zeroline\": true}, \"yaxis\": {\"mirror\": \"all\", \"nticks\": 20, \"showgrid\": true, \"showline\": true, \"title\": \"\\u53cd\\u9988\\u65f6\\u957fQ80&\\u5e73\\u5747\\u53cd\\u9988\\u65f6\\u957f\", \"zeroline\": true}}, {\"showLink\": true, \"linkText\": \"Export to plot.ly\"})});</script>"
      ]
     },
     "metadata": {},
     "output_type": "display_data"
    }
   ],
   "source": [
    "ss = myModule.format(all_df1 ,\"日期（格式“月-周次”）\" ,['反馈总时长','下机批次数','反馈时长Q80'])\n",
    "ss.add_group('人员')\n",
    "tt = ss.get_total_ratio([['平均反馈时长','反馈总时长','下机批次数','/']] , ['反馈时长Q80'])\n",
    "myModule.myPlot(tt).plot('line')\n",
    "\n",
    "ss = myModule.format(all_df1 ,\"month\" ,['反馈总时长','下机批次数','反馈时长Q80'])\n",
    "ss.add_group('人员')\n",
    "tt = ss.get_total_ratio([['平均反馈时长','反馈总时长','下机批次数','/']] , ['反馈时长Q80'])\n",
    "myModule.myPlot(tt).plot('line','月')"
   ]
  }
 ],
 "metadata": {
  "celltoolbar": "Raw Cell Format",
  "hide_input": false,
  "kernelspec": {
   "display_name": "Python 3",
   "language": "python",
   "name": "python3"
  },
  "language_info": {
   "codemirror_mode": {
    "name": "ipython",
    "version": 3
   },
   "file_extension": ".py",
   "mimetype": "text/x-python",
   "name": "python",
   "nbconvert_exporter": "python",
   "pygments_lexer": "ipython3",
   "version": "3.6.0"
  },
  "toc": {
   "base_numbering": 1,
   "nav_menu": {},
   "number_sections": true,
   "sideBar": true,
   "skip_h1_title": false,
   "title_cell": "Table of Contents",
   "title_sidebar": "Contents",
   "toc_cell": false,
   "toc_position": {
    "height": "513.333px",
    "left": "419px",
    "top": "110.926px",
    "width": "225.023px"
   },
   "toc_section_display": true,
   "toc_window_display": true
  }
 },
 "nbformat": 4,
 "nbformat_minor": 2
}
