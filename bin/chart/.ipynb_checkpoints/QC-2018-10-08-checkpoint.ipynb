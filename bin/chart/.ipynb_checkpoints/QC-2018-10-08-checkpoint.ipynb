{
 "cells": [
  {
   "cell_type": "code",
   "execution_count": 1,
   "metadata": {
    "collapsed": false,
    "hide_input": false
   },
   "outputs": [
    {
     "data": {
      "text/html": [
       "<script>requirejs.config({paths: { 'plotly': ['https://cdn.plot.ly/plotly-latest.min']},});if(!window.Plotly) {{require(['plotly'],function(plotly) {window.Plotly=plotly;});}}</script>"
      ],
      "text/vnd.plotly.v1+html": [
       "<script>requirejs.config({paths: { 'plotly': ['https://cdn.plot.ly/plotly-latest.min']},});if(!window.Plotly) {{require(['plotly'],function(plotly) {window.Plotly=plotly;});}}</script>"
      ]
     },
     "metadata": {},
     "output_type": "display_data"
    }
   ],
   "source": [
    "%load_ext autoreload\n",
    "%autoreload 2\n",
    "import sys\n",
    "sys.path.append('./')\n",
    "import myModule\n",
    "import pandas as pd "
   ]
  },
  {
   "cell_type": "code",
   "execution_count": 2,
   "metadata": {
    "collapsed": false
   },
   "outputs": [
    {
     "data": {
      "text/html": [
       "<script>requirejs.config({paths: { 'plotly': ['https://cdn.plot.ly/plotly-latest.min']},});if(!window.Plotly) {{require(['plotly'],function(plotly) {window.Plotly=plotly;});}}</script>"
      ],
      "text/vnd.plotly.v1+html": [
       "<script>requirejs.config({paths: { 'plotly': ['https://cdn.plot.ly/plotly-latest.min']},});if(!window.Plotly) {{require(['plotly'],function(plotly) {window.Plotly=plotly;});}}</script>"
      ]
     },
     "metadata": {},
     "output_type": "display_data"
    },
    {
     "data": {
      "text/plain": [
       "<module 'myModule' from '/home/jiankong/jupyter/chart/bin/chart/myModule.py'>"
      ]
     },
     "execution_count": 2,
     "metadata": {},
     "output_type": "execute_result"
    }
   ],
   "source": [
    "import imp\n",
    "imp.reload(myModule)"
   ]
  },
  {
   "cell_type": "code",
   "execution_count": 4,
   "metadata": {
    "collapsed": false
   },
   "outputs": [],
   "source": [
    "import os\n",
    "bindir = os.path.dirname(os.getcwd())\n",
    "pathway = bindir + '/../data/QC/'\n",
    "all_files , title = myModule.get_title(pathway , 0)##给路径\n",
    "all_df1 = myModule.read_xlsx(all_files, 0 ) ## read all files\n",
    "#data_dict = {'下机批次比':['下机批次数','下机项目数']}\n",
    "\n",
    "all_df2 = myModule.read_xlsx(all_files , 1 )\n"
   ]
  },
  {
   "cell_type": "code",
   "execution_count": 5,
   "metadata": {
    "collapsed": false
   },
   "outputs": [
    {
     "ename": "ValueError",
     "evalue": "too many values to unpack (expected 3)",
     "output_type": "error",
     "traceback": [
      "\u001b[0;31m---------------------------------------------------------------------------\u001b[0m",
      "\u001b[0;31mValueError\u001b[0m                                Traceback (most recent call last)",
      "\u001b[0;32m<ipython-input-5-764eb9cf96e0>\u001b[0m in \u001b[0;36m<module>\u001b[0;34m()\u001b[0m\n\u001b[0;32m----> 1\u001b[0;31m \u001b[0mmyModule\u001b[0m\u001b[0;34m.\u001b[0m\u001b[0mupgrade_df\u001b[0m\u001b[0;34m(\u001b[0m\u001b[0mall_df1\u001b[0m\u001b[0;34m,\u001b[0m \u001b[0;34m[\u001b[0m \u001b[0;34m[\u001b[0m\u001b[0;34m'下机批次比'\u001b[0m\u001b[0;34m,\u001b[0m\u001b[0;34m'下机批次数'\u001b[0m\u001b[0;34m,\u001b[0m\u001b[0;34m'下机项目数'\u001b[0m\u001b[0;34m,\u001b[0m\u001b[0;34m'/'\u001b[0m\u001b[0;34m]\u001b[0m \u001b[0;34m]\u001b[0m\u001b[0;34m)\u001b[0m\u001b[0;34m\u001b[0m\u001b[0m\n\u001b[0m\u001b[1;32m      2\u001b[0m \u001b[0;31m#all_df1[['下机批次比','下机批次数','下机项目数']]\u001b[0m\u001b[0;34m\u001b[0m\u001b[0;34m\u001b[0m\u001b[0m\n",
      "\u001b[0;32m/home/jiankong/jupyter/chart/bin/chart/myModule.py\u001b[0m in \u001b[0;36mupgrade_df\u001b[0;34m(df, a_list)\u001b[0m\n\u001b[1;32m     60\u001b[0m \tupgrade_df(all_df1, [ ['完成项目总数',['完成商业项目数','完成个性化数'],'+'] ,\n\u001b[1;32m     61\u001b[0m \t['在线项目总数',['下机项目数','接入个性化数'],'/']])  '''\n\u001b[0;32m---> 62\u001b[0;31m         \u001b[0;32mfor\u001b[0m \u001b[0mresult\u001b[0m \u001b[0;34m,\u001b[0m \u001b[0ma\u001b[0m  \u001b[0;34m,\u001b[0m\u001b[0msymbol\u001b[0m \u001b[0;32min\u001b[0m \u001b[0ma_list\u001b[0m \u001b[0;34m:\u001b[0m\u001b[0;34m\u001b[0m\u001b[0m\n\u001b[0m\u001b[1;32m     63\u001b[0m                 \u001b[0;32mif\u001b[0m \u001b[0mresult\u001b[0m \u001b[0;32min\u001b[0m \u001b[0mdf\u001b[0m\u001b[0;34m.\u001b[0m\u001b[0mcolumns\u001b[0m\u001b[0;34m:\u001b[0m\u001b[0;34m\u001b[0m\u001b[0m\n\u001b[1;32m     64\u001b[0m                         \u001b[0mbool_list\u001b[0m \u001b[0;34m=\u001b[0m \u001b[0mdf\u001b[0m\u001b[0;34m[\u001b[0m \u001b[0mresult\u001b[0m \u001b[0;34m]\u001b[0m\u001b[0;34m.\u001b[0m\u001b[0misna\u001b[0m\u001b[0;34m(\u001b[0m\u001b[0;34m)\u001b[0m\u001b[0;34m\u001b[0m\u001b[0m\n",
      "\u001b[0;31mValueError\u001b[0m: too many values to unpack (expected 3)"
     ]
    }
   ],
   "source": [
    "myModule.upgrade_df(all_df1, [ ['下机批次比','下机批次数','下机项目数','/'] ])\n",
    "#all_df1[['下机批次比','下机批次数','下机项目数']]"
   ]
  },
  {
   "cell_type": "markdown",
   "metadata": {},
   "source": [
    "# QC分析组整体情况"
   ]
  },
  {
   "cell_type": "markdown",
   "metadata": {},
   "source": [
    "## 整体人员情况"
   ]
  },
  {
   "cell_type": "code",
   "execution_count": null,
   "metadata": {
    "collapsed": false
   },
   "outputs": [],
   "source": [
    "ss = myModule.format(all_df1 ,\"日期（格式“月-周次”）\" ,['人员'])\n",
    "tt = myModule.myPlot(ss.groupby('count'))\n",
    "tt.plot('bar')\n",
    "\n",
    "ss = myModule.format(all_df1 ,\"month\" ,['人员'] )\n",
    "ss.get_average_by('日期（格式“月-周次”）')\n",
    "tt = myModule.myPlot(ss.groupby(\"count\") )# ,\"日期（格式“月-周次”）\" ,['人员'])\n",
    "tt.plot('bar',tag='月')"
   ]
  },
  {
   "cell_type": "markdown",
   "metadata": {
    "hide_input": true
   },
   "source": [
    "## 过滤项目整体情况"
   ]
  },
  {
   "cell_type": "markdown",
   "metadata": {},
   "source": [
    "### 产能"
   ]
  },
  {
   "cell_type": "markdown",
   "metadata": {},
   "source": [
    "\n",
    "#### 下机批次数和下机项目数\n"
   ]
  },
  {
   "cell_type": "code",
   "execution_count": null,
   "metadata": {
    "collapsed": false
   },
   "outputs": [],
   "source": [
    "ss = myModule.format(all_df1 ,\"日期（格式“月-周次”）\" ,['下机批次数','下机项目数'])\n",
    "myModule.myPlot(ss.groupby('sum')).plot('stack_bar')\n",
    "ss = myModule.format(all_df1 ,\"month\" ,['下机批次数','下机项目数'])\n",
    "myModule.myPlot(ss.groupby('sum')).plot('stack_bar',\"月\")"
   ]
  },
  {
   "cell_type": "markdown",
   "metadata": {},
   "source": [
    "#### 下机批次比"
   ]
  },
  {
   "cell_type": "code",
   "execution_count": null,
   "metadata": {
    "collapsed": false
   },
   "outputs": [],
   "source": [
    "ss = myModule.format(all_df1 ,\"日期（格式“月-周次”）\" ,['下机批次数','下机项目数'])\n",
    "tt = ss.get_total_ratio([['下机批次比' ,'下机批次数' , '下机项目数','/']] )\n",
    "myModule.myPlot(tt).plot('line')\n",
    "\n",
    "ss = myModule.format(all_df1 ,\"month\" ,['下机批次数','下机项目数'])\n",
    "tt = ss.get_total_ratio([['下机批次比' ,'下机批次数' , '下机项目数','/']] )\n",
    "myModule.myPlot(tt).plot('line')\n"
   ]
  },
  {
   "cell_type": "markdown",
   "metadata": {
    "hide_input": true
   },
   "source": [
    "### 效率"
   ]
  },
  {
   "cell_type": "markdown",
   "metadata": {},
   "source": [
    "#### 反馈及时率和数据交付及时率"
   ]
  },
  {
   "cell_type": "code",
   "execution_count": null,
   "metadata": {
    "collapsed": false
   },
   "outputs": [],
   "source": [
    "ss = myModule.format(all_df1 ,\"日期（格式“月-周次”）\" ,['及时反馈数','下机批次数','数据及时交付数','数据交付总数'])\n",
    "tt = ss.get_total_ratio([['反馈及时率' ,'及时反馈数' , '下机批次数','/'], \n",
    "                    ['数据及时交付率','数据及时交付数','数据交付总数','/']])\n",
    "myModule.myPlot(tt).plot('line')\n",
    "\n",
    "ss = myModule.format(all_df1 ,\"month\" ,['及时反馈数','下机批次数','数据及时交付数','数据交付总数'])\n",
    "tt = ss.get_total_ratio([['反馈及时率' ,'及时反馈数' , '下机批次数','/'], \n",
    "                    ['数据及时交付率','数据及时交付数','数据交付总数','/']])\n",
    "myModule.myPlot(tt).plot('line')\n"
   ]
  },
  {
   "cell_type": "markdown",
   "metadata": {},
   "source": [
    "#### 24h拆分过滤率和48h拆分过滤率"
   ]
  },
  {
   "cell_type": "code",
   "execution_count": null,
   "metadata": {
    "collapsed": false
   },
   "outputs": [],
   "source": [
    "ss = myModule.format(all_df1 ,\"日期（格式“月-周次”）\" ,['24h完成批次数', '下机批次数','48h完成批次数'])\n",
    "tt = ss.get_total_ratio([['24h拆分过滤率' ,'24h完成批次数', '下机批次数','/'], \n",
    "                    ['48h拆分过滤率','48h完成批次数', '下机批次数','/']])\n",
    "myModule.myPlot(tt).plot('line')\n",
    "\n",
    "ss = myModule.format(all_df1 ,\"month\" ,['24h完成批次数', '下机批次数','48h完成批次数'])\n",
    "tt = ss.get_total_ratio([['24h拆分过滤率' ,'24h完成批次数', '下机批次数','/'], \n",
    "                    ['48h拆分过滤率','48h完成批次数', '下机批次数','/']])\n",
    "myModule.myPlot(tt).plot('line')"
   ]
  },
  {
   "cell_type": "markdown",
   "metadata": {},
   "source": [
    "#### 平均反馈时长"
   ]
  },
  {
   "cell_type": "code",
   "execution_count": null,
   "metadata": {
    "collapsed": false
   },
   "outputs": [],
   "source": [
    "ss = myModule.format(all_df1 ,\"日期（格式“月-周次”）\" ,['反馈总时长','下机批次数'])\n",
    "tt = ss.get_total_ratio([['平均反馈时长','反馈总时长','下机批次数','/']] )\n",
    "myModule.myPlot(tt).plot('line')\n",
    "\n",
    "ss = myModule.format(all_df1 ,\"month\" ,['反馈总时长','下机批次数'])\n",
    "tt = ss.get_total_ratio([['平均反馈时长','反馈总时长','下机批次数','/']] )\n",
    "myModule.myPlot(tt).plot('line')\n"
   ]
  },
  {
   "cell_type": "markdown",
   "metadata": {},
   "source": [
    "### 异常"
   ]
  },
  {
   "cell_type": "markdown",
   "metadata": {},
   "source": [
    "#### 个性化拆分"
   ]
  },
  {
   "cell_type": "code",
   "execution_count": null,
   "metadata": {
    "collapsed": false
   },
   "outputs": [],
   "source": [
    "ss = myModule.format(all_df1 ,\"日期（格式“月-周次”）\" ,['个性化数'])\n",
    "myModule.myPlot(ss.groupby('sum')).plot('line')\n",
    "\n",
    "ss = myModule.format(all_df1 ,\"month\" ,['个性化数'])\n",
    "myModule.myPlot(ss.groupby('sum')).plot('line','月')"
   ]
  },
  {
   "cell_type": "markdown",
   "metadata": {},
   "source": [
    "#### lims异常数和下单错误数"
   ]
  },
  {
   "cell_type": "code",
   "execution_count": null,
   "metadata": {
    "collapsed": false
   },
   "outputs": [],
   "source": [
    "ss = myModule.format(all_df1 ,\"日期（格式“月-周次”）\" ,['lims异常数' , '下单错误数'])\n",
    "myModule.myPlot(ss.groupby('sum')).plot('line')\n",
    "\n",
    "ss = myModule.format(all_df1 ,\"month\" ,['lims异常数' , '下单错误数'])\n",
    "myModule.myPlot(ss.groupby('sum')).plot('line','月')"
   ]
  },
  {
   "cell_type": "markdown",
   "metadata": {},
   "source": [
    "#### 过滤流程异常数"
   ]
  },
  {
   "cell_type": "code",
   "execution_count": null,
   "metadata": {
    "collapsed": false
   },
   "outputs": [],
   "source": [
    "ss = myModule.format(all_df1 ,\"日期（格式“月-周次”）\" ,['过滤流程异常数'])\n",
    "myModule.myPlot(ss.groupby('sum')).plot('line')\n",
    "\n",
    "ss = myModule.format(all_df1 ,\"month\" ,['过滤流程异常数'])\n",
    "myModule.myPlot(ss.groupby('sum')).plot('line','月')"
   ]
  },
  {
   "cell_type": "markdown",
   "metadata": {},
   "source": [
    "## 芯片拆分整体情况"
   ]
  },
  {
   "cell_type": "markdown",
   "metadata": {},
   "source": [
    "### 产能"
   ]
  },
  {
   "cell_type": "markdown",
   "metadata": {},
   "source": [
    "#### 芯片总数和不通过芯片数"
   ]
  },
  {
   "cell_type": "code",
   "execution_count": null,
   "metadata": {
    "collapsed": false
   },
   "outputs": [],
   "source": [
    "ss = myModule.format(all_df2 ,\"日期（格式“月-周次”）\" ,['芯片总数' ,'不通过芯片数' ])\n",
    "myModule.myPlot(ss.groupby('sum')).plot('line')\n",
    "\n",
    "ss = myModule.format(all_df2 ,\"month\" ,['芯片总数' ,'不通过芯片数'])\n",
    "myModule.myPlot(ss.groupby('sum')).plot('line','月')"
   ]
  },
  {
   "cell_type": "markdown",
   "metadata": {},
   "source": [
    "### 效率"
   ]
  },
  {
   "cell_type": "markdown",
   "metadata": {},
   "source": [
    "#### 不合格率"
   ]
  },
  {
   "cell_type": "code",
   "execution_count": null,
   "metadata": {
    "collapsed": false
   },
   "outputs": [],
   "source": [
    "ss = myModule.format(all_df2 ,\"日期（格式“月-周次”）\" ,['不通过芯片数', '芯片总数'])\n",
    "tt = ss.get_total_ratio([['不合格率','不通过芯片数','芯片总数','/']])\n",
    "myModule.myPlot(tt).plot('line')\n",
    "\n",
    "ss = myModule.format(all_df2 ,\"month\" ,['不通过芯片数', '芯片总数'])\n",
    "tt = ss.get_total_ratio([['不合格率','不通过芯片数','芯片总数','/']])\n",
    "myModule.myPlot(tt).plot('bar','月')"
   ]
  },
  {
   "cell_type": "markdown",
   "metadata": {},
   "source": [
    "#### 通过率情况"
   ]
  },
  {
   "cell_type": "code",
   "execution_count": null,
   "metadata": {
    "collapsed": false
   },
   "outputs": [],
   "source": [
    "ss = myModule.format(all_df2 ,\"日期（格式“月-周次”）\" ,['8h通过芯片数', '芯片总数','24h通过芯片数','48h通过芯片数'])\n",
    "tt = ss.get_total_ratio([['8h通过率','8h通过芯片数','芯片总数','/'],\n",
    "                         ['24h通过率','24h通过芯片数','芯片总数','/'],\n",
    "                        ['48h通过率','48h通过芯片数','芯片总数','/'],])\n",
    "myModule.myPlot(tt).plot('line')\n",
    "\n",
    "ss = myModule.format(all_df2 ,\"month\" ,['8h通过芯片数', '芯片总数','24h通过芯片数','48h通过芯片数'])\n",
    "tt = ss.get_total_ratio([['8h通过率','8h通过芯片数','芯片总数','/'],\n",
    "                         ['24h通过率','24h通过芯片数','芯片总数','/'],\n",
    "                        ['48h通过率','48h通过芯片数','芯片总数','/'],])\n",
    "myModule.myPlot(tt).plot('line','月')"
   ]
  },
  {
   "cell_type": "markdown",
   "metadata": {},
   "source": [
    "#### 平均通过时长，一次通过平均时长，非一次通过平均时长，通过时长Q80"
   ]
  },
  {
   "cell_type": "code",
   "execution_count": null,
   "metadata": {
    "collapsed": false
   },
   "outputs": [],
   "source": [
    "ss = myModule.format(all_df2 ,\"日期（格式“月-周次”）\" ,['平均通过时长', '一次通过平均时长','非一次通过平均时长','通过时长Q80' ])\n",
    "myModule.myPlot(ss.groupby('sum')).plot('line')\n",
    "\n",
    "ss = myModule.format(all_df2 ,\"month\" ,['平均通过时长', '一次通过平均时长','非一次通过平均时长','通过时长Q80' ])\n",
    "myModule.myPlot(ss.groupby('mean')).plot('line','月')"
   ]
  },
  {
   "cell_type": "markdown",
   "metadata": {},
   "source": [
    "#### 一次通过平均时长，xten一次通过时长，NovaS4一次通过时长"
   ]
  },
  {
   "cell_type": "code",
   "execution_count": null,
   "metadata": {
    "collapsed": false
   },
   "outputs": [],
   "source": [
    "ss = myModule.format(all_df2 ,\"日期（格式“月-周次”）\" ,[ '一次通过平均时长','xten一次通过时长','NovaS4一次通过时长' ])\n",
    "myModule.myPlot(ss.groupby('sum')).plot('line')\n",
    "\n",
    "ss = myModule.format(all_df2 ,\"month\" ,[ '一次通过平均时长','xten一次通过时长','NovaS4一次通过时长' ])\n",
    "myModule.myPlot(ss.groupby('mean')).plot('line','月')"
   ]
  },
  {
   "cell_type": "markdown",
   "metadata": {},
   "source": [
    "### 异常"
   ]
  },
  {
   "cell_type": "markdown",
   "metadata": {},
   "source": [
    "####  测序异常，外来index错误，自建库index错误，lims系统错误，个性化拆分数"
   ]
  },
  {
   "cell_type": "code",
   "execution_count": null,
   "metadata": {
    "collapsed": false
   },
   "outputs": [],
   "source": [
    "in_list = ['测序异常', '外来Index错误' , '自建库Index错误' ,'lims系统错误', '个性化拆分数' ]\n",
    "ss = myModule.format(all_df2 ,\"日期（格式“月-周次”）\" ,in_list)\n",
    "myModule.myPlot(ss.groupby('sum')).plot('line')\n",
    "\n",
    "ss = myModule.format(all_df2 ,\"month\" ,in_list)\n",
    "myModule.myPlot(ss.groupby('mean')).plot('line','月')"
   ]
  },
  {
   "cell_type": "markdown",
   "metadata": {},
   "source": [
    "#### 拆分流程异常数，延期处理"
   ]
  },
  {
   "cell_type": "code",
   "execution_count": null,
   "metadata": {
    "collapsed": false
   },
   "outputs": [],
   "source": [
    "in_list = ['拆分流程异常数','处理延期' ]\n",
    "ss = myModule.format(all_df2 ,\"日期（格式“月-周次”）\" ,in_list)\n",
    "myModule.myPlot(ss.groupby('sum')).plot('line')\n",
    "\n",
    "ss = myModule.format(all_df2 ,\"month\" ,in_list)\n",
    "myModule.myPlot(ss.groupby('mean')).plot('line','月')"
   ]
  },
  {
   "cell_type": "code",
   "execution_count": null,
   "metadata": {
    "collapsed": true
   },
   "outputs": [],
   "source": [
    "all_files , title = myModule.get_title(pathway , 0 ) ##给路径\n",
    "all_dict = myModule.read_xlsx(all_files, 0 ) ## read all files"
   ]
  },
  {
   "cell_type": "markdown",
   "metadata": {},
   "source": [
    "# 过滤项目个人情况"
   ]
  },
  {
   "cell_type": "markdown",
   "metadata": {},
   "source": [
    "## 产能"
   ]
  },
  {
   "cell_type": "markdown",
   "metadata": {},
   "source": [
    "### 下机批次"
   ]
  },
  {
   "cell_type": "code",
   "execution_count": null,
   "metadata": {
    "collapsed": false
   },
   "outputs": [],
   "source": [
    "in_list = ['下机批次数' ,'下机项目数' ]\n",
    "ss = myModule.format(all_df1 ,\"日期（格式“月-周次”）\" ,in_list)\n",
    "ss.add_group('人员')\n",
    "myModule.myPlot(ss.groupby('sum')).plot('line')\n",
    "ss = myModule.format(all_df1 ,\"month\" ,in_list)\n",
    "ss.add_group('人员')\n",
    "myModule.myPlot(ss.groupby('sum')).plot('line','月')"
   ]
  },
  {
   "cell_type": "markdown",
   "metadata": {},
   "source": [
    "## 效率"
   ]
  },
  {
   "cell_type": "markdown",
   "metadata": {},
   "source": [
    "### 反馈及时率和数据及时交付率"
   ]
  },
  {
   "cell_type": "code",
   "execution_count": null,
   "metadata": {
    "collapsed": false
   },
   "outputs": [],
   "source": [
    "ss = myModule.format(all_df1 ,\"日期（格式“月-周次”）\" ,['及时反馈数','下机批次数','数据及时交付数','数据交付总数'])\n",
    "ss.add_group('人员')\n",
    "tt = ss.get_total_ratio([['反馈及时率','及时反馈数','下机批次数','/'],\n",
    "                       ['数据及时交付率','数据及时交付数','数据交付总数','/']])\n",
    "myModule.myPlot(tt).plot('line')\n",
    "\n",
    "ss = myModule.format(all_df1 ,\"month\" ,['及时反馈数','下机批次数','数据及时交付数','数据交付总数'])\n",
    "ss.add_group('人员')\n",
    "tt = ss.get_total_ratio([['反馈及时率','及时反馈数','下机批次数','/'],\n",
    "                       ['数据及时交付率','数据及时交付数','数据交付总数','/']])\n",
    "myModule.myPlot(tt).plot('line','月')"
   ]
  },
  {
   "cell_type": "markdown",
   "metadata": {},
   "source": [
    "### 平均反馈时长和反馈时长Q80"
   ]
  },
  {
   "cell_type": "code",
   "execution_count": null,
   "metadata": {
    "collapsed": false
   },
   "outputs": [],
   "source": [
    "ss = myModule.format(all_df1 ,\"日期（格式“月-周次”）\" ,['反馈总时长','下机批次数','反馈时长Q80'])\n",
    "ss.add_group('人员')\n",
    "tt = ss.get_total_ratio([['平均反馈时长','反馈总时长','下机批次数','/']] , ['反馈时长Q80'])\n",
    "myModule.myPlot(tt).plot('line')\n",
    "\n",
    "ss = myModule.format(all_df1 ,\"month\" ,['反馈总时长','下机批次数','反馈时长Q80'])\n",
    "ss.add_group('人员')\n",
    "tt = ss.get_total_ratio([['平均反馈时长','反馈总时长','下机批次数','/']] , ['反馈时长Q80'])\n",
    "myModule.myPlot(tt).plot('line','月')"
   ]
  }
 ],
 "metadata": {
  "celltoolbar": "Raw Cell Format",
  "hide_input": false,
  "kernelspec": {
   "display_name": "Python 3",
   "language": "python",
   "name": "python3"
  },
  "language_info": {
   "codemirror_mode": {
    "name": "ipython",
    "version": 3
   },
   "file_extension": ".py",
   "mimetype": "text/x-python",
   "name": "python",
   "nbconvert_exporter": "python",
   "pygments_lexer": "ipython3",
   "version": "3.6.0"
  },
  "toc": {
   "base_numbering": 1,
   "nav_menu": {},
   "number_sections": true,
   "sideBar": true,
   "skip_h1_title": false,
   "title_cell": "Table of Contents",
   "title_sidebar": "Contents",
   "toc_cell": false,
   "toc_position": {
    "height": "513.333px",
    "left": "419px",
    "top": "110.926px",
    "width": "225.023px"
   },
   "toc_section_display": true,
   "toc_window_display": true
  }
 },
 "nbformat": 4,
 "nbformat_minor": 2
}
