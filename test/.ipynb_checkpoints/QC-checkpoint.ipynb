{
 "cells": [
  {
   "cell_type": "code",
   "execution_count": 30,
   "metadata": {
    "hide_input": false
   },
   "outputs": [],
   "source": [
    "import sys\n",
    "sys.path.append('./')\n",
    "import myModule\n",
    "import pandas as pd "
   ]
  },
  {
   "cell_type": "code",
   "execution_count": 31,
   "metadata": {
    "collapsed": true
   },
   "outputs": [],
   "source": [
    "import imp\n",
    "#imp.reload(myModule)\n",
    "pathway = r\"/mnt/e/jupyter/data/QC/\""
   ]
  },
  {
   "cell_type": "code",
   "execution_count": 32,
   "metadata": {},
   "outputs": [],
   "source": [
    "all_files , title = myModule.get_title(pathway , 0)##给路径\n",
    "all_dict = myModule.read_xlsx(all_files, 0 ) ## read all files\n"
   ]
  },
  {
   "cell_type": "markdown",
   "metadata": {},
   "source": [
    "# QC分析组整体情况\n",
    "* 总结\n",
    "  * test"
   ]
  },
  {
   "cell_type": "markdown",
   "metadata": {
    "hide_input": true
   },
   "source": [
    "## 过滤项目整体情况"
   ]
  },
  {
   "cell_type": "markdown",
   "metadata": {},
   "source": [
    "### 产能"
   ]
  },
  {
   "cell_type": "markdown",
   "metadata": {},
   "source": [
    "\n",
    "#### 下机批次数和下机项目数\n"
   ]
  },
  {
   "cell_type": "code",
   "execution_count": 33,
   "metadata": {
    "scrolled": false
   },
   "outputs": [
    {
     "data": {
      "application/vnd.plotly.v1+json": {
       "data": [
        {
         "name": "下机批次数",
         "type": "scatter",
         "uid": "d9f8653e-c05b-11e8-ba9b-2c6e85b5340b",
         "x": [
          "8-1",
          "8-2",
          "8-3",
          "8-4",
          "8-5",
          "9-1",
          "9-2"
         ],
         "y": [
          118,
          181,
          165,
          161,
          100,
          199,
          124
         ]
        },
        {
         "name": "下机项目数",
         "type": "scatter",
         "uid": "d9f8653f-c05b-11e8-8b7d-2c6e85b5340b",
         "x": [
          "8-1",
          "8-2",
          "8-3",
          "8-4",
          "8-5",
          "9-1",
          "9-2"
         ],
         "y": [
          94,
          146,
          135,
          136,
          85,
          174,
          103
         ]
        }
       ],
       "layout": {
        "title": "下机批次数&下机项目数周趋势图",
        "xaxis": {
         "mirror": "all",
         "nticks": 20,
         "showgrid": true,
         "showline": true,
         "title": "周",
         "zeroline": true
        },
        "yaxis": {
         "mirror": "all",
         "nticks": 20,
         "showgrid": true,
         "showline": true,
         "title": "下机批次数&下机项目数",
         "zeroline": true
        }
       }
      },
      "text/html": [
       "<div id=\"eff2fcdf-dce9-4e38-b904-10c90ba1d2d7\" style=\"height: 525px; width: 100%;\" class=\"plotly-graph-div\"></div><script type=\"text/javascript\">require([\"plotly\"], function(Plotly) { window.PLOTLYENV=window.PLOTLYENV || {};window.PLOTLYENV.BASE_URL=\"https://plot.ly\";Plotly.newPlot(\"eff2fcdf-dce9-4e38-b904-10c90ba1d2d7\", [{\"name\": \"\\u4e0b\\u673a\\u6279\\u6b21\\u6570\", \"x\": [\"8-1\", \"8-2\", \"8-3\", \"8-4\", \"8-5\", \"9-1\", \"9-2\"], \"y\": [118.0, 181.0, 165.0, 161.0, 100.0, 199.0, 124.0], \"type\": \"scatter\", \"uid\": \"d9f8653e-c05b-11e8-ba9b-2c6e85b5340b\"}, {\"name\": \"\\u4e0b\\u673a\\u9879\\u76ee\\u6570\", \"x\": [\"8-1\", \"8-2\", \"8-3\", \"8-4\", \"8-5\", \"9-1\", \"9-2\"], \"y\": [94.0, 146.0, 135.0, 136.0, 85.0, 174.0, 103.0], \"type\": \"scatter\", \"uid\": \"d9f8653f-c05b-11e8-8b7d-2c6e85b5340b\"}], {\"title\": \"\\u4e0b\\u673a\\u6279\\u6b21\\u6570&\\u4e0b\\u673a\\u9879\\u76ee\\u6570\\u5468\\u8d8b\\u52bf\\u56fe\", \"xaxis\": {\"mirror\": \"all\", \"nticks\": 20, \"showgrid\": true, \"showline\": true, \"title\": \"\\u5468\", \"zeroline\": true}, \"yaxis\": {\"mirror\": \"all\", \"nticks\": 20, \"showgrid\": true, \"showline\": true, \"title\": \"\\u4e0b\\u673a\\u6279\\u6b21\\u6570&\\u4e0b\\u673a\\u9879\\u76ee\\u6570\", \"zeroline\": true}}, {\"showLink\": true, \"linkText\": \"Export to plot.ly\"})});</script>"
      ],
      "text/vnd.plotly.v1+html": [
       "<div id=\"eff2fcdf-dce9-4e38-b904-10c90ba1d2d7\" style=\"height: 525px; width: 100%;\" class=\"plotly-graph-div\"></div><script type=\"text/javascript\">require([\"plotly\"], function(Plotly) { window.PLOTLYENV=window.PLOTLYENV || {};window.PLOTLYENV.BASE_URL=\"https://plot.ly\";Plotly.newPlot(\"eff2fcdf-dce9-4e38-b904-10c90ba1d2d7\", [{\"name\": \"\\u4e0b\\u673a\\u6279\\u6b21\\u6570\", \"x\": [\"8-1\", \"8-2\", \"8-3\", \"8-4\", \"8-5\", \"9-1\", \"9-2\"], \"y\": [118.0, 181.0, 165.0, 161.0, 100.0, 199.0, 124.0], \"type\": \"scatter\", \"uid\": \"d9f8653e-c05b-11e8-ba9b-2c6e85b5340b\"}, {\"name\": \"\\u4e0b\\u673a\\u9879\\u76ee\\u6570\", \"x\": [\"8-1\", \"8-2\", \"8-3\", \"8-4\", \"8-5\", \"9-1\", \"9-2\"], \"y\": [94.0, 146.0, 135.0, 136.0, 85.0, 174.0, 103.0], \"type\": \"scatter\", \"uid\": \"d9f8653f-c05b-11e8-8b7d-2c6e85b5340b\"}], {\"title\": \"\\u4e0b\\u673a\\u6279\\u6b21\\u6570&\\u4e0b\\u673a\\u9879\\u76ee\\u6570\\u5468\\u8d8b\\u52bf\\u56fe\", \"xaxis\": {\"mirror\": \"all\", \"nticks\": 20, \"showgrid\": true, \"showline\": true, \"title\": \"\\u5468\", \"zeroline\": true}, \"yaxis\": {\"mirror\": \"all\", \"nticks\": 20, \"showgrid\": true, \"showline\": true, \"title\": \"\\u4e0b\\u673a\\u6279\\u6b21\\u6570&\\u4e0b\\u673a\\u9879\\u76ee\\u6570\", \"zeroline\": true}}, {\"showLink\": true, \"linkText\": \"Export to plot.ly\"})});</script>"
      ]
     },
     "metadata": {},
     "output_type": "display_data"
    },
    {
     "data": {
      "application/vnd.plotly.v1+json": {
       "data": [
        {
         "name": "下机批次数",
         "type": "scatter",
         "uid": "da06941a-c05b-11e8-bb37-2c6e85b5340b",
         "x": [
          "8",
          "9"
         ],
         "y": [
          725,
          323
         ]
        },
        {
         "name": "下机项目数",
         "type": "scatter",
         "uid": "da06941b-c05b-11e8-8ba3-2c6e85b5340b",
         "x": [
          "8",
          "9"
         ],
         "y": [
          596,
          277
         ]
        }
       ],
       "layout": {
        "title": "下机批次数&下机项目数月趋势图",
        "xaxis": {
         "mirror": "all",
         "nticks": 20,
         "showgrid": true,
         "showline": true,
         "title": "月",
         "zeroline": true
        },
        "yaxis": {
         "mirror": "all",
         "nticks": 20,
         "showgrid": true,
         "showline": true,
         "title": "下机批次数&下机项目数",
         "zeroline": true
        }
       }
      },
      "text/html": [
       "<div id=\"70b421d1-e854-401b-9d0d-a20f75dd842e\" style=\"height: 525px; width: 100%;\" class=\"plotly-graph-div\"></div><script type=\"text/javascript\">require([\"plotly\"], function(Plotly) { window.PLOTLYENV=window.PLOTLYENV || {};window.PLOTLYENV.BASE_URL=\"https://plot.ly\";Plotly.newPlot(\"70b421d1-e854-401b-9d0d-a20f75dd842e\", [{\"name\": \"\\u4e0b\\u673a\\u6279\\u6b21\\u6570\", \"x\": [\"8\", \"9\"], \"y\": [725.0, 323.0], \"type\": \"scatter\", \"uid\": \"da06941a-c05b-11e8-bb37-2c6e85b5340b\"}, {\"name\": \"\\u4e0b\\u673a\\u9879\\u76ee\\u6570\", \"x\": [\"8\", \"9\"], \"y\": [596.0, 277.0], \"type\": \"scatter\", \"uid\": \"da06941b-c05b-11e8-8ba3-2c6e85b5340b\"}], {\"title\": \"\\u4e0b\\u673a\\u6279\\u6b21\\u6570&\\u4e0b\\u673a\\u9879\\u76ee\\u6570\\u6708\\u8d8b\\u52bf\\u56fe\", \"xaxis\": {\"mirror\": \"all\", \"nticks\": 20, \"showgrid\": true, \"showline\": true, \"title\": \"\\u6708\", \"zeroline\": true}, \"yaxis\": {\"mirror\": \"all\", \"nticks\": 20, \"showgrid\": true, \"showline\": true, \"title\": \"\\u4e0b\\u673a\\u6279\\u6b21\\u6570&\\u4e0b\\u673a\\u9879\\u76ee\\u6570\", \"zeroline\": true}}, {\"showLink\": true, \"linkText\": \"Export to plot.ly\"})});</script>"
      ],
      "text/vnd.plotly.v1+html": [
       "<div id=\"70b421d1-e854-401b-9d0d-a20f75dd842e\" style=\"height: 525px; width: 100%;\" class=\"plotly-graph-div\"></div><script type=\"text/javascript\">require([\"plotly\"], function(Plotly) { window.PLOTLYENV=window.PLOTLYENV || {};window.PLOTLYENV.BASE_URL=\"https://plot.ly\";Plotly.newPlot(\"70b421d1-e854-401b-9d0d-a20f75dd842e\", [{\"name\": \"\\u4e0b\\u673a\\u6279\\u6b21\\u6570\", \"x\": [\"8\", \"9\"], \"y\": [725.0, 323.0], \"type\": \"scatter\", \"uid\": \"da06941a-c05b-11e8-bb37-2c6e85b5340b\"}, {\"name\": \"\\u4e0b\\u673a\\u9879\\u76ee\\u6570\", \"x\": [\"8\", \"9\"], \"y\": [596.0, 277.0], \"type\": \"scatter\", \"uid\": \"da06941b-c05b-11e8-8ba3-2c6e85b5340b\"}], {\"title\": \"\\u4e0b\\u673a\\u6279\\u6b21\\u6570&\\u4e0b\\u673a\\u9879\\u76ee\\u6570\\u6708\\u8d8b\\u52bf\\u56fe\", \"xaxis\": {\"mirror\": \"all\", \"nticks\": 20, \"showgrid\": true, \"showline\": true, \"title\": \"\\u6708\", \"zeroline\": true}, \"yaxis\": {\"mirror\": \"all\", \"nticks\": 20, \"showgrid\": true, \"showline\": true, \"title\": \"\\u4e0b\\u673a\\u6279\\u6b21\\u6570&\\u4e0b\\u673a\\u9879\\u76ee\\u6570\", \"zeroline\": true}}, {\"showLink\": true, \"linkText\": \"Export to plot.ly\"})});</script>"
      ]
     },
     "metadata": {},
     "output_type": "display_data"
    }
   ],
   "source": [
    "data_dict = {'下机批次数':['下机批次数'],'下机项目数':['下机项目数']}\n",
    "myModule.plot( all_dict, data_dict, '人员' ,  'line', all='all' )"
   ]
  },
  {
   "cell_type": "markdown",
   "metadata": {},
   "source": [
    "#### 下机批次比"
   ]
  },
  {
   "cell_type": "code",
   "execution_count": 5,
   "metadata": {
    "scrolled": false
   },
   "outputs": [
    {
     "data": {
      "application/vnd.plotly.v1+json": {
       "data": [
        {
         "name": "下机批次比",
         "type": "scatter",
         "uid": "a8b7df0a-c05b-11e8-8ab7-2c6e85b5340b",
         "x": [
          "8-1",
          "8-2",
          "8-3",
          "8-4",
          "8-5",
          "9-1",
          "9-2"
         ],
         "y": [
          1.2553191489361701,
          1.2397260273972603,
          1.2222222222222223,
          1.1838235294117647,
          1.1764705882352942,
          1.1436781609195403,
          1.203883495145631
         ]
        }
       ],
       "layout": {
        "title": "下机批次比周趋势图",
        "xaxis": {
         "mirror": "all",
         "nticks": 20,
         "showgrid": true,
         "showline": true,
         "title": "周",
         "zeroline": true
        },
        "yaxis": {
         "mirror": "all",
         "nticks": 20,
         "showgrid": true,
         "showline": true,
         "title": "下机批次比",
         "zeroline": true
        }
       }
      },
      "text/html": [
       "<div id=\"17afa5a4-a410-4347-a3c9-4d2ec25646d5\" style=\"height: 525px; width: 100%;\" class=\"plotly-graph-div\"></div><script type=\"text/javascript\">require([\"plotly\"], function(Plotly) { window.PLOTLYENV=window.PLOTLYENV || {};window.PLOTLYENV.BASE_URL=\"https://plot.ly\";Plotly.newPlot(\"17afa5a4-a410-4347-a3c9-4d2ec25646d5\", [{\"name\": \"\\u4e0b\\u673a\\u6279\\u6b21\\u6bd4\", \"x\": [\"8-1\", \"8-2\", \"8-3\", \"8-4\", \"8-5\", \"9-1\", \"9-2\"], \"y\": [1.2553191489361701, 1.2397260273972603, 1.2222222222222223, 1.1838235294117647, 1.1764705882352942, 1.1436781609195403, 1.203883495145631], \"type\": \"scatter\", \"uid\": \"a8b7df0a-c05b-11e8-8ab7-2c6e85b5340b\"}], {\"title\": \"\\u4e0b\\u673a\\u6279\\u6b21\\u6bd4\\u5468\\u8d8b\\u52bf\\u56fe\", \"xaxis\": {\"mirror\": \"all\", \"nticks\": 20, \"showgrid\": true, \"showline\": true, \"title\": \"\\u5468\", \"zeroline\": true}, \"yaxis\": {\"mirror\": \"all\", \"nticks\": 20, \"showgrid\": true, \"showline\": true, \"title\": \"\\u4e0b\\u673a\\u6279\\u6b21\\u6bd4\", \"zeroline\": true}}, {\"showLink\": true, \"linkText\": \"Export to plot.ly\"})});</script>"
      ],
      "text/vnd.plotly.v1+html": [
       "<div id=\"17afa5a4-a410-4347-a3c9-4d2ec25646d5\" style=\"height: 525px; width: 100%;\" class=\"plotly-graph-div\"></div><script type=\"text/javascript\">require([\"plotly\"], function(Plotly) { window.PLOTLYENV=window.PLOTLYENV || {};window.PLOTLYENV.BASE_URL=\"https://plot.ly\";Plotly.newPlot(\"17afa5a4-a410-4347-a3c9-4d2ec25646d5\", [{\"name\": \"\\u4e0b\\u673a\\u6279\\u6b21\\u6bd4\", \"x\": [\"8-1\", \"8-2\", \"8-3\", \"8-4\", \"8-5\", \"9-1\", \"9-2\"], \"y\": [1.2553191489361701, 1.2397260273972603, 1.2222222222222223, 1.1838235294117647, 1.1764705882352942, 1.1436781609195403, 1.203883495145631], \"type\": \"scatter\", \"uid\": \"a8b7df0a-c05b-11e8-8ab7-2c6e85b5340b\"}], {\"title\": \"\\u4e0b\\u673a\\u6279\\u6b21\\u6bd4\\u5468\\u8d8b\\u52bf\\u56fe\", \"xaxis\": {\"mirror\": \"all\", \"nticks\": 20, \"showgrid\": true, \"showline\": true, \"title\": \"\\u5468\", \"zeroline\": true}, \"yaxis\": {\"mirror\": \"all\", \"nticks\": 20, \"showgrid\": true, \"showline\": true, \"title\": \"\\u4e0b\\u673a\\u6279\\u6b21\\u6bd4\", \"zeroline\": true}}, {\"showLink\": true, \"linkText\": \"Export to plot.ly\"})});</script>"
      ]
     },
     "metadata": {},
     "output_type": "display_data"
    },
    {
     "data": {
      "application/vnd.plotly.v1+json": {
       "data": [
        {
         "name": "下机批次比",
         "type": "scatter",
         "uid": "a8c4fd24-c05b-11e8-b0a4-2c6e85b5340b",
         "x": [
          "8",
          "9"
         ],
         "y": [
          1.2164429530201342,
          1.1660649819494584
         ]
        }
       ],
       "layout": {
        "title": "下机批次比月趋势图",
        "xaxis": {
         "mirror": "all",
         "nticks": 20,
         "showgrid": true,
         "showline": true,
         "title": "月",
         "zeroline": true
        },
        "yaxis": {
         "mirror": "all",
         "nticks": 20,
         "showgrid": true,
         "showline": true,
         "title": "下机批次比",
         "zeroline": true
        }
       }
      },
      "text/html": [
       "<div id=\"63814f6f-17c8-4f83-8e8e-94b9010b0da0\" style=\"height: 525px; width: 100%;\" class=\"plotly-graph-div\"></div><script type=\"text/javascript\">require([\"plotly\"], function(Plotly) { window.PLOTLYENV=window.PLOTLYENV || {};window.PLOTLYENV.BASE_URL=\"https://plot.ly\";Plotly.newPlot(\"63814f6f-17c8-4f83-8e8e-94b9010b0da0\", [{\"name\": \"\\u4e0b\\u673a\\u6279\\u6b21\\u6bd4\", \"x\": [\"8\", \"9\"], \"y\": [1.2164429530201342, 1.1660649819494584], \"type\": \"scatter\", \"uid\": \"a8c4fd24-c05b-11e8-b0a4-2c6e85b5340b\"}], {\"title\": \"\\u4e0b\\u673a\\u6279\\u6b21\\u6bd4\\u6708\\u8d8b\\u52bf\\u56fe\", \"xaxis\": {\"mirror\": \"all\", \"nticks\": 20, \"showgrid\": true, \"showline\": true, \"title\": \"\\u6708\", \"zeroline\": true}, \"yaxis\": {\"mirror\": \"all\", \"nticks\": 20, \"showgrid\": true, \"showline\": true, \"title\": \"\\u4e0b\\u673a\\u6279\\u6b21\\u6bd4\", \"zeroline\": true}}, {\"showLink\": true, \"linkText\": \"Export to plot.ly\"})});</script>"
      ],
      "text/vnd.plotly.v1+html": [
       "<div id=\"63814f6f-17c8-4f83-8e8e-94b9010b0da0\" style=\"height: 525px; width: 100%;\" class=\"plotly-graph-div\"></div><script type=\"text/javascript\">require([\"plotly\"], function(Plotly) { window.PLOTLYENV=window.PLOTLYENV || {};window.PLOTLYENV.BASE_URL=\"https://plot.ly\";Plotly.newPlot(\"63814f6f-17c8-4f83-8e8e-94b9010b0da0\", [{\"name\": \"\\u4e0b\\u673a\\u6279\\u6b21\\u6bd4\", \"x\": [\"8\", \"9\"], \"y\": [1.2164429530201342, 1.1660649819494584], \"type\": \"scatter\", \"uid\": \"a8c4fd24-c05b-11e8-b0a4-2c6e85b5340b\"}], {\"title\": \"\\u4e0b\\u673a\\u6279\\u6b21\\u6bd4\\u6708\\u8d8b\\u52bf\\u56fe\", \"xaxis\": {\"mirror\": \"all\", \"nticks\": 20, \"showgrid\": true, \"showline\": true, \"title\": \"\\u6708\", \"zeroline\": true}, \"yaxis\": {\"mirror\": \"all\", \"nticks\": 20, \"showgrid\": true, \"showline\": true, \"title\": \"\\u4e0b\\u673a\\u6279\\u6b21\\u6bd4\", \"zeroline\": true}}, {\"showLink\": true, \"linkText\": \"Export to plot.ly\"})});</script>"
      ]
     },
     "metadata": {},
     "output_type": "display_data"
    }
   ],
   "source": [
    "data_dict = {'下机批次比':['下机批次数','下机项目数']}\n",
    "myModule.plot( all_dict, data_dict, '人员' ,  'line' , all='all')"
   ]
  },
  {
   "cell_type": "markdown",
   "metadata": {
    "hide_input": true
   },
   "source": [
    "### 效率"
   ]
  },
  {
   "cell_type": "markdown",
   "metadata": {},
   "source": [
    "#### 反馈及时率和数据交付及时率"
   ]
  },
  {
   "cell_type": "code",
   "execution_count": 6,
   "metadata": {
    "scrolled": false
   },
   "outputs": [
    {
     "data": {
      "application/vnd.plotly.v1+json": {
       "data": [
        {
         "name": "反馈及时率",
         "type": "scatter",
         "uid": "a9053064-c05b-11e8-9798-2c6e85b5340b",
         "x": [
          "8-1",
          "8-2",
          "8-3",
          "8-4",
          "8-5",
          "9-1",
          "9-2"
         ],
         "y": [
          0.9661016949152542,
          0.9668508287292817,
          0.9878787878787879,
          0.968944099378882,
          0.93,
          0.9849246231155779,
          0.9274193548387096
         ]
        },
        {
         "name": "数据及时交付率",
         "type": "scatter",
         "uid": "a9053065-c05b-11e8-9be0-2c6e85b5340b",
         "x": [
          "8-1",
          "8-2",
          "8-3",
          "8-4",
          "8-5",
          "9-1",
          "9-2"
         ],
         "y": [
          1,
          1,
          1,
          1,
          1,
          1,
          1
         ]
        }
       ],
       "layout": {
        "title": "反馈及时率&数据及时交付率周趋势图",
        "xaxis": {
         "mirror": "all",
         "nticks": 20,
         "showgrid": true,
         "showline": true,
         "title": "周",
         "zeroline": true
        },
        "yaxis": {
         "mirror": "all",
         "nticks": 20,
         "showgrid": true,
         "showline": true,
         "title": "反馈及时率&数据及时交付率",
         "zeroline": true
        }
       }
      },
      "text/html": [
       "<div id=\"37058817-15a3-44cf-95be-093f20eb14bb\" style=\"height: 525px; width: 100%;\" class=\"plotly-graph-div\"></div><script type=\"text/javascript\">require([\"plotly\"], function(Plotly) { window.PLOTLYENV=window.PLOTLYENV || {};window.PLOTLYENV.BASE_URL=\"https://plot.ly\";Plotly.newPlot(\"37058817-15a3-44cf-95be-093f20eb14bb\", [{\"name\": \"\\u53cd\\u9988\\u53ca\\u65f6\\u7387\", \"x\": [\"8-1\", \"8-2\", \"8-3\", \"8-4\", \"8-5\", \"9-1\", \"9-2\"], \"y\": [0.9661016949152542, 0.9668508287292817, 0.9878787878787879, 0.968944099378882, 0.93, 0.9849246231155779, 0.9274193548387096], \"type\": \"scatter\", \"uid\": \"a9053064-c05b-11e8-9798-2c6e85b5340b\"}, {\"name\": \"\\u6570\\u636e\\u53ca\\u65f6\\u4ea4\\u4ed8\\u7387\", \"x\": [\"8-1\", \"8-2\", \"8-3\", \"8-4\", \"8-5\", \"9-1\", \"9-2\"], \"y\": [1.0, 1.0, 1.0, 1.0, 1.0, 1.0, 1.0], \"type\": \"scatter\", \"uid\": \"a9053065-c05b-11e8-9be0-2c6e85b5340b\"}], {\"title\": \"\\u53cd\\u9988\\u53ca\\u65f6\\u7387&\\u6570\\u636e\\u53ca\\u65f6\\u4ea4\\u4ed8\\u7387\\u5468\\u8d8b\\u52bf\\u56fe\", \"xaxis\": {\"mirror\": \"all\", \"nticks\": 20, \"showgrid\": true, \"showline\": true, \"title\": \"\\u5468\", \"zeroline\": true}, \"yaxis\": {\"mirror\": \"all\", \"nticks\": 20, \"showgrid\": true, \"showline\": true, \"title\": \"\\u53cd\\u9988\\u53ca\\u65f6\\u7387&\\u6570\\u636e\\u53ca\\u65f6\\u4ea4\\u4ed8\\u7387\", \"zeroline\": true}}, {\"showLink\": true, \"linkText\": \"Export to plot.ly\"})});</script>"
      ],
      "text/vnd.plotly.v1+html": [
       "<div id=\"37058817-15a3-44cf-95be-093f20eb14bb\" style=\"height: 525px; width: 100%;\" class=\"plotly-graph-div\"></div><script type=\"text/javascript\">require([\"plotly\"], function(Plotly) { window.PLOTLYENV=window.PLOTLYENV || {};window.PLOTLYENV.BASE_URL=\"https://plot.ly\";Plotly.newPlot(\"37058817-15a3-44cf-95be-093f20eb14bb\", [{\"name\": \"\\u53cd\\u9988\\u53ca\\u65f6\\u7387\", \"x\": [\"8-1\", \"8-2\", \"8-3\", \"8-4\", \"8-5\", \"9-1\", \"9-2\"], \"y\": [0.9661016949152542, 0.9668508287292817, 0.9878787878787879, 0.968944099378882, 0.93, 0.9849246231155779, 0.9274193548387096], \"type\": \"scatter\", \"uid\": \"a9053064-c05b-11e8-9798-2c6e85b5340b\"}, {\"name\": \"\\u6570\\u636e\\u53ca\\u65f6\\u4ea4\\u4ed8\\u7387\", \"x\": [\"8-1\", \"8-2\", \"8-3\", \"8-4\", \"8-5\", \"9-1\", \"9-2\"], \"y\": [1.0, 1.0, 1.0, 1.0, 1.0, 1.0, 1.0], \"type\": \"scatter\", \"uid\": \"a9053065-c05b-11e8-9be0-2c6e85b5340b\"}], {\"title\": \"\\u53cd\\u9988\\u53ca\\u65f6\\u7387&\\u6570\\u636e\\u53ca\\u65f6\\u4ea4\\u4ed8\\u7387\\u5468\\u8d8b\\u52bf\\u56fe\", \"xaxis\": {\"mirror\": \"all\", \"nticks\": 20, \"showgrid\": true, \"showline\": true, \"title\": \"\\u5468\", \"zeroline\": true}, \"yaxis\": {\"mirror\": \"all\", \"nticks\": 20, \"showgrid\": true, \"showline\": true, \"title\": \"\\u53cd\\u9988\\u53ca\\u65f6\\u7387&\\u6570\\u636e\\u53ca\\u65f6\\u4ea4\\u4ed8\\u7387\", \"zeroline\": true}}, {\"showLink\": true, \"linkText\": \"Export to plot.ly\"})});</script>"
      ]
     },
     "metadata": {},
     "output_type": "display_data"
    },
    {
     "data": {
      "application/vnd.plotly.v1+json": {
       "data": [
        {
         "name": "反馈及时率",
         "type": "scatter",
         "uid": "a9133810-c05b-11e8-a1f1-2c6e85b5340b",
         "x": [
          "8",
          "9"
         ],
         "y": [
          0.9668965517241379,
          0.9628482972136223
         ]
        },
        {
         "name": "数据及时交付率",
         "type": "scatter",
         "uid": "a9133811-c05b-11e8-b7b3-2c6e85b5340b",
         "x": [
          "8",
          "9"
         ],
         "y": [
          1,
          1
         ]
        }
       ],
       "layout": {
        "title": "反馈及时率&数据及时交付率月趋势图",
        "xaxis": {
         "mirror": "all",
         "nticks": 20,
         "showgrid": true,
         "showline": true,
         "title": "月",
         "zeroline": true
        },
        "yaxis": {
         "mirror": "all",
         "nticks": 20,
         "showgrid": true,
         "showline": true,
         "title": "反馈及时率&数据及时交付率",
         "zeroline": true
        }
       }
      },
      "text/html": [
       "<div id=\"07113c77-3241-42b1-8202-ccf8003c2848\" style=\"height: 525px; width: 100%;\" class=\"plotly-graph-div\"></div><script type=\"text/javascript\">require([\"plotly\"], function(Plotly) { window.PLOTLYENV=window.PLOTLYENV || {};window.PLOTLYENV.BASE_URL=\"https://plot.ly\";Plotly.newPlot(\"07113c77-3241-42b1-8202-ccf8003c2848\", [{\"name\": \"\\u53cd\\u9988\\u53ca\\u65f6\\u7387\", \"x\": [\"8\", \"9\"], \"y\": [0.9668965517241379, 0.9628482972136223], \"type\": \"scatter\", \"uid\": \"a9133810-c05b-11e8-a1f1-2c6e85b5340b\"}, {\"name\": \"\\u6570\\u636e\\u53ca\\u65f6\\u4ea4\\u4ed8\\u7387\", \"x\": [\"8\", \"9\"], \"y\": [1.0, 1.0], \"type\": \"scatter\", \"uid\": \"a9133811-c05b-11e8-b7b3-2c6e85b5340b\"}], {\"title\": \"\\u53cd\\u9988\\u53ca\\u65f6\\u7387&\\u6570\\u636e\\u53ca\\u65f6\\u4ea4\\u4ed8\\u7387\\u6708\\u8d8b\\u52bf\\u56fe\", \"xaxis\": {\"mirror\": \"all\", \"nticks\": 20, \"showgrid\": true, \"showline\": true, \"title\": \"\\u6708\", \"zeroline\": true}, \"yaxis\": {\"mirror\": \"all\", \"nticks\": 20, \"showgrid\": true, \"showline\": true, \"title\": \"\\u53cd\\u9988\\u53ca\\u65f6\\u7387&\\u6570\\u636e\\u53ca\\u65f6\\u4ea4\\u4ed8\\u7387\", \"zeroline\": true}}, {\"showLink\": true, \"linkText\": \"Export to plot.ly\"})});</script>"
      ],
      "text/vnd.plotly.v1+html": [
       "<div id=\"07113c77-3241-42b1-8202-ccf8003c2848\" style=\"height: 525px; width: 100%;\" class=\"plotly-graph-div\"></div><script type=\"text/javascript\">require([\"plotly\"], function(Plotly) { window.PLOTLYENV=window.PLOTLYENV || {};window.PLOTLYENV.BASE_URL=\"https://plot.ly\";Plotly.newPlot(\"07113c77-3241-42b1-8202-ccf8003c2848\", [{\"name\": \"\\u53cd\\u9988\\u53ca\\u65f6\\u7387\", \"x\": [\"8\", \"9\"], \"y\": [0.9668965517241379, 0.9628482972136223], \"type\": \"scatter\", \"uid\": \"a9133810-c05b-11e8-a1f1-2c6e85b5340b\"}, {\"name\": \"\\u6570\\u636e\\u53ca\\u65f6\\u4ea4\\u4ed8\\u7387\", \"x\": [\"8\", \"9\"], \"y\": [1.0, 1.0], \"type\": \"scatter\", \"uid\": \"a9133811-c05b-11e8-b7b3-2c6e85b5340b\"}], {\"title\": \"\\u53cd\\u9988\\u53ca\\u65f6\\u7387&\\u6570\\u636e\\u53ca\\u65f6\\u4ea4\\u4ed8\\u7387\\u6708\\u8d8b\\u52bf\\u56fe\", \"xaxis\": {\"mirror\": \"all\", \"nticks\": 20, \"showgrid\": true, \"showline\": true, \"title\": \"\\u6708\", \"zeroline\": true}, \"yaxis\": {\"mirror\": \"all\", \"nticks\": 20, \"showgrid\": true, \"showline\": true, \"title\": \"\\u53cd\\u9988\\u53ca\\u65f6\\u7387&\\u6570\\u636e\\u53ca\\u65f6\\u4ea4\\u4ed8\\u7387\", \"zeroline\": true}}, {\"showLink\": true, \"linkText\": \"Export to plot.ly\"})});</script>"
      ]
     },
     "metadata": {},
     "output_type": "display_data"
    }
   ],
   "source": [
    "data_dict = {'反馈及时率':['及时反馈数','下机批次数'], '数据及时交付率':['数据及时交付数','数据交付总数']}\n",
    "myModule.plot( all_dict, data_dict, '人员' ,  'line' , all='all')"
   ]
  },
  {
   "cell_type": "markdown",
   "metadata": {},
   "source": [
    "#### 24h拆分过滤率和48h拆分过滤率"
   ]
  },
  {
   "cell_type": "code",
   "execution_count": 7,
   "metadata": {},
   "outputs": [
    {
     "data": {
      "application/vnd.plotly.v1+json": {
       "data": [
        {
         "name": "24h拆分过滤率",
         "type": "scatter",
         "uid": "a9645974-c05b-11e8-bcdc-2c6e85b5340b",
         "x": [
          "8-1",
          "8-2",
          "8-3",
          "8-4",
          "8-5",
          "9-1",
          "9-2"
         ],
         "y": [
          0.6271186440677966,
          0.5359116022099447,
          0.6787878787878788,
          0.9192546583850931,
          0.71,
          0.7286432160804021,
          0.782258064516129
         ]
        },
        {
         "name": "48h拆分过滤率",
         "type": "scatter",
         "uid": "a9645975-c05b-11e8-992d-2c6e85b5340b",
         "x": [
          "8-1",
          "8-2",
          "8-3",
          "8-4",
          "8-5",
          "9-1",
          "9-2"
         ],
         "y": [
          0.923728813559322,
          0.8121546961325967,
          0.9757575757575757,
          0.9751552795031055,
          0.79,
          0.8492462311557789,
          0.9516129032258065
         ]
        }
       ],
       "layout": {
        "title": "24h拆分过滤率&48h拆分过滤率周趋势图",
        "xaxis": {
         "mirror": "all",
         "nticks": 20,
         "showgrid": true,
         "showline": true,
         "title": "周",
         "zeroline": true
        },
        "yaxis": {
         "mirror": "all",
         "nticks": 20,
         "showgrid": true,
         "showline": true,
         "title": "24h拆分过滤率&48h拆分过滤率",
         "zeroline": true
        }
       }
      },
      "text/html": [
       "<div id=\"41c4ca36-9379-4404-86a6-694973da6f8c\" style=\"height: 525px; width: 100%;\" class=\"plotly-graph-div\"></div><script type=\"text/javascript\">require([\"plotly\"], function(Plotly) { window.PLOTLYENV=window.PLOTLYENV || {};window.PLOTLYENV.BASE_URL=\"https://plot.ly\";Plotly.newPlot(\"41c4ca36-9379-4404-86a6-694973da6f8c\", [{\"name\": \"24h\\u62c6\\u5206\\u8fc7\\u6ee4\\u7387\", \"x\": [\"8-1\", \"8-2\", \"8-3\", \"8-4\", \"8-5\", \"9-1\", \"9-2\"], \"y\": [0.6271186440677966, 0.5359116022099447, 0.6787878787878788, 0.9192546583850931, 0.71, 0.7286432160804021, 0.782258064516129], \"type\": \"scatter\", \"uid\": \"a9645974-c05b-11e8-bcdc-2c6e85b5340b\"}, {\"name\": \"48h\\u62c6\\u5206\\u8fc7\\u6ee4\\u7387\", \"x\": [\"8-1\", \"8-2\", \"8-3\", \"8-4\", \"8-5\", \"9-1\", \"9-2\"], \"y\": [0.923728813559322, 0.8121546961325967, 0.9757575757575757, 0.9751552795031055, 0.79, 0.8492462311557789, 0.9516129032258065], \"type\": \"scatter\", \"uid\": \"a9645975-c05b-11e8-992d-2c6e85b5340b\"}], {\"title\": \"24h\\u62c6\\u5206\\u8fc7\\u6ee4\\u7387&48h\\u62c6\\u5206\\u8fc7\\u6ee4\\u7387\\u5468\\u8d8b\\u52bf\\u56fe\", \"xaxis\": {\"mirror\": \"all\", \"nticks\": 20, \"showgrid\": true, \"showline\": true, \"title\": \"\\u5468\", \"zeroline\": true}, \"yaxis\": {\"mirror\": \"all\", \"nticks\": 20, \"showgrid\": true, \"showline\": true, \"title\": \"24h\\u62c6\\u5206\\u8fc7\\u6ee4\\u7387&48h\\u62c6\\u5206\\u8fc7\\u6ee4\\u7387\", \"zeroline\": true}}, {\"showLink\": true, \"linkText\": \"Export to plot.ly\"})});</script>"
      ],
      "text/vnd.plotly.v1+html": [
       "<div id=\"41c4ca36-9379-4404-86a6-694973da6f8c\" style=\"height: 525px; width: 100%;\" class=\"plotly-graph-div\"></div><script type=\"text/javascript\">require([\"plotly\"], function(Plotly) { window.PLOTLYENV=window.PLOTLYENV || {};window.PLOTLYENV.BASE_URL=\"https://plot.ly\";Plotly.newPlot(\"41c4ca36-9379-4404-86a6-694973da6f8c\", [{\"name\": \"24h\\u62c6\\u5206\\u8fc7\\u6ee4\\u7387\", \"x\": [\"8-1\", \"8-2\", \"8-3\", \"8-4\", \"8-5\", \"9-1\", \"9-2\"], \"y\": [0.6271186440677966, 0.5359116022099447, 0.6787878787878788, 0.9192546583850931, 0.71, 0.7286432160804021, 0.782258064516129], \"type\": \"scatter\", \"uid\": \"a9645974-c05b-11e8-bcdc-2c6e85b5340b\"}, {\"name\": \"48h\\u62c6\\u5206\\u8fc7\\u6ee4\\u7387\", \"x\": [\"8-1\", \"8-2\", \"8-3\", \"8-4\", \"8-5\", \"9-1\", \"9-2\"], \"y\": [0.923728813559322, 0.8121546961325967, 0.9757575757575757, 0.9751552795031055, 0.79, 0.8492462311557789, 0.9516129032258065], \"type\": \"scatter\", \"uid\": \"a9645975-c05b-11e8-992d-2c6e85b5340b\"}], {\"title\": \"24h\\u62c6\\u5206\\u8fc7\\u6ee4\\u7387&48h\\u62c6\\u5206\\u8fc7\\u6ee4\\u7387\\u5468\\u8d8b\\u52bf\\u56fe\", \"xaxis\": {\"mirror\": \"all\", \"nticks\": 20, \"showgrid\": true, \"showline\": true, \"title\": \"\\u5468\", \"zeroline\": true}, \"yaxis\": {\"mirror\": \"all\", \"nticks\": 20, \"showgrid\": true, \"showline\": true, \"title\": \"24h\\u62c6\\u5206\\u8fc7\\u6ee4\\u7387&48h\\u62c6\\u5206\\u8fc7\\u6ee4\\u7387\", \"zeroline\": true}}, {\"showLink\": true, \"linkText\": \"Export to plot.ly\"})});</script>"
      ]
     },
     "metadata": {},
     "output_type": "display_data"
    },
    {
     "data": {
      "application/vnd.plotly.v1+json": {
       "data": [
        {
         "name": "24h拆分过滤率",
         "type": "scatter",
         "uid": "a9723a12-c05b-11e8-9cda-2c6e85b5340b",
         "x": [
          "8",
          "9"
         ],
         "y": [
          0.6924137931034483,
          0.7492260061919505
         ]
        },
        {
         "name": "48h拆分过滤率",
         "type": "scatter",
         "uid": "a9723a13-c05b-11e8-8536-2c6e85b5340b",
         "x": [
          "8",
          "9"
         ],
         "y": [
          0.9006896551724138,
          0.8885448916408669
         ]
        }
       ],
       "layout": {
        "title": "24h拆分过滤率&48h拆分过滤率月趋势图",
        "xaxis": {
         "mirror": "all",
         "nticks": 20,
         "showgrid": true,
         "showline": true,
         "title": "月",
         "zeroline": true
        },
        "yaxis": {
         "mirror": "all",
         "nticks": 20,
         "showgrid": true,
         "showline": true,
         "title": "24h拆分过滤率&48h拆分过滤率",
         "zeroline": true
        }
       }
      },
      "text/html": [
       "<div id=\"9d3fd17f-9e66-4b99-9e05-33076bc9279d\" style=\"height: 525px; width: 100%;\" class=\"plotly-graph-div\"></div><script type=\"text/javascript\">require([\"plotly\"], function(Plotly) { window.PLOTLYENV=window.PLOTLYENV || {};window.PLOTLYENV.BASE_URL=\"https://plot.ly\";Plotly.newPlot(\"9d3fd17f-9e66-4b99-9e05-33076bc9279d\", [{\"name\": \"24h\\u62c6\\u5206\\u8fc7\\u6ee4\\u7387\", \"x\": [\"8\", \"9\"], \"y\": [0.6924137931034483, 0.7492260061919505], \"type\": \"scatter\", \"uid\": \"a9723a12-c05b-11e8-9cda-2c6e85b5340b\"}, {\"name\": \"48h\\u62c6\\u5206\\u8fc7\\u6ee4\\u7387\", \"x\": [\"8\", \"9\"], \"y\": [0.9006896551724138, 0.8885448916408669], \"type\": \"scatter\", \"uid\": \"a9723a13-c05b-11e8-8536-2c6e85b5340b\"}], {\"title\": \"24h\\u62c6\\u5206\\u8fc7\\u6ee4\\u7387&48h\\u62c6\\u5206\\u8fc7\\u6ee4\\u7387\\u6708\\u8d8b\\u52bf\\u56fe\", \"xaxis\": {\"mirror\": \"all\", \"nticks\": 20, \"showgrid\": true, \"showline\": true, \"title\": \"\\u6708\", \"zeroline\": true}, \"yaxis\": {\"mirror\": \"all\", \"nticks\": 20, \"showgrid\": true, \"showline\": true, \"title\": \"24h\\u62c6\\u5206\\u8fc7\\u6ee4\\u7387&48h\\u62c6\\u5206\\u8fc7\\u6ee4\\u7387\", \"zeroline\": true}}, {\"showLink\": true, \"linkText\": \"Export to plot.ly\"})});</script>"
      ],
      "text/vnd.plotly.v1+html": [
       "<div id=\"9d3fd17f-9e66-4b99-9e05-33076bc9279d\" style=\"height: 525px; width: 100%;\" class=\"plotly-graph-div\"></div><script type=\"text/javascript\">require([\"plotly\"], function(Plotly) { window.PLOTLYENV=window.PLOTLYENV || {};window.PLOTLYENV.BASE_URL=\"https://plot.ly\";Plotly.newPlot(\"9d3fd17f-9e66-4b99-9e05-33076bc9279d\", [{\"name\": \"24h\\u62c6\\u5206\\u8fc7\\u6ee4\\u7387\", \"x\": [\"8\", \"9\"], \"y\": [0.6924137931034483, 0.7492260061919505], \"type\": \"scatter\", \"uid\": \"a9723a12-c05b-11e8-9cda-2c6e85b5340b\"}, {\"name\": \"48h\\u62c6\\u5206\\u8fc7\\u6ee4\\u7387\", \"x\": [\"8\", \"9\"], \"y\": [0.9006896551724138, 0.8885448916408669], \"type\": \"scatter\", \"uid\": \"a9723a13-c05b-11e8-8536-2c6e85b5340b\"}], {\"title\": \"24h\\u62c6\\u5206\\u8fc7\\u6ee4\\u7387&48h\\u62c6\\u5206\\u8fc7\\u6ee4\\u7387\\u6708\\u8d8b\\u52bf\\u56fe\", \"xaxis\": {\"mirror\": \"all\", \"nticks\": 20, \"showgrid\": true, \"showline\": true, \"title\": \"\\u6708\", \"zeroline\": true}, \"yaxis\": {\"mirror\": \"all\", \"nticks\": 20, \"showgrid\": true, \"showline\": true, \"title\": \"24h\\u62c6\\u5206\\u8fc7\\u6ee4\\u7387&48h\\u62c6\\u5206\\u8fc7\\u6ee4\\u7387\", \"zeroline\": true}}, {\"showLink\": true, \"linkText\": \"Export to plot.ly\"})});</script>"
      ]
     },
     "metadata": {},
     "output_type": "display_data"
    }
   ],
   "source": [
    "data_dict = {'24h拆分过滤率':['24h完成批次数', '下机批次数'], '48h拆分过滤率':['48h完成批次数', '下机批次数']}\n",
    "myModule.plot( all_dict, data_dict, '人员' ,  'line' , all='all')"
   ]
  },
  {
   "cell_type": "markdown",
   "metadata": {},
   "source": [
    "#### 平均反馈时长"
   ]
  },
  {
   "cell_type": "code",
   "execution_count": 8,
   "metadata": {},
   "outputs": [
    {
     "data": {
      "application/vnd.plotly.v1+json": {
       "data": [
        {
         "name": "平均反馈时长",
         "type": "scatter",
         "uid": "a9ab1cb0-c05b-11e8-99ec-2c6e85b5340b",
         "x": [
          "8-1",
          "8-2",
          "8-3",
          "8-4",
          "8-5",
          "9-1",
          "9-2"
         ],
         "y": [
          6.4072881355932205,
          4.446298342541437,
          5.337454545454546,
          4.985962732919255,
          6.498000000000002,
          9.664371859296484,
          7.4699193548387095
         ]
        }
       ],
       "layout": {
        "title": "平均反馈时长周趋势图",
        "xaxis": {
         "mirror": "all",
         "nticks": 20,
         "showgrid": true,
         "showline": true,
         "title": "周",
         "zeroline": true
        },
        "yaxis": {
         "mirror": "all",
         "nticks": 20,
         "showgrid": true,
         "showline": true,
         "title": "平均反馈时长",
         "zeroline": true
        }
       }
      },
      "text/html": [
       "<div id=\"10cb6410-30b8-4852-a629-cf94abf1832f\" style=\"height: 525px; width: 100%;\" class=\"plotly-graph-div\"></div><script type=\"text/javascript\">require([\"plotly\"], function(Plotly) { window.PLOTLYENV=window.PLOTLYENV || {};window.PLOTLYENV.BASE_URL=\"https://plot.ly\";Plotly.newPlot(\"10cb6410-30b8-4852-a629-cf94abf1832f\", [{\"name\": \"\\u5e73\\u5747\\u53cd\\u9988\\u65f6\\u957f\", \"x\": [\"8-1\", \"8-2\", \"8-3\", \"8-4\", \"8-5\", \"9-1\", \"9-2\"], \"y\": [6.4072881355932205, 4.446298342541437, 5.337454545454546, 4.985962732919255, 6.498000000000002, 9.664371859296484, 7.4699193548387095], \"type\": \"scatter\", \"uid\": \"a9ab1cb0-c05b-11e8-99ec-2c6e85b5340b\"}], {\"title\": \"\\u5e73\\u5747\\u53cd\\u9988\\u65f6\\u957f\\u5468\\u8d8b\\u52bf\\u56fe\", \"xaxis\": {\"mirror\": \"all\", \"nticks\": 20, \"showgrid\": true, \"showline\": true, \"title\": \"\\u5468\", \"zeroline\": true}, \"yaxis\": {\"mirror\": \"all\", \"nticks\": 20, \"showgrid\": true, \"showline\": true, \"title\": \"\\u5e73\\u5747\\u53cd\\u9988\\u65f6\\u957f\", \"zeroline\": true}}, {\"showLink\": true, \"linkText\": \"Export to plot.ly\"})});</script>"
      ],
      "text/vnd.plotly.v1+html": [
       "<div id=\"10cb6410-30b8-4852-a629-cf94abf1832f\" style=\"height: 525px; width: 100%;\" class=\"plotly-graph-div\"></div><script type=\"text/javascript\">require([\"plotly\"], function(Plotly) { window.PLOTLYENV=window.PLOTLYENV || {};window.PLOTLYENV.BASE_URL=\"https://plot.ly\";Plotly.newPlot(\"10cb6410-30b8-4852-a629-cf94abf1832f\", [{\"name\": \"\\u5e73\\u5747\\u53cd\\u9988\\u65f6\\u957f\", \"x\": [\"8-1\", \"8-2\", \"8-3\", \"8-4\", \"8-5\", \"9-1\", \"9-2\"], \"y\": [6.4072881355932205, 4.446298342541437, 5.337454545454546, 4.985962732919255, 6.498000000000002, 9.664371859296484, 7.4699193548387095], \"type\": \"scatter\", \"uid\": \"a9ab1cb0-c05b-11e8-99ec-2c6e85b5340b\"}], {\"title\": \"\\u5e73\\u5747\\u53cd\\u9988\\u65f6\\u957f\\u5468\\u8d8b\\u52bf\\u56fe\", \"xaxis\": {\"mirror\": \"all\", \"nticks\": 20, \"showgrid\": true, \"showline\": true, \"title\": \"\\u5468\", \"zeroline\": true}, \"yaxis\": {\"mirror\": \"all\", \"nticks\": 20, \"showgrid\": true, \"showline\": true, \"title\": \"\\u5e73\\u5747\\u53cd\\u9988\\u65f6\\u957f\", \"zeroline\": true}}, {\"showLink\": true, \"linkText\": \"Export to plot.ly\"})});</script>"
      ]
     },
     "metadata": {},
     "output_type": "display_data"
    },
    {
     "data": {
      "application/vnd.plotly.v1+json": {
       "data": [
        {
         "name": "平均反馈时长",
         "type": "scatter",
         "uid": "a9b7c502-c05b-11e8-bf0e-2c6e85b5340b",
         "x": [
          "8",
          "9"
         ],
         "y": [
          5.371117241379311,
          8.821919504643965
         ]
        }
       ],
       "layout": {
        "title": "平均反馈时长月趋势图",
        "xaxis": {
         "mirror": "all",
         "nticks": 20,
         "showgrid": true,
         "showline": true,
         "title": "月",
         "zeroline": true
        },
        "yaxis": {
         "mirror": "all",
         "nticks": 20,
         "showgrid": true,
         "showline": true,
         "title": "平均反馈时长",
         "zeroline": true
        }
       }
      },
      "text/html": [
       "<div id=\"638f35e4-0d75-45b2-8e31-e22511c5e7fb\" style=\"height: 525px; width: 100%;\" class=\"plotly-graph-div\"></div><script type=\"text/javascript\">require([\"plotly\"], function(Plotly) { window.PLOTLYENV=window.PLOTLYENV || {};window.PLOTLYENV.BASE_URL=\"https://plot.ly\";Plotly.newPlot(\"638f35e4-0d75-45b2-8e31-e22511c5e7fb\", [{\"name\": \"\\u5e73\\u5747\\u53cd\\u9988\\u65f6\\u957f\", \"x\": [\"8\", \"9\"], \"y\": [5.371117241379311, 8.821919504643965], \"type\": \"scatter\", \"uid\": \"a9b7c502-c05b-11e8-bf0e-2c6e85b5340b\"}], {\"title\": \"\\u5e73\\u5747\\u53cd\\u9988\\u65f6\\u957f\\u6708\\u8d8b\\u52bf\\u56fe\", \"xaxis\": {\"mirror\": \"all\", \"nticks\": 20, \"showgrid\": true, \"showline\": true, \"title\": \"\\u6708\", \"zeroline\": true}, \"yaxis\": {\"mirror\": \"all\", \"nticks\": 20, \"showgrid\": true, \"showline\": true, \"title\": \"\\u5e73\\u5747\\u53cd\\u9988\\u65f6\\u957f\", \"zeroline\": true}}, {\"showLink\": true, \"linkText\": \"Export to plot.ly\"})});</script>"
      ],
      "text/vnd.plotly.v1+html": [
       "<div id=\"638f35e4-0d75-45b2-8e31-e22511c5e7fb\" style=\"height: 525px; width: 100%;\" class=\"plotly-graph-div\"></div><script type=\"text/javascript\">require([\"plotly\"], function(Plotly) { window.PLOTLYENV=window.PLOTLYENV || {};window.PLOTLYENV.BASE_URL=\"https://plot.ly\";Plotly.newPlot(\"638f35e4-0d75-45b2-8e31-e22511c5e7fb\", [{\"name\": \"\\u5e73\\u5747\\u53cd\\u9988\\u65f6\\u957f\", \"x\": [\"8\", \"9\"], \"y\": [5.371117241379311, 8.821919504643965], \"type\": \"scatter\", \"uid\": \"a9b7c502-c05b-11e8-bf0e-2c6e85b5340b\"}], {\"title\": \"\\u5e73\\u5747\\u53cd\\u9988\\u65f6\\u957f\\u6708\\u8d8b\\u52bf\\u56fe\", \"xaxis\": {\"mirror\": \"all\", \"nticks\": 20, \"showgrid\": true, \"showline\": true, \"title\": \"\\u6708\", \"zeroline\": true}, \"yaxis\": {\"mirror\": \"all\", \"nticks\": 20, \"showgrid\": true, \"showline\": true, \"title\": \"\\u5e73\\u5747\\u53cd\\u9988\\u65f6\\u957f\", \"zeroline\": true}}, {\"showLink\": true, \"linkText\": \"Export to plot.ly\"})});</script>"
      ]
     },
     "metadata": {},
     "output_type": "display_data"
    }
   ],
   "source": [
    "data_dict = {'平均反馈时长':['反馈总时长','下机批次数']}\n",
    "myModule.plot( all_dict, data_dict, '人员' ,  'line' , all='all')"
   ]
  },
  {
   "cell_type": "markdown",
   "metadata": {},
   "source": [
    "### 异常"
   ]
  },
  {
   "cell_type": "markdown",
   "metadata": {},
   "source": [
    "#### 个性化项目数"
   ]
  },
  {
   "cell_type": "code",
   "execution_count": 9,
   "metadata": {
    "scrolled": false
   },
   "outputs": [
    {
     "data": {
      "application/vnd.plotly.v1+json": {
       "data": [
        {
         "name": "个性化数",
         "type": "bar",
         "uid": "aa509b34-c05b-11e8-bbeb-2c6e85b5340b",
         "x": [
          "8-1",
          "8-2",
          "8-3",
          "8-4",
          "8-5",
          "9-1",
          "9-2"
         ],
         "y": [
          0,
          0,
          0,
          0,
          0,
          0,
          0
         ]
        }
       ],
       "layout": {
        "title": "个性化数周趋势图",
        "xaxis": {
         "mirror": "all",
         "nticks": 20,
         "showgrid": true,
         "showline": true,
         "title": "周",
         "zeroline": true
        },
        "yaxis": {
         "mirror": "all",
         "nticks": 20,
         "showgrid": true,
         "showline": true,
         "title": "个性化数",
         "zeroline": true
        }
       }
      },
      "text/html": [
       "<div id=\"82dcf0d9-eb51-4ac1-8bd4-2f832820c659\" style=\"height: 525px; width: 100%;\" class=\"plotly-graph-div\"></div><script type=\"text/javascript\">require([\"plotly\"], function(Plotly) { window.PLOTLYENV=window.PLOTLYENV || {};window.PLOTLYENV.BASE_URL=\"https://plot.ly\";Plotly.newPlot(\"82dcf0d9-eb51-4ac1-8bd4-2f832820c659\", [{\"name\": \"\\u4e2a\\u6027\\u5316\\u6570\", \"x\": [\"8-1\", \"8-2\", \"8-3\", \"8-4\", \"8-5\", \"9-1\", \"9-2\"], \"y\": [0.0, 0.0, 0.0, 0.0, 0.0, 0.0, 0.0], \"type\": \"bar\", \"uid\": \"aa509b34-c05b-11e8-bbeb-2c6e85b5340b\"}], {\"title\": \"\\u4e2a\\u6027\\u5316\\u6570\\u5468\\u8d8b\\u52bf\\u56fe\", \"xaxis\": {\"mirror\": \"all\", \"nticks\": 20, \"showgrid\": true, \"showline\": true, \"title\": \"\\u5468\", \"zeroline\": true}, \"yaxis\": {\"mirror\": \"all\", \"nticks\": 20, \"showgrid\": true, \"showline\": true, \"title\": \"\\u4e2a\\u6027\\u5316\\u6570\", \"zeroline\": true}}, {\"showLink\": true, \"linkText\": \"Export to plot.ly\"})});</script>"
      ],
      "text/vnd.plotly.v1+html": [
       "<div id=\"82dcf0d9-eb51-4ac1-8bd4-2f832820c659\" style=\"height: 525px; width: 100%;\" class=\"plotly-graph-div\"></div><script type=\"text/javascript\">require([\"plotly\"], function(Plotly) { window.PLOTLYENV=window.PLOTLYENV || {};window.PLOTLYENV.BASE_URL=\"https://plot.ly\";Plotly.newPlot(\"82dcf0d9-eb51-4ac1-8bd4-2f832820c659\", [{\"name\": \"\\u4e2a\\u6027\\u5316\\u6570\", \"x\": [\"8-1\", \"8-2\", \"8-3\", \"8-4\", \"8-5\", \"9-1\", \"9-2\"], \"y\": [0.0, 0.0, 0.0, 0.0, 0.0, 0.0, 0.0], \"type\": \"bar\", \"uid\": \"aa509b34-c05b-11e8-bbeb-2c6e85b5340b\"}], {\"title\": \"\\u4e2a\\u6027\\u5316\\u6570\\u5468\\u8d8b\\u52bf\\u56fe\", \"xaxis\": {\"mirror\": \"all\", \"nticks\": 20, \"showgrid\": true, \"showline\": true, \"title\": \"\\u5468\", \"zeroline\": true}, \"yaxis\": {\"mirror\": \"all\", \"nticks\": 20, \"showgrid\": true, \"showline\": true, \"title\": \"\\u4e2a\\u6027\\u5316\\u6570\", \"zeroline\": true}}, {\"showLink\": true, \"linkText\": \"Export to plot.ly\"})});</script>"
      ]
     },
     "metadata": {},
     "output_type": "display_data"
    },
    {
     "data": {
      "application/vnd.plotly.v1+json": {
       "data": [
        {
         "name": "个性化数",
         "type": "bar",
         "uid": "aa6028ba-c05b-11e8-817f-2c6e85b5340b",
         "x": [
          "8",
          "9"
         ],
         "y": [
          0,
          0
         ]
        }
       ],
       "layout": {
        "title": "个性化数月趋势图",
        "xaxis": {
         "mirror": "all",
         "nticks": 20,
         "showgrid": true,
         "showline": true,
         "title": "月",
         "zeroline": true
        },
        "yaxis": {
         "mirror": "all",
         "nticks": 20,
         "showgrid": true,
         "showline": true,
         "title": "个性化数",
         "zeroline": true
        }
       }
      },
      "text/html": [
       "<div id=\"793ed906-e5b5-49f0-8f61-799ada1e9186\" style=\"height: 525px; width: 100%;\" class=\"plotly-graph-div\"></div><script type=\"text/javascript\">require([\"plotly\"], function(Plotly) { window.PLOTLYENV=window.PLOTLYENV || {};window.PLOTLYENV.BASE_URL=\"https://plot.ly\";Plotly.newPlot(\"793ed906-e5b5-49f0-8f61-799ada1e9186\", [{\"name\": \"\\u4e2a\\u6027\\u5316\\u6570\", \"x\": [\"8\", \"9\"], \"y\": [0.0, 0.0], \"type\": \"bar\", \"uid\": \"aa6028ba-c05b-11e8-817f-2c6e85b5340b\"}], {\"title\": \"\\u4e2a\\u6027\\u5316\\u6570\\u6708\\u8d8b\\u52bf\\u56fe\", \"xaxis\": {\"mirror\": \"all\", \"nticks\": 20, \"showgrid\": true, \"showline\": true, \"title\": \"\\u6708\", \"zeroline\": true}, \"yaxis\": {\"mirror\": \"all\", \"nticks\": 20, \"showgrid\": true, \"showline\": true, \"title\": \"\\u4e2a\\u6027\\u5316\\u6570\", \"zeroline\": true}}, {\"showLink\": true, \"linkText\": \"Export to plot.ly\"})});</script>"
      ],
      "text/vnd.plotly.v1+html": [
       "<div id=\"793ed906-e5b5-49f0-8f61-799ada1e9186\" style=\"height: 525px; width: 100%;\" class=\"plotly-graph-div\"></div><script type=\"text/javascript\">require([\"plotly\"], function(Plotly) { window.PLOTLYENV=window.PLOTLYENV || {};window.PLOTLYENV.BASE_URL=\"https://plot.ly\";Plotly.newPlot(\"793ed906-e5b5-49f0-8f61-799ada1e9186\", [{\"name\": \"\\u4e2a\\u6027\\u5316\\u6570\", \"x\": [\"8\", \"9\"], \"y\": [0.0, 0.0], \"type\": \"bar\", \"uid\": \"aa6028ba-c05b-11e8-817f-2c6e85b5340b\"}], {\"title\": \"\\u4e2a\\u6027\\u5316\\u6570\\u6708\\u8d8b\\u52bf\\u56fe\", \"xaxis\": {\"mirror\": \"all\", \"nticks\": 20, \"showgrid\": true, \"showline\": true, \"title\": \"\\u6708\", \"zeroline\": true}, \"yaxis\": {\"mirror\": \"all\", \"nticks\": 20, \"showgrid\": true, \"showline\": true, \"title\": \"\\u4e2a\\u6027\\u5316\\u6570\", \"zeroline\": true}}, {\"showLink\": true, \"linkText\": \"Export to plot.ly\"})});</script>"
      ]
     },
     "metadata": {},
     "output_type": "display_data"
    }
   ],
   "source": [
    "data_dict = {'个性化数':['个性化数']}\n",
    "myModule.plot( all_dict, data_dict, '人员' ,  'bar' , all='all')"
   ]
  },
  {
   "cell_type": "markdown",
   "metadata": {},
   "source": [
    "#### lims异常数和下单错误数"
   ]
  },
  {
   "cell_type": "code",
   "execution_count": 10,
   "metadata": {},
   "outputs": [
    {
     "data": {
      "application/vnd.plotly.v1+json": {
       "data": [
        {
         "name": "lims异常数",
         "type": "scatter",
         "uid": "aaac1ab0-c05b-11e8-802f-2c6e85b5340b",
         "x": [
          "8-1",
          "8-2",
          "8-3",
          "8-4",
          "8-5",
          "9-1",
          "9-2"
         ],
         "y": [
          2,
          2,
          2,
          1,
          2,
          1,
          0
         ]
        },
        {
         "name": "下单错误数",
         "type": "scatter",
         "uid": "aaac1ab1-c05b-11e8-9e50-2c6e85b5340b",
         "x": [
          "8-1",
          "8-2",
          "8-3",
          "8-4",
          "8-5",
          "9-1",
          "9-2"
         ],
         "y": [
          1,
          0,
          6,
          1,
          1,
          1,
          1
         ]
        }
       ],
       "layout": {
        "title": "lims异常数&下单错误数周趋势图",
        "xaxis": {
         "mirror": "all",
         "nticks": 20,
         "showgrid": true,
         "showline": true,
         "title": "周",
         "zeroline": true
        },
        "yaxis": {
         "mirror": "all",
         "nticks": 20,
         "showgrid": true,
         "showline": true,
         "title": "lims异常数&下单错误数",
         "zeroline": true
        }
       }
      },
      "text/html": [
       "<div id=\"3007ad53-3b16-476a-9242-17e1ad02ce26\" style=\"height: 525px; width: 100%;\" class=\"plotly-graph-div\"></div><script type=\"text/javascript\">require([\"plotly\"], function(Plotly) { window.PLOTLYENV=window.PLOTLYENV || {};window.PLOTLYENV.BASE_URL=\"https://plot.ly\";Plotly.newPlot(\"3007ad53-3b16-476a-9242-17e1ad02ce26\", [{\"name\": \"lims\\u5f02\\u5e38\\u6570\", \"x\": [\"8-1\", \"8-2\", \"8-3\", \"8-4\", \"8-5\", \"9-1\", \"9-2\"], \"y\": [2.0, 2.0, 2.0, 1.0, 2.0, 1.0, 0.0], \"type\": \"scatter\", \"uid\": \"aaac1ab0-c05b-11e8-802f-2c6e85b5340b\"}, {\"name\": \"\\u4e0b\\u5355\\u9519\\u8bef\\u6570\", \"x\": [\"8-1\", \"8-2\", \"8-3\", \"8-4\", \"8-5\", \"9-1\", \"9-2\"], \"y\": [1.0, 0.0, 6.0, 1.0, 1.0, 1.0, 1.0], \"type\": \"scatter\", \"uid\": \"aaac1ab1-c05b-11e8-9e50-2c6e85b5340b\"}], {\"title\": \"lims\\u5f02\\u5e38\\u6570&\\u4e0b\\u5355\\u9519\\u8bef\\u6570\\u5468\\u8d8b\\u52bf\\u56fe\", \"xaxis\": {\"mirror\": \"all\", \"nticks\": 20, \"showgrid\": true, \"showline\": true, \"title\": \"\\u5468\", \"zeroline\": true}, \"yaxis\": {\"mirror\": \"all\", \"nticks\": 20, \"showgrid\": true, \"showline\": true, \"title\": \"lims\\u5f02\\u5e38\\u6570&\\u4e0b\\u5355\\u9519\\u8bef\\u6570\", \"zeroline\": true}}, {\"showLink\": true, \"linkText\": \"Export to plot.ly\"})});</script>"
      ],
      "text/vnd.plotly.v1+html": [
       "<div id=\"3007ad53-3b16-476a-9242-17e1ad02ce26\" style=\"height: 525px; width: 100%;\" class=\"plotly-graph-div\"></div><script type=\"text/javascript\">require([\"plotly\"], function(Plotly) { window.PLOTLYENV=window.PLOTLYENV || {};window.PLOTLYENV.BASE_URL=\"https://plot.ly\";Plotly.newPlot(\"3007ad53-3b16-476a-9242-17e1ad02ce26\", [{\"name\": \"lims\\u5f02\\u5e38\\u6570\", \"x\": [\"8-1\", \"8-2\", \"8-3\", \"8-4\", \"8-5\", \"9-1\", \"9-2\"], \"y\": [2.0, 2.0, 2.0, 1.0, 2.0, 1.0, 0.0], \"type\": \"scatter\", \"uid\": \"aaac1ab0-c05b-11e8-802f-2c6e85b5340b\"}, {\"name\": \"\\u4e0b\\u5355\\u9519\\u8bef\\u6570\", \"x\": [\"8-1\", \"8-2\", \"8-3\", \"8-4\", \"8-5\", \"9-1\", \"9-2\"], \"y\": [1.0, 0.0, 6.0, 1.0, 1.0, 1.0, 1.0], \"type\": \"scatter\", \"uid\": \"aaac1ab1-c05b-11e8-9e50-2c6e85b5340b\"}], {\"title\": \"lims\\u5f02\\u5e38\\u6570&\\u4e0b\\u5355\\u9519\\u8bef\\u6570\\u5468\\u8d8b\\u52bf\\u56fe\", \"xaxis\": {\"mirror\": \"all\", \"nticks\": 20, \"showgrid\": true, \"showline\": true, \"title\": \"\\u5468\", \"zeroline\": true}, \"yaxis\": {\"mirror\": \"all\", \"nticks\": 20, \"showgrid\": true, \"showline\": true, \"title\": \"lims\\u5f02\\u5e38\\u6570&\\u4e0b\\u5355\\u9519\\u8bef\\u6570\", \"zeroline\": true}}, {\"showLink\": true, \"linkText\": \"Export to plot.ly\"})});</script>"
      ]
     },
     "metadata": {},
     "output_type": "display_data"
    },
    {
     "data": {
      "application/vnd.plotly.v1+json": {
       "data": [
        {
         "name": "lims异常数",
         "type": "scatter",
         "uid": "aabc1de6-c05b-11e8-90f5-2c6e85b5340b",
         "x": [
          "8",
          "9"
         ],
         "y": [
          9,
          1
         ]
        },
        {
         "name": "下单错误数",
         "type": "scatter",
         "uid": "aabc1de7-c05b-11e8-b59f-2c6e85b5340b",
         "x": [
          "8",
          "9"
         ],
         "y": [
          9,
          2
         ]
        }
       ],
       "layout": {
        "title": "lims异常数&下单错误数月趋势图",
        "xaxis": {
         "mirror": "all",
         "nticks": 20,
         "showgrid": true,
         "showline": true,
         "title": "月",
         "zeroline": true
        },
        "yaxis": {
         "mirror": "all",
         "nticks": 20,
         "showgrid": true,
         "showline": true,
         "title": "lims异常数&下单错误数",
         "zeroline": true
        }
       }
      },
      "text/html": [
       "<div id=\"354af81b-68cf-4b1a-a498-daa3cd0379dc\" style=\"height: 525px; width: 100%;\" class=\"plotly-graph-div\"></div><script type=\"text/javascript\">require([\"plotly\"], function(Plotly) { window.PLOTLYENV=window.PLOTLYENV || {};window.PLOTLYENV.BASE_URL=\"https://plot.ly\";Plotly.newPlot(\"354af81b-68cf-4b1a-a498-daa3cd0379dc\", [{\"name\": \"lims\\u5f02\\u5e38\\u6570\", \"x\": [\"8\", \"9\"], \"y\": [9.0, 1.0], \"type\": \"scatter\", \"uid\": \"aabc1de6-c05b-11e8-90f5-2c6e85b5340b\"}, {\"name\": \"\\u4e0b\\u5355\\u9519\\u8bef\\u6570\", \"x\": [\"8\", \"9\"], \"y\": [9.0, 2.0], \"type\": \"scatter\", \"uid\": \"aabc1de7-c05b-11e8-b59f-2c6e85b5340b\"}], {\"title\": \"lims\\u5f02\\u5e38\\u6570&\\u4e0b\\u5355\\u9519\\u8bef\\u6570\\u6708\\u8d8b\\u52bf\\u56fe\", \"xaxis\": {\"mirror\": \"all\", \"nticks\": 20, \"showgrid\": true, \"showline\": true, \"title\": \"\\u6708\", \"zeroline\": true}, \"yaxis\": {\"mirror\": \"all\", \"nticks\": 20, \"showgrid\": true, \"showline\": true, \"title\": \"lims\\u5f02\\u5e38\\u6570&\\u4e0b\\u5355\\u9519\\u8bef\\u6570\", \"zeroline\": true}}, {\"showLink\": true, \"linkText\": \"Export to plot.ly\"})});</script>"
      ],
      "text/vnd.plotly.v1+html": [
       "<div id=\"354af81b-68cf-4b1a-a498-daa3cd0379dc\" style=\"height: 525px; width: 100%;\" class=\"plotly-graph-div\"></div><script type=\"text/javascript\">require([\"plotly\"], function(Plotly) { window.PLOTLYENV=window.PLOTLYENV || {};window.PLOTLYENV.BASE_URL=\"https://plot.ly\";Plotly.newPlot(\"354af81b-68cf-4b1a-a498-daa3cd0379dc\", [{\"name\": \"lims\\u5f02\\u5e38\\u6570\", \"x\": [\"8\", \"9\"], \"y\": [9.0, 1.0], \"type\": \"scatter\", \"uid\": \"aabc1de6-c05b-11e8-90f5-2c6e85b5340b\"}, {\"name\": \"\\u4e0b\\u5355\\u9519\\u8bef\\u6570\", \"x\": [\"8\", \"9\"], \"y\": [9.0, 2.0], \"type\": \"scatter\", \"uid\": \"aabc1de7-c05b-11e8-b59f-2c6e85b5340b\"}], {\"title\": \"lims\\u5f02\\u5e38\\u6570&\\u4e0b\\u5355\\u9519\\u8bef\\u6570\\u6708\\u8d8b\\u52bf\\u56fe\", \"xaxis\": {\"mirror\": \"all\", \"nticks\": 20, \"showgrid\": true, \"showline\": true, \"title\": \"\\u6708\", \"zeroline\": true}, \"yaxis\": {\"mirror\": \"all\", \"nticks\": 20, \"showgrid\": true, \"showline\": true, \"title\": \"lims\\u5f02\\u5e38\\u6570&\\u4e0b\\u5355\\u9519\\u8bef\\u6570\", \"zeroline\": true}}, {\"showLink\": true, \"linkText\": \"Export to plot.ly\"})});</script>"
      ]
     },
     "metadata": {},
     "output_type": "display_data"
    }
   ],
   "source": [
    "data_dict = {'lims异常数':['lims异常数'], '下单错误数':['下单错误数']}\n",
    "myModule.plot( all_dict, data_dict, '人员' ,  'line' , all='all')"
   ]
  },
  {
   "cell_type": "markdown",
   "metadata": {},
   "source": [
    "#### 过滤流程异常数"
   ]
  },
  {
   "cell_type": "code",
   "execution_count": 11,
   "metadata": {},
   "outputs": [
    {
     "data": {
      "application/vnd.plotly.v1+json": {
       "data": [
        {
         "name": "过滤流程异常数",
         "type": "scatter",
         "uid": "aaf46464-c05b-11e8-8829-2c6e85b5340b",
         "x": [
          "8-1",
          "8-2",
          "8-3",
          "8-4",
          "8-5",
          "9-1",
          "9-2"
         ],
         "y": [
          0,
          1,
          0,
          0,
          2,
          1,
          0
         ]
        }
       ],
       "layout": {
        "title": "过滤流程异常数周趋势图",
        "xaxis": {
         "mirror": "all",
         "nticks": 20,
         "showgrid": true,
         "showline": true,
         "title": "周",
         "zeroline": true
        },
        "yaxis": {
         "mirror": "all",
         "nticks": 20,
         "showgrid": true,
         "showline": true,
         "title": "过滤流程异常数",
         "zeroline": true
        }
       }
      },
      "text/html": [
       "<div id=\"505f62ed-1b5f-4194-9c4d-ff8a53418f6d\" style=\"height: 525px; width: 100%;\" class=\"plotly-graph-div\"></div><script type=\"text/javascript\">require([\"plotly\"], function(Plotly) { window.PLOTLYENV=window.PLOTLYENV || {};window.PLOTLYENV.BASE_URL=\"https://plot.ly\";Plotly.newPlot(\"505f62ed-1b5f-4194-9c4d-ff8a53418f6d\", [{\"name\": \"\\u8fc7\\u6ee4\\u6d41\\u7a0b\\u5f02\\u5e38\\u6570\", \"x\": [\"8-1\", \"8-2\", \"8-3\", \"8-4\", \"8-5\", \"9-1\", \"9-2\"], \"y\": [0.0, 1.0, 0.0, 0.0, 2.0, 1.0, 0.0], \"type\": \"scatter\", \"uid\": \"aaf46464-c05b-11e8-8829-2c6e85b5340b\"}], {\"title\": \"\\u8fc7\\u6ee4\\u6d41\\u7a0b\\u5f02\\u5e38\\u6570\\u5468\\u8d8b\\u52bf\\u56fe\", \"xaxis\": {\"mirror\": \"all\", \"nticks\": 20, \"showgrid\": true, \"showline\": true, \"title\": \"\\u5468\", \"zeroline\": true}, \"yaxis\": {\"mirror\": \"all\", \"nticks\": 20, \"showgrid\": true, \"showline\": true, \"title\": \"\\u8fc7\\u6ee4\\u6d41\\u7a0b\\u5f02\\u5e38\\u6570\", \"zeroline\": true}}, {\"showLink\": true, \"linkText\": \"Export to plot.ly\"})});</script>"
      ],
      "text/vnd.plotly.v1+html": [
       "<div id=\"505f62ed-1b5f-4194-9c4d-ff8a53418f6d\" style=\"height: 525px; width: 100%;\" class=\"plotly-graph-div\"></div><script type=\"text/javascript\">require([\"plotly\"], function(Plotly) { window.PLOTLYENV=window.PLOTLYENV || {};window.PLOTLYENV.BASE_URL=\"https://plot.ly\";Plotly.newPlot(\"505f62ed-1b5f-4194-9c4d-ff8a53418f6d\", [{\"name\": \"\\u8fc7\\u6ee4\\u6d41\\u7a0b\\u5f02\\u5e38\\u6570\", \"x\": [\"8-1\", \"8-2\", \"8-3\", \"8-4\", \"8-5\", \"9-1\", \"9-2\"], \"y\": [0.0, 1.0, 0.0, 0.0, 2.0, 1.0, 0.0], \"type\": \"scatter\", \"uid\": \"aaf46464-c05b-11e8-8829-2c6e85b5340b\"}], {\"title\": \"\\u8fc7\\u6ee4\\u6d41\\u7a0b\\u5f02\\u5e38\\u6570\\u5468\\u8d8b\\u52bf\\u56fe\", \"xaxis\": {\"mirror\": \"all\", \"nticks\": 20, \"showgrid\": true, \"showline\": true, \"title\": \"\\u5468\", \"zeroline\": true}, \"yaxis\": {\"mirror\": \"all\", \"nticks\": 20, \"showgrid\": true, \"showline\": true, \"title\": \"\\u8fc7\\u6ee4\\u6d41\\u7a0b\\u5f02\\u5e38\\u6570\", \"zeroline\": true}}, {\"showLink\": true, \"linkText\": \"Export to plot.ly\"})});</script>"
      ]
     },
     "metadata": {},
     "output_type": "display_data"
    },
    {
     "data": {
      "application/vnd.plotly.v1+json": {
       "data": [
        {
         "name": "过滤流程异常数",
         "type": "scatter",
         "uid": "ab0355c6-c05b-11e8-a594-2c6e85b5340b",
         "x": [
          "8",
          "9"
         ],
         "y": [
          3,
          1
         ]
        }
       ],
       "layout": {
        "title": "过滤流程异常数月趋势图",
        "xaxis": {
         "mirror": "all",
         "nticks": 20,
         "showgrid": true,
         "showline": true,
         "title": "月",
         "zeroline": true
        },
        "yaxis": {
         "mirror": "all",
         "nticks": 20,
         "showgrid": true,
         "showline": true,
         "title": "过滤流程异常数",
         "zeroline": true
        }
       }
      },
      "text/html": [
       "<div id=\"08e92746-3f96-4750-8385-c0290d195123\" style=\"height: 525px; width: 100%;\" class=\"plotly-graph-div\"></div><script type=\"text/javascript\">require([\"plotly\"], function(Plotly) { window.PLOTLYENV=window.PLOTLYENV || {};window.PLOTLYENV.BASE_URL=\"https://plot.ly\";Plotly.newPlot(\"08e92746-3f96-4750-8385-c0290d195123\", [{\"name\": \"\\u8fc7\\u6ee4\\u6d41\\u7a0b\\u5f02\\u5e38\\u6570\", \"x\": [\"8\", \"9\"], \"y\": [3.0, 1.0], \"type\": \"scatter\", \"uid\": \"ab0355c6-c05b-11e8-a594-2c6e85b5340b\"}], {\"title\": \"\\u8fc7\\u6ee4\\u6d41\\u7a0b\\u5f02\\u5e38\\u6570\\u6708\\u8d8b\\u52bf\\u56fe\", \"xaxis\": {\"mirror\": \"all\", \"nticks\": 20, \"showgrid\": true, \"showline\": true, \"title\": \"\\u6708\", \"zeroline\": true}, \"yaxis\": {\"mirror\": \"all\", \"nticks\": 20, \"showgrid\": true, \"showline\": true, \"title\": \"\\u8fc7\\u6ee4\\u6d41\\u7a0b\\u5f02\\u5e38\\u6570\", \"zeroline\": true}}, {\"showLink\": true, \"linkText\": \"Export to plot.ly\"})});</script>"
      ],
      "text/vnd.plotly.v1+html": [
       "<div id=\"08e92746-3f96-4750-8385-c0290d195123\" style=\"height: 525px; width: 100%;\" class=\"plotly-graph-div\"></div><script type=\"text/javascript\">require([\"plotly\"], function(Plotly) { window.PLOTLYENV=window.PLOTLYENV || {};window.PLOTLYENV.BASE_URL=\"https://plot.ly\";Plotly.newPlot(\"08e92746-3f96-4750-8385-c0290d195123\", [{\"name\": \"\\u8fc7\\u6ee4\\u6d41\\u7a0b\\u5f02\\u5e38\\u6570\", \"x\": [\"8\", \"9\"], \"y\": [3.0, 1.0], \"type\": \"scatter\", \"uid\": \"ab0355c6-c05b-11e8-a594-2c6e85b5340b\"}], {\"title\": \"\\u8fc7\\u6ee4\\u6d41\\u7a0b\\u5f02\\u5e38\\u6570\\u6708\\u8d8b\\u52bf\\u56fe\", \"xaxis\": {\"mirror\": \"all\", \"nticks\": 20, \"showgrid\": true, \"showline\": true, \"title\": \"\\u6708\", \"zeroline\": true}, \"yaxis\": {\"mirror\": \"all\", \"nticks\": 20, \"showgrid\": true, \"showline\": true, \"title\": \"\\u8fc7\\u6ee4\\u6d41\\u7a0b\\u5f02\\u5e38\\u6570\", \"zeroline\": true}}, {\"showLink\": true, \"linkText\": \"Export to plot.ly\"})});</script>"
      ]
     },
     "metadata": {},
     "output_type": "display_data"
    }
   ],
   "source": [
    "data_dict = {'过滤流程异常数':['过滤流程异常数']}\n",
    "myModule.plot( all_dict, data_dict, '人员' ,  'line' , all='all')"
   ]
  },
  {
   "cell_type": "markdown",
   "metadata": {},
   "source": [
    "## 芯片拆分整体情况"
   ]
  },
  {
   "cell_type": "code",
   "execution_count": 12,
   "metadata": {
    "scrolled": false
   },
   "outputs": [],
   "source": [
    "all_files , title = myModule.get_title(pathway, 1 )##给路径\n",
    "all_dict = myModule.read_xlsx(all_files, 1 ) ## read all files"
   ]
  },
  {
   "cell_type": "markdown",
   "metadata": {},
   "source": [
    "### 产能"
   ]
  },
  {
   "cell_type": "markdown",
   "metadata": {},
   "source": [
    "#### 芯片总数和不通过芯片数"
   ]
  },
  {
   "cell_type": "code",
   "execution_count": 13,
   "metadata": {},
   "outputs": [
    {
     "data": {
      "application/vnd.plotly.v1+json": {
       "data": [
        {
         "name": "芯片总数",
         "type": "bar",
         "uid": "ab53b3ca-c05b-11e8-8b64-2c6e85b5340b",
         "x": [
          "8-1",
          "8-2",
          "8-3",
          "8-4",
          "8-5",
          "9-1",
          "9-2"
         ],
         "y": [
          27,
          37,
          29,
          33,
          22,
          29,
          26
         ],
         "yaxis": "y"
        },
        {
         "name": "不通过芯片数",
         "type": "bar",
         "uid": "ab53b3cb-c05b-11e8-9cc9-2c6e85b5340b",
         "x": [
          "8-1",
          "8-2",
          "8-3",
          "8-4",
          "8-5",
          "9-1",
          "9-2"
         ],
         "y": [
          13,
          22,
          20,
          14,
          14,
          15,
          8
         ],
         "yaxis": "y"
        },
        {
         "name": "芯片不合格率",
         "type": "scatter",
         "uid": "ab53b3cc-c05b-11e8-8db7-2c6e85b5340b",
         "x": [
          "8-1",
          "8-2",
          "8-3",
          "8-4",
          "8-5",
          "9-1",
          "9-2"
         ],
         "y": [
          0.48148148148148145,
          0.5945945945945946,
          0.6896551724137931,
          0.42424242424242425,
          0.6363636363636364,
          0.5172413793103449,
          0.3076923076923077
         ],
         "yaxis": "y2"
        }
       ],
       "layout": {
        "title": "芯片通过情况统计",
        "xaxis": {
         "mirror": "all",
         "nticks": 20,
         "showgrid": true,
         "showline": true,
         "title": "周",
         "zeroline": true
        },
        "yaxis": {
         "mirror": "all",
         "nticks": 20,
         "showgrid": true,
         "showline": true,
         "title": "芯片数",
         "zeroline": true
        },
        "yaxis2": {
         "mirror": "all",
         "nticks": 20,
         "overlaying": "y",
         "showgrid": true,
         "showline": true,
         "side": "right",
         "title": "芯片不合格率",
         "zeroline": true
        }
       }
      },
      "text/html": [
       "<div id=\"80147b31-91f8-4772-9b6f-291bf44e27da\" style=\"height: 525px; width: 100%;\" class=\"plotly-graph-div\"></div><script type=\"text/javascript\">require([\"plotly\"], function(Plotly) { window.PLOTLYENV=window.PLOTLYENV || {};window.PLOTLYENV.BASE_URL=\"https://plot.ly\";Plotly.newPlot(\"80147b31-91f8-4772-9b6f-291bf44e27da\", [{\"name\": \"\\u82af\\u7247\\u603b\\u6570\", \"x\": [\"8-1\", \"8-2\", \"8-3\", \"8-4\", \"8-5\", \"9-1\", \"9-2\"], \"y\": [27.0, 37.0, 29.0, 33.0, 22.0, 29.0, 26.0], \"yaxis\": \"y\", \"type\": \"bar\", \"uid\": \"ab53b3ca-c05b-11e8-8b64-2c6e85b5340b\"}, {\"name\": \"\\u4e0d\\u901a\\u8fc7\\u82af\\u7247\\u6570\", \"x\": [\"8-1\", \"8-2\", \"8-3\", \"8-4\", \"8-5\", \"9-1\", \"9-2\"], \"y\": [13.0, 22.0, 20.0, 14.0, 14.0, 15.0, 8.0], \"yaxis\": \"y\", \"type\": \"bar\", \"uid\": \"ab53b3cb-c05b-11e8-9cc9-2c6e85b5340b\"}, {\"name\": \"\\u82af\\u7247\\u4e0d\\u5408\\u683c\\u7387\", \"x\": [\"8-1\", \"8-2\", \"8-3\", \"8-4\", \"8-5\", \"9-1\", \"9-2\"], \"y\": [0.48148148148148145, 0.5945945945945946, 0.6896551724137931, 0.42424242424242425, 0.6363636363636364, 0.5172413793103449, 0.3076923076923077], \"yaxis\": \"y2\", \"type\": \"scatter\", \"uid\": \"ab53b3cc-c05b-11e8-8db7-2c6e85b5340b\"}], {\"title\": \"\\u82af\\u7247\\u901a\\u8fc7\\u60c5\\u51b5\\u7edf\\u8ba1\", \"xaxis\": {\"mirror\": \"all\", \"nticks\": 20, \"showgrid\": true, \"showline\": true, \"title\": \"\\u5468\", \"zeroline\": true}, \"yaxis\": {\"mirror\": \"all\", \"nticks\": 20, \"showgrid\": true, \"showline\": true, \"title\": \"\\u82af\\u7247\\u6570\", \"zeroline\": true}, \"yaxis2\": {\"mirror\": \"all\", \"nticks\": 20, \"overlaying\": \"y\", \"showgrid\": true, \"showline\": true, \"side\": \"right\", \"title\": \"\\u82af\\u7247\\u4e0d\\u5408\\u683c\\u7387\", \"zeroline\": true}}, {\"showLink\": true, \"linkText\": \"Export to plot.ly\"})});</script>"
      ],
      "text/vnd.plotly.v1+html": [
       "<div id=\"80147b31-91f8-4772-9b6f-291bf44e27da\" style=\"height: 525px; width: 100%;\" class=\"plotly-graph-div\"></div><script type=\"text/javascript\">require([\"plotly\"], function(Plotly) { window.PLOTLYENV=window.PLOTLYENV || {};window.PLOTLYENV.BASE_URL=\"https://plot.ly\";Plotly.newPlot(\"80147b31-91f8-4772-9b6f-291bf44e27da\", [{\"name\": \"\\u82af\\u7247\\u603b\\u6570\", \"x\": [\"8-1\", \"8-2\", \"8-3\", \"8-4\", \"8-5\", \"9-1\", \"9-2\"], \"y\": [27.0, 37.0, 29.0, 33.0, 22.0, 29.0, 26.0], \"yaxis\": \"y\", \"type\": \"bar\", \"uid\": \"ab53b3ca-c05b-11e8-8b64-2c6e85b5340b\"}, {\"name\": \"\\u4e0d\\u901a\\u8fc7\\u82af\\u7247\\u6570\", \"x\": [\"8-1\", \"8-2\", \"8-3\", \"8-4\", \"8-5\", \"9-1\", \"9-2\"], \"y\": [13.0, 22.0, 20.0, 14.0, 14.0, 15.0, 8.0], \"yaxis\": \"y\", \"type\": \"bar\", \"uid\": \"ab53b3cb-c05b-11e8-9cc9-2c6e85b5340b\"}, {\"name\": \"\\u82af\\u7247\\u4e0d\\u5408\\u683c\\u7387\", \"x\": [\"8-1\", \"8-2\", \"8-3\", \"8-4\", \"8-5\", \"9-1\", \"9-2\"], \"y\": [0.48148148148148145, 0.5945945945945946, 0.6896551724137931, 0.42424242424242425, 0.6363636363636364, 0.5172413793103449, 0.3076923076923077], \"yaxis\": \"y2\", \"type\": \"scatter\", \"uid\": \"ab53b3cc-c05b-11e8-8db7-2c6e85b5340b\"}], {\"title\": \"\\u82af\\u7247\\u901a\\u8fc7\\u60c5\\u51b5\\u7edf\\u8ba1\", \"xaxis\": {\"mirror\": \"all\", \"nticks\": 20, \"showgrid\": true, \"showline\": true, \"title\": \"\\u5468\", \"zeroline\": true}, \"yaxis\": {\"mirror\": \"all\", \"nticks\": 20, \"showgrid\": true, \"showline\": true, \"title\": \"\\u82af\\u7247\\u6570\", \"zeroline\": true}, \"yaxis2\": {\"mirror\": \"all\", \"nticks\": 20, \"overlaying\": \"y\", \"showgrid\": true, \"showline\": true, \"side\": \"right\", \"title\": \"\\u82af\\u7247\\u4e0d\\u5408\\u683c\\u7387\", \"zeroline\": true}}, {\"showLink\": true, \"linkText\": \"Export to plot.ly\"})});</script>"
      ]
     },
     "metadata": {},
     "output_type": "display_data"
    },
    {
     "data": {
      "application/vnd.plotly.v1+json": {
       "data": [
        {
         "name": "芯片总数",
         "type": "bar",
         "uid": "ab82fa40-c05b-11e8-a2c4-2c6e85b5340b",
         "x": [
          "8",
          "9"
         ],
         "y": [
          148,
          55
         ],
         "yaxis": "y"
        },
        {
         "name": "不通过芯片数",
         "type": "bar",
         "uid": "ab82fa41-c05b-11e8-8aad-2c6e85b5340b",
         "x": [
          "8",
          "9"
         ],
         "y": [
          83,
          23
         ],
         "yaxis": "y"
        },
        {
         "name": "芯片不合格率",
         "type": "scatter",
         "uid": "ab82fa42-c05b-11e8-b915-2c6e85b5340b",
         "x": [
          "8",
          "9"
         ],
         "y": [
          0.5608108108108109,
          0.41818181818181815
         ],
         "yaxis": "y2"
        }
       ],
       "layout": {
        "title": "芯片通过情况统计",
        "xaxis": {
         "mirror": "all",
         "nticks": 20,
         "showgrid": true,
         "showline": true,
         "title": "月",
         "zeroline": true
        },
        "yaxis": {
         "mirror": "all",
         "nticks": 20,
         "showgrid": true,
         "showline": true,
         "title": "芯片数",
         "zeroline": true
        },
        "yaxis2": {
         "mirror": "all",
         "nticks": 20,
         "overlaying": "y",
         "showgrid": true,
         "showline": true,
         "side": "right",
         "title": "芯片不合格率",
         "zeroline": true
        }
       }
      },
      "text/html": [
       "<div id=\"6abc0916-5dd7-4071-81b2-443f460603ad\" style=\"height: 525px; width: 100%;\" class=\"plotly-graph-div\"></div><script type=\"text/javascript\">require([\"plotly\"], function(Plotly) { window.PLOTLYENV=window.PLOTLYENV || {};window.PLOTLYENV.BASE_URL=\"https://plot.ly\";Plotly.newPlot(\"6abc0916-5dd7-4071-81b2-443f460603ad\", [{\"name\": \"\\u82af\\u7247\\u603b\\u6570\", \"x\": [\"8\", \"9\"], \"y\": [148.0, 55.0], \"yaxis\": \"y\", \"type\": \"bar\", \"uid\": \"ab82fa40-c05b-11e8-a2c4-2c6e85b5340b\"}, {\"name\": \"\\u4e0d\\u901a\\u8fc7\\u82af\\u7247\\u6570\", \"x\": [\"8\", \"9\"], \"y\": [83.0, 23.0], \"yaxis\": \"y\", \"type\": \"bar\", \"uid\": \"ab82fa41-c05b-11e8-8aad-2c6e85b5340b\"}, {\"name\": \"\\u82af\\u7247\\u4e0d\\u5408\\u683c\\u7387\", \"x\": [\"8\", \"9\"], \"y\": [0.5608108108108109, 0.41818181818181815], \"yaxis\": \"y2\", \"type\": \"scatter\", \"uid\": \"ab82fa42-c05b-11e8-b915-2c6e85b5340b\"}], {\"title\": \"\\u82af\\u7247\\u901a\\u8fc7\\u60c5\\u51b5\\u7edf\\u8ba1\", \"xaxis\": {\"mirror\": \"all\", \"nticks\": 20, \"showgrid\": true, \"showline\": true, \"title\": \"\\u6708\", \"zeroline\": true}, \"yaxis\": {\"mirror\": \"all\", \"nticks\": 20, \"showgrid\": true, \"showline\": true, \"title\": \"\\u82af\\u7247\\u6570\", \"zeroline\": true}, \"yaxis2\": {\"mirror\": \"all\", \"nticks\": 20, \"overlaying\": \"y\", \"showgrid\": true, \"showline\": true, \"side\": \"right\", \"title\": \"\\u82af\\u7247\\u4e0d\\u5408\\u683c\\u7387\", \"zeroline\": true}}, {\"showLink\": true, \"linkText\": \"Export to plot.ly\"})});</script>"
      ],
      "text/vnd.plotly.v1+html": [
       "<div id=\"6abc0916-5dd7-4071-81b2-443f460603ad\" style=\"height: 525px; width: 100%;\" class=\"plotly-graph-div\"></div><script type=\"text/javascript\">require([\"plotly\"], function(Plotly) { window.PLOTLYENV=window.PLOTLYENV || {};window.PLOTLYENV.BASE_URL=\"https://plot.ly\";Plotly.newPlot(\"6abc0916-5dd7-4071-81b2-443f460603ad\", [{\"name\": \"\\u82af\\u7247\\u603b\\u6570\", \"x\": [\"8\", \"9\"], \"y\": [148.0, 55.0], \"yaxis\": \"y\", \"type\": \"bar\", \"uid\": \"ab82fa40-c05b-11e8-a2c4-2c6e85b5340b\"}, {\"name\": \"\\u4e0d\\u901a\\u8fc7\\u82af\\u7247\\u6570\", \"x\": [\"8\", \"9\"], \"y\": [83.0, 23.0], \"yaxis\": \"y\", \"type\": \"bar\", \"uid\": \"ab82fa41-c05b-11e8-8aad-2c6e85b5340b\"}, {\"name\": \"\\u82af\\u7247\\u4e0d\\u5408\\u683c\\u7387\", \"x\": [\"8\", \"9\"], \"y\": [0.5608108108108109, 0.41818181818181815], \"yaxis\": \"y2\", \"type\": \"scatter\", \"uid\": \"ab82fa42-c05b-11e8-b915-2c6e85b5340b\"}], {\"title\": \"\\u82af\\u7247\\u901a\\u8fc7\\u60c5\\u51b5\\u7edf\\u8ba1\", \"xaxis\": {\"mirror\": \"all\", \"nticks\": 20, \"showgrid\": true, \"showline\": true, \"title\": \"\\u6708\", \"zeroline\": true}, \"yaxis\": {\"mirror\": \"all\", \"nticks\": 20, \"showgrid\": true, \"showline\": true, \"title\": \"\\u82af\\u7247\\u6570\", \"zeroline\": true}, \"yaxis2\": {\"mirror\": \"all\", \"nticks\": 20, \"overlaying\": \"y\", \"showgrid\": true, \"showline\": true, \"side\": \"right\", \"title\": \"\\u82af\\u7247\\u4e0d\\u5408\\u683c\\u7387\", \"zeroline\": true}}, {\"showLink\": true, \"linkText\": \"Export to plot.ly\"})});</script>"
      ]
     },
     "metadata": {},
     "output_type": "display_data"
    }
   ],
   "source": [
    "col_list = ['不通过芯片数', '芯片总数']\n",
    "ratio = '芯片不合格率'\n",
    "type_dict = { '芯片总数':'bar', '不通过芯片数':'bar', '芯片不合格率':'line' }\n",
    "title = '芯片通过情况统计'\n",
    "yaxis = ['芯片数', '芯片不合格率']\n",
    "myModule.ratio_calculate( all_dict, col_list, ratio, type_dict, title, yaxis )"
   ]
  },
  {
   "cell_type": "code",
   "execution_count": 14,
   "metadata": {},
   "outputs": [
    {
     "data": {
      "application/vnd.plotly.v1+json": {
       "data": [
        {
         "name": "芯片总数",
         "type": "scatter",
         "uid": "abe7047e-c05b-11e8-aaaa-2c6e85b5340b",
         "x": [
          "8-1",
          "8-2",
          "8-3",
          "8-4",
          "8-5",
          "9-1",
          "9-2"
         ],
         "y": [
          27,
          37,
          29,
          33,
          22,
          29,
          26
         ]
        },
        {
         "name": "不通过芯片数",
         "type": "scatter",
         "uid": "abe7047f-c05b-11e8-bce4-2c6e85b5340b",
         "x": [
          "8-1",
          "8-2",
          "8-3",
          "8-4",
          "8-5",
          "9-1",
          "9-2"
         ],
         "y": [
          13,
          22,
          20,
          14,
          14,
          15,
          8
         ]
        }
       ],
       "layout": {
        "title": "芯片总数&不通过芯片数周趋势图",
        "xaxis": {
         "mirror": "all",
         "nticks": 20,
         "showgrid": true,
         "showline": true,
         "title": "周",
         "zeroline": true
        },
        "yaxis": {
         "mirror": "all",
         "nticks": 20,
         "showgrid": true,
         "showline": true,
         "title": "芯片总数&不通过芯片数",
         "zeroline": true
        }
       }
      },
      "text/html": [
       "<div id=\"5cd61020-57a3-4bd1-9786-ee20e2e7c8f8\" style=\"height: 525px; width: 100%;\" class=\"plotly-graph-div\"></div><script type=\"text/javascript\">require([\"plotly\"], function(Plotly) { window.PLOTLYENV=window.PLOTLYENV || {};window.PLOTLYENV.BASE_URL=\"https://plot.ly\";Plotly.newPlot(\"5cd61020-57a3-4bd1-9786-ee20e2e7c8f8\", [{\"name\": \"\\u82af\\u7247\\u603b\\u6570\", \"x\": [\"8-1\", \"8-2\", \"8-3\", \"8-4\", \"8-5\", \"9-1\", \"9-2\"], \"y\": [27.0, 37.0, 29.0, 33.0, 22.0, 29.0, 26.0], \"type\": \"scatter\", \"uid\": \"abe7047e-c05b-11e8-aaaa-2c6e85b5340b\"}, {\"name\": \"\\u4e0d\\u901a\\u8fc7\\u82af\\u7247\\u6570\", \"x\": [\"8-1\", \"8-2\", \"8-3\", \"8-4\", \"8-5\", \"9-1\", \"9-2\"], \"y\": [13.0, 22.0, 20.0, 14.0, 14.0, 15.0, 8.0], \"type\": \"scatter\", \"uid\": \"abe7047f-c05b-11e8-bce4-2c6e85b5340b\"}], {\"title\": \"\\u82af\\u7247\\u603b\\u6570&\\u4e0d\\u901a\\u8fc7\\u82af\\u7247\\u6570\\u5468\\u8d8b\\u52bf\\u56fe\", \"xaxis\": {\"mirror\": \"all\", \"nticks\": 20, \"showgrid\": true, \"showline\": true, \"title\": \"\\u5468\", \"zeroline\": true}, \"yaxis\": {\"mirror\": \"all\", \"nticks\": 20, \"showgrid\": true, \"showline\": true, \"title\": \"\\u82af\\u7247\\u603b\\u6570&\\u4e0d\\u901a\\u8fc7\\u82af\\u7247\\u6570\", \"zeroline\": true}}, {\"showLink\": true, \"linkText\": \"Export to plot.ly\"})});</script>"
      ],
      "text/vnd.plotly.v1+html": [
       "<div id=\"5cd61020-57a3-4bd1-9786-ee20e2e7c8f8\" style=\"height: 525px; width: 100%;\" class=\"plotly-graph-div\"></div><script type=\"text/javascript\">require([\"plotly\"], function(Plotly) { window.PLOTLYENV=window.PLOTLYENV || {};window.PLOTLYENV.BASE_URL=\"https://plot.ly\";Plotly.newPlot(\"5cd61020-57a3-4bd1-9786-ee20e2e7c8f8\", [{\"name\": \"\\u82af\\u7247\\u603b\\u6570\", \"x\": [\"8-1\", \"8-2\", \"8-3\", \"8-4\", \"8-5\", \"9-1\", \"9-2\"], \"y\": [27.0, 37.0, 29.0, 33.0, 22.0, 29.0, 26.0], \"type\": \"scatter\", \"uid\": \"abe7047e-c05b-11e8-aaaa-2c6e85b5340b\"}, {\"name\": \"\\u4e0d\\u901a\\u8fc7\\u82af\\u7247\\u6570\", \"x\": [\"8-1\", \"8-2\", \"8-3\", \"8-4\", \"8-5\", \"9-1\", \"9-2\"], \"y\": [13.0, 22.0, 20.0, 14.0, 14.0, 15.0, 8.0], \"type\": \"scatter\", \"uid\": \"abe7047f-c05b-11e8-bce4-2c6e85b5340b\"}], {\"title\": \"\\u82af\\u7247\\u603b\\u6570&\\u4e0d\\u901a\\u8fc7\\u82af\\u7247\\u6570\\u5468\\u8d8b\\u52bf\\u56fe\", \"xaxis\": {\"mirror\": \"all\", \"nticks\": 20, \"showgrid\": true, \"showline\": true, \"title\": \"\\u5468\", \"zeroline\": true}, \"yaxis\": {\"mirror\": \"all\", \"nticks\": 20, \"showgrid\": true, \"showline\": true, \"title\": \"\\u82af\\u7247\\u603b\\u6570&\\u4e0d\\u901a\\u8fc7\\u82af\\u7247\\u6570\", \"zeroline\": true}}, {\"showLink\": true, \"linkText\": \"Export to plot.ly\"})});</script>"
      ]
     },
     "metadata": {},
     "output_type": "display_data"
    },
    {
     "data": {
      "application/vnd.plotly.v1+json": {
       "data": [
        {
         "name": "芯片总数",
         "type": "scatter",
         "uid": "ac0e5cdc-c05b-11e8-b5a0-2c6e85b5340b",
         "x": [
          "8",
          "9"
         ],
         "y": [
          148,
          55
         ]
        },
        {
         "name": "不通过芯片数",
         "type": "scatter",
         "uid": "ac0e83e8-c05b-11e8-9986-2c6e85b5340b",
         "x": [
          "8",
          "9"
         ],
         "y": [
          83,
          23
         ]
        }
       ],
       "layout": {
        "title": "芯片总数&不通过芯片数月趋势图",
        "xaxis": {
         "mirror": "all",
         "nticks": 20,
         "showgrid": true,
         "showline": true,
         "title": "月",
         "zeroline": true
        },
        "yaxis": {
         "mirror": "all",
         "nticks": 20,
         "showgrid": true,
         "showline": true,
         "title": "芯片总数&不通过芯片数",
         "zeroline": true
        }
       }
      },
      "text/html": [
       "<div id=\"cbd73be7-cbaf-49a5-ba9c-e68e3828ef10\" style=\"height: 525px; width: 100%;\" class=\"plotly-graph-div\"></div><script type=\"text/javascript\">require([\"plotly\"], function(Plotly) { window.PLOTLYENV=window.PLOTLYENV || {};window.PLOTLYENV.BASE_URL=\"https://plot.ly\";Plotly.newPlot(\"cbd73be7-cbaf-49a5-ba9c-e68e3828ef10\", [{\"name\": \"\\u82af\\u7247\\u603b\\u6570\", \"x\": [\"8\", \"9\"], \"y\": [148.0, 55.0], \"type\": \"scatter\", \"uid\": \"ac0e5cdc-c05b-11e8-b5a0-2c6e85b5340b\"}, {\"name\": \"\\u4e0d\\u901a\\u8fc7\\u82af\\u7247\\u6570\", \"x\": [\"8\", \"9\"], \"y\": [83.0, 23.0], \"type\": \"scatter\", \"uid\": \"ac0e83e8-c05b-11e8-9986-2c6e85b5340b\"}], {\"title\": \"\\u82af\\u7247\\u603b\\u6570&\\u4e0d\\u901a\\u8fc7\\u82af\\u7247\\u6570\\u6708\\u8d8b\\u52bf\\u56fe\", \"xaxis\": {\"mirror\": \"all\", \"nticks\": 20, \"showgrid\": true, \"showline\": true, \"title\": \"\\u6708\", \"zeroline\": true}, \"yaxis\": {\"mirror\": \"all\", \"nticks\": 20, \"showgrid\": true, \"showline\": true, \"title\": \"\\u82af\\u7247\\u603b\\u6570&\\u4e0d\\u901a\\u8fc7\\u82af\\u7247\\u6570\", \"zeroline\": true}}, {\"showLink\": true, \"linkText\": \"Export to plot.ly\"})});</script>"
      ],
      "text/vnd.plotly.v1+html": [
       "<div id=\"cbd73be7-cbaf-49a5-ba9c-e68e3828ef10\" style=\"height: 525px; width: 100%;\" class=\"plotly-graph-div\"></div><script type=\"text/javascript\">require([\"plotly\"], function(Plotly) { window.PLOTLYENV=window.PLOTLYENV || {};window.PLOTLYENV.BASE_URL=\"https://plot.ly\";Plotly.newPlot(\"cbd73be7-cbaf-49a5-ba9c-e68e3828ef10\", [{\"name\": \"\\u82af\\u7247\\u603b\\u6570\", \"x\": [\"8\", \"9\"], \"y\": [148.0, 55.0], \"type\": \"scatter\", \"uid\": \"ac0e5cdc-c05b-11e8-b5a0-2c6e85b5340b\"}, {\"name\": \"\\u4e0d\\u901a\\u8fc7\\u82af\\u7247\\u6570\", \"x\": [\"8\", \"9\"], \"y\": [83.0, 23.0], \"type\": \"scatter\", \"uid\": \"ac0e83e8-c05b-11e8-9986-2c6e85b5340b\"}], {\"title\": \"\\u82af\\u7247\\u603b\\u6570&\\u4e0d\\u901a\\u8fc7\\u82af\\u7247\\u6570\\u6708\\u8d8b\\u52bf\\u56fe\", \"xaxis\": {\"mirror\": \"all\", \"nticks\": 20, \"showgrid\": true, \"showline\": true, \"title\": \"\\u6708\", \"zeroline\": true}, \"yaxis\": {\"mirror\": \"all\", \"nticks\": 20, \"showgrid\": true, \"showline\": true, \"title\": \"\\u82af\\u7247\\u603b\\u6570&\\u4e0d\\u901a\\u8fc7\\u82af\\u7247\\u6570\", \"zeroline\": true}}, {\"showLink\": true, \"linkText\": \"Export to plot.ly\"})});</script>"
      ]
     },
     "metadata": {},
     "output_type": "display_data"
    }
   ],
   "source": [
    "data_dict = {'芯片总数':['芯片总数'], '不通过芯片数':['不通过芯片数']}\n",
    "myModule.plot( all_dict, data_dict, '人员', 'line', all='all')"
   ]
  },
  {
   "cell_type": "markdown",
   "metadata": {},
   "source": [
    "### 效率"
   ]
  },
  {
   "cell_type": "markdown",
   "metadata": {},
   "source": [
    "#### 不合格率"
   ]
  },
  {
   "cell_type": "code",
   "execution_count": 15,
   "metadata": {},
   "outputs": [
    {
     "data": {
      "application/vnd.plotly.v1+json": {
       "data": [
        {
         "name": "不合格率",
         "type": "scatter",
         "uid": "ac412550-c05b-11e8-af12-2c6e85b5340b",
         "x": [
          "8-1",
          "8-2",
          "8-3",
          "8-4",
          "8-5",
          "9-1",
          "9-2"
         ],
         "y": [
          0.48148148148148145,
          0.5945945945945946,
          0.6896551724137931,
          0.42424242424242425,
          0.6363636363636364,
          0.5172413793103449,
          0.3076923076923077
         ]
        }
       ],
       "layout": {
        "title": "不合格率周趋势图",
        "xaxis": {
         "mirror": "all",
         "nticks": 20,
         "showgrid": true,
         "showline": true,
         "title": "周",
         "zeroline": true
        },
        "yaxis": {
         "mirror": "all",
         "nticks": 20,
         "showgrid": true,
         "showline": true,
         "title": "不合格率",
         "zeroline": true
        }
       }
      },
      "text/html": [
       "<div id=\"22c68471-685c-4508-adf2-1219ea813d9b\" style=\"height: 525px; width: 100%;\" class=\"plotly-graph-div\"></div><script type=\"text/javascript\">require([\"plotly\"], function(Plotly) { window.PLOTLYENV=window.PLOTLYENV || {};window.PLOTLYENV.BASE_URL=\"https://plot.ly\";Plotly.newPlot(\"22c68471-685c-4508-adf2-1219ea813d9b\", [{\"name\": \"\\u4e0d\\u5408\\u683c\\u7387\", \"x\": [\"8-1\", \"8-2\", \"8-3\", \"8-4\", \"8-5\", \"9-1\", \"9-2\"], \"y\": [0.48148148148148145, 0.5945945945945946, 0.6896551724137931, 0.42424242424242425, 0.6363636363636364, 0.5172413793103449, 0.3076923076923077], \"type\": \"scatter\", \"uid\": \"ac412550-c05b-11e8-af12-2c6e85b5340b\"}], {\"title\": \"\\u4e0d\\u5408\\u683c\\u7387\\u5468\\u8d8b\\u52bf\\u56fe\", \"xaxis\": {\"mirror\": \"all\", \"nticks\": 20, \"showgrid\": true, \"showline\": true, \"title\": \"\\u5468\", \"zeroline\": true}, \"yaxis\": {\"mirror\": \"all\", \"nticks\": 20, \"showgrid\": true, \"showline\": true, \"title\": \"\\u4e0d\\u5408\\u683c\\u7387\", \"zeroline\": true}}, {\"showLink\": true, \"linkText\": \"Export to plot.ly\"})});</script>"
      ],
      "text/vnd.plotly.v1+html": [
       "<div id=\"22c68471-685c-4508-adf2-1219ea813d9b\" style=\"height: 525px; width: 100%;\" class=\"plotly-graph-div\"></div><script type=\"text/javascript\">require([\"plotly\"], function(Plotly) { window.PLOTLYENV=window.PLOTLYENV || {};window.PLOTLYENV.BASE_URL=\"https://plot.ly\";Plotly.newPlot(\"22c68471-685c-4508-adf2-1219ea813d9b\", [{\"name\": \"\\u4e0d\\u5408\\u683c\\u7387\", \"x\": [\"8-1\", \"8-2\", \"8-3\", \"8-4\", \"8-5\", \"9-1\", \"9-2\"], \"y\": [0.48148148148148145, 0.5945945945945946, 0.6896551724137931, 0.42424242424242425, 0.6363636363636364, 0.5172413793103449, 0.3076923076923077], \"type\": \"scatter\", \"uid\": \"ac412550-c05b-11e8-af12-2c6e85b5340b\"}], {\"title\": \"\\u4e0d\\u5408\\u683c\\u7387\\u5468\\u8d8b\\u52bf\\u56fe\", \"xaxis\": {\"mirror\": \"all\", \"nticks\": 20, \"showgrid\": true, \"showline\": true, \"title\": \"\\u5468\", \"zeroline\": true}, \"yaxis\": {\"mirror\": \"all\", \"nticks\": 20, \"showgrid\": true, \"showline\": true, \"title\": \"\\u4e0d\\u5408\\u683c\\u7387\", \"zeroline\": true}}, {\"showLink\": true, \"linkText\": \"Export to plot.ly\"})});</script>"
      ]
     },
     "metadata": {},
     "output_type": "display_data"
    },
    {
     "data": {
      "application/vnd.plotly.v1+json": {
       "data": [
        {
         "name": "不合格率",
         "type": "scatter",
         "uid": "ac4f7b1c-c05b-11e8-97cc-2c6e85b5340b",
         "x": [
          "8",
          "9"
         ],
         "y": [
          0.5608108108108109,
          0.41818181818181815
         ]
        }
       ],
       "layout": {
        "title": "不合格率月趋势图",
        "xaxis": {
         "mirror": "all",
         "nticks": 20,
         "showgrid": true,
         "showline": true,
         "title": "月",
         "zeroline": true
        },
        "yaxis": {
         "mirror": "all",
         "nticks": 20,
         "showgrid": true,
         "showline": true,
         "title": "不合格率",
         "zeroline": true
        }
       }
      },
      "text/html": [
       "<div id=\"c935d702-a84a-4732-91dd-641e13108e49\" style=\"height: 525px; width: 100%;\" class=\"plotly-graph-div\"></div><script type=\"text/javascript\">require([\"plotly\"], function(Plotly) { window.PLOTLYENV=window.PLOTLYENV || {};window.PLOTLYENV.BASE_URL=\"https://plot.ly\";Plotly.newPlot(\"c935d702-a84a-4732-91dd-641e13108e49\", [{\"name\": \"\\u4e0d\\u5408\\u683c\\u7387\", \"x\": [\"8\", \"9\"], \"y\": [0.5608108108108109, 0.41818181818181815], \"type\": \"scatter\", \"uid\": \"ac4f7b1c-c05b-11e8-97cc-2c6e85b5340b\"}], {\"title\": \"\\u4e0d\\u5408\\u683c\\u7387\\u6708\\u8d8b\\u52bf\\u56fe\", \"xaxis\": {\"mirror\": \"all\", \"nticks\": 20, \"showgrid\": true, \"showline\": true, \"title\": \"\\u6708\", \"zeroline\": true}, \"yaxis\": {\"mirror\": \"all\", \"nticks\": 20, \"showgrid\": true, \"showline\": true, \"title\": \"\\u4e0d\\u5408\\u683c\\u7387\", \"zeroline\": true}}, {\"showLink\": true, \"linkText\": \"Export to plot.ly\"})});</script>"
      ],
      "text/vnd.plotly.v1+html": [
       "<div id=\"c935d702-a84a-4732-91dd-641e13108e49\" style=\"height: 525px; width: 100%;\" class=\"plotly-graph-div\"></div><script type=\"text/javascript\">require([\"plotly\"], function(Plotly) { window.PLOTLYENV=window.PLOTLYENV || {};window.PLOTLYENV.BASE_URL=\"https://plot.ly\";Plotly.newPlot(\"c935d702-a84a-4732-91dd-641e13108e49\", [{\"name\": \"\\u4e0d\\u5408\\u683c\\u7387\", \"x\": [\"8\", \"9\"], \"y\": [0.5608108108108109, 0.41818181818181815], \"type\": \"scatter\", \"uid\": \"ac4f7b1c-c05b-11e8-97cc-2c6e85b5340b\"}], {\"title\": \"\\u4e0d\\u5408\\u683c\\u7387\\u6708\\u8d8b\\u52bf\\u56fe\", \"xaxis\": {\"mirror\": \"all\", \"nticks\": 20, \"showgrid\": true, \"showline\": true, \"title\": \"\\u6708\", \"zeroline\": true}, \"yaxis\": {\"mirror\": \"all\", \"nticks\": 20, \"showgrid\": true, \"showline\": true, \"title\": \"\\u4e0d\\u5408\\u683c\\u7387\", \"zeroline\": true}}, {\"showLink\": true, \"linkText\": \"Export to plot.ly\"})});</script>"
      ]
     },
     "metadata": {},
     "output_type": "display_data"
    }
   ],
   "source": [
    "data_dict = {'不合格率':['不通过芯片数', '芯片总数']}\n",
    "myModule.plot( all_dict, data_dict, '人员' ,  'line' , all='all')"
   ]
  },
  {
   "cell_type": "markdown",
   "metadata": {},
   "source": [
    "#### 通过率情况"
   ]
  },
  {
   "cell_type": "code",
   "execution_count": 16,
   "metadata": {
    "scrolled": false
   },
   "outputs": [
    {
     "data": {
      "application/vnd.plotly.v1+json": {
       "data": [
        {
         "name": "8h通过率",
         "type": "scatter",
         "uid": "ac885d06-c05b-11e8-bd47-2c6e85b5340b",
         "x": [
          "8-1",
          "8-2",
          "8-3",
          "8-4",
          "8-5",
          "9-1",
          "9-2"
         ],
         "y": [
          0.3333333333333333,
          0.40540540540540543,
          0.5517241379310345,
          0.6060606060606061,
          0.5,
          0.6206896551724138,
          0.6538461538461539
         ]
        },
        {
         "name": "24h通过率",
         "type": "scatter",
         "uid": "ac885d07-c05b-11e8-87d3-2c6e85b5340b",
         "x": [
          "8-1",
          "8-2",
          "8-3",
          "8-4",
          "8-5",
          "9-1",
          "9-2"
         ],
         "y": [
          0.6296296296296297,
          0.5135135135135135,
          0.7586206896551724,
          0.8484848484848485,
          0.7272727272727273,
          0.7931034482758621,
          0.6923076923076923
         ]
        },
        {
         "name": "48h通过率",
         "type": "scatter",
         "uid": "ac885d08-c05b-11e8-b678-2c6e85b5340b",
         "x": [
          "8-1",
          "8-2",
          "8-3",
          "8-4",
          "8-5",
          "9-1",
          "9-2"
         ],
         "y": [
          0.8518518518518519,
          0.7567567567567568,
          0.896551724137931,
          0.9393939393939394,
          0.8636363636363636,
          0.896551724137931,
          0.8461538461538461
         ]
        }
       ],
       "layout": {
        "title": "8h通过率&24h通过率&48h通过率周趋势图",
        "xaxis": {
         "mirror": "all",
         "nticks": 20,
         "showgrid": true,
         "showline": true,
         "title": "周",
         "zeroline": true
        },
        "yaxis": {
         "mirror": "all",
         "nticks": 20,
         "showgrid": true,
         "showline": true,
         "title": "8h通过率&24h通过率&48h通过率",
         "zeroline": true
        }
       }
      },
      "text/html": [
       "<div id=\"9aa500e6-6e4a-4137-9fb6-06f270cb73d5\" style=\"height: 525px; width: 100%;\" class=\"plotly-graph-div\"></div><script type=\"text/javascript\">require([\"plotly\"], function(Plotly) { window.PLOTLYENV=window.PLOTLYENV || {};window.PLOTLYENV.BASE_URL=\"https://plot.ly\";Plotly.newPlot(\"9aa500e6-6e4a-4137-9fb6-06f270cb73d5\", [{\"name\": \"8h\\u901a\\u8fc7\\u7387\", \"x\": [\"8-1\", \"8-2\", \"8-3\", \"8-4\", \"8-5\", \"9-1\", \"9-2\"], \"y\": [0.3333333333333333, 0.40540540540540543, 0.5517241379310345, 0.6060606060606061, 0.5, 0.6206896551724138, 0.6538461538461539], \"type\": \"scatter\", \"uid\": \"ac885d06-c05b-11e8-bd47-2c6e85b5340b\"}, {\"name\": \"24h\\u901a\\u8fc7\\u7387\", \"x\": [\"8-1\", \"8-2\", \"8-3\", \"8-4\", \"8-5\", \"9-1\", \"9-2\"], \"y\": [0.6296296296296297, 0.5135135135135135, 0.7586206896551724, 0.8484848484848485, 0.7272727272727273, 0.7931034482758621, 0.6923076923076923], \"type\": \"scatter\", \"uid\": \"ac885d07-c05b-11e8-87d3-2c6e85b5340b\"}, {\"name\": \"48h\\u901a\\u8fc7\\u7387\", \"x\": [\"8-1\", \"8-2\", \"8-3\", \"8-4\", \"8-5\", \"9-1\", \"9-2\"], \"y\": [0.8518518518518519, 0.7567567567567568, 0.896551724137931, 0.9393939393939394, 0.8636363636363636, 0.896551724137931, 0.8461538461538461], \"type\": \"scatter\", \"uid\": \"ac885d08-c05b-11e8-b678-2c6e85b5340b\"}], {\"title\": \"8h\\u901a\\u8fc7\\u7387&24h\\u901a\\u8fc7\\u7387&48h\\u901a\\u8fc7\\u7387\\u5468\\u8d8b\\u52bf\\u56fe\", \"xaxis\": {\"mirror\": \"all\", \"nticks\": 20, \"showgrid\": true, \"showline\": true, \"title\": \"\\u5468\", \"zeroline\": true}, \"yaxis\": {\"mirror\": \"all\", \"nticks\": 20, \"showgrid\": true, \"showline\": true, \"title\": \"8h\\u901a\\u8fc7\\u7387&24h\\u901a\\u8fc7\\u7387&48h\\u901a\\u8fc7\\u7387\", \"zeroline\": true}}, {\"showLink\": true, \"linkText\": \"Export to plot.ly\"})});</script>"
      ],
      "text/vnd.plotly.v1+html": [
       "<div id=\"9aa500e6-6e4a-4137-9fb6-06f270cb73d5\" style=\"height: 525px; width: 100%;\" class=\"plotly-graph-div\"></div><script type=\"text/javascript\">require([\"plotly\"], function(Plotly) { window.PLOTLYENV=window.PLOTLYENV || {};window.PLOTLYENV.BASE_URL=\"https://plot.ly\";Plotly.newPlot(\"9aa500e6-6e4a-4137-9fb6-06f270cb73d5\", [{\"name\": \"8h\\u901a\\u8fc7\\u7387\", \"x\": [\"8-1\", \"8-2\", \"8-3\", \"8-4\", \"8-5\", \"9-1\", \"9-2\"], \"y\": [0.3333333333333333, 0.40540540540540543, 0.5517241379310345, 0.6060606060606061, 0.5, 0.6206896551724138, 0.6538461538461539], \"type\": \"scatter\", \"uid\": \"ac885d06-c05b-11e8-bd47-2c6e85b5340b\"}, {\"name\": \"24h\\u901a\\u8fc7\\u7387\", \"x\": [\"8-1\", \"8-2\", \"8-3\", \"8-4\", \"8-5\", \"9-1\", \"9-2\"], \"y\": [0.6296296296296297, 0.5135135135135135, 0.7586206896551724, 0.8484848484848485, 0.7272727272727273, 0.7931034482758621, 0.6923076923076923], \"type\": \"scatter\", \"uid\": \"ac885d07-c05b-11e8-87d3-2c6e85b5340b\"}, {\"name\": \"48h\\u901a\\u8fc7\\u7387\", \"x\": [\"8-1\", \"8-2\", \"8-3\", \"8-4\", \"8-5\", \"9-1\", \"9-2\"], \"y\": [0.8518518518518519, 0.7567567567567568, 0.896551724137931, 0.9393939393939394, 0.8636363636363636, 0.896551724137931, 0.8461538461538461], \"type\": \"scatter\", \"uid\": \"ac885d08-c05b-11e8-b678-2c6e85b5340b\"}], {\"title\": \"8h\\u901a\\u8fc7\\u7387&24h\\u901a\\u8fc7\\u7387&48h\\u901a\\u8fc7\\u7387\\u5468\\u8d8b\\u52bf\\u56fe\", \"xaxis\": {\"mirror\": \"all\", \"nticks\": 20, \"showgrid\": true, \"showline\": true, \"title\": \"\\u5468\", \"zeroline\": true}, \"yaxis\": {\"mirror\": \"all\", \"nticks\": 20, \"showgrid\": true, \"showline\": true, \"title\": \"8h\\u901a\\u8fc7\\u7387&24h\\u901a\\u8fc7\\u7387&48h\\u901a\\u8fc7\\u7387\", \"zeroline\": true}}, {\"showLink\": true, \"linkText\": \"Export to plot.ly\"})});</script>"
      ]
     },
     "metadata": {},
     "output_type": "display_data"
    },
    {
     "data": {
      "application/vnd.plotly.v1+json": {
       "data": [
        {
         "name": "8h通过率",
         "type": "scatter",
         "uid": "ac9b6cf4-c05b-11e8-9007-2c6e85b5340b",
         "x": [
          "8",
          "9"
         ],
         "y": [
          0.4797297297297297,
          0.6363636363636364
         ]
        },
        {
         "name": "24h通过率",
         "type": "scatter",
         "uid": "ac9b6cf5-c05b-11e8-8801-2c6e85b5340b",
         "x": [
          "8",
          "9"
         ],
         "y": [
          0.6891891891891891,
          0.7454545454545455
         ]
        },
        {
         "name": "48h通过率",
         "type": "scatter",
         "uid": "ac9b6cf6-c05b-11e8-9bb3-2c6e85b5340b",
         "x": [
          "8",
          "9"
         ],
         "y": [
          0.8581081081081081,
          0.8727272727272727
         ]
        }
       ],
       "layout": {
        "title": "8h通过率&24h通过率&48h通过率月趋势图",
        "xaxis": {
         "mirror": "all",
         "nticks": 20,
         "showgrid": true,
         "showline": true,
         "title": "月",
         "zeroline": true
        },
        "yaxis": {
         "mirror": "all",
         "nticks": 20,
         "showgrid": true,
         "showline": true,
         "title": "8h通过率&24h通过率&48h通过率",
         "zeroline": true
        }
       }
      },
      "text/html": [
       "<div id=\"cb08fa6d-ad90-4c3e-b8ff-c45516dfa0da\" style=\"height: 525px; width: 100%;\" class=\"plotly-graph-div\"></div><script type=\"text/javascript\">require([\"plotly\"], function(Plotly) { window.PLOTLYENV=window.PLOTLYENV || {};window.PLOTLYENV.BASE_URL=\"https://plot.ly\";Plotly.newPlot(\"cb08fa6d-ad90-4c3e-b8ff-c45516dfa0da\", [{\"name\": \"8h\\u901a\\u8fc7\\u7387\", \"x\": [\"8\", \"9\"], \"y\": [0.4797297297297297, 0.6363636363636364], \"type\": \"scatter\", \"uid\": \"ac9b6cf4-c05b-11e8-9007-2c6e85b5340b\"}, {\"name\": \"24h\\u901a\\u8fc7\\u7387\", \"x\": [\"8\", \"9\"], \"y\": [0.6891891891891891, 0.7454545454545455], \"type\": \"scatter\", \"uid\": \"ac9b6cf5-c05b-11e8-8801-2c6e85b5340b\"}, {\"name\": \"48h\\u901a\\u8fc7\\u7387\", \"x\": [\"8\", \"9\"], \"y\": [0.8581081081081081, 0.8727272727272727], \"type\": \"scatter\", \"uid\": \"ac9b6cf6-c05b-11e8-9bb3-2c6e85b5340b\"}], {\"title\": \"8h\\u901a\\u8fc7\\u7387&24h\\u901a\\u8fc7\\u7387&48h\\u901a\\u8fc7\\u7387\\u6708\\u8d8b\\u52bf\\u56fe\", \"xaxis\": {\"mirror\": \"all\", \"nticks\": 20, \"showgrid\": true, \"showline\": true, \"title\": \"\\u6708\", \"zeroline\": true}, \"yaxis\": {\"mirror\": \"all\", \"nticks\": 20, \"showgrid\": true, \"showline\": true, \"title\": \"8h\\u901a\\u8fc7\\u7387&24h\\u901a\\u8fc7\\u7387&48h\\u901a\\u8fc7\\u7387\", \"zeroline\": true}}, {\"showLink\": true, \"linkText\": \"Export to plot.ly\"})});</script>"
      ],
      "text/vnd.plotly.v1+html": [
       "<div id=\"cb08fa6d-ad90-4c3e-b8ff-c45516dfa0da\" style=\"height: 525px; width: 100%;\" class=\"plotly-graph-div\"></div><script type=\"text/javascript\">require([\"plotly\"], function(Plotly) { window.PLOTLYENV=window.PLOTLYENV || {};window.PLOTLYENV.BASE_URL=\"https://plot.ly\";Plotly.newPlot(\"cb08fa6d-ad90-4c3e-b8ff-c45516dfa0da\", [{\"name\": \"8h\\u901a\\u8fc7\\u7387\", \"x\": [\"8\", \"9\"], \"y\": [0.4797297297297297, 0.6363636363636364], \"type\": \"scatter\", \"uid\": \"ac9b6cf4-c05b-11e8-9007-2c6e85b5340b\"}, {\"name\": \"24h\\u901a\\u8fc7\\u7387\", \"x\": [\"8\", \"9\"], \"y\": [0.6891891891891891, 0.7454545454545455], \"type\": \"scatter\", \"uid\": \"ac9b6cf5-c05b-11e8-8801-2c6e85b5340b\"}, {\"name\": \"48h\\u901a\\u8fc7\\u7387\", \"x\": [\"8\", \"9\"], \"y\": [0.8581081081081081, 0.8727272727272727], \"type\": \"scatter\", \"uid\": \"ac9b6cf6-c05b-11e8-9bb3-2c6e85b5340b\"}], {\"title\": \"8h\\u901a\\u8fc7\\u7387&24h\\u901a\\u8fc7\\u7387&48h\\u901a\\u8fc7\\u7387\\u6708\\u8d8b\\u52bf\\u56fe\", \"xaxis\": {\"mirror\": \"all\", \"nticks\": 20, \"showgrid\": true, \"showline\": true, \"title\": \"\\u6708\", \"zeroline\": true}, \"yaxis\": {\"mirror\": \"all\", \"nticks\": 20, \"showgrid\": true, \"showline\": true, \"title\": \"8h\\u901a\\u8fc7\\u7387&24h\\u901a\\u8fc7\\u7387&48h\\u901a\\u8fc7\\u7387\", \"zeroline\": true}}, {\"showLink\": true, \"linkText\": \"Export to plot.ly\"})});</script>"
      ]
     },
     "metadata": {},
     "output_type": "display_data"
    }
   ],
   "source": [
    "#data_dict = {'8h通过率':['8h通过芯片数', '芯片总数'], '24h通过率':['24h通过芯片数', '芯片总数'], \n",
    "             #'48h通过率':['48h通过芯片数', '芯片总数'], '24h通过率标线':['24h通过率标线'], '48h通过率标线':['48h通过率标线']}\n",
    "data_dict = {'8h通过率':['8h通过芯片数', '芯片总数'], '24h通过率':['24h通过芯片数', '芯片总数'], '48h通过率':['48h通过芯片数', '芯片总数']}\n",
    "myModule.plot( all_dict, data_dict, '人员' ,  'line' ,  all='all')"
   ]
  },
  {
   "cell_type": "markdown",
   "metadata": {},
   "source": [
    "#### 平均通过时长，一次通过平均时长，非一次通过平均时长，通过时长Q80"
   ]
  },
  {
   "cell_type": "code",
   "execution_count": 17,
   "metadata": {
    "scrolled": false
   },
   "outputs": [
    {
     "data": {
      "application/vnd.plotly.v1+json": {
       "data": [
        {
         "name": "平均通过时长",
         "type": "scatter",
         "uid": "acc9a242-c05b-11e8-9a70-2c6e85b5340b",
         "x": [
          "8-1",
          "8-2",
          "8-3",
          "8-4",
          "8-5",
          "9-1",
          "9-2"
         ],
         "y": [
          21.03,
          32.65,
          16.84,
          10.54,
          23.82,
          15.1,
          22.28
         ]
        },
        {
         "name": "一次通过平均时长",
         "type": "scatter",
         "uid": "acc9a243-c05b-11e8-8442-2c6e85b5340b",
         "x": [
          "8-1",
          "8-2",
          "8-3",
          "8-4",
          "8-5",
          "9-1",
          "9-2"
         ],
         "y": [
          11.95,
          6.68,
          3.81,
          5.41,
          3.11,
          2.07,
          6.43
         ]
        },
        {
         "name": "非一次通过平均时长",
         "type": "scatter",
         "uid": "acc9a244-c05b-11e8-a7ec-2c6e85b5340b",
         "x": [
          "8-1",
          "8-2",
          "8-3",
          "8-4",
          "8-5",
          "9-1",
          "9-2"
         ],
         "y": [
          30.81,
          50.36,
          22.7,
          20.81,
          35.65,
          24.46,
          37.75
         ]
        },
        {
         "name": "通过时长Q80",
         "type": "scatter",
         "uid": "acc9a245-c05b-11e8-a942-2c6e85b5340b",
         "x": [
          "8-1",
          "8-2",
          "8-3",
          "8-4",
          "8-5",
          "9-1",
          "9-2"
         ],
         "y": [
          35.07,
          59.13,
          33.87,
          27.27,
          29.73,
          24.2,
          31.5
         ]
        }
       ],
       "layout": {
        "title": "平均通过时长&一次通过平均时长&非一次通过平均时长&通过时长Q80周趋势图",
        "xaxis": {
         "mirror": "all",
         "nticks": 20,
         "showgrid": true,
         "showline": true,
         "title": "周",
         "zeroline": true
        },
        "yaxis": {
         "mirror": "all",
         "nticks": 20,
         "showgrid": true,
         "showline": true,
         "title": "平均通过时长&一次通过平均时长&非一次通过平均时长&通过时长Q80",
         "zeroline": true
        }
       }
      },
      "text/html": [
       "<div id=\"f93aa700-a5a1-40ab-9fee-34157c5418aa\" style=\"height: 525px; width: 100%;\" class=\"plotly-graph-div\"></div><script type=\"text/javascript\">require([\"plotly\"], function(Plotly) { window.PLOTLYENV=window.PLOTLYENV || {};window.PLOTLYENV.BASE_URL=\"https://plot.ly\";Plotly.newPlot(\"f93aa700-a5a1-40ab-9fee-34157c5418aa\", [{\"name\": \"\\u5e73\\u5747\\u901a\\u8fc7\\u65f6\\u957f\", \"x\": [\"8-1\", \"8-2\", \"8-3\", \"8-4\", \"8-5\", \"9-1\", \"9-2\"], \"y\": [21.03, 32.65, 16.84, 10.54, 23.82, 15.1, 22.28], \"type\": \"scatter\", \"uid\": \"acc9a242-c05b-11e8-9a70-2c6e85b5340b\"}, {\"name\": \"\\u4e00\\u6b21\\u901a\\u8fc7\\u5e73\\u5747\\u65f6\\u957f\", \"x\": [\"8-1\", \"8-2\", \"8-3\", \"8-4\", \"8-5\", \"9-1\", \"9-2\"], \"y\": [11.95, 6.68, 3.81, 5.41, 3.11, 2.07, 6.43], \"type\": \"scatter\", \"uid\": \"acc9a243-c05b-11e8-8442-2c6e85b5340b\"}, {\"name\": \"\\u975e\\u4e00\\u6b21\\u901a\\u8fc7\\u5e73\\u5747\\u65f6\\u957f\", \"x\": [\"8-1\", \"8-2\", \"8-3\", \"8-4\", \"8-5\", \"9-1\", \"9-2\"], \"y\": [30.81, 50.36, 22.7, 20.81, 35.65, 24.46, 37.75], \"type\": \"scatter\", \"uid\": \"acc9a244-c05b-11e8-a7ec-2c6e85b5340b\"}, {\"name\": \"\\u901a\\u8fc7\\u65f6\\u957fQ80\", \"x\": [\"8-1\", \"8-2\", \"8-3\", \"8-4\", \"8-5\", \"9-1\", \"9-2\"], \"y\": [35.07, 59.13, 33.87, 27.27, 29.73, 24.2, 31.5], \"type\": \"scatter\", \"uid\": \"acc9a245-c05b-11e8-a942-2c6e85b5340b\"}], {\"title\": \"\\u5e73\\u5747\\u901a\\u8fc7\\u65f6\\u957f&\\u4e00\\u6b21\\u901a\\u8fc7\\u5e73\\u5747\\u65f6\\u957f&\\u975e\\u4e00\\u6b21\\u901a\\u8fc7\\u5e73\\u5747\\u65f6\\u957f&\\u901a\\u8fc7\\u65f6\\u957fQ80\\u5468\\u8d8b\\u52bf\\u56fe\", \"xaxis\": {\"mirror\": \"all\", \"nticks\": 20, \"showgrid\": true, \"showline\": true, \"title\": \"\\u5468\", \"zeroline\": true}, \"yaxis\": {\"mirror\": \"all\", \"nticks\": 20, \"showgrid\": true, \"showline\": true, \"title\": \"\\u5e73\\u5747\\u901a\\u8fc7\\u65f6\\u957f&\\u4e00\\u6b21\\u901a\\u8fc7\\u5e73\\u5747\\u65f6\\u957f&\\u975e\\u4e00\\u6b21\\u901a\\u8fc7\\u5e73\\u5747\\u65f6\\u957f&\\u901a\\u8fc7\\u65f6\\u957fQ80\", \"zeroline\": true}}, {\"showLink\": true, \"linkText\": \"Export to plot.ly\"})});</script>"
      ],
      "text/vnd.plotly.v1+html": [
       "<div id=\"f93aa700-a5a1-40ab-9fee-34157c5418aa\" style=\"height: 525px; width: 100%;\" class=\"plotly-graph-div\"></div><script type=\"text/javascript\">require([\"plotly\"], function(Plotly) { window.PLOTLYENV=window.PLOTLYENV || {};window.PLOTLYENV.BASE_URL=\"https://plot.ly\";Plotly.newPlot(\"f93aa700-a5a1-40ab-9fee-34157c5418aa\", [{\"name\": \"\\u5e73\\u5747\\u901a\\u8fc7\\u65f6\\u957f\", \"x\": [\"8-1\", \"8-2\", \"8-3\", \"8-4\", \"8-5\", \"9-1\", \"9-2\"], \"y\": [21.03, 32.65, 16.84, 10.54, 23.82, 15.1, 22.28], \"type\": \"scatter\", \"uid\": \"acc9a242-c05b-11e8-9a70-2c6e85b5340b\"}, {\"name\": \"\\u4e00\\u6b21\\u901a\\u8fc7\\u5e73\\u5747\\u65f6\\u957f\", \"x\": [\"8-1\", \"8-2\", \"8-3\", \"8-4\", \"8-5\", \"9-1\", \"9-2\"], \"y\": [11.95, 6.68, 3.81, 5.41, 3.11, 2.07, 6.43], \"type\": \"scatter\", \"uid\": \"acc9a243-c05b-11e8-8442-2c6e85b5340b\"}, {\"name\": \"\\u975e\\u4e00\\u6b21\\u901a\\u8fc7\\u5e73\\u5747\\u65f6\\u957f\", \"x\": [\"8-1\", \"8-2\", \"8-3\", \"8-4\", \"8-5\", \"9-1\", \"9-2\"], \"y\": [30.81, 50.36, 22.7, 20.81, 35.65, 24.46, 37.75], \"type\": \"scatter\", \"uid\": \"acc9a244-c05b-11e8-a7ec-2c6e85b5340b\"}, {\"name\": \"\\u901a\\u8fc7\\u65f6\\u957fQ80\", \"x\": [\"8-1\", \"8-2\", \"8-3\", \"8-4\", \"8-5\", \"9-1\", \"9-2\"], \"y\": [35.07, 59.13, 33.87, 27.27, 29.73, 24.2, 31.5], \"type\": \"scatter\", \"uid\": \"acc9a245-c05b-11e8-a942-2c6e85b5340b\"}], {\"title\": \"\\u5e73\\u5747\\u901a\\u8fc7\\u65f6\\u957f&\\u4e00\\u6b21\\u901a\\u8fc7\\u5e73\\u5747\\u65f6\\u957f&\\u975e\\u4e00\\u6b21\\u901a\\u8fc7\\u5e73\\u5747\\u65f6\\u957f&\\u901a\\u8fc7\\u65f6\\u957fQ80\\u5468\\u8d8b\\u52bf\\u56fe\", \"xaxis\": {\"mirror\": \"all\", \"nticks\": 20, \"showgrid\": true, \"showline\": true, \"title\": \"\\u5468\", \"zeroline\": true}, \"yaxis\": {\"mirror\": \"all\", \"nticks\": 20, \"showgrid\": true, \"showline\": true, \"title\": \"\\u5e73\\u5747\\u901a\\u8fc7\\u65f6\\u957f&\\u4e00\\u6b21\\u901a\\u8fc7\\u5e73\\u5747\\u65f6\\u957f&\\u975e\\u4e00\\u6b21\\u901a\\u8fc7\\u5e73\\u5747\\u65f6\\u957f&\\u901a\\u8fc7\\u65f6\\u957fQ80\", \"zeroline\": true}}, {\"showLink\": true, \"linkText\": \"Export to plot.ly\"})});</script>"
      ]
     },
     "metadata": {},
     "output_type": "display_data"
    },
    {
     "data": {
      "application/vnd.plotly.v1+json": {
       "data": [
        {
         "name": "平均通过时长",
         "type": "scatter",
         "uid": "acde118a-c05b-11e8-a71e-2c6e85b5340b",
         "x": [
          "8",
          "9"
         ],
         "y": [
          104.88,
          37.38
         ]
        },
        {
         "name": "一次通过平均时长",
         "type": "scatter",
         "uid": "acde118b-c05b-11e8-a301-2c6e85b5340b",
         "x": [
          "8",
          "9"
         ],
         "y": [
          30.959999999999997,
          8.5
         ]
        },
        {
         "name": "非一次通过平均时长",
         "type": "scatter",
         "uid": "acde118c-c05b-11e8-8b38-2c6e85b5340b",
         "x": [
          "8",
          "9"
         ],
         "y": [
          160.33,
          62.21
         ]
        },
        {
         "name": "通过时长Q80",
         "type": "scatter",
         "uid": "acde118d-c05b-11e8-925b-2c6e85b5340b",
         "x": [
          "8",
          "9"
         ],
         "y": [
          185.07,
          55.7
         ]
        }
       ],
       "layout": {
        "title": "平均通过时长&一次通过平均时长&非一次通过平均时长&通过时长Q80月趋势图",
        "xaxis": {
         "mirror": "all",
         "nticks": 20,
         "showgrid": true,
         "showline": true,
         "title": "月",
         "zeroline": true
        },
        "yaxis": {
         "mirror": "all",
         "nticks": 20,
         "showgrid": true,
         "showline": true,
         "title": "平均通过时长&一次通过平均时长&非一次通过平均时长&通过时长Q80",
         "zeroline": true
        }
       }
      },
      "text/html": [
       "<div id=\"31f5ecd0-3ea5-4b60-a910-2de53f11f425\" style=\"height: 525px; width: 100%;\" class=\"plotly-graph-div\"></div><script type=\"text/javascript\">require([\"plotly\"], function(Plotly) { window.PLOTLYENV=window.PLOTLYENV || {};window.PLOTLYENV.BASE_URL=\"https://plot.ly\";Plotly.newPlot(\"31f5ecd0-3ea5-4b60-a910-2de53f11f425\", [{\"name\": \"\\u5e73\\u5747\\u901a\\u8fc7\\u65f6\\u957f\", \"x\": [\"8\", \"9\"], \"y\": [104.88, 37.38], \"type\": \"scatter\", \"uid\": \"acde118a-c05b-11e8-a71e-2c6e85b5340b\"}, {\"name\": \"\\u4e00\\u6b21\\u901a\\u8fc7\\u5e73\\u5747\\u65f6\\u957f\", \"x\": [\"8\", \"9\"], \"y\": [30.959999999999997, 8.5], \"type\": \"scatter\", \"uid\": \"acde118b-c05b-11e8-a301-2c6e85b5340b\"}, {\"name\": \"\\u975e\\u4e00\\u6b21\\u901a\\u8fc7\\u5e73\\u5747\\u65f6\\u957f\", \"x\": [\"8\", \"9\"], \"y\": [160.33, 62.21], \"type\": \"scatter\", \"uid\": \"acde118c-c05b-11e8-8b38-2c6e85b5340b\"}, {\"name\": \"\\u901a\\u8fc7\\u65f6\\u957fQ80\", \"x\": [\"8\", \"9\"], \"y\": [185.07, 55.7], \"type\": \"scatter\", \"uid\": \"acde118d-c05b-11e8-925b-2c6e85b5340b\"}], {\"title\": \"\\u5e73\\u5747\\u901a\\u8fc7\\u65f6\\u957f&\\u4e00\\u6b21\\u901a\\u8fc7\\u5e73\\u5747\\u65f6\\u957f&\\u975e\\u4e00\\u6b21\\u901a\\u8fc7\\u5e73\\u5747\\u65f6\\u957f&\\u901a\\u8fc7\\u65f6\\u957fQ80\\u6708\\u8d8b\\u52bf\\u56fe\", \"xaxis\": {\"mirror\": \"all\", \"nticks\": 20, \"showgrid\": true, \"showline\": true, \"title\": \"\\u6708\", \"zeroline\": true}, \"yaxis\": {\"mirror\": \"all\", \"nticks\": 20, \"showgrid\": true, \"showline\": true, \"title\": \"\\u5e73\\u5747\\u901a\\u8fc7\\u65f6\\u957f&\\u4e00\\u6b21\\u901a\\u8fc7\\u5e73\\u5747\\u65f6\\u957f&\\u975e\\u4e00\\u6b21\\u901a\\u8fc7\\u5e73\\u5747\\u65f6\\u957f&\\u901a\\u8fc7\\u65f6\\u957fQ80\", \"zeroline\": true}}, {\"showLink\": true, \"linkText\": \"Export to plot.ly\"})});</script>"
      ],
      "text/vnd.plotly.v1+html": [
       "<div id=\"31f5ecd0-3ea5-4b60-a910-2de53f11f425\" style=\"height: 525px; width: 100%;\" class=\"plotly-graph-div\"></div><script type=\"text/javascript\">require([\"plotly\"], function(Plotly) { window.PLOTLYENV=window.PLOTLYENV || {};window.PLOTLYENV.BASE_URL=\"https://plot.ly\";Plotly.newPlot(\"31f5ecd0-3ea5-4b60-a910-2de53f11f425\", [{\"name\": \"\\u5e73\\u5747\\u901a\\u8fc7\\u65f6\\u957f\", \"x\": [\"8\", \"9\"], \"y\": [104.88, 37.38], \"type\": \"scatter\", \"uid\": \"acde118a-c05b-11e8-a71e-2c6e85b5340b\"}, {\"name\": \"\\u4e00\\u6b21\\u901a\\u8fc7\\u5e73\\u5747\\u65f6\\u957f\", \"x\": [\"8\", \"9\"], \"y\": [30.959999999999997, 8.5], \"type\": \"scatter\", \"uid\": \"acde118b-c05b-11e8-a301-2c6e85b5340b\"}, {\"name\": \"\\u975e\\u4e00\\u6b21\\u901a\\u8fc7\\u5e73\\u5747\\u65f6\\u957f\", \"x\": [\"8\", \"9\"], \"y\": [160.33, 62.21], \"type\": \"scatter\", \"uid\": \"acde118c-c05b-11e8-8b38-2c6e85b5340b\"}, {\"name\": \"\\u901a\\u8fc7\\u65f6\\u957fQ80\", \"x\": [\"8\", \"9\"], \"y\": [185.07, 55.7], \"type\": \"scatter\", \"uid\": \"acde118d-c05b-11e8-925b-2c6e85b5340b\"}], {\"title\": \"\\u5e73\\u5747\\u901a\\u8fc7\\u65f6\\u957f&\\u4e00\\u6b21\\u901a\\u8fc7\\u5e73\\u5747\\u65f6\\u957f&\\u975e\\u4e00\\u6b21\\u901a\\u8fc7\\u5e73\\u5747\\u65f6\\u957f&\\u901a\\u8fc7\\u65f6\\u957fQ80\\u6708\\u8d8b\\u52bf\\u56fe\", \"xaxis\": {\"mirror\": \"all\", \"nticks\": 20, \"showgrid\": true, \"showline\": true, \"title\": \"\\u6708\", \"zeroline\": true}, \"yaxis\": {\"mirror\": \"all\", \"nticks\": 20, \"showgrid\": true, \"showline\": true, \"title\": \"\\u5e73\\u5747\\u901a\\u8fc7\\u65f6\\u957f&\\u4e00\\u6b21\\u901a\\u8fc7\\u5e73\\u5747\\u65f6\\u957f&\\u975e\\u4e00\\u6b21\\u901a\\u8fc7\\u5e73\\u5747\\u65f6\\u957f&\\u901a\\u8fc7\\u65f6\\u957fQ80\", \"zeroline\": true}}, {\"showLink\": true, \"linkText\": \"Export to plot.ly\"})});</script>"
      ]
     },
     "metadata": {},
     "output_type": "display_data"
    }
   ],
   "source": [
    "data_dict = {'平均通过时长':['平均通过时长'], '一次通过平均时长':['一次通过平均时长'], \n",
    "             '非一次通过平均时长':['非一次通过平均时长'],'通过时长Q80':['通过时长Q80']}\n",
    "myModule.plot( all_dict, data_dict, '人员' ,  'line' , all='all')"
   ]
  },
  {
   "cell_type": "markdown",
   "metadata": {},
   "source": [
    "#### 一次通过平均时长，xten一次通过时长，NovaS4一次通过时长"
   ]
  },
  {
   "cell_type": "code",
   "execution_count": 18,
   "metadata": {
    "scrolled": false
   },
   "outputs": [
    {
     "data": {
      "application/vnd.plotly.v1+json": {
       "data": [
        {
         "name": "一次通过平均时长",
         "type": "scatter",
         "uid": "ad3b6618-c05b-11e8-af66-2c6e85b5340b",
         "x": [
          "8-1",
          "8-2",
          "8-3",
          "8-4",
          "8-5",
          "9-1",
          "9-2"
         ],
         "y": [
          11.95,
          6.68,
          3.81,
          5.41,
          3.11,
          2.07,
          6.43
         ]
        },
        {
         "name": "xten一次通过时长",
         "type": "scatter",
         "uid": "ad3b8d24-c05b-11e8-b730-2c6e85b5340b",
         "x": [
          "8-1",
          "8-2",
          "8-3",
          "8-4",
          "8-5",
          "9-1",
          "9-2"
         ],
         "y": [
          5.74,
          6.69,
          3.34,
          3.78,
          2.97,
          3.58,
          4.77
         ]
        },
        {
         "name": "NovaS4一次通过时长",
         "type": "scatter",
         "uid": "ad3b8d25-c05b-11e8-885a-2c6e85b5340b",
         "x": [
          "8-1",
          "8-2",
          "8-3",
          "8-4",
          "8-5",
          "9-1",
          "9-2"
         ],
         "y": [
          13.29,
          4.73,
          10.54,
          10.54,
          0,
          14.88,
          9.9
         ]
        }
       ],
       "layout": {
        "title": "一次通过平均时长&xten一次通过时长&NovaS4一次通过时长周趋势图",
        "xaxis": {
         "mirror": "all",
         "nticks": 20,
         "showgrid": true,
         "showline": true,
         "title": "周",
         "zeroline": true
        },
        "yaxis": {
         "mirror": "all",
         "nticks": 20,
         "showgrid": true,
         "showline": true,
         "title": "一次通过平均时长&xten一次通过时长&NovaS4一次通过时长",
         "zeroline": true
        }
       }
      },
      "text/html": [
       "<div id=\"b28cfdd7-81b6-4230-8470-e46c5a72bd8b\" style=\"height: 525px; width: 100%;\" class=\"plotly-graph-div\"></div><script type=\"text/javascript\">require([\"plotly\"], function(Plotly) { window.PLOTLYENV=window.PLOTLYENV || {};window.PLOTLYENV.BASE_URL=\"https://plot.ly\";Plotly.newPlot(\"b28cfdd7-81b6-4230-8470-e46c5a72bd8b\", [{\"name\": \"\\u4e00\\u6b21\\u901a\\u8fc7\\u5e73\\u5747\\u65f6\\u957f\", \"x\": [\"8-1\", \"8-2\", \"8-3\", \"8-4\", \"8-5\", \"9-1\", \"9-2\"], \"y\": [11.95, 6.68, 3.81, 5.41, 3.11, 2.07, 6.43], \"type\": \"scatter\", \"uid\": \"ad3b6618-c05b-11e8-af66-2c6e85b5340b\"}, {\"name\": \"xten\\u4e00\\u6b21\\u901a\\u8fc7\\u65f6\\u957f\", \"x\": [\"8-1\", \"8-2\", \"8-3\", \"8-4\", \"8-5\", \"9-1\", \"9-2\"], \"y\": [5.74, 6.69, 3.34, 3.78, 2.97, 3.58, 4.77], \"type\": \"scatter\", \"uid\": \"ad3b8d24-c05b-11e8-b730-2c6e85b5340b\"}, {\"name\": \"NovaS4\\u4e00\\u6b21\\u901a\\u8fc7\\u65f6\\u957f\", \"x\": [\"8-1\", \"8-2\", \"8-3\", \"8-4\", \"8-5\", \"9-1\", \"9-2\"], \"y\": [13.29, 4.73, 10.54, 10.54, 0.0, 14.88, 9.9], \"type\": \"scatter\", \"uid\": \"ad3b8d25-c05b-11e8-885a-2c6e85b5340b\"}], {\"title\": \"\\u4e00\\u6b21\\u901a\\u8fc7\\u5e73\\u5747\\u65f6\\u957f&xten\\u4e00\\u6b21\\u901a\\u8fc7\\u65f6\\u957f&NovaS4\\u4e00\\u6b21\\u901a\\u8fc7\\u65f6\\u957f\\u5468\\u8d8b\\u52bf\\u56fe\", \"xaxis\": {\"mirror\": \"all\", \"nticks\": 20, \"showgrid\": true, \"showline\": true, \"title\": \"\\u5468\", \"zeroline\": true}, \"yaxis\": {\"mirror\": \"all\", \"nticks\": 20, \"showgrid\": true, \"showline\": true, \"title\": \"\\u4e00\\u6b21\\u901a\\u8fc7\\u5e73\\u5747\\u65f6\\u957f&xten\\u4e00\\u6b21\\u901a\\u8fc7\\u65f6\\u957f&NovaS4\\u4e00\\u6b21\\u901a\\u8fc7\\u65f6\\u957f\", \"zeroline\": true}}, {\"showLink\": true, \"linkText\": \"Export to plot.ly\"})});</script>"
      ],
      "text/vnd.plotly.v1+html": [
       "<div id=\"b28cfdd7-81b6-4230-8470-e46c5a72bd8b\" style=\"height: 525px; width: 100%;\" class=\"plotly-graph-div\"></div><script type=\"text/javascript\">require([\"plotly\"], function(Plotly) { window.PLOTLYENV=window.PLOTLYENV || {};window.PLOTLYENV.BASE_URL=\"https://plot.ly\";Plotly.newPlot(\"b28cfdd7-81b6-4230-8470-e46c5a72bd8b\", [{\"name\": \"\\u4e00\\u6b21\\u901a\\u8fc7\\u5e73\\u5747\\u65f6\\u957f\", \"x\": [\"8-1\", \"8-2\", \"8-3\", \"8-4\", \"8-5\", \"9-1\", \"9-2\"], \"y\": [11.95, 6.68, 3.81, 5.41, 3.11, 2.07, 6.43], \"type\": \"scatter\", \"uid\": \"ad3b6618-c05b-11e8-af66-2c6e85b5340b\"}, {\"name\": \"xten\\u4e00\\u6b21\\u901a\\u8fc7\\u65f6\\u957f\", \"x\": [\"8-1\", \"8-2\", \"8-3\", \"8-4\", \"8-5\", \"9-1\", \"9-2\"], \"y\": [5.74, 6.69, 3.34, 3.78, 2.97, 3.58, 4.77], \"type\": \"scatter\", \"uid\": \"ad3b8d24-c05b-11e8-b730-2c6e85b5340b\"}, {\"name\": \"NovaS4\\u4e00\\u6b21\\u901a\\u8fc7\\u65f6\\u957f\", \"x\": [\"8-1\", \"8-2\", \"8-3\", \"8-4\", \"8-5\", \"9-1\", \"9-2\"], \"y\": [13.29, 4.73, 10.54, 10.54, 0.0, 14.88, 9.9], \"type\": \"scatter\", \"uid\": \"ad3b8d25-c05b-11e8-885a-2c6e85b5340b\"}], {\"title\": \"\\u4e00\\u6b21\\u901a\\u8fc7\\u5e73\\u5747\\u65f6\\u957f&xten\\u4e00\\u6b21\\u901a\\u8fc7\\u65f6\\u957f&NovaS4\\u4e00\\u6b21\\u901a\\u8fc7\\u65f6\\u957f\\u5468\\u8d8b\\u52bf\\u56fe\", \"xaxis\": {\"mirror\": \"all\", \"nticks\": 20, \"showgrid\": true, \"showline\": true, \"title\": \"\\u5468\", \"zeroline\": true}, \"yaxis\": {\"mirror\": \"all\", \"nticks\": 20, \"showgrid\": true, \"showline\": true, \"title\": \"\\u4e00\\u6b21\\u901a\\u8fc7\\u5e73\\u5747\\u65f6\\u957f&xten\\u4e00\\u6b21\\u901a\\u8fc7\\u65f6\\u957f&NovaS4\\u4e00\\u6b21\\u901a\\u8fc7\\u65f6\\u957f\", \"zeroline\": true}}, {\"showLink\": true, \"linkText\": \"Export to plot.ly\"})});</script>"
      ]
     },
     "metadata": {},
     "output_type": "display_data"
    },
    {
     "data": {
      "application/vnd.plotly.v1+json": {
       "data": [
        {
         "name": "一次通过平均时长",
         "type": "scatter",
         "uid": "ad4c057a-c05b-11e8-8e7e-2c6e85b5340b",
         "x": [
          "8",
          "9"
         ],
         "y": [
          30.959999999999997,
          8.5
         ]
        },
        {
         "name": "xten一次通过时长",
         "type": "scatter",
         "uid": "ad4c057b-c05b-11e8-b011-2c6e85b5340b",
         "x": [
          "8",
          "9"
         ],
         "y": [
          22.52,
          8.35
         ]
        },
        {
         "name": "NovaS4一次通过时长",
         "type": "scatter",
         "uid": "ad4c057c-c05b-11e8-bd5f-2c6e85b5340b",
         "x": [
          "8",
          "9"
         ],
         "y": [
          39.099999999999994,
          24.78
         ]
        }
       ],
       "layout": {
        "title": "一次通过平均时长&xten一次通过时长&NovaS4一次通过时长月趋势图",
        "xaxis": {
         "mirror": "all",
         "nticks": 20,
         "showgrid": true,
         "showline": true,
         "title": "月",
         "zeroline": true
        },
        "yaxis": {
         "mirror": "all",
         "nticks": 20,
         "showgrid": true,
         "showline": true,
         "title": "一次通过平均时长&xten一次通过时长&NovaS4一次通过时长",
         "zeroline": true
        }
       }
      },
      "text/html": [
       "<div id=\"3a34a7b0-e6d4-4ce6-96f2-c98f09b78d1a\" style=\"height: 525px; width: 100%;\" class=\"plotly-graph-div\"></div><script type=\"text/javascript\">require([\"plotly\"], function(Plotly) { window.PLOTLYENV=window.PLOTLYENV || {};window.PLOTLYENV.BASE_URL=\"https://plot.ly\";Plotly.newPlot(\"3a34a7b0-e6d4-4ce6-96f2-c98f09b78d1a\", [{\"name\": \"\\u4e00\\u6b21\\u901a\\u8fc7\\u5e73\\u5747\\u65f6\\u957f\", \"x\": [\"8\", \"9\"], \"y\": [30.959999999999997, 8.5], \"type\": \"scatter\", \"uid\": \"ad4c057a-c05b-11e8-8e7e-2c6e85b5340b\"}, {\"name\": \"xten\\u4e00\\u6b21\\u901a\\u8fc7\\u65f6\\u957f\", \"x\": [\"8\", \"9\"], \"y\": [22.52, 8.35], \"type\": \"scatter\", \"uid\": \"ad4c057b-c05b-11e8-b011-2c6e85b5340b\"}, {\"name\": \"NovaS4\\u4e00\\u6b21\\u901a\\u8fc7\\u65f6\\u957f\", \"x\": [\"8\", \"9\"], \"y\": [39.099999999999994, 24.78], \"type\": \"scatter\", \"uid\": \"ad4c057c-c05b-11e8-bd5f-2c6e85b5340b\"}], {\"title\": \"\\u4e00\\u6b21\\u901a\\u8fc7\\u5e73\\u5747\\u65f6\\u957f&xten\\u4e00\\u6b21\\u901a\\u8fc7\\u65f6\\u957f&NovaS4\\u4e00\\u6b21\\u901a\\u8fc7\\u65f6\\u957f\\u6708\\u8d8b\\u52bf\\u56fe\", \"xaxis\": {\"mirror\": \"all\", \"nticks\": 20, \"showgrid\": true, \"showline\": true, \"title\": \"\\u6708\", \"zeroline\": true}, \"yaxis\": {\"mirror\": \"all\", \"nticks\": 20, \"showgrid\": true, \"showline\": true, \"title\": \"\\u4e00\\u6b21\\u901a\\u8fc7\\u5e73\\u5747\\u65f6\\u957f&xten\\u4e00\\u6b21\\u901a\\u8fc7\\u65f6\\u957f&NovaS4\\u4e00\\u6b21\\u901a\\u8fc7\\u65f6\\u957f\", \"zeroline\": true}}, {\"showLink\": true, \"linkText\": \"Export to plot.ly\"})});</script>"
      ],
      "text/vnd.plotly.v1+html": [
       "<div id=\"3a34a7b0-e6d4-4ce6-96f2-c98f09b78d1a\" style=\"height: 525px; width: 100%;\" class=\"plotly-graph-div\"></div><script type=\"text/javascript\">require([\"plotly\"], function(Plotly) { window.PLOTLYENV=window.PLOTLYENV || {};window.PLOTLYENV.BASE_URL=\"https://plot.ly\";Plotly.newPlot(\"3a34a7b0-e6d4-4ce6-96f2-c98f09b78d1a\", [{\"name\": \"\\u4e00\\u6b21\\u901a\\u8fc7\\u5e73\\u5747\\u65f6\\u957f\", \"x\": [\"8\", \"9\"], \"y\": [30.959999999999997, 8.5], \"type\": \"scatter\", \"uid\": \"ad4c057a-c05b-11e8-8e7e-2c6e85b5340b\"}, {\"name\": \"xten\\u4e00\\u6b21\\u901a\\u8fc7\\u65f6\\u957f\", \"x\": [\"8\", \"9\"], \"y\": [22.52, 8.35], \"type\": \"scatter\", \"uid\": \"ad4c057b-c05b-11e8-b011-2c6e85b5340b\"}, {\"name\": \"NovaS4\\u4e00\\u6b21\\u901a\\u8fc7\\u65f6\\u957f\", \"x\": [\"8\", \"9\"], \"y\": [39.099999999999994, 24.78], \"type\": \"scatter\", \"uid\": \"ad4c057c-c05b-11e8-bd5f-2c6e85b5340b\"}], {\"title\": \"\\u4e00\\u6b21\\u901a\\u8fc7\\u5e73\\u5747\\u65f6\\u957f&xten\\u4e00\\u6b21\\u901a\\u8fc7\\u65f6\\u957f&NovaS4\\u4e00\\u6b21\\u901a\\u8fc7\\u65f6\\u957f\\u6708\\u8d8b\\u52bf\\u56fe\", \"xaxis\": {\"mirror\": \"all\", \"nticks\": 20, \"showgrid\": true, \"showline\": true, \"title\": \"\\u6708\", \"zeroline\": true}, \"yaxis\": {\"mirror\": \"all\", \"nticks\": 20, \"showgrid\": true, \"showline\": true, \"title\": \"\\u4e00\\u6b21\\u901a\\u8fc7\\u5e73\\u5747\\u65f6\\u957f&xten\\u4e00\\u6b21\\u901a\\u8fc7\\u65f6\\u957f&NovaS4\\u4e00\\u6b21\\u901a\\u8fc7\\u65f6\\u957f\", \"zeroline\": true}}, {\"showLink\": true, \"linkText\": \"Export to plot.ly\"})});</script>"
      ]
     },
     "metadata": {},
     "output_type": "display_data"
    }
   ],
   "source": [
    "data_dict = {'一次通过平均时长':['一次通过平均时长'], 'xten一次通过时长':['xten一次通过时长'],\n",
    "             'NovaS4一次通过时长':['NovaS4一次通过时长']}\n",
    "myModule.plot( all_dict, data_dict, '人员' ,  'line' , all='all')"
   ]
  },
  {
   "cell_type": "markdown",
   "metadata": {},
   "source": [
    "### 异常"
   ]
  },
  {
   "cell_type": "markdown",
   "metadata": {},
   "source": [
    "#### 个性化拆分数"
   ]
  },
  {
   "cell_type": "code",
   "execution_count": 19,
   "metadata": {},
   "outputs": [
    {
     "data": {
      "application/vnd.plotly.v1+json": {
       "data": [
        {
         "name": "个性化拆分数",
         "type": "scatter",
         "uid": "ad75a774-c05b-11e8-81f7-2c6e85b5340b",
         "x": [
          "8-1",
          "8-2",
          "8-3",
          "8-4",
          "8-5",
          "9-1",
          "9-2"
         ],
         "y": [
          3,
          1,
          0,
          2,
          3,
          1,
          0
         ]
        }
       ],
       "layout": {
        "title": "个性化拆分数周趋势图",
        "xaxis": {
         "mirror": "all",
         "nticks": 20,
         "showgrid": true,
         "showline": true,
         "title": "周",
         "zeroline": true
        },
        "yaxis": {
         "mirror": "all",
         "nticks": 20,
         "showgrid": true,
         "showline": true,
         "title": "个性化拆分数",
         "zeroline": true
        }
       }
      },
      "text/html": [
       "<div id=\"e6360e25-5ccc-403e-9f50-09d9b8330933\" style=\"height: 525px; width: 100%;\" class=\"plotly-graph-div\"></div><script type=\"text/javascript\">require([\"plotly\"], function(Plotly) { window.PLOTLYENV=window.PLOTLYENV || {};window.PLOTLYENV.BASE_URL=\"https://plot.ly\";Plotly.newPlot(\"e6360e25-5ccc-403e-9f50-09d9b8330933\", [{\"name\": \"\\u4e2a\\u6027\\u5316\\u62c6\\u5206\\u6570\", \"x\": [\"8-1\", \"8-2\", \"8-3\", \"8-4\", \"8-5\", \"9-1\", \"9-2\"], \"y\": [3.0, 1.0, 0.0, 2.0, 3.0, 1.0, 0.0], \"type\": \"scatter\", \"uid\": \"ad75a774-c05b-11e8-81f7-2c6e85b5340b\"}], {\"title\": \"\\u4e2a\\u6027\\u5316\\u62c6\\u5206\\u6570\\u5468\\u8d8b\\u52bf\\u56fe\", \"xaxis\": {\"mirror\": \"all\", \"nticks\": 20, \"showgrid\": true, \"showline\": true, \"title\": \"\\u5468\", \"zeroline\": true}, \"yaxis\": {\"mirror\": \"all\", \"nticks\": 20, \"showgrid\": true, \"showline\": true, \"title\": \"\\u4e2a\\u6027\\u5316\\u62c6\\u5206\\u6570\", \"zeroline\": true}}, {\"showLink\": true, \"linkText\": \"Export to plot.ly\"})});</script>"
      ],
      "text/vnd.plotly.v1+html": [
       "<div id=\"e6360e25-5ccc-403e-9f50-09d9b8330933\" style=\"height: 525px; width: 100%;\" class=\"plotly-graph-div\"></div><script type=\"text/javascript\">require([\"plotly\"], function(Plotly) { window.PLOTLYENV=window.PLOTLYENV || {};window.PLOTLYENV.BASE_URL=\"https://plot.ly\";Plotly.newPlot(\"e6360e25-5ccc-403e-9f50-09d9b8330933\", [{\"name\": \"\\u4e2a\\u6027\\u5316\\u62c6\\u5206\\u6570\", \"x\": [\"8-1\", \"8-2\", \"8-3\", \"8-4\", \"8-5\", \"9-1\", \"9-2\"], \"y\": [3.0, 1.0, 0.0, 2.0, 3.0, 1.0, 0.0], \"type\": \"scatter\", \"uid\": \"ad75a774-c05b-11e8-81f7-2c6e85b5340b\"}], {\"title\": \"\\u4e2a\\u6027\\u5316\\u62c6\\u5206\\u6570\\u5468\\u8d8b\\u52bf\\u56fe\", \"xaxis\": {\"mirror\": \"all\", \"nticks\": 20, \"showgrid\": true, \"showline\": true, \"title\": \"\\u5468\", \"zeroline\": true}, \"yaxis\": {\"mirror\": \"all\", \"nticks\": 20, \"showgrid\": true, \"showline\": true, \"title\": \"\\u4e2a\\u6027\\u5316\\u62c6\\u5206\\u6570\", \"zeroline\": true}}, {\"showLink\": true, \"linkText\": \"Export to plot.ly\"})});</script>"
      ]
     },
     "metadata": {},
     "output_type": "display_data"
    },
    {
     "data": {
      "application/vnd.plotly.v1+json": {
       "data": [
        {
         "name": "个性化拆分数",
         "type": "scatter",
         "uid": "ad84724c-c05b-11e8-ae5e-2c6e85b5340b",
         "x": [
          "8",
          "9"
         ],
         "y": [
          9,
          1
         ]
        }
       ],
       "layout": {
        "title": "个性化拆分数月趋势图",
        "xaxis": {
         "mirror": "all",
         "nticks": 20,
         "showgrid": true,
         "showline": true,
         "title": "月",
         "zeroline": true
        },
        "yaxis": {
         "mirror": "all",
         "nticks": 20,
         "showgrid": true,
         "showline": true,
         "title": "个性化拆分数",
         "zeroline": true
        }
       }
      },
      "text/html": [
       "<div id=\"44cd462a-262a-4f0a-9006-70479aa8940d\" style=\"height: 525px; width: 100%;\" class=\"plotly-graph-div\"></div><script type=\"text/javascript\">require([\"plotly\"], function(Plotly) { window.PLOTLYENV=window.PLOTLYENV || {};window.PLOTLYENV.BASE_URL=\"https://plot.ly\";Plotly.newPlot(\"44cd462a-262a-4f0a-9006-70479aa8940d\", [{\"name\": \"\\u4e2a\\u6027\\u5316\\u62c6\\u5206\\u6570\", \"x\": [\"8\", \"9\"], \"y\": [9.0, 1.0], \"type\": \"scatter\", \"uid\": \"ad84724c-c05b-11e8-ae5e-2c6e85b5340b\"}], {\"title\": \"\\u4e2a\\u6027\\u5316\\u62c6\\u5206\\u6570\\u6708\\u8d8b\\u52bf\\u56fe\", \"xaxis\": {\"mirror\": \"all\", \"nticks\": 20, \"showgrid\": true, \"showline\": true, \"title\": \"\\u6708\", \"zeroline\": true}, \"yaxis\": {\"mirror\": \"all\", \"nticks\": 20, \"showgrid\": true, \"showline\": true, \"title\": \"\\u4e2a\\u6027\\u5316\\u62c6\\u5206\\u6570\", \"zeroline\": true}}, {\"showLink\": true, \"linkText\": \"Export to plot.ly\"})});</script>"
      ],
      "text/vnd.plotly.v1+html": [
       "<div id=\"44cd462a-262a-4f0a-9006-70479aa8940d\" style=\"height: 525px; width: 100%;\" class=\"plotly-graph-div\"></div><script type=\"text/javascript\">require([\"plotly\"], function(Plotly) { window.PLOTLYENV=window.PLOTLYENV || {};window.PLOTLYENV.BASE_URL=\"https://plot.ly\";Plotly.newPlot(\"44cd462a-262a-4f0a-9006-70479aa8940d\", [{\"name\": \"\\u4e2a\\u6027\\u5316\\u62c6\\u5206\\u6570\", \"x\": [\"8\", \"9\"], \"y\": [9.0, 1.0], \"type\": \"scatter\", \"uid\": \"ad84724c-c05b-11e8-ae5e-2c6e85b5340b\"}], {\"title\": \"\\u4e2a\\u6027\\u5316\\u62c6\\u5206\\u6570\\u6708\\u8d8b\\u52bf\\u56fe\", \"xaxis\": {\"mirror\": \"all\", \"nticks\": 20, \"showgrid\": true, \"showline\": true, \"title\": \"\\u6708\", \"zeroline\": true}, \"yaxis\": {\"mirror\": \"all\", \"nticks\": 20, \"showgrid\": true, \"showline\": true, \"title\": \"\\u4e2a\\u6027\\u5316\\u62c6\\u5206\\u6570\", \"zeroline\": true}}, {\"showLink\": true, \"linkText\": \"Export to plot.ly\"})});</script>"
      ]
     },
     "metadata": {},
     "output_type": "display_data"
    }
   ],
   "source": [
    "data_dict = {'个性化拆分数':['个性化拆分数']}\n",
    "myModule.plot( all_dict, data_dict, '人员' ,  'line' , all='all')"
   ]
  },
  {
   "cell_type": "markdown",
   "metadata": {},
   "source": [
    "####  测序异常，外来index错误，自建库index错误，lims系统错误"
   ]
  },
  {
   "cell_type": "code",
   "execution_count": 20,
   "metadata": {},
   "outputs": [
    {
     "data": {
      "application/vnd.plotly.v1+json": {
       "data": [
        {
         "name": "测序异常",
         "type": "scatter",
         "uid": "adb62964-c05b-11e8-a95b-2c6e85b5340b",
         "x": [
          "8-1",
          "8-2",
          "8-3",
          "8-4",
          "8-5",
          "9-1",
          "9-2"
         ],
         "y": [
          10,
          17,
          19,
          12,
          11,
          10,
          6
         ]
        },
        {
         "name": "外来Index错误",
         "type": "scatter",
         "uid": "adb65076-c05b-11e8-9f58-2c6e85b5340b",
         "x": [
          "8-1",
          "8-2",
          "8-3",
          "8-4",
          "8-5",
          "9-1",
          "9-2"
         ],
         "y": [
          2,
          8,
          4,
          4,
          2,
          8,
          3
         ]
        },
        {
         "name": "自建库Index错误",
         "type": "scatter",
         "uid": "adb65077-c05b-11e8-90b3-2c6e85b5340b",
         "x": [
          "8-1",
          "8-2",
          "8-3",
          "8-4",
          "8-5",
          "9-1",
          "9-2"
         ],
         "y": [
          0,
          2,
          0,
          2,
          2,
          1,
          0
         ]
        },
        {
         "name": "lims系统错误",
         "type": "scatter",
         "uid": "adb65078-c05b-11e8-a2e8-2c6e85b5340b",
         "x": [
          "8-1",
          "8-2",
          "8-3",
          "8-4",
          "8-5",
          "9-1",
          "9-2"
         ],
         "y": [
          2,
          3,
          0,
          0,
          1,
          0,
          0
         ]
        }
       ],
       "layout": {
        "title": "测序异常&外来Index错误&自建库Index错误&lims系统错误周趋势图",
        "xaxis": {
         "mirror": "all",
         "nticks": 20,
         "showgrid": true,
         "showline": true,
         "title": "周",
         "zeroline": true
        },
        "yaxis": {
         "mirror": "all",
         "nticks": 20,
         "showgrid": true,
         "showline": true,
         "title": "测序异常&外来Index错误&自建库Index错误&lims系统错误",
         "zeroline": true
        }
       }
      },
      "text/html": [
       "<div id=\"ffca7468-4296-4d6d-9843-64317487e1d3\" style=\"height: 525px; width: 100%;\" class=\"plotly-graph-div\"></div><script type=\"text/javascript\">require([\"plotly\"], function(Plotly) { window.PLOTLYENV=window.PLOTLYENV || {};window.PLOTLYENV.BASE_URL=\"https://plot.ly\";Plotly.newPlot(\"ffca7468-4296-4d6d-9843-64317487e1d3\", [{\"name\": \"\\u6d4b\\u5e8f\\u5f02\\u5e38\", \"x\": [\"8-1\", \"8-2\", \"8-3\", \"8-4\", \"8-5\", \"9-1\", \"9-2\"], \"y\": [10.0, 17.0, 19.0, 12.0, 11.0, 10.0, 6.0], \"type\": \"scatter\", \"uid\": \"adb62964-c05b-11e8-a95b-2c6e85b5340b\"}, {\"name\": \"\\u5916\\u6765Index\\u9519\\u8bef\", \"x\": [\"8-1\", \"8-2\", \"8-3\", \"8-4\", \"8-5\", \"9-1\", \"9-2\"], \"y\": [2.0, 8.0, 4.0, 4.0, 2.0, 8.0, 3.0], \"type\": \"scatter\", \"uid\": \"adb65076-c05b-11e8-9f58-2c6e85b5340b\"}, {\"name\": \"\\u81ea\\u5efa\\u5e93Index\\u9519\\u8bef\", \"x\": [\"8-1\", \"8-2\", \"8-3\", \"8-4\", \"8-5\", \"9-1\", \"9-2\"], \"y\": [0.0, 2.0, 0.0, 2.0, 2.0, 1.0, 0.0], \"type\": \"scatter\", \"uid\": \"adb65077-c05b-11e8-90b3-2c6e85b5340b\"}, {\"name\": \"lims\\u7cfb\\u7edf\\u9519\\u8bef\", \"x\": [\"8-1\", \"8-2\", \"8-3\", \"8-4\", \"8-5\", \"9-1\", \"9-2\"], \"y\": [2.0, 3.0, 0.0, 0.0, 1.0, 0.0, 0.0], \"type\": \"scatter\", \"uid\": \"adb65078-c05b-11e8-a2e8-2c6e85b5340b\"}], {\"title\": \"\\u6d4b\\u5e8f\\u5f02\\u5e38&\\u5916\\u6765Index\\u9519\\u8bef&\\u81ea\\u5efa\\u5e93Index\\u9519\\u8bef&lims\\u7cfb\\u7edf\\u9519\\u8bef\\u5468\\u8d8b\\u52bf\\u56fe\", \"xaxis\": {\"mirror\": \"all\", \"nticks\": 20, \"showgrid\": true, \"showline\": true, \"title\": \"\\u5468\", \"zeroline\": true}, \"yaxis\": {\"mirror\": \"all\", \"nticks\": 20, \"showgrid\": true, \"showline\": true, \"title\": \"\\u6d4b\\u5e8f\\u5f02\\u5e38&\\u5916\\u6765Index\\u9519\\u8bef&\\u81ea\\u5efa\\u5e93Index\\u9519\\u8bef&lims\\u7cfb\\u7edf\\u9519\\u8bef\", \"zeroline\": true}}, {\"showLink\": true, \"linkText\": \"Export to plot.ly\"})});</script>"
      ],
      "text/vnd.plotly.v1+html": [
       "<div id=\"ffca7468-4296-4d6d-9843-64317487e1d3\" style=\"height: 525px; width: 100%;\" class=\"plotly-graph-div\"></div><script type=\"text/javascript\">require([\"plotly\"], function(Plotly) { window.PLOTLYENV=window.PLOTLYENV || {};window.PLOTLYENV.BASE_URL=\"https://plot.ly\";Plotly.newPlot(\"ffca7468-4296-4d6d-9843-64317487e1d3\", [{\"name\": \"\\u6d4b\\u5e8f\\u5f02\\u5e38\", \"x\": [\"8-1\", \"8-2\", \"8-3\", \"8-4\", \"8-5\", \"9-1\", \"9-2\"], \"y\": [10.0, 17.0, 19.0, 12.0, 11.0, 10.0, 6.0], \"type\": \"scatter\", \"uid\": \"adb62964-c05b-11e8-a95b-2c6e85b5340b\"}, {\"name\": \"\\u5916\\u6765Index\\u9519\\u8bef\", \"x\": [\"8-1\", \"8-2\", \"8-3\", \"8-4\", \"8-5\", \"9-1\", \"9-2\"], \"y\": [2.0, 8.0, 4.0, 4.0, 2.0, 8.0, 3.0], \"type\": \"scatter\", \"uid\": \"adb65076-c05b-11e8-9f58-2c6e85b5340b\"}, {\"name\": \"\\u81ea\\u5efa\\u5e93Index\\u9519\\u8bef\", \"x\": [\"8-1\", \"8-2\", \"8-3\", \"8-4\", \"8-5\", \"9-1\", \"9-2\"], \"y\": [0.0, 2.0, 0.0, 2.0, 2.0, 1.0, 0.0], \"type\": \"scatter\", \"uid\": \"adb65077-c05b-11e8-90b3-2c6e85b5340b\"}, {\"name\": \"lims\\u7cfb\\u7edf\\u9519\\u8bef\", \"x\": [\"8-1\", \"8-2\", \"8-3\", \"8-4\", \"8-5\", \"9-1\", \"9-2\"], \"y\": [2.0, 3.0, 0.0, 0.0, 1.0, 0.0, 0.0], \"type\": \"scatter\", \"uid\": \"adb65078-c05b-11e8-a2e8-2c6e85b5340b\"}], {\"title\": \"\\u6d4b\\u5e8f\\u5f02\\u5e38&\\u5916\\u6765Index\\u9519\\u8bef&\\u81ea\\u5efa\\u5e93Index\\u9519\\u8bef&lims\\u7cfb\\u7edf\\u9519\\u8bef\\u5468\\u8d8b\\u52bf\\u56fe\", \"xaxis\": {\"mirror\": \"all\", \"nticks\": 20, \"showgrid\": true, \"showline\": true, \"title\": \"\\u5468\", \"zeroline\": true}, \"yaxis\": {\"mirror\": \"all\", \"nticks\": 20, \"showgrid\": true, \"showline\": true, \"title\": \"\\u6d4b\\u5e8f\\u5f02\\u5e38&\\u5916\\u6765Index\\u9519\\u8bef&\\u81ea\\u5efa\\u5e93Index\\u9519\\u8bef&lims\\u7cfb\\u7edf\\u9519\\u8bef\", \"zeroline\": true}}, {\"showLink\": true, \"linkText\": \"Export to plot.ly\"})});</script>"
      ]
     },
     "metadata": {},
     "output_type": "display_data"
    },
    {
     "data": {
      "application/vnd.plotly.v1+json": {
       "data": [
        {
         "name": "测序异常",
         "type": "scatter",
         "uid": "add71a1a-c05b-11e8-929a-2c6e85b5340b",
         "x": [
          "8",
          "9"
         ],
         "y": [
          69,
          16
         ]
        },
        {
         "name": "外来Index错误",
         "type": "scatter",
         "uid": "add71a1b-c05b-11e8-a9e4-2c6e85b5340b",
         "x": [
          "8",
          "9"
         ],
         "y": [
          20,
          11
         ]
        },
        {
         "name": "自建库Index错误",
         "type": "scatter",
         "uid": "add71a1c-c05b-11e8-9236-2c6e85b5340b",
         "x": [
          "8",
          "9"
         ],
         "y": [
          6,
          1
         ]
        },
        {
         "name": "lims系统错误",
         "type": "scatter",
         "uid": "add71a1d-c05b-11e8-b134-2c6e85b5340b",
         "x": [
          "8",
          "9"
         ],
         "y": [
          6,
          0
         ]
        }
       ],
       "layout": {
        "title": "测序异常&外来Index错误&自建库Index错误&lims系统错误月趋势图",
        "xaxis": {
         "mirror": "all",
         "nticks": 20,
         "showgrid": true,
         "showline": true,
         "title": "月",
         "zeroline": true
        },
        "yaxis": {
         "mirror": "all",
         "nticks": 20,
         "showgrid": true,
         "showline": true,
         "title": "测序异常&外来Index错误&自建库Index错误&lims系统错误",
         "zeroline": true
        }
       }
      },
      "text/html": [
       "<div id=\"a7da377e-1b53-43f4-b269-16ea955c2790\" style=\"height: 525px; width: 100%;\" class=\"plotly-graph-div\"></div><script type=\"text/javascript\">require([\"plotly\"], function(Plotly) { window.PLOTLYENV=window.PLOTLYENV || {};window.PLOTLYENV.BASE_URL=\"https://plot.ly\";Plotly.newPlot(\"a7da377e-1b53-43f4-b269-16ea955c2790\", [{\"name\": \"\\u6d4b\\u5e8f\\u5f02\\u5e38\", \"x\": [\"8\", \"9\"], \"y\": [69.0, 16.0], \"type\": \"scatter\", \"uid\": \"add71a1a-c05b-11e8-929a-2c6e85b5340b\"}, {\"name\": \"\\u5916\\u6765Index\\u9519\\u8bef\", \"x\": [\"8\", \"9\"], \"y\": [20.0, 11.0], \"type\": \"scatter\", \"uid\": \"add71a1b-c05b-11e8-a9e4-2c6e85b5340b\"}, {\"name\": \"\\u81ea\\u5efa\\u5e93Index\\u9519\\u8bef\", \"x\": [\"8\", \"9\"], \"y\": [6.0, 1.0], \"type\": \"scatter\", \"uid\": \"add71a1c-c05b-11e8-9236-2c6e85b5340b\"}, {\"name\": \"lims\\u7cfb\\u7edf\\u9519\\u8bef\", \"x\": [\"8\", \"9\"], \"y\": [6.0, 0.0], \"type\": \"scatter\", \"uid\": \"add71a1d-c05b-11e8-b134-2c6e85b5340b\"}], {\"title\": \"\\u6d4b\\u5e8f\\u5f02\\u5e38&\\u5916\\u6765Index\\u9519\\u8bef&\\u81ea\\u5efa\\u5e93Index\\u9519\\u8bef&lims\\u7cfb\\u7edf\\u9519\\u8bef\\u6708\\u8d8b\\u52bf\\u56fe\", \"xaxis\": {\"mirror\": \"all\", \"nticks\": 20, \"showgrid\": true, \"showline\": true, \"title\": \"\\u6708\", \"zeroline\": true}, \"yaxis\": {\"mirror\": \"all\", \"nticks\": 20, \"showgrid\": true, \"showline\": true, \"title\": \"\\u6d4b\\u5e8f\\u5f02\\u5e38&\\u5916\\u6765Index\\u9519\\u8bef&\\u81ea\\u5efa\\u5e93Index\\u9519\\u8bef&lims\\u7cfb\\u7edf\\u9519\\u8bef\", \"zeroline\": true}}, {\"showLink\": true, \"linkText\": \"Export to plot.ly\"})});</script>"
      ],
      "text/vnd.plotly.v1+html": [
       "<div id=\"a7da377e-1b53-43f4-b269-16ea955c2790\" style=\"height: 525px; width: 100%;\" class=\"plotly-graph-div\"></div><script type=\"text/javascript\">require([\"plotly\"], function(Plotly) { window.PLOTLYENV=window.PLOTLYENV || {};window.PLOTLYENV.BASE_URL=\"https://plot.ly\";Plotly.newPlot(\"a7da377e-1b53-43f4-b269-16ea955c2790\", [{\"name\": \"\\u6d4b\\u5e8f\\u5f02\\u5e38\", \"x\": [\"8\", \"9\"], \"y\": [69.0, 16.0], \"type\": \"scatter\", \"uid\": \"add71a1a-c05b-11e8-929a-2c6e85b5340b\"}, {\"name\": \"\\u5916\\u6765Index\\u9519\\u8bef\", \"x\": [\"8\", \"9\"], \"y\": [20.0, 11.0], \"type\": \"scatter\", \"uid\": \"add71a1b-c05b-11e8-a9e4-2c6e85b5340b\"}, {\"name\": \"\\u81ea\\u5efa\\u5e93Index\\u9519\\u8bef\", \"x\": [\"8\", \"9\"], \"y\": [6.0, 1.0], \"type\": \"scatter\", \"uid\": \"add71a1c-c05b-11e8-9236-2c6e85b5340b\"}, {\"name\": \"lims\\u7cfb\\u7edf\\u9519\\u8bef\", \"x\": [\"8\", \"9\"], \"y\": [6.0, 0.0], \"type\": \"scatter\", \"uid\": \"add71a1d-c05b-11e8-b134-2c6e85b5340b\"}], {\"title\": \"\\u6d4b\\u5e8f\\u5f02\\u5e38&\\u5916\\u6765Index\\u9519\\u8bef&\\u81ea\\u5efa\\u5e93Index\\u9519\\u8bef&lims\\u7cfb\\u7edf\\u9519\\u8bef\\u6708\\u8d8b\\u52bf\\u56fe\", \"xaxis\": {\"mirror\": \"all\", \"nticks\": 20, \"showgrid\": true, \"showline\": true, \"title\": \"\\u6708\", \"zeroline\": true}, \"yaxis\": {\"mirror\": \"all\", \"nticks\": 20, \"showgrid\": true, \"showline\": true, \"title\": \"\\u6d4b\\u5e8f\\u5f02\\u5e38&\\u5916\\u6765Index\\u9519\\u8bef&\\u81ea\\u5efa\\u5e93Index\\u9519\\u8bef&lims\\u7cfb\\u7edf\\u9519\\u8bef\", \"zeroline\": true}}, {\"showLink\": true, \"linkText\": \"Export to plot.ly\"})});</script>"
      ]
     },
     "metadata": {},
     "output_type": "display_data"
    }
   ],
   "source": [
    "data_dict = {'测序异常':['测序异常'], '外来Index错误':['外来Index错误'], '自建库Index错误':['自建库Index错误'], \n",
    "             'lims系统错误':['lims系统错误']}\n",
    "myModule.plot( all_dict, data_dict, '人员' ,  'line' , all='all')"
   ]
  },
  {
   "cell_type": "markdown",
   "metadata": {},
   "source": [
    "#### 拆分流程异常数，延期处理"
   ]
  },
  {
   "cell_type": "code",
   "execution_count": 21,
   "metadata": {},
   "outputs": [
    {
     "data": {
      "application/vnd.plotly.v1+json": {
       "data": [
        {
         "name": "拆分流程异常数",
         "type": "scatter",
         "uid": "ae061268-c05b-11e8-b0dc-2c6e85b5340b",
         "x": [
          "8-1",
          "8-2",
          "8-3",
          "8-4",
          "8-5",
          "9-1",
          "9-2"
         ],
         "y": [
          2,
          0,
          1,
          0,
          4,
          2,
          0
         ]
        },
        {
         "name": "处理延期",
         "type": "scatter",
         "uid": "ae061269-c05b-11e8-891b-2c6e85b5340b",
         "x": [
          "8-1",
          "8-2",
          "8-3",
          "8-4",
          "8-5",
          "9-1",
          "9-2"
         ],
         "y": [
          0,
          0,
          0,
          0,
          0,
          0,
          0
         ]
        }
       ],
       "layout": {
        "title": "拆分流程异常数&处理延期周趋势图",
        "xaxis": {
         "mirror": "all",
         "nticks": 20,
         "showgrid": true,
         "showline": true,
         "title": "周",
         "zeroline": true
        },
        "yaxis": {
         "mirror": "all",
         "nticks": 20,
         "showgrid": true,
         "showline": true,
         "title": "拆分流程异常数&处理延期",
         "zeroline": true
        }
       }
      },
      "text/html": [
       "<div id=\"c76433fe-35ff-452b-904c-8ccecb69fbec\" style=\"height: 525px; width: 100%;\" class=\"plotly-graph-div\"></div><script type=\"text/javascript\">require([\"plotly\"], function(Plotly) { window.PLOTLYENV=window.PLOTLYENV || {};window.PLOTLYENV.BASE_URL=\"https://plot.ly\";Plotly.newPlot(\"c76433fe-35ff-452b-904c-8ccecb69fbec\", [{\"name\": \"\\u62c6\\u5206\\u6d41\\u7a0b\\u5f02\\u5e38\\u6570\", \"x\": [\"8-1\", \"8-2\", \"8-3\", \"8-4\", \"8-5\", \"9-1\", \"9-2\"], \"y\": [2.0, 0.0, 1.0, 0.0, 4.0, 2.0, 0.0], \"type\": \"scatter\", \"uid\": \"ae061268-c05b-11e8-b0dc-2c6e85b5340b\"}, {\"name\": \"\\u5904\\u7406\\u5ef6\\u671f\", \"x\": [\"8-1\", \"8-2\", \"8-3\", \"8-4\", \"8-5\", \"9-1\", \"9-2\"], \"y\": [0.0, 0.0, 0.0, 0.0, 0.0, 0.0, 0.0], \"type\": \"scatter\", \"uid\": \"ae061269-c05b-11e8-891b-2c6e85b5340b\"}], {\"title\": \"\\u62c6\\u5206\\u6d41\\u7a0b\\u5f02\\u5e38\\u6570&\\u5904\\u7406\\u5ef6\\u671f\\u5468\\u8d8b\\u52bf\\u56fe\", \"xaxis\": {\"mirror\": \"all\", \"nticks\": 20, \"showgrid\": true, \"showline\": true, \"title\": \"\\u5468\", \"zeroline\": true}, \"yaxis\": {\"mirror\": \"all\", \"nticks\": 20, \"showgrid\": true, \"showline\": true, \"title\": \"\\u62c6\\u5206\\u6d41\\u7a0b\\u5f02\\u5e38\\u6570&\\u5904\\u7406\\u5ef6\\u671f\", \"zeroline\": true}}, {\"showLink\": true, \"linkText\": \"Export to plot.ly\"})});</script>"
      ],
      "text/vnd.plotly.v1+html": [
       "<div id=\"c76433fe-35ff-452b-904c-8ccecb69fbec\" style=\"height: 525px; width: 100%;\" class=\"plotly-graph-div\"></div><script type=\"text/javascript\">require([\"plotly\"], function(Plotly) { window.PLOTLYENV=window.PLOTLYENV || {};window.PLOTLYENV.BASE_URL=\"https://plot.ly\";Plotly.newPlot(\"c76433fe-35ff-452b-904c-8ccecb69fbec\", [{\"name\": \"\\u62c6\\u5206\\u6d41\\u7a0b\\u5f02\\u5e38\\u6570\", \"x\": [\"8-1\", \"8-2\", \"8-3\", \"8-4\", \"8-5\", \"9-1\", \"9-2\"], \"y\": [2.0, 0.0, 1.0, 0.0, 4.0, 2.0, 0.0], \"type\": \"scatter\", \"uid\": \"ae061268-c05b-11e8-b0dc-2c6e85b5340b\"}, {\"name\": \"\\u5904\\u7406\\u5ef6\\u671f\", \"x\": [\"8-1\", \"8-2\", \"8-3\", \"8-4\", \"8-5\", \"9-1\", \"9-2\"], \"y\": [0.0, 0.0, 0.0, 0.0, 0.0, 0.0, 0.0], \"type\": \"scatter\", \"uid\": \"ae061269-c05b-11e8-891b-2c6e85b5340b\"}], {\"title\": \"\\u62c6\\u5206\\u6d41\\u7a0b\\u5f02\\u5e38\\u6570&\\u5904\\u7406\\u5ef6\\u671f\\u5468\\u8d8b\\u52bf\\u56fe\", \"xaxis\": {\"mirror\": \"all\", \"nticks\": 20, \"showgrid\": true, \"showline\": true, \"title\": \"\\u5468\", \"zeroline\": true}, \"yaxis\": {\"mirror\": \"all\", \"nticks\": 20, \"showgrid\": true, \"showline\": true, \"title\": \"\\u62c6\\u5206\\u6d41\\u7a0b\\u5f02\\u5e38\\u6570&\\u5904\\u7406\\u5ef6\\u671f\", \"zeroline\": true}}, {\"showLink\": true, \"linkText\": \"Export to plot.ly\"})});</script>"
      ]
     },
     "metadata": {},
     "output_type": "display_data"
    },
    {
     "data": {
      "application/vnd.plotly.v1+json": {
       "data": [
        {
         "name": "拆分流程异常数",
         "type": "scatter",
         "uid": "ae1af6e6-c05b-11e8-8cd7-2c6e85b5340b",
         "x": [
          "8",
          "9"
         ],
         "y": [
          7,
          2
         ]
        },
        {
         "name": "处理延期",
         "type": "scatter",
         "uid": "ae1af6e7-c05b-11e8-83a8-2c6e85b5340b",
         "x": [
          "8",
          "9"
         ],
         "y": [
          0,
          0
         ]
        }
       ],
       "layout": {
        "title": "拆分流程异常数&处理延期月趋势图",
        "xaxis": {
         "mirror": "all",
         "nticks": 20,
         "showgrid": true,
         "showline": true,
         "title": "月",
         "zeroline": true
        },
        "yaxis": {
         "mirror": "all",
         "nticks": 20,
         "showgrid": true,
         "showline": true,
         "title": "拆分流程异常数&处理延期",
         "zeroline": true
        }
       }
      },
      "text/html": [
       "<div id=\"aaa94f51-354e-4261-af3d-e2c72be97d54\" style=\"height: 525px; width: 100%;\" class=\"plotly-graph-div\"></div><script type=\"text/javascript\">require([\"plotly\"], function(Plotly) { window.PLOTLYENV=window.PLOTLYENV || {};window.PLOTLYENV.BASE_URL=\"https://plot.ly\";Plotly.newPlot(\"aaa94f51-354e-4261-af3d-e2c72be97d54\", [{\"name\": \"\\u62c6\\u5206\\u6d41\\u7a0b\\u5f02\\u5e38\\u6570\", \"x\": [\"8\", \"9\"], \"y\": [7.0, 2.0], \"type\": \"scatter\", \"uid\": \"ae1af6e6-c05b-11e8-8cd7-2c6e85b5340b\"}, {\"name\": \"\\u5904\\u7406\\u5ef6\\u671f\", \"x\": [\"8\", \"9\"], \"y\": [0.0, 0.0], \"type\": \"scatter\", \"uid\": \"ae1af6e7-c05b-11e8-83a8-2c6e85b5340b\"}], {\"title\": \"\\u62c6\\u5206\\u6d41\\u7a0b\\u5f02\\u5e38\\u6570&\\u5904\\u7406\\u5ef6\\u671f\\u6708\\u8d8b\\u52bf\\u56fe\", \"xaxis\": {\"mirror\": \"all\", \"nticks\": 20, \"showgrid\": true, \"showline\": true, \"title\": \"\\u6708\", \"zeroline\": true}, \"yaxis\": {\"mirror\": \"all\", \"nticks\": 20, \"showgrid\": true, \"showline\": true, \"title\": \"\\u62c6\\u5206\\u6d41\\u7a0b\\u5f02\\u5e38\\u6570&\\u5904\\u7406\\u5ef6\\u671f\", \"zeroline\": true}}, {\"showLink\": true, \"linkText\": \"Export to plot.ly\"})});</script>"
      ],
      "text/vnd.plotly.v1+html": [
       "<div id=\"aaa94f51-354e-4261-af3d-e2c72be97d54\" style=\"height: 525px; width: 100%;\" class=\"plotly-graph-div\"></div><script type=\"text/javascript\">require([\"plotly\"], function(Plotly) { window.PLOTLYENV=window.PLOTLYENV || {};window.PLOTLYENV.BASE_URL=\"https://plot.ly\";Plotly.newPlot(\"aaa94f51-354e-4261-af3d-e2c72be97d54\", [{\"name\": \"\\u62c6\\u5206\\u6d41\\u7a0b\\u5f02\\u5e38\\u6570\", \"x\": [\"8\", \"9\"], \"y\": [7.0, 2.0], \"type\": \"scatter\", \"uid\": \"ae1af6e6-c05b-11e8-8cd7-2c6e85b5340b\"}, {\"name\": \"\\u5904\\u7406\\u5ef6\\u671f\", \"x\": [\"8\", \"9\"], \"y\": [0.0, 0.0], \"type\": \"scatter\", \"uid\": \"ae1af6e7-c05b-11e8-83a8-2c6e85b5340b\"}], {\"title\": \"\\u62c6\\u5206\\u6d41\\u7a0b\\u5f02\\u5e38\\u6570&\\u5904\\u7406\\u5ef6\\u671f\\u6708\\u8d8b\\u52bf\\u56fe\", \"xaxis\": {\"mirror\": \"all\", \"nticks\": 20, \"showgrid\": true, \"showline\": true, \"title\": \"\\u6708\", \"zeroline\": true}, \"yaxis\": {\"mirror\": \"all\", \"nticks\": 20, \"showgrid\": true, \"showline\": true, \"title\": \"\\u62c6\\u5206\\u6d41\\u7a0b\\u5f02\\u5e38\\u6570&\\u5904\\u7406\\u5ef6\\u671f\", \"zeroline\": true}}, {\"showLink\": true, \"linkText\": \"Export to plot.ly\"})});</script>"
      ]
     },
     "metadata": {},
     "output_type": "display_data"
    }
   ],
   "source": [
    "data_dict = {'拆分流程异常数':['拆分流程异常数'], '处理延期':['处理延期']}\n",
    "myModule.plot( all_dict, data_dict, '人员' ,  'line' , all='all')"
   ]
  },
  {
   "cell_type": "code",
   "execution_count": 22,
   "metadata": {},
   "outputs": [],
   "source": [
    "all_files , title = myModule.get_title(pathway , 0 ) ##给路径\n",
    "all_dict = myModule.read_xlsx(all_files, 0 ) ## read all files"
   ]
  },
  {
   "cell_type": "markdown",
   "metadata": {},
   "source": [
    "# 过滤项目个人情况"
   ]
  },
  {
   "cell_type": "markdown",
   "metadata": {},
   "source": [
    "## 产能"
   ]
  },
  {
   "cell_type": "markdown",
   "metadata": {},
   "source": [
    "### 下机批次和下机项目"
   ]
  },
  {
   "cell_type": "code",
   "execution_count": 23,
   "metadata": {
    "scrolled": false
   },
   "outputs": [
    {
     "data": {
      "application/vnd.plotly.v1+json": {
       "data": [
        {
         "name": "屈昂",
         "type": "bar",
         "uid": "ae75b3d0-c05b-11e8-b421-2c6e85b5340b",
         "x": [
          "8-1",
          "8-2",
          "8-3",
          "8-4",
          "8-5",
          "9-1",
          "9-2"
         ],
         "y": [
          42,
          74,
          75,
          119,
          85,
          135,
          45
         ]
        },
        {
         "name": "冷雪",
         "type": "bar",
         "uid": "ae75b3d1-c05b-11e8-b721-2c6e85b5340b",
         "x": [
          "8-1",
          "8-2",
          "8-3",
          "8-4",
          "8-5",
          "9-1",
          "9-2"
         ],
         "y": [
          38,
          58,
          66,
          28,
          5,
          58,
          76
         ]
        },
        {
         "name": "张悦",
         "type": "bar",
         "uid": "ae75b3d2-c05b-11e8-bf89-2c6e85b5340b",
         "x": [
          "8-1",
          "8-2",
          "8-3",
          "8-4",
          "8-5",
          "9-1",
          "9-2"
         ],
         "y": [
          2,
          2,
          1,
          1,
          7,
          4,
          0
         ]
        },
        {
         "name": "卢楠",
         "type": "bar",
         "uid": "ae75b3d3-c05b-11e8-92e7-2c6e85b5340b",
         "x": [
          "8-1",
          "8-2",
          "8-3",
          "8-4",
          "8-5",
          "9-1",
          "9-2"
         ],
         "y": [
          36,
          47,
          23,
          13,
          3,
          2,
          3
         ]
        }
       ],
       "layout": {
        "barmode": "stack",
        "title": "下机批次数周趋势图",
        "xaxis": {
         "mirror": "all",
         "nticks": 20,
         "showgrid": true,
         "showline": true,
         "title": "周",
         "zeroline": true
        },
        "yaxis": {
         "mirror": "all",
         "nticks": 20,
         "showgrid": true,
         "showline": true,
         "title": "数目",
         "zeroline": true
        }
       }
      },
      "text/html": [
       "<div id=\"e1b569ac-bcde-4f60-b80f-cbe391b96bbb\" style=\"height: 525px; width: 100%;\" class=\"plotly-graph-div\"></div><script type=\"text/javascript\">require([\"plotly\"], function(Plotly) { window.PLOTLYENV=window.PLOTLYENV || {};window.PLOTLYENV.BASE_URL=\"https://plot.ly\";Plotly.newPlot(\"e1b569ac-bcde-4f60-b80f-cbe391b96bbb\", [{\"name\": \"\\u5c48\\u6602\", \"x\": [\"8-1\", \"8-2\", \"8-3\", \"8-4\", \"8-5\", \"9-1\", \"9-2\"], \"y\": [42.0, 74.0, 75.0, 119.0, 85.0, 135.0, 45.0], \"type\": \"bar\", \"uid\": \"ae75b3d0-c05b-11e8-b421-2c6e85b5340b\"}, {\"name\": \"\\u51b7\\u96ea\", \"x\": [\"8-1\", \"8-2\", \"8-3\", \"8-4\", \"8-5\", \"9-1\", \"9-2\"], \"y\": [38.0, 58.0, 66.0, 28.0, 5.0, 58.0, 76.0], \"type\": \"bar\", \"uid\": \"ae75b3d1-c05b-11e8-b721-2c6e85b5340b\"}, {\"name\": \"\\u5f20\\u60a6\", \"x\": [\"8-1\", \"8-2\", \"8-3\", \"8-4\", \"8-5\", \"9-1\", \"9-2\"], \"y\": [2.0, 2.0, 1.0, 1.0, 7.0, 4.0, 0.0], \"type\": \"bar\", \"uid\": \"ae75b3d2-c05b-11e8-bf89-2c6e85b5340b\"}, {\"name\": \"\\u5362\\u6960\", \"x\": [\"8-1\", \"8-2\", \"8-3\", \"8-4\", \"8-5\", \"9-1\", \"9-2\"], \"y\": [36.0, 47.0, 23.0, 13.0, 3.0, 2.0, 3.0], \"type\": \"bar\", \"uid\": \"ae75b3d3-c05b-11e8-92e7-2c6e85b5340b\"}], {\"barmode\": \"stack\", \"title\": \"\\u4e0b\\u673a\\u6279\\u6b21\\u6570\\u5468\\u8d8b\\u52bf\\u56fe\", \"xaxis\": {\"mirror\": \"all\", \"nticks\": 20, \"showgrid\": true, \"showline\": true, \"title\": \"\\u5468\", \"zeroline\": true}, \"yaxis\": {\"mirror\": \"all\", \"nticks\": 20, \"showgrid\": true, \"showline\": true, \"title\": \"\\u6570\\u76ee\", \"zeroline\": true}}, {\"showLink\": true, \"linkText\": \"Export to plot.ly\"})});</script>"
      ],
      "text/vnd.plotly.v1+html": [
       "<div id=\"e1b569ac-bcde-4f60-b80f-cbe391b96bbb\" style=\"height: 525px; width: 100%;\" class=\"plotly-graph-div\"></div><script type=\"text/javascript\">require([\"plotly\"], function(Plotly) { window.PLOTLYENV=window.PLOTLYENV || {};window.PLOTLYENV.BASE_URL=\"https://plot.ly\";Plotly.newPlot(\"e1b569ac-bcde-4f60-b80f-cbe391b96bbb\", [{\"name\": \"\\u5c48\\u6602\", \"x\": [\"8-1\", \"8-2\", \"8-3\", \"8-4\", \"8-5\", \"9-1\", \"9-2\"], \"y\": [42.0, 74.0, 75.0, 119.0, 85.0, 135.0, 45.0], \"type\": \"bar\", \"uid\": \"ae75b3d0-c05b-11e8-b421-2c6e85b5340b\"}, {\"name\": \"\\u51b7\\u96ea\", \"x\": [\"8-1\", \"8-2\", \"8-3\", \"8-4\", \"8-5\", \"9-1\", \"9-2\"], \"y\": [38.0, 58.0, 66.0, 28.0, 5.0, 58.0, 76.0], \"type\": \"bar\", \"uid\": \"ae75b3d1-c05b-11e8-b721-2c6e85b5340b\"}, {\"name\": \"\\u5f20\\u60a6\", \"x\": [\"8-1\", \"8-2\", \"8-3\", \"8-4\", \"8-5\", \"9-1\", \"9-2\"], \"y\": [2.0, 2.0, 1.0, 1.0, 7.0, 4.0, 0.0], \"type\": \"bar\", \"uid\": \"ae75b3d2-c05b-11e8-bf89-2c6e85b5340b\"}, {\"name\": \"\\u5362\\u6960\", \"x\": [\"8-1\", \"8-2\", \"8-3\", \"8-4\", \"8-5\", \"9-1\", \"9-2\"], \"y\": [36.0, 47.0, 23.0, 13.0, 3.0, 2.0, 3.0], \"type\": \"bar\", \"uid\": \"ae75b3d3-c05b-11e8-92e7-2c6e85b5340b\"}], {\"barmode\": \"stack\", \"title\": \"\\u4e0b\\u673a\\u6279\\u6b21\\u6570\\u5468\\u8d8b\\u52bf\\u56fe\", \"xaxis\": {\"mirror\": \"all\", \"nticks\": 20, \"showgrid\": true, \"showline\": true, \"title\": \"\\u5468\", \"zeroline\": true}, \"yaxis\": {\"mirror\": \"all\", \"nticks\": 20, \"showgrid\": true, \"showline\": true, \"title\": \"\\u6570\\u76ee\", \"zeroline\": true}}, {\"showLink\": true, \"linkText\": \"Export to plot.ly\"})});</script>"
      ]
     },
     "metadata": {},
     "output_type": "display_data"
    },
    {
     "data": {
      "application/vnd.plotly.v1+json": {
       "data": [
        {
         "name": "屈昂",
         "type": "bar",
         "uid": "ae8a2336-c05b-11e8-962e-2c6e85b5340b",
         "x": [
          "8",
          "9"
         ],
         "y": [
          395,
          180
         ]
        },
        {
         "name": "冷雪",
         "type": "bar",
         "uid": "ae8a2337-c05b-11e8-8237-2c6e85b5340b",
         "x": [
          "8",
          "9"
         ],
         "y": [
          195,
          134
         ]
        },
        {
         "name": "张悦",
         "type": "bar",
         "uid": "ae8a2338-c05b-11e8-9bbb-2c6e85b5340b",
         "x": [
          "8",
          "9"
         ],
         "y": [
          13,
          4
         ]
        },
        {
         "name": "卢楠",
         "type": "bar",
         "uid": "ae8a2339-c05b-11e8-998d-2c6e85b5340b",
         "x": [
          "8",
          "9"
         ],
         "y": [
          122,
          5
         ]
        }
       ],
       "layout": {
        "barmode": "stack",
        "title": "下机批次数月趋势图",
        "xaxis": {
         "mirror": "all",
         "nticks": 20,
         "showgrid": true,
         "showline": true,
         "title": "月",
         "zeroline": true
        },
        "yaxis": {
         "mirror": "all",
         "nticks": 20,
         "showgrid": true,
         "showline": true,
         "title": "数目",
         "zeroline": true
        }
       }
      },
      "text/html": [
       "<div id=\"609163b9-4ff5-4d48-8df3-73ef1ae4ff4f\" style=\"height: 525px; width: 100%;\" class=\"plotly-graph-div\"></div><script type=\"text/javascript\">require([\"plotly\"], function(Plotly) { window.PLOTLYENV=window.PLOTLYENV || {};window.PLOTLYENV.BASE_URL=\"https://plot.ly\";Plotly.newPlot(\"609163b9-4ff5-4d48-8df3-73ef1ae4ff4f\", [{\"name\": \"\\u5c48\\u6602\", \"x\": [\"8\", \"9\"], \"y\": [395.0, 180.0], \"type\": \"bar\", \"uid\": \"ae8a2336-c05b-11e8-962e-2c6e85b5340b\"}, {\"name\": \"\\u51b7\\u96ea\", \"x\": [\"8\", \"9\"], \"y\": [195.0, 134.0], \"type\": \"bar\", \"uid\": \"ae8a2337-c05b-11e8-8237-2c6e85b5340b\"}, {\"name\": \"\\u5f20\\u60a6\", \"x\": [\"8\", \"9\"], \"y\": [13.0, 4.0], \"type\": \"bar\", \"uid\": \"ae8a2338-c05b-11e8-9bbb-2c6e85b5340b\"}, {\"name\": \"\\u5362\\u6960\", \"x\": [\"8\", \"9\"], \"y\": [122.0, 5.0], \"type\": \"bar\", \"uid\": \"ae8a2339-c05b-11e8-998d-2c6e85b5340b\"}], {\"barmode\": \"stack\", \"title\": \"\\u4e0b\\u673a\\u6279\\u6b21\\u6570\\u6708\\u8d8b\\u52bf\\u56fe\", \"xaxis\": {\"mirror\": \"all\", \"nticks\": 20, \"showgrid\": true, \"showline\": true, \"title\": \"\\u6708\", \"zeroline\": true}, \"yaxis\": {\"mirror\": \"all\", \"nticks\": 20, \"showgrid\": true, \"showline\": true, \"title\": \"\\u6570\\u76ee\", \"zeroline\": true}}, {\"showLink\": true, \"linkText\": \"Export to plot.ly\"})});</script>"
      ],
      "text/vnd.plotly.v1+html": [
       "<div id=\"609163b9-4ff5-4d48-8df3-73ef1ae4ff4f\" style=\"height: 525px; width: 100%;\" class=\"plotly-graph-div\"></div><script type=\"text/javascript\">require([\"plotly\"], function(Plotly) { window.PLOTLYENV=window.PLOTLYENV || {};window.PLOTLYENV.BASE_URL=\"https://plot.ly\";Plotly.newPlot(\"609163b9-4ff5-4d48-8df3-73ef1ae4ff4f\", [{\"name\": \"\\u5c48\\u6602\", \"x\": [\"8\", \"9\"], \"y\": [395.0, 180.0], \"type\": \"bar\", \"uid\": \"ae8a2336-c05b-11e8-962e-2c6e85b5340b\"}, {\"name\": \"\\u51b7\\u96ea\", \"x\": [\"8\", \"9\"], \"y\": [195.0, 134.0], \"type\": \"bar\", \"uid\": \"ae8a2337-c05b-11e8-8237-2c6e85b5340b\"}, {\"name\": \"\\u5f20\\u60a6\", \"x\": [\"8\", \"9\"], \"y\": [13.0, 4.0], \"type\": \"bar\", \"uid\": \"ae8a2338-c05b-11e8-9bbb-2c6e85b5340b\"}, {\"name\": \"\\u5362\\u6960\", \"x\": [\"8\", \"9\"], \"y\": [122.0, 5.0], \"type\": \"bar\", \"uid\": \"ae8a2339-c05b-11e8-998d-2c6e85b5340b\"}], {\"barmode\": \"stack\", \"title\": \"\\u4e0b\\u673a\\u6279\\u6b21\\u6570\\u6708\\u8d8b\\u52bf\\u56fe\", \"xaxis\": {\"mirror\": \"all\", \"nticks\": 20, \"showgrid\": true, \"showline\": true, \"title\": \"\\u6708\", \"zeroline\": true}, \"yaxis\": {\"mirror\": \"all\", \"nticks\": 20, \"showgrid\": true, \"showline\": true, \"title\": \"\\u6570\\u76ee\", \"zeroline\": true}}, {\"showLink\": true, \"linkText\": \"Export to plot.ly\"})});</script>"
      ]
     },
     "metadata": {},
     "output_type": "display_data"
    },
    {
     "data": {
      "application/vnd.plotly.v1+json": {
       "data": [
        {
         "name": "屈昂",
         "type": "bar",
         "uid": "aec5c3f4-c05b-11e8-9ae1-2c6e85b5340b",
         "x": [
          "8-1",
          "8-2",
          "8-3",
          "8-4",
          "8-5",
          "9-1",
          "9-2"
         ],
         "y": [
          36,
          62,
          62,
          96,
          76,
          117,
          38
         ]
        },
        {
         "name": "冷雪",
         "type": "bar",
         "uid": "aec5c3f5-c05b-11e8-aa51-2c6e85b5340b",
         "x": [
          "8-1",
          "8-2",
          "8-3",
          "8-4",
          "8-5",
          "9-1",
          "9-2"
         ],
         "y": [
          31,
          49,
          51,
          26,
          2,
          54,
          63
         ]
        },
        {
         "name": "张悦",
         "type": "bar",
         "uid": "aec5c3f6-c05b-11e8-a850-2c6e85b5340b",
         "x": [
          "8-1",
          "8-2",
          "8-3",
          "8-4",
          "8-5",
          "9-1",
          "9-2"
         ],
         "y": [
          1,
          1,
          1,
          1,
          5,
          2,
          0
         ]
        },
        {
         "name": "卢楠",
         "type": "bar",
         "uid": "aec5c3f7-c05b-11e8-9414-2c6e85b5340b",
         "x": [
          "8-1",
          "8-2",
          "8-3",
          "8-4",
          "8-5",
          "9-1",
          "9-2"
         ],
         "y": [
          26,
          34,
          21,
          13,
          2,
          1,
          2
         ]
        }
       ],
       "layout": {
        "barmode": "stack",
        "title": "下机项目数周趋势图",
        "xaxis": {
         "mirror": "all",
         "nticks": 20,
         "showgrid": true,
         "showline": true,
         "title": "周",
         "zeroline": true
        },
        "yaxis": {
         "mirror": "all",
         "nticks": 20,
         "showgrid": true,
         "showline": true,
         "title": "数目",
         "zeroline": true
        }
       }
      },
      "text/html": [
       "<div id=\"d4a0dba3-bba9-44e2-9cde-c2d25286aa2a\" style=\"height: 525px; width: 100%;\" class=\"plotly-graph-div\"></div><script type=\"text/javascript\">require([\"plotly\"], function(Plotly) { window.PLOTLYENV=window.PLOTLYENV || {};window.PLOTLYENV.BASE_URL=\"https://plot.ly\";Plotly.newPlot(\"d4a0dba3-bba9-44e2-9cde-c2d25286aa2a\", [{\"name\": \"\\u5c48\\u6602\", \"x\": [\"8-1\", \"8-2\", \"8-3\", \"8-4\", \"8-5\", \"9-1\", \"9-2\"], \"y\": [36.0, 62.0, 62.0, 96.0, 76.0, 117.0, 38.0], \"type\": \"bar\", \"uid\": \"aec5c3f4-c05b-11e8-9ae1-2c6e85b5340b\"}, {\"name\": \"\\u51b7\\u96ea\", \"x\": [\"8-1\", \"8-2\", \"8-3\", \"8-4\", \"8-5\", \"9-1\", \"9-2\"], \"y\": [31.0, 49.0, 51.0, 26.0, 2.0, 54.0, 63.0], \"type\": \"bar\", \"uid\": \"aec5c3f5-c05b-11e8-aa51-2c6e85b5340b\"}, {\"name\": \"\\u5f20\\u60a6\", \"x\": [\"8-1\", \"8-2\", \"8-3\", \"8-4\", \"8-5\", \"9-1\", \"9-2\"], \"y\": [1.0, 1.0, 1.0, 1.0, 5.0, 2.0, 0.0], \"type\": \"bar\", \"uid\": \"aec5c3f6-c05b-11e8-a850-2c6e85b5340b\"}, {\"name\": \"\\u5362\\u6960\", \"x\": [\"8-1\", \"8-2\", \"8-3\", \"8-4\", \"8-5\", \"9-1\", \"9-2\"], \"y\": [26.0, 34.0, 21.0, 13.0, 2.0, 1.0, 2.0], \"type\": \"bar\", \"uid\": \"aec5c3f7-c05b-11e8-9414-2c6e85b5340b\"}], {\"barmode\": \"stack\", \"title\": \"\\u4e0b\\u673a\\u9879\\u76ee\\u6570\\u5468\\u8d8b\\u52bf\\u56fe\", \"xaxis\": {\"mirror\": \"all\", \"nticks\": 20, \"showgrid\": true, \"showline\": true, \"title\": \"\\u5468\", \"zeroline\": true}, \"yaxis\": {\"mirror\": \"all\", \"nticks\": 20, \"showgrid\": true, \"showline\": true, \"title\": \"\\u6570\\u76ee\", \"zeroline\": true}}, {\"showLink\": true, \"linkText\": \"Export to plot.ly\"})});</script>"
      ],
      "text/vnd.plotly.v1+html": [
       "<div id=\"d4a0dba3-bba9-44e2-9cde-c2d25286aa2a\" style=\"height: 525px; width: 100%;\" class=\"plotly-graph-div\"></div><script type=\"text/javascript\">require([\"plotly\"], function(Plotly) { window.PLOTLYENV=window.PLOTLYENV || {};window.PLOTLYENV.BASE_URL=\"https://plot.ly\";Plotly.newPlot(\"d4a0dba3-bba9-44e2-9cde-c2d25286aa2a\", [{\"name\": \"\\u5c48\\u6602\", \"x\": [\"8-1\", \"8-2\", \"8-3\", \"8-4\", \"8-5\", \"9-1\", \"9-2\"], \"y\": [36.0, 62.0, 62.0, 96.0, 76.0, 117.0, 38.0], \"type\": \"bar\", \"uid\": \"aec5c3f4-c05b-11e8-9ae1-2c6e85b5340b\"}, {\"name\": \"\\u51b7\\u96ea\", \"x\": [\"8-1\", \"8-2\", \"8-3\", \"8-4\", \"8-5\", \"9-1\", \"9-2\"], \"y\": [31.0, 49.0, 51.0, 26.0, 2.0, 54.0, 63.0], \"type\": \"bar\", \"uid\": \"aec5c3f5-c05b-11e8-aa51-2c6e85b5340b\"}, {\"name\": \"\\u5f20\\u60a6\", \"x\": [\"8-1\", \"8-2\", \"8-3\", \"8-4\", \"8-5\", \"9-1\", \"9-2\"], \"y\": [1.0, 1.0, 1.0, 1.0, 5.0, 2.0, 0.0], \"type\": \"bar\", \"uid\": \"aec5c3f6-c05b-11e8-a850-2c6e85b5340b\"}, {\"name\": \"\\u5362\\u6960\", \"x\": [\"8-1\", \"8-2\", \"8-3\", \"8-4\", \"8-5\", \"9-1\", \"9-2\"], \"y\": [26.0, 34.0, 21.0, 13.0, 2.0, 1.0, 2.0], \"type\": \"bar\", \"uid\": \"aec5c3f7-c05b-11e8-9414-2c6e85b5340b\"}], {\"barmode\": \"stack\", \"title\": \"\\u4e0b\\u673a\\u9879\\u76ee\\u6570\\u5468\\u8d8b\\u52bf\\u56fe\", \"xaxis\": {\"mirror\": \"all\", \"nticks\": 20, \"showgrid\": true, \"showline\": true, \"title\": \"\\u5468\", \"zeroline\": true}, \"yaxis\": {\"mirror\": \"all\", \"nticks\": 20, \"showgrid\": true, \"showline\": true, \"title\": \"\\u6570\\u76ee\", \"zeroline\": true}}, {\"showLink\": true, \"linkText\": \"Export to plot.ly\"})});</script>"
      ]
     },
     "metadata": {},
     "output_type": "display_data"
    },
    {
     "data": {
      "application/vnd.plotly.v1+json": {
       "data": [
        {
         "name": "屈昂",
         "type": "bar",
         "uid": "aedc7cdc-c05b-11e8-b1ef-2c6e85b5340b",
         "x": [
          "8",
          "9"
         ],
         "y": [
          332,
          155
         ]
        },
        {
         "name": "冷雪",
         "type": "bar",
         "uid": "aedc7cdd-c05b-11e8-82bb-2c6e85b5340b",
         "x": [
          "8",
          "9"
         ],
         "y": [
          159,
          117
         ]
        },
        {
         "name": "张悦",
         "type": "bar",
         "uid": "aedc7cde-c05b-11e8-ad25-2c6e85b5340b",
         "x": [
          "8",
          "9"
         ],
         "y": [
          9,
          2
         ]
        },
        {
         "name": "卢楠",
         "type": "bar",
         "uid": "aedc7cdf-c05b-11e8-84e0-2c6e85b5340b",
         "x": [
          "8",
          "9"
         ],
         "y": [
          96,
          3
         ]
        }
       ],
       "layout": {
        "barmode": "stack",
        "title": "下机项目数月趋势图",
        "xaxis": {
         "mirror": "all",
         "nticks": 20,
         "showgrid": true,
         "showline": true,
         "title": "月",
         "zeroline": true
        },
        "yaxis": {
         "mirror": "all",
         "nticks": 20,
         "showgrid": true,
         "showline": true,
         "title": "数目",
         "zeroline": true
        }
       }
      },
      "text/html": [
       "<div id=\"28840d99-e48f-4aac-a76b-e9714e3448bb\" style=\"height: 525px; width: 100%;\" class=\"plotly-graph-div\"></div><script type=\"text/javascript\">require([\"plotly\"], function(Plotly) { window.PLOTLYENV=window.PLOTLYENV || {};window.PLOTLYENV.BASE_URL=\"https://plot.ly\";Plotly.newPlot(\"28840d99-e48f-4aac-a76b-e9714e3448bb\", [{\"name\": \"\\u5c48\\u6602\", \"x\": [\"8\", \"9\"], \"y\": [332.0, 155.0], \"type\": \"bar\", \"uid\": \"aedc7cdc-c05b-11e8-b1ef-2c6e85b5340b\"}, {\"name\": \"\\u51b7\\u96ea\", \"x\": [\"8\", \"9\"], \"y\": [159.0, 117.0], \"type\": \"bar\", \"uid\": \"aedc7cdd-c05b-11e8-82bb-2c6e85b5340b\"}, {\"name\": \"\\u5f20\\u60a6\", \"x\": [\"8\", \"9\"], \"y\": [9.0, 2.0], \"type\": \"bar\", \"uid\": \"aedc7cde-c05b-11e8-ad25-2c6e85b5340b\"}, {\"name\": \"\\u5362\\u6960\", \"x\": [\"8\", \"9\"], \"y\": [96.0, 3.0], \"type\": \"bar\", \"uid\": \"aedc7cdf-c05b-11e8-84e0-2c6e85b5340b\"}], {\"barmode\": \"stack\", \"title\": \"\\u4e0b\\u673a\\u9879\\u76ee\\u6570\\u6708\\u8d8b\\u52bf\\u56fe\", \"xaxis\": {\"mirror\": \"all\", \"nticks\": 20, \"showgrid\": true, \"showline\": true, \"title\": \"\\u6708\", \"zeroline\": true}, \"yaxis\": {\"mirror\": \"all\", \"nticks\": 20, \"showgrid\": true, \"showline\": true, \"title\": \"\\u6570\\u76ee\", \"zeroline\": true}}, {\"showLink\": true, \"linkText\": \"Export to plot.ly\"})});</script>"
      ],
      "text/vnd.plotly.v1+html": [
       "<div id=\"28840d99-e48f-4aac-a76b-e9714e3448bb\" style=\"height: 525px; width: 100%;\" class=\"plotly-graph-div\"></div><script type=\"text/javascript\">require([\"plotly\"], function(Plotly) { window.PLOTLYENV=window.PLOTLYENV || {};window.PLOTLYENV.BASE_URL=\"https://plot.ly\";Plotly.newPlot(\"28840d99-e48f-4aac-a76b-e9714e3448bb\", [{\"name\": \"\\u5c48\\u6602\", \"x\": [\"8\", \"9\"], \"y\": [332.0, 155.0], \"type\": \"bar\", \"uid\": \"aedc7cdc-c05b-11e8-b1ef-2c6e85b5340b\"}, {\"name\": \"\\u51b7\\u96ea\", \"x\": [\"8\", \"9\"], \"y\": [159.0, 117.0], \"type\": \"bar\", \"uid\": \"aedc7cdd-c05b-11e8-82bb-2c6e85b5340b\"}, {\"name\": \"\\u5f20\\u60a6\", \"x\": [\"8\", \"9\"], \"y\": [9.0, 2.0], \"type\": \"bar\", \"uid\": \"aedc7cde-c05b-11e8-ad25-2c6e85b5340b\"}, {\"name\": \"\\u5362\\u6960\", \"x\": [\"8\", \"9\"], \"y\": [96.0, 3.0], \"type\": \"bar\", \"uid\": \"aedc7cdf-c05b-11e8-84e0-2c6e85b5340b\"}], {\"barmode\": \"stack\", \"title\": \"\\u4e0b\\u673a\\u9879\\u76ee\\u6570\\u6708\\u8d8b\\u52bf\\u56fe\", \"xaxis\": {\"mirror\": \"all\", \"nticks\": 20, \"showgrid\": true, \"showline\": true, \"title\": \"\\u6708\", \"zeroline\": true}, \"yaxis\": {\"mirror\": \"all\", \"nticks\": 20, \"showgrid\": true, \"showline\": true, \"title\": \"\\u6570\\u76ee\", \"zeroline\": true}}, {\"showLink\": true, \"linkText\": \"Export to plot.ly\"})});</script>"
      ]
     },
     "metadata": {},
     "output_type": "display_data"
    }
   ],
   "source": [
    "myModule.stack_bar_plot( all_dict, ['下机批次数'] )\n",
    "myModule.stack_bar_plot( all_dict, ['下机项目数'] )"
   ]
  },
  {
   "cell_type": "code",
   "execution_count": 24,
   "metadata": {},
   "outputs": [
    {
     "data": {
      "application/vnd.plotly.v1+json": {
       "data": [
        {
         "name": "屈昂_下机批次数",
         "type": "scatter",
         "uid": "af27367a-c05b-11e8-af63-2c6e85b5340b",
         "x": [
          "8-1",
          "8-2",
          "8-3",
          "8-4",
          "8-5",
          "9-1",
          "9-2"
         ],
         "y": [
          42,
          74,
          75,
          119,
          85,
          135,
          45
         ]
        },
        {
         "name": "屈昂_下机项目数",
         "type": "scatter",
         "uid": "af27367b-c05b-11e8-ae1d-2c6e85b5340b",
         "x": [
          "8-1",
          "8-2",
          "8-3",
          "8-4",
          "8-5",
          "9-1",
          "9-2"
         ],
         "y": [
          36,
          62,
          62,
          96,
          76,
          117,
          38
         ]
        },
        {
         "name": "冷雪_下机批次数",
         "type": "scatter",
         "uid": "af27367c-c05b-11e8-9bb0-2c6e85b5340b",
         "x": [
          "8-1",
          "8-2",
          "8-3",
          "8-4",
          "8-5",
          "9-1",
          "9-2"
         ],
         "y": [
          38,
          58,
          66,
          28,
          5,
          58,
          76
         ]
        },
        {
         "name": "冷雪_下机项目数",
         "type": "scatter",
         "uid": "af27367d-c05b-11e8-827b-2c6e85b5340b",
         "x": [
          "8-1",
          "8-2",
          "8-3",
          "8-4",
          "8-5",
          "9-1",
          "9-2"
         ],
         "y": [
          31,
          49,
          51,
          26,
          2,
          54,
          63
         ]
        },
        {
         "name": "张悦_下机批次数",
         "type": "scatter",
         "uid": "af27367e-c05b-11e8-a7c8-2c6e85b5340b",
         "x": [
          "8-1",
          "8-2",
          "8-3",
          "8-4",
          "8-5",
          "9-1",
          "9-2"
         ],
         "y": [
          2,
          2,
          1,
          1,
          7,
          4,
          0
         ]
        },
        {
         "name": "张悦_下机项目数",
         "type": "scatter",
         "uid": "af27367f-c05b-11e8-a0e9-2c6e85b5340b",
         "x": [
          "8-1",
          "8-2",
          "8-3",
          "8-4",
          "8-5",
          "9-1",
          "9-2"
         ],
         "y": [
          1,
          1,
          1,
          1,
          5,
          2,
          0
         ]
        },
        {
         "name": "卢楠_下机批次数",
         "type": "scatter",
         "uid": "af273680-c05b-11e8-9b57-2c6e85b5340b",
         "x": [
          "8-1",
          "8-2",
          "8-3",
          "8-4",
          "8-5",
          "9-1",
          "9-2"
         ],
         "y": [
          36,
          47,
          23,
          13,
          3,
          2,
          3
         ]
        },
        {
         "name": "卢楠_下机项目数",
         "type": "scatter",
         "uid": "af275d88-c05b-11e8-ac20-2c6e85b5340b",
         "x": [
          "8-1",
          "8-2",
          "8-3",
          "8-4",
          "8-5",
          "9-1",
          "9-2"
         ],
         "y": [
          26,
          34,
          21,
          13,
          2,
          1,
          2
         ]
        }
       ],
       "layout": {
        "title": "下机批次数&下机项目数周趋势图",
        "xaxis": {
         "mirror": "all",
         "nticks": 20,
         "showgrid": true,
         "showline": true,
         "title": "周",
         "zeroline": true
        },
        "yaxis": {
         "mirror": "all",
         "nticks": 20,
         "showgrid": true,
         "showline": true,
         "title": "下机批次数&下机项目数",
         "zeroline": true
        }
       }
      },
      "text/html": [
       "<div id=\"014e0653-f717-4f3e-b42f-3787bbe0dc87\" style=\"height: 525px; width: 100%;\" class=\"plotly-graph-div\"></div><script type=\"text/javascript\">require([\"plotly\"], function(Plotly) { window.PLOTLYENV=window.PLOTLYENV || {};window.PLOTLYENV.BASE_URL=\"https://plot.ly\";Plotly.newPlot(\"014e0653-f717-4f3e-b42f-3787bbe0dc87\", [{\"name\": \"\\u5c48\\u6602_\\u4e0b\\u673a\\u6279\\u6b21\\u6570\", \"x\": [\"8-1\", \"8-2\", \"8-3\", \"8-4\", \"8-5\", \"9-1\", \"9-2\"], \"y\": [42.0, 74.0, 75.0, 119.0, 85.0, 135.0, 45.0], \"type\": \"scatter\", \"uid\": \"af27367a-c05b-11e8-af63-2c6e85b5340b\"}, {\"name\": \"\\u5c48\\u6602_\\u4e0b\\u673a\\u9879\\u76ee\\u6570\", \"x\": [\"8-1\", \"8-2\", \"8-3\", \"8-4\", \"8-5\", \"9-1\", \"9-2\"], \"y\": [36.0, 62.0, 62.0, 96.0, 76.0, 117.0, 38.0], \"type\": \"scatter\", \"uid\": \"af27367b-c05b-11e8-ae1d-2c6e85b5340b\"}, {\"name\": \"\\u51b7\\u96ea_\\u4e0b\\u673a\\u6279\\u6b21\\u6570\", \"x\": [\"8-1\", \"8-2\", \"8-3\", \"8-4\", \"8-5\", \"9-1\", \"9-2\"], \"y\": [38.0, 58.0, 66.0, 28.0, 5.0, 58.0, 76.0], \"type\": \"scatter\", \"uid\": \"af27367c-c05b-11e8-9bb0-2c6e85b5340b\"}, {\"name\": \"\\u51b7\\u96ea_\\u4e0b\\u673a\\u9879\\u76ee\\u6570\", \"x\": [\"8-1\", \"8-2\", \"8-3\", \"8-4\", \"8-5\", \"9-1\", \"9-2\"], \"y\": [31.0, 49.0, 51.0, 26.0, 2.0, 54.0, 63.0], \"type\": \"scatter\", \"uid\": \"af27367d-c05b-11e8-827b-2c6e85b5340b\"}, {\"name\": \"\\u5f20\\u60a6_\\u4e0b\\u673a\\u6279\\u6b21\\u6570\", \"x\": [\"8-1\", \"8-2\", \"8-3\", \"8-4\", \"8-5\", \"9-1\", \"9-2\"], \"y\": [2.0, 2.0, 1.0, 1.0, 7.0, 4.0, 0.0], \"type\": \"scatter\", \"uid\": \"af27367e-c05b-11e8-a7c8-2c6e85b5340b\"}, {\"name\": \"\\u5f20\\u60a6_\\u4e0b\\u673a\\u9879\\u76ee\\u6570\", \"x\": [\"8-1\", \"8-2\", \"8-3\", \"8-4\", \"8-5\", \"9-1\", \"9-2\"], \"y\": [1.0, 1.0, 1.0, 1.0, 5.0, 2.0, 0.0], \"type\": \"scatter\", \"uid\": \"af27367f-c05b-11e8-a0e9-2c6e85b5340b\"}, {\"name\": \"\\u5362\\u6960_\\u4e0b\\u673a\\u6279\\u6b21\\u6570\", \"x\": [\"8-1\", \"8-2\", \"8-3\", \"8-4\", \"8-5\", \"9-1\", \"9-2\"], \"y\": [36.0, 47.0, 23.0, 13.0, 3.0, 2.0, 3.0], \"type\": \"scatter\", \"uid\": \"af273680-c05b-11e8-9b57-2c6e85b5340b\"}, {\"name\": \"\\u5362\\u6960_\\u4e0b\\u673a\\u9879\\u76ee\\u6570\", \"x\": [\"8-1\", \"8-2\", \"8-3\", \"8-4\", \"8-5\", \"9-1\", \"9-2\"], \"y\": [26.0, 34.0, 21.0, 13.0, 2.0, 1.0, 2.0], \"type\": \"scatter\", \"uid\": \"af275d88-c05b-11e8-ac20-2c6e85b5340b\"}], {\"title\": \"\\u4e0b\\u673a\\u6279\\u6b21\\u6570&\\u4e0b\\u673a\\u9879\\u76ee\\u6570\\u5468\\u8d8b\\u52bf\\u56fe\", \"xaxis\": {\"mirror\": \"all\", \"nticks\": 20, \"showgrid\": true, \"showline\": true, \"title\": \"\\u5468\", \"zeroline\": true}, \"yaxis\": {\"mirror\": \"all\", \"nticks\": 20, \"showgrid\": true, \"showline\": true, \"title\": \"\\u4e0b\\u673a\\u6279\\u6b21\\u6570&\\u4e0b\\u673a\\u9879\\u76ee\\u6570\", \"zeroline\": true}}, {\"showLink\": true, \"linkText\": \"Export to plot.ly\"})});</script>"
      ],
      "text/vnd.plotly.v1+html": [
       "<div id=\"014e0653-f717-4f3e-b42f-3787bbe0dc87\" style=\"height: 525px; width: 100%;\" class=\"plotly-graph-div\"></div><script type=\"text/javascript\">require([\"plotly\"], function(Plotly) { window.PLOTLYENV=window.PLOTLYENV || {};window.PLOTLYENV.BASE_URL=\"https://plot.ly\";Plotly.newPlot(\"014e0653-f717-4f3e-b42f-3787bbe0dc87\", [{\"name\": \"\\u5c48\\u6602_\\u4e0b\\u673a\\u6279\\u6b21\\u6570\", \"x\": [\"8-1\", \"8-2\", \"8-3\", \"8-4\", \"8-5\", \"9-1\", \"9-2\"], \"y\": [42.0, 74.0, 75.0, 119.0, 85.0, 135.0, 45.0], \"type\": \"scatter\", \"uid\": \"af27367a-c05b-11e8-af63-2c6e85b5340b\"}, {\"name\": \"\\u5c48\\u6602_\\u4e0b\\u673a\\u9879\\u76ee\\u6570\", \"x\": [\"8-1\", \"8-2\", \"8-3\", \"8-4\", \"8-5\", \"9-1\", \"9-2\"], \"y\": [36.0, 62.0, 62.0, 96.0, 76.0, 117.0, 38.0], \"type\": \"scatter\", \"uid\": \"af27367b-c05b-11e8-ae1d-2c6e85b5340b\"}, {\"name\": \"\\u51b7\\u96ea_\\u4e0b\\u673a\\u6279\\u6b21\\u6570\", \"x\": [\"8-1\", \"8-2\", \"8-3\", \"8-4\", \"8-5\", \"9-1\", \"9-2\"], \"y\": [38.0, 58.0, 66.0, 28.0, 5.0, 58.0, 76.0], \"type\": \"scatter\", \"uid\": \"af27367c-c05b-11e8-9bb0-2c6e85b5340b\"}, {\"name\": \"\\u51b7\\u96ea_\\u4e0b\\u673a\\u9879\\u76ee\\u6570\", \"x\": [\"8-1\", \"8-2\", \"8-3\", \"8-4\", \"8-5\", \"9-1\", \"9-2\"], \"y\": [31.0, 49.0, 51.0, 26.0, 2.0, 54.0, 63.0], \"type\": \"scatter\", \"uid\": \"af27367d-c05b-11e8-827b-2c6e85b5340b\"}, {\"name\": \"\\u5f20\\u60a6_\\u4e0b\\u673a\\u6279\\u6b21\\u6570\", \"x\": [\"8-1\", \"8-2\", \"8-3\", \"8-4\", \"8-5\", \"9-1\", \"9-2\"], \"y\": [2.0, 2.0, 1.0, 1.0, 7.0, 4.0, 0.0], \"type\": \"scatter\", \"uid\": \"af27367e-c05b-11e8-a7c8-2c6e85b5340b\"}, {\"name\": \"\\u5f20\\u60a6_\\u4e0b\\u673a\\u9879\\u76ee\\u6570\", \"x\": [\"8-1\", \"8-2\", \"8-3\", \"8-4\", \"8-5\", \"9-1\", \"9-2\"], \"y\": [1.0, 1.0, 1.0, 1.0, 5.0, 2.0, 0.0], \"type\": \"scatter\", \"uid\": \"af27367f-c05b-11e8-a0e9-2c6e85b5340b\"}, {\"name\": \"\\u5362\\u6960_\\u4e0b\\u673a\\u6279\\u6b21\\u6570\", \"x\": [\"8-1\", \"8-2\", \"8-3\", \"8-4\", \"8-5\", \"9-1\", \"9-2\"], \"y\": [36.0, 47.0, 23.0, 13.0, 3.0, 2.0, 3.0], \"type\": \"scatter\", \"uid\": \"af273680-c05b-11e8-9b57-2c6e85b5340b\"}, {\"name\": \"\\u5362\\u6960_\\u4e0b\\u673a\\u9879\\u76ee\\u6570\", \"x\": [\"8-1\", \"8-2\", \"8-3\", \"8-4\", \"8-5\", \"9-1\", \"9-2\"], \"y\": [26.0, 34.0, 21.0, 13.0, 2.0, 1.0, 2.0], \"type\": \"scatter\", \"uid\": \"af275d88-c05b-11e8-ac20-2c6e85b5340b\"}], {\"title\": \"\\u4e0b\\u673a\\u6279\\u6b21\\u6570&\\u4e0b\\u673a\\u9879\\u76ee\\u6570\\u5468\\u8d8b\\u52bf\\u56fe\", \"xaxis\": {\"mirror\": \"all\", \"nticks\": 20, \"showgrid\": true, \"showline\": true, \"title\": \"\\u5468\", \"zeroline\": true}, \"yaxis\": {\"mirror\": \"all\", \"nticks\": 20, \"showgrid\": true, \"showline\": true, \"title\": \"\\u4e0b\\u673a\\u6279\\u6b21\\u6570&\\u4e0b\\u673a\\u9879\\u76ee\\u6570\", \"zeroline\": true}}, {\"showLink\": true, \"linkText\": \"Export to plot.ly\"})});</script>"
      ]
     },
     "metadata": {},
     "output_type": "display_data"
    },
    {
     "data": {
      "application/vnd.plotly.v1+json": {
       "data": [
        {
         "name": "屈昂_下机批次数",
         "type": "scatter",
         "uid": "af4de65c-c05b-11e8-bdd8-2c6e85b5340b",
         "x": [
          "8",
          "9"
         ],
         "y": [
          395,
          180
         ]
        },
        {
         "name": "屈昂_下机项目数",
         "type": "scatter",
         "uid": "af4de65d-c05b-11e8-b16a-2c6e85b5340b",
         "x": [
          "8",
          "9"
         ],
         "y": [
          332,
          155
         ]
        },
        {
         "name": "冷雪_下机批次数",
         "type": "scatter",
         "uid": "af4de65e-c05b-11e8-bf94-2c6e85b5340b",
         "x": [
          "8",
          "9"
         ],
         "y": [
          195,
          134
         ]
        },
        {
         "name": "冷雪_下机项目数",
         "type": "scatter",
         "uid": "af4de65f-c05b-11e8-ae81-2c6e85b5340b",
         "x": [
          "8",
          "9"
         ],
         "y": [
          159,
          117
         ]
        },
        {
         "name": "张悦_下机批次数",
         "type": "scatter",
         "uid": "af4de660-c05b-11e8-aaf9-2c6e85b5340b",
         "x": [
          "8",
          "9"
         ],
         "y": [
          13,
          4
         ]
        },
        {
         "name": "张悦_下机项目数",
         "type": "scatter",
         "uid": "af4e0d64-c05b-11e8-be8c-2c6e85b5340b",
         "x": [
          "8",
          "9"
         ],
         "y": [
          9,
          2
         ]
        },
        {
         "name": "卢楠_下机批次数",
         "type": "scatter",
         "uid": "af4e0d65-c05b-11e8-87bc-2c6e85b5340b",
         "x": [
          "8",
          "9"
         ],
         "y": [
          122,
          5
         ]
        },
        {
         "name": "卢楠_下机项目数",
         "type": "scatter",
         "uid": "af4e0d66-c05b-11e8-a775-2c6e85b5340b",
         "x": [
          "8",
          "9"
         ],
         "y": [
          96,
          3
         ]
        }
       ],
       "layout": {
        "title": "下机批次数&下机项目数月趋势图",
        "xaxis": {
         "mirror": "all",
         "nticks": 20,
         "showgrid": true,
         "showline": true,
         "title": "月",
         "zeroline": true
        },
        "yaxis": {
         "mirror": "all",
         "nticks": 20,
         "showgrid": true,
         "showline": true,
         "title": "下机批次数&下机项目数",
         "zeroline": true
        }
       }
      },
      "text/html": [
       "<div id=\"5985566e-8911-4729-95ae-669b897dc1cd\" style=\"height: 525px; width: 100%;\" class=\"plotly-graph-div\"></div><script type=\"text/javascript\">require([\"plotly\"], function(Plotly) { window.PLOTLYENV=window.PLOTLYENV || {};window.PLOTLYENV.BASE_URL=\"https://plot.ly\";Plotly.newPlot(\"5985566e-8911-4729-95ae-669b897dc1cd\", [{\"name\": \"\\u5c48\\u6602_\\u4e0b\\u673a\\u6279\\u6b21\\u6570\", \"x\": [\"8\", \"9\"], \"y\": [395.0, 180.0], \"type\": \"scatter\", \"uid\": \"af4de65c-c05b-11e8-bdd8-2c6e85b5340b\"}, {\"name\": \"\\u5c48\\u6602_\\u4e0b\\u673a\\u9879\\u76ee\\u6570\", \"x\": [\"8\", \"9\"], \"y\": [332.0, 155.0], \"type\": \"scatter\", \"uid\": \"af4de65d-c05b-11e8-b16a-2c6e85b5340b\"}, {\"name\": \"\\u51b7\\u96ea_\\u4e0b\\u673a\\u6279\\u6b21\\u6570\", \"x\": [\"8\", \"9\"], \"y\": [195.0, 134.0], \"type\": \"scatter\", \"uid\": \"af4de65e-c05b-11e8-bf94-2c6e85b5340b\"}, {\"name\": \"\\u51b7\\u96ea_\\u4e0b\\u673a\\u9879\\u76ee\\u6570\", \"x\": [\"8\", \"9\"], \"y\": [159.0, 117.0], \"type\": \"scatter\", \"uid\": \"af4de65f-c05b-11e8-ae81-2c6e85b5340b\"}, {\"name\": \"\\u5f20\\u60a6_\\u4e0b\\u673a\\u6279\\u6b21\\u6570\", \"x\": [\"8\", \"9\"], \"y\": [13.0, 4.0], \"type\": \"scatter\", \"uid\": \"af4de660-c05b-11e8-aaf9-2c6e85b5340b\"}, {\"name\": \"\\u5f20\\u60a6_\\u4e0b\\u673a\\u9879\\u76ee\\u6570\", \"x\": [\"8\", \"9\"], \"y\": [9.0, 2.0], \"type\": \"scatter\", \"uid\": \"af4e0d64-c05b-11e8-be8c-2c6e85b5340b\"}, {\"name\": \"\\u5362\\u6960_\\u4e0b\\u673a\\u6279\\u6b21\\u6570\", \"x\": [\"8\", \"9\"], \"y\": [122.0, 5.0], \"type\": \"scatter\", \"uid\": \"af4e0d65-c05b-11e8-87bc-2c6e85b5340b\"}, {\"name\": \"\\u5362\\u6960_\\u4e0b\\u673a\\u9879\\u76ee\\u6570\", \"x\": [\"8\", \"9\"], \"y\": [96.0, 3.0], \"type\": \"scatter\", \"uid\": \"af4e0d66-c05b-11e8-a775-2c6e85b5340b\"}], {\"title\": \"\\u4e0b\\u673a\\u6279\\u6b21\\u6570&\\u4e0b\\u673a\\u9879\\u76ee\\u6570\\u6708\\u8d8b\\u52bf\\u56fe\", \"xaxis\": {\"mirror\": \"all\", \"nticks\": 20, \"showgrid\": true, \"showline\": true, \"title\": \"\\u6708\", \"zeroline\": true}, \"yaxis\": {\"mirror\": \"all\", \"nticks\": 20, \"showgrid\": true, \"showline\": true, \"title\": \"\\u4e0b\\u673a\\u6279\\u6b21\\u6570&\\u4e0b\\u673a\\u9879\\u76ee\\u6570\", \"zeroline\": true}}, {\"showLink\": true, \"linkText\": \"Export to plot.ly\"})});</script>"
      ],
      "text/vnd.plotly.v1+html": [
       "<div id=\"5985566e-8911-4729-95ae-669b897dc1cd\" style=\"height: 525px; width: 100%;\" class=\"plotly-graph-div\"></div><script type=\"text/javascript\">require([\"plotly\"], function(Plotly) { window.PLOTLYENV=window.PLOTLYENV || {};window.PLOTLYENV.BASE_URL=\"https://plot.ly\";Plotly.newPlot(\"5985566e-8911-4729-95ae-669b897dc1cd\", [{\"name\": \"\\u5c48\\u6602_\\u4e0b\\u673a\\u6279\\u6b21\\u6570\", \"x\": [\"8\", \"9\"], \"y\": [395.0, 180.0], \"type\": \"scatter\", \"uid\": \"af4de65c-c05b-11e8-bdd8-2c6e85b5340b\"}, {\"name\": \"\\u5c48\\u6602_\\u4e0b\\u673a\\u9879\\u76ee\\u6570\", \"x\": [\"8\", \"9\"], \"y\": [332.0, 155.0], \"type\": \"scatter\", \"uid\": \"af4de65d-c05b-11e8-b16a-2c6e85b5340b\"}, {\"name\": \"\\u51b7\\u96ea_\\u4e0b\\u673a\\u6279\\u6b21\\u6570\", \"x\": [\"8\", \"9\"], \"y\": [195.0, 134.0], \"type\": \"scatter\", \"uid\": \"af4de65e-c05b-11e8-bf94-2c6e85b5340b\"}, {\"name\": \"\\u51b7\\u96ea_\\u4e0b\\u673a\\u9879\\u76ee\\u6570\", \"x\": [\"8\", \"9\"], \"y\": [159.0, 117.0], \"type\": \"scatter\", \"uid\": \"af4de65f-c05b-11e8-ae81-2c6e85b5340b\"}, {\"name\": \"\\u5f20\\u60a6_\\u4e0b\\u673a\\u6279\\u6b21\\u6570\", \"x\": [\"8\", \"9\"], \"y\": [13.0, 4.0], \"type\": \"scatter\", \"uid\": \"af4de660-c05b-11e8-aaf9-2c6e85b5340b\"}, {\"name\": \"\\u5f20\\u60a6_\\u4e0b\\u673a\\u9879\\u76ee\\u6570\", \"x\": [\"8\", \"9\"], \"y\": [9.0, 2.0], \"type\": \"scatter\", \"uid\": \"af4e0d64-c05b-11e8-be8c-2c6e85b5340b\"}, {\"name\": \"\\u5362\\u6960_\\u4e0b\\u673a\\u6279\\u6b21\\u6570\", \"x\": [\"8\", \"9\"], \"y\": [122.0, 5.0], \"type\": \"scatter\", \"uid\": \"af4e0d65-c05b-11e8-87bc-2c6e85b5340b\"}, {\"name\": \"\\u5362\\u6960_\\u4e0b\\u673a\\u9879\\u76ee\\u6570\", \"x\": [\"8\", \"9\"], \"y\": [96.0, 3.0], \"type\": \"scatter\", \"uid\": \"af4e0d66-c05b-11e8-a775-2c6e85b5340b\"}], {\"title\": \"\\u4e0b\\u673a\\u6279\\u6b21\\u6570&\\u4e0b\\u673a\\u9879\\u76ee\\u6570\\u6708\\u8d8b\\u52bf\\u56fe\", \"xaxis\": {\"mirror\": \"all\", \"nticks\": 20, \"showgrid\": true, \"showline\": true, \"title\": \"\\u6708\", \"zeroline\": true}, \"yaxis\": {\"mirror\": \"all\", \"nticks\": 20, \"showgrid\": true, \"showline\": true, \"title\": \"\\u4e0b\\u673a\\u6279\\u6b21\\u6570&\\u4e0b\\u673a\\u9879\\u76ee\\u6570\", \"zeroline\": true}}, {\"showLink\": true, \"linkText\": \"Export to plot.ly\"})});</script>"
      ]
     },
     "metadata": {},
     "output_type": "display_data"
    }
   ],
   "source": [
    "data_dict = {'下机批次数':['下机批次数'],'下机项目数':['下机项目数']}\n",
    "myModule.plot( all_dict, data_dict, '人员' ,  'line' )"
   ]
  },
  {
   "cell_type": "markdown",
   "metadata": {},
   "source": [
    "## 效率"
   ]
  },
  {
   "cell_type": "markdown",
   "metadata": {},
   "source": [
    "### 反馈及时率和数据及时交付率"
   ]
  },
  {
   "cell_type": "code",
   "execution_count": 25,
   "metadata": {},
   "outputs": [
    {
     "data": {
      "application/vnd.plotly.v1+json": {
       "data": [
        {
         "name": "屈昂_反馈及时率",
         "type": "scatter",
         "uid": "af98f3d8-c05b-11e8-b97f-2c6e85b5340b",
         "x": [
          "8-1",
          "8-2",
          "8-3",
          "8-4",
          "8-5",
          "9-1",
          "9-2"
         ],
         "y": [
          0.9761904761904762,
          0.972972972972973,
          0.9866666666666667,
          0.957983193277311,
          0.9176470588235294,
          0.9851851851851852,
          0.9777777777777777
         ]
        },
        {
         "name": "屈昂_数据及时交付率",
         "type": "scatter",
         "uid": "af98f3d9-c05b-11e8-b9ca-2c6e85b5340b",
         "x": [
          "8-1",
          "8-2",
          "8-3",
          "8-4",
          "8-5",
          "9-1",
          "9-2"
         ],
         "y": [
          1,
          1,
          1,
          1,
          1,
          1,
          1
         ]
        },
        {
         "name": "冷雪_反馈及时率",
         "type": "scatter",
         "uid": "af98f3da-c05b-11e8-9ecd-2c6e85b5340b",
         "x": [
          "8-1",
          "8-2",
          "8-3",
          "8-4",
          "8-5",
          "9-1",
          "9-2"
         ],
         "y": [
          0.9210526315789473,
          0.9655172413793104,
          1,
          1,
          1,
          0.9827586206896551,
          0.8947368421052632
         ]
        },
        {
         "name": "冷雪_数据及时交付率",
         "type": "scatter",
         "uid": "af98f3db-c05b-11e8-b1e5-2c6e85b5340b",
         "x": [
          "8-1",
          "8-2",
          "8-3",
          "8-4",
          "8-5",
          "9-1",
          "9-2"
         ],
         "y": [
          1,
          1,
          1,
          1,
          1,
          1,
          1
         ]
        },
        {
         "name": "张悦_反馈及时率",
         "type": "scatter",
         "uid": "af98f3dc-c05b-11e8-8091-2c6e85b5340b",
         "x": [
          "8-1",
          "8-2",
          "8-3",
          "8-4",
          "8-5",
          "9-1",
          "9-2"
         ],
         "y": [
          1,
          1,
          1,
          1,
          1,
          1,
          null
         ]
        },
        {
         "name": "张悦_数据及时交付率",
         "type": "scatter",
         "uid": "af991ae4-c05b-11e8-b071-2c6e85b5340b",
         "x": [
          "8-1",
          "8-2",
          "8-3",
          "8-4",
          "8-5",
          "9-1",
          "9-2"
         ],
         "y": [
          1,
          1,
          1,
          1,
          1,
          1,
          null
         ]
        },
        {
         "name": "卢楠_反馈及时率",
         "type": "scatter",
         "uid": "af991ae5-c05b-11e8-ae01-2c6e85b5340b",
         "x": [
          "8-1",
          "8-2",
          "8-3",
          "8-4",
          "8-5",
          "9-1",
          "9-2"
         ],
         "y": [
          1,
          0.9574468085106383,
          0.9565217391304348,
          1,
          1,
          1,
          1
         ]
        },
        {
         "name": "卢楠_数据及时交付率",
         "type": "scatter",
         "uid": "af991ae6-c05b-11e8-a378-2c6e85b5340b",
         "x": [
          "8-1",
          "8-2",
          "8-3",
          "8-4",
          "8-5",
          "9-1",
          "9-2"
         ],
         "y": [
          1,
          1,
          1,
          1,
          1,
          1,
          1
         ]
        }
       ],
       "layout": {
        "title": "反馈及时率&数据及时交付率周趋势图",
        "xaxis": {
         "mirror": "all",
         "nticks": 20,
         "showgrid": true,
         "showline": true,
         "title": "周",
         "zeroline": true
        },
        "yaxis": {
         "mirror": "all",
         "nticks": 20,
         "showgrid": true,
         "showline": true,
         "title": "反馈及时率&数据及时交付率",
         "zeroline": true
        }
       }
      },
      "text/html": [
       "<div id=\"3422796e-ec1b-4878-a8a3-db16fdcff2d3\" style=\"height: 525px; width: 100%;\" class=\"plotly-graph-div\"></div><script type=\"text/javascript\">require([\"plotly\"], function(Plotly) { window.PLOTLYENV=window.PLOTLYENV || {};window.PLOTLYENV.BASE_URL=\"https://plot.ly\";Plotly.newPlot(\"3422796e-ec1b-4878-a8a3-db16fdcff2d3\", [{\"name\": \"\\u5c48\\u6602_\\u53cd\\u9988\\u53ca\\u65f6\\u7387\", \"x\": [\"8-1\", \"8-2\", \"8-3\", \"8-4\", \"8-5\", \"9-1\", \"9-2\"], \"y\": [0.9761904761904762, 0.972972972972973, 0.9866666666666667, 0.957983193277311, 0.9176470588235294, 0.9851851851851852, 0.9777777777777777], \"type\": \"scatter\", \"uid\": \"af98f3d8-c05b-11e8-b97f-2c6e85b5340b\"}, {\"name\": \"\\u5c48\\u6602_\\u6570\\u636e\\u53ca\\u65f6\\u4ea4\\u4ed8\\u7387\", \"x\": [\"8-1\", \"8-2\", \"8-3\", \"8-4\", \"8-5\", \"9-1\", \"9-2\"], \"y\": [1.0, 1.0, 1.0, 1.0, 1.0, 1.0, 1.0], \"type\": \"scatter\", \"uid\": \"af98f3d9-c05b-11e8-b9ca-2c6e85b5340b\"}, {\"name\": \"\\u51b7\\u96ea_\\u53cd\\u9988\\u53ca\\u65f6\\u7387\", \"x\": [\"8-1\", \"8-2\", \"8-3\", \"8-4\", \"8-5\", \"9-1\", \"9-2\"], \"y\": [0.9210526315789473, 0.9655172413793104, 1.0, 1.0, 1.0, 0.9827586206896551, 0.8947368421052632], \"type\": \"scatter\", \"uid\": \"af98f3da-c05b-11e8-9ecd-2c6e85b5340b\"}, {\"name\": \"\\u51b7\\u96ea_\\u6570\\u636e\\u53ca\\u65f6\\u4ea4\\u4ed8\\u7387\", \"x\": [\"8-1\", \"8-2\", \"8-3\", \"8-4\", \"8-5\", \"9-1\", \"9-2\"], \"y\": [1.0, 1.0, 1.0, 1.0, 1.0, 1.0, 1.0], \"type\": \"scatter\", \"uid\": \"af98f3db-c05b-11e8-b1e5-2c6e85b5340b\"}, {\"name\": \"\\u5f20\\u60a6_\\u53cd\\u9988\\u53ca\\u65f6\\u7387\", \"x\": [\"8-1\", \"8-2\", \"8-3\", \"8-4\", \"8-5\", \"9-1\", \"9-2\"], \"y\": [1.0, 1.0, 1.0, 1.0, 1.0, 1.0, null], \"type\": \"scatter\", \"uid\": \"af98f3dc-c05b-11e8-8091-2c6e85b5340b\"}, {\"name\": \"\\u5f20\\u60a6_\\u6570\\u636e\\u53ca\\u65f6\\u4ea4\\u4ed8\\u7387\", \"x\": [\"8-1\", \"8-2\", \"8-3\", \"8-4\", \"8-5\", \"9-1\", \"9-2\"], \"y\": [1.0, 1.0, 1.0, 1.0, 1.0, 1.0, null], \"type\": \"scatter\", \"uid\": \"af991ae4-c05b-11e8-b071-2c6e85b5340b\"}, {\"name\": \"\\u5362\\u6960_\\u53cd\\u9988\\u53ca\\u65f6\\u7387\", \"x\": [\"8-1\", \"8-2\", \"8-3\", \"8-4\", \"8-5\", \"9-1\", \"9-2\"], \"y\": [1.0, 0.9574468085106383, 0.9565217391304348, 1.0, 1.0, 1.0, 1.0], \"type\": \"scatter\", \"uid\": \"af991ae5-c05b-11e8-ae01-2c6e85b5340b\"}, {\"name\": \"\\u5362\\u6960_\\u6570\\u636e\\u53ca\\u65f6\\u4ea4\\u4ed8\\u7387\", \"x\": [\"8-1\", \"8-2\", \"8-3\", \"8-4\", \"8-5\", \"9-1\", \"9-2\"], \"y\": [1.0, 1.0, 1.0, 1.0, 1.0, 1.0, 1.0], \"type\": \"scatter\", \"uid\": \"af991ae6-c05b-11e8-a378-2c6e85b5340b\"}], {\"title\": \"\\u53cd\\u9988\\u53ca\\u65f6\\u7387&\\u6570\\u636e\\u53ca\\u65f6\\u4ea4\\u4ed8\\u7387\\u5468\\u8d8b\\u52bf\\u56fe\", \"xaxis\": {\"mirror\": \"all\", \"nticks\": 20, \"showgrid\": true, \"showline\": true, \"title\": \"\\u5468\", \"zeroline\": true}, \"yaxis\": {\"mirror\": \"all\", \"nticks\": 20, \"showgrid\": true, \"showline\": true, \"title\": \"\\u53cd\\u9988\\u53ca\\u65f6\\u7387&\\u6570\\u636e\\u53ca\\u65f6\\u4ea4\\u4ed8\\u7387\", \"zeroline\": true}}, {\"showLink\": true, \"linkText\": \"Export to plot.ly\"})});</script>"
      ],
      "text/vnd.plotly.v1+html": [
       "<div id=\"3422796e-ec1b-4878-a8a3-db16fdcff2d3\" style=\"height: 525px; width: 100%;\" class=\"plotly-graph-div\"></div><script type=\"text/javascript\">require([\"plotly\"], function(Plotly) { window.PLOTLYENV=window.PLOTLYENV || {};window.PLOTLYENV.BASE_URL=\"https://plot.ly\";Plotly.newPlot(\"3422796e-ec1b-4878-a8a3-db16fdcff2d3\", [{\"name\": \"\\u5c48\\u6602_\\u53cd\\u9988\\u53ca\\u65f6\\u7387\", \"x\": [\"8-1\", \"8-2\", \"8-3\", \"8-4\", \"8-5\", \"9-1\", \"9-2\"], \"y\": [0.9761904761904762, 0.972972972972973, 0.9866666666666667, 0.957983193277311, 0.9176470588235294, 0.9851851851851852, 0.9777777777777777], \"type\": \"scatter\", \"uid\": \"af98f3d8-c05b-11e8-b97f-2c6e85b5340b\"}, {\"name\": \"\\u5c48\\u6602_\\u6570\\u636e\\u53ca\\u65f6\\u4ea4\\u4ed8\\u7387\", \"x\": [\"8-1\", \"8-2\", \"8-3\", \"8-4\", \"8-5\", \"9-1\", \"9-2\"], \"y\": [1.0, 1.0, 1.0, 1.0, 1.0, 1.0, 1.0], \"type\": \"scatter\", \"uid\": \"af98f3d9-c05b-11e8-b9ca-2c6e85b5340b\"}, {\"name\": \"\\u51b7\\u96ea_\\u53cd\\u9988\\u53ca\\u65f6\\u7387\", \"x\": [\"8-1\", \"8-2\", \"8-3\", \"8-4\", \"8-5\", \"9-1\", \"9-2\"], \"y\": [0.9210526315789473, 0.9655172413793104, 1.0, 1.0, 1.0, 0.9827586206896551, 0.8947368421052632], \"type\": \"scatter\", \"uid\": \"af98f3da-c05b-11e8-9ecd-2c6e85b5340b\"}, {\"name\": \"\\u51b7\\u96ea_\\u6570\\u636e\\u53ca\\u65f6\\u4ea4\\u4ed8\\u7387\", \"x\": [\"8-1\", \"8-2\", \"8-3\", \"8-4\", \"8-5\", \"9-1\", \"9-2\"], \"y\": [1.0, 1.0, 1.0, 1.0, 1.0, 1.0, 1.0], \"type\": \"scatter\", \"uid\": \"af98f3db-c05b-11e8-b1e5-2c6e85b5340b\"}, {\"name\": \"\\u5f20\\u60a6_\\u53cd\\u9988\\u53ca\\u65f6\\u7387\", \"x\": [\"8-1\", \"8-2\", \"8-3\", \"8-4\", \"8-5\", \"9-1\", \"9-2\"], \"y\": [1.0, 1.0, 1.0, 1.0, 1.0, 1.0, null], \"type\": \"scatter\", \"uid\": \"af98f3dc-c05b-11e8-8091-2c6e85b5340b\"}, {\"name\": \"\\u5f20\\u60a6_\\u6570\\u636e\\u53ca\\u65f6\\u4ea4\\u4ed8\\u7387\", \"x\": [\"8-1\", \"8-2\", \"8-3\", \"8-4\", \"8-5\", \"9-1\", \"9-2\"], \"y\": [1.0, 1.0, 1.0, 1.0, 1.0, 1.0, null], \"type\": \"scatter\", \"uid\": \"af991ae4-c05b-11e8-b071-2c6e85b5340b\"}, {\"name\": \"\\u5362\\u6960_\\u53cd\\u9988\\u53ca\\u65f6\\u7387\", \"x\": [\"8-1\", \"8-2\", \"8-3\", \"8-4\", \"8-5\", \"9-1\", \"9-2\"], \"y\": [1.0, 0.9574468085106383, 0.9565217391304348, 1.0, 1.0, 1.0, 1.0], \"type\": \"scatter\", \"uid\": \"af991ae5-c05b-11e8-ae01-2c6e85b5340b\"}, {\"name\": \"\\u5362\\u6960_\\u6570\\u636e\\u53ca\\u65f6\\u4ea4\\u4ed8\\u7387\", \"x\": [\"8-1\", \"8-2\", \"8-3\", \"8-4\", \"8-5\", \"9-1\", \"9-2\"], \"y\": [1.0, 1.0, 1.0, 1.0, 1.0, 1.0, 1.0], \"type\": \"scatter\", \"uid\": \"af991ae6-c05b-11e8-a378-2c6e85b5340b\"}], {\"title\": \"\\u53cd\\u9988\\u53ca\\u65f6\\u7387&\\u6570\\u636e\\u53ca\\u65f6\\u4ea4\\u4ed8\\u7387\\u5468\\u8d8b\\u52bf\\u56fe\", \"xaxis\": {\"mirror\": \"all\", \"nticks\": 20, \"showgrid\": true, \"showline\": true, \"title\": \"\\u5468\", \"zeroline\": true}, \"yaxis\": {\"mirror\": \"all\", \"nticks\": 20, \"showgrid\": true, \"showline\": true, \"title\": \"\\u53cd\\u9988\\u53ca\\u65f6\\u7387&\\u6570\\u636e\\u53ca\\u65f6\\u4ea4\\u4ed8\\u7387\", \"zeroline\": true}}, {\"showLink\": true, \"linkText\": \"Export to plot.ly\"})});</script>"
      ]
     },
     "metadata": {},
     "output_type": "display_data"
    },
    {
     "data": {
      "application/vnd.plotly.v1+json": {
       "data": [
        {
         "name": "屈昂_反馈及时率",
         "type": "scatter",
         "uid": "afb48e18-c05b-11e8-a55b-2c6e85b5340b",
         "x": [
          "8",
          "9"
         ],
         "y": [
          0.959493670886076,
          0.9833333333333333
         ]
        },
        {
         "name": "屈昂_数据及时交付率",
         "type": "scatter",
         "uid": "afb48e19-c05b-11e8-81cb-2c6e85b5340b",
         "x": [
          "8",
          "9"
         ],
         "y": [
          1,
          1
         ]
        },
        {
         "name": "冷雪_反馈及时率",
         "type": "scatter",
         "uid": "afb48e1a-c05b-11e8-9ede-2c6e85b5340b",
         "x": [
          "8",
          "9"
         ],
         "y": [
          0.9743589743589743,
          0.9328358208955224
         ]
        },
        {
         "name": "冷雪_数据及时交付率",
         "type": "scatter",
         "uid": "afb48e1b-c05b-11e8-bee9-2c6e85b5340b",
         "x": [
          "8",
          "9"
         ],
         "y": [
          1,
          1
         ]
        },
        {
         "name": "张悦_反馈及时率",
         "type": "scatter",
         "uid": "afb48e1c-c05b-11e8-94e4-2c6e85b5340b",
         "x": [
          "8",
          "9"
         ],
         "y": [
          1,
          1
         ]
        },
        {
         "name": "张悦_数据及时交付率",
         "type": "scatter",
         "uid": "afb48e1d-c05b-11e8-a004-2c6e85b5340b",
         "x": [
          "8",
          "9"
         ],
         "y": [
          1,
          1
         ]
        },
        {
         "name": "卢楠_反馈及时率",
         "type": "scatter",
         "uid": "afb48e1e-c05b-11e8-88ea-2c6e85b5340b",
         "x": [
          "8",
          "9"
         ],
         "y": [
          0.9754098360655737,
          1
         ]
        },
        {
         "name": "卢楠_数据及时交付率",
         "type": "scatter",
         "uid": "afb48e1f-c05b-11e8-878e-2c6e85b5340b",
         "x": [
          "8",
          "9"
         ],
         "y": [
          1,
          1
         ]
        }
       ],
       "layout": {
        "title": "反馈及时率&数据及时交付率月趋势图",
        "xaxis": {
         "mirror": "all",
         "nticks": 20,
         "showgrid": true,
         "showline": true,
         "title": "月",
         "zeroline": true
        },
        "yaxis": {
         "mirror": "all",
         "nticks": 20,
         "showgrid": true,
         "showline": true,
         "title": "反馈及时率&数据及时交付率",
         "zeroline": true
        }
       }
      },
      "text/html": [
       "<div id=\"0b1d90c4-44ad-45d7-8c2a-99236584d008\" style=\"height: 525px; width: 100%;\" class=\"plotly-graph-div\"></div><script type=\"text/javascript\">require([\"plotly\"], function(Plotly) { window.PLOTLYENV=window.PLOTLYENV || {};window.PLOTLYENV.BASE_URL=\"https://plot.ly\";Plotly.newPlot(\"0b1d90c4-44ad-45d7-8c2a-99236584d008\", [{\"name\": \"\\u5c48\\u6602_\\u53cd\\u9988\\u53ca\\u65f6\\u7387\", \"x\": [\"8\", \"9\"], \"y\": [0.959493670886076, 0.9833333333333333], \"type\": \"scatter\", \"uid\": \"afb48e18-c05b-11e8-a55b-2c6e85b5340b\"}, {\"name\": \"\\u5c48\\u6602_\\u6570\\u636e\\u53ca\\u65f6\\u4ea4\\u4ed8\\u7387\", \"x\": [\"8\", \"9\"], \"y\": [1.0, 1.0], \"type\": \"scatter\", \"uid\": \"afb48e19-c05b-11e8-81cb-2c6e85b5340b\"}, {\"name\": \"\\u51b7\\u96ea_\\u53cd\\u9988\\u53ca\\u65f6\\u7387\", \"x\": [\"8\", \"9\"], \"y\": [0.9743589743589743, 0.9328358208955224], \"type\": \"scatter\", \"uid\": \"afb48e1a-c05b-11e8-9ede-2c6e85b5340b\"}, {\"name\": \"\\u51b7\\u96ea_\\u6570\\u636e\\u53ca\\u65f6\\u4ea4\\u4ed8\\u7387\", \"x\": [\"8\", \"9\"], \"y\": [1.0, 1.0], \"type\": \"scatter\", \"uid\": \"afb48e1b-c05b-11e8-bee9-2c6e85b5340b\"}, {\"name\": \"\\u5f20\\u60a6_\\u53cd\\u9988\\u53ca\\u65f6\\u7387\", \"x\": [\"8\", \"9\"], \"y\": [1.0, 1.0], \"type\": \"scatter\", \"uid\": \"afb48e1c-c05b-11e8-94e4-2c6e85b5340b\"}, {\"name\": \"\\u5f20\\u60a6_\\u6570\\u636e\\u53ca\\u65f6\\u4ea4\\u4ed8\\u7387\", \"x\": [\"8\", \"9\"], \"y\": [1.0, 1.0], \"type\": \"scatter\", \"uid\": \"afb48e1d-c05b-11e8-a004-2c6e85b5340b\"}, {\"name\": \"\\u5362\\u6960_\\u53cd\\u9988\\u53ca\\u65f6\\u7387\", \"x\": [\"8\", \"9\"], \"y\": [0.9754098360655737, 1.0], \"type\": \"scatter\", \"uid\": \"afb48e1e-c05b-11e8-88ea-2c6e85b5340b\"}, {\"name\": \"\\u5362\\u6960_\\u6570\\u636e\\u53ca\\u65f6\\u4ea4\\u4ed8\\u7387\", \"x\": [\"8\", \"9\"], \"y\": [1.0, 1.0], \"type\": \"scatter\", \"uid\": \"afb48e1f-c05b-11e8-878e-2c6e85b5340b\"}], {\"title\": \"\\u53cd\\u9988\\u53ca\\u65f6\\u7387&\\u6570\\u636e\\u53ca\\u65f6\\u4ea4\\u4ed8\\u7387\\u6708\\u8d8b\\u52bf\\u56fe\", \"xaxis\": {\"mirror\": \"all\", \"nticks\": 20, \"showgrid\": true, \"showline\": true, \"title\": \"\\u6708\", \"zeroline\": true}, \"yaxis\": {\"mirror\": \"all\", \"nticks\": 20, \"showgrid\": true, \"showline\": true, \"title\": \"\\u53cd\\u9988\\u53ca\\u65f6\\u7387&\\u6570\\u636e\\u53ca\\u65f6\\u4ea4\\u4ed8\\u7387\", \"zeroline\": true}}, {\"showLink\": true, \"linkText\": \"Export to plot.ly\"})});</script>"
      ],
      "text/vnd.plotly.v1+html": [
       "<div id=\"0b1d90c4-44ad-45d7-8c2a-99236584d008\" style=\"height: 525px; width: 100%;\" class=\"plotly-graph-div\"></div><script type=\"text/javascript\">require([\"plotly\"], function(Plotly) { window.PLOTLYENV=window.PLOTLYENV || {};window.PLOTLYENV.BASE_URL=\"https://plot.ly\";Plotly.newPlot(\"0b1d90c4-44ad-45d7-8c2a-99236584d008\", [{\"name\": \"\\u5c48\\u6602_\\u53cd\\u9988\\u53ca\\u65f6\\u7387\", \"x\": [\"8\", \"9\"], \"y\": [0.959493670886076, 0.9833333333333333], \"type\": \"scatter\", \"uid\": \"afb48e18-c05b-11e8-a55b-2c6e85b5340b\"}, {\"name\": \"\\u5c48\\u6602_\\u6570\\u636e\\u53ca\\u65f6\\u4ea4\\u4ed8\\u7387\", \"x\": [\"8\", \"9\"], \"y\": [1.0, 1.0], \"type\": \"scatter\", \"uid\": \"afb48e19-c05b-11e8-81cb-2c6e85b5340b\"}, {\"name\": \"\\u51b7\\u96ea_\\u53cd\\u9988\\u53ca\\u65f6\\u7387\", \"x\": [\"8\", \"9\"], \"y\": [0.9743589743589743, 0.9328358208955224], \"type\": \"scatter\", \"uid\": \"afb48e1a-c05b-11e8-9ede-2c6e85b5340b\"}, {\"name\": \"\\u51b7\\u96ea_\\u6570\\u636e\\u53ca\\u65f6\\u4ea4\\u4ed8\\u7387\", \"x\": [\"8\", \"9\"], \"y\": [1.0, 1.0], \"type\": \"scatter\", \"uid\": \"afb48e1b-c05b-11e8-bee9-2c6e85b5340b\"}, {\"name\": \"\\u5f20\\u60a6_\\u53cd\\u9988\\u53ca\\u65f6\\u7387\", \"x\": [\"8\", \"9\"], \"y\": [1.0, 1.0], \"type\": \"scatter\", \"uid\": \"afb48e1c-c05b-11e8-94e4-2c6e85b5340b\"}, {\"name\": \"\\u5f20\\u60a6_\\u6570\\u636e\\u53ca\\u65f6\\u4ea4\\u4ed8\\u7387\", \"x\": [\"8\", \"9\"], \"y\": [1.0, 1.0], \"type\": \"scatter\", \"uid\": \"afb48e1d-c05b-11e8-a004-2c6e85b5340b\"}, {\"name\": \"\\u5362\\u6960_\\u53cd\\u9988\\u53ca\\u65f6\\u7387\", \"x\": [\"8\", \"9\"], \"y\": [0.9754098360655737, 1.0], \"type\": \"scatter\", \"uid\": \"afb48e1e-c05b-11e8-88ea-2c6e85b5340b\"}, {\"name\": \"\\u5362\\u6960_\\u6570\\u636e\\u53ca\\u65f6\\u4ea4\\u4ed8\\u7387\", \"x\": [\"8\", \"9\"], \"y\": [1.0, 1.0], \"type\": \"scatter\", \"uid\": \"afb48e1f-c05b-11e8-878e-2c6e85b5340b\"}], {\"title\": \"\\u53cd\\u9988\\u53ca\\u65f6\\u7387&\\u6570\\u636e\\u53ca\\u65f6\\u4ea4\\u4ed8\\u7387\\u6708\\u8d8b\\u52bf\\u56fe\", \"xaxis\": {\"mirror\": \"all\", \"nticks\": 20, \"showgrid\": true, \"showline\": true, \"title\": \"\\u6708\", \"zeroline\": true}, \"yaxis\": {\"mirror\": \"all\", \"nticks\": 20, \"showgrid\": true, \"showline\": true, \"title\": \"\\u53cd\\u9988\\u53ca\\u65f6\\u7387&\\u6570\\u636e\\u53ca\\u65f6\\u4ea4\\u4ed8\\u7387\", \"zeroline\": true}}, {\"showLink\": true, \"linkText\": \"Export to plot.ly\"})});</script>"
      ]
     },
     "metadata": {},
     "output_type": "display_data"
    }
   ],
   "source": [
    "data_dict = {'反馈及时率':['及时反馈数','下机批次数'], '数据及时交付率':['数据及时交付数','数据交付总数']}\n",
    "myModule.plot( all_dict, data_dict, '人员' ,  'line' )"
   ]
  },
  {
   "cell_type": "markdown",
   "metadata": {},
   "source": [
    "### 24h拆分过滤率和28h拆分过滤率"
   ]
  },
  {
   "cell_type": "code",
   "execution_count": 26,
   "metadata": {},
   "outputs": [
    {
     "data": {
      "application/vnd.plotly.v1+json": {
       "data": [
        {
         "name": "屈昂_24h拆分过滤率",
         "type": "scatter",
         "uid": "b0509062-c05b-11e8-b7c9-2c6e85b5340b",
         "x": [
          "8-1",
          "8-2",
          "8-3",
          "8-4",
          "8-5",
          "9-1",
          "9-2"
         ],
         "y": [
          0.6428571428571429,
          0.5540540540540541,
          0.68,
          0.8991596638655462,
          0.7058823529411765,
          0.6666666666666666,
          0.8666666666666667
         ]
        },
        {
         "name": "屈昂_48h拆分过滤率",
         "type": "scatter",
         "uid": "b050b76e-c05b-11e8-a75c-2c6e85b5340b",
         "x": [
          "8-1",
          "8-2",
          "8-3",
          "8-4",
          "8-5",
          "9-1",
          "9-2"
         ],
         "y": [
          0.9523809523809523,
          0.8648648648648649,
          0.96,
          0.9663865546218487,
          0.7764705882352941,
          0.7925925925925926,
          1
         ]
        },
        {
         "name": "冷雪_24h拆分过滤率",
         "type": "scatter",
         "uid": "b050b76f-c05b-11e8-8f4f-2c6e85b5340b",
         "x": [
          "8-1",
          "8-2",
          "8-3",
          "8-4",
          "8-5",
          "9-1",
          "9-2"
         ],
         "y": [
          0.5789473684210527,
          0.603448275862069,
          0.7121212121212122,
          0.9642857142857143,
          0.4,
          0.8620689655172413,
          0.7368421052631579
         ]
        },
        {
         "name": "冷雪_48h拆分过滤率",
         "type": "scatter",
         "uid": "b050b770-c05b-11e8-a52f-2c6e85b5340b",
         "x": [
          "8-1",
          "8-2",
          "8-3",
          "8-4",
          "8-5",
          "9-1",
          "9-2"
         ],
         "y": [
          0.868421052631579,
          0.8103448275862069,
          1,
          1,
          0.6,
          0.9655172413793104,
          0.9210526315789473
         ]
        },
        {
         "name": "张悦_24h拆分过滤率",
         "type": "scatter",
         "uid": "b050b771-c05b-11e8-b4d7-2c6e85b5340b",
         "x": [
          "8-1",
          "8-2",
          "8-3",
          "8-4",
          "8-5",
          "9-1",
          "9-2"
         ],
         "y": [
          0,
          0.5,
          0,
          1,
          0.8571428571428571,
          0.75,
          null
         ]
        },
        {
         "name": "张悦_48h拆分过滤率",
         "type": "scatter",
         "uid": "b050b772-c05b-11e8-91d8-2c6e85b5340b",
         "x": [
          "8-1",
          "8-2",
          "8-3",
          "8-4",
          "8-5",
          "9-1",
          "9-2"
         ],
         "y": [
          1,
          1,
          1,
          1,
          1,
          1,
          null
         ]
        },
        {
         "name": "卢楠_24h拆分过滤率",
         "type": "scatter",
         "uid": "b050b773-c05b-11e8-8906-2c6e85b5340b",
         "x": [
          "8-1",
          "8-2",
          "8-3",
          "8-4",
          "8-5",
          "9-1",
          "9-2"
         ],
         "y": [
          0.6944444444444444,
          0.425531914893617,
          0.6086956521739131,
          1,
          1,
          1,
          0.6666666666666666
         ]
        },
        {
         "name": "卢楠_48h拆分过滤率",
         "type": "scatter",
         "uid": "b050b774-c05b-11e8-a0c2-2c6e85b5340b",
         "x": [
          "8-1",
          "8-2",
          "8-3",
          "8-4",
          "8-5",
          "9-1",
          "9-2"
         ],
         "y": [
          0.9444444444444444,
          0.723404255319149,
          0.9565217391304348,
          1,
          1,
          1,
          1
         ]
        }
       ],
       "layout": {
        "title": "24h拆分过滤率&48h拆分过滤率周趋势图",
        "xaxis": {
         "mirror": "all",
         "nticks": 20,
         "showgrid": true,
         "showline": true,
         "title": "周",
         "zeroline": true
        },
        "yaxis": {
         "mirror": "all",
         "nticks": 20,
         "showgrid": true,
         "showline": true,
         "title": "24h拆分过滤率&48h拆分过滤率",
         "zeroline": true
        }
       }
      },
      "text/html": [
       "<div id=\"cb2e267c-9606-4f45-b590-31394ba02e43\" style=\"height: 525px; width: 100%;\" class=\"plotly-graph-div\"></div><script type=\"text/javascript\">require([\"plotly\"], function(Plotly) { window.PLOTLYENV=window.PLOTLYENV || {};window.PLOTLYENV.BASE_URL=\"https://plot.ly\";Plotly.newPlot(\"cb2e267c-9606-4f45-b590-31394ba02e43\", [{\"name\": \"\\u5c48\\u6602_24h\\u62c6\\u5206\\u8fc7\\u6ee4\\u7387\", \"x\": [\"8-1\", \"8-2\", \"8-3\", \"8-4\", \"8-5\", \"9-1\", \"9-2\"], \"y\": [0.6428571428571429, 0.5540540540540541, 0.68, 0.8991596638655462, 0.7058823529411765, 0.6666666666666666, 0.8666666666666667], \"type\": \"scatter\", \"uid\": \"b0509062-c05b-11e8-b7c9-2c6e85b5340b\"}, {\"name\": \"\\u5c48\\u6602_48h\\u62c6\\u5206\\u8fc7\\u6ee4\\u7387\", \"x\": [\"8-1\", \"8-2\", \"8-3\", \"8-4\", \"8-5\", \"9-1\", \"9-2\"], \"y\": [0.9523809523809523, 0.8648648648648649, 0.96, 0.9663865546218487, 0.7764705882352941, 0.7925925925925926, 1.0], \"type\": \"scatter\", \"uid\": \"b050b76e-c05b-11e8-a75c-2c6e85b5340b\"}, {\"name\": \"\\u51b7\\u96ea_24h\\u62c6\\u5206\\u8fc7\\u6ee4\\u7387\", \"x\": [\"8-1\", \"8-2\", \"8-3\", \"8-4\", \"8-5\", \"9-1\", \"9-2\"], \"y\": [0.5789473684210527, 0.603448275862069, 0.7121212121212122, 0.9642857142857143, 0.4, 0.8620689655172413, 0.7368421052631579], \"type\": \"scatter\", \"uid\": \"b050b76f-c05b-11e8-8f4f-2c6e85b5340b\"}, {\"name\": \"\\u51b7\\u96ea_48h\\u62c6\\u5206\\u8fc7\\u6ee4\\u7387\", \"x\": [\"8-1\", \"8-2\", \"8-3\", \"8-4\", \"8-5\", \"9-1\", \"9-2\"], \"y\": [0.868421052631579, 0.8103448275862069, 1.0, 1.0, 0.6, 0.9655172413793104, 0.9210526315789473], \"type\": \"scatter\", \"uid\": \"b050b770-c05b-11e8-a52f-2c6e85b5340b\"}, {\"name\": \"\\u5f20\\u60a6_24h\\u62c6\\u5206\\u8fc7\\u6ee4\\u7387\", \"x\": [\"8-1\", \"8-2\", \"8-3\", \"8-4\", \"8-5\", \"9-1\", \"9-2\"], \"y\": [0.0, 0.5, 0.0, 1.0, 0.8571428571428571, 0.75, null], \"type\": \"scatter\", \"uid\": \"b050b771-c05b-11e8-b4d7-2c6e85b5340b\"}, {\"name\": \"\\u5f20\\u60a6_48h\\u62c6\\u5206\\u8fc7\\u6ee4\\u7387\", \"x\": [\"8-1\", \"8-2\", \"8-3\", \"8-4\", \"8-5\", \"9-1\", \"9-2\"], \"y\": [1.0, 1.0, 1.0, 1.0, 1.0, 1.0, null], \"type\": \"scatter\", \"uid\": \"b050b772-c05b-11e8-91d8-2c6e85b5340b\"}, {\"name\": \"\\u5362\\u6960_24h\\u62c6\\u5206\\u8fc7\\u6ee4\\u7387\", \"x\": [\"8-1\", \"8-2\", \"8-3\", \"8-4\", \"8-5\", \"9-1\", \"9-2\"], \"y\": [0.6944444444444444, 0.425531914893617, 0.6086956521739131, 1.0, 1.0, 1.0, 0.6666666666666666], \"type\": \"scatter\", \"uid\": \"b050b773-c05b-11e8-8906-2c6e85b5340b\"}, {\"name\": \"\\u5362\\u6960_48h\\u62c6\\u5206\\u8fc7\\u6ee4\\u7387\", \"x\": [\"8-1\", \"8-2\", \"8-3\", \"8-4\", \"8-5\", \"9-1\", \"9-2\"], \"y\": [0.9444444444444444, 0.723404255319149, 0.9565217391304348, 1.0, 1.0, 1.0, 1.0], \"type\": \"scatter\", \"uid\": \"b050b774-c05b-11e8-a0c2-2c6e85b5340b\"}], {\"title\": \"24h\\u62c6\\u5206\\u8fc7\\u6ee4\\u7387&48h\\u62c6\\u5206\\u8fc7\\u6ee4\\u7387\\u5468\\u8d8b\\u52bf\\u56fe\", \"xaxis\": {\"mirror\": \"all\", \"nticks\": 20, \"showgrid\": true, \"showline\": true, \"title\": \"\\u5468\", \"zeroline\": true}, \"yaxis\": {\"mirror\": \"all\", \"nticks\": 20, \"showgrid\": true, \"showline\": true, \"title\": \"24h\\u62c6\\u5206\\u8fc7\\u6ee4\\u7387&48h\\u62c6\\u5206\\u8fc7\\u6ee4\\u7387\", \"zeroline\": true}}, {\"showLink\": true, \"linkText\": \"Export to plot.ly\"})});</script>"
      ],
      "text/vnd.plotly.v1+html": [
       "<div id=\"cb2e267c-9606-4f45-b590-31394ba02e43\" style=\"height: 525px; width: 100%;\" class=\"plotly-graph-div\"></div><script type=\"text/javascript\">require([\"plotly\"], function(Plotly) { window.PLOTLYENV=window.PLOTLYENV || {};window.PLOTLYENV.BASE_URL=\"https://plot.ly\";Plotly.newPlot(\"cb2e267c-9606-4f45-b590-31394ba02e43\", [{\"name\": \"\\u5c48\\u6602_24h\\u62c6\\u5206\\u8fc7\\u6ee4\\u7387\", \"x\": [\"8-1\", \"8-2\", \"8-3\", \"8-4\", \"8-5\", \"9-1\", \"9-2\"], \"y\": [0.6428571428571429, 0.5540540540540541, 0.68, 0.8991596638655462, 0.7058823529411765, 0.6666666666666666, 0.8666666666666667], \"type\": \"scatter\", \"uid\": \"b0509062-c05b-11e8-b7c9-2c6e85b5340b\"}, {\"name\": \"\\u5c48\\u6602_48h\\u62c6\\u5206\\u8fc7\\u6ee4\\u7387\", \"x\": [\"8-1\", \"8-2\", \"8-3\", \"8-4\", \"8-5\", \"9-1\", \"9-2\"], \"y\": [0.9523809523809523, 0.8648648648648649, 0.96, 0.9663865546218487, 0.7764705882352941, 0.7925925925925926, 1.0], \"type\": \"scatter\", \"uid\": \"b050b76e-c05b-11e8-a75c-2c6e85b5340b\"}, {\"name\": \"\\u51b7\\u96ea_24h\\u62c6\\u5206\\u8fc7\\u6ee4\\u7387\", \"x\": [\"8-1\", \"8-2\", \"8-3\", \"8-4\", \"8-5\", \"9-1\", \"9-2\"], \"y\": [0.5789473684210527, 0.603448275862069, 0.7121212121212122, 0.9642857142857143, 0.4, 0.8620689655172413, 0.7368421052631579], \"type\": \"scatter\", \"uid\": \"b050b76f-c05b-11e8-8f4f-2c6e85b5340b\"}, {\"name\": \"\\u51b7\\u96ea_48h\\u62c6\\u5206\\u8fc7\\u6ee4\\u7387\", \"x\": [\"8-1\", \"8-2\", \"8-3\", \"8-4\", \"8-5\", \"9-1\", \"9-2\"], \"y\": [0.868421052631579, 0.8103448275862069, 1.0, 1.0, 0.6, 0.9655172413793104, 0.9210526315789473], \"type\": \"scatter\", \"uid\": \"b050b770-c05b-11e8-a52f-2c6e85b5340b\"}, {\"name\": \"\\u5f20\\u60a6_24h\\u62c6\\u5206\\u8fc7\\u6ee4\\u7387\", \"x\": [\"8-1\", \"8-2\", \"8-3\", \"8-4\", \"8-5\", \"9-1\", \"9-2\"], \"y\": [0.0, 0.5, 0.0, 1.0, 0.8571428571428571, 0.75, null], \"type\": \"scatter\", \"uid\": \"b050b771-c05b-11e8-b4d7-2c6e85b5340b\"}, {\"name\": \"\\u5f20\\u60a6_48h\\u62c6\\u5206\\u8fc7\\u6ee4\\u7387\", \"x\": [\"8-1\", \"8-2\", \"8-3\", \"8-4\", \"8-5\", \"9-1\", \"9-2\"], \"y\": [1.0, 1.0, 1.0, 1.0, 1.0, 1.0, null], \"type\": \"scatter\", \"uid\": \"b050b772-c05b-11e8-91d8-2c6e85b5340b\"}, {\"name\": \"\\u5362\\u6960_24h\\u62c6\\u5206\\u8fc7\\u6ee4\\u7387\", \"x\": [\"8-1\", \"8-2\", \"8-3\", \"8-4\", \"8-5\", \"9-1\", \"9-2\"], \"y\": [0.6944444444444444, 0.425531914893617, 0.6086956521739131, 1.0, 1.0, 1.0, 0.6666666666666666], \"type\": \"scatter\", \"uid\": \"b050b773-c05b-11e8-8906-2c6e85b5340b\"}, {\"name\": \"\\u5362\\u6960_48h\\u62c6\\u5206\\u8fc7\\u6ee4\\u7387\", \"x\": [\"8-1\", \"8-2\", \"8-3\", \"8-4\", \"8-5\", \"9-1\", \"9-2\"], \"y\": [0.9444444444444444, 0.723404255319149, 0.9565217391304348, 1.0, 1.0, 1.0, 1.0], \"type\": \"scatter\", \"uid\": \"b050b774-c05b-11e8-a0c2-2c6e85b5340b\"}], {\"title\": \"24h\\u62c6\\u5206\\u8fc7\\u6ee4\\u7387&48h\\u62c6\\u5206\\u8fc7\\u6ee4\\u7387\\u5468\\u8d8b\\u52bf\\u56fe\", \"xaxis\": {\"mirror\": \"all\", \"nticks\": 20, \"showgrid\": true, \"showline\": true, \"title\": \"\\u5468\", \"zeroline\": true}, \"yaxis\": {\"mirror\": \"all\", \"nticks\": 20, \"showgrid\": true, \"showline\": true, \"title\": \"24h\\u62c6\\u5206\\u8fc7\\u6ee4\\u7387&48h\\u62c6\\u5206\\u8fc7\\u6ee4\\u7387\", \"zeroline\": true}}, {\"showLink\": true, \"linkText\": \"Export to plot.ly\"})});</script>"
      ]
     },
     "metadata": {},
     "output_type": "display_data"
    },
    {
     "data": {
      "application/vnd.plotly.v1+json": {
       "data": [
        {
         "name": "屈昂_24h拆分过滤率",
         "type": "scatter",
         "uid": "b09b22d4-c05b-11e8-b5ae-2c6e85b5340b",
         "x": [
          "8",
          "9"
         ],
         "y": [
          0.7240506329113924,
          0.7166666666666667
         ]
        },
        {
         "name": "屈昂_48h拆分过滤率",
         "type": "scatter",
         "uid": "b09b49dc-c05b-11e8-8868-2c6e85b5340b",
         "x": [
          "8",
          "9"
         ],
         "y": [
          0.9037974683544304,
          0.8444444444444444
         ]
        },
        {
         "name": "冷雪_24h拆分过滤率",
         "type": "scatter",
         "uid": "b09b49dd-c05b-11e8-837e-2c6e85b5340b",
         "x": [
          "8",
          "9"
         ],
         "y": [
          0.6820512820512821,
          0.7910447761194029
         ]
        },
        {
         "name": "冷雪_48h拆分过滤率",
         "type": "scatter",
         "uid": "b09b49de-c05b-11e8-ae9a-2c6e85b5340b",
         "x": [
          "8",
          "9"
         ],
         "y": [
          0.9076923076923077,
          0.9402985074626866
         ]
        },
        {
         "name": "张悦_24h拆分过滤率",
         "type": "scatter",
         "uid": "b09b49df-c05b-11e8-a683-2c6e85b5340b",
         "x": [
          "8",
          "9"
         ],
         "y": [
          0.6153846153846154,
          0.75
         ]
        },
        {
         "name": "张悦_48h拆分过滤率",
         "type": "scatter",
         "uid": "b09b49e0-c05b-11e8-817a-2c6e85b5340b",
         "x": [
          "8",
          "9"
         ],
         "y": [
          1,
          1
         ]
        },
        {
         "name": "卢楠_24h拆分过滤率",
         "type": "scatter",
         "uid": "b09b49e1-c05b-11e8-a75d-2c6e85b5340b",
         "x": [
          "8",
          "9"
         ],
         "y": [
          0.6147540983606558,
          0.8
         ]
        },
        {
         "name": "卢楠_48h拆分过滤率",
         "type": "scatter",
         "uid": "b09b49e2-c05b-11e8-ba58-2c6e85b5340b",
         "x": [
          "8",
          "9"
         ],
         "y": [
          0.8688524590163934,
          1
         ]
        }
       ],
       "layout": {
        "title": "24h拆分过滤率&48h拆分过滤率月趋势图",
        "xaxis": {
         "mirror": "all",
         "nticks": 20,
         "showgrid": true,
         "showline": true,
         "title": "月",
         "zeroline": true
        },
        "yaxis": {
         "mirror": "all",
         "nticks": 20,
         "showgrid": true,
         "showline": true,
         "title": "24h拆分过滤率&48h拆分过滤率",
         "zeroline": true
        }
       }
      },
      "text/html": [
       "<div id=\"7daf144e-994c-404b-aecf-58483b920726\" style=\"height: 525px; width: 100%;\" class=\"plotly-graph-div\"></div><script type=\"text/javascript\">require([\"plotly\"], function(Plotly) { window.PLOTLYENV=window.PLOTLYENV || {};window.PLOTLYENV.BASE_URL=\"https://plot.ly\";Plotly.newPlot(\"7daf144e-994c-404b-aecf-58483b920726\", [{\"name\": \"\\u5c48\\u6602_24h\\u62c6\\u5206\\u8fc7\\u6ee4\\u7387\", \"x\": [\"8\", \"9\"], \"y\": [0.7240506329113924, 0.7166666666666667], \"type\": \"scatter\", \"uid\": \"b09b22d4-c05b-11e8-b5ae-2c6e85b5340b\"}, {\"name\": \"\\u5c48\\u6602_48h\\u62c6\\u5206\\u8fc7\\u6ee4\\u7387\", \"x\": [\"8\", \"9\"], \"y\": [0.9037974683544304, 0.8444444444444444], \"type\": \"scatter\", \"uid\": \"b09b49dc-c05b-11e8-8868-2c6e85b5340b\"}, {\"name\": \"\\u51b7\\u96ea_24h\\u62c6\\u5206\\u8fc7\\u6ee4\\u7387\", \"x\": [\"8\", \"9\"], \"y\": [0.6820512820512821, 0.7910447761194029], \"type\": \"scatter\", \"uid\": \"b09b49dd-c05b-11e8-837e-2c6e85b5340b\"}, {\"name\": \"\\u51b7\\u96ea_48h\\u62c6\\u5206\\u8fc7\\u6ee4\\u7387\", \"x\": [\"8\", \"9\"], \"y\": [0.9076923076923077, 0.9402985074626866], \"type\": \"scatter\", \"uid\": \"b09b49de-c05b-11e8-ae9a-2c6e85b5340b\"}, {\"name\": \"\\u5f20\\u60a6_24h\\u62c6\\u5206\\u8fc7\\u6ee4\\u7387\", \"x\": [\"8\", \"9\"], \"y\": [0.6153846153846154, 0.75], \"type\": \"scatter\", \"uid\": \"b09b49df-c05b-11e8-a683-2c6e85b5340b\"}, {\"name\": \"\\u5f20\\u60a6_48h\\u62c6\\u5206\\u8fc7\\u6ee4\\u7387\", \"x\": [\"8\", \"9\"], \"y\": [1.0, 1.0], \"type\": \"scatter\", \"uid\": \"b09b49e0-c05b-11e8-817a-2c6e85b5340b\"}, {\"name\": \"\\u5362\\u6960_24h\\u62c6\\u5206\\u8fc7\\u6ee4\\u7387\", \"x\": [\"8\", \"9\"], \"y\": [0.6147540983606558, 0.8], \"type\": \"scatter\", \"uid\": \"b09b49e1-c05b-11e8-a75d-2c6e85b5340b\"}, {\"name\": \"\\u5362\\u6960_48h\\u62c6\\u5206\\u8fc7\\u6ee4\\u7387\", \"x\": [\"8\", \"9\"], \"y\": [0.8688524590163934, 1.0], \"type\": \"scatter\", \"uid\": \"b09b49e2-c05b-11e8-ba58-2c6e85b5340b\"}], {\"title\": \"24h\\u62c6\\u5206\\u8fc7\\u6ee4\\u7387&48h\\u62c6\\u5206\\u8fc7\\u6ee4\\u7387\\u6708\\u8d8b\\u52bf\\u56fe\", \"xaxis\": {\"mirror\": \"all\", \"nticks\": 20, \"showgrid\": true, \"showline\": true, \"title\": \"\\u6708\", \"zeroline\": true}, \"yaxis\": {\"mirror\": \"all\", \"nticks\": 20, \"showgrid\": true, \"showline\": true, \"title\": \"24h\\u62c6\\u5206\\u8fc7\\u6ee4\\u7387&48h\\u62c6\\u5206\\u8fc7\\u6ee4\\u7387\", \"zeroline\": true}}, {\"showLink\": true, \"linkText\": \"Export to plot.ly\"})});</script>"
      ],
      "text/vnd.plotly.v1+html": [
       "<div id=\"7daf144e-994c-404b-aecf-58483b920726\" style=\"height: 525px; width: 100%;\" class=\"plotly-graph-div\"></div><script type=\"text/javascript\">require([\"plotly\"], function(Plotly) { window.PLOTLYENV=window.PLOTLYENV || {};window.PLOTLYENV.BASE_URL=\"https://plot.ly\";Plotly.newPlot(\"7daf144e-994c-404b-aecf-58483b920726\", [{\"name\": \"\\u5c48\\u6602_24h\\u62c6\\u5206\\u8fc7\\u6ee4\\u7387\", \"x\": [\"8\", \"9\"], \"y\": [0.7240506329113924, 0.7166666666666667], \"type\": \"scatter\", \"uid\": \"b09b22d4-c05b-11e8-b5ae-2c6e85b5340b\"}, {\"name\": \"\\u5c48\\u6602_48h\\u62c6\\u5206\\u8fc7\\u6ee4\\u7387\", \"x\": [\"8\", \"9\"], \"y\": [0.9037974683544304, 0.8444444444444444], \"type\": \"scatter\", \"uid\": \"b09b49dc-c05b-11e8-8868-2c6e85b5340b\"}, {\"name\": \"\\u51b7\\u96ea_24h\\u62c6\\u5206\\u8fc7\\u6ee4\\u7387\", \"x\": [\"8\", \"9\"], \"y\": [0.6820512820512821, 0.7910447761194029], \"type\": \"scatter\", \"uid\": \"b09b49dd-c05b-11e8-837e-2c6e85b5340b\"}, {\"name\": \"\\u51b7\\u96ea_48h\\u62c6\\u5206\\u8fc7\\u6ee4\\u7387\", \"x\": [\"8\", \"9\"], \"y\": [0.9076923076923077, 0.9402985074626866], \"type\": \"scatter\", \"uid\": \"b09b49de-c05b-11e8-ae9a-2c6e85b5340b\"}, {\"name\": \"\\u5f20\\u60a6_24h\\u62c6\\u5206\\u8fc7\\u6ee4\\u7387\", \"x\": [\"8\", \"9\"], \"y\": [0.6153846153846154, 0.75], \"type\": \"scatter\", \"uid\": \"b09b49df-c05b-11e8-a683-2c6e85b5340b\"}, {\"name\": \"\\u5f20\\u60a6_48h\\u62c6\\u5206\\u8fc7\\u6ee4\\u7387\", \"x\": [\"8\", \"9\"], \"y\": [1.0, 1.0], \"type\": \"scatter\", \"uid\": \"b09b49e0-c05b-11e8-817a-2c6e85b5340b\"}, {\"name\": \"\\u5362\\u6960_24h\\u62c6\\u5206\\u8fc7\\u6ee4\\u7387\", \"x\": [\"8\", \"9\"], \"y\": [0.6147540983606558, 0.8], \"type\": \"scatter\", \"uid\": \"b09b49e1-c05b-11e8-a75d-2c6e85b5340b\"}, {\"name\": \"\\u5362\\u6960_48h\\u62c6\\u5206\\u8fc7\\u6ee4\\u7387\", \"x\": [\"8\", \"9\"], \"y\": [0.8688524590163934, 1.0], \"type\": \"scatter\", \"uid\": \"b09b49e2-c05b-11e8-ba58-2c6e85b5340b\"}], {\"title\": \"24h\\u62c6\\u5206\\u8fc7\\u6ee4\\u7387&48h\\u62c6\\u5206\\u8fc7\\u6ee4\\u7387\\u6708\\u8d8b\\u52bf\\u56fe\", \"xaxis\": {\"mirror\": \"all\", \"nticks\": 20, \"showgrid\": true, \"showline\": true, \"title\": \"\\u6708\", \"zeroline\": true}, \"yaxis\": {\"mirror\": \"all\", \"nticks\": 20, \"showgrid\": true, \"showline\": true, \"title\": \"24h\\u62c6\\u5206\\u8fc7\\u6ee4\\u7387&48h\\u62c6\\u5206\\u8fc7\\u6ee4\\u7387\", \"zeroline\": true}}, {\"showLink\": true, \"linkText\": \"Export to plot.ly\"})});</script>"
      ]
     },
     "metadata": {},
     "output_type": "display_data"
    }
   ],
   "source": [
    "data_dict = {'24h拆分过滤率':['24h完成批次数', '下机批次数'], '48h拆分过滤率':['48h完成批次数', '下机批次数']}\n",
    "myModule.plot( all_dict, data_dict, '人员' ,  'line' )"
   ]
  },
  {
   "cell_type": "markdown",
   "metadata": {},
   "source": [
    "### 平均反馈时长和反馈时长Q80"
   ]
  },
  {
   "cell_type": "code",
   "execution_count": 27,
   "metadata": {},
   "outputs": [
    {
     "data": {
      "application/vnd.plotly.v1+json": {
       "data": [
        {
         "name": "屈昂_平均反馈时长",
         "type": "scatter",
         "uid": "b0f1c3f6-c05b-11e8-8ed1-2c6e85b5340b",
         "x": [
          "8-1",
          "8-2",
          "8-3",
          "8-4",
          "8-5",
          "9-1",
          "9-2"
         ],
         "y": [
          5.95,
          4.49,
          4.5,
          5.37,
          7.139294117647059,
          9.77,
          6.688
         ]
        },
        {
         "name": "屈昂_反馈时长Q80",
         "type": "scatter",
         "uid": "b0f1c3f7-c05b-11e8-945b-2c6e85b5340b",
         "x": [
          "8-1",
          "8-2",
          "8-3",
          "8-4",
          "8-5",
          "9-1",
          "9-2"
         ],
         "y": [
          5.79,
          5.35,
          5.31,
          5.19,
          11.12,
          16,
          9.89
         ]
        },
        {
         "name": "冷雪_平均反馈时长",
         "type": "scatter",
         "uid": "b0f1c3f8-c05b-11e8-be52-2c6e85b5340b",
         "x": [
          "8-1",
          "8-2",
          "8-3",
          "8-4",
          "8-5",
          "9-1",
          "9-2"
         ],
         "y": [
          7.090000000000001,
          3.9827586206896552,
          4.95,
          3.38,
          3.69,
          9.81,
          7.658947368421053
         ]
        },
        {
         "name": "冷雪_反馈时长Q80",
         "type": "scatter",
         "uid": "b0f1c3f9-c05b-11e8-b1b7-2c6e85b5340b",
         "x": [
          "8-1",
          "8-2",
          "8-3",
          "8-4",
          "8-5",
          "9-1",
          "9-2"
         ],
         "y": [
          7.59,
          4.66,
          5.63,
          3.23,
          6.49,
          13.99,
          10.5
         ]
        },
        {
         "name": "张悦_平均反馈时长",
         "type": "scatter",
         "uid": "b0f1eb06-c05b-11e8-985b-2c6e85b5340b",
         "x": [
          "8-1",
          "8-2",
          "8-3",
          "8-4",
          "8-5",
          "9-1",
          "9-2"
         ],
         "y": [
          14.51,
          3.26,
          18.68,
          1.47,
          2.7600000000000002,
          5.22,
          null
         ]
        },
        {
         "name": "张悦_反馈时长Q80",
         "type": "scatter",
         "uid": "b0f1eb07-c05b-11e8-beda-2c6e85b5340b",
         "x": [
          "8-1",
          "8-2",
          "8-3",
          "8-4",
          "8-5",
          "9-1",
          "9-2"
         ],
         "y": [
          5.54,
          2.28,
          18.68,
          1.47,
          2.11,
          3.31,
          0
         ]
        },
        {
         "name": "卢楠_平均反馈时长",
         "type": "scatter",
         "uid": "b0f1eb08-c05b-11e8-8dfc-2c6e85b5340b",
         "x": [
          "8-1",
          "8-2",
          "8-3",
          "8-4",
          "8-5",
          "9-1",
          "9-2"
         ],
         "y": [
          5.77,
          5,
          8.6,
          5.199999999999999,
          1.7300000000000002,
          7.2,
          14.409999999999998
         ]
        },
        {
         "name": "卢楠_反馈时长Q80",
         "type": "scatter",
         "uid": "b0f1eb09-c05b-11e8-96a7-2c6e85b5340b",
         "x": [
          "8-1",
          "8-2",
          "8-3",
          "8-4",
          "8-5",
          "9-1",
          "9-2"
         ],
         "y": [
          7.58,
          4.61,
          18.53,
          5.89,
          1.85,
          2.18,
          15.12
         ]
        }
       ],
       "layout": {
        "title": "平均反馈时长&反馈时长Q80周趋势图",
        "xaxis": {
         "mirror": "all",
         "nticks": 20,
         "showgrid": true,
         "showline": true,
         "title": "周",
         "zeroline": true
        },
        "yaxis": {
         "mirror": "all",
         "nticks": 20,
         "showgrid": true,
         "showline": true,
         "title": "平均反馈时长&反馈时长Q80",
         "zeroline": true
        }
       }
      },
      "text/html": [
       "<div id=\"f1f222f6-11da-4656-9733-245c5337580e\" style=\"height: 525px; width: 100%;\" class=\"plotly-graph-div\"></div><script type=\"text/javascript\">require([\"plotly\"], function(Plotly) { window.PLOTLYENV=window.PLOTLYENV || {};window.PLOTLYENV.BASE_URL=\"https://plot.ly\";Plotly.newPlot(\"f1f222f6-11da-4656-9733-245c5337580e\", [{\"name\": \"\\u5c48\\u6602_\\u5e73\\u5747\\u53cd\\u9988\\u65f6\\u957f\", \"x\": [\"8-1\", \"8-2\", \"8-3\", \"8-4\", \"8-5\", \"9-1\", \"9-2\"], \"y\": [5.95, 4.49, 4.5, 5.37, 7.139294117647059, 9.77, 6.688], \"type\": \"scatter\", \"uid\": \"b0f1c3f6-c05b-11e8-8ed1-2c6e85b5340b\"}, {\"name\": \"\\u5c48\\u6602_\\u53cd\\u9988\\u65f6\\u957fQ80\", \"x\": [\"8-1\", \"8-2\", \"8-3\", \"8-4\", \"8-5\", \"9-1\", \"9-2\"], \"y\": [5.79, 5.35, 5.31, 5.19, 11.12, 16.0, 9.89], \"type\": \"scatter\", \"uid\": \"b0f1c3f7-c05b-11e8-945b-2c6e85b5340b\"}, {\"name\": \"\\u51b7\\u96ea_\\u5e73\\u5747\\u53cd\\u9988\\u65f6\\u957f\", \"x\": [\"8-1\", \"8-2\", \"8-3\", \"8-4\", \"8-5\", \"9-1\", \"9-2\"], \"y\": [7.090000000000001, 3.9827586206896552, 4.95, 3.38, 3.69, 9.81, 7.658947368421053], \"type\": \"scatter\", \"uid\": \"b0f1c3f8-c05b-11e8-be52-2c6e85b5340b\"}, {\"name\": \"\\u51b7\\u96ea_\\u53cd\\u9988\\u65f6\\u957fQ80\", \"x\": [\"8-1\", \"8-2\", \"8-3\", \"8-4\", \"8-5\", \"9-1\", \"9-2\"], \"y\": [7.59, 4.66, 5.63, 3.23, 6.49, 13.99, 10.5], \"type\": \"scatter\", \"uid\": \"b0f1c3f9-c05b-11e8-b1b7-2c6e85b5340b\"}, {\"name\": \"\\u5f20\\u60a6_\\u5e73\\u5747\\u53cd\\u9988\\u65f6\\u957f\", \"x\": [\"8-1\", \"8-2\", \"8-3\", \"8-4\", \"8-5\", \"9-1\", \"9-2\"], \"y\": [14.51, 3.26, 18.68, 1.47, 2.7600000000000002, 5.22, null], \"type\": \"scatter\", \"uid\": \"b0f1eb06-c05b-11e8-985b-2c6e85b5340b\"}, {\"name\": \"\\u5f20\\u60a6_\\u53cd\\u9988\\u65f6\\u957fQ80\", \"x\": [\"8-1\", \"8-2\", \"8-3\", \"8-4\", \"8-5\", \"9-1\", \"9-2\"], \"y\": [5.54, 2.28, 18.68, 1.47, 2.11, 3.31, 0.0], \"type\": \"scatter\", \"uid\": \"b0f1eb07-c05b-11e8-beda-2c6e85b5340b\"}, {\"name\": \"\\u5362\\u6960_\\u5e73\\u5747\\u53cd\\u9988\\u65f6\\u957f\", \"x\": [\"8-1\", \"8-2\", \"8-3\", \"8-4\", \"8-5\", \"9-1\", \"9-2\"], \"y\": [5.77, 5.0, 8.6, 5.199999999999999, 1.7300000000000002, 7.2, 14.409999999999998], \"type\": \"scatter\", \"uid\": \"b0f1eb08-c05b-11e8-8dfc-2c6e85b5340b\"}, {\"name\": \"\\u5362\\u6960_\\u53cd\\u9988\\u65f6\\u957fQ80\", \"x\": [\"8-1\", \"8-2\", \"8-3\", \"8-4\", \"8-5\", \"9-1\", \"9-2\"], \"y\": [7.58, 4.61, 18.53, 5.89, 1.85, 2.18, 15.12], \"type\": \"scatter\", \"uid\": \"b0f1eb09-c05b-11e8-96a7-2c6e85b5340b\"}], {\"title\": \"\\u5e73\\u5747\\u53cd\\u9988\\u65f6\\u957f&\\u53cd\\u9988\\u65f6\\u957fQ80\\u5468\\u8d8b\\u52bf\\u56fe\", \"xaxis\": {\"mirror\": \"all\", \"nticks\": 20, \"showgrid\": true, \"showline\": true, \"title\": \"\\u5468\", \"zeroline\": true}, \"yaxis\": {\"mirror\": \"all\", \"nticks\": 20, \"showgrid\": true, \"showline\": true, \"title\": \"\\u5e73\\u5747\\u53cd\\u9988\\u65f6\\u957f&\\u53cd\\u9988\\u65f6\\u957fQ80\", \"zeroline\": true}}, {\"showLink\": true, \"linkText\": \"Export to plot.ly\"})});</script>"
      ],
      "text/vnd.plotly.v1+html": [
       "<div id=\"f1f222f6-11da-4656-9733-245c5337580e\" style=\"height: 525px; width: 100%;\" class=\"plotly-graph-div\"></div><script type=\"text/javascript\">require([\"plotly\"], function(Plotly) { window.PLOTLYENV=window.PLOTLYENV || {};window.PLOTLYENV.BASE_URL=\"https://plot.ly\";Plotly.newPlot(\"f1f222f6-11da-4656-9733-245c5337580e\", [{\"name\": \"\\u5c48\\u6602_\\u5e73\\u5747\\u53cd\\u9988\\u65f6\\u957f\", \"x\": [\"8-1\", \"8-2\", \"8-3\", \"8-4\", \"8-5\", \"9-1\", \"9-2\"], \"y\": [5.95, 4.49, 4.5, 5.37, 7.139294117647059, 9.77, 6.688], \"type\": \"scatter\", \"uid\": \"b0f1c3f6-c05b-11e8-8ed1-2c6e85b5340b\"}, {\"name\": \"\\u5c48\\u6602_\\u53cd\\u9988\\u65f6\\u957fQ80\", \"x\": [\"8-1\", \"8-2\", \"8-3\", \"8-4\", \"8-5\", \"9-1\", \"9-2\"], \"y\": [5.79, 5.35, 5.31, 5.19, 11.12, 16.0, 9.89], \"type\": \"scatter\", \"uid\": \"b0f1c3f7-c05b-11e8-945b-2c6e85b5340b\"}, {\"name\": \"\\u51b7\\u96ea_\\u5e73\\u5747\\u53cd\\u9988\\u65f6\\u957f\", \"x\": [\"8-1\", \"8-2\", \"8-3\", \"8-4\", \"8-5\", \"9-1\", \"9-2\"], \"y\": [7.090000000000001, 3.9827586206896552, 4.95, 3.38, 3.69, 9.81, 7.658947368421053], \"type\": \"scatter\", \"uid\": \"b0f1c3f8-c05b-11e8-be52-2c6e85b5340b\"}, {\"name\": \"\\u51b7\\u96ea_\\u53cd\\u9988\\u65f6\\u957fQ80\", \"x\": [\"8-1\", \"8-2\", \"8-3\", \"8-4\", \"8-5\", \"9-1\", \"9-2\"], \"y\": [7.59, 4.66, 5.63, 3.23, 6.49, 13.99, 10.5], \"type\": \"scatter\", \"uid\": \"b0f1c3f9-c05b-11e8-b1b7-2c6e85b5340b\"}, {\"name\": \"\\u5f20\\u60a6_\\u5e73\\u5747\\u53cd\\u9988\\u65f6\\u957f\", \"x\": [\"8-1\", \"8-2\", \"8-3\", \"8-4\", \"8-5\", \"9-1\", \"9-2\"], \"y\": [14.51, 3.26, 18.68, 1.47, 2.7600000000000002, 5.22, null], \"type\": \"scatter\", \"uid\": \"b0f1eb06-c05b-11e8-985b-2c6e85b5340b\"}, {\"name\": \"\\u5f20\\u60a6_\\u53cd\\u9988\\u65f6\\u957fQ80\", \"x\": [\"8-1\", \"8-2\", \"8-3\", \"8-4\", \"8-5\", \"9-1\", \"9-2\"], \"y\": [5.54, 2.28, 18.68, 1.47, 2.11, 3.31, 0.0], \"type\": \"scatter\", \"uid\": \"b0f1eb07-c05b-11e8-beda-2c6e85b5340b\"}, {\"name\": \"\\u5362\\u6960_\\u5e73\\u5747\\u53cd\\u9988\\u65f6\\u957f\", \"x\": [\"8-1\", \"8-2\", \"8-3\", \"8-4\", \"8-5\", \"9-1\", \"9-2\"], \"y\": [5.77, 5.0, 8.6, 5.199999999999999, 1.7300000000000002, 7.2, 14.409999999999998], \"type\": \"scatter\", \"uid\": \"b0f1eb08-c05b-11e8-8dfc-2c6e85b5340b\"}, {\"name\": \"\\u5362\\u6960_\\u53cd\\u9988\\u65f6\\u957fQ80\", \"x\": [\"8-1\", \"8-2\", \"8-3\", \"8-4\", \"8-5\", \"9-1\", \"9-2\"], \"y\": [7.58, 4.61, 18.53, 5.89, 1.85, 2.18, 15.12], \"type\": \"scatter\", \"uid\": \"b0f1eb09-c05b-11e8-96a7-2c6e85b5340b\"}], {\"title\": \"\\u5e73\\u5747\\u53cd\\u9988\\u65f6\\u957f&\\u53cd\\u9988\\u65f6\\u957fQ80\\u5468\\u8d8b\\u52bf\\u56fe\", \"xaxis\": {\"mirror\": \"all\", \"nticks\": 20, \"showgrid\": true, \"showline\": true, \"title\": \"\\u5468\", \"zeroline\": true}, \"yaxis\": {\"mirror\": \"all\", \"nticks\": 20, \"showgrid\": true, \"showline\": true, \"title\": \"\\u5e73\\u5747\\u53cd\\u9988\\u65f6\\u957f&\\u53cd\\u9988\\u65f6\\u957fQ80\", \"zeroline\": true}}, {\"showLink\": true, \"linkText\": \"Export to plot.ly\"})});</script>"
      ]
     },
     "metadata": {},
     "output_type": "display_data"
    },
    {
     "data": {
      "application/vnd.plotly.v1+json": {
       "data": [
        {
         "name": "屈昂_平均反馈时长",
         "type": "scatter",
         "uid": "b134afb6-c05b-11e8-91c6-2c6e85b5340b",
         "x": [
          "8",
          "9"
         ],
         "y": [
          5.482354430379747,
          8.999500000000001
         ]
        },
        {
         "name": "屈昂_反馈时长Q80",
         "type": "scatter",
         "uid": "b134afb7-c05b-11e8-ace0-2c6e85b5340b",
         "x": [
          "8",
          "9"
         ],
         "y": [
          32.76,
          25.89
         ]
        },
        {
         "name": "冷雪_平均反馈时长",
         "type": "scatter",
         "uid": "b134afb8-c05b-11e8-a031-2c6e85b5340b",
         "x": [
          "8",
          "9"
         ],
         "y": [
          4.821589743589744,
          8.59
         ]
        },
        {
         "name": "冷雪_反馈时长Q80",
         "type": "scatter",
         "uid": "b134afb9-c05b-11e8-8bef-2c6e85b5340b",
         "x": [
          "8",
          "9"
         ],
         "y": [
          27.6,
          24.490000000000002
         ]
        },
        {
         "name": "张悦_平均反馈时长",
         "type": "scatter",
         "uid": "b134afba-c05b-11e8-9e03-2c6e85b5340b",
         "x": [
          "8",
          "9"
         ],
         "y": [
          5.77,
          5.22
         ]
        },
        {
         "name": "张悦_反馈时长Q80",
         "type": "scatter",
         "uid": "b134afbb-c05b-11e8-a8ee-2c6e85b5340b",
         "x": [
          "8",
          "9"
         ],
         "y": [
          30.08,
          3.31
         ]
        },
        {
         "name": "卢楠_平均反馈时长",
         "type": "scatter",
         "uid": "b134afbc-c05b-11e8-b9fa-2c6e85b5340b",
         "x": [
          "8",
          "9"
         ],
         "y": [
          5.846803278688525,
          11.526
         ]
        },
        {
         "name": "卢楠_反馈时长Q80",
         "type": "scatter",
         "uid": "b134afbd-c05b-11e8-a4e8-2c6e85b5340b",
         "x": [
          "8",
          "9"
         ],
         "y": [
          38.46,
          17.3
         ]
        }
       ],
       "layout": {
        "title": "平均反馈时长&反馈时长Q80月趋势图",
        "xaxis": {
         "mirror": "all",
         "nticks": 20,
         "showgrid": true,
         "showline": true,
         "title": "月",
         "zeroline": true
        },
        "yaxis": {
         "mirror": "all",
         "nticks": 20,
         "showgrid": true,
         "showline": true,
         "title": "平均反馈时长&反馈时长Q80",
         "zeroline": true
        }
       }
      },
      "text/html": [
       "<div id=\"59ed3553-bfd6-48a5-a26f-92cc6fc333e3\" style=\"height: 525px; width: 100%;\" class=\"plotly-graph-div\"></div><script type=\"text/javascript\">require([\"plotly\"], function(Plotly) { window.PLOTLYENV=window.PLOTLYENV || {};window.PLOTLYENV.BASE_URL=\"https://plot.ly\";Plotly.newPlot(\"59ed3553-bfd6-48a5-a26f-92cc6fc333e3\", [{\"name\": \"\\u5c48\\u6602_\\u5e73\\u5747\\u53cd\\u9988\\u65f6\\u957f\", \"x\": [\"8\", \"9\"], \"y\": [5.482354430379747, 8.999500000000001], \"type\": \"scatter\", \"uid\": \"b134afb6-c05b-11e8-91c6-2c6e85b5340b\"}, {\"name\": \"\\u5c48\\u6602_\\u53cd\\u9988\\u65f6\\u957fQ80\", \"x\": [\"8\", \"9\"], \"y\": [32.76, 25.89], \"type\": \"scatter\", \"uid\": \"b134afb7-c05b-11e8-ace0-2c6e85b5340b\"}, {\"name\": \"\\u51b7\\u96ea_\\u5e73\\u5747\\u53cd\\u9988\\u65f6\\u957f\", \"x\": [\"8\", \"9\"], \"y\": [4.821589743589744, 8.59], \"type\": \"scatter\", \"uid\": \"b134afb8-c05b-11e8-a031-2c6e85b5340b\"}, {\"name\": \"\\u51b7\\u96ea_\\u53cd\\u9988\\u65f6\\u957fQ80\", \"x\": [\"8\", \"9\"], \"y\": [27.6, 24.490000000000002], \"type\": \"scatter\", \"uid\": \"b134afb9-c05b-11e8-8bef-2c6e85b5340b\"}, {\"name\": \"\\u5f20\\u60a6_\\u5e73\\u5747\\u53cd\\u9988\\u65f6\\u957f\", \"x\": [\"8\", \"9\"], \"y\": [5.77, 5.22], \"type\": \"scatter\", \"uid\": \"b134afba-c05b-11e8-9e03-2c6e85b5340b\"}, {\"name\": \"\\u5f20\\u60a6_\\u53cd\\u9988\\u65f6\\u957fQ80\", \"x\": [\"8\", \"9\"], \"y\": [30.08, 3.31], \"type\": \"scatter\", \"uid\": \"b134afbb-c05b-11e8-a8ee-2c6e85b5340b\"}, {\"name\": \"\\u5362\\u6960_\\u5e73\\u5747\\u53cd\\u9988\\u65f6\\u957f\", \"x\": [\"8\", \"9\"], \"y\": [5.846803278688525, 11.526], \"type\": \"scatter\", \"uid\": \"b134afbc-c05b-11e8-b9fa-2c6e85b5340b\"}, {\"name\": \"\\u5362\\u6960_\\u53cd\\u9988\\u65f6\\u957fQ80\", \"x\": [\"8\", \"9\"], \"y\": [38.46, 17.3], \"type\": \"scatter\", \"uid\": \"b134afbd-c05b-11e8-a4e8-2c6e85b5340b\"}], {\"title\": \"\\u5e73\\u5747\\u53cd\\u9988\\u65f6\\u957f&\\u53cd\\u9988\\u65f6\\u957fQ80\\u6708\\u8d8b\\u52bf\\u56fe\", \"xaxis\": {\"mirror\": \"all\", \"nticks\": 20, \"showgrid\": true, \"showline\": true, \"title\": \"\\u6708\", \"zeroline\": true}, \"yaxis\": {\"mirror\": \"all\", \"nticks\": 20, \"showgrid\": true, \"showline\": true, \"title\": \"\\u5e73\\u5747\\u53cd\\u9988\\u65f6\\u957f&\\u53cd\\u9988\\u65f6\\u957fQ80\", \"zeroline\": true}}, {\"showLink\": true, \"linkText\": \"Export to plot.ly\"})});</script>"
      ],
      "text/vnd.plotly.v1+html": [
       "<div id=\"59ed3553-bfd6-48a5-a26f-92cc6fc333e3\" style=\"height: 525px; width: 100%;\" class=\"plotly-graph-div\"></div><script type=\"text/javascript\">require([\"plotly\"], function(Plotly) { window.PLOTLYENV=window.PLOTLYENV || {};window.PLOTLYENV.BASE_URL=\"https://plot.ly\";Plotly.newPlot(\"59ed3553-bfd6-48a5-a26f-92cc6fc333e3\", [{\"name\": \"\\u5c48\\u6602_\\u5e73\\u5747\\u53cd\\u9988\\u65f6\\u957f\", \"x\": [\"8\", \"9\"], \"y\": [5.482354430379747, 8.999500000000001], \"type\": \"scatter\", \"uid\": \"b134afb6-c05b-11e8-91c6-2c6e85b5340b\"}, {\"name\": \"\\u5c48\\u6602_\\u53cd\\u9988\\u65f6\\u957fQ80\", \"x\": [\"8\", \"9\"], \"y\": [32.76, 25.89], \"type\": \"scatter\", \"uid\": \"b134afb7-c05b-11e8-ace0-2c6e85b5340b\"}, {\"name\": \"\\u51b7\\u96ea_\\u5e73\\u5747\\u53cd\\u9988\\u65f6\\u957f\", \"x\": [\"8\", \"9\"], \"y\": [4.821589743589744, 8.59], \"type\": \"scatter\", \"uid\": \"b134afb8-c05b-11e8-a031-2c6e85b5340b\"}, {\"name\": \"\\u51b7\\u96ea_\\u53cd\\u9988\\u65f6\\u957fQ80\", \"x\": [\"8\", \"9\"], \"y\": [27.6, 24.490000000000002], \"type\": \"scatter\", \"uid\": \"b134afb9-c05b-11e8-8bef-2c6e85b5340b\"}, {\"name\": \"\\u5f20\\u60a6_\\u5e73\\u5747\\u53cd\\u9988\\u65f6\\u957f\", \"x\": [\"8\", \"9\"], \"y\": [5.77, 5.22], \"type\": \"scatter\", \"uid\": \"b134afba-c05b-11e8-9e03-2c6e85b5340b\"}, {\"name\": \"\\u5f20\\u60a6_\\u53cd\\u9988\\u65f6\\u957fQ80\", \"x\": [\"8\", \"9\"], \"y\": [30.08, 3.31], \"type\": \"scatter\", \"uid\": \"b134afbb-c05b-11e8-a8ee-2c6e85b5340b\"}, {\"name\": \"\\u5362\\u6960_\\u5e73\\u5747\\u53cd\\u9988\\u65f6\\u957f\", \"x\": [\"8\", \"9\"], \"y\": [5.846803278688525, 11.526], \"type\": \"scatter\", \"uid\": \"b134afbc-c05b-11e8-b9fa-2c6e85b5340b\"}, {\"name\": \"\\u5362\\u6960_\\u53cd\\u9988\\u65f6\\u957fQ80\", \"x\": [\"8\", \"9\"], \"y\": [38.46, 17.3], \"type\": \"scatter\", \"uid\": \"b134afbd-c05b-11e8-a4e8-2c6e85b5340b\"}], {\"title\": \"\\u5e73\\u5747\\u53cd\\u9988\\u65f6\\u957f&\\u53cd\\u9988\\u65f6\\u957fQ80\\u6708\\u8d8b\\u52bf\\u56fe\", \"xaxis\": {\"mirror\": \"all\", \"nticks\": 20, \"showgrid\": true, \"showline\": true, \"title\": \"\\u6708\", \"zeroline\": true}, \"yaxis\": {\"mirror\": \"all\", \"nticks\": 20, \"showgrid\": true, \"showline\": true, \"title\": \"\\u5e73\\u5747\\u53cd\\u9988\\u65f6\\u957f&\\u53cd\\u9988\\u65f6\\u957fQ80\", \"zeroline\": true}}, {\"showLink\": true, \"linkText\": \"Export to plot.ly\"})});</script>"
      ]
     },
     "metadata": {},
     "output_type": "display_data"
    }
   ],
   "source": [
    "data_dict = {'平均反馈时长':['反馈总时长','下机批次数'], '反馈时长Q80':['反馈时长Q80']}\n",
    "myModule.plot( all_dict, data_dict, '人员' ,  'line' )"
   ]
  },
  {
   "cell_type": "markdown",
   "metadata": {},
   "source": [
    "## 异常"
   ]
  },
  {
   "cell_type": "markdown",
   "metadata": {},
   "source": [
    "### 下机批次比"
   ]
  },
  {
   "cell_type": "code",
   "execution_count": 28,
   "metadata": {},
   "outputs": [
    {
     "data": {
      "application/vnd.plotly.v1+json": {
       "data": [
        {
         "name": "屈昂",
         "type": "scatter",
         "uid": "b178b3b0-c05b-11e8-9dec-2c6e85b5340b",
         "x": [
          "8-1",
          "8-2",
          "8-3",
          "8-4",
          "8-5",
          "9-1",
          "9-2"
         ],
         "y": [
          1.1666666666666667,
          1.1935483870967742,
          1.2096774193548387,
          1.2395833333333333,
          1.118421052631579,
          1.1538461538461537,
          1.1842105263157894
         ]
        },
        {
         "name": "冷雪",
         "type": "scatter",
         "uid": "b178b3b1-c05b-11e8-906f-2c6e85b5340b",
         "x": [
          "8-1",
          "8-2",
          "8-3",
          "8-4",
          "8-5",
          "9-1",
          "9-2"
         ],
         "y": [
          1.2258064516129032,
          1.183673469387755,
          1.2941176470588236,
          1.0769230769230769,
          2.5,
          1.0740740740740742,
          1.2063492063492063
         ]
        },
        {
         "name": "张悦",
         "type": "scatter",
         "uid": "b178b3b2-c05b-11e8-a9d8-2c6e85b5340b",
         "x": [
          "8-1",
          "8-2",
          "8-3",
          "8-4",
          "8-5",
          "9-1",
          "9-2"
         ],
         "y": [
          2,
          2,
          1,
          1,
          1.4,
          2,
          null
         ]
        },
        {
         "name": "卢楠",
         "type": "scatter",
         "uid": "b178b3b3-c05b-11e8-a01b-2c6e85b5340b",
         "x": [
          "8-1",
          "8-2",
          "8-3",
          "8-4",
          "8-5",
          "9-1",
          "9-2"
         ],
         "y": [
          1.3846153846153846,
          1.3823529411764706,
          1.0952380952380953,
          1,
          1.5,
          2,
          1.5
         ]
        }
       ],
       "layout": {
        "title": "下机批次比周趋势图",
        "xaxis": {
         "mirror": "all",
         "nticks": 20,
         "showgrid": true,
         "showline": true,
         "title": "周",
         "zeroline": true
        },
        "yaxis": {
         "mirror": "all",
         "nticks": 20,
         "showgrid": true,
         "showline": true,
         "title": "下机批次比",
         "zeroline": true
        }
       }
      },
      "text/html": [
       "<div id=\"f2075613-305d-46bf-a599-81bc80f7635c\" style=\"height: 525px; width: 100%;\" class=\"plotly-graph-div\"></div><script type=\"text/javascript\">require([\"plotly\"], function(Plotly) { window.PLOTLYENV=window.PLOTLYENV || {};window.PLOTLYENV.BASE_URL=\"https://plot.ly\";Plotly.newPlot(\"f2075613-305d-46bf-a599-81bc80f7635c\", [{\"name\": \"\\u5c48\\u6602\", \"x\": [\"8-1\", \"8-2\", \"8-3\", \"8-4\", \"8-5\", \"9-1\", \"9-2\"], \"y\": [1.1666666666666667, 1.1935483870967742, 1.2096774193548387, 1.2395833333333333, 1.118421052631579, 1.1538461538461537, 1.1842105263157894], \"type\": \"scatter\", \"uid\": \"b178b3b0-c05b-11e8-9dec-2c6e85b5340b\"}, {\"name\": \"\\u51b7\\u96ea\", \"x\": [\"8-1\", \"8-2\", \"8-3\", \"8-4\", \"8-5\", \"9-1\", \"9-2\"], \"y\": [1.2258064516129032, 1.183673469387755, 1.2941176470588236, 1.0769230769230769, 2.5, 1.0740740740740742, 1.2063492063492063], \"type\": \"scatter\", \"uid\": \"b178b3b1-c05b-11e8-906f-2c6e85b5340b\"}, {\"name\": \"\\u5f20\\u60a6\", \"x\": [\"8-1\", \"8-2\", \"8-3\", \"8-4\", \"8-5\", \"9-1\", \"9-2\"], \"y\": [2.0, 2.0, 1.0, 1.0, 1.4, 2.0, null], \"type\": \"scatter\", \"uid\": \"b178b3b2-c05b-11e8-a9d8-2c6e85b5340b\"}, {\"name\": \"\\u5362\\u6960\", \"x\": [\"8-1\", \"8-2\", \"8-3\", \"8-4\", \"8-5\", \"9-1\", \"9-2\"], \"y\": [1.3846153846153846, 1.3823529411764706, 1.0952380952380953, 1.0, 1.5, 2.0, 1.5], \"type\": \"scatter\", \"uid\": \"b178b3b3-c05b-11e8-a01b-2c6e85b5340b\"}], {\"title\": \"\\u4e0b\\u673a\\u6279\\u6b21\\u6bd4\\u5468\\u8d8b\\u52bf\\u56fe\", \"xaxis\": {\"mirror\": \"all\", \"nticks\": 20, \"showgrid\": true, \"showline\": true, \"title\": \"\\u5468\", \"zeroline\": true}, \"yaxis\": {\"mirror\": \"all\", \"nticks\": 20, \"showgrid\": true, \"showline\": true, \"title\": \"\\u4e0b\\u673a\\u6279\\u6b21\\u6bd4\", \"zeroline\": true}}, {\"showLink\": true, \"linkText\": \"Export to plot.ly\"})});</script>"
      ],
      "text/vnd.plotly.v1+html": [
       "<div id=\"f2075613-305d-46bf-a599-81bc80f7635c\" style=\"height: 525px; width: 100%;\" class=\"plotly-graph-div\"></div><script type=\"text/javascript\">require([\"plotly\"], function(Plotly) { window.PLOTLYENV=window.PLOTLYENV || {};window.PLOTLYENV.BASE_URL=\"https://plot.ly\";Plotly.newPlot(\"f2075613-305d-46bf-a599-81bc80f7635c\", [{\"name\": \"\\u5c48\\u6602\", \"x\": [\"8-1\", \"8-2\", \"8-3\", \"8-4\", \"8-5\", \"9-1\", \"9-2\"], \"y\": [1.1666666666666667, 1.1935483870967742, 1.2096774193548387, 1.2395833333333333, 1.118421052631579, 1.1538461538461537, 1.1842105263157894], \"type\": \"scatter\", \"uid\": \"b178b3b0-c05b-11e8-9dec-2c6e85b5340b\"}, {\"name\": \"\\u51b7\\u96ea\", \"x\": [\"8-1\", \"8-2\", \"8-3\", \"8-4\", \"8-5\", \"9-1\", \"9-2\"], \"y\": [1.2258064516129032, 1.183673469387755, 1.2941176470588236, 1.0769230769230769, 2.5, 1.0740740740740742, 1.2063492063492063], \"type\": \"scatter\", \"uid\": \"b178b3b1-c05b-11e8-906f-2c6e85b5340b\"}, {\"name\": \"\\u5f20\\u60a6\", \"x\": [\"8-1\", \"8-2\", \"8-3\", \"8-4\", \"8-5\", \"9-1\", \"9-2\"], \"y\": [2.0, 2.0, 1.0, 1.0, 1.4, 2.0, null], \"type\": \"scatter\", \"uid\": \"b178b3b2-c05b-11e8-a9d8-2c6e85b5340b\"}, {\"name\": \"\\u5362\\u6960\", \"x\": [\"8-1\", \"8-2\", \"8-3\", \"8-4\", \"8-5\", \"9-1\", \"9-2\"], \"y\": [1.3846153846153846, 1.3823529411764706, 1.0952380952380953, 1.0, 1.5, 2.0, 1.5], \"type\": \"scatter\", \"uid\": \"b178b3b3-c05b-11e8-a01b-2c6e85b5340b\"}], {\"title\": \"\\u4e0b\\u673a\\u6279\\u6b21\\u6bd4\\u5468\\u8d8b\\u52bf\\u56fe\", \"xaxis\": {\"mirror\": \"all\", \"nticks\": 20, \"showgrid\": true, \"showline\": true, \"title\": \"\\u5468\", \"zeroline\": true}, \"yaxis\": {\"mirror\": \"all\", \"nticks\": 20, \"showgrid\": true, \"showline\": true, \"title\": \"\\u4e0b\\u673a\\u6279\\u6b21\\u6bd4\", \"zeroline\": true}}, {\"showLink\": true, \"linkText\": \"Export to plot.ly\"})});</script>"
      ]
     },
     "metadata": {},
     "output_type": "display_data"
    },
    {
     "data": {
      "application/vnd.plotly.v1+json": {
       "data": [
        {
         "name": "屈昂",
         "type": "scatter",
         "uid": "b191b640-c05b-11e8-9bd6-2c6e85b5340b",
         "x": [
          "8",
          "9"
         ],
         "y": [
          1.1897590361445782,
          1.1612903225806452
         ]
        },
        {
         "name": "冷雪",
         "type": "scatter",
         "uid": "b191b641-c05b-11e8-ba5b-2c6e85b5340b",
         "x": [
          "8",
          "9"
         ],
         "y": [
          1.2264150943396226,
          1.1452991452991452
         ]
        },
        {
         "name": "张悦",
         "type": "scatter",
         "uid": "b191b642-c05b-11e8-9a3e-2c6e85b5340b",
         "x": [
          "8",
          "9"
         ],
         "y": [
          1.4444444444444444,
          2
         ]
        },
        {
         "name": "卢楠",
         "type": "scatter",
         "uid": "b191b643-c05b-11e8-814e-2c6e85b5340b",
         "x": [
          "8",
          "9"
         ],
         "y": [
          1.2708333333333333,
          1.6666666666666667
         ]
        }
       ],
       "layout": {
        "title": "下机批次比月趋势图",
        "xaxis": {
         "mirror": "all",
         "nticks": 20,
         "showgrid": true,
         "showline": true,
         "title": "月",
         "zeroline": true
        },
        "yaxis": {
         "mirror": "all",
         "nticks": 20,
         "showgrid": true,
         "showline": true,
         "title": "下机批次比",
         "zeroline": true
        }
       }
      },
      "text/html": [
       "<div id=\"1f698ea7-1797-4c57-98b7-eb596ed8ae89\" style=\"height: 525px; width: 100%;\" class=\"plotly-graph-div\"></div><script type=\"text/javascript\">require([\"plotly\"], function(Plotly) { window.PLOTLYENV=window.PLOTLYENV || {};window.PLOTLYENV.BASE_URL=\"https://plot.ly\";Plotly.newPlot(\"1f698ea7-1797-4c57-98b7-eb596ed8ae89\", [{\"name\": \"\\u5c48\\u6602\", \"x\": [\"8\", \"9\"], \"y\": [1.1897590361445782, 1.1612903225806452], \"type\": \"scatter\", \"uid\": \"b191b640-c05b-11e8-9bd6-2c6e85b5340b\"}, {\"name\": \"\\u51b7\\u96ea\", \"x\": [\"8\", \"9\"], \"y\": [1.2264150943396226, 1.1452991452991452], \"type\": \"scatter\", \"uid\": \"b191b641-c05b-11e8-ba5b-2c6e85b5340b\"}, {\"name\": \"\\u5f20\\u60a6\", \"x\": [\"8\", \"9\"], \"y\": [1.4444444444444444, 2.0], \"type\": \"scatter\", \"uid\": \"b191b642-c05b-11e8-9a3e-2c6e85b5340b\"}, {\"name\": \"\\u5362\\u6960\", \"x\": [\"8\", \"9\"], \"y\": [1.2708333333333333, 1.6666666666666667], \"type\": \"scatter\", \"uid\": \"b191b643-c05b-11e8-814e-2c6e85b5340b\"}], {\"title\": \"\\u4e0b\\u673a\\u6279\\u6b21\\u6bd4\\u6708\\u8d8b\\u52bf\\u56fe\", \"xaxis\": {\"mirror\": \"all\", \"nticks\": 20, \"showgrid\": true, \"showline\": true, \"title\": \"\\u6708\", \"zeroline\": true}, \"yaxis\": {\"mirror\": \"all\", \"nticks\": 20, \"showgrid\": true, \"showline\": true, \"title\": \"\\u4e0b\\u673a\\u6279\\u6b21\\u6bd4\", \"zeroline\": true}}, {\"showLink\": true, \"linkText\": \"Export to plot.ly\"})});</script>"
      ],
      "text/vnd.plotly.v1+html": [
       "<div id=\"1f698ea7-1797-4c57-98b7-eb596ed8ae89\" style=\"height: 525px; width: 100%;\" class=\"plotly-graph-div\"></div><script type=\"text/javascript\">require([\"plotly\"], function(Plotly) { window.PLOTLYENV=window.PLOTLYENV || {};window.PLOTLYENV.BASE_URL=\"https://plot.ly\";Plotly.newPlot(\"1f698ea7-1797-4c57-98b7-eb596ed8ae89\", [{\"name\": \"\\u5c48\\u6602\", \"x\": [\"8\", \"9\"], \"y\": [1.1897590361445782, 1.1612903225806452], \"type\": \"scatter\", \"uid\": \"b191b640-c05b-11e8-9bd6-2c6e85b5340b\"}, {\"name\": \"\\u51b7\\u96ea\", \"x\": [\"8\", \"9\"], \"y\": [1.2264150943396226, 1.1452991452991452], \"type\": \"scatter\", \"uid\": \"b191b641-c05b-11e8-ba5b-2c6e85b5340b\"}, {\"name\": \"\\u5f20\\u60a6\", \"x\": [\"8\", \"9\"], \"y\": [1.4444444444444444, 2.0], \"type\": \"scatter\", \"uid\": \"b191b642-c05b-11e8-9a3e-2c6e85b5340b\"}, {\"name\": \"\\u5362\\u6960\", \"x\": [\"8\", \"9\"], \"y\": [1.2708333333333333, 1.6666666666666667], \"type\": \"scatter\", \"uid\": \"b191b643-c05b-11e8-814e-2c6e85b5340b\"}], {\"title\": \"\\u4e0b\\u673a\\u6279\\u6b21\\u6bd4\\u6708\\u8d8b\\u52bf\\u56fe\", \"xaxis\": {\"mirror\": \"all\", \"nticks\": 20, \"showgrid\": true, \"showline\": true, \"title\": \"\\u6708\", \"zeroline\": true}, \"yaxis\": {\"mirror\": \"all\", \"nticks\": 20, \"showgrid\": true, \"showline\": true, \"title\": \"\\u4e0b\\u673a\\u6279\\u6b21\\u6bd4\", \"zeroline\": true}}, {\"showLink\": true, \"linkText\": \"Export to plot.ly\"})});</script>"
      ]
     },
     "metadata": {},
     "output_type": "display_data"
    }
   ],
   "source": [
    "data_dict = {'下机批次比':['下机批次数','下机项目数']}\n",
    "myModule.plot( all_dict, data_dict, '人员' ,  'line' )"
   ]
  },
  {
   "cell_type": "markdown",
   "metadata": {
    "collapsed": true
   },
   "source": [
    "### 个性化数"
   ]
  },
  {
   "cell_type": "code",
   "execution_count": 29,
   "metadata": {},
   "outputs": [
    {
     "data": {
      "application/vnd.plotly.v1+json": {
       "data": [
        {
         "name": "屈昂",
         "type": "scatter",
         "uid": "b20db1de-c05b-11e8-9da9-2c6e85b5340b",
         "x": [
          "8-1",
          "8-2",
          "8-3",
          "8-4",
          "8-5",
          "9-1",
          "9-2"
         ],
         "y": [
          0,
          0,
          0,
          0,
          0,
          0,
          0
         ]
        },
        {
         "name": "冷雪",
         "type": "scatter",
         "uid": "b20db1df-c05b-11e8-86f7-2c6e85b5340b",
         "x": [
          "8-1",
          "8-2",
          "8-3",
          "8-4",
          "8-5",
          "9-1",
          "9-2"
         ],
         "y": [
          0,
          0,
          0,
          0,
          0,
          0,
          0
         ]
        },
        {
         "name": "张悦",
         "type": "scatter",
         "uid": "b20db1e0-c05b-11e8-bc16-2c6e85b5340b",
         "x": [
          "8-1",
          "8-2",
          "8-3",
          "8-4",
          "8-5",
          "9-1",
          "9-2"
         ],
         "y": [
          0,
          0,
          0,
          0,
          0,
          0,
          0
         ]
        },
        {
         "name": "卢楠",
         "type": "scatter",
         "uid": "b20db1e1-c05b-11e8-86ac-2c6e85b5340b",
         "x": [
          "8-1",
          "8-2",
          "8-3",
          "8-4",
          "8-5",
          "9-1",
          "9-2"
         ],
         "y": [
          0,
          0,
          0,
          0,
          0,
          0,
          0
         ]
        }
       ],
       "layout": {
        "title": "个性化数周趋势图",
        "xaxis": {
         "mirror": "all",
         "nticks": 20,
         "showgrid": true,
         "showline": true,
         "title": "周",
         "zeroline": true
        },
        "yaxis": {
         "mirror": "all",
         "nticks": 20,
         "showgrid": true,
         "showline": true,
         "title": "个性化数",
         "zeroline": true
        }
       }
      },
      "text/html": [
       "<div id=\"7be156fb-67ae-4a71-8949-f8c8bccbceb6\" style=\"height: 525px; width: 100%;\" class=\"plotly-graph-div\"></div><script type=\"text/javascript\">require([\"plotly\"], function(Plotly) { window.PLOTLYENV=window.PLOTLYENV || {};window.PLOTLYENV.BASE_URL=\"https://plot.ly\";Plotly.newPlot(\"7be156fb-67ae-4a71-8949-f8c8bccbceb6\", [{\"name\": \"\\u5c48\\u6602\", \"x\": [\"8-1\", \"8-2\", \"8-3\", \"8-4\", \"8-5\", \"9-1\", \"9-2\"], \"y\": [0.0, 0.0, 0.0, 0.0, 0.0, 0.0, 0.0], \"type\": \"scatter\", \"uid\": \"b20db1de-c05b-11e8-9da9-2c6e85b5340b\"}, {\"name\": \"\\u51b7\\u96ea\", \"x\": [\"8-1\", \"8-2\", \"8-3\", \"8-4\", \"8-5\", \"9-1\", \"9-2\"], \"y\": [0.0, 0.0, 0.0, 0.0, 0.0, 0.0, 0.0], \"type\": \"scatter\", \"uid\": \"b20db1df-c05b-11e8-86f7-2c6e85b5340b\"}, {\"name\": \"\\u5f20\\u60a6\", \"x\": [\"8-1\", \"8-2\", \"8-3\", \"8-4\", \"8-5\", \"9-1\", \"9-2\"], \"y\": [0.0, 0.0, 0.0, 0.0, 0.0, 0.0, 0.0], \"type\": \"scatter\", \"uid\": \"b20db1e0-c05b-11e8-bc16-2c6e85b5340b\"}, {\"name\": \"\\u5362\\u6960\", \"x\": [\"8-1\", \"8-2\", \"8-3\", \"8-4\", \"8-5\", \"9-1\", \"9-2\"], \"y\": [0.0, 0.0, 0.0, 0.0, 0.0, 0.0, 0.0], \"type\": \"scatter\", \"uid\": \"b20db1e1-c05b-11e8-86ac-2c6e85b5340b\"}], {\"title\": \"\\u4e2a\\u6027\\u5316\\u6570\\u5468\\u8d8b\\u52bf\\u56fe\", \"xaxis\": {\"mirror\": \"all\", \"nticks\": 20, \"showgrid\": true, \"showline\": true, \"title\": \"\\u5468\", \"zeroline\": true}, \"yaxis\": {\"mirror\": \"all\", \"nticks\": 20, \"showgrid\": true, \"showline\": true, \"title\": \"\\u4e2a\\u6027\\u5316\\u6570\", \"zeroline\": true}}, {\"showLink\": true, \"linkText\": \"Export to plot.ly\"})});</script>"
      ],
      "text/vnd.plotly.v1+html": [
       "<div id=\"7be156fb-67ae-4a71-8949-f8c8bccbceb6\" style=\"height: 525px; width: 100%;\" class=\"plotly-graph-div\"></div><script type=\"text/javascript\">require([\"plotly\"], function(Plotly) { window.PLOTLYENV=window.PLOTLYENV || {};window.PLOTLYENV.BASE_URL=\"https://plot.ly\";Plotly.newPlot(\"7be156fb-67ae-4a71-8949-f8c8bccbceb6\", [{\"name\": \"\\u5c48\\u6602\", \"x\": [\"8-1\", \"8-2\", \"8-3\", \"8-4\", \"8-5\", \"9-1\", \"9-2\"], \"y\": [0.0, 0.0, 0.0, 0.0, 0.0, 0.0, 0.0], \"type\": \"scatter\", \"uid\": \"b20db1de-c05b-11e8-9da9-2c6e85b5340b\"}, {\"name\": \"\\u51b7\\u96ea\", \"x\": [\"8-1\", \"8-2\", \"8-3\", \"8-4\", \"8-5\", \"9-1\", \"9-2\"], \"y\": [0.0, 0.0, 0.0, 0.0, 0.0, 0.0, 0.0], \"type\": \"scatter\", \"uid\": \"b20db1df-c05b-11e8-86f7-2c6e85b5340b\"}, {\"name\": \"\\u5f20\\u60a6\", \"x\": [\"8-1\", \"8-2\", \"8-3\", \"8-4\", \"8-5\", \"9-1\", \"9-2\"], \"y\": [0.0, 0.0, 0.0, 0.0, 0.0, 0.0, 0.0], \"type\": \"scatter\", \"uid\": \"b20db1e0-c05b-11e8-bc16-2c6e85b5340b\"}, {\"name\": \"\\u5362\\u6960\", \"x\": [\"8-1\", \"8-2\", \"8-3\", \"8-4\", \"8-5\", \"9-1\", \"9-2\"], \"y\": [0.0, 0.0, 0.0, 0.0, 0.0, 0.0, 0.0], \"type\": \"scatter\", \"uid\": \"b20db1e1-c05b-11e8-86ac-2c6e85b5340b\"}], {\"title\": \"\\u4e2a\\u6027\\u5316\\u6570\\u5468\\u8d8b\\u52bf\\u56fe\", \"xaxis\": {\"mirror\": \"all\", \"nticks\": 20, \"showgrid\": true, \"showline\": true, \"title\": \"\\u5468\", \"zeroline\": true}, \"yaxis\": {\"mirror\": \"all\", \"nticks\": 20, \"showgrid\": true, \"showline\": true, \"title\": \"\\u4e2a\\u6027\\u5316\\u6570\", \"zeroline\": true}}, {\"showLink\": true, \"linkText\": \"Export to plot.ly\"})});</script>"
      ]
     },
     "metadata": {},
     "output_type": "display_data"
    },
    {
     "data": {
      "application/vnd.plotly.v1+json": {
       "data": [
        {
         "name": "屈昂",
         "type": "scatter",
         "uid": "b2399d58-c05b-11e8-93f6-2c6e85b5340b",
         "x": [
          "8",
          "9"
         ],
         "y": [
          0,
          0
         ]
        },
        {
         "name": "冷雪",
         "type": "scatter",
         "uid": "b2399d59-c05b-11e8-a3aa-2c6e85b5340b",
         "x": [
          "8",
          "9"
         ],
         "y": [
          0,
          0
         ]
        },
        {
         "name": "张悦",
         "type": "scatter",
         "uid": "b2399d5a-c05b-11e8-a577-2c6e85b5340b",
         "x": [
          "8",
          "9"
         ],
         "y": [
          0,
          0
         ]
        },
        {
         "name": "卢楠",
         "type": "scatter",
         "uid": "b2399d5b-c05b-11e8-a04a-2c6e85b5340b",
         "x": [
          "8",
          "9"
         ],
         "y": [
          0,
          0
         ]
        }
       ],
       "layout": {
        "title": "个性化数月趋势图",
        "xaxis": {
         "mirror": "all",
         "nticks": 20,
         "showgrid": true,
         "showline": true,
         "title": "月",
         "zeroline": true
        },
        "yaxis": {
         "mirror": "all",
         "nticks": 20,
         "showgrid": true,
         "showline": true,
         "title": "个性化数",
         "zeroline": true
        }
       }
      },
      "text/html": [
       "<div id=\"7a770336-f190-46c1-91ca-8dde34b8a1dd\" style=\"height: 525px; width: 100%;\" class=\"plotly-graph-div\"></div><script type=\"text/javascript\">require([\"plotly\"], function(Plotly) { window.PLOTLYENV=window.PLOTLYENV || {};window.PLOTLYENV.BASE_URL=\"https://plot.ly\";Plotly.newPlot(\"7a770336-f190-46c1-91ca-8dde34b8a1dd\", [{\"name\": \"\\u5c48\\u6602\", \"x\": [\"8\", \"9\"], \"y\": [0.0, 0.0], \"type\": \"scatter\", \"uid\": \"b2399d58-c05b-11e8-93f6-2c6e85b5340b\"}, {\"name\": \"\\u51b7\\u96ea\", \"x\": [\"8\", \"9\"], \"y\": [0.0, 0.0], \"type\": \"scatter\", \"uid\": \"b2399d59-c05b-11e8-a3aa-2c6e85b5340b\"}, {\"name\": \"\\u5f20\\u60a6\", \"x\": [\"8\", \"9\"], \"y\": [0.0, 0.0], \"type\": \"scatter\", \"uid\": \"b2399d5a-c05b-11e8-a577-2c6e85b5340b\"}, {\"name\": \"\\u5362\\u6960\", \"x\": [\"8\", \"9\"], \"y\": [0.0, 0.0], \"type\": \"scatter\", \"uid\": \"b2399d5b-c05b-11e8-a04a-2c6e85b5340b\"}], {\"title\": \"\\u4e2a\\u6027\\u5316\\u6570\\u6708\\u8d8b\\u52bf\\u56fe\", \"xaxis\": {\"mirror\": \"all\", \"nticks\": 20, \"showgrid\": true, \"showline\": true, \"title\": \"\\u6708\", \"zeroline\": true}, \"yaxis\": {\"mirror\": \"all\", \"nticks\": 20, \"showgrid\": true, \"showline\": true, \"title\": \"\\u4e2a\\u6027\\u5316\\u6570\", \"zeroline\": true}}, {\"showLink\": true, \"linkText\": \"Export to plot.ly\"})});</script>"
      ],
      "text/vnd.plotly.v1+html": [
       "<div id=\"7a770336-f190-46c1-91ca-8dde34b8a1dd\" style=\"height: 525px; width: 100%;\" class=\"plotly-graph-div\"></div><script type=\"text/javascript\">require([\"plotly\"], function(Plotly) { window.PLOTLYENV=window.PLOTLYENV || {};window.PLOTLYENV.BASE_URL=\"https://plot.ly\";Plotly.newPlot(\"7a770336-f190-46c1-91ca-8dde34b8a1dd\", [{\"name\": \"\\u5c48\\u6602\", \"x\": [\"8\", \"9\"], \"y\": [0.0, 0.0], \"type\": \"scatter\", \"uid\": \"b2399d58-c05b-11e8-93f6-2c6e85b5340b\"}, {\"name\": \"\\u51b7\\u96ea\", \"x\": [\"8\", \"9\"], \"y\": [0.0, 0.0], \"type\": \"scatter\", \"uid\": \"b2399d59-c05b-11e8-a3aa-2c6e85b5340b\"}, {\"name\": \"\\u5f20\\u60a6\", \"x\": [\"8\", \"9\"], \"y\": [0.0, 0.0], \"type\": \"scatter\", \"uid\": \"b2399d5a-c05b-11e8-a577-2c6e85b5340b\"}, {\"name\": \"\\u5362\\u6960\", \"x\": [\"8\", \"9\"], \"y\": [0.0, 0.0], \"type\": \"scatter\", \"uid\": \"b2399d5b-c05b-11e8-a04a-2c6e85b5340b\"}], {\"title\": \"\\u4e2a\\u6027\\u5316\\u6570\\u6708\\u8d8b\\u52bf\\u56fe\", \"xaxis\": {\"mirror\": \"all\", \"nticks\": 20, \"showgrid\": true, \"showline\": true, \"title\": \"\\u6708\", \"zeroline\": true}, \"yaxis\": {\"mirror\": \"all\", \"nticks\": 20, \"showgrid\": true, \"showline\": true, \"title\": \"\\u4e2a\\u6027\\u5316\\u6570\", \"zeroline\": true}}, {\"showLink\": true, \"linkText\": \"Export to plot.ly\"})});</script>"
      ]
     },
     "metadata": {},
     "output_type": "display_data"
    }
   ],
   "source": [
    "data_dict = {'个性化数':['个性化数']}\n",
    "myModule.plot( all_dict, data_dict, '人员' ,  'line' )"
   ]
  },
  {
   "cell_type": "code",
   "execution_count": null,
   "metadata": {
    "collapsed": true
   },
   "outputs": [],
   "source": []
  }
 ],
 "metadata": {
  "celltoolbar": "Raw Cell Format",
  "hide_input": false,
  "kernelspec": {
   "display_name": "Python 3",
   "language": "python",
   "name": "python3"
  },
  "language_info": {
   "codemirror_mode": {
    "name": "ipython",
    "version": 3
   },
   "file_extension": ".py",
   "mimetype": "text/x-python",
   "name": "python",
   "nbconvert_exporter": "python",
   "pygments_lexer": "ipython3",
   "version": "3.6.6"
  },
  "toc": {
   "base_numbering": 1,
   "nav_menu": {},
   "number_sections": true,
   "sideBar": true,
   "skip_h1_title": false,
   "title_cell": "Table of Contents",
   "title_sidebar": "Contents",
   "toc_cell": false,
   "toc_position": {
    "height": "513.333px",
    "left": "419px",
    "top": "110.926px",
    "width": "271px"
   },
   "toc_section_display": true,
   "toc_window_display": true
  }
 },
 "nbformat": 4,
 "nbformat_minor": 2
}
