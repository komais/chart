{
 "cells": [
  {
   "cell_type": "code",
   "execution_count": 1,
   "metadata": {
    "hide_input": false
   },
   "outputs": [
    {
     "name": "stderr",
     "output_type": "stream",
     "text": [
      "/usr/lib/python3.6/importlib/_bootstrap.py:219: RuntimeWarning: numpy.dtype size changed, may indicate binary incompatibility. Expected 96, got 88\n",
      "  return f(*args, **kwds)\n",
      "/usr/lib/python3.6/importlib/_bootstrap.py:219: RuntimeWarning: numpy.dtype size changed, may indicate binary incompatibility. Expected 96, got 88\n",
      "  return f(*args, **kwds)\n"
     ]
    },
    {
     "data": {
      "text/html": [
       "<script>requirejs.config({paths: { 'plotly': ['https://cdn.plot.ly/plotly-latest.min']},});if(!window.Plotly) {{require(['plotly'],function(plotly) {window.Plotly=plotly;});}}</script>"
      ],
      "text/vnd.plotly.v1+html": [
       "<script>requirejs.config({paths: { 'plotly': ['https://cdn.plot.ly/plotly-latest.min']},});if(!window.Plotly) {{require(['plotly'],function(plotly) {window.Plotly=plotly;});}}</script>"
      ]
     },
     "metadata": {},
     "output_type": "display_data"
    }
   ],
   "source": [
    "import sys\n",
    "sys.path.append('./')\n",
    "import myModule\n",
    "import pandas as pd "
   ]
  },
  {
   "cell_type": "code",
   "execution_count": 2,
   "metadata": {},
   "outputs": [],
   "source": [
    "import imp\n",
    "#imp.reload(myModule)\n",
    "pathway = r\"/mnt/e/jupyter/data/QC/\""
   ]
  },
  {
   "cell_type": "code",
   "execution_count": 3,
   "metadata": {},
   "outputs": [],
   "source": [
    "all_files , title = myModule.get_title(pathway , 0)##给路径\n",
    "all_dict = myModule.read_xlsx(all_files, 0 ) ## read all files\n"
   ]
  },
  {
   "cell_type": "markdown",
   "metadata": {},
   "source": [
    "# QC分析组整体情况\n",
    "* 总结\n",
    "  * test"
   ]
  },
  {
   "cell_type": "markdown",
   "metadata": {
    "hide_input": true
   },
   "source": [
    "## 过滤项目整体情况"
   ]
  },
  {
   "cell_type": "markdown",
   "metadata": {},
   "source": [
    "### 产能"
   ]
  },
  {
   "cell_type": "markdown",
   "metadata": {},
   "source": [
    "\n",
    "#### 下机批次数和下机项目数\n"
   ]
  },
  {
   "cell_type": "code",
   "execution_count": 4,
   "metadata": {
    "scrolled": false
   },
   "outputs": [
    {
     "data": {
      "application/vnd.plotly.v1+json": {
       "data": [
        {
         "name": "下机批次数",
         "type": "scatter",
         "uid": "b7cb40a8-c165-11e8-b372-a81e84e6c740",
         "x": [
          "8-1",
          "8-2",
          "8-3",
          "8-4",
          "8-5",
          "9-1",
          "9-2",
          "9-3"
         ],
         "y": [
          118,
          181,
          165,
          161,
          100,
          199,
          124,
          136
         ]
        },
        {
         "name": "下机项目数",
         "type": "scatter",
         "uid": "b7cb4760-c165-11e8-b372-a81e84e6c740",
         "x": [
          "8-1",
          "8-2",
          "8-3",
          "8-4",
          "8-5",
          "9-1",
          "9-2",
          "9-3"
         ],
         "y": [
          94,
          146,
          135,
          136,
          85,
          174,
          103,
          122
         ]
        }
       ],
       "layout": {
        "title": "下机批次数&下机项目数周趋势图",
        "xaxis": {
         "mirror": "all",
         "nticks": 20,
         "showgrid": true,
         "showline": true,
         "title": "周",
         "zeroline": true
        },
        "yaxis": {
         "mirror": "all",
         "nticks": 20,
         "showgrid": true,
         "showline": true,
         "title": "下机批次数&下机项目数",
         "zeroline": true
        }
       }
      },
      "text/html": [
       "<div id=\"b090548d-877e-4ed7-90de-450ddd60aebb\" style=\"height: 525px; width: 100%;\" class=\"plotly-graph-div\"></div><script type=\"text/javascript\">require([\"plotly\"], function(Plotly) { window.PLOTLYENV=window.PLOTLYENV || {};window.PLOTLYENV.BASE_URL=\"https://plot.ly\";\n",
       "        Plotly.plot(\n",
       "            'b090548d-877e-4ed7-90de-450ddd60aebb',\n",
       "            [{\"name\": \"\\u4e0b\\u673a\\u6279\\u6b21\\u6570\", \"x\": [\"8-1\", \"8-2\", \"8-3\", \"8-4\", \"8-5\", \"9-1\", \"9-2\", \"9-3\"], \"y\": [118.0, 181.0, 165.0, 161.0, 100.0, 199.0, 124.0, 136.0], \"type\": \"scatter\", \"uid\": \"b7cb40a8-c165-11e8-b372-a81e84e6c740\"}, {\"name\": \"\\u4e0b\\u673a\\u9879\\u76ee\\u6570\", \"x\": [\"8-1\", \"8-2\", \"8-3\", \"8-4\", \"8-5\", \"9-1\", \"9-2\", \"9-3\"], \"y\": [94.0, 146.0, 135.0, 136.0, 85.0, 174.0, 103.0, 122.0], \"type\": \"scatter\", \"uid\": \"b7cb4760-c165-11e8-b372-a81e84e6c740\"}],\n",
       "            {\"title\": \"\\u4e0b\\u673a\\u6279\\u6b21\\u6570&\\u4e0b\\u673a\\u9879\\u76ee\\u6570\\u5468\\u8d8b\\u52bf\\u56fe\", \"xaxis\": {\"mirror\": \"all\", \"nticks\": 20, \"showgrid\": true, \"showline\": true, \"title\": \"\\u5468\", \"zeroline\": true}, \"yaxis\": {\"mirror\": \"all\", \"nticks\": 20, \"showgrid\": true, \"showline\": true, \"title\": \"\\u4e0b\\u673a\\u6279\\u6b21\\u6570&\\u4e0b\\u673a\\u9879\\u76ee\\u6570\", \"zeroline\": true}},\n",
       "            {\"showLink\": true, \"linkText\": \"Export to plot.ly\"}\n",
       "        ).then(function () {return Plotly.addFrames('b090548d-877e-4ed7-90de-450ddd60aebb',{});}).then(function(){Plotly.animate('b090548d-877e-4ed7-90de-450ddd60aebb');})\n",
       "        });</script>"
      ],
      "text/vnd.plotly.v1+html": [
       "<div id=\"b090548d-877e-4ed7-90de-450ddd60aebb\" style=\"height: 525px; width: 100%;\" class=\"plotly-graph-div\"></div><script type=\"text/javascript\">require([\"plotly\"], function(Plotly) { window.PLOTLYENV=window.PLOTLYENV || {};window.PLOTLYENV.BASE_URL=\"https://plot.ly\";\n",
       "        Plotly.plot(\n",
       "            'b090548d-877e-4ed7-90de-450ddd60aebb',\n",
       "            [{\"name\": \"\\u4e0b\\u673a\\u6279\\u6b21\\u6570\", \"x\": [\"8-1\", \"8-2\", \"8-3\", \"8-4\", \"8-5\", \"9-1\", \"9-2\", \"9-3\"], \"y\": [118.0, 181.0, 165.0, 161.0, 100.0, 199.0, 124.0, 136.0], \"type\": \"scatter\", \"uid\": \"b7cb40a8-c165-11e8-b372-a81e84e6c740\"}, {\"name\": \"\\u4e0b\\u673a\\u9879\\u76ee\\u6570\", \"x\": [\"8-1\", \"8-2\", \"8-3\", \"8-4\", \"8-5\", \"9-1\", \"9-2\", \"9-3\"], \"y\": [94.0, 146.0, 135.0, 136.0, 85.0, 174.0, 103.0, 122.0], \"type\": \"scatter\", \"uid\": \"b7cb4760-c165-11e8-b372-a81e84e6c740\"}],\n",
       "            {\"title\": \"\\u4e0b\\u673a\\u6279\\u6b21\\u6570&\\u4e0b\\u673a\\u9879\\u76ee\\u6570\\u5468\\u8d8b\\u52bf\\u56fe\", \"xaxis\": {\"mirror\": \"all\", \"nticks\": 20, \"showgrid\": true, \"showline\": true, \"title\": \"\\u5468\", \"zeroline\": true}, \"yaxis\": {\"mirror\": \"all\", \"nticks\": 20, \"showgrid\": true, \"showline\": true, \"title\": \"\\u4e0b\\u673a\\u6279\\u6b21\\u6570&\\u4e0b\\u673a\\u9879\\u76ee\\u6570\", \"zeroline\": true}},\n",
       "            {\"showLink\": true, \"linkText\": \"Export to plot.ly\"}\n",
       "        ).then(function () {return Plotly.addFrames('b090548d-877e-4ed7-90de-450ddd60aebb',{});}).then(function(){Plotly.animate('b090548d-877e-4ed7-90de-450ddd60aebb');})\n",
       "        });</script>"
      ]
     },
     "metadata": {},
     "output_type": "display_data"
    },
    {
     "data": {
      "application/vnd.plotly.v1+json": {
       "data": [
        {
         "name": "下机批次数",
         "type": "scatter",
         "uid": "b7d7c4fe-c165-11e8-b372-a81e84e6c740",
         "x": [
          "8",
          "9"
         ],
         "y": [
          725,
          459
         ]
        },
        {
         "name": "下机项目数",
         "type": "scatter",
         "uid": "b7d7c8f0-c165-11e8-b372-a81e84e6c740",
         "x": [
          "8",
          "9"
         ],
         "y": [
          596,
          399
         ]
        }
       ],
       "layout": {
        "title": "下机批次数&下机项目数月趋势图",
        "xaxis": {
         "mirror": "all",
         "nticks": 20,
         "showgrid": true,
         "showline": true,
         "title": "月",
         "zeroline": true
        },
        "yaxis": {
         "mirror": "all",
         "nticks": 20,
         "showgrid": true,
         "showline": true,
         "title": "下机批次数&下机项目数",
         "zeroline": true
        }
       }
      },
      "text/html": [
       "<div id=\"fb1d8f5a-726c-4ef4-b43c-ff146dd9ec87\" style=\"height: 525px; width: 100%;\" class=\"plotly-graph-div\"></div><script type=\"text/javascript\">require([\"plotly\"], function(Plotly) { window.PLOTLYENV=window.PLOTLYENV || {};window.PLOTLYENV.BASE_URL=\"https://plot.ly\";\n",
       "        Plotly.plot(\n",
       "            'fb1d8f5a-726c-4ef4-b43c-ff146dd9ec87',\n",
       "            [{\"name\": \"\\u4e0b\\u673a\\u6279\\u6b21\\u6570\", \"x\": [\"8\", \"9\"], \"y\": [725.0, 459.0], \"type\": \"scatter\", \"uid\": \"b7d7c4fe-c165-11e8-b372-a81e84e6c740\"}, {\"name\": \"\\u4e0b\\u673a\\u9879\\u76ee\\u6570\", \"x\": [\"8\", \"9\"], \"y\": [596.0, 399.0], \"type\": \"scatter\", \"uid\": \"b7d7c8f0-c165-11e8-b372-a81e84e6c740\"}],\n",
       "            {\"title\": \"\\u4e0b\\u673a\\u6279\\u6b21\\u6570&\\u4e0b\\u673a\\u9879\\u76ee\\u6570\\u6708\\u8d8b\\u52bf\\u56fe\", \"xaxis\": {\"mirror\": \"all\", \"nticks\": 20, \"showgrid\": true, \"showline\": true, \"title\": \"\\u6708\", \"zeroline\": true}, \"yaxis\": {\"mirror\": \"all\", \"nticks\": 20, \"showgrid\": true, \"showline\": true, \"title\": \"\\u4e0b\\u673a\\u6279\\u6b21\\u6570&\\u4e0b\\u673a\\u9879\\u76ee\\u6570\", \"zeroline\": true}},\n",
       "            {\"showLink\": true, \"linkText\": \"Export to plot.ly\"}\n",
       "        ).then(function () {return Plotly.addFrames('fb1d8f5a-726c-4ef4-b43c-ff146dd9ec87',{});}).then(function(){Plotly.animate('fb1d8f5a-726c-4ef4-b43c-ff146dd9ec87');})\n",
       "        });</script>"
      ],
      "text/vnd.plotly.v1+html": [
       "<div id=\"fb1d8f5a-726c-4ef4-b43c-ff146dd9ec87\" style=\"height: 525px; width: 100%;\" class=\"plotly-graph-div\"></div><script type=\"text/javascript\">require([\"plotly\"], function(Plotly) { window.PLOTLYENV=window.PLOTLYENV || {};window.PLOTLYENV.BASE_URL=\"https://plot.ly\";\n",
       "        Plotly.plot(\n",
       "            'fb1d8f5a-726c-4ef4-b43c-ff146dd9ec87',\n",
       "            [{\"name\": \"\\u4e0b\\u673a\\u6279\\u6b21\\u6570\", \"x\": [\"8\", \"9\"], \"y\": [725.0, 459.0], \"type\": \"scatter\", \"uid\": \"b7d7c4fe-c165-11e8-b372-a81e84e6c740\"}, {\"name\": \"\\u4e0b\\u673a\\u9879\\u76ee\\u6570\", \"x\": [\"8\", \"9\"], \"y\": [596.0, 399.0], \"type\": \"scatter\", \"uid\": \"b7d7c8f0-c165-11e8-b372-a81e84e6c740\"}],\n",
       "            {\"title\": \"\\u4e0b\\u673a\\u6279\\u6b21\\u6570&\\u4e0b\\u673a\\u9879\\u76ee\\u6570\\u6708\\u8d8b\\u52bf\\u56fe\", \"xaxis\": {\"mirror\": \"all\", \"nticks\": 20, \"showgrid\": true, \"showline\": true, \"title\": \"\\u6708\", \"zeroline\": true}, \"yaxis\": {\"mirror\": \"all\", \"nticks\": 20, \"showgrid\": true, \"showline\": true, \"title\": \"\\u4e0b\\u673a\\u6279\\u6b21\\u6570&\\u4e0b\\u673a\\u9879\\u76ee\\u6570\", \"zeroline\": true}},\n",
       "            {\"showLink\": true, \"linkText\": \"Export to plot.ly\"}\n",
       "        ).then(function () {return Plotly.addFrames('fb1d8f5a-726c-4ef4-b43c-ff146dd9ec87',{});}).then(function(){Plotly.animate('fb1d8f5a-726c-4ef4-b43c-ff146dd9ec87');})\n",
       "        });</script>"
      ]
     },
     "metadata": {},
     "output_type": "display_data"
    }
   ],
   "source": [
    "data_dict = {'下机批次数':['下机批次数'],'下机项目数':['下机项目数']}\n",
    "myModule.plot( all_dict, data_dict, '人员' ,  'line', all='all' )"
   ]
  },
  {
   "cell_type": "markdown",
   "metadata": {},
   "source": [
    "#### 下机批次比"
   ]
  },
  {
   "cell_type": "code",
   "execution_count": 34,
   "metadata": {
    "scrolled": false
   },
   "outputs": [
    {
     "data": {
      "application/vnd.plotly.v1+json": {
       "data": [
        {
         "name": "下机批次比",
         "type": "scatter",
         "uid": "abe0d46c-c15e-11e8-8539-a81e84e6c740",
         "x": [
          "8-1",
          "8-2",
          "8-3",
          "8-4",
          "8-5",
          "9-1",
          "9-2",
          "9-3"
         ],
         "y": [
          1.2553191489361701,
          1.2397260273972603,
          1.2222222222222223,
          1.1838235294117647,
          1.1764705882352942,
          1.1436781609195403,
          1.203883495145631,
          1.1147540983606556
         ]
        }
       ],
       "layout": {
        "title": "下机批次比周趋势图",
        "xaxis": {
         "mirror": "all",
         "nticks": 20,
         "showgrid": true,
         "showline": true,
         "title": "周",
         "zeroline": true
        },
        "yaxis": {
         "mirror": "all",
         "nticks": 20,
         "showgrid": true,
         "showline": true,
         "title": "下机批次比",
         "zeroline": true
        }
       }
      },
      "text/html": [
       "<div id=\"4f1a95db-1e8a-4ee9-bbd6-266b83829f16\" style=\"height: 525px; width: 100%;\" class=\"plotly-graph-div\"></div><script type=\"text/javascript\">require([\"plotly\"], function(Plotly) { window.PLOTLYENV=window.PLOTLYENV || {};window.PLOTLYENV.BASE_URL=\"https://plot.ly\";\n",
       "        Plotly.plot(\n",
       "            '4f1a95db-1e8a-4ee9-bbd6-266b83829f16',\n",
       "            [{\"name\": \"\\u4e0b\\u673a\\u6279\\u6b21\\u6bd4\", \"x\": [\"8-1\", \"8-2\", \"8-3\", \"8-4\", \"8-5\", \"9-1\", \"9-2\", \"9-3\"], \"y\": [1.2553191489361701, 1.2397260273972603, 1.2222222222222223, 1.1838235294117647, 1.1764705882352942, 1.1436781609195403, 1.203883495145631, 1.1147540983606556], \"type\": \"scatter\", \"uid\": \"abe0d46c-c15e-11e8-8539-a81e84e6c740\"}],\n",
       "            {\"title\": \"\\u4e0b\\u673a\\u6279\\u6b21\\u6bd4\\u5468\\u8d8b\\u52bf\\u56fe\", \"xaxis\": {\"mirror\": \"all\", \"nticks\": 20, \"showgrid\": true, \"showline\": true, \"title\": \"\\u5468\", \"zeroline\": true}, \"yaxis\": {\"mirror\": \"all\", \"nticks\": 20, \"showgrid\": true, \"showline\": true, \"title\": \"\\u4e0b\\u673a\\u6279\\u6b21\\u6bd4\", \"zeroline\": true}},\n",
       "            {\"showLink\": true, \"linkText\": \"Export to plot.ly\"}\n",
       "        ).then(function () {return Plotly.addFrames('4f1a95db-1e8a-4ee9-bbd6-266b83829f16',{});}).then(function(){Plotly.animate('4f1a95db-1e8a-4ee9-bbd6-266b83829f16');})\n",
       "        });</script>"
      ],
      "text/vnd.plotly.v1+html": [
       "<div id=\"4f1a95db-1e8a-4ee9-bbd6-266b83829f16\" style=\"height: 525px; width: 100%;\" class=\"plotly-graph-div\"></div><script type=\"text/javascript\">require([\"plotly\"], function(Plotly) { window.PLOTLYENV=window.PLOTLYENV || {};window.PLOTLYENV.BASE_URL=\"https://plot.ly\";\n",
       "        Plotly.plot(\n",
       "            '4f1a95db-1e8a-4ee9-bbd6-266b83829f16',\n",
       "            [{\"name\": \"\\u4e0b\\u673a\\u6279\\u6b21\\u6bd4\", \"x\": [\"8-1\", \"8-2\", \"8-3\", \"8-4\", \"8-5\", \"9-1\", \"9-2\", \"9-3\"], \"y\": [1.2553191489361701, 1.2397260273972603, 1.2222222222222223, 1.1838235294117647, 1.1764705882352942, 1.1436781609195403, 1.203883495145631, 1.1147540983606556], \"type\": \"scatter\", \"uid\": \"abe0d46c-c15e-11e8-8539-a81e84e6c740\"}],\n",
       "            {\"title\": \"\\u4e0b\\u673a\\u6279\\u6b21\\u6bd4\\u5468\\u8d8b\\u52bf\\u56fe\", \"xaxis\": {\"mirror\": \"all\", \"nticks\": 20, \"showgrid\": true, \"showline\": true, \"title\": \"\\u5468\", \"zeroline\": true}, \"yaxis\": {\"mirror\": \"all\", \"nticks\": 20, \"showgrid\": true, \"showline\": true, \"title\": \"\\u4e0b\\u673a\\u6279\\u6b21\\u6bd4\", \"zeroline\": true}},\n",
       "            {\"showLink\": true, \"linkText\": \"Export to plot.ly\"}\n",
       "        ).then(function () {return Plotly.addFrames('4f1a95db-1e8a-4ee9-bbd6-266b83829f16',{});}).then(function(){Plotly.animate('4f1a95db-1e8a-4ee9-bbd6-266b83829f16');})\n",
       "        });</script>"
      ]
     },
     "metadata": {},
     "output_type": "display_data"
    },
    {
     "data": {
      "application/vnd.plotly.v1+json": {
       "data": [
        {
         "name": "下机批次比",
         "type": "scatter",
         "uid": "abe82e56-c15e-11e8-8539-a81e84e6c740",
         "x": [
          "8",
          "9"
         ],
         "y": [
          1.2164429530201342,
          1.150375939849624
         ]
        }
       ],
       "layout": {
        "title": "下机批次比月趋势图",
        "xaxis": {
         "mirror": "all",
         "nticks": 20,
         "showgrid": true,
         "showline": true,
         "title": "月",
         "zeroline": true
        },
        "yaxis": {
         "mirror": "all",
         "nticks": 20,
         "showgrid": true,
         "showline": true,
         "title": "下机批次比",
         "zeroline": true
        }
       }
      },
      "text/html": [
       "<div id=\"42f26410-3ad6-4ca4-98ef-927aeb18104c\" style=\"height: 525px; width: 100%;\" class=\"plotly-graph-div\"></div><script type=\"text/javascript\">require([\"plotly\"], function(Plotly) { window.PLOTLYENV=window.PLOTLYENV || {};window.PLOTLYENV.BASE_URL=\"https://plot.ly\";\n",
       "        Plotly.plot(\n",
       "            '42f26410-3ad6-4ca4-98ef-927aeb18104c',\n",
       "            [{\"name\": \"\\u4e0b\\u673a\\u6279\\u6b21\\u6bd4\", \"x\": [\"8\", \"9\"], \"y\": [1.2164429530201342, 1.150375939849624], \"type\": \"scatter\", \"uid\": \"abe82e56-c15e-11e8-8539-a81e84e6c740\"}],\n",
       "            {\"title\": \"\\u4e0b\\u673a\\u6279\\u6b21\\u6bd4\\u6708\\u8d8b\\u52bf\\u56fe\", \"xaxis\": {\"mirror\": \"all\", \"nticks\": 20, \"showgrid\": true, \"showline\": true, \"title\": \"\\u6708\", \"zeroline\": true}, \"yaxis\": {\"mirror\": \"all\", \"nticks\": 20, \"showgrid\": true, \"showline\": true, \"title\": \"\\u4e0b\\u673a\\u6279\\u6b21\\u6bd4\", \"zeroline\": true}},\n",
       "            {\"showLink\": true, \"linkText\": \"Export to plot.ly\"}\n",
       "        ).then(function () {return Plotly.addFrames('42f26410-3ad6-4ca4-98ef-927aeb18104c',{});}).then(function(){Plotly.animate('42f26410-3ad6-4ca4-98ef-927aeb18104c');})\n",
       "        });</script>"
      ],
      "text/vnd.plotly.v1+html": [
       "<div id=\"42f26410-3ad6-4ca4-98ef-927aeb18104c\" style=\"height: 525px; width: 100%;\" class=\"plotly-graph-div\"></div><script type=\"text/javascript\">require([\"plotly\"], function(Plotly) { window.PLOTLYENV=window.PLOTLYENV || {};window.PLOTLYENV.BASE_URL=\"https://plot.ly\";\n",
       "        Plotly.plot(\n",
       "            '42f26410-3ad6-4ca4-98ef-927aeb18104c',\n",
       "            [{\"name\": \"\\u4e0b\\u673a\\u6279\\u6b21\\u6bd4\", \"x\": [\"8\", \"9\"], \"y\": [1.2164429530201342, 1.150375939849624], \"type\": \"scatter\", \"uid\": \"abe82e56-c15e-11e8-8539-a81e84e6c740\"}],\n",
       "            {\"title\": \"\\u4e0b\\u673a\\u6279\\u6b21\\u6bd4\\u6708\\u8d8b\\u52bf\\u56fe\", \"xaxis\": {\"mirror\": \"all\", \"nticks\": 20, \"showgrid\": true, \"showline\": true, \"title\": \"\\u6708\", \"zeroline\": true}, \"yaxis\": {\"mirror\": \"all\", \"nticks\": 20, \"showgrid\": true, \"showline\": true, \"title\": \"\\u4e0b\\u673a\\u6279\\u6b21\\u6bd4\", \"zeroline\": true}},\n",
       "            {\"showLink\": true, \"linkText\": \"Export to plot.ly\"}\n",
       "        ).then(function () {return Plotly.addFrames('42f26410-3ad6-4ca4-98ef-927aeb18104c',{});}).then(function(){Plotly.animate('42f26410-3ad6-4ca4-98ef-927aeb18104c');})\n",
       "        });</script>"
      ]
     },
     "metadata": {},
     "output_type": "display_data"
    }
   ],
   "source": [
    "data_dict = {'下机批次比':['下机批次数','下机项目数']}\n",
    "myModule.plot( all_dict, data_dict, '人员' ,  'line' , all='all')"
   ]
  },
  {
   "cell_type": "markdown",
   "metadata": {
    "hide_input": true
   },
   "source": [
    "### 效率"
   ]
  },
  {
   "cell_type": "markdown",
   "metadata": {},
   "source": [
    "#### 反馈及时率和数据交付及时率"
   ]
  },
  {
   "cell_type": "code",
   "execution_count": 35,
   "metadata": {
    "scrolled": false
   },
   "outputs": [
    {
     "data": {
      "application/vnd.plotly.v1+json": {
       "data": [
        {
         "name": "反馈及时率",
         "type": "scatter",
         "uid": "ac2a1122-c15e-11e8-8539-a81e84e6c740",
         "x": [
          "8-1",
          "8-2",
          "8-3",
          "8-4",
          "8-5",
          "9-1",
          "9-2",
          "9-3"
         ],
         "y": [
          0.9661016949152542,
          0.9668508287292817,
          0.9878787878787879,
          0.968944099378882,
          0.93,
          0.9849246231155779,
          0.9274193548387096,
          1
         ]
        },
        {
         "name": "数据及时交付率",
         "type": "scatter",
         "uid": "ac2a1474-c15e-11e8-8539-a81e84e6c740",
         "x": [
          "8-1",
          "8-2",
          "8-3",
          "8-4",
          "8-5",
          "9-1",
          "9-2",
          "9-3"
         ],
         "y": [
          1,
          1,
          1,
          1,
          1,
          1,
          1,
          1
         ]
        }
       ],
       "layout": {
        "title": "反馈及时率&数据及时交付率周趋势图",
        "xaxis": {
         "mirror": "all",
         "nticks": 20,
         "showgrid": true,
         "showline": true,
         "title": "周",
         "zeroline": true
        },
        "yaxis": {
         "mirror": "all",
         "nticks": 20,
         "showgrid": true,
         "showline": true,
         "title": "反馈及时率&数据及时交付率",
         "zeroline": true
        }
       }
      },
      "text/html": [
       "<div id=\"3507b65e-1c98-42a8-a7c5-8728ac411a63\" style=\"height: 525px; width: 100%;\" class=\"plotly-graph-div\"></div><script type=\"text/javascript\">require([\"plotly\"], function(Plotly) { window.PLOTLYENV=window.PLOTLYENV || {};window.PLOTLYENV.BASE_URL=\"https://plot.ly\";\n",
       "        Plotly.plot(\n",
       "            '3507b65e-1c98-42a8-a7c5-8728ac411a63',\n",
       "            [{\"name\": \"\\u53cd\\u9988\\u53ca\\u65f6\\u7387\", \"x\": [\"8-1\", \"8-2\", \"8-3\", \"8-4\", \"8-5\", \"9-1\", \"9-2\", \"9-3\"], \"y\": [0.9661016949152542, 0.9668508287292817, 0.9878787878787879, 0.968944099378882, 0.93, 0.9849246231155779, 0.9274193548387096, 1.0], \"type\": \"scatter\", \"uid\": \"ac2a1122-c15e-11e8-8539-a81e84e6c740\"}, {\"name\": \"\\u6570\\u636e\\u53ca\\u65f6\\u4ea4\\u4ed8\\u7387\", \"x\": [\"8-1\", \"8-2\", \"8-3\", \"8-4\", \"8-5\", \"9-1\", \"9-2\", \"9-3\"], \"y\": [1.0, 1.0, 1.0, 1.0, 1.0, 1.0, 1.0, 1.0], \"type\": \"scatter\", \"uid\": \"ac2a1474-c15e-11e8-8539-a81e84e6c740\"}],\n",
       "            {\"title\": \"\\u53cd\\u9988\\u53ca\\u65f6\\u7387&\\u6570\\u636e\\u53ca\\u65f6\\u4ea4\\u4ed8\\u7387\\u5468\\u8d8b\\u52bf\\u56fe\", \"xaxis\": {\"mirror\": \"all\", \"nticks\": 20, \"showgrid\": true, \"showline\": true, \"title\": \"\\u5468\", \"zeroline\": true}, \"yaxis\": {\"mirror\": \"all\", \"nticks\": 20, \"showgrid\": true, \"showline\": true, \"title\": \"\\u53cd\\u9988\\u53ca\\u65f6\\u7387&\\u6570\\u636e\\u53ca\\u65f6\\u4ea4\\u4ed8\\u7387\", \"zeroline\": true}},\n",
       "            {\"showLink\": true, \"linkText\": \"Export to plot.ly\"}\n",
       "        ).then(function () {return Plotly.addFrames('3507b65e-1c98-42a8-a7c5-8728ac411a63',{});}).then(function(){Plotly.animate('3507b65e-1c98-42a8-a7c5-8728ac411a63');})\n",
       "        });</script>"
      ],
      "text/vnd.plotly.v1+html": [
       "<div id=\"3507b65e-1c98-42a8-a7c5-8728ac411a63\" style=\"height: 525px; width: 100%;\" class=\"plotly-graph-div\"></div><script type=\"text/javascript\">require([\"plotly\"], function(Plotly) { window.PLOTLYENV=window.PLOTLYENV || {};window.PLOTLYENV.BASE_URL=\"https://plot.ly\";\n",
       "        Plotly.plot(\n",
       "            '3507b65e-1c98-42a8-a7c5-8728ac411a63',\n",
       "            [{\"name\": \"\\u53cd\\u9988\\u53ca\\u65f6\\u7387\", \"x\": [\"8-1\", \"8-2\", \"8-3\", \"8-4\", \"8-5\", \"9-1\", \"9-2\", \"9-3\"], \"y\": [0.9661016949152542, 0.9668508287292817, 0.9878787878787879, 0.968944099378882, 0.93, 0.9849246231155779, 0.9274193548387096, 1.0], \"type\": \"scatter\", \"uid\": \"ac2a1122-c15e-11e8-8539-a81e84e6c740\"}, {\"name\": \"\\u6570\\u636e\\u53ca\\u65f6\\u4ea4\\u4ed8\\u7387\", \"x\": [\"8-1\", \"8-2\", \"8-3\", \"8-4\", \"8-5\", \"9-1\", \"9-2\", \"9-3\"], \"y\": [1.0, 1.0, 1.0, 1.0, 1.0, 1.0, 1.0, 1.0], \"type\": \"scatter\", \"uid\": \"ac2a1474-c15e-11e8-8539-a81e84e6c740\"}],\n",
       "            {\"title\": \"\\u53cd\\u9988\\u53ca\\u65f6\\u7387&\\u6570\\u636e\\u53ca\\u65f6\\u4ea4\\u4ed8\\u7387\\u5468\\u8d8b\\u52bf\\u56fe\", \"xaxis\": {\"mirror\": \"all\", \"nticks\": 20, \"showgrid\": true, \"showline\": true, \"title\": \"\\u5468\", \"zeroline\": true}, \"yaxis\": {\"mirror\": \"all\", \"nticks\": 20, \"showgrid\": true, \"showline\": true, \"title\": \"\\u53cd\\u9988\\u53ca\\u65f6\\u7387&\\u6570\\u636e\\u53ca\\u65f6\\u4ea4\\u4ed8\\u7387\", \"zeroline\": true}},\n",
       "            {\"showLink\": true, \"linkText\": \"Export to plot.ly\"}\n",
       "        ).then(function () {return Plotly.addFrames('3507b65e-1c98-42a8-a7c5-8728ac411a63',{});}).then(function(){Plotly.animate('3507b65e-1c98-42a8-a7c5-8728ac411a63');})\n",
       "        });</script>"
      ]
     },
     "metadata": {},
     "output_type": "display_data"
    },
    {
     "data": {
      "application/vnd.plotly.v1+json": {
       "data": [
        {
         "name": "反馈及时率",
         "type": "scatter",
         "uid": "ac34c810-c15e-11e8-8539-a81e84e6c740",
         "x": [
          "8",
          "9"
         ],
         "y": [
          0.9668965517241379,
          0.9738562091503268
         ]
        },
        {
         "name": "数据及时交付率",
         "type": "scatter",
         "uid": "ac34d058-c15e-11e8-8539-a81e84e6c740",
         "x": [
          "8",
          "9"
         ],
         "y": [
          1,
          1
         ]
        }
       ],
       "layout": {
        "title": "反馈及时率&数据及时交付率月趋势图",
        "xaxis": {
         "mirror": "all",
         "nticks": 20,
         "showgrid": true,
         "showline": true,
         "title": "月",
         "zeroline": true
        },
        "yaxis": {
         "mirror": "all",
         "nticks": 20,
         "showgrid": true,
         "showline": true,
         "title": "反馈及时率&数据及时交付率",
         "zeroline": true
        }
       }
      },
      "text/html": [
       "<div id=\"f103d53f-ff98-4c3d-912c-17127eb62925\" style=\"height: 525px; width: 100%;\" class=\"plotly-graph-div\"></div><script type=\"text/javascript\">require([\"plotly\"], function(Plotly) { window.PLOTLYENV=window.PLOTLYENV || {};window.PLOTLYENV.BASE_URL=\"https://plot.ly\";\n",
       "        Plotly.plot(\n",
       "            'f103d53f-ff98-4c3d-912c-17127eb62925',\n",
       "            [{\"name\": \"\\u53cd\\u9988\\u53ca\\u65f6\\u7387\", \"x\": [\"8\", \"9\"], \"y\": [0.9668965517241379, 0.9738562091503268], \"type\": \"scatter\", \"uid\": \"ac34c810-c15e-11e8-8539-a81e84e6c740\"}, {\"name\": \"\\u6570\\u636e\\u53ca\\u65f6\\u4ea4\\u4ed8\\u7387\", \"x\": [\"8\", \"9\"], \"y\": [1.0, 1.0], \"type\": \"scatter\", \"uid\": \"ac34d058-c15e-11e8-8539-a81e84e6c740\"}],\n",
       "            {\"title\": \"\\u53cd\\u9988\\u53ca\\u65f6\\u7387&\\u6570\\u636e\\u53ca\\u65f6\\u4ea4\\u4ed8\\u7387\\u6708\\u8d8b\\u52bf\\u56fe\", \"xaxis\": {\"mirror\": \"all\", \"nticks\": 20, \"showgrid\": true, \"showline\": true, \"title\": \"\\u6708\", \"zeroline\": true}, \"yaxis\": {\"mirror\": \"all\", \"nticks\": 20, \"showgrid\": true, \"showline\": true, \"title\": \"\\u53cd\\u9988\\u53ca\\u65f6\\u7387&\\u6570\\u636e\\u53ca\\u65f6\\u4ea4\\u4ed8\\u7387\", \"zeroline\": true}},\n",
       "            {\"showLink\": true, \"linkText\": \"Export to plot.ly\"}\n",
       "        ).then(function () {return Plotly.addFrames('f103d53f-ff98-4c3d-912c-17127eb62925',{});}).then(function(){Plotly.animate('f103d53f-ff98-4c3d-912c-17127eb62925');})\n",
       "        });</script>"
      ],
      "text/vnd.plotly.v1+html": [
       "<div id=\"f103d53f-ff98-4c3d-912c-17127eb62925\" style=\"height: 525px; width: 100%;\" class=\"plotly-graph-div\"></div><script type=\"text/javascript\">require([\"plotly\"], function(Plotly) { window.PLOTLYENV=window.PLOTLYENV || {};window.PLOTLYENV.BASE_URL=\"https://plot.ly\";\n",
       "        Plotly.plot(\n",
       "            'f103d53f-ff98-4c3d-912c-17127eb62925',\n",
       "            [{\"name\": \"\\u53cd\\u9988\\u53ca\\u65f6\\u7387\", \"x\": [\"8\", \"9\"], \"y\": [0.9668965517241379, 0.9738562091503268], \"type\": \"scatter\", \"uid\": \"ac34c810-c15e-11e8-8539-a81e84e6c740\"}, {\"name\": \"\\u6570\\u636e\\u53ca\\u65f6\\u4ea4\\u4ed8\\u7387\", \"x\": [\"8\", \"9\"], \"y\": [1.0, 1.0], \"type\": \"scatter\", \"uid\": \"ac34d058-c15e-11e8-8539-a81e84e6c740\"}],\n",
       "            {\"title\": \"\\u53cd\\u9988\\u53ca\\u65f6\\u7387&\\u6570\\u636e\\u53ca\\u65f6\\u4ea4\\u4ed8\\u7387\\u6708\\u8d8b\\u52bf\\u56fe\", \"xaxis\": {\"mirror\": \"all\", \"nticks\": 20, \"showgrid\": true, \"showline\": true, \"title\": \"\\u6708\", \"zeroline\": true}, \"yaxis\": {\"mirror\": \"all\", \"nticks\": 20, \"showgrid\": true, \"showline\": true, \"title\": \"\\u53cd\\u9988\\u53ca\\u65f6\\u7387&\\u6570\\u636e\\u53ca\\u65f6\\u4ea4\\u4ed8\\u7387\", \"zeroline\": true}},\n",
       "            {\"showLink\": true, \"linkText\": \"Export to plot.ly\"}\n",
       "        ).then(function () {return Plotly.addFrames('f103d53f-ff98-4c3d-912c-17127eb62925',{});}).then(function(){Plotly.animate('f103d53f-ff98-4c3d-912c-17127eb62925');})\n",
       "        });</script>"
      ]
     },
     "metadata": {},
     "output_type": "display_data"
    }
   ],
   "source": [
    "data_dict = {'反馈及时率':['及时反馈数','下机批次数'], '数据及时交付率':['数据及时交付数','数据交付总数']}\n",
    "myModule.plot( all_dict, data_dict, '人员' ,  'line' , all='all')"
   ]
  },
  {
   "cell_type": "markdown",
   "metadata": {},
   "source": [
    "#### 24h拆分过滤率和48h拆分过滤率"
   ]
  },
  {
   "cell_type": "code",
   "execution_count": 36,
   "metadata": {},
   "outputs": [
    {
     "data": {
      "application/vnd.plotly.v1+json": {
       "data": [
        {
         "name": "24h拆分过滤率",
         "type": "scatter",
         "uid": "ac6d4b5e-c15e-11e8-8539-a81e84e6c740",
         "x": [
          "8-1",
          "8-2",
          "8-3",
          "8-4",
          "8-5",
          "9-1",
          "9-2",
          "9-3"
         ],
         "y": [
          0.6271186440677966,
          0.5359116022099447,
          0.6787878787878788,
          0.9192546583850931,
          0.71,
          0.7286432160804021,
          0.782258064516129,
          0.7426470588235294
         ]
        },
        {
         "name": "48h拆分过滤率",
         "type": "scatter",
         "uid": "ac6d50d6-c15e-11e8-8539-a81e84e6c740",
         "x": [
          "8-1",
          "8-2",
          "8-3",
          "8-4",
          "8-5",
          "9-1",
          "9-2",
          "9-3"
         ],
         "y": [
          0.923728813559322,
          0.8121546961325967,
          0.9757575757575757,
          0.9751552795031055,
          0.79,
          0.8492462311557789,
          0.9516129032258065,
          0.7941176470588235
         ]
        }
       ],
       "layout": {
        "title": "24h拆分过滤率&48h拆分过滤率周趋势图",
        "xaxis": {
         "mirror": "all",
         "nticks": 20,
         "showgrid": true,
         "showline": true,
         "title": "周",
         "zeroline": true
        },
        "yaxis": {
         "mirror": "all",
         "nticks": 20,
         "showgrid": true,
         "showline": true,
         "title": "24h拆分过滤率&48h拆分过滤率",
         "zeroline": true
        }
       }
      },
      "text/html": [
       "<div id=\"10413b07-40c3-4884-9be0-64efd2810aae\" style=\"height: 525px; width: 100%;\" class=\"plotly-graph-div\"></div><script type=\"text/javascript\">require([\"plotly\"], function(Plotly) { window.PLOTLYENV=window.PLOTLYENV || {};window.PLOTLYENV.BASE_URL=\"https://plot.ly\";\n",
       "        Plotly.plot(\n",
       "            '10413b07-40c3-4884-9be0-64efd2810aae',\n",
       "            [{\"name\": \"24h\\u62c6\\u5206\\u8fc7\\u6ee4\\u7387\", \"x\": [\"8-1\", \"8-2\", \"8-3\", \"8-4\", \"8-5\", \"9-1\", \"9-2\", \"9-3\"], \"y\": [0.6271186440677966, 0.5359116022099447, 0.6787878787878788, 0.9192546583850931, 0.71, 0.7286432160804021, 0.782258064516129, 0.7426470588235294], \"type\": \"scatter\", \"uid\": \"ac6d4b5e-c15e-11e8-8539-a81e84e6c740\"}, {\"name\": \"48h\\u62c6\\u5206\\u8fc7\\u6ee4\\u7387\", \"x\": [\"8-1\", \"8-2\", \"8-3\", \"8-4\", \"8-5\", \"9-1\", \"9-2\", \"9-3\"], \"y\": [0.923728813559322, 0.8121546961325967, 0.9757575757575757, 0.9751552795031055, 0.79, 0.8492462311557789, 0.9516129032258065, 0.7941176470588235], \"type\": \"scatter\", \"uid\": \"ac6d50d6-c15e-11e8-8539-a81e84e6c740\"}],\n",
       "            {\"title\": \"24h\\u62c6\\u5206\\u8fc7\\u6ee4\\u7387&48h\\u62c6\\u5206\\u8fc7\\u6ee4\\u7387\\u5468\\u8d8b\\u52bf\\u56fe\", \"xaxis\": {\"mirror\": \"all\", \"nticks\": 20, \"showgrid\": true, \"showline\": true, \"title\": \"\\u5468\", \"zeroline\": true}, \"yaxis\": {\"mirror\": \"all\", \"nticks\": 20, \"showgrid\": true, \"showline\": true, \"title\": \"24h\\u62c6\\u5206\\u8fc7\\u6ee4\\u7387&48h\\u62c6\\u5206\\u8fc7\\u6ee4\\u7387\", \"zeroline\": true}},\n",
       "            {\"showLink\": true, \"linkText\": \"Export to plot.ly\"}\n",
       "        ).then(function () {return Plotly.addFrames('10413b07-40c3-4884-9be0-64efd2810aae',{});}).then(function(){Plotly.animate('10413b07-40c3-4884-9be0-64efd2810aae');})\n",
       "        });</script>"
      ],
      "text/vnd.plotly.v1+html": [
       "<div id=\"10413b07-40c3-4884-9be0-64efd2810aae\" style=\"height: 525px; width: 100%;\" class=\"plotly-graph-div\"></div><script type=\"text/javascript\">require([\"plotly\"], function(Plotly) { window.PLOTLYENV=window.PLOTLYENV || {};window.PLOTLYENV.BASE_URL=\"https://plot.ly\";\n",
       "        Plotly.plot(\n",
       "            '10413b07-40c3-4884-9be0-64efd2810aae',\n",
       "            [{\"name\": \"24h\\u62c6\\u5206\\u8fc7\\u6ee4\\u7387\", \"x\": [\"8-1\", \"8-2\", \"8-3\", \"8-4\", \"8-5\", \"9-1\", \"9-2\", \"9-3\"], \"y\": [0.6271186440677966, 0.5359116022099447, 0.6787878787878788, 0.9192546583850931, 0.71, 0.7286432160804021, 0.782258064516129, 0.7426470588235294], \"type\": \"scatter\", \"uid\": \"ac6d4b5e-c15e-11e8-8539-a81e84e6c740\"}, {\"name\": \"48h\\u62c6\\u5206\\u8fc7\\u6ee4\\u7387\", \"x\": [\"8-1\", \"8-2\", \"8-3\", \"8-4\", \"8-5\", \"9-1\", \"9-2\", \"9-3\"], \"y\": [0.923728813559322, 0.8121546961325967, 0.9757575757575757, 0.9751552795031055, 0.79, 0.8492462311557789, 0.9516129032258065, 0.7941176470588235], \"type\": \"scatter\", \"uid\": \"ac6d50d6-c15e-11e8-8539-a81e84e6c740\"}],\n",
       "            {\"title\": \"24h\\u62c6\\u5206\\u8fc7\\u6ee4\\u7387&48h\\u62c6\\u5206\\u8fc7\\u6ee4\\u7387\\u5468\\u8d8b\\u52bf\\u56fe\", \"xaxis\": {\"mirror\": \"all\", \"nticks\": 20, \"showgrid\": true, \"showline\": true, \"title\": \"\\u5468\", \"zeroline\": true}, \"yaxis\": {\"mirror\": \"all\", \"nticks\": 20, \"showgrid\": true, \"showline\": true, \"title\": \"24h\\u62c6\\u5206\\u8fc7\\u6ee4\\u7387&48h\\u62c6\\u5206\\u8fc7\\u6ee4\\u7387\", \"zeroline\": true}},\n",
       "            {\"showLink\": true, \"linkText\": \"Export to plot.ly\"}\n",
       "        ).then(function () {return Plotly.addFrames('10413b07-40c3-4884-9be0-64efd2810aae',{});}).then(function(){Plotly.animate('10413b07-40c3-4884-9be0-64efd2810aae');})\n",
       "        });</script>"
      ]
     },
     "metadata": {},
     "output_type": "display_data"
    },
    {
     "data": {
      "application/vnd.plotly.v1+json": {
       "data": [
        {
         "name": "24h拆分过滤率",
         "type": "scatter",
         "uid": "ac782510-c15e-11e8-8539-a81e84e6c740",
         "x": [
          "8",
          "9"
         ],
         "y": [
          0.6924137931034483,
          0.7472766884531591
         ]
        },
        {
         "name": "48h拆分过滤率",
         "type": "scatter",
         "uid": "ac782844-c15e-11e8-8539-a81e84e6c740",
         "x": [
          "8",
          "9"
         ],
         "y": [
          0.9006896551724138,
          0.8605664488017429
         ]
        }
       ],
       "layout": {
        "title": "24h拆分过滤率&48h拆分过滤率月趋势图",
        "xaxis": {
         "mirror": "all",
         "nticks": 20,
         "showgrid": true,
         "showline": true,
         "title": "月",
         "zeroline": true
        },
        "yaxis": {
         "mirror": "all",
         "nticks": 20,
         "showgrid": true,
         "showline": true,
         "title": "24h拆分过滤率&48h拆分过滤率",
         "zeroline": true
        }
       }
      },
      "text/html": [
       "<div id=\"5d0da2c0-7b9c-4ba9-9501-cdc061d8af4a\" style=\"height: 525px; width: 100%;\" class=\"plotly-graph-div\"></div><script type=\"text/javascript\">require([\"plotly\"], function(Plotly) { window.PLOTLYENV=window.PLOTLYENV || {};window.PLOTLYENV.BASE_URL=\"https://plot.ly\";\n",
       "        Plotly.plot(\n",
       "            '5d0da2c0-7b9c-4ba9-9501-cdc061d8af4a',\n",
       "            [{\"name\": \"24h\\u62c6\\u5206\\u8fc7\\u6ee4\\u7387\", \"x\": [\"8\", \"9\"], \"y\": [0.6924137931034483, 0.7472766884531591], \"type\": \"scatter\", \"uid\": \"ac782510-c15e-11e8-8539-a81e84e6c740\"}, {\"name\": \"48h\\u62c6\\u5206\\u8fc7\\u6ee4\\u7387\", \"x\": [\"8\", \"9\"], \"y\": [0.9006896551724138, 0.8605664488017429], \"type\": \"scatter\", \"uid\": \"ac782844-c15e-11e8-8539-a81e84e6c740\"}],\n",
       "            {\"title\": \"24h\\u62c6\\u5206\\u8fc7\\u6ee4\\u7387&48h\\u62c6\\u5206\\u8fc7\\u6ee4\\u7387\\u6708\\u8d8b\\u52bf\\u56fe\", \"xaxis\": {\"mirror\": \"all\", \"nticks\": 20, \"showgrid\": true, \"showline\": true, \"title\": \"\\u6708\", \"zeroline\": true}, \"yaxis\": {\"mirror\": \"all\", \"nticks\": 20, \"showgrid\": true, \"showline\": true, \"title\": \"24h\\u62c6\\u5206\\u8fc7\\u6ee4\\u7387&48h\\u62c6\\u5206\\u8fc7\\u6ee4\\u7387\", \"zeroline\": true}},\n",
       "            {\"showLink\": true, \"linkText\": \"Export to plot.ly\"}\n",
       "        ).then(function () {return Plotly.addFrames('5d0da2c0-7b9c-4ba9-9501-cdc061d8af4a',{});}).then(function(){Plotly.animate('5d0da2c0-7b9c-4ba9-9501-cdc061d8af4a');})\n",
       "        });</script>"
      ],
      "text/vnd.plotly.v1+html": [
       "<div id=\"5d0da2c0-7b9c-4ba9-9501-cdc061d8af4a\" style=\"height: 525px; width: 100%;\" class=\"plotly-graph-div\"></div><script type=\"text/javascript\">require([\"plotly\"], function(Plotly) { window.PLOTLYENV=window.PLOTLYENV || {};window.PLOTLYENV.BASE_URL=\"https://plot.ly\";\n",
       "        Plotly.plot(\n",
       "            '5d0da2c0-7b9c-4ba9-9501-cdc061d8af4a',\n",
       "            [{\"name\": \"24h\\u62c6\\u5206\\u8fc7\\u6ee4\\u7387\", \"x\": [\"8\", \"9\"], \"y\": [0.6924137931034483, 0.7472766884531591], \"type\": \"scatter\", \"uid\": \"ac782510-c15e-11e8-8539-a81e84e6c740\"}, {\"name\": \"48h\\u62c6\\u5206\\u8fc7\\u6ee4\\u7387\", \"x\": [\"8\", \"9\"], \"y\": [0.9006896551724138, 0.8605664488017429], \"type\": \"scatter\", \"uid\": \"ac782844-c15e-11e8-8539-a81e84e6c740\"}],\n",
       "            {\"title\": \"24h\\u62c6\\u5206\\u8fc7\\u6ee4\\u7387&48h\\u62c6\\u5206\\u8fc7\\u6ee4\\u7387\\u6708\\u8d8b\\u52bf\\u56fe\", \"xaxis\": {\"mirror\": \"all\", \"nticks\": 20, \"showgrid\": true, \"showline\": true, \"title\": \"\\u6708\", \"zeroline\": true}, \"yaxis\": {\"mirror\": \"all\", \"nticks\": 20, \"showgrid\": true, \"showline\": true, \"title\": \"24h\\u62c6\\u5206\\u8fc7\\u6ee4\\u7387&48h\\u62c6\\u5206\\u8fc7\\u6ee4\\u7387\", \"zeroline\": true}},\n",
       "            {\"showLink\": true, \"linkText\": \"Export to plot.ly\"}\n",
       "        ).then(function () {return Plotly.addFrames('5d0da2c0-7b9c-4ba9-9501-cdc061d8af4a',{});}).then(function(){Plotly.animate('5d0da2c0-7b9c-4ba9-9501-cdc061d8af4a');})\n",
       "        });</script>"
      ]
     },
     "metadata": {},
     "output_type": "display_data"
    }
   ],
   "source": [
    "data_dict = {'24h拆分过滤率':['24h完成批次数', '下机批次数'], '48h拆分过滤率':['48h完成批次数', '下机批次数']}\n",
    "myModule.plot( all_dict, data_dict, '人员' ,  'line' , all='all')"
   ]
  },
  {
   "cell_type": "markdown",
   "metadata": {},
   "source": [
    "#### 平均反馈时长"
   ]
  },
  {
   "cell_type": "code",
   "execution_count": 37,
   "metadata": {},
   "outputs": [
    {
     "data": {
      "application/vnd.plotly.v1+json": {
       "data": [
        {
         "name": "平均反馈时长",
         "type": "scatter",
         "uid": "aca5490a-c15e-11e8-8539-a81e84e6c740",
         "x": [
          "8-1",
          "8-2",
          "8-3",
          "8-4",
          "8-5",
          "9-1",
          "9-2",
          "9-3"
         ],
         "y": [
          6.4072881355932205,
          4.446298342541437,
          5.337454545454546,
          4.985962732919255,
          6.498000000000001,
          9.664371859296482,
          7.4699193548387095,
          3.604632352941177
         ]
        }
       ],
       "layout": {
        "title": "平均反馈时长周趋势图",
        "xaxis": {
         "mirror": "all",
         "nticks": 20,
         "showgrid": true,
         "showline": true,
         "title": "周",
         "zeroline": true
        },
        "yaxis": {
         "mirror": "all",
         "nticks": 20,
         "showgrid": true,
         "showline": true,
         "title": "平均反馈时长",
         "zeroline": true
        }
       }
      },
      "text/html": [
       "<div id=\"c0782a98-a554-4273-af0f-58d4623f38e0\" style=\"height: 525px; width: 100%;\" class=\"plotly-graph-div\"></div><script type=\"text/javascript\">require([\"plotly\"], function(Plotly) { window.PLOTLYENV=window.PLOTLYENV || {};window.PLOTLYENV.BASE_URL=\"https://plot.ly\";\n",
       "        Plotly.plot(\n",
       "            'c0782a98-a554-4273-af0f-58d4623f38e0',\n",
       "            [{\"name\": \"\\u5e73\\u5747\\u53cd\\u9988\\u65f6\\u957f\", \"x\": [\"8-1\", \"8-2\", \"8-3\", \"8-4\", \"8-5\", \"9-1\", \"9-2\", \"9-3\"], \"y\": [6.4072881355932205, 4.446298342541437, 5.337454545454546, 4.985962732919255, 6.498000000000001, 9.664371859296482, 7.4699193548387095, 3.604632352941177], \"type\": \"scatter\", \"uid\": \"aca5490a-c15e-11e8-8539-a81e84e6c740\"}],\n",
       "            {\"title\": \"\\u5e73\\u5747\\u53cd\\u9988\\u65f6\\u957f\\u5468\\u8d8b\\u52bf\\u56fe\", \"xaxis\": {\"mirror\": \"all\", \"nticks\": 20, \"showgrid\": true, \"showline\": true, \"title\": \"\\u5468\", \"zeroline\": true}, \"yaxis\": {\"mirror\": \"all\", \"nticks\": 20, \"showgrid\": true, \"showline\": true, \"title\": \"\\u5e73\\u5747\\u53cd\\u9988\\u65f6\\u957f\", \"zeroline\": true}},\n",
       "            {\"showLink\": true, \"linkText\": \"Export to plot.ly\"}\n",
       "        ).then(function () {return Plotly.addFrames('c0782a98-a554-4273-af0f-58d4623f38e0',{});}).then(function(){Plotly.animate('c0782a98-a554-4273-af0f-58d4623f38e0');})\n",
       "        });</script>"
      ],
      "text/vnd.plotly.v1+html": [
       "<div id=\"c0782a98-a554-4273-af0f-58d4623f38e0\" style=\"height: 525px; width: 100%;\" class=\"plotly-graph-div\"></div><script type=\"text/javascript\">require([\"plotly\"], function(Plotly) { window.PLOTLYENV=window.PLOTLYENV || {};window.PLOTLYENV.BASE_URL=\"https://plot.ly\";\n",
       "        Plotly.plot(\n",
       "            'c0782a98-a554-4273-af0f-58d4623f38e0',\n",
       "            [{\"name\": \"\\u5e73\\u5747\\u53cd\\u9988\\u65f6\\u957f\", \"x\": [\"8-1\", \"8-2\", \"8-3\", \"8-4\", \"8-5\", \"9-1\", \"9-2\", \"9-3\"], \"y\": [6.4072881355932205, 4.446298342541437, 5.337454545454546, 4.985962732919255, 6.498000000000001, 9.664371859296482, 7.4699193548387095, 3.604632352941177], \"type\": \"scatter\", \"uid\": \"aca5490a-c15e-11e8-8539-a81e84e6c740\"}],\n",
       "            {\"title\": \"\\u5e73\\u5747\\u53cd\\u9988\\u65f6\\u957f\\u5468\\u8d8b\\u52bf\\u56fe\", \"xaxis\": {\"mirror\": \"all\", \"nticks\": 20, \"showgrid\": true, \"showline\": true, \"title\": \"\\u5468\", \"zeroline\": true}, \"yaxis\": {\"mirror\": \"all\", \"nticks\": 20, \"showgrid\": true, \"showline\": true, \"title\": \"\\u5e73\\u5747\\u53cd\\u9988\\u65f6\\u957f\", \"zeroline\": true}},\n",
       "            {\"showLink\": true, \"linkText\": \"Export to plot.ly\"}\n",
       "        ).then(function () {return Plotly.addFrames('c0782a98-a554-4273-af0f-58d4623f38e0',{});}).then(function(){Plotly.animate('c0782a98-a554-4273-af0f-58d4623f38e0');})\n",
       "        });</script>"
      ]
     },
     "metadata": {},
     "output_type": "display_data"
    },
    {
     "data": {
      "application/vnd.plotly.v1+json": {
       "data": [
        {
         "name": "平均反馈时长",
         "type": "scatter",
         "uid": "acaf207e-c15e-11e8-8539-a81e84e6c740",
         "x": [
          "8",
          "9"
         ],
         "y": [
          5.371117241379311,
          7.276056644880175
         ]
        }
       ],
       "layout": {
        "title": "平均反馈时长月趋势图",
        "xaxis": {
         "mirror": "all",
         "nticks": 20,
         "showgrid": true,
         "showline": true,
         "title": "月",
         "zeroline": true
        },
        "yaxis": {
         "mirror": "all",
         "nticks": 20,
         "showgrid": true,
         "showline": true,
         "title": "平均反馈时长",
         "zeroline": true
        }
       }
      },
      "text/html": [
       "<div id=\"76bd0b4a-2777-4fc4-a013-6941bc15c292\" style=\"height: 525px; width: 100%;\" class=\"plotly-graph-div\"></div><script type=\"text/javascript\">require([\"plotly\"], function(Plotly) { window.PLOTLYENV=window.PLOTLYENV || {};window.PLOTLYENV.BASE_URL=\"https://plot.ly\";\n",
       "        Plotly.plot(\n",
       "            '76bd0b4a-2777-4fc4-a013-6941bc15c292',\n",
       "            [{\"name\": \"\\u5e73\\u5747\\u53cd\\u9988\\u65f6\\u957f\", \"x\": [\"8\", \"9\"], \"y\": [5.371117241379311, 7.276056644880175], \"type\": \"scatter\", \"uid\": \"acaf207e-c15e-11e8-8539-a81e84e6c740\"}],\n",
       "            {\"title\": \"\\u5e73\\u5747\\u53cd\\u9988\\u65f6\\u957f\\u6708\\u8d8b\\u52bf\\u56fe\", \"xaxis\": {\"mirror\": \"all\", \"nticks\": 20, \"showgrid\": true, \"showline\": true, \"title\": \"\\u6708\", \"zeroline\": true}, \"yaxis\": {\"mirror\": \"all\", \"nticks\": 20, \"showgrid\": true, \"showline\": true, \"title\": \"\\u5e73\\u5747\\u53cd\\u9988\\u65f6\\u957f\", \"zeroline\": true}},\n",
       "            {\"showLink\": true, \"linkText\": \"Export to plot.ly\"}\n",
       "        ).then(function () {return Plotly.addFrames('76bd0b4a-2777-4fc4-a013-6941bc15c292',{});}).then(function(){Plotly.animate('76bd0b4a-2777-4fc4-a013-6941bc15c292');})\n",
       "        });</script>"
      ],
      "text/vnd.plotly.v1+html": [
       "<div id=\"76bd0b4a-2777-4fc4-a013-6941bc15c292\" style=\"height: 525px; width: 100%;\" class=\"plotly-graph-div\"></div><script type=\"text/javascript\">require([\"plotly\"], function(Plotly) { window.PLOTLYENV=window.PLOTLYENV || {};window.PLOTLYENV.BASE_URL=\"https://plot.ly\";\n",
       "        Plotly.plot(\n",
       "            '76bd0b4a-2777-4fc4-a013-6941bc15c292',\n",
       "            [{\"name\": \"\\u5e73\\u5747\\u53cd\\u9988\\u65f6\\u957f\", \"x\": [\"8\", \"9\"], \"y\": [5.371117241379311, 7.276056644880175], \"type\": \"scatter\", \"uid\": \"acaf207e-c15e-11e8-8539-a81e84e6c740\"}],\n",
       "            {\"title\": \"\\u5e73\\u5747\\u53cd\\u9988\\u65f6\\u957f\\u6708\\u8d8b\\u52bf\\u56fe\", \"xaxis\": {\"mirror\": \"all\", \"nticks\": 20, \"showgrid\": true, \"showline\": true, \"title\": \"\\u6708\", \"zeroline\": true}, \"yaxis\": {\"mirror\": \"all\", \"nticks\": 20, \"showgrid\": true, \"showline\": true, \"title\": \"\\u5e73\\u5747\\u53cd\\u9988\\u65f6\\u957f\", \"zeroline\": true}},\n",
       "            {\"showLink\": true, \"linkText\": \"Export to plot.ly\"}\n",
       "        ).then(function () {return Plotly.addFrames('76bd0b4a-2777-4fc4-a013-6941bc15c292',{});}).then(function(){Plotly.animate('76bd0b4a-2777-4fc4-a013-6941bc15c292');})\n",
       "        });</script>"
      ]
     },
     "metadata": {},
     "output_type": "display_data"
    }
   ],
   "source": [
    "data_dict = {'平均反馈时长':['反馈总时长','下机批次数']}\n",
    "myModule.plot( all_dict, data_dict, '人员' ,  'line' , all='all')"
   ]
  },
  {
   "cell_type": "markdown",
   "metadata": {},
   "source": [
    "### 异常"
   ]
  },
  {
   "cell_type": "markdown",
   "metadata": {},
   "source": [
    "#### 个性化项目数"
   ]
  },
  {
   "cell_type": "code",
   "execution_count": 38,
   "metadata": {
    "scrolled": false
   },
   "outputs": [
    {
     "data": {
      "application/vnd.plotly.v1+json": {
       "data": [
        {
         "name": "个性化数",
         "type": "bar",
         "uid": "acd6712e-c15e-11e8-8539-a81e84e6c740",
         "x": [
          "8-1",
          "8-2",
          "8-3",
          "8-4",
          "8-5",
          "9-1",
          "9-2",
          "9-3"
         ],
         "y": [
          0,
          0,
          0,
          0,
          0,
          0,
          0,
          1
         ]
        }
       ],
       "layout": {
        "title": "个性化数周趋势图",
        "xaxis": {
         "mirror": "all",
         "nticks": 20,
         "showgrid": true,
         "showline": true,
         "title": "周",
         "zeroline": true
        },
        "yaxis": {
         "mirror": "all",
         "nticks": 20,
         "showgrid": true,
         "showline": true,
         "title": "个性化数",
         "zeroline": true
        }
       }
      },
      "text/html": [
       "<div id=\"63851be5-d91f-47a9-b3a6-ac76b66253e0\" style=\"height: 525px; width: 100%;\" class=\"plotly-graph-div\"></div><script type=\"text/javascript\">require([\"plotly\"], function(Plotly) { window.PLOTLYENV=window.PLOTLYENV || {};window.PLOTLYENV.BASE_URL=\"https://plot.ly\";\n",
       "        Plotly.plot(\n",
       "            '63851be5-d91f-47a9-b3a6-ac76b66253e0',\n",
       "            [{\"name\": \"\\u4e2a\\u6027\\u5316\\u6570\", \"x\": [\"8-1\", \"8-2\", \"8-3\", \"8-4\", \"8-5\", \"9-1\", \"9-2\", \"9-3\"], \"y\": [0.0, 0.0, 0.0, 0.0, 0.0, 0.0, 0.0, 1.0], \"type\": \"bar\", \"uid\": \"acd6712e-c15e-11e8-8539-a81e84e6c740\"}],\n",
       "            {\"title\": \"\\u4e2a\\u6027\\u5316\\u6570\\u5468\\u8d8b\\u52bf\\u56fe\", \"xaxis\": {\"mirror\": \"all\", \"nticks\": 20, \"showgrid\": true, \"showline\": true, \"title\": \"\\u5468\", \"zeroline\": true}, \"yaxis\": {\"mirror\": \"all\", \"nticks\": 20, \"showgrid\": true, \"showline\": true, \"title\": \"\\u4e2a\\u6027\\u5316\\u6570\", \"zeroline\": true}},\n",
       "            {\"showLink\": true, \"linkText\": \"Export to plot.ly\"}\n",
       "        ).then(function () {return Plotly.addFrames('63851be5-d91f-47a9-b3a6-ac76b66253e0',{});}).then(function(){Plotly.animate('63851be5-d91f-47a9-b3a6-ac76b66253e0');})\n",
       "        });</script>"
      ],
      "text/vnd.plotly.v1+html": [
       "<div id=\"63851be5-d91f-47a9-b3a6-ac76b66253e0\" style=\"height: 525px; width: 100%;\" class=\"plotly-graph-div\"></div><script type=\"text/javascript\">require([\"plotly\"], function(Plotly) { window.PLOTLYENV=window.PLOTLYENV || {};window.PLOTLYENV.BASE_URL=\"https://plot.ly\";\n",
       "        Plotly.plot(\n",
       "            '63851be5-d91f-47a9-b3a6-ac76b66253e0',\n",
       "            [{\"name\": \"\\u4e2a\\u6027\\u5316\\u6570\", \"x\": [\"8-1\", \"8-2\", \"8-3\", \"8-4\", \"8-5\", \"9-1\", \"9-2\", \"9-3\"], \"y\": [0.0, 0.0, 0.0, 0.0, 0.0, 0.0, 0.0, 1.0], \"type\": \"bar\", \"uid\": \"acd6712e-c15e-11e8-8539-a81e84e6c740\"}],\n",
       "            {\"title\": \"\\u4e2a\\u6027\\u5316\\u6570\\u5468\\u8d8b\\u52bf\\u56fe\", \"xaxis\": {\"mirror\": \"all\", \"nticks\": 20, \"showgrid\": true, \"showline\": true, \"title\": \"\\u5468\", \"zeroline\": true}, \"yaxis\": {\"mirror\": \"all\", \"nticks\": 20, \"showgrid\": true, \"showline\": true, \"title\": \"\\u4e2a\\u6027\\u5316\\u6570\", \"zeroline\": true}},\n",
       "            {\"showLink\": true, \"linkText\": \"Export to plot.ly\"}\n",
       "        ).then(function () {return Plotly.addFrames('63851be5-d91f-47a9-b3a6-ac76b66253e0',{});}).then(function(){Plotly.animate('63851be5-d91f-47a9-b3a6-ac76b66253e0');})\n",
       "        });</script>"
      ]
     },
     "metadata": {},
     "output_type": "display_data"
    },
    {
     "data": {
      "application/vnd.plotly.v1+json": {
       "data": [
        {
         "name": "个性化数",
         "type": "bar",
         "uid": "acdeed18-c15e-11e8-8539-a81e84e6c740",
         "x": [
          "8",
          "9"
         ],
         "y": [
          0,
          1
         ]
        }
       ],
       "layout": {
        "title": "个性化数月趋势图",
        "xaxis": {
         "mirror": "all",
         "nticks": 20,
         "showgrid": true,
         "showline": true,
         "title": "月",
         "zeroline": true
        },
        "yaxis": {
         "mirror": "all",
         "nticks": 20,
         "showgrid": true,
         "showline": true,
         "title": "个性化数",
         "zeroline": true
        }
       }
      },
      "text/html": [
       "<div id=\"224cad88-d6ac-403d-9fd3-5022b1aba372\" style=\"height: 525px; width: 100%;\" class=\"plotly-graph-div\"></div><script type=\"text/javascript\">require([\"plotly\"], function(Plotly) { window.PLOTLYENV=window.PLOTLYENV || {};window.PLOTLYENV.BASE_URL=\"https://plot.ly\";\n",
       "        Plotly.plot(\n",
       "            '224cad88-d6ac-403d-9fd3-5022b1aba372',\n",
       "            [{\"name\": \"\\u4e2a\\u6027\\u5316\\u6570\", \"x\": [\"8\", \"9\"], \"y\": [0.0, 1.0], \"type\": \"bar\", \"uid\": \"acdeed18-c15e-11e8-8539-a81e84e6c740\"}],\n",
       "            {\"title\": \"\\u4e2a\\u6027\\u5316\\u6570\\u6708\\u8d8b\\u52bf\\u56fe\", \"xaxis\": {\"mirror\": \"all\", \"nticks\": 20, \"showgrid\": true, \"showline\": true, \"title\": \"\\u6708\", \"zeroline\": true}, \"yaxis\": {\"mirror\": \"all\", \"nticks\": 20, \"showgrid\": true, \"showline\": true, \"title\": \"\\u4e2a\\u6027\\u5316\\u6570\", \"zeroline\": true}},\n",
       "            {\"showLink\": true, \"linkText\": \"Export to plot.ly\"}\n",
       "        ).then(function () {return Plotly.addFrames('224cad88-d6ac-403d-9fd3-5022b1aba372',{});}).then(function(){Plotly.animate('224cad88-d6ac-403d-9fd3-5022b1aba372');})\n",
       "        });</script>"
      ],
      "text/vnd.plotly.v1+html": [
       "<div id=\"224cad88-d6ac-403d-9fd3-5022b1aba372\" style=\"height: 525px; width: 100%;\" class=\"plotly-graph-div\"></div><script type=\"text/javascript\">require([\"plotly\"], function(Plotly) { window.PLOTLYENV=window.PLOTLYENV || {};window.PLOTLYENV.BASE_URL=\"https://plot.ly\";\n",
       "        Plotly.plot(\n",
       "            '224cad88-d6ac-403d-9fd3-5022b1aba372',\n",
       "            [{\"name\": \"\\u4e2a\\u6027\\u5316\\u6570\", \"x\": [\"8\", \"9\"], \"y\": [0.0, 1.0], \"type\": \"bar\", \"uid\": \"acdeed18-c15e-11e8-8539-a81e84e6c740\"}],\n",
       "            {\"title\": \"\\u4e2a\\u6027\\u5316\\u6570\\u6708\\u8d8b\\u52bf\\u56fe\", \"xaxis\": {\"mirror\": \"all\", \"nticks\": 20, \"showgrid\": true, \"showline\": true, \"title\": \"\\u6708\", \"zeroline\": true}, \"yaxis\": {\"mirror\": \"all\", \"nticks\": 20, \"showgrid\": true, \"showline\": true, \"title\": \"\\u4e2a\\u6027\\u5316\\u6570\", \"zeroline\": true}},\n",
       "            {\"showLink\": true, \"linkText\": \"Export to plot.ly\"}\n",
       "        ).then(function () {return Plotly.addFrames('224cad88-d6ac-403d-9fd3-5022b1aba372',{});}).then(function(){Plotly.animate('224cad88-d6ac-403d-9fd3-5022b1aba372');})\n",
       "        });</script>"
      ]
     },
     "metadata": {},
     "output_type": "display_data"
    }
   ],
   "source": [
    "data_dict = {'个性化数':['个性化数']}\n",
    "myModule.plot( all_dict, data_dict, '人员' ,  'bar' , all='all')"
   ]
  },
  {
   "cell_type": "markdown",
   "metadata": {},
   "source": [
    "#### lims异常数和下单错误数"
   ]
  },
  {
   "cell_type": "code",
   "execution_count": 39,
   "metadata": {},
   "outputs": [
    {
     "data": {
      "application/vnd.plotly.v1+json": {
       "data": [
        {
         "name": "lims异常数",
         "type": "scatter",
         "uid": "ad11339a-c15e-11e8-8539-a81e84e6c740",
         "x": [
          "8-1",
          "8-2",
          "8-3",
          "8-4",
          "8-5",
          "9-1",
          "9-2",
          "9-3"
         ],
         "y": [
          2,
          2,
          2,
          1,
          2,
          1,
          0,
          0
         ]
        },
        {
         "name": "下单错误数",
         "type": "scatter",
         "uid": "ad1136b0-c15e-11e8-8539-a81e84e6c740",
         "x": [
          "8-1",
          "8-2",
          "8-3",
          "8-4",
          "8-5",
          "9-1",
          "9-2",
          "9-3"
         ],
         "y": [
          1,
          0,
          6,
          1,
          1,
          1,
          1,
          0
         ]
        }
       ],
       "layout": {
        "title": "lims异常数&下单错误数周趋势图",
        "xaxis": {
         "mirror": "all",
         "nticks": 20,
         "showgrid": true,
         "showline": true,
         "title": "周",
         "zeroline": true
        },
        "yaxis": {
         "mirror": "all",
         "nticks": 20,
         "showgrid": true,
         "showline": true,
         "title": "lims异常数&下单错误数",
         "zeroline": true
        }
       }
      },
      "text/html": [
       "<div id=\"692efa17-bc32-4eab-bc8b-308b968e5669\" style=\"height: 525px; width: 100%;\" class=\"plotly-graph-div\"></div><script type=\"text/javascript\">require([\"plotly\"], function(Plotly) { window.PLOTLYENV=window.PLOTLYENV || {};window.PLOTLYENV.BASE_URL=\"https://plot.ly\";\n",
       "        Plotly.plot(\n",
       "            '692efa17-bc32-4eab-bc8b-308b968e5669',\n",
       "            [{\"name\": \"lims\\u5f02\\u5e38\\u6570\", \"x\": [\"8-1\", \"8-2\", \"8-3\", \"8-4\", \"8-5\", \"9-1\", \"9-2\", \"9-3\"], \"y\": [2.0, 2.0, 2.0, 1.0, 2.0, 1.0, 0.0, 0.0], \"type\": \"scatter\", \"uid\": \"ad11339a-c15e-11e8-8539-a81e84e6c740\"}, {\"name\": \"\\u4e0b\\u5355\\u9519\\u8bef\\u6570\", \"x\": [\"8-1\", \"8-2\", \"8-3\", \"8-4\", \"8-5\", \"9-1\", \"9-2\", \"9-3\"], \"y\": [1.0, 0.0, 6.0, 1.0, 1.0, 1.0, 1.0, 0.0], \"type\": \"scatter\", \"uid\": \"ad1136b0-c15e-11e8-8539-a81e84e6c740\"}],\n",
       "            {\"title\": \"lims\\u5f02\\u5e38\\u6570&\\u4e0b\\u5355\\u9519\\u8bef\\u6570\\u5468\\u8d8b\\u52bf\\u56fe\", \"xaxis\": {\"mirror\": \"all\", \"nticks\": 20, \"showgrid\": true, \"showline\": true, \"title\": \"\\u5468\", \"zeroline\": true}, \"yaxis\": {\"mirror\": \"all\", \"nticks\": 20, \"showgrid\": true, \"showline\": true, \"title\": \"lims\\u5f02\\u5e38\\u6570&\\u4e0b\\u5355\\u9519\\u8bef\\u6570\", \"zeroline\": true}},\n",
       "            {\"showLink\": true, \"linkText\": \"Export to plot.ly\"}\n",
       "        ).then(function () {return Plotly.addFrames('692efa17-bc32-4eab-bc8b-308b968e5669',{});}).then(function(){Plotly.animate('692efa17-bc32-4eab-bc8b-308b968e5669');})\n",
       "        });</script>"
      ],
      "text/vnd.plotly.v1+html": [
       "<div id=\"692efa17-bc32-4eab-bc8b-308b968e5669\" style=\"height: 525px; width: 100%;\" class=\"plotly-graph-div\"></div><script type=\"text/javascript\">require([\"plotly\"], function(Plotly) { window.PLOTLYENV=window.PLOTLYENV || {};window.PLOTLYENV.BASE_URL=\"https://plot.ly\";\n",
       "        Plotly.plot(\n",
       "            '692efa17-bc32-4eab-bc8b-308b968e5669',\n",
       "            [{\"name\": \"lims\\u5f02\\u5e38\\u6570\", \"x\": [\"8-1\", \"8-2\", \"8-3\", \"8-4\", \"8-5\", \"9-1\", \"9-2\", \"9-3\"], \"y\": [2.0, 2.0, 2.0, 1.0, 2.0, 1.0, 0.0, 0.0], \"type\": \"scatter\", \"uid\": \"ad11339a-c15e-11e8-8539-a81e84e6c740\"}, {\"name\": \"\\u4e0b\\u5355\\u9519\\u8bef\\u6570\", \"x\": [\"8-1\", \"8-2\", \"8-3\", \"8-4\", \"8-5\", \"9-1\", \"9-2\", \"9-3\"], \"y\": [1.0, 0.0, 6.0, 1.0, 1.0, 1.0, 1.0, 0.0], \"type\": \"scatter\", \"uid\": \"ad1136b0-c15e-11e8-8539-a81e84e6c740\"}],\n",
       "            {\"title\": \"lims\\u5f02\\u5e38\\u6570&\\u4e0b\\u5355\\u9519\\u8bef\\u6570\\u5468\\u8d8b\\u52bf\\u56fe\", \"xaxis\": {\"mirror\": \"all\", \"nticks\": 20, \"showgrid\": true, \"showline\": true, \"title\": \"\\u5468\", \"zeroline\": true}, \"yaxis\": {\"mirror\": \"all\", \"nticks\": 20, \"showgrid\": true, \"showline\": true, \"title\": \"lims\\u5f02\\u5e38\\u6570&\\u4e0b\\u5355\\u9519\\u8bef\\u6570\", \"zeroline\": true}},\n",
       "            {\"showLink\": true, \"linkText\": \"Export to plot.ly\"}\n",
       "        ).then(function () {return Plotly.addFrames('692efa17-bc32-4eab-bc8b-308b968e5669',{});}).then(function(){Plotly.animate('692efa17-bc32-4eab-bc8b-308b968e5669');})\n",
       "        });</script>"
      ]
     },
     "metadata": {},
     "output_type": "display_data"
    },
    {
     "data": {
      "application/vnd.plotly.v1+json": {
       "data": [
        {
         "name": "lims异常数",
         "type": "scatter",
         "uid": "ad205fd2-c15e-11e8-8539-a81e84e6c740",
         "x": [
          "8",
          "9"
         ],
         "y": [
          9,
          1
         ]
        },
        {
         "name": "下单错误数",
         "type": "scatter",
         "uid": "ad20661c-c15e-11e8-8539-a81e84e6c740",
         "x": [
          "8",
          "9"
         ],
         "y": [
          9,
          2
         ]
        }
       ],
       "layout": {
        "title": "lims异常数&下单错误数月趋势图",
        "xaxis": {
         "mirror": "all",
         "nticks": 20,
         "showgrid": true,
         "showline": true,
         "title": "月",
         "zeroline": true
        },
        "yaxis": {
         "mirror": "all",
         "nticks": 20,
         "showgrid": true,
         "showline": true,
         "title": "lims异常数&下单错误数",
         "zeroline": true
        }
       }
      },
      "text/html": [
       "<div id=\"6e6d633d-6675-4c6a-8da5-abd97fe6d9eb\" style=\"height: 525px; width: 100%;\" class=\"plotly-graph-div\"></div><script type=\"text/javascript\">require([\"plotly\"], function(Plotly) { window.PLOTLYENV=window.PLOTLYENV || {};window.PLOTLYENV.BASE_URL=\"https://plot.ly\";\n",
       "        Plotly.plot(\n",
       "            '6e6d633d-6675-4c6a-8da5-abd97fe6d9eb',\n",
       "            [{\"name\": \"lims\\u5f02\\u5e38\\u6570\", \"x\": [\"8\", \"9\"], \"y\": [9.0, 1.0], \"type\": \"scatter\", \"uid\": \"ad205fd2-c15e-11e8-8539-a81e84e6c740\"}, {\"name\": \"\\u4e0b\\u5355\\u9519\\u8bef\\u6570\", \"x\": [\"8\", \"9\"], \"y\": [9.0, 2.0], \"type\": \"scatter\", \"uid\": \"ad20661c-c15e-11e8-8539-a81e84e6c740\"}],\n",
       "            {\"title\": \"lims\\u5f02\\u5e38\\u6570&\\u4e0b\\u5355\\u9519\\u8bef\\u6570\\u6708\\u8d8b\\u52bf\\u56fe\", \"xaxis\": {\"mirror\": \"all\", \"nticks\": 20, \"showgrid\": true, \"showline\": true, \"title\": \"\\u6708\", \"zeroline\": true}, \"yaxis\": {\"mirror\": \"all\", \"nticks\": 20, \"showgrid\": true, \"showline\": true, \"title\": \"lims\\u5f02\\u5e38\\u6570&\\u4e0b\\u5355\\u9519\\u8bef\\u6570\", \"zeroline\": true}},\n",
       "            {\"showLink\": true, \"linkText\": \"Export to plot.ly\"}\n",
       "        ).then(function () {return Plotly.addFrames('6e6d633d-6675-4c6a-8da5-abd97fe6d9eb',{});}).then(function(){Plotly.animate('6e6d633d-6675-4c6a-8da5-abd97fe6d9eb');})\n",
       "        });</script>"
      ],
      "text/vnd.plotly.v1+html": [
       "<div id=\"6e6d633d-6675-4c6a-8da5-abd97fe6d9eb\" style=\"height: 525px; width: 100%;\" class=\"plotly-graph-div\"></div><script type=\"text/javascript\">require([\"plotly\"], function(Plotly) { window.PLOTLYENV=window.PLOTLYENV || {};window.PLOTLYENV.BASE_URL=\"https://plot.ly\";\n",
       "        Plotly.plot(\n",
       "            '6e6d633d-6675-4c6a-8da5-abd97fe6d9eb',\n",
       "            [{\"name\": \"lims\\u5f02\\u5e38\\u6570\", \"x\": [\"8\", \"9\"], \"y\": [9.0, 1.0], \"type\": \"scatter\", \"uid\": \"ad205fd2-c15e-11e8-8539-a81e84e6c740\"}, {\"name\": \"\\u4e0b\\u5355\\u9519\\u8bef\\u6570\", \"x\": [\"8\", \"9\"], \"y\": [9.0, 2.0], \"type\": \"scatter\", \"uid\": \"ad20661c-c15e-11e8-8539-a81e84e6c740\"}],\n",
       "            {\"title\": \"lims\\u5f02\\u5e38\\u6570&\\u4e0b\\u5355\\u9519\\u8bef\\u6570\\u6708\\u8d8b\\u52bf\\u56fe\", \"xaxis\": {\"mirror\": \"all\", \"nticks\": 20, \"showgrid\": true, \"showline\": true, \"title\": \"\\u6708\", \"zeroline\": true}, \"yaxis\": {\"mirror\": \"all\", \"nticks\": 20, \"showgrid\": true, \"showline\": true, \"title\": \"lims\\u5f02\\u5e38\\u6570&\\u4e0b\\u5355\\u9519\\u8bef\\u6570\", \"zeroline\": true}},\n",
       "            {\"showLink\": true, \"linkText\": \"Export to plot.ly\"}\n",
       "        ).then(function () {return Plotly.addFrames('6e6d633d-6675-4c6a-8da5-abd97fe6d9eb',{});}).then(function(){Plotly.animate('6e6d633d-6675-4c6a-8da5-abd97fe6d9eb');})\n",
       "        });</script>"
      ]
     },
     "metadata": {},
     "output_type": "display_data"
    }
   ],
   "source": [
    "data_dict = {'lims异常数':['lims异常数'], '下单错误数':['下单错误数']}\n",
    "myModule.plot( all_dict, data_dict, '人员' ,  'line' , all='all')"
   ]
  },
  {
   "cell_type": "markdown",
   "metadata": {},
   "source": [
    "#### 过滤流程异常数"
   ]
  },
  {
   "cell_type": "code",
   "execution_count": 40,
   "metadata": {},
   "outputs": [
    {
     "data": {
      "application/vnd.plotly.v1+json": {
       "data": [
        {
         "name": "过滤流程异常数",
         "type": "scatter",
         "uid": "ad5f9e90-c15e-11e8-8539-a81e84e6c740",
         "x": [
          "8-1",
          "8-2",
          "8-3",
          "8-4",
          "8-5",
          "9-1",
          "9-2",
          "9-3"
         ],
         "y": [
          0,
          1,
          0,
          0,
          2,
          1,
          0,
          0
         ]
        }
       ],
       "layout": {
        "title": "过滤流程异常数周趋势图",
        "xaxis": {
         "mirror": "all",
         "nticks": 20,
         "showgrid": true,
         "showline": true,
         "title": "周",
         "zeroline": true
        },
        "yaxis": {
         "mirror": "all",
         "nticks": 20,
         "showgrid": true,
         "showline": true,
         "title": "过滤流程异常数",
         "zeroline": true
        }
       }
      },
      "text/html": [
       "<div id=\"cc7a2085-b0ef-4eac-a7cf-8bf67bcc7950\" style=\"height: 525px; width: 100%;\" class=\"plotly-graph-div\"></div><script type=\"text/javascript\">require([\"plotly\"], function(Plotly) { window.PLOTLYENV=window.PLOTLYENV || {};window.PLOTLYENV.BASE_URL=\"https://plot.ly\";\n",
       "        Plotly.plot(\n",
       "            'cc7a2085-b0ef-4eac-a7cf-8bf67bcc7950',\n",
       "            [{\"name\": \"\\u8fc7\\u6ee4\\u6d41\\u7a0b\\u5f02\\u5e38\\u6570\", \"x\": [\"8-1\", \"8-2\", \"8-3\", \"8-4\", \"8-5\", \"9-1\", \"9-2\", \"9-3\"], \"y\": [0.0, 1.0, 0.0, 0.0, 2.0, 1.0, 0.0, 0.0], \"type\": \"scatter\", \"uid\": \"ad5f9e90-c15e-11e8-8539-a81e84e6c740\"}],\n",
       "            {\"title\": \"\\u8fc7\\u6ee4\\u6d41\\u7a0b\\u5f02\\u5e38\\u6570\\u5468\\u8d8b\\u52bf\\u56fe\", \"xaxis\": {\"mirror\": \"all\", \"nticks\": 20, \"showgrid\": true, \"showline\": true, \"title\": \"\\u5468\", \"zeroline\": true}, \"yaxis\": {\"mirror\": \"all\", \"nticks\": 20, \"showgrid\": true, \"showline\": true, \"title\": \"\\u8fc7\\u6ee4\\u6d41\\u7a0b\\u5f02\\u5e38\\u6570\", \"zeroline\": true}},\n",
       "            {\"showLink\": true, \"linkText\": \"Export to plot.ly\"}\n",
       "        ).then(function () {return Plotly.addFrames('cc7a2085-b0ef-4eac-a7cf-8bf67bcc7950',{});}).then(function(){Plotly.animate('cc7a2085-b0ef-4eac-a7cf-8bf67bcc7950');})\n",
       "        });</script>"
      ],
      "text/vnd.plotly.v1+html": [
       "<div id=\"cc7a2085-b0ef-4eac-a7cf-8bf67bcc7950\" style=\"height: 525px; width: 100%;\" class=\"plotly-graph-div\"></div><script type=\"text/javascript\">require([\"plotly\"], function(Plotly) { window.PLOTLYENV=window.PLOTLYENV || {};window.PLOTLYENV.BASE_URL=\"https://plot.ly\";\n",
       "        Plotly.plot(\n",
       "            'cc7a2085-b0ef-4eac-a7cf-8bf67bcc7950',\n",
       "            [{\"name\": \"\\u8fc7\\u6ee4\\u6d41\\u7a0b\\u5f02\\u5e38\\u6570\", \"x\": [\"8-1\", \"8-2\", \"8-3\", \"8-4\", \"8-5\", \"9-1\", \"9-2\", \"9-3\"], \"y\": [0.0, 1.0, 0.0, 0.0, 2.0, 1.0, 0.0, 0.0], \"type\": \"scatter\", \"uid\": \"ad5f9e90-c15e-11e8-8539-a81e84e6c740\"}],\n",
       "            {\"title\": \"\\u8fc7\\u6ee4\\u6d41\\u7a0b\\u5f02\\u5e38\\u6570\\u5468\\u8d8b\\u52bf\\u56fe\", \"xaxis\": {\"mirror\": \"all\", \"nticks\": 20, \"showgrid\": true, \"showline\": true, \"title\": \"\\u5468\", \"zeroline\": true}, \"yaxis\": {\"mirror\": \"all\", \"nticks\": 20, \"showgrid\": true, \"showline\": true, \"title\": \"\\u8fc7\\u6ee4\\u6d41\\u7a0b\\u5f02\\u5e38\\u6570\", \"zeroline\": true}},\n",
       "            {\"showLink\": true, \"linkText\": \"Export to plot.ly\"}\n",
       "        ).then(function () {return Plotly.addFrames('cc7a2085-b0ef-4eac-a7cf-8bf67bcc7950',{});}).then(function(){Plotly.animate('cc7a2085-b0ef-4eac-a7cf-8bf67bcc7950');})\n",
       "        });</script>"
      ]
     },
     "metadata": {},
     "output_type": "display_data"
    },
    {
     "data": {
      "application/vnd.plotly.v1+json": {
       "data": [
        {
         "name": "过滤流程异常数",
         "type": "scatter",
         "uid": "ad77be94-c15e-11e8-8539-a81e84e6c740",
         "x": [
          "8",
          "9"
         ],
         "y": [
          3,
          1
         ]
        }
       ],
       "layout": {
        "title": "过滤流程异常数月趋势图",
        "xaxis": {
         "mirror": "all",
         "nticks": 20,
         "showgrid": true,
         "showline": true,
         "title": "月",
         "zeroline": true
        },
        "yaxis": {
         "mirror": "all",
         "nticks": 20,
         "showgrid": true,
         "showline": true,
         "title": "过滤流程异常数",
         "zeroline": true
        }
       }
      },
      "text/html": [
       "<div id=\"7327283f-2cf4-44a5-aeee-adc37c7be486\" style=\"height: 525px; width: 100%;\" class=\"plotly-graph-div\"></div><script type=\"text/javascript\">require([\"plotly\"], function(Plotly) { window.PLOTLYENV=window.PLOTLYENV || {};window.PLOTLYENV.BASE_URL=\"https://plot.ly\";\n",
       "        Plotly.plot(\n",
       "            '7327283f-2cf4-44a5-aeee-adc37c7be486',\n",
       "            [{\"name\": \"\\u8fc7\\u6ee4\\u6d41\\u7a0b\\u5f02\\u5e38\\u6570\", \"x\": [\"8\", \"9\"], \"y\": [3.0, 1.0], \"type\": \"scatter\", \"uid\": \"ad77be94-c15e-11e8-8539-a81e84e6c740\"}],\n",
       "            {\"title\": \"\\u8fc7\\u6ee4\\u6d41\\u7a0b\\u5f02\\u5e38\\u6570\\u6708\\u8d8b\\u52bf\\u56fe\", \"xaxis\": {\"mirror\": \"all\", \"nticks\": 20, \"showgrid\": true, \"showline\": true, \"title\": \"\\u6708\", \"zeroline\": true}, \"yaxis\": {\"mirror\": \"all\", \"nticks\": 20, \"showgrid\": true, \"showline\": true, \"title\": \"\\u8fc7\\u6ee4\\u6d41\\u7a0b\\u5f02\\u5e38\\u6570\", \"zeroline\": true}},\n",
       "            {\"showLink\": true, \"linkText\": \"Export to plot.ly\"}\n",
       "        ).then(function () {return Plotly.addFrames('7327283f-2cf4-44a5-aeee-adc37c7be486',{});}).then(function(){Plotly.animate('7327283f-2cf4-44a5-aeee-adc37c7be486');})\n",
       "        });</script>"
      ],
      "text/vnd.plotly.v1+html": [
       "<div id=\"7327283f-2cf4-44a5-aeee-adc37c7be486\" style=\"height: 525px; width: 100%;\" class=\"plotly-graph-div\"></div><script type=\"text/javascript\">require([\"plotly\"], function(Plotly) { window.PLOTLYENV=window.PLOTLYENV || {};window.PLOTLYENV.BASE_URL=\"https://plot.ly\";\n",
       "        Plotly.plot(\n",
       "            '7327283f-2cf4-44a5-aeee-adc37c7be486',\n",
       "            [{\"name\": \"\\u8fc7\\u6ee4\\u6d41\\u7a0b\\u5f02\\u5e38\\u6570\", \"x\": [\"8\", \"9\"], \"y\": [3.0, 1.0], \"type\": \"scatter\", \"uid\": \"ad77be94-c15e-11e8-8539-a81e84e6c740\"}],\n",
       "            {\"title\": \"\\u8fc7\\u6ee4\\u6d41\\u7a0b\\u5f02\\u5e38\\u6570\\u6708\\u8d8b\\u52bf\\u56fe\", \"xaxis\": {\"mirror\": \"all\", \"nticks\": 20, \"showgrid\": true, \"showline\": true, \"title\": \"\\u6708\", \"zeroline\": true}, \"yaxis\": {\"mirror\": \"all\", \"nticks\": 20, \"showgrid\": true, \"showline\": true, \"title\": \"\\u8fc7\\u6ee4\\u6d41\\u7a0b\\u5f02\\u5e38\\u6570\", \"zeroline\": true}},\n",
       "            {\"showLink\": true, \"linkText\": \"Export to plot.ly\"}\n",
       "        ).then(function () {return Plotly.addFrames('7327283f-2cf4-44a5-aeee-adc37c7be486',{});}).then(function(){Plotly.animate('7327283f-2cf4-44a5-aeee-adc37c7be486');})\n",
       "        });</script>"
      ]
     },
     "metadata": {},
     "output_type": "display_data"
    }
   ],
   "source": [
    "data_dict = {'过滤流程异常数':['过滤流程异常数']}\n",
    "myModule.plot( all_dict, data_dict, '人员' ,  'line' , all='all')"
   ]
  },
  {
   "cell_type": "markdown",
   "metadata": {},
   "source": [
    "## 芯片拆分整体情况"
   ]
  },
  {
   "cell_type": "code",
   "execution_count": 41,
   "metadata": {
    "scrolled": false
   },
   "outputs": [],
   "source": [
    "all_files , title = myModule.get_title(pathway, 1 )##给路径\n",
    "all_dict = myModule.read_xlsx(all_files, 1 ) ## read all files"
   ]
  },
  {
   "cell_type": "markdown",
   "metadata": {},
   "source": [
    "### 产能"
   ]
  },
  {
   "cell_type": "markdown",
   "metadata": {},
   "source": [
    "#### 芯片总数和不通过芯片数"
   ]
  },
  {
   "cell_type": "code",
   "execution_count": 42,
   "metadata": {},
   "outputs": [
    {
     "data": {
      "application/vnd.plotly.v1+json": {
       "data": [
        {
         "name": "芯片总数",
         "type": "bar",
         "uid": "adb8f076-c15e-11e8-8539-a81e84e6c740",
         "x": [
          "8-1",
          "8-2",
          "8-3",
          "8-4",
          "8-5",
          "9-1",
          "9-2",
          "9-3"
         ],
         "y": [
          27,
          37,
          29,
          33,
          22,
          29,
          26,
          29
         ],
         "yaxis": "y"
        },
        {
         "name": "不通过芯片数",
         "type": "bar",
         "uid": "adb8f3dc-c15e-11e8-8539-a81e84e6c740",
         "x": [
          "8-1",
          "8-2",
          "8-3",
          "8-4",
          "8-5",
          "9-1",
          "9-2",
          "9-3"
         ],
         "y": [
          13,
          22,
          20,
          14,
          14,
          15,
          8,
          20
         ],
         "yaxis": "y"
        },
        {
         "name": "芯片不合格率",
         "type": "scatter",
         "uid": "adb8f67a-c15e-11e8-8539-a81e84e6c740",
         "x": [
          "8-1",
          "8-2",
          "8-3",
          "8-4",
          "8-5",
          "9-1",
          "9-2",
          "9-3"
         ],
         "y": [
          0.48148148148148145,
          0.5945945945945946,
          0.6896551724137931,
          0.42424242424242425,
          0.6363636363636364,
          0.5172413793103449,
          0.3076923076923077,
          0.6896551724137931
         ],
         "yaxis": "y2"
        }
       ],
       "layout": {
        "title": "芯片通过情况统计",
        "xaxis": {
         "mirror": "all",
         "nticks": 20,
         "showgrid": true,
         "showline": true,
         "title": "周",
         "zeroline": true
        },
        "yaxis": {
         "mirror": "all",
         "nticks": 20,
         "showgrid": true,
         "showline": true,
         "title": "芯片数",
         "zeroline": true
        },
        "yaxis2": {
         "mirror": "all",
         "nticks": 20,
         "overlaying": "y",
         "showgrid": true,
         "showline": true,
         "side": "right",
         "title": "芯片不合格率",
         "zeroline": true
        }
       }
      },
      "text/html": [
       "<div id=\"dbe9eefb-e986-4bc1-9b65-62edf138cb8b\" style=\"height: 525px; width: 100%;\" class=\"plotly-graph-div\"></div><script type=\"text/javascript\">require([\"plotly\"], function(Plotly) { window.PLOTLYENV=window.PLOTLYENV || {};window.PLOTLYENV.BASE_URL=\"https://plot.ly\";\n",
       "        Plotly.plot(\n",
       "            'dbe9eefb-e986-4bc1-9b65-62edf138cb8b',\n",
       "            [{\"name\": \"\\u82af\\u7247\\u603b\\u6570\", \"x\": [\"8-1\", \"8-2\", \"8-3\", \"8-4\", \"8-5\", \"9-1\", \"9-2\", \"9-3\"], \"y\": [27.0, 37.0, 29.0, 33.0, 22.0, 29.0, 26.0, 29.0], \"yaxis\": \"y\", \"type\": \"bar\", \"uid\": \"adb8f076-c15e-11e8-8539-a81e84e6c740\"}, {\"name\": \"\\u4e0d\\u901a\\u8fc7\\u82af\\u7247\\u6570\", \"x\": [\"8-1\", \"8-2\", \"8-3\", \"8-4\", \"8-5\", \"9-1\", \"9-2\", \"9-3\"], \"y\": [13.0, 22.0, 20.0, 14.0, 14.0, 15.0, 8.0, 20.0], \"yaxis\": \"y\", \"type\": \"bar\", \"uid\": \"adb8f3dc-c15e-11e8-8539-a81e84e6c740\"}, {\"name\": \"\\u82af\\u7247\\u4e0d\\u5408\\u683c\\u7387\", \"x\": [\"8-1\", \"8-2\", \"8-3\", \"8-4\", \"8-5\", \"9-1\", \"9-2\", \"9-3\"], \"y\": [0.48148148148148145, 0.5945945945945946, 0.6896551724137931, 0.42424242424242425, 0.6363636363636364, 0.5172413793103449, 0.3076923076923077, 0.6896551724137931], \"yaxis\": \"y2\", \"type\": \"scatter\", \"uid\": \"adb8f67a-c15e-11e8-8539-a81e84e6c740\"}],\n",
       "            {\"title\": \"\\u82af\\u7247\\u901a\\u8fc7\\u60c5\\u51b5\\u7edf\\u8ba1\", \"xaxis\": {\"mirror\": \"all\", \"nticks\": 20, \"showgrid\": true, \"showline\": true, \"title\": \"\\u5468\", \"zeroline\": true}, \"yaxis\": {\"mirror\": \"all\", \"nticks\": 20, \"showgrid\": true, \"showline\": true, \"title\": \"\\u82af\\u7247\\u6570\", \"zeroline\": true}, \"yaxis2\": {\"mirror\": \"all\", \"nticks\": 20, \"overlaying\": \"y\", \"showgrid\": true, \"showline\": true, \"side\": \"right\", \"title\": \"\\u82af\\u7247\\u4e0d\\u5408\\u683c\\u7387\", \"zeroline\": true}},\n",
       "            {\"showLink\": true, \"linkText\": \"Export to plot.ly\"}\n",
       "        ).then(function () {return Plotly.addFrames('dbe9eefb-e986-4bc1-9b65-62edf138cb8b',{});}).then(function(){Plotly.animate('dbe9eefb-e986-4bc1-9b65-62edf138cb8b');})\n",
       "        });</script>"
      ],
      "text/vnd.plotly.v1+html": [
       "<div id=\"dbe9eefb-e986-4bc1-9b65-62edf138cb8b\" style=\"height: 525px; width: 100%;\" class=\"plotly-graph-div\"></div><script type=\"text/javascript\">require([\"plotly\"], function(Plotly) { window.PLOTLYENV=window.PLOTLYENV || {};window.PLOTLYENV.BASE_URL=\"https://plot.ly\";\n",
       "        Plotly.plot(\n",
       "            'dbe9eefb-e986-4bc1-9b65-62edf138cb8b',\n",
       "            [{\"name\": \"\\u82af\\u7247\\u603b\\u6570\", \"x\": [\"8-1\", \"8-2\", \"8-3\", \"8-4\", \"8-5\", \"9-1\", \"9-2\", \"9-3\"], \"y\": [27.0, 37.0, 29.0, 33.0, 22.0, 29.0, 26.0, 29.0], \"yaxis\": \"y\", \"type\": \"bar\", \"uid\": \"adb8f076-c15e-11e8-8539-a81e84e6c740\"}, {\"name\": \"\\u4e0d\\u901a\\u8fc7\\u82af\\u7247\\u6570\", \"x\": [\"8-1\", \"8-2\", \"8-3\", \"8-4\", \"8-5\", \"9-1\", \"9-2\", \"9-3\"], \"y\": [13.0, 22.0, 20.0, 14.0, 14.0, 15.0, 8.0, 20.0], \"yaxis\": \"y\", \"type\": \"bar\", \"uid\": \"adb8f3dc-c15e-11e8-8539-a81e84e6c740\"}, {\"name\": \"\\u82af\\u7247\\u4e0d\\u5408\\u683c\\u7387\", \"x\": [\"8-1\", \"8-2\", \"8-3\", \"8-4\", \"8-5\", \"9-1\", \"9-2\", \"9-3\"], \"y\": [0.48148148148148145, 0.5945945945945946, 0.6896551724137931, 0.42424242424242425, 0.6363636363636364, 0.5172413793103449, 0.3076923076923077, 0.6896551724137931], \"yaxis\": \"y2\", \"type\": \"scatter\", \"uid\": \"adb8f67a-c15e-11e8-8539-a81e84e6c740\"}],\n",
       "            {\"title\": \"\\u82af\\u7247\\u901a\\u8fc7\\u60c5\\u51b5\\u7edf\\u8ba1\", \"xaxis\": {\"mirror\": \"all\", \"nticks\": 20, \"showgrid\": true, \"showline\": true, \"title\": \"\\u5468\", \"zeroline\": true}, \"yaxis\": {\"mirror\": \"all\", \"nticks\": 20, \"showgrid\": true, \"showline\": true, \"title\": \"\\u82af\\u7247\\u6570\", \"zeroline\": true}, \"yaxis2\": {\"mirror\": \"all\", \"nticks\": 20, \"overlaying\": \"y\", \"showgrid\": true, \"showline\": true, \"side\": \"right\", \"title\": \"\\u82af\\u7247\\u4e0d\\u5408\\u683c\\u7387\", \"zeroline\": true}},\n",
       "            {\"showLink\": true, \"linkText\": \"Export to plot.ly\"}\n",
       "        ).then(function () {return Plotly.addFrames('dbe9eefb-e986-4bc1-9b65-62edf138cb8b',{});}).then(function(){Plotly.animate('dbe9eefb-e986-4bc1-9b65-62edf138cb8b');})\n",
       "        });</script>"
      ]
     },
     "metadata": {},
     "output_type": "display_data"
    },
    {
     "data": {
      "application/vnd.plotly.v1+json": {
       "data": [
        {
         "name": "芯片总数",
         "type": "bar",
         "uid": "add8e07a-c15e-11e8-8539-a81e84e6c740",
         "x": [
          "8",
          "9"
         ],
         "y": [
          148,
          84
         ],
         "yaxis": "y"
        },
        {
         "name": "不通过芯片数",
         "type": "bar",
         "uid": "add8e5ca-c15e-11e8-8539-a81e84e6c740",
         "x": [
          "8",
          "9"
         ],
         "y": [
          83,
          43
         ],
         "yaxis": "y"
        },
        {
         "name": "芯片不合格率",
         "type": "scatter",
         "uid": "add8e8fe-c15e-11e8-8539-a81e84e6c740",
         "x": [
          "8",
          "9"
         ],
         "y": [
          0.5608108108108109,
          0.5119047619047619
         ],
         "yaxis": "y2"
        }
       ],
       "layout": {
        "title": "芯片通过情况统计",
        "xaxis": {
         "mirror": "all",
         "nticks": 20,
         "showgrid": true,
         "showline": true,
         "title": "月",
         "zeroline": true
        },
        "yaxis": {
         "mirror": "all",
         "nticks": 20,
         "showgrid": true,
         "showline": true,
         "title": "芯片数",
         "zeroline": true
        },
        "yaxis2": {
         "mirror": "all",
         "nticks": 20,
         "overlaying": "y",
         "showgrid": true,
         "showline": true,
         "side": "right",
         "title": "芯片不合格率",
         "zeroline": true
        }
       }
      },
      "text/html": [
       "<div id=\"41f107fe-2756-498e-ad10-22be5ad71ca4\" style=\"height: 525px; width: 100%;\" class=\"plotly-graph-div\"></div><script type=\"text/javascript\">require([\"plotly\"], function(Plotly) { window.PLOTLYENV=window.PLOTLYENV || {};window.PLOTLYENV.BASE_URL=\"https://plot.ly\";\n",
       "        Plotly.plot(\n",
       "            '41f107fe-2756-498e-ad10-22be5ad71ca4',\n",
       "            [{\"name\": \"\\u82af\\u7247\\u603b\\u6570\", \"x\": [\"8\", \"9\"], \"y\": [148.0, 84.0], \"yaxis\": \"y\", \"type\": \"bar\", \"uid\": \"add8e07a-c15e-11e8-8539-a81e84e6c740\"}, {\"name\": \"\\u4e0d\\u901a\\u8fc7\\u82af\\u7247\\u6570\", \"x\": [\"8\", \"9\"], \"y\": [83.0, 43.0], \"yaxis\": \"y\", \"type\": \"bar\", \"uid\": \"add8e5ca-c15e-11e8-8539-a81e84e6c740\"}, {\"name\": \"\\u82af\\u7247\\u4e0d\\u5408\\u683c\\u7387\", \"x\": [\"8\", \"9\"], \"y\": [0.5608108108108109, 0.5119047619047619], \"yaxis\": \"y2\", \"type\": \"scatter\", \"uid\": \"add8e8fe-c15e-11e8-8539-a81e84e6c740\"}],\n",
       "            {\"title\": \"\\u82af\\u7247\\u901a\\u8fc7\\u60c5\\u51b5\\u7edf\\u8ba1\", \"xaxis\": {\"mirror\": \"all\", \"nticks\": 20, \"showgrid\": true, \"showline\": true, \"title\": \"\\u6708\", \"zeroline\": true}, \"yaxis\": {\"mirror\": \"all\", \"nticks\": 20, \"showgrid\": true, \"showline\": true, \"title\": \"\\u82af\\u7247\\u6570\", \"zeroline\": true}, \"yaxis2\": {\"mirror\": \"all\", \"nticks\": 20, \"overlaying\": \"y\", \"showgrid\": true, \"showline\": true, \"side\": \"right\", \"title\": \"\\u82af\\u7247\\u4e0d\\u5408\\u683c\\u7387\", \"zeroline\": true}},\n",
       "            {\"showLink\": true, \"linkText\": \"Export to plot.ly\"}\n",
       "        ).then(function () {return Plotly.addFrames('41f107fe-2756-498e-ad10-22be5ad71ca4',{});}).then(function(){Plotly.animate('41f107fe-2756-498e-ad10-22be5ad71ca4');})\n",
       "        });</script>"
      ],
      "text/vnd.plotly.v1+html": [
       "<div id=\"41f107fe-2756-498e-ad10-22be5ad71ca4\" style=\"height: 525px; width: 100%;\" class=\"plotly-graph-div\"></div><script type=\"text/javascript\">require([\"plotly\"], function(Plotly) { window.PLOTLYENV=window.PLOTLYENV || {};window.PLOTLYENV.BASE_URL=\"https://plot.ly\";\n",
       "        Plotly.plot(\n",
       "            '41f107fe-2756-498e-ad10-22be5ad71ca4',\n",
       "            [{\"name\": \"\\u82af\\u7247\\u603b\\u6570\", \"x\": [\"8\", \"9\"], \"y\": [148.0, 84.0], \"yaxis\": \"y\", \"type\": \"bar\", \"uid\": \"add8e07a-c15e-11e8-8539-a81e84e6c740\"}, {\"name\": \"\\u4e0d\\u901a\\u8fc7\\u82af\\u7247\\u6570\", \"x\": [\"8\", \"9\"], \"y\": [83.0, 43.0], \"yaxis\": \"y\", \"type\": \"bar\", \"uid\": \"add8e5ca-c15e-11e8-8539-a81e84e6c740\"}, {\"name\": \"\\u82af\\u7247\\u4e0d\\u5408\\u683c\\u7387\", \"x\": [\"8\", \"9\"], \"y\": [0.5608108108108109, 0.5119047619047619], \"yaxis\": \"y2\", \"type\": \"scatter\", \"uid\": \"add8e8fe-c15e-11e8-8539-a81e84e6c740\"}],\n",
       "            {\"title\": \"\\u82af\\u7247\\u901a\\u8fc7\\u60c5\\u51b5\\u7edf\\u8ba1\", \"xaxis\": {\"mirror\": \"all\", \"nticks\": 20, \"showgrid\": true, \"showline\": true, \"title\": \"\\u6708\", \"zeroline\": true}, \"yaxis\": {\"mirror\": \"all\", \"nticks\": 20, \"showgrid\": true, \"showline\": true, \"title\": \"\\u82af\\u7247\\u6570\", \"zeroline\": true}, \"yaxis2\": {\"mirror\": \"all\", \"nticks\": 20, \"overlaying\": \"y\", \"showgrid\": true, \"showline\": true, \"side\": \"right\", \"title\": \"\\u82af\\u7247\\u4e0d\\u5408\\u683c\\u7387\", \"zeroline\": true}},\n",
       "            {\"showLink\": true, \"linkText\": \"Export to plot.ly\"}\n",
       "        ).then(function () {return Plotly.addFrames('41f107fe-2756-498e-ad10-22be5ad71ca4',{});}).then(function(){Plotly.animate('41f107fe-2756-498e-ad10-22be5ad71ca4');})\n",
       "        });</script>"
      ]
     },
     "metadata": {},
     "output_type": "display_data"
    }
   ],
   "source": [
    "col_list = ['不通过芯片数', '芯片总数']\n",
    "ratio = '芯片不合格率'\n",
    "type_dict = { '芯片总数':'bar', '不通过芯片数':'bar', '芯片不合格率':'line' }\n",
    "title = '芯片通过情况统计'\n",
    "yaxis = ['芯片数', '芯片不合格率']\n",
    "myModule.ratio_calculate( all_dict, col_list, ratio, type_dict, title, yaxis )"
   ]
  },
  {
   "cell_type": "code",
   "execution_count": 43,
   "metadata": {},
   "outputs": [
    {
     "data": {
      "application/vnd.plotly.v1+json": {
       "data": [
        {
         "name": "芯片总数",
         "type": "scatter",
         "uid": "adf70b04-c15e-11e8-8539-a81e84e6c740",
         "x": [
          "8-1",
          "8-2",
          "8-3",
          "8-4",
          "8-5",
          "9-1",
          "9-2",
          "9-3"
         ],
         "y": [
          27,
          37,
          29,
          33,
          22,
          29,
          26,
          29
         ]
        },
        {
         "name": "不通过芯片数",
         "type": "scatter",
         "uid": "adf710ae-c15e-11e8-8539-a81e84e6c740",
         "x": [
          "8-1",
          "8-2",
          "8-3",
          "8-4",
          "8-5",
          "9-1",
          "9-2",
          "9-3"
         ],
         "y": [
          13,
          22,
          20,
          14,
          14,
          15,
          8,
          20
         ]
        }
       ],
       "layout": {
        "title": "芯片总数&不通过芯片数周趋势图",
        "xaxis": {
         "mirror": "all",
         "nticks": 20,
         "showgrid": true,
         "showline": true,
         "title": "周",
         "zeroline": true
        },
        "yaxis": {
         "mirror": "all",
         "nticks": 20,
         "showgrid": true,
         "showline": true,
         "title": "芯片总数&不通过芯片数",
         "zeroline": true
        }
       }
      },
      "text/html": [
       "<div id=\"0b95d62e-c6b9-4a96-9449-167d2d2727ab\" style=\"height: 525px; width: 100%;\" class=\"plotly-graph-div\"></div><script type=\"text/javascript\">require([\"plotly\"], function(Plotly) { window.PLOTLYENV=window.PLOTLYENV || {};window.PLOTLYENV.BASE_URL=\"https://plot.ly\";\n",
       "        Plotly.plot(\n",
       "            '0b95d62e-c6b9-4a96-9449-167d2d2727ab',\n",
       "            [{\"name\": \"\\u82af\\u7247\\u603b\\u6570\", \"x\": [\"8-1\", \"8-2\", \"8-3\", \"8-4\", \"8-5\", \"9-1\", \"9-2\", \"9-3\"], \"y\": [27.0, 37.0, 29.0, 33.0, 22.0, 29.0, 26.0, 29.0], \"type\": \"scatter\", \"uid\": \"adf70b04-c15e-11e8-8539-a81e84e6c740\"}, {\"name\": \"\\u4e0d\\u901a\\u8fc7\\u82af\\u7247\\u6570\", \"x\": [\"8-1\", \"8-2\", \"8-3\", \"8-4\", \"8-5\", \"9-1\", \"9-2\", \"9-3\"], \"y\": [13.0, 22.0, 20.0, 14.0, 14.0, 15.0, 8.0, 20.0], \"type\": \"scatter\", \"uid\": \"adf710ae-c15e-11e8-8539-a81e84e6c740\"}],\n",
       "            {\"title\": \"\\u82af\\u7247\\u603b\\u6570&\\u4e0d\\u901a\\u8fc7\\u82af\\u7247\\u6570\\u5468\\u8d8b\\u52bf\\u56fe\", \"xaxis\": {\"mirror\": \"all\", \"nticks\": 20, \"showgrid\": true, \"showline\": true, \"title\": \"\\u5468\", \"zeroline\": true}, \"yaxis\": {\"mirror\": \"all\", \"nticks\": 20, \"showgrid\": true, \"showline\": true, \"title\": \"\\u82af\\u7247\\u603b\\u6570&\\u4e0d\\u901a\\u8fc7\\u82af\\u7247\\u6570\", \"zeroline\": true}},\n",
       "            {\"showLink\": true, \"linkText\": \"Export to plot.ly\"}\n",
       "        ).then(function () {return Plotly.addFrames('0b95d62e-c6b9-4a96-9449-167d2d2727ab',{});}).then(function(){Plotly.animate('0b95d62e-c6b9-4a96-9449-167d2d2727ab');})\n",
       "        });</script>"
      ],
      "text/vnd.plotly.v1+html": [
       "<div id=\"0b95d62e-c6b9-4a96-9449-167d2d2727ab\" style=\"height: 525px; width: 100%;\" class=\"plotly-graph-div\"></div><script type=\"text/javascript\">require([\"plotly\"], function(Plotly) { window.PLOTLYENV=window.PLOTLYENV || {};window.PLOTLYENV.BASE_URL=\"https://plot.ly\";\n",
       "        Plotly.plot(\n",
       "            '0b95d62e-c6b9-4a96-9449-167d2d2727ab',\n",
       "            [{\"name\": \"\\u82af\\u7247\\u603b\\u6570\", \"x\": [\"8-1\", \"8-2\", \"8-3\", \"8-4\", \"8-5\", \"9-1\", \"9-2\", \"9-3\"], \"y\": [27.0, 37.0, 29.0, 33.0, 22.0, 29.0, 26.0, 29.0], \"type\": \"scatter\", \"uid\": \"adf70b04-c15e-11e8-8539-a81e84e6c740\"}, {\"name\": \"\\u4e0d\\u901a\\u8fc7\\u82af\\u7247\\u6570\", \"x\": [\"8-1\", \"8-2\", \"8-3\", \"8-4\", \"8-5\", \"9-1\", \"9-2\", \"9-3\"], \"y\": [13.0, 22.0, 20.0, 14.0, 14.0, 15.0, 8.0, 20.0], \"type\": \"scatter\", \"uid\": \"adf710ae-c15e-11e8-8539-a81e84e6c740\"}],\n",
       "            {\"title\": \"\\u82af\\u7247\\u603b\\u6570&\\u4e0d\\u901a\\u8fc7\\u82af\\u7247\\u6570\\u5468\\u8d8b\\u52bf\\u56fe\", \"xaxis\": {\"mirror\": \"all\", \"nticks\": 20, \"showgrid\": true, \"showline\": true, \"title\": \"\\u5468\", \"zeroline\": true}, \"yaxis\": {\"mirror\": \"all\", \"nticks\": 20, \"showgrid\": true, \"showline\": true, \"title\": \"\\u82af\\u7247\\u603b\\u6570&\\u4e0d\\u901a\\u8fc7\\u82af\\u7247\\u6570\", \"zeroline\": true}},\n",
       "            {\"showLink\": true, \"linkText\": \"Export to plot.ly\"}\n",
       "        ).then(function () {return Plotly.addFrames('0b95d62e-c6b9-4a96-9449-167d2d2727ab',{});}).then(function(){Plotly.animate('0b95d62e-c6b9-4a96-9449-167d2d2727ab');})\n",
       "        });</script>"
      ]
     },
     "metadata": {},
     "output_type": "display_data"
    },
    {
     "data": {
      "application/vnd.plotly.v1+json": {
       "data": [
        {
         "name": "芯片总数",
         "type": "scatter",
         "uid": "ae044756-c15e-11e8-8539-a81e84e6c740",
         "x": [
          "8",
          "9"
         ],
         "y": [
          148,
          84
         ]
        },
        {
         "name": "不通过芯片数",
         "type": "scatter",
         "uid": "ae044cba-c15e-11e8-8539-a81e84e6c740",
         "x": [
          "8",
          "9"
         ],
         "y": [
          83,
          43
         ]
        }
       ],
       "layout": {
        "title": "芯片总数&不通过芯片数月趋势图",
        "xaxis": {
         "mirror": "all",
         "nticks": 20,
         "showgrid": true,
         "showline": true,
         "title": "月",
         "zeroline": true
        },
        "yaxis": {
         "mirror": "all",
         "nticks": 20,
         "showgrid": true,
         "showline": true,
         "title": "芯片总数&不通过芯片数",
         "zeroline": true
        }
       }
      },
      "text/html": [
       "<div id=\"74a528f7-0e02-493b-8812-894962f377d3\" style=\"height: 525px; width: 100%;\" class=\"plotly-graph-div\"></div><script type=\"text/javascript\">require([\"plotly\"], function(Plotly) { window.PLOTLYENV=window.PLOTLYENV || {};window.PLOTLYENV.BASE_URL=\"https://plot.ly\";\n",
       "        Plotly.plot(\n",
       "            '74a528f7-0e02-493b-8812-894962f377d3',\n",
       "            [{\"name\": \"\\u82af\\u7247\\u603b\\u6570\", \"x\": [\"8\", \"9\"], \"y\": [148.0, 84.0], \"type\": \"scatter\", \"uid\": \"ae044756-c15e-11e8-8539-a81e84e6c740\"}, {\"name\": \"\\u4e0d\\u901a\\u8fc7\\u82af\\u7247\\u6570\", \"x\": [\"8\", \"9\"], \"y\": [83.0, 43.0], \"type\": \"scatter\", \"uid\": \"ae044cba-c15e-11e8-8539-a81e84e6c740\"}],\n",
       "            {\"title\": \"\\u82af\\u7247\\u603b\\u6570&\\u4e0d\\u901a\\u8fc7\\u82af\\u7247\\u6570\\u6708\\u8d8b\\u52bf\\u56fe\", \"xaxis\": {\"mirror\": \"all\", \"nticks\": 20, \"showgrid\": true, \"showline\": true, \"title\": \"\\u6708\", \"zeroline\": true}, \"yaxis\": {\"mirror\": \"all\", \"nticks\": 20, \"showgrid\": true, \"showline\": true, \"title\": \"\\u82af\\u7247\\u603b\\u6570&\\u4e0d\\u901a\\u8fc7\\u82af\\u7247\\u6570\", \"zeroline\": true}},\n",
       "            {\"showLink\": true, \"linkText\": \"Export to plot.ly\"}\n",
       "        ).then(function () {return Plotly.addFrames('74a528f7-0e02-493b-8812-894962f377d3',{});}).then(function(){Plotly.animate('74a528f7-0e02-493b-8812-894962f377d3');})\n",
       "        });</script>"
      ],
      "text/vnd.plotly.v1+html": [
       "<div id=\"74a528f7-0e02-493b-8812-894962f377d3\" style=\"height: 525px; width: 100%;\" class=\"plotly-graph-div\"></div><script type=\"text/javascript\">require([\"plotly\"], function(Plotly) { window.PLOTLYENV=window.PLOTLYENV || {};window.PLOTLYENV.BASE_URL=\"https://plot.ly\";\n",
       "        Plotly.plot(\n",
       "            '74a528f7-0e02-493b-8812-894962f377d3',\n",
       "            [{\"name\": \"\\u82af\\u7247\\u603b\\u6570\", \"x\": [\"8\", \"9\"], \"y\": [148.0, 84.0], \"type\": \"scatter\", \"uid\": \"ae044756-c15e-11e8-8539-a81e84e6c740\"}, {\"name\": \"\\u4e0d\\u901a\\u8fc7\\u82af\\u7247\\u6570\", \"x\": [\"8\", \"9\"], \"y\": [83.0, 43.0], \"type\": \"scatter\", \"uid\": \"ae044cba-c15e-11e8-8539-a81e84e6c740\"}],\n",
       "            {\"title\": \"\\u82af\\u7247\\u603b\\u6570&\\u4e0d\\u901a\\u8fc7\\u82af\\u7247\\u6570\\u6708\\u8d8b\\u52bf\\u56fe\", \"xaxis\": {\"mirror\": \"all\", \"nticks\": 20, \"showgrid\": true, \"showline\": true, \"title\": \"\\u6708\", \"zeroline\": true}, \"yaxis\": {\"mirror\": \"all\", \"nticks\": 20, \"showgrid\": true, \"showline\": true, \"title\": \"\\u82af\\u7247\\u603b\\u6570&\\u4e0d\\u901a\\u8fc7\\u82af\\u7247\\u6570\", \"zeroline\": true}},\n",
       "            {\"showLink\": true, \"linkText\": \"Export to plot.ly\"}\n",
       "        ).then(function () {return Plotly.addFrames('74a528f7-0e02-493b-8812-894962f377d3',{});}).then(function(){Plotly.animate('74a528f7-0e02-493b-8812-894962f377d3');})\n",
       "        });</script>"
      ]
     },
     "metadata": {},
     "output_type": "display_data"
    }
   ],
   "source": [
    "data_dict = {'芯片总数':['芯片总数'], '不通过芯片数':['不通过芯片数']}\n",
    "myModule.plot( all_dict, data_dict, '人员', 'line', all='all')"
   ]
  },
  {
   "cell_type": "markdown",
   "metadata": {},
   "source": [
    "### 效率"
   ]
  },
  {
   "cell_type": "markdown",
   "metadata": {},
   "source": [
    "#### 不合格率"
   ]
  },
  {
   "cell_type": "code",
   "execution_count": 44,
   "metadata": {},
   "outputs": [
    {
     "data": {
      "application/vnd.plotly.v1+json": {
       "data": [
        {
         "name": "不合格率",
         "type": "scatter",
         "uid": "ae230830-c15e-11e8-8539-a81e84e6c740",
         "x": [
          "8-1",
          "8-2",
          "8-3",
          "8-4",
          "8-5",
          "9-1",
          "9-2",
          "9-3"
         ],
         "y": [
          0.48148148148148145,
          0.5945945945945946,
          0.6896551724137931,
          0.42424242424242425,
          0.6363636363636364,
          0.5172413793103449,
          0.3076923076923077,
          0.6896551724137931
         ]
        }
       ],
       "layout": {
        "title": "不合格率周趋势图",
        "xaxis": {
         "mirror": "all",
         "nticks": 20,
         "showgrid": true,
         "showline": true,
         "title": "周",
         "zeroline": true
        },
        "yaxis": {
         "mirror": "all",
         "nticks": 20,
         "showgrid": true,
         "showline": true,
         "title": "不合格率",
         "zeroline": true
        }
       }
      },
      "text/html": [
       "<div id=\"049fbdc5-2647-4aba-ab9c-e49bbe951a0d\" style=\"height: 525px; width: 100%;\" class=\"plotly-graph-div\"></div><script type=\"text/javascript\">require([\"plotly\"], function(Plotly) { window.PLOTLYENV=window.PLOTLYENV || {};window.PLOTLYENV.BASE_URL=\"https://plot.ly\";\n",
       "        Plotly.plot(\n",
       "            '049fbdc5-2647-4aba-ab9c-e49bbe951a0d',\n",
       "            [{\"name\": \"\\u4e0d\\u5408\\u683c\\u7387\", \"x\": [\"8-1\", \"8-2\", \"8-3\", \"8-4\", \"8-5\", \"9-1\", \"9-2\", \"9-3\"], \"y\": [0.48148148148148145, 0.5945945945945946, 0.6896551724137931, 0.42424242424242425, 0.6363636363636364, 0.5172413793103449, 0.3076923076923077, 0.6896551724137931], \"type\": \"scatter\", \"uid\": \"ae230830-c15e-11e8-8539-a81e84e6c740\"}],\n",
       "            {\"title\": \"\\u4e0d\\u5408\\u683c\\u7387\\u5468\\u8d8b\\u52bf\\u56fe\", \"xaxis\": {\"mirror\": \"all\", \"nticks\": 20, \"showgrid\": true, \"showline\": true, \"title\": \"\\u5468\", \"zeroline\": true}, \"yaxis\": {\"mirror\": \"all\", \"nticks\": 20, \"showgrid\": true, \"showline\": true, \"title\": \"\\u4e0d\\u5408\\u683c\\u7387\", \"zeroline\": true}},\n",
       "            {\"showLink\": true, \"linkText\": \"Export to plot.ly\"}\n",
       "        ).then(function () {return Plotly.addFrames('049fbdc5-2647-4aba-ab9c-e49bbe951a0d',{});}).then(function(){Plotly.animate('049fbdc5-2647-4aba-ab9c-e49bbe951a0d');})\n",
       "        });</script>"
      ],
      "text/vnd.plotly.v1+html": [
       "<div id=\"049fbdc5-2647-4aba-ab9c-e49bbe951a0d\" style=\"height: 525px; width: 100%;\" class=\"plotly-graph-div\"></div><script type=\"text/javascript\">require([\"plotly\"], function(Plotly) { window.PLOTLYENV=window.PLOTLYENV || {};window.PLOTLYENV.BASE_URL=\"https://plot.ly\";\n",
       "        Plotly.plot(\n",
       "            '049fbdc5-2647-4aba-ab9c-e49bbe951a0d',\n",
       "            [{\"name\": \"\\u4e0d\\u5408\\u683c\\u7387\", \"x\": [\"8-1\", \"8-2\", \"8-3\", \"8-4\", \"8-5\", \"9-1\", \"9-2\", \"9-3\"], \"y\": [0.48148148148148145, 0.5945945945945946, 0.6896551724137931, 0.42424242424242425, 0.6363636363636364, 0.5172413793103449, 0.3076923076923077, 0.6896551724137931], \"type\": \"scatter\", \"uid\": \"ae230830-c15e-11e8-8539-a81e84e6c740\"}],\n",
       "            {\"title\": \"\\u4e0d\\u5408\\u683c\\u7387\\u5468\\u8d8b\\u52bf\\u56fe\", \"xaxis\": {\"mirror\": \"all\", \"nticks\": 20, \"showgrid\": true, \"showline\": true, \"title\": \"\\u5468\", \"zeroline\": true}, \"yaxis\": {\"mirror\": \"all\", \"nticks\": 20, \"showgrid\": true, \"showline\": true, \"title\": \"\\u4e0d\\u5408\\u683c\\u7387\", \"zeroline\": true}},\n",
       "            {\"showLink\": true, \"linkText\": \"Export to plot.ly\"}\n",
       "        ).then(function () {return Plotly.addFrames('049fbdc5-2647-4aba-ab9c-e49bbe951a0d',{});}).then(function(){Plotly.animate('049fbdc5-2647-4aba-ab9c-e49bbe951a0d');})\n",
       "        });</script>"
      ]
     },
     "metadata": {},
     "output_type": "display_data"
    },
    {
     "data": {
      "application/vnd.plotly.v1+json": {
       "data": [
        {
         "name": "不合格率",
         "type": "scatter",
         "uid": "ae302dee-c15e-11e8-8539-a81e84e6c740",
         "x": [
          "8",
          "9"
         ],
         "y": [
          0.5608108108108109,
          0.5119047619047619
         ]
        }
       ],
       "layout": {
        "title": "不合格率月趋势图",
        "xaxis": {
         "mirror": "all",
         "nticks": 20,
         "showgrid": true,
         "showline": true,
         "title": "月",
         "zeroline": true
        },
        "yaxis": {
         "mirror": "all",
         "nticks": 20,
         "showgrid": true,
         "showline": true,
         "title": "不合格率",
         "zeroline": true
        }
       }
      },
      "text/html": [
       "<div id=\"3be0c9cb-3f6a-40c9-b43e-7cef12a01db7\" style=\"height: 525px; width: 100%;\" class=\"plotly-graph-div\"></div><script type=\"text/javascript\">require([\"plotly\"], function(Plotly) { window.PLOTLYENV=window.PLOTLYENV || {};window.PLOTLYENV.BASE_URL=\"https://plot.ly\";\n",
       "        Plotly.plot(\n",
       "            '3be0c9cb-3f6a-40c9-b43e-7cef12a01db7',\n",
       "            [{\"name\": \"\\u4e0d\\u5408\\u683c\\u7387\", \"x\": [\"8\", \"9\"], \"y\": [0.5608108108108109, 0.5119047619047619], \"type\": \"scatter\", \"uid\": \"ae302dee-c15e-11e8-8539-a81e84e6c740\"}],\n",
       "            {\"title\": \"\\u4e0d\\u5408\\u683c\\u7387\\u6708\\u8d8b\\u52bf\\u56fe\", \"xaxis\": {\"mirror\": \"all\", \"nticks\": 20, \"showgrid\": true, \"showline\": true, \"title\": \"\\u6708\", \"zeroline\": true}, \"yaxis\": {\"mirror\": \"all\", \"nticks\": 20, \"showgrid\": true, \"showline\": true, \"title\": \"\\u4e0d\\u5408\\u683c\\u7387\", \"zeroline\": true}},\n",
       "            {\"showLink\": true, \"linkText\": \"Export to plot.ly\"}\n",
       "        ).then(function () {return Plotly.addFrames('3be0c9cb-3f6a-40c9-b43e-7cef12a01db7',{});}).then(function(){Plotly.animate('3be0c9cb-3f6a-40c9-b43e-7cef12a01db7');})\n",
       "        });</script>"
      ],
      "text/vnd.plotly.v1+html": [
       "<div id=\"3be0c9cb-3f6a-40c9-b43e-7cef12a01db7\" style=\"height: 525px; width: 100%;\" class=\"plotly-graph-div\"></div><script type=\"text/javascript\">require([\"plotly\"], function(Plotly) { window.PLOTLYENV=window.PLOTLYENV || {};window.PLOTLYENV.BASE_URL=\"https://plot.ly\";\n",
       "        Plotly.plot(\n",
       "            '3be0c9cb-3f6a-40c9-b43e-7cef12a01db7',\n",
       "            [{\"name\": \"\\u4e0d\\u5408\\u683c\\u7387\", \"x\": [\"8\", \"9\"], \"y\": [0.5608108108108109, 0.5119047619047619], \"type\": \"scatter\", \"uid\": \"ae302dee-c15e-11e8-8539-a81e84e6c740\"}],\n",
       "            {\"title\": \"\\u4e0d\\u5408\\u683c\\u7387\\u6708\\u8d8b\\u52bf\\u56fe\", \"xaxis\": {\"mirror\": \"all\", \"nticks\": 20, \"showgrid\": true, \"showline\": true, \"title\": \"\\u6708\", \"zeroline\": true}, \"yaxis\": {\"mirror\": \"all\", \"nticks\": 20, \"showgrid\": true, \"showline\": true, \"title\": \"\\u4e0d\\u5408\\u683c\\u7387\", \"zeroline\": true}},\n",
       "            {\"showLink\": true, \"linkText\": \"Export to plot.ly\"}\n",
       "        ).then(function () {return Plotly.addFrames('3be0c9cb-3f6a-40c9-b43e-7cef12a01db7',{});}).then(function(){Plotly.animate('3be0c9cb-3f6a-40c9-b43e-7cef12a01db7');})\n",
       "        });</script>"
      ]
     },
     "metadata": {},
     "output_type": "display_data"
    }
   ],
   "source": [
    "data_dict = {'不合格率':['不通过芯片数', '芯片总数']}\n",
    "myModule.plot( all_dict, data_dict, '人员' ,  'line' , all='all')"
   ]
  },
  {
   "cell_type": "markdown",
   "metadata": {},
   "source": [
    "#### 通过率情况"
   ]
  },
  {
   "cell_type": "code",
   "execution_count": 45,
   "metadata": {
    "scrolled": false
   },
   "outputs": [
    {
     "data": {
      "application/vnd.plotly.v1+json": {
       "data": [
        {
         "name": "8h通过率",
         "type": "scatter",
         "uid": "ae5a49b2-c15e-11e8-8539-a81e84e6c740",
         "x": [
          "8-1",
          "8-2",
          "8-3",
          "8-4",
          "8-5",
          "9-1",
          "9-2",
          "9-3"
         ],
         "y": [
          0.3333333333333333,
          0.40540540540540543,
          0.5517241379310345,
          0.6060606060606061,
          0.5,
          0.6206896551724138,
          0.6538461538461539,
          0.4827586206896552
         ]
        },
        {
         "name": "24h通过率",
         "type": "scatter",
         "uid": "ae5a51c8-c15e-11e8-8539-a81e84e6c740",
         "x": [
          "8-1",
          "8-2",
          "8-3",
          "8-4",
          "8-5",
          "9-1",
          "9-2",
          "9-3"
         ],
         "y": [
          0.6296296296296297,
          0.5135135135135135,
          0.7586206896551724,
          0.8484848484848485,
          0.7272727272727273,
          0.5862068965517241,
          0.6923076923076923,
          0.6551724137931034
         ]
        },
        {
         "name": "48h通过率",
         "type": "scatter",
         "uid": "ae5a822e-c15e-11e8-8539-a81e84e6c740",
         "x": [
          "8-1",
          "8-2",
          "8-3",
          "8-4",
          "8-5",
          "9-1",
          "9-2",
          "9-3"
         ],
         "y": [
          0.8518518518518519,
          0.7567567567567568,
          0.896551724137931,
          0.9393939393939394,
          0.8636363636363636,
          0.7931034482758621,
          0.8461538461538461,
          0.6896551724137931
         ]
        }
       ],
       "layout": {
        "title": "8h通过率&24h通过率&48h通过率周趋势图",
        "xaxis": {
         "mirror": "all",
         "nticks": 20,
         "showgrid": true,
         "showline": true,
         "title": "周",
         "zeroline": true
        },
        "yaxis": {
         "mirror": "all",
         "nticks": 20,
         "showgrid": true,
         "showline": true,
         "title": "8h通过率&24h通过率&48h通过率",
         "zeroline": true
        }
       }
      },
      "text/html": [
       "<div id=\"88958f0e-6a2a-43f2-9785-101c0d5624f9\" style=\"height: 525px; width: 100%;\" class=\"plotly-graph-div\"></div><script type=\"text/javascript\">require([\"plotly\"], function(Plotly) { window.PLOTLYENV=window.PLOTLYENV || {};window.PLOTLYENV.BASE_URL=\"https://plot.ly\";\n",
       "        Plotly.plot(\n",
       "            '88958f0e-6a2a-43f2-9785-101c0d5624f9',\n",
       "            [{\"name\": \"8h\\u901a\\u8fc7\\u7387\", \"x\": [\"8-1\", \"8-2\", \"8-3\", \"8-4\", \"8-5\", \"9-1\", \"9-2\", \"9-3\"], \"y\": [0.3333333333333333, 0.40540540540540543, 0.5517241379310345, 0.6060606060606061, 0.5, 0.6206896551724138, 0.6538461538461539, 0.4827586206896552], \"type\": \"scatter\", \"uid\": \"ae5a49b2-c15e-11e8-8539-a81e84e6c740\"}, {\"name\": \"24h\\u901a\\u8fc7\\u7387\", \"x\": [\"8-1\", \"8-2\", \"8-3\", \"8-4\", \"8-5\", \"9-1\", \"9-2\", \"9-3\"], \"y\": [0.6296296296296297, 0.5135135135135135, 0.7586206896551724, 0.8484848484848485, 0.7272727272727273, 0.5862068965517241, 0.6923076923076923, 0.6551724137931034], \"type\": \"scatter\", \"uid\": \"ae5a51c8-c15e-11e8-8539-a81e84e6c740\"}, {\"name\": \"48h\\u901a\\u8fc7\\u7387\", \"x\": [\"8-1\", \"8-2\", \"8-3\", \"8-4\", \"8-5\", \"9-1\", \"9-2\", \"9-3\"], \"y\": [0.8518518518518519, 0.7567567567567568, 0.896551724137931, 0.9393939393939394, 0.8636363636363636, 0.7931034482758621, 0.8461538461538461, 0.6896551724137931], \"type\": \"scatter\", \"uid\": \"ae5a822e-c15e-11e8-8539-a81e84e6c740\"}],\n",
       "            {\"title\": \"8h\\u901a\\u8fc7\\u7387&24h\\u901a\\u8fc7\\u7387&48h\\u901a\\u8fc7\\u7387\\u5468\\u8d8b\\u52bf\\u56fe\", \"xaxis\": {\"mirror\": \"all\", \"nticks\": 20, \"showgrid\": true, \"showline\": true, \"title\": \"\\u5468\", \"zeroline\": true}, \"yaxis\": {\"mirror\": \"all\", \"nticks\": 20, \"showgrid\": true, \"showline\": true, \"title\": \"8h\\u901a\\u8fc7\\u7387&24h\\u901a\\u8fc7\\u7387&48h\\u901a\\u8fc7\\u7387\", \"zeroline\": true}},\n",
       "            {\"showLink\": true, \"linkText\": \"Export to plot.ly\"}\n",
       "        ).then(function () {return Plotly.addFrames('88958f0e-6a2a-43f2-9785-101c0d5624f9',{});}).then(function(){Plotly.animate('88958f0e-6a2a-43f2-9785-101c0d5624f9');})\n",
       "        });</script>"
      ],
      "text/vnd.plotly.v1+html": [
       "<div id=\"88958f0e-6a2a-43f2-9785-101c0d5624f9\" style=\"height: 525px; width: 100%;\" class=\"plotly-graph-div\"></div><script type=\"text/javascript\">require([\"plotly\"], function(Plotly) { window.PLOTLYENV=window.PLOTLYENV || {};window.PLOTLYENV.BASE_URL=\"https://plot.ly\";\n",
       "        Plotly.plot(\n",
       "            '88958f0e-6a2a-43f2-9785-101c0d5624f9',\n",
       "            [{\"name\": \"8h\\u901a\\u8fc7\\u7387\", \"x\": [\"8-1\", \"8-2\", \"8-3\", \"8-4\", \"8-5\", \"9-1\", \"9-2\", \"9-3\"], \"y\": [0.3333333333333333, 0.40540540540540543, 0.5517241379310345, 0.6060606060606061, 0.5, 0.6206896551724138, 0.6538461538461539, 0.4827586206896552], \"type\": \"scatter\", \"uid\": \"ae5a49b2-c15e-11e8-8539-a81e84e6c740\"}, {\"name\": \"24h\\u901a\\u8fc7\\u7387\", \"x\": [\"8-1\", \"8-2\", \"8-3\", \"8-4\", \"8-5\", \"9-1\", \"9-2\", \"9-3\"], \"y\": [0.6296296296296297, 0.5135135135135135, 0.7586206896551724, 0.8484848484848485, 0.7272727272727273, 0.5862068965517241, 0.6923076923076923, 0.6551724137931034], \"type\": \"scatter\", \"uid\": \"ae5a51c8-c15e-11e8-8539-a81e84e6c740\"}, {\"name\": \"48h\\u901a\\u8fc7\\u7387\", \"x\": [\"8-1\", \"8-2\", \"8-3\", \"8-4\", \"8-5\", \"9-1\", \"9-2\", \"9-3\"], \"y\": [0.8518518518518519, 0.7567567567567568, 0.896551724137931, 0.9393939393939394, 0.8636363636363636, 0.7931034482758621, 0.8461538461538461, 0.6896551724137931], \"type\": \"scatter\", \"uid\": \"ae5a822e-c15e-11e8-8539-a81e84e6c740\"}],\n",
       "            {\"title\": \"8h\\u901a\\u8fc7\\u7387&24h\\u901a\\u8fc7\\u7387&48h\\u901a\\u8fc7\\u7387\\u5468\\u8d8b\\u52bf\\u56fe\", \"xaxis\": {\"mirror\": \"all\", \"nticks\": 20, \"showgrid\": true, \"showline\": true, \"title\": \"\\u5468\", \"zeroline\": true}, \"yaxis\": {\"mirror\": \"all\", \"nticks\": 20, \"showgrid\": true, \"showline\": true, \"title\": \"8h\\u901a\\u8fc7\\u7387&24h\\u901a\\u8fc7\\u7387&48h\\u901a\\u8fc7\\u7387\", \"zeroline\": true}},\n",
       "            {\"showLink\": true, \"linkText\": \"Export to plot.ly\"}\n",
       "        ).then(function () {return Plotly.addFrames('88958f0e-6a2a-43f2-9785-101c0d5624f9',{});}).then(function(){Plotly.animate('88958f0e-6a2a-43f2-9785-101c0d5624f9');})\n",
       "        });</script>"
      ]
     },
     "metadata": {},
     "output_type": "display_data"
    },
    {
     "data": {
      "application/vnd.plotly.v1+json": {
       "data": [
        {
         "name": "8h通过率",
         "type": "scatter",
         "uid": "ae705162-c15e-11e8-8539-a81e84e6c740",
         "x": [
          "8",
          "9"
         ],
         "y": [
          0.4797297297297297,
          0.5833333333333334
         ]
        },
        {
         "name": "24h通过率",
         "type": "scatter",
         "uid": "ae7056d0-c15e-11e8-8539-a81e84e6c740",
         "x": [
          "8",
          "9"
         ],
         "y": [
          0.6891891891891891,
          0.6428571428571429
         ]
        },
        {
         "name": "48h通过率",
         "type": "scatter",
         "uid": "ae705b80-c15e-11e8-8539-a81e84e6c740",
         "x": [
          "8",
          "9"
         ],
         "y": [
          0.8581081081081081,
          0.7738095238095238
         ]
        }
       ],
       "layout": {
        "title": "8h通过率&24h通过率&48h通过率月趋势图",
        "xaxis": {
         "mirror": "all",
         "nticks": 20,
         "showgrid": true,
         "showline": true,
         "title": "月",
         "zeroline": true
        },
        "yaxis": {
         "mirror": "all",
         "nticks": 20,
         "showgrid": true,
         "showline": true,
         "title": "8h通过率&24h通过率&48h通过率",
         "zeroline": true
        }
       }
      },
      "text/html": [
       "<div id=\"48995a53-8ed7-4d1e-a7dd-d1992d265bc2\" style=\"height: 525px; width: 100%;\" class=\"plotly-graph-div\"></div><script type=\"text/javascript\">require([\"plotly\"], function(Plotly) { window.PLOTLYENV=window.PLOTLYENV || {};window.PLOTLYENV.BASE_URL=\"https://plot.ly\";\n",
       "        Plotly.plot(\n",
       "            '48995a53-8ed7-4d1e-a7dd-d1992d265bc2',\n",
       "            [{\"name\": \"8h\\u901a\\u8fc7\\u7387\", \"x\": [\"8\", \"9\"], \"y\": [0.4797297297297297, 0.5833333333333334], \"type\": \"scatter\", \"uid\": \"ae705162-c15e-11e8-8539-a81e84e6c740\"}, {\"name\": \"24h\\u901a\\u8fc7\\u7387\", \"x\": [\"8\", \"9\"], \"y\": [0.6891891891891891, 0.6428571428571429], \"type\": \"scatter\", \"uid\": \"ae7056d0-c15e-11e8-8539-a81e84e6c740\"}, {\"name\": \"48h\\u901a\\u8fc7\\u7387\", \"x\": [\"8\", \"9\"], \"y\": [0.8581081081081081, 0.7738095238095238], \"type\": \"scatter\", \"uid\": \"ae705b80-c15e-11e8-8539-a81e84e6c740\"}],\n",
       "            {\"title\": \"8h\\u901a\\u8fc7\\u7387&24h\\u901a\\u8fc7\\u7387&48h\\u901a\\u8fc7\\u7387\\u6708\\u8d8b\\u52bf\\u56fe\", \"xaxis\": {\"mirror\": \"all\", \"nticks\": 20, \"showgrid\": true, \"showline\": true, \"title\": \"\\u6708\", \"zeroline\": true}, \"yaxis\": {\"mirror\": \"all\", \"nticks\": 20, \"showgrid\": true, \"showline\": true, \"title\": \"8h\\u901a\\u8fc7\\u7387&24h\\u901a\\u8fc7\\u7387&48h\\u901a\\u8fc7\\u7387\", \"zeroline\": true}},\n",
       "            {\"showLink\": true, \"linkText\": \"Export to plot.ly\"}\n",
       "        ).then(function () {return Plotly.addFrames('48995a53-8ed7-4d1e-a7dd-d1992d265bc2',{});}).then(function(){Plotly.animate('48995a53-8ed7-4d1e-a7dd-d1992d265bc2');})\n",
       "        });</script>"
      ],
      "text/vnd.plotly.v1+html": [
       "<div id=\"48995a53-8ed7-4d1e-a7dd-d1992d265bc2\" style=\"height: 525px; width: 100%;\" class=\"plotly-graph-div\"></div><script type=\"text/javascript\">require([\"plotly\"], function(Plotly) { window.PLOTLYENV=window.PLOTLYENV || {};window.PLOTLYENV.BASE_URL=\"https://plot.ly\";\n",
       "        Plotly.plot(\n",
       "            '48995a53-8ed7-4d1e-a7dd-d1992d265bc2',\n",
       "            [{\"name\": \"8h\\u901a\\u8fc7\\u7387\", \"x\": [\"8\", \"9\"], \"y\": [0.4797297297297297, 0.5833333333333334], \"type\": \"scatter\", \"uid\": \"ae705162-c15e-11e8-8539-a81e84e6c740\"}, {\"name\": \"24h\\u901a\\u8fc7\\u7387\", \"x\": [\"8\", \"9\"], \"y\": [0.6891891891891891, 0.6428571428571429], \"type\": \"scatter\", \"uid\": \"ae7056d0-c15e-11e8-8539-a81e84e6c740\"}, {\"name\": \"48h\\u901a\\u8fc7\\u7387\", \"x\": [\"8\", \"9\"], \"y\": [0.8581081081081081, 0.7738095238095238], \"type\": \"scatter\", \"uid\": \"ae705b80-c15e-11e8-8539-a81e84e6c740\"}],\n",
       "            {\"title\": \"8h\\u901a\\u8fc7\\u7387&24h\\u901a\\u8fc7\\u7387&48h\\u901a\\u8fc7\\u7387\\u6708\\u8d8b\\u52bf\\u56fe\", \"xaxis\": {\"mirror\": \"all\", \"nticks\": 20, \"showgrid\": true, \"showline\": true, \"title\": \"\\u6708\", \"zeroline\": true}, \"yaxis\": {\"mirror\": \"all\", \"nticks\": 20, \"showgrid\": true, \"showline\": true, \"title\": \"8h\\u901a\\u8fc7\\u7387&24h\\u901a\\u8fc7\\u7387&48h\\u901a\\u8fc7\\u7387\", \"zeroline\": true}},\n",
       "            {\"showLink\": true, \"linkText\": \"Export to plot.ly\"}\n",
       "        ).then(function () {return Plotly.addFrames('48995a53-8ed7-4d1e-a7dd-d1992d265bc2',{});}).then(function(){Plotly.animate('48995a53-8ed7-4d1e-a7dd-d1992d265bc2');})\n",
       "        });</script>"
      ]
     },
     "metadata": {},
     "output_type": "display_data"
    }
   ],
   "source": [
    "#data_dict = {'8h通过率':['8h通过芯片数', '芯片总数'], '24h通过率':['24h通过芯片数', '芯片总数'], \n",
    "             #'48h通过率':['48h通过芯片数', '芯片总数'], '24h通过率标线':['24h通过率标线'], '48h通过率标线':['48h通过率标线']}\n",
    "data_dict = {'8h通过率':['8h通过芯片数', '芯片总数'], '24h通过率':['24h通过芯片数', '芯片总数'], '48h通过率':['48h通过芯片数', '芯片总数']}\n",
    "myModule.plot( all_dict, data_dict, '人员' ,  'line' ,  all='all')"
   ]
  },
  {
   "cell_type": "markdown",
   "metadata": {},
   "source": [
    "#### 平均通过时长，一次通过平均时长，非一次通过平均时长，通过时长Q80"
   ]
  },
  {
   "cell_type": "code",
   "execution_count": 46,
   "metadata": {
    "scrolled": false
   },
   "outputs": [
    {
     "data": {
      "application/vnd.plotly.v1+json": {
       "data": [
        {
         "name": "平均通过时长",
         "type": "scatter",
         "uid": "ae981a44-c15e-11e8-8539-a81e84e6c740",
         "x": [
          "8-1",
          "8-2",
          "8-3",
          "8-4",
          "8-5",
          "9-1",
          "9-2",
          "9-3"
         ],
         "y": [
          21.03,
          32.65,
          16.84,
          10.54,
          23.82,
          15.1,
          22.28,
          38.57
         ]
        },
        {
         "name": "一次通过平均时长",
         "type": "scatter",
         "uid": "ae981fb2-c15e-11e8-8539-a81e84e6c740",
         "x": [
          "8-1",
          "8-2",
          "8-3",
          "8-4",
          "8-5",
          "9-1",
          "9-2",
          "9-3"
         ],
         "y": [
          11.95,
          6.68,
          3.81,
          5.41,
          3.11,
          2.07,
          6.43,
          4.81
         ]
        },
        {
         "name": "非一次通过平均时长",
         "type": "scatter",
         "uid": "ae9823cc-c15e-11e8-8539-a81e84e6c740",
         "x": [
          "8-1",
          "8-2",
          "8-3",
          "8-4",
          "8-5",
          "9-1",
          "9-2",
          "9-3"
         ],
         "y": [
          30.81,
          50.36,
          22.7,
          20.81,
          35.65,
          24.46,
          37.75,
          53.68
         ]
        },
        {
         "name": "通过时长Q80",
         "type": "scatter",
         "uid": "ae982778-c15e-11e8-8539-a81e84e6c740",
         "x": [
          "8-1",
          "8-2",
          "8-3",
          "8-4",
          "8-5",
          "9-1",
          "9-2",
          "9-3"
         ],
         "y": [
          35.07,
          59.13,
          33.87,
          27.27,
          29.73,
          24.2,
          31.5,
          64.5
         ]
        }
       ],
       "layout": {
        "title": "平均通过时长&一次通过平均时长&非一次通过平均时长&通过时长Q80周趋势图",
        "xaxis": {
         "mirror": "all",
         "nticks": 20,
         "showgrid": true,
         "showline": true,
         "title": "周",
         "zeroline": true
        },
        "yaxis": {
         "mirror": "all",
         "nticks": 20,
         "showgrid": true,
         "showline": true,
         "title": "平均通过时长&一次通过平均时长&非一次通过平均时长&通过时长Q80",
         "zeroline": true
        }
       }
      },
      "text/html": [
       "<div id=\"bf0bda4a-207a-47ac-945e-e241daf53ad4\" style=\"height: 525px; width: 100%;\" class=\"plotly-graph-div\"></div><script type=\"text/javascript\">require([\"plotly\"], function(Plotly) { window.PLOTLYENV=window.PLOTLYENV || {};window.PLOTLYENV.BASE_URL=\"https://plot.ly\";\n",
       "        Plotly.plot(\n",
       "            'bf0bda4a-207a-47ac-945e-e241daf53ad4',\n",
       "            [{\"name\": \"\\u5e73\\u5747\\u901a\\u8fc7\\u65f6\\u957f\", \"x\": [\"8-1\", \"8-2\", \"8-3\", \"8-4\", \"8-5\", \"9-1\", \"9-2\", \"9-3\"], \"y\": [21.03, 32.65, 16.84, 10.54, 23.82, 15.1, 22.28, 38.57], \"type\": \"scatter\", \"uid\": \"ae981a44-c15e-11e8-8539-a81e84e6c740\"}, {\"name\": \"\\u4e00\\u6b21\\u901a\\u8fc7\\u5e73\\u5747\\u65f6\\u957f\", \"x\": [\"8-1\", \"8-2\", \"8-3\", \"8-4\", \"8-5\", \"9-1\", \"9-2\", \"9-3\"], \"y\": [11.95, 6.68, 3.81, 5.41, 3.11, 2.07, 6.43, 4.81], \"type\": \"scatter\", \"uid\": \"ae981fb2-c15e-11e8-8539-a81e84e6c740\"}, {\"name\": \"\\u975e\\u4e00\\u6b21\\u901a\\u8fc7\\u5e73\\u5747\\u65f6\\u957f\", \"x\": [\"8-1\", \"8-2\", \"8-3\", \"8-4\", \"8-5\", \"9-1\", \"9-2\", \"9-3\"], \"y\": [30.81, 50.36, 22.7, 20.81, 35.65, 24.46, 37.75, 53.68], \"type\": \"scatter\", \"uid\": \"ae9823cc-c15e-11e8-8539-a81e84e6c740\"}, {\"name\": \"\\u901a\\u8fc7\\u65f6\\u957fQ80\", \"x\": [\"8-1\", \"8-2\", \"8-3\", \"8-4\", \"8-5\", \"9-1\", \"9-2\", \"9-3\"], \"y\": [35.07, 59.13, 33.87, 27.27, 29.73, 24.2, 31.5, 64.5], \"type\": \"scatter\", \"uid\": \"ae982778-c15e-11e8-8539-a81e84e6c740\"}],\n",
       "            {\"title\": \"\\u5e73\\u5747\\u901a\\u8fc7\\u65f6\\u957f&\\u4e00\\u6b21\\u901a\\u8fc7\\u5e73\\u5747\\u65f6\\u957f&\\u975e\\u4e00\\u6b21\\u901a\\u8fc7\\u5e73\\u5747\\u65f6\\u957f&\\u901a\\u8fc7\\u65f6\\u957fQ80\\u5468\\u8d8b\\u52bf\\u56fe\", \"xaxis\": {\"mirror\": \"all\", \"nticks\": 20, \"showgrid\": true, \"showline\": true, \"title\": \"\\u5468\", \"zeroline\": true}, \"yaxis\": {\"mirror\": \"all\", \"nticks\": 20, \"showgrid\": true, \"showline\": true, \"title\": \"\\u5e73\\u5747\\u901a\\u8fc7\\u65f6\\u957f&\\u4e00\\u6b21\\u901a\\u8fc7\\u5e73\\u5747\\u65f6\\u957f&\\u975e\\u4e00\\u6b21\\u901a\\u8fc7\\u5e73\\u5747\\u65f6\\u957f&\\u901a\\u8fc7\\u65f6\\u957fQ80\", \"zeroline\": true}},\n",
       "            {\"showLink\": true, \"linkText\": \"Export to plot.ly\"}\n",
       "        ).then(function () {return Plotly.addFrames('bf0bda4a-207a-47ac-945e-e241daf53ad4',{});}).then(function(){Plotly.animate('bf0bda4a-207a-47ac-945e-e241daf53ad4');})\n",
       "        });</script>"
      ],
      "text/vnd.plotly.v1+html": [
       "<div id=\"bf0bda4a-207a-47ac-945e-e241daf53ad4\" style=\"height: 525px; width: 100%;\" class=\"plotly-graph-div\"></div><script type=\"text/javascript\">require([\"plotly\"], function(Plotly) { window.PLOTLYENV=window.PLOTLYENV || {};window.PLOTLYENV.BASE_URL=\"https://plot.ly\";\n",
       "        Plotly.plot(\n",
       "            'bf0bda4a-207a-47ac-945e-e241daf53ad4',\n",
       "            [{\"name\": \"\\u5e73\\u5747\\u901a\\u8fc7\\u65f6\\u957f\", \"x\": [\"8-1\", \"8-2\", \"8-3\", \"8-4\", \"8-5\", \"9-1\", \"9-2\", \"9-3\"], \"y\": [21.03, 32.65, 16.84, 10.54, 23.82, 15.1, 22.28, 38.57], \"type\": \"scatter\", \"uid\": \"ae981a44-c15e-11e8-8539-a81e84e6c740\"}, {\"name\": \"\\u4e00\\u6b21\\u901a\\u8fc7\\u5e73\\u5747\\u65f6\\u957f\", \"x\": [\"8-1\", \"8-2\", \"8-3\", \"8-4\", \"8-5\", \"9-1\", \"9-2\", \"9-3\"], \"y\": [11.95, 6.68, 3.81, 5.41, 3.11, 2.07, 6.43, 4.81], \"type\": \"scatter\", \"uid\": \"ae981fb2-c15e-11e8-8539-a81e84e6c740\"}, {\"name\": \"\\u975e\\u4e00\\u6b21\\u901a\\u8fc7\\u5e73\\u5747\\u65f6\\u957f\", \"x\": [\"8-1\", \"8-2\", \"8-3\", \"8-4\", \"8-5\", \"9-1\", \"9-2\", \"9-3\"], \"y\": [30.81, 50.36, 22.7, 20.81, 35.65, 24.46, 37.75, 53.68], \"type\": \"scatter\", \"uid\": \"ae9823cc-c15e-11e8-8539-a81e84e6c740\"}, {\"name\": \"\\u901a\\u8fc7\\u65f6\\u957fQ80\", \"x\": [\"8-1\", \"8-2\", \"8-3\", \"8-4\", \"8-5\", \"9-1\", \"9-2\", \"9-3\"], \"y\": [35.07, 59.13, 33.87, 27.27, 29.73, 24.2, 31.5, 64.5], \"type\": \"scatter\", \"uid\": \"ae982778-c15e-11e8-8539-a81e84e6c740\"}],\n",
       "            {\"title\": \"\\u5e73\\u5747\\u901a\\u8fc7\\u65f6\\u957f&\\u4e00\\u6b21\\u901a\\u8fc7\\u5e73\\u5747\\u65f6\\u957f&\\u975e\\u4e00\\u6b21\\u901a\\u8fc7\\u5e73\\u5747\\u65f6\\u957f&\\u901a\\u8fc7\\u65f6\\u957fQ80\\u5468\\u8d8b\\u52bf\\u56fe\", \"xaxis\": {\"mirror\": \"all\", \"nticks\": 20, \"showgrid\": true, \"showline\": true, \"title\": \"\\u5468\", \"zeroline\": true}, \"yaxis\": {\"mirror\": \"all\", \"nticks\": 20, \"showgrid\": true, \"showline\": true, \"title\": \"\\u5e73\\u5747\\u901a\\u8fc7\\u65f6\\u957f&\\u4e00\\u6b21\\u901a\\u8fc7\\u5e73\\u5747\\u65f6\\u957f&\\u975e\\u4e00\\u6b21\\u901a\\u8fc7\\u5e73\\u5747\\u65f6\\u957f&\\u901a\\u8fc7\\u65f6\\u957fQ80\", \"zeroline\": true}},\n",
       "            {\"showLink\": true, \"linkText\": \"Export to plot.ly\"}\n",
       "        ).then(function () {return Plotly.addFrames('bf0bda4a-207a-47ac-945e-e241daf53ad4',{});}).then(function(){Plotly.animate('bf0bda4a-207a-47ac-945e-e241daf53ad4');})\n",
       "        });</script>"
      ]
     },
     "metadata": {},
     "output_type": "display_data"
    },
    {
     "data": {
      "application/vnd.plotly.v1+json": {
       "data": [
        {
         "name": "平均通过时长",
         "type": "scatter",
         "uid": "aeb2ca92-c15e-11e8-8539-a81e84e6c740",
         "x": [
          "8",
          "9"
         ],
         "y": [
          104.88,
          75.95
         ]
        },
        {
         "name": "一次通过平均时长",
         "type": "scatter",
         "uid": "aeb2cdd0-c15e-11e8-8539-a81e84e6c740",
         "x": [
          "8",
          "9"
         ],
         "y": [
          30.959999999999997,
          13.309999999999999
         ]
        },
        {
         "name": "非一次通过平均时长",
         "type": "scatter",
         "uid": "aeb2d01e-c15e-11e8-8539-a81e84e6c740",
         "x": [
          "8",
          "9"
         ],
         "y": [
          160.33,
          115.89
         ]
        },
        {
         "name": "通过时长Q80",
         "type": "scatter",
         "uid": "aeb2d23a-c15e-11e8-8539-a81e84e6c740",
         "x": [
          "8",
          "9"
         ],
         "y": [
          185.07,
          120.2
         ]
        }
       ],
       "layout": {
        "title": "平均通过时长&一次通过平均时长&非一次通过平均时长&通过时长Q80月趋势图",
        "xaxis": {
         "mirror": "all",
         "nticks": 20,
         "showgrid": true,
         "showline": true,
         "title": "月",
         "zeroline": true
        },
        "yaxis": {
         "mirror": "all",
         "nticks": 20,
         "showgrid": true,
         "showline": true,
         "title": "平均通过时长&一次通过平均时长&非一次通过平均时长&通过时长Q80",
         "zeroline": true
        }
       }
      },
      "text/html": [
       "<div id=\"655e9aca-0df3-44e1-a7ca-d87fb3fc1562\" style=\"height: 525px; width: 100%;\" class=\"plotly-graph-div\"></div><script type=\"text/javascript\">require([\"plotly\"], function(Plotly) { window.PLOTLYENV=window.PLOTLYENV || {};window.PLOTLYENV.BASE_URL=\"https://plot.ly\";\n",
       "        Plotly.plot(\n",
       "            '655e9aca-0df3-44e1-a7ca-d87fb3fc1562',\n",
       "            [{\"name\": \"\\u5e73\\u5747\\u901a\\u8fc7\\u65f6\\u957f\", \"x\": [\"8\", \"9\"], \"y\": [104.88, 75.95], \"type\": \"scatter\", \"uid\": \"aeb2ca92-c15e-11e8-8539-a81e84e6c740\"}, {\"name\": \"\\u4e00\\u6b21\\u901a\\u8fc7\\u5e73\\u5747\\u65f6\\u957f\", \"x\": [\"8\", \"9\"], \"y\": [30.959999999999997, 13.309999999999999], \"type\": \"scatter\", \"uid\": \"aeb2cdd0-c15e-11e8-8539-a81e84e6c740\"}, {\"name\": \"\\u975e\\u4e00\\u6b21\\u901a\\u8fc7\\u5e73\\u5747\\u65f6\\u957f\", \"x\": [\"8\", \"9\"], \"y\": [160.33, 115.89], \"type\": \"scatter\", \"uid\": \"aeb2d01e-c15e-11e8-8539-a81e84e6c740\"}, {\"name\": \"\\u901a\\u8fc7\\u65f6\\u957fQ80\", \"x\": [\"8\", \"9\"], \"y\": [185.07, 120.2], \"type\": \"scatter\", \"uid\": \"aeb2d23a-c15e-11e8-8539-a81e84e6c740\"}],\n",
       "            {\"title\": \"\\u5e73\\u5747\\u901a\\u8fc7\\u65f6\\u957f&\\u4e00\\u6b21\\u901a\\u8fc7\\u5e73\\u5747\\u65f6\\u957f&\\u975e\\u4e00\\u6b21\\u901a\\u8fc7\\u5e73\\u5747\\u65f6\\u957f&\\u901a\\u8fc7\\u65f6\\u957fQ80\\u6708\\u8d8b\\u52bf\\u56fe\", \"xaxis\": {\"mirror\": \"all\", \"nticks\": 20, \"showgrid\": true, \"showline\": true, \"title\": \"\\u6708\", \"zeroline\": true}, \"yaxis\": {\"mirror\": \"all\", \"nticks\": 20, \"showgrid\": true, \"showline\": true, \"title\": \"\\u5e73\\u5747\\u901a\\u8fc7\\u65f6\\u957f&\\u4e00\\u6b21\\u901a\\u8fc7\\u5e73\\u5747\\u65f6\\u957f&\\u975e\\u4e00\\u6b21\\u901a\\u8fc7\\u5e73\\u5747\\u65f6\\u957f&\\u901a\\u8fc7\\u65f6\\u957fQ80\", \"zeroline\": true}},\n",
       "            {\"showLink\": true, \"linkText\": \"Export to plot.ly\"}\n",
       "        ).then(function () {return Plotly.addFrames('655e9aca-0df3-44e1-a7ca-d87fb3fc1562',{});}).then(function(){Plotly.animate('655e9aca-0df3-44e1-a7ca-d87fb3fc1562');})\n",
       "        });</script>"
      ],
      "text/vnd.plotly.v1+html": [
       "<div id=\"655e9aca-0df3-44e1-a7ca-d87fb3fc1562\" style=\"height: 525px; width: 100%;\" class=\"plotly-graph-div\"></div><script type=\"text/javascript\">require([\"plotly\"], function(Plotly) { window.PLOTLYENV=window.PLOTLYENV || {};window.PLOTLYENV.BASE_URL=\"https://plot.ly\";\n",
       "        Plotly.plot(\n",
       "            '655e9aca-0df3-44e1-a7ca-d87fb3fc1562',\n",
       "            [{\"name\": \"\\u5e73\\u5747\\u901a\\u8fc7\\u65f6\\u957f\", \"x\": [\"8\", \"9\"], \"y\": [104.88, 75.95], \"type\": \"scatter\", \"uid\": \"aeb2ca92-c15e-11e8-8539-a81e84e6c740\"}, {\"name\": \"\\u4e00\\u6b21\\u901a\\u8fc7\\u5e73\\u5747\\u65f6\\u957f\", \"x\": [\"8\", \"9\"], \"y\": [30.959999999999997, 13.309999999999999], \"type\": \"scatter\", \"uid\": \"aeb2cdd0-c15e-11e8-8539-a81e84e6c740\"}, {\"name\": \"\\u975e\\u4e00\\u6b21\\u901a\\u8fc7\\u5e73\\u5747\\u65f6\\u957f\", \"x\": [\"8\", \"9\"], \"y\": [160.33, 115.89], \"type\": \"scatter\", \"uid\": \"aeb2d01e-c15e-11e8-8539-a81e84e6c740\"}, {\"name\": \"\\u901a\\u8fc7\\u65f6\\u957fQ80\", \"x\": [\"8\", \"9\"], \"y\": [185.07, 120.2], \"type\": \"scatter\", \"uid\": \"aeb2d23a-c15e-11e8-8539-a81e84e6c740\"}],\n",
       "            {\"title\": \"\\u5e73\\u5747\\u901a\\u8fc7\\u65f6\\u957f&\\u4e00\\u6b21\\u901a\\u8fc7\\u5e73\\u5747\\u65f6\\u957f&\\u975e\\u4e00\\u6b21\\u901a\\u8fc7\\u5e73\\u5747\\u65f6\\u957f&\\u901a\\u8fc7\\u65f6\\u957fQ80\\u6708\\u8d8b\\u52bf\\u56fe\", \"xaxis\": {\"mirror\": \"all\", \"nticks\": 20, \"showgrid\": true, \"showline\": true, \"title\": \"\\u6708\", \"zeroline\": true}, \"yaxis\": {\"mirror\": \"all\", \"nticks\": 20, \"showgrid\": true, \"showline\": true, \"title\": \"\\u5e73\\u5747\\u901a\\u8fc7\\u65f6\\u957f&\\u4e00\\u6b21\\u901a\\u8fc7\\u5e73\\u5747\\u65f6\\u957f&\\u975e\\u4e00\\u6b21\\u901a\\u8fc7\\u5e73\\u5747\\u65f6\\u957f&\\u901a\\u8fc7\\u65f6\\u957fQ80\", \"zeroline\": true}},\n",
       "            {\"showLink\": true, \"linkText\": \"Export to plot.ly\"}\n",
       "        ).then(function () {return Plotly.addFrames('655e9aca-0df3-44e1-a7ca-d87fb3fc1562',{});}).then(function(){Plotly.animate('655e9aca-0df3-44e1-a7ca-d87fb3fc1562');})\n",
       "        });</script>"
      ]
     },
     "metadata": {},
     "output_type": "display_data"
    }
   ],
   "source": [
    "data_dict = {'平均通过时长':['平均通过时长'], '一次通过平均时长':['一次通过平均时长'], \n",
    "             '非一次通过平均时长':['非一次通过平均时长'],'通过时长Q80':['通过时长Q80']}\n",
    "myModule.plot( all_dict, data_dict, '人员' ,  'line' , all='all')"
   ]
  },
  {
   "cell_type": "markdown",
   "metadata": {},
   "source": [
    "#### 一次通过平均时长，xten一次通过时长，NovaS4一次通过时长"
   ]
  },
  {
   "cell_type": "code",
   "execution_count": 47,
   "metadata": {
    "scrolled": false
   },
   "outputs": [
    {
     "data": {
      "application/vnd.plotly.v1+json": {
       "data": [
        {
         "name": "一次通过平均时长",
         "type": "scatter",
         "uid": "aef76b20-c15e-11e8-8539-a81e84e6c740",
         "x": [
          "8-1",
          "8-2",
          "8-3",
          "8-4",
          "8-5",
          "9-1",
          "9-2",
          "9-3"
         ],
         "y": [
          11.95,
          6.68,
          3.81,
          5.41,
          3.11,
          2.07,
          6.43,
          4.81
         ]
        },
        {
         "name": "xten一次通过时长",
         "type": "scatter",
         "uid": "aef76e4a-c15e-11e8-8539-a81e84e6c740",
         "x": [
          "8-1",
          "8-2",
          "8-3",
          "8-4",
          "8-5",
          "9-1",
          "9-2",
          "9-3"
         ],
         "y": [
          5.74,
          6.69,
          3.34,
          3.78,
          2.97,
          3.58,
          4.77,
          3.37
         ]
        },
        {
         "name": "NovaS4一次通过时长",
         "type": "scatter",
         "uid": "aef7708e-c15e-11e8-8539-a81e84e6c740",
         "x": [
          "8-1",
          "8-2",
          "8-3",
          "8-4",
          "8-5",
          "9-1",
          "9-2",
          "9-3"
         ],
         "y": [
          13.29,
          4.73,
          10.54,
          10.54,
          0,
          14.88,
          9.9,
          0
         ]
        }
       ],
       "layout": {
        "title": "一次通过平均时长&xten一次通过时长&NovaS4一次通过时长周趋势图",
        "xaxis": {
         "mirror": "all",
         "nticks": 20,
         "showgrid": true,
         "showline": true,
         "title": "周",
         "zeroline": true
        },
        "yaxis": {
         "mirror": "all",
         "nticks": 20,
         "showgrid": true,
         "showline": true,
         "title": "一次通过平均时长&xten一次通过时长&NovaS4一次通过时长",
         "zeroline": true
        }
       }
      },
      "text/html": [
       "<div id=\"55a9673e-7ea2-48ec-97c5-3b7df4f0e4c7\" style=\"height: 525px; width: 100%;\" class=\"plotly-graph-div\"></div><script type=\"text/javascript\">require([\"plotly\"], function(Plotly) { window.PLOTLYENV=window.PLOTLYENV || {};window.PLOTLYENV.BASE_URL=\"https://plot.ly\";\n",
       "        Plotly.plot(\n",
       "            '55a9673e-7ea2-48ec-97c5-3b7df4f0e4c7',\n",
       "            [{\"name\": \"\\u4e00\\u6b21\\u901a\\u8fc7\\u5e73\\u5747\\u65f6\\u957f\", \"x\": [\"8-1\", \"8-2\", \"8-3\", \"8-4\", \"8-5\", \"9-1\", \"9-2\", \"9-3\"], \"y\": [11.95, 6.68, 3.81, 5.41, 3.11, 2.07, 6.43, 4.81], \"type\": \"scatter\", \"uid\": \"aef76b20-c15e-11e8-8539-a81e84e6c740\"}, {\"name\": \"xten\\u4e00\\u6b21\\u901a\\u8fc7\\u65f6\\u957f\", \"x\": [\"8-1\", \"8-2\", \"8-3\", \"8-4\", \"8-5\", \"9-1\", \"9-2\", \"9-3\"], \"y\": [5.74, 6.69, 3.34, 3.78, 2.97, 3.58, 4.77, 3.37], \"type\": \"scatter\", \"uid\": \"aef76e4a-c15e-11e8-8539-a81e84e6c740\"}, {\"name\": \"NovaS4\\u4e00\\u6b21\\u901a\\u8fc7\\u65f6\\u957f\", \"x\": [\"8-1\", \"8-2\", \"8-3\", \"8-4\", \"8-5\", \"9-1\", \"9-2\", \"9-3\"], \"y\": [13.29, 4.73, 10.54, 10.54, 0.0, 14.88, 9.9, 0.0], \"type\": \"scatter\", \"uid\": \"aef7708e-c15e-11e8-8539-a81e84e6c740\"}],\n",
       "            {\"title\": \"\\u4e00\\u6b21\\u901a\\u8fc7\\u5e73\\u5747\\u65f6\\u957f&xten\\u4e00\\u6b21\\u901a\\u8fc7\\u65f6\\u957f&NovaS4\\u4e00\\u6b21\\u901a\\u8fc7\\u65f6\\u957f\\u5468\\u8d8b\\u52bf\\u56fe\", \"xaxis\": {\"mirror\": \"all\", \"nticks\": 20, \"showgrid\": true, \"showline\": true, \"title\": \"\\u5468\", \"zeroline\": true}, \"yaxis\": {\"mirror\": \"all\", \"nticks\": 20, \"showgrid\": true, \"showline\": true, \"title\": \"\\u4e00\\u6b21\\u901a\\u8fc7\\u5e73\\u5747\\u65f6\\u957f&xten\\u4e00\\u6b21\\u901a\\u8fc7\\u65f6\\u957f&NovaS4\\u4e00\\u6b21\\u901a\\u8fc7\\u65f6\\u957f\", \"zeroline\": true}},\n",
       "            {\"showLink\": true, \"linkText\": \"Export to plot.ly\"}\n",
       "        ).then(function () {return Plotly.addFrames('55a9673e-7ea2-48ec-97c5-3b7df4f0e4c7',{});}).then(function(){Plotly.animate('55a9673e-7ea2-48ec-97c5-3b7df4f0e4c7');})\n",
       "        });</script>"
      ],
      "text/vnd.plotly.v1+html": [
       "<div id=\"55a9673e-7ea2-48ec-97c5-3b7df4f0e4c7\" style=\"height: 525px; width: 100%;\" class=\"plotly-graph-div\"></div><script type=\"text/javascript\">require([\"plotly\"], function(Plotly) { window.PLOTLYENV=window.PLOTLYENV || {};window.PLOTLYENV.BASE_URL=\"https://plot.ly\";\n",
       "        Plotly.plot(\n",
       "            '55a9673e-7ea2-48ec-97c5-3b7df4f0e4c7',\n",
       "            [{\"name\": \"\\u4e00\\u6b21\\u901a\\u8fc7\\u5e73\\u5747\\u65f6\\u957f\", \"x\": [\"8-1\", \"8-2\", \"8-3\", \"8-4\", \"8-5\", \"9-1\", \"9-2\", \"9-3\"], \"y\": [11.95, 6.68, 3.81, 5.41, 3.11, 2.07, 6.43, 4.81], \"type\": \"scatter\", \"uid\": \"aef76b20-c15e-11e8-8539-a81e84e6c740\"}, {\"name\": \"xten\\u4e00\\u6b21\\u901a\\u8fc7\\u65f6\\u957f\", \"x\": [\"8-1\", \"8-2\", \"8-3\", \"8-4\", \"8-5\", \"9-1\", \"9-2\", \"9-3\"], \"y\": [5.74, 6.69, 3.34, 3.78, 2.97, 3.58, 4.77, 3.37], \"type\": \"scatter\", \"uid\": \"aef76e4a-c15e-11e8-8539-a81e84e6c740\"}, {\"name\": \"NovaS4\\u4e00\\u6b21\\u901a\\u8fc7\\u65f6\\u957f\", \"x\": [\"8-1\", \"8-2\", \"8-3\", \"8-4\", \"8-5\", \"9-1\", \"9-2\", \"9-3\"], \"y\": [13.29, 4.73, 10.54, 10.54, 0.0, 14.88, 9.9, 0.0], \"type\": \"scatter\", \"uid\": \"aef7708e-c15e-11e8-8539-a81e84e6c740\"}],\n",
       "            {\"title\": \"\\u4e00\\u6b21\\u901a\\u8fc7\\u5e73\\u5747\\u65f6\\u957f&xten\\u4e00\\u6b21\\u901a\\u8fc7\\u65f6\\u957f&NovaS4\\u4e00\\u6b21\\u901a\\u8fc7\\u65f6\\u957f\\u5468\\u8d8b\\u52bf\\u56fe\", \"xaxis\": {\"mirror\": \"all\", \"nticks\": 20, \"showgrid\": true, \"showline\": true, \"title\": \"\\u5468\", \"zeroline\": true}, \"yaxis\": {\"mirror\": \"all\", \"nticks\": 20, \"showgrid\": true, \"showline\": true, \"title\": \"\\u4e00\\u6b21\\u901a\\u8fc7\\u5e73\\u5747\\u65f6\\u957f&xten\\u4e00\\u6b21\\u901a\\u8fc7\\u65f6\\u957f&NovaS4\\u4e00\\u6b21\\u901a\\u8fc7\\u65f6\\u957f\", \"zeroline\": true}},\n",
       "            {\"showLink\": true, \"linkText\": \"Export to plot.ly\"}\n",
       "        ).then(function () {return Plotly.addFrames('55a9673e-7ea2-48ec-97c5-3b7df4f0e4c7',{});}).then(function(){Plotly.animate('55a9673e-7ea2-48ec-97c5-3b7df4f0e4c7');})\n",
       "        });</script>"
      ]
     },
     "metadata": {},
     "output_type": "display_data"
    },
    {
     "data": {
      "application/vnd.plotly.v1+json": {
       "data": [
        {
         "name": "一次通过平均时长",
         "type": "scatter",
         "uid": "af03f93a-c15e-11e8-8539-a81e84e6c740",
         "x": [
          "8",
          "9"
         ],
         "y": [
          30.959999999999997,
          13.309999999999999
         ]
        },
        {
         "name": "xten一次通过时长",
         "type": "scatter",
         "uid": "af0402c2-c15e-11e8-8539-a81e84e6c740",
         "x": [
          "8",
          "9"
         ],
         "y": [
          22.52,
          11.719999999999999
         ]
        },
        {
         "name": "NovaS4一次通过时长",
         "type": "scatter",
         "uid": "af040a7e-c15e-11e8-8539-a81e84e6c740",
         "x": [
          "8",
          "9"
         ],
         "y": [
          39.099999999999994,
          24.78
         ]
        }
       ],
       "layout": {
        "title": "一次通过平均时长&xten一次通过时长&NovaS4一次通过时长月趋势图",
        "xaxis": {
         "mirror": "all",
         "nticks": 20,
         "showgrid": true,
         "showline": true,
         "title": "月",
         "zeroline": true
        },
        "yaxis": {
         "mirror": "all",
         "nticks": 20,
         "showgrid": true,
         "showline": true,
         "title": "一次通过平均时长&xten一次通过时长&NovaS4一次通过时长",
         "zeroline": true
        }
       }
      },
      "text/html": [
       "<div id=\"822b5d60-3a32-45aa-be17-6a082a069704\" style=\"height: 525px; width: 100%;\" class=\"plotly-graph-div\"></div><script type=\"text/javascript\">require([\"plotly\"], function(Plotly) { window.PLOTLYENV=window.PLOTLYENV || {};window.PLOTLYENV.BASE_URL=\"https://plot.ly\";\n",
       "        Plotly.plot(\n",
       "            '822b5d60-3a32-45aa-be17-6a082a069704',\n",
       "            [{\"name\": \"\\u4e00\\u6b21\\u901a\\u8fc7\\u5e73\\u5747\\u65f6\\u957f\", \"x\": [\"8\", \"9\"], \"y\": [30.959999999999997, 13.309999999999999], \"type\": \"scatter\", \"uid\": \"af03f93a-c15e-11e8-8539-a81e84e6c740\"}, {\"name\": \"xten\\u4e00\\u6b21\\u901a\\u8fc7\\u65f6\\u957f\", \"x\": [\"8\", \"9\"], \"y\": [22.52, 11.719999999999999], \"type\": \"scatter\", \"uid\": \"af0402c2-c15e-11e8-8539-a81e84e6c740\"}, {\"name\": \"NovaS4\\u4e00\\u6b21\\u901a\\u8fc7\\u65f6\\u957f\", \"x\": [\"8\", \"9\"], \"y\": [39.099999999999994, 24.78], \"type\": \"scatter\", \"uid\": \"af040a7e-c15e-11e8-8539-a81e84e6c740\"}],\n",
       "            {\"title\": \"\\u4e00\\u6b21\\u901a\\u8fc7\\u5e73\\u5747\\u65f6\\u957f&xten\\u4e00\\u6b21\\u901a\\u8fc7\\u65f6\\u957f&NovaS4\\u4e00\\u6b21\\u901a\\u8fc7\\u65f6\\u957f\\u6708\\u8d8b\\u52bf\\u56fe\", \"xaxis\": {\"mirror\": \"all\", \"nticks\": 20, \"showgrid\": true, \"showline\": true, \"title\": \"\\u6708\", \"zeroline\": true}, \"yaxis\": {\"mirror\": \"all\", \"nticks\": 20, \"showgrid\": true, \"showline\": true, \"title\": \"\\u4e00\\u6b21\\u901a\\u8fc7\\u5e73\\u5747\\u65f6\\u957f&xten\\u4e00\\u6b21\\u901a\\u8fc7\\u65f6\\u957f&NovaS4\\u4e00\\u6b21\\u901a\\u8fc7\\u65f6\\u957f\", \"zeroline\": true}},\n",
       "            {\"showLink\": true, \"linkText\": \"Export to plot.ly\"}\n",
       "        ).then(function () {return Plotly.addFrames('822b5d60-3a32-45aa-be17-6a082a069704',{});}).then(function(){Plotly.animate('822b5d60-3a32-45aa-be17-6a082a069704');})\n",
       "        });</script>"
      ],
      "text/vnd.plotly.v1+html": [
       "<div id=\"822b5d60-3a32-45aa-be17-6a082a069704\" style=\"height: 525px; width: 100%;\" class=\"plotly-graph-div\"></div><script type=\"text/javascript\">require([\"plotly\"], function(Plotly) { window.PLOTLYENV=window.PLOTLYENV || {};window.PLOTLYENV.BASE_URL=\"https://plot.ly\";\n",
       "        Plotly.plot(\n",
       "            '822b5d60-3a32-45aa-be17-6a082a069704',\n",
       "            [{\"name\": \"\\u4e00\\u6b21\\u901a\\u8fc7\\u5e73\\u5747\\u65f6\\u957f\", \"x\": [\"8\", \"9\"], \"y\": [30.959999999999997, 13.309999999999999], \"type\": \"scatter\", \"uid\": \"af03f93a-c15e-11e8-8539-a81e84e6c740\"}, {\"name\": \"xten\\u4e00\\u6b21\\u901a\\u8fc7\\u65f6\\u957f\", \"x\": [\"8\", \"9\"], \"y\": [22.52, 11.719999999999999], \"type\": \"scatter\", \"uid\": \"af0402c2-c15e-11e8-8539-a81e84e6c740\"}, {\"name\": \"NovaS4\\u4e00\\u6b21\\u901a\\u8fc7\\u65f6\\u957f\", \"x\": [\"8\", \"9\"], \"y\": [39.099999999999994, 24.78], \"type\": \"scatter\", \"uid\": \"af040a7e-c15e-11e8-8539-a81e84e6c740\"}],\n",
       "            {\"title\": \"\\u4e00\\u6b21\\u901a\\u8fc7\\u5e73\\u5747\\u65f6\\u957f&xten\\u4e00\\u6b21\\u901a\\u8fc7\\u65f6\\u957f&NovaS4\\u4e00\\u6b21\\u901a\\u8fc7\\u65f6\\u957f\\u6708\\u8d8b\\u52bf\\u56fe\", \"xaxis\": {\"mirror\": \"all\", \"nticks\": 20, \"showgrid\": true, \"showline\": true, \"title\": \"\\u6708\", \"zeroline\": true}, \"yaxis\": {\"mirror\": \"all\", \"nticks\": 20, \"showgrid\": true, \"showline\": true, \"title\": \"\\u4e00\\u6b21\\u901a\\u8fc7\\u5e73\\u5747\\u65f6\\u957f&xten\\u4e00\\u6b21\\u901a\\u8fc7\\u65f6\\u957f&NovaS4\\u4e00\\u6b21\\u901a\\u8fc7\\u65f6\\u957f\", \"zeroline\": true}},\n",
       "            {\"showLink\": true, \"linkText\": \"Export to plot.ly\"}\n",
       "        ).then(function () {return Plotly.addFrames('822b5d60-3a32-45aa-be17-6a082a069704',{});}).then(function(){Plotly.animate('822b5d60-3a32-45aa-be17-6a082a069704');})\n",
       "        });</script>"
      ]
     },
     "metadata": {},
     "output_type": "display_data"
    }
   ],
   "source": [
    "data_dict = {'一次通过平均时长':['一次通过平均时长'], 'xten一次通过时长':['xten一次通过时长'],\n",
    "             'NovaS4一次通过时长':['NovaS4一次通过时长']}\n",
    "myModule.plot( all_dict, data_dict, '人员' ,  'line' , all='all')"
   ]
  },
  {
   "cell_type": "markdown",
   "metadata": {},
   "source": [
    "### 异常"
   ]
  },
  {
   "cell_type": "markdown",
   "metadata": {},
   "source": [
    "#### 个性化拆分数"
   ]
  },
  {
   "cell_type": "code",
   "execution_count": 48,
   "metadata": {},
   "outputs": [
    {
     "data": {
      "application/vnd.plotly.v1+json": {
       "data": [
        {
         "name": "个性化拆分数",
         "type": "scatter",
         "uid": "af29031a-c15e-11e8-8539-a81e84e6c740",
         "x": [
          "8-1",
          "8-2",
          "8-3",
          "8-4",
          "8-5",
          "9-1",
          "9-2",
          "9-3"
         ],
         "y": [
          3,
          1,
          0,
          2,
          3,
          1,
          0,
          1
         ]
        }
       ],
       "layout": {
        "title": "个性化拆分数周趋势图",
        "xaxis": {
         "mirror": "all",
         "nticks": 20,
         "showgrid": true,
         "showline": true,
         "title": "周",
         "zeroline": true
        },
        "yaxis": {
         "mirror": "all",
         "nticks": 20,
         "showgrid": true,
         "showline": true,
         "title": "个性化拆分数",
         "zeroline": true
        }
       }
      },
      "text/html": [
       "<div id=\"dbe7bf18-0d7c-4bdc-9426-0aca0ae9e63b\" style=\"height: 525px; width: 100%;\" class=\"plotly-graph-div\"></div><script type=\"text/javascript\">require([\"plotly\"], function(Plotly) { window.PLOTLYENV=window.PLOTLYENV || {};window.PLOTLYENV.BASE_URL=\"https://plot.ly\";\n",
       "        Plotly.plot(\n",
       "            'dbe7bf18-0d7c-4bdc-9426-0aca0ae9e63b',\n",
       "            [{\"name\": \"\\u4e2a\\u6027\\u5316\\u62c6\\u5206\\u6570\", \"x\": [\"8-1\", \"8-2\", \"8-3\", \"8-4\", \"8-5\", \"9-1\", \"9-2\", \"9-3\"], \"y\": [3.0, 1.0, 0.0, 2.0, 3.0, 1.0, 0.0, 1.0], \"type\": \"scatter\", \"uid\": \"af29031a-c15e-11e8-8539-a81e84e6c740\"}],\n",
       "            {\"title\": \"\\u4e2a\\u6027\\u5316\\u62c6\\u5206\\u6570\\u5468\\u8d8b\\u52bf\\u56fe\", \"xaxis\": {\"mirror\": \"all\", \"nticks\": 20, \"showgrid\": true, \"showline\": true, \"title\": \"\\u5468\", \"zeroline\": true}, \"yaxis\": {\"mirror\": \"all\", \"nticks\": 20, \"showgrid\": true, \"showline\": true, \"title\": \"\\u4e2a\\u6027\\u5316\\u62c6\\u5206\\u6570\", \"zeroline\": true}},\n",
       "            {\"showLink\": true, \"linkText\": \"Export to plot.ly\"}\n",
       "        ).then(function () {return Plotly.addFrames('dbe7bf18-0d7c-4bdc-9426-0aca0ae9e63b',{});}).then(function(){Plotly.animate('dbe7bf18-0d7c-4bdc-9426-0aca0ae9e63b');})\n",
       "        });</script>"
      ],
      "text/vnd.plotly.v1+html": [
       "<div id=\"dbe7bf18-0d7c-4bdc-9426-0aca0ae9e63b\" style=\"height: 525px; width: 100%;\" class=\"plotly-graph-div\"></div><script type=\"text/javascript\">require([\"plotly\"], function(Plotly) { window.PLOTLYENV=window.PLOTLYENV || {};window.PLOTLYENV.BASE_URL=\"https://plot.ly\";\n",
       "        Plotly.plot(\n",
       "            'dbe7bf18-0d7c-4bdc-9426-0aca0ae9e63b',\n",
       "            [{\"name\": \"\\u4e2a\\u6027\\u5316\\u62c6\\u5206\\u6570\", \"x\": [\"8-1\", \"8-2\", \"8-3\", \"8-4\", \"8-5\", \"9-1\", \"9-2\", \"9-3\"], \"y\": [3.0, 1.0, 0.0, 2.0, 3.0, 1.0, 0.0, 1.0], \"type\": \"scatter\", \"uid\": \"af29031a-c15e-11e8-8539-a81e84e6c740\"}],\n",
       "            {\"title\": \"\\u4e2a\\u6027\\u5316\\u62c6\\u5206\\u6570\\u5468\\u8d8b\\u52bf\\u56fe\", \"xaxis\": {\"mirror\": \"all\", \"nticks\": 20, \"showgrid\": true, \"showline\": true, \"title\": \"\\u5468\", \"zeroline\": true}, \"yaxis\": {\"mirror\": \"all\", \"nticks\": 20, \"showgrid\": true, \"showline\": true, \"title\": \"\\u4e2a\\u6027\\u5316\\u62c6\\u5206\\u6570\", \"zeroline\": true}},\n",
       "            {\"showLink\": true, \"linkText\": \"Export to plot.ly\"}\n",
       "        ).then(function () {return Plotly.addFrames('dbe7bf18-0d7c-4bdc-9426-0aca0ae9e63b',{});}).then(function(){Plotly.animate('dbe7bf18-0d7c-4bdc-9426-0aca0ae9e63b');})\n",
       "        });</script>"
      ]
     },
     "metadata": {},
     "output_type": "display_data"
    },
    {
     "data": {
      "application/vnd.plotly.v1+json": {
       "data": [
        {
         "name": "个性化拆分数",
         "type": "scatter",
         "uid": "af31a0ec-c15e-11e8-8539-a81e84e6c740",
         "x": [
          "8",
          "9"
         ],
         "y": [
          9,
          2
         ]
        }
       ],
       "layout": {
        "title": "个性化拆分数月趋势图",
        "xaxis": {
         "mirror": "all",
         "nticks": 20,
         "showgrid": true,
         "showline": true,
         "title": "月",
         "zeroline": true
        },
        "yaxis": {
         "mirror": "all",
         "nticks": 20,
         "showgrid": true,
         "showline": true,
         "title": "个性化拆分数",
         "zeroline": true
        }
       }
      },
      "text/html": [
       "<div id=\"86440307-d6c0-46f2-b7f1-0ced5983c618\" style=\"height: 525px; width: 100%;\" class=\"plotly-graph-div\"></div><script type=\"text/javascript\">require([\"plotly\"], function(Plotly) { window.PLOTLYENV=window.PLOTLYENV || {};window.PLOTLYENV.BASE_URL=\"https://plot.ly\";\n",
       "        Plotly.plot(\n",
       "            '86440307-d6c0-46f2-b7f1-0ced5983c618',\n",
       "            [{\"name\": \"\\u4e2a\\u6027\\u5316\\u62c6\\u5206\\u6570\", \"x\": [\"8\", \"9\"], \"y\": [9.0, 2.0], \"type\": \"scatter\", \"uid\": \"af31a0ec-c15e-11e8-8539-a81e84e6c740\"}],\n",
       "            {\"title\": \"\\u4e2a\\u6027\\u5316\\u62c6\\u5206\\u6570\\u6708\\u8d8b\\u52bf\\u56fe\", \"xaxis\": {\"mirror\": \"all\", \"nticks\": 20, \"showgrid\": true, \"showline\": true, \"title\": \"\\u6708\", \"zeroline\": true}, \"yaxis\": {\"mirror\": \"all\", \"nticks\": 20, \"showgrid\": true, \"showline\": true, \"title\": \"\\u4e2a\\u6027\\u5316\\u62c6\\u5206\\u6570\", \"zeroline\": true}},\n",
       "            {\"showLink\": true, \"linkText\": \"Export to plot.ly\"}\n",
       "        ).then(function () {return Plotly.addFrames('86440307-d6c0-46f2-b7f1-0ced5983c618',{});}).then(function(){Plotly.animate('86440307-d6c0-46f2-b7f1-0ced5983c618');})\n",
       "        });</script>"
      ],
      "text/vnd.plotly.v1+html": [
       "<div id=\"86440307-d6c0-46f2-b7f1-0ced5983c618\" style=\"height: 525px; width: 100%;\" class=\"plotly-graph-div\"></div><script type=\"text/javascript\">require([\"plotly\"], function(Plotly) { window.PLOTLYENV=window.PLOTLYENV || {};window.PLOTLYENV.BASE_URL=\"https://plot.ly\";\n",
       "        Plotly.plot(\n",
       "            '86440307-d6c0-46f2-b7f1-0ced5983c618',\n",
       "            [{\"name\": \"\\u4e2a\\u6027\\u5316\\u62c6\\u5206\\u6570\", \"x\": [\"8\", \"9\"], \"y\": [9.0, 2.0], \"type\": \"scatter\", \"uid\": \"af31a0ec-c15e-11e8-8539-a81e84e6c740\"}],\n",
       "            {\"title\": \"\\u4e2a\\u6027\\u5316\\u62c6\\u5206\\u6570\\u6708\\u8d8b\\u52bf\\u56fe\", \"xaxis\": {\"mirror\": \"all\", \"nticks\": 20, \"showgrid\": true, \"showline\": true, \"title\": \"\\u6708\", \"zeroline\": true}, \"yaxis\": {\"mirror\": \"all\", \"nticks\": 20, \"showgrid\": true, \"showline\": true, \"title\": \"\\u4e2a\\u6027\\u5316\\u62c6\\u5206\\u6570\", \"zeroline\": true}},\n",
       "            {\"showLink\": true, \"linkText\": \"Export to plot.ly\"}\n",
       "        ).then(function () {return Plotly.addFrames('86440307-d6c0-46f2-b7f1-0ced5983c618',{});}).then(function(){Plotly.animate('86440307-d6c0-46f2-b7f1-0ced5983c618');})\n",
       "        });</script>"
      ]
     },
     "metadata": {},
     "output_type": "display_data"
    }
   ],
   "source": [
    "data_dict = {'个性化拆分数':['个性化拆分数']}\n",
    "myModule.plot( all_dict, data_dict, '人员' ,  'line' , all='all')"
   ]
  },
  {
   "cell_type": "markdown",
   "metadata": {},
   "source": [
    "####  测序异常，外来index错误，自建库index错误，lims系统错误"
   ]
  },
  {
   "cell_type": "code",
   "execution_count": 49,
   "metadata": {},
   "outputs": [
    {
     "data": {
      "application/vnd.plotly.v1+json": {
       "data": [
        {
         "name": "测序异常",
         "type": "scatter",
         "uid": "af6422b0-c15e-11e8-8539-a81e84e6c740",
         "x": [
          "8-1",
          "8-2",
          "8-3",
          "8-4",
          "8-5",
          "9-1",
          "9-2",
          "9-3"
         ],
         "y": [
          10,
          17,
          19,
          12,
          11,
          10,
          6,
          10
         ]
        },
        {
         "name": "外来Index错误",
         "type": "scatter",
         "uid": "af6428aa-c15e-11e8-8539-a81e84e6c740",
         "x": [
          "8-1",
          "8-2",
          "8-3",
          "8-4",
          "8-5",
          "9-1",
          "9-2",
          "9-3"
         ],
         "y": [
          2,
          8,
          4,
          4,
          2,
          8,
          3,
          11
         ]
        },
        {
         "name": "自建库Index错误",
         "type": "scatter",
         "uid": "af642c4c-c15e-11e8-8539-a81e84e6c740",
         "x": [
          "8-1",
          "8-2",
          "8-3",
          "8-4",
          "8-5",
          "9-1",
          "9-2",
          "9-3"
         ],
         "y": [
          0,
          2,
          0,
          2,
          2,
          1,
          0,
          0
         ]
        },
        {
         "name": "lims系统错误",
         "type": "scatter",
         "uid": "af642eea-c15e-11e8-8539-a81e84e6c740",
         "x": [
          "8-1",
          "8-2",
          "8-3",
          "8-4",
          "8-5",
          "9-1",
          "9-2",
          "9-3"
         ],
         "y": [
          2,
          3,
          0,
          0,
          1,
          0,
          0,
          3
         ]
        }
       ],
       "layout": {
        "title": "测序异常&外来Index错误&自建库Index错误&lims系统错误周趋势图",
        "xaxis": {
         "mirror": "all",
         "nticks": 20,
         "showgrid": true,
         "showline": true,
         "title": "周",
         "zeroline": true
        },
        "yaxis": {
         "mirror": "all",
         "nticks": 20,
         "showgrid": true,
         "showline": true,
         "title": "测序异常&外来Index错误&自建库Index错误&lims系统错误",
         "zeroline": true
        }
       }
      },
      "text/html": [
       "<div id=\"f8402ef9-a544-45ba-9766-ffebf63b0528\" style=\"height: 525px; width: 100%;\" class=\"plotly-graph-div\"></div><script type=\"text/javascript\">require([\"plotly\"], function(Plotly) { window.PLOTLYENV=window.PLOTLYENV || {};window.PLOTLYENV.BASE_URL=\"https://plot.ly\";\n",
       "        Plotly.plot(\n",
       "            'f8402ef9-a544-45ba-9766-ffebf63b0528',\n",
       "            [{\"name\": \"\\u6d4b\\u5e8f\\u5f02\\u5e38\", \"x\": [\"8-1\", \"8-2\", \"8-3\", \"8-4\", \"8-5\", \"9-1\", \"9-2\", \"9-3\"], \"y\": [10.0, 17.0, 19.0, 12.0, 11.0, 10.0, 6.0, 10.0], \"type\": \"scatter\", \"uid\": \"af6422b0-c15e-11e8-8539-a81e84e6c740\"}, {\"name\": \"\\u5916\\u6765Index\\u9519\\u8bef\", \"x\": [\"8-1\", \"8-2\", \"8-3\", \"8-4\", \"8-5\", \"9-1\", \"9-2\", \"9-3\"], \"y\": [2.0, 8.0, 4.0, 4.0, 2.0, 8.0, 3.0, 11.0], \"type\": \"scatter\", \"uid\": \"af6428aa-c15e-11e8-8539-a81e84e6c740\"}, {\"name\": \"\\u81ea\\u5efa\\u5e93Index\\u9519\\u8bef\", \"x\": [\"8-1\", \"8-2\", \"8-3\", \"8-4\", \"8-5\", \"9-1\", \"9-2\", \"9-3\"], \"y\": [0.0, 2.0, 0.0, 2.0, 2.0, 1.0, 0.0, 0.0], \"type\": \"scatter\", \"uid\": \"af642c4c-c15e-11e8-8539-a81e84e6c740\"}, {\"name\": \"lims\\u7cfb\\u7edf\\u9519\\u8bef\", \"x\": [\"8-1\", \"8-2\", \"8-3\", \"8-4\", \"8-5\", \"9-1\", \"9-2\", \"9-3\"], \"y\": [2.0, 3.0, 0.0, 0.0, 1.0, 0.0, 0.0, 3.0], \"type\": \"scatter\", \"uid\": \"af642eea-c15e-11e8-8539-a81e84e6c740\"}],\n",
       "            {\"title\": \"\\u6d4b\\u5e8f\\u5f02\\u5e38&\\u5916\\u6765Index\\u9519\\u8bef&\\u81ea\\u5efa\\u5e93Index\\u9519\\u8bef&lims\\u7cfb\\u7edf\\u9519\\u8bef\\u5468\\u8d8b\\u52bf\\u56fe\", \"xaxis\": {\"mirror\": \"all\", \"nticks\": 20, \"showgrid\": true, \"showline\": true, \"title\": \"\\u5468\", \"zeroline\": true}, \"yaxis\": {\"mirror\": \"all\", \"nticks\": 20, \"showgrid\": true, \"showline\": true, \"title\": \"\\u6d4b\\u5e8f\\u5f02\\u5e38&\\u5916\\u6765Index\\u9519\\u8bef&\\u81ea\\u5efa\\u5e93Index\\u9519\\u8bef&lims\\u7cfb\\u7edf\\u9519\\u8bef\", \"zeroline\": true}},\n",
       "            {\"showLink\": true, \"linkText\": \"Export to plot.ly\"}\n",
       "        ).then(function () {return Plotly.addFrames('f8402ef9-a544-45ba-9766-ffebf63b0528',{});}).then(function(){Plotly.animate('f8402ef9-a544-45ba-9766-ffebf63b0528');})\n",
       "        });</script>"
      ],
      "text/vnd.plotly.v1+html": [
       "<div id=\"f8402ef9-a544-45ba-9766-ffebf63b0528\" style=\"height: 525px; width: 100%;\" class=\"plotly-graph-div\"></div><script type=\"text/javascript\">require([\"plotly\"], function(Plotly) { window.PLOTLYENV=window.PLOTLYENV || {};window.PLOTLYENV.BASE_URL=\"https://plot.ly\";\n",
       "        Plotly.plot(\n",
       "            'f8402ef9-a544-45ba-9766-ffebf63b0528',\n",
       "            [{\"name\": \"\\u6d4b\\u5e8f\\u5f02\\u5e38\", \"x\": [\"8-1\", \"8-2\", \"8-3\", \"8-4\", \"8-5\", \"9-1\", \"9-2\", \"9-3\"], \"y\": [10.0, 17.0, 19.0, 12.0, 11.0, 10.0, 6.0, 10.0], \"type\": \"scatter\", \"uid\": \"af6422b0-c15e-11e8-8539-a81e84e6c740\"}, {\"name\": \"\\u5916\\u6765Index\\u9519\\u8bef\", \"x\": [\"8-1\", \"8-2\", \"8-3\", \"8-4\", \"8-5\", \"9-1\", \"9-2\", \"9-3\"], \"y\": [2.0, 8.0, 4.0, 4.0, 2.0, 8.0, 3.0, 11.0], \"type\": \"scatter\", \"uid\": \"af6428aa-c15e-11e8-8539-a81e84e6c740\"}, {\"name\": \"\\u81ea\\u5efa\\u5e93Index\\u9519\\u8bef\", \"x\": [\"8-1\", \"8-2\", \"8-3\", \"8-4\", \"8-5\", \"9-1\", \"9-2\", \"9-3\"], \"y\": [0.0, 2.0, 0.0, 2.0, 2.0, 1.0, 0.0, 0.0], \"type\": \"scatter\", \"uid\": \"af642c4c-c15e-11e8-8539-a81e84e6c740\"}, {\"name\": \"lims\\u7cfb\\u7edf\\u9519\\u8bef\", \"x\": [\"8-1\", \"8-2\", \"8-3\", \"8-4\", \"8-5\", \"9-1\", \"9-2\", \"9-3\"], \"y\": [2.0, 3.0, 0.0, 0.0, 1.0, 0.0, 0.0, 3.0], \"type\": \"scatter\", \"uid\": \"af642eea-c15e-11e8-8539-a81e84e6c740\"}],\n",
       "            {\"title\": \"\\u6d4b\\u5e8f\\u5f02\\u5e38&\\u5916\\u6765Index\\u9519\\u8bef&\\u81ea\\u5efa\\u5e93Index\\u9519\\u8bef&lims\\u7cfb\\u7edf\\u9519\\u8bef\\u5468\\u8d8b\\u52bf\\u56fe\", \"xaxis\": {\"mirror\": \"all\", \"nticks\": 20, \"showgrid\": true, \"showline\": true, \"title\": \"\\u5468\", \"zeroline\": true}, \"yaxis\": {\"mirror\": \"all\", \"nticks\": 20, \"showgrid\": true, \"showline\": true, \"title\": \"\\u6d4b\\u5e8f\\u5f02\\u5e38&\\u5916\\u6765Index\\u9519\\u8bef&\\u81ea\\u5efa\\u5e93Index\\u9519\\u8bef&lims\\u7cfb\\u7edf\\u9519\\u8bef\", \"zeroline\": true}},\n",
       "            {\"showLink\": true, \"linkText\": \"Export to plot.ly\"}\n",
       "        ).then(function () {return Plotly.addFrames('f8402ef9-a544-45ba-9766-ffebf63b0528',{});}).then(function(){Plotly.animate('f8402ef9-a544-45ba-9766-ffebf63b0528');})\n",
       "        });</script>"
      ]
     },
     "metadata": {},
     "output_type": "display_data"
    },
    {
     "data": {
      "application/vnd.plotly.v1+json": {
       "data": [
        {
         "name": "测序异常",
         "type": "scatter",
         "uid": "af76a728-c15e-11e8-8539-a81e84e6c740",
         "x": [
          "8",
          "9"
         ],
         "y": [
          69,
          26
         ]
        },
        {
         "name": "外来Index错误",
         "type": "scatter",
         "uid": "af76aa34-c15e-11e8-8539-a81e84e6c740",
         "x": [
          "8",
          "9"
         ],
         "y": [
          20,
          22
         ]
        },
        {
         "name": "自建库Index错误",
         "type": "scatter",
         "uid": "af76ac78-c15e-11e8-8539-a81e84e6c740",
         "x": [
          "8",
          "9"
         ],
         "y": [
          6,
          1
         ]
        },
        {
         "name": "lims系统错误",
         "type": "scatter",
         "uid": "af76ae8a-c15e-11e8-8539-a81e84e6c740",
         "x": [
          "8",
          "9"
         ],
         "y": [
          6,
          3
         ]
        }
       ],
       "layout": {
        "title": "测序异常&外来Index错误&自建库Index错误&lims系统错误月趋势图",
        "xaxis": {
         "mirror": "all",
         "nticks": 20,
         "showgrid": true,
         "showline": true,
         "title": "月",
         "zeroline": true
        },
        "yaxis": {
         "mirror": "all",
         "nticks": 20,
         "showgrid": true,
         "showline": true,
         "title": "测序异常&外来Index错误&自建库Index错误&lims系统错误",
         "zeroline": true
        }
       }
      },
      "text/html": [
       "<div id=\"01cb1f3c-e60e-4ec2-bf7e-7085283658e1\" style=\"height: 525px; width: 100%;\" class=\"plotly-graph-div\"></div><script type=\"text/javascript\">require([\"plotly\"], function(Plotly) { window.PLOTLYENV=window.PLOTLYENV || {};window.PLOTLYENV.BASE_URL=\"https://plot.ly\";\n",
       "        Plotly.plot(\n",
       "            '01cb1f3c-e60e-4ec2-bf7e-7085283658e1',\n",
       "            [{\"name\": \"\\u6d4b\\u5e8f\\u5f02\\u5e38\", \"x\": [\"8\", \"9\"], \"y\": [69.0, 26.0], \"type\": \"scatter\", \"uid\": \"af76a728-c15e-11e8-8539-a81e84e6c740\"}, {\"name\": \"\\u5916\\u6765Index\\u9519\\u8bef\", \"x\": [\"8\", \"9\"], \"y\": [20.0, 22.0], \"type\": \"scatter\", \"uid\": \"af76aa34-c15e-11e8-8539-a81e84e6c740\"}, {\"name\": \"\\u81ea\\u5efa\\u5e93Index\\u9519\\u8bef\", \"x\": [\"8\", \"9\"], \"y\": [6.0, 1.0], \"type\": \"scatter\", \"uid\": \"af76ac78-c15e-11e8-8539-a81e84e6c740\"}, {\"name\": \"lims\\u7cfb\\u7edf\\u9519\\u8bef\", \"x\": [\"8\", \"9\"], \"y\": [6.0, 3.0], \"type\": \"scatter\", \"uid\": \"af76ae8a-c15e-11e8-8539-a81e84e6c740\"}],\n",
       "            {\"title\": \"\\u6d4b\\u5e8f\\u5f02\\u5e38&\\u5916\\u6765Index\\u9519\\u8bef&\\u81ea\\u5efa\\u5e93Index\\u9519\\u8bef&lims\\u7cfb\\u7edf\\u9519\\u8bef\\u6708\\u8d8b\\u52bf\\u56fe\", \"xaxis\": {\"mirror\": \"all\", \"nticks\": 20, \"showgrid\": true, \"showline\": true, \"title\": \"\\u6708\", \"zeroline\": true}, \"yaxis\": {\"mirror\": \"all\", \"nticks\": 20, \"showgrid\": true, \"showline\": true, \"title\": \"\\u6d4b\\u5e8f\\u5f02\\u5e38&\\u5916\\u6765Index\\u9519\\u8bef&\\u81ea\\u5efa\\u5e93Index\\u9519\\u8bef&lims\\u7cfb\\u7edf\\u9519\\u8bef\", \"zeroline\": true}},\n",
       "            {\"showLink\": true, \"linkText\": \"Export to plot.ly\"}\n",
       "        ).then(function () {return Plotly.addFrames('01cb1f3c-e60e-4ec2-bf7e-7085283658e1',{});}).then(function(){Plotly.animate('01cb1f3c-e60e-4ec2-bf7e-7085283658e1');})\n",
       "        });</script>"
      ],
      "text/vnd.plotly.v1+html": [
       "<div id=\"01cb1f3c-e60e-4ec2-bf7e-7085283658e1\" style=\"height: 525px; width: 100%;\" class=\"plotly-graph-div\"></div><script type=\"text/javascript\">require([\"plotly\"], function(Plotly) { window.PLOTLYENV=window.PLOTLYENV || {};window.PLOTLYENV.BASE_URL=\"https://plot.ly\";\n",
       "        Plotly.plot(\n",
       "            '01cb1f3c-e60e-4ec2-bf7e-7085283658e1',\n",
       "            [{\"name\": \"\\u6d4b\\u5e8f\\u5f02\\u5e38\", \"x\": [\"8\", \"9\"], \"y\": [69.0, 26.0], \"type\": \"scatter\", \"uid\": \"af76a728-c15e-11e8-8539-a81e84e6c740\"}, {\"name\": \"\\u5916\\u6765Index\\u9519\\u8bef\", \"x\": [\"8\", \"9\"], \"y\": [20.0, 22.0], \"type\": \"scatter\", \"uid\": \"af76aa34-c15e-11e8-8539-a81e84e6c740\"}, {\"name\": \"\\u81ea\\u5efa\\u5e93Index\\u9519\\u8bef\", \"x\": [\"8\", \"9\"], \"y\": [6.0, 1.0], \"type\": \"scatter\", \"uid\": \"af76ac78-c15e-11e8-8539-a81e84e6c740\"}, {\"name\": \"lims\\u7cfb\\u7edf\\u9519\\u8bef\", \"x\": [\"8\", \"9\"], \"y\": [6.0, 3.0], \"type\": \"scatter\", \"uid\": \"af76ae8a-c15e-11e8-8539-a81e84e6c740\"}],\n",
       "            {\"title\": \"\\u6d4b\\u5e8f\\u5f02\\u5e38&\\u5916\\u6765Index\\u9519\\u8bef&\\u81ea\\u5efa\\u5e93Index\\u9519\\u8bef&lims\\u7cfb\\u7edf\\u9519\\u8bef\\u6708\\u8d8b\\u52bf\\u56fe\", \"xaxis\": {\"mirror\": \"all\", \"nticks\": 20, \"showgrid\": true, \"showline\": true, \"title\": \"\\u6708\", \"zeroline\": true}, \"yaxis\": {\"mirror\": \"all\", \"nticks\": 20, \"showgrid\": true, \"showline\": true, \"title\": \"\\u6d4b\\u5e8f\\u5f02\\u5e38&\\u5916\\u6765Index\\u9519\\u8bef&\\u81ea\\u5efa\\u5e93Index\\u9519\\u8bef&lims\\u7cfb\\u7edf\\u9519\\u8bef\", \"zeroline\": true}},\n",
       "            {\"showLink\": true, \"linkText\": \"Export to plot.ly\"}\n",
       "        ).then(function () {return Plotly.addFrames('01cb1f3c-e60e-4ec2-bf7e-7085283658e1',{});}).then(function(){Plotly.animate('01cb1f3c-e60e-4ec2-bf7e-7085283658e1');})\n",
       "        });</script>"
      ]
     },
     "metadata": {},
     "output_type": "display_data"
    }
   ],
   "source": [
    "data_dict = {'测序异常':['测序异常'], '外来Index错误':['外来Index错误'], '自建库Index错误':['自建库Index错误'], \n",
    "             'lims系统错误':['lims系统错误']}\n",
    "myModule.plot( all_dict, data_dict, '人员' ,  'line' , all='all')"
   ]
  },
  {
   "cell_type": "markdown",
   "metadata": {},
   "source": [
    "#### 拆分流程异常数，延期处理"
   ]
  },
  {
   "cell_type": "code",
   "execution_count": 50,
   "metadata": {},
   "outputs": [
    {
     "data": {
      "application/vnd.plotly.v1+json": {
       "data": [
        {
         "name": "拆分流程异常数",
         "type": "scatter",
         "uid": "afb66084-c15e-11e8-8539-a81e84e6c740",
         "x": [
          "8-1",
          "8-2",
          "8-3",
          "8-4",
          "8-5",
          "9-1",
          "9-2",
          "9-3"
         ],
         "y": [
          2,
          0,
          1,
          0,
          4,
          2,
          0,
          0
         ]
        },
        {
         "name": "处理延期",
         "type": "scatter",
         "uid": "afb669ee-c15e-11e8-8539-a81e84e6c740",
         "x": [
          "8-1",
          "8-2",
          "8-3",
          "8-4",
          "8-5",
          "9-1",
          "9-2",
          "9-3"
         ],
         "y": [
          0,
          0,
          0,
          0,
          0,
          0,
          0,
          0
         ]
        }
       ],
       "layout": {
        "title": "拆分流程异常数&处理延期周趋势图",
        "xaxis": {
         "mirror": "all",
         "nticks": 20,
         "showgrid": true,
         "showline": true,
         "title": "周",
         "zeroline": true
        },
        "yaxis": {
         "mirror": "all",
         "nticks": 20,
         "showgrid": true,
         "showline": true,
         "title": "拆分流程异常数&处理延期",
         "zeroline": true
        }
       }
      },
      "text/html": [
       "<div id=\"eae5bffe-14cb-442c-93fe-fa41e8f0aa1c\" style=\"height: 525px; width: 100%;\" class=\"plotly-graph-div\"></div><script type=\"text/javascript\">require([\"plotly\"], function(Plotly) { window.PLOTLYENV=window.PLOTLYENV || {};window.PLOTLYENV.BASE_URL=\"https://plot.ly\";\n",
       "        Plotly.plot(\n",
       "            'eae5bffe-14cb-442c-93fe-fa41e8f0aa1c',\n",
       "            [{\"name\": \"\\u62c6\\u5206\\u6d41\\u7a0b\\u5f02\\u5e38\\u6570\", \"x\": [\"8-1\", \"8-2\", \"8-3\", \"8-4\", \"8-5\", \"9-1\", \"9-2\", \"9-3\"], \"y\": [2.0, 0.0, 1.0, 0.0, 4.0, 2.0, 0.0, 0.0], \"type\": \"scatter\", \"uid\": \"afb66084-c15e-11e8-8539-a81e84e6c740\"}, {\"name\": \"\\u5904\\u7406\\u5ef6\\u671f\", \"x\": [\"8-1\", \"8-2\", \"8-3\", \"8-4\", \"8-5\", \"9-1\", \"9-2\", \"9-3\"], \"y\": [0.0, 0.0, 0.0, 0.0, 0.0, 0.0, 0.0, 0.0], \"type\": \"scatter\", \"uid\": \"afb669ee-c15e-11e8-8539-a81e84e6c740\"}],\n",
       "            {\"title\": \"\\u62c6\\u5206\\u6d41\\u7a0b\\u5f02\\u5e38\\u6570&\\u5904\\u7406\\u5ef6\\u671f\\u5468\\u8d8b\\u52bf\\u56fe\", \"xaxis\": {\"mirror\": \"all\", \"nticks\": 20, \"showgrid\": true, \"showline\": true, \"title\": \"\\u5468\", \"zeroline\": true}, \"yaxis\": {\"mirror\": \"all\", \"nticks\": 20, \"showgrid\": true, \"showline\": true, \"title\": \"\\u62c6\\u5206\\u6d41\\u7a0b\\u5f02\\u5e38\\u6570&\\u5904\\u7406\\u5ef6\\u671f\", \"zeroline\": true}},\n",
       "            {\"showLink\": true, \"linkText\": \"Export to plot.ly\"}\n",
       "        ).then(function () {return Plotly.addFrames('eae5bffe-14cb-442c-93fe-fa41e8f0aa1c',{});}).then(function(){Plotly.animate('eae5bffe-14cb-442c-93fe-fa41e8f0aa1c');})\n",
       "        });</script>"
      ],
      "text/vnd.plotly.v1+html": [
       "<div id=\"eae5bffe-14cb-442c-93fe-fa41e8f0aa1c\" style=\"height: 525px; width: 100%;\" class=\"plotly-graph-div\"></div><script type=\"text/javascript\">require([\"plotly\"], function(Plotly) { window.PLOTLYENV=window.PLOTLYENV || {};window.PLOTLYENV.BASE_URL=\"https://plot.ly\";\n",
       "        Plotly.plot(\n",
       "            'eae5bffe-14cb-442c-93fe-fa41e8f0aa1c',\n",
       "            [{\"name\": \"\\u62c6\\u5206\\u6d41\\u7a0b\\u5f02\\u5e38\\u6570\", \"x\": [\"8-1\", \"8-2\", \"8-3\", \"8-4\", \"8-5\", \"9-1\", \"9-2\", \"9-3\"], \"y\": [2.0, 0.0, 1.0, 0.0, 4.0, 2.0, 0.0, 0.0], \"type\": \"scatter\", \"uid\": \"afb66084-c15e-11e8-8539-a81e84e6c740\"}, {\"name\": \"\\u5904\\u7406\\u5ef6\\u671f\", \"x\": [\"8-1\", \"8-2\", \"8-3\", \"8-4\", \"8-5\", \"9-1\", \"9-2\", \"9-3\"], \"y\": [0.0, 0.0, 0.0, 0.0, 0.0, 0.0, 0.0, 0.0], \"type\": \"scatter\", \"uid\": \"afb669ee-c15e-11e8-8539-a81e84e6c740\"}],\n",
       "            {\"title\": \"\\u62c6\\u5206\\u6d41\\u7a0b\\u5f02\\u5e38\\u6570&\\u5904\\u7406\\u5ef6\\u671f\\u5468\\u8d8b\\u52bf\\u56fe\", \"xaxis\": {\"mirror\": \"all\", \"nticks\": 20, \"showgrid\": true, \"showline\": true, \"title\": \"\\u5468\", \"zeroline\": true}, \"yaxis\": {\"mirror\": \"all\", \"nticks\": 20, \"showgrid\": true, \"showline\": true, \"title\": \"\\u62c6\\u5206\\u6d41\\u7a0b\\u5f02\\u5e38\\u6570&\\u5904\\u7406\\u5ef6\\u671f\", \"zeroline\": true}},\n",
       "            {\"showLink\": true, \"linkText\": \"Export to plot.ly\"}\n",
       "        ).then(function () {return Plotly.addFrames('eae5bffe-14cb-442c-93fe-fa41e8f0aa1c',{});}).then(function(){Plotly.animate('eae5bffe-14cb-442c-93fe-fa41e8f0aa1c');})\n",
       "        });</script>"
      ]
     },
     "metadata": {},
     "output_type": "display_data"
    },
    {
     "data": {
      "application/vnd.plotly.v1+json": {
       "data": [
        {
         "name": "拆分流程异常数",
         "type": "scatter",
         "uid": "afc60066-c15e-11e8-8539-a81e84e6c740",
         "x": [
          "8",
          "9"
         ],
         "y": [
          7,
          2
         ]
        },
        {
         "name": "处理延期",
         "type": "scatter",
         "uid": "afc608a4-c15e-11e8-8539-a81e84e6c740",
         "x": [
          "8",
          "9"
         ],
         "y": [
          0,
          0
         ]
        }
       ],
       "layout": {
        "title": "拆分流程异常数&处理延期月趋势图",
        "xaxis": {
         "mirror": "all",
         "nticks": 20,
         "showgrid": true,
         "showline": true,
         "title": "月",
         "zeroline": true
        },
        "yaxis": {
         "mirror": "all",
         "nticks": 20,
         "showgrid": true,
         "showline": true,
         "title": "拆分流程异常数&处理延期",
         "zeroline": true
        }
       }
      },
      "text/html": [
       "<div id=\"33f81805-ff1d-4d55-8982-d03f58623c9e\" style=\"height: 525px; width: 100%;\" class=\"plotly-graph-div\"></div><script type=\"text/javascript\">require([\"plotly\"], function(Plotly) { window.PLOTLYENV=window.PLOTLYENV || {};window.PLOTLYENV.BASE_URL=\"https://plot.ly\";\n",
       "        Plotly.plot(\n",
       "            '33f81805-ff1d-4d55-8982-d03f58623c9e',\n",
       "            [{\"name\": \"\\u62c6\\u5206\\u6d41\\u7a0b\\u5f02\\u5e38\\u6570\", \"x\": [\"8\", \"9\"], \"y\": [7.0, 2.0], \"type\": \"scatter\", \"uid\": \"afc60066-c15e-11e8-8539-a81e84e6c740\"}, {\"name\": \"\\u5904\\u7406\\u5ef6\\u671f\", \"x\": [\"8\", \"9\"], \"y\": [0.0, 0.0], \"type\": \"scatter\", \"uid\": \"afc608a4-c15e-11e8-8539-a81e84e6c740\"}],\n",
       "            {\"title\": \"\\u62c6\\u5206\\u6d41\\u7a0b\\u5f02\\u5e38\\u6570&\\u5904\\u7406\\u5ef6\\u671f\\u6708\\u8d8b\\u52bf\\u56fe\", \"xaxis\": {\"mirror\": \"all\", \"nticks\": 20, \"showgrid\": true, \"showline\": true, \"title\": \"\\u6708\", \"zeroline\": true}, \"yaxis\": {\"mirror\": \"all\", \"nticks\": 20, \"showgrid\": true, \"showline\": true, \"title\": \"\\u62c6\\u5206\\u6d41\\u7a0b\\u5f02\\u5e38\\u6570&\\u5904\\u7406\\u5ef6\\u671f\", \"zeroline\": true}},\n",
       "            {\"showLink\": true, \"linkText\": \"Export to plot.ly\"}\n",
       "        ).then(function () {return Plotly.addFrames('33f81805-ff1d-4d55-8982-d03f58623c9e',{});}).then(function(){Plotly.animate('33f81805-ff1d-4d55-8982-d03f58623c9e');})\n",
       "        });</script>"
      ],
      "text/vnd.plotly.v1+html": [
       "<div id=\"33f81805-ff1d-4d55-8982-d03f58623c9e\" style=\"height: 525px; width: 100%;\" class=\"plotly-graph-div\"></div><script type=\"text/javascript\">require([\"plotly\"], function(Plotly) { window.PLOTLYENV=window.PLOTLYENV || {};window.PLOTLYENV.BASE_URL=\"https://plot.ly\";\n",
       "        Plotly.plot(\n",
       "            '33f81805-ff1d-4d55-8982-d03f58623c9e',\n",
       "            [{\"name\": \"\\u62c6\\u5206\\u6d41\\u7a0b\\u5f02\\u5e38\\u6570\", \"x\": [\"8\", \"9\"], \"y\": [7.0, 2.0], \"type\": \"scatter\", \"uid\": \"afc60066-c15e-11e8-8539-a81e84e6c740\"}, {\"name\": \"\\u5904\\u7406\\u5ef6\\u671f\", \"x\": [\"8\", \"9\"], \"y\": [0.0, 0.0], \"type\": \"scatter\", \"uid\": \"afc608a4-c15e-11e8-8539-a81e84e6c740\"}],\n",
       "            {\"title\": \"\\u62c6\\u5206\\u6d41\\u7a0b\\u5f02\\u5e38\\u6570&\\u5904\\u7406\\u5ef6\\u671f\\u6708\\u8d8b\\u52bf\\u56fe\", \"xaxis\": {\"mirror\": \"all\", \"nticks\": 20, \"showgrid\": true, \"showline\": true, \"title\": \"\\u6708\", \"zeroline\": true}, \"yaxis\": {\"mirror\": \"all\", \"nticks\": 20, \"showgrid\": true, \"showline\": true, \"title\": \"\\u62c6\\u5206\\u6d41\\u7a0b\\u5f02\\u5e38\\u6570&\\u5904\\u7406\\u5ef6\\u671f\", \"zeroline\": true}},\n",
       "            {\"showLink\": true, \"linkText\": \"Export to plot.ly\"}\n",
       "        ).then(function () {return Plotly.addFrames('33f81805-ff1d-4d55-8982-d03f58623c9e',{});}).then(function(){Plotly.animate('33f81805-ff1d-4d55-8982-d03f58623c9e');})\n",
       "        });</script>"
      ]
     },
     "metadata": {},
     "output_type": "display_data"
    }
   ],
   "source": [
    "data_dict = {'拆分流程异常数':['拆分流程异常数'], '处理延期':['处理延期']}\n",
    "myModule.plot( all_dict, data_dict, '人员' ,  'line' , all='all')"
   ]
  },
  {
   "cell_type": "code",
   "execution_count": 51,
   "metadata": {},
   "outputs": [],
   "source": [
    "all_files , title = myModule.get_title(pathway , 0 ) ##给路径\n",
    "all_dict = myModule.read_xlsx(all_files, 0 ) ## read all files"
   ]
  },
  {
   "cell_type": "markdown",
   "metadata": {},
   "source": [
    "# 过滤项目个人情况"
   ]
  },
  {
   "cell_type": "markdown",
   "metadata": {},
   "source": [
    "## 产能"
   ]
  },
  {
   "cell_type": "markdown",
   "metadata": {},
   "source": [
    "### 下机批次和下机项目"
   ]
  },
  {
   "cell_type": "code",
   "execution_count": 52,
   "metadata": {
    "scrolled": false
   },
   "outputs": [
    {
     "data": {
      "application/vnd.plotly.v1+json": {
       "data": [
        {
         "name": "冷雪",
         "type": "bar",
         "uid": "b04b9014-c15e-11e8-8539-a81e84e6c740",
         "x": [
          "8-1",
          "8-2",
          "8-3",
          "8-4",
          "8-5",
          "9-1",
          "9-2",
          "9-3"
         ],
         "y": [
          38,
          58,
          66,
          28,
          5,
          58,
          76,
          115
         ]
        },
        {
         "name": "张悦",
         "type": "bar",
         "uid": "b04ba32e-c15e-11e8-8539-a81e84e6c740",
         "x": [
          "8-1",
          "8-2",
          "8-3",
          "8-4",
          "8-5",
          "9-1",
          "9-2",
          "9-3"
         ],
         "y": [
          2,
          2,
          1,
          1,
          7,
          4,
          0,
          0
         ]
        },
        {
         "name": "屈昂",
         "type": "bar",
         "uid": "b04bbda0-c15e-11e8-8539-a81e84e6c740",
         "x": [
          "8-1",
          "8-2",
          "8-3",
          "8-4",
          "8-5",
          "9-1",
          "9-2",
          "9-3"
         ],
         "y": [
          42,
          74,
          75,
          119,
          85,
          135,
          45,
          21
         ]
        },
        {
         "name": "卢楠",
         "type": "bar",
         "uid": "b04bcc28-c15e-11e8-8539-a81e84e6c740",
         "x": [
          "8-1",
          "8-2",
          "8-3",
          "8-4",
          "8-5",
          "9-1",
          "9-2",
          "9-3"
         ],
         "y": [
          36,
          47,
          23,
          13,
          3,
          2,
          3,
          0
         ]
        }
       ],
       "layout": {
        "barmode": "stack",
        "title": "下机批次数周趋势图",
        "xaxis": {
         "mirror": "all",
         "nticks": 20,
         "showgrid": true,
         "showline": true,
         "title": "周",
         "zeroline": true
        },
        "yaxis": {
         "mirror": "all",
         "nticks": 20,
         "showgrid": true,
         "showline": true,
         "title": "数目",
         "zeroline": true
        }
       }
      },
      "text/html": [
       "<div id=\"2f86d81f-560a-45d5-be65-ea6ed5f66c74\" style=\"height: 525px; width: 100%;\" class=\"plotly-graph-div\"></div><script type=\"text/javascript\">require([\"plotly\"], function(Plotly) { window.PLOTLYENV=window.PLOTLYENV || {};window.PLOTLYENV.BASE_URL=\"https://plot.ly\";\n",
       "        Plotly.plot(\n",
       "            '2f86d81f-560a-45d5-be65-ea6ed5f66c74',\n",
       "            [{\"name\": \"\\u51b7\\u96ea\", \"x\": [\"8-1\", \"8-2\", \"8-3\", \"8-4\", \"8-5\", \"9-1\", \"9-2\", \"9-3\"], \"y\": [38.0, 58.0, 66.0, 28.0, 5.0, 58.0, 76.0, 115.0], \"type\": \"bar\", \"uid\": \"b04b9014-c15e-11e8-8539-a81e84e6c740\"}, {\"name\": \"\\u5f20\\u60a6\", \"x\": [\"8-1\", \"8-2\", \"8-3\", \"8-4\", \"8-5\", \"9-1\", \"9-2\", \"9-3\"], \"y\": [2.0, 2.0, 1.0, 1.0, 7.0, 4.0, 0.0, 0.0], \"type\": \"bar\", \"uid\": \"b04ba32e-c15e-11e8-8539-a81e84e6c740\"}, {\"name\": \"\\u5c48\\u6602\", \"x\": [\"8-1\", \"8-2\", \"8-3\", \"8-4\", \"8-5\", \"9-1\", \"9-2\", \"9-3\"], \"y\": [42.0, 74.0, 75.0, 119.0, 85.0, 135.0, 45.0, 21.0], \"type\": \"bar\", \"uid\": \"b04bbda0-c15e-11e8-8539-a81e84e6c740\"}, {\"name\": \"\\u5362\\u6960\", \"x\": [\"8-1\", \"8-2\", \"8-3\", \"8-4\", \"8-5\", \"9-1\", \"9-2\", \"9-3\"], \"y\": [36.0, 47.0, 23.0, 13.0, 3.0, 2.0, 3.0, 0.0], \"type\": \"bar\", \"uid\": \"b04bcc28-c15e-11e8-8539-a81e84e6c740\"}],\n",
       "            {\"barmode\": \"stack\", \"title\": \"\\u4e0b\\u673a\\u6279\\u6b21\\u6570\\u5468\\u8d8b\\u52bf\\u56fe\", \"xaxis\": {\"mirror\": \"all\", \"nticks\": 20, \"showgrid\": true, \"showline\": true, \"title\": \"\\u5468\", \"zeroline\": true}, \"yaxis\": {\"mirror\": \"all\", \"nticks\": 20, \"showgrid\": true, \"showline\": true, \"title\": \"\\u6570\\u76ee\", \"zeroline\": true}},\n",
       "            {\"showLink\": true, \"linkText\": \"Export to plot.ly\"}\n",
       "        ).then(function () {return Plotly.addFrames('2f86d81f-560a-45d5-be65-ea6ed5f66c74',{});}).then(function(){Plotly.animate('2f86d81f-560a-45d5-be65-ea6ed5f66c74');})\n",
       "        });</script>"
      ],
      "text/vnd.plotly.v1+html": [
       "<div id=\"2f86d81f-560a-45d5-be65-ea6ed5f66c74\" style=\"height: 525px; width: 100%;\" class=\"plotly-graph-div\"></div><script type=\"text/javascript\">require([\"plotly\"], function(Plotly) { window.PLOTLYENV=window.PLOTLYENV || {};window.PLOTLYENV.BASE_URL=\"https://plot.ly\";\n",
       "        Plotly.plot(\n",
       "            '2f86d81f-560a-45d5-be65-ea6ed5f66c74',\n",
       "            [{\"name\": \"\\u51b7\\u96ea\", \"x\": [\"8-1\", \"8-2\", \"8-3\", \"8-4\", \"8-5\", \"9-1\", \"9-2\", \"9-3\"], \"y\": [38.0, 58.0, 66.0, 28.0, 5.0, 58.0, 76.0, 115.0], \"type\": \"bar\", \"uid\": \"b04b9014-c15e-11e8-8539-a81e84e6c740\"}, {\"name\": \"\\u5f20\\u60a6\", \"x\": [\"8-1\", \"8-2\", \"8-3\", \"8-4\", \"8-5\", \"9-1\", \"9-2\", \"9-3\"], \"y\": [2.0, 2.0, 1.0, 1.0, 7.0, 4.0, 0.0, 0.0], \"type\": \"bar\", \"uid\": \"b04ba32e-c15e-11e8-8539-a81e84e6c740\"}, {\"name\": \"\\u5c48\\u6602\", \"x\": [\"8-1\", \"8-2\", \"8-3\", \"8-4\", \"8-5\", \"9-1\", \"9-2\", \"9-3\"], \"y\": [42.0, 74.0, 75.0, 119.0, 85.0, 135.0, 45.0, 21.0], \"type\": \"bar\", \"uid\": \"b04bbda0-c15e-11e8-8539-a81e84e6c740\"}, {\"name\": \"\\u5362\\u6960\", \"x\": [\"8-1\", \"8-2\", \"8-3\", \"8-4\", \"8-5\", \"9-1\", \"9-2\", \"9-3\"], \"y\": [36.0, 47.0, 23.0, 13.0, 3.0, 2.0, 3.0, 0.0], \"type\": \"bar\", \"uid\": \"b04bcc28-c15e-11e8-8539-a81e84e6c740\"}],\n",
       "            {\"barmode\": \"stack\", \"title\": \"\\u4e0b\\u673a\\u6279\\u6b21\\u6570\\u5468\\u8d8b\\u52bf\\u56fe\", \"xaxis\": {\"mirror\": \"all\", \"nticks\": 20, \"showgrid\": true, \"showline\": true, \"title\": \"\\u5468\", \"zeroline\": true}, \"yaxis\": {\"mirror\": \"all\", \"nticks\": 20, \"showgrid\": true, \"showline\": true, \"title\": \"\\u6570\\u76ee\", \"zeroline\": true}},\n",
       "            {\"showLink\": true, \"linkText\": \"Export to plot.ly\"}\n",
       "        ).then(function () {return Plotly.addFrames('2f86d81f-560a-45d5-be65-ea6ed5f66c74',{});}).then(function(){Plotly.animate('2f86d81f-560a-45d5-be65-ea6ed5f66c74');})\n",
       "        });</script>"
      ]
     },
     "metadata": {},
     "output_type": "display_data"
    },
    {
     "data": {
      "application/vnd.plotly.v1+json": {
       "data": [
        {
         "name": "冷雪",
         "type": "bar",
         "uid": "b06bafd4-c15e-11e8-8539-a81e84e6c740",
         "x": [
          "8",
          "9"
         ],
         "y": [
          195,
          249
         ]
        },
        {
         "name": "张悦",
         "type": "bar",
         "uid": "b06bb452-c15e-11e8-8539-a81e84e6c740",
         "x": [
          "8",
          "9"
         ],
         "y": [
          13,
          4
         ]
        },
        {
         "name": "屈昂",
         "type": "bar",
         "uid": "b06bb8b2-c15e-11e8-8539-a81e84e6c740",
         "x": [
          "8",
          "9"
         ],
         "y": [
          395,
          201
         ]
        },
        {
         "name": "卢楠",
         "type": "bar",
         "uid": "b06bbb00-c15e-11e8-8539-a81e84e6c740",
         "x": [
          "8",
          "9"
         ],
         "y": [
          122,
          5
         ]
        }
       ],
       "layout": {
        "barmode": "stack",
        "title": "下机批次数月趋势图",
        "xaxis": {
         "mirror": "all",
         "nticks": 20,
         "showgrid": true,
         "showline": true,
         "title": "月",
         "zeroline": true
        },
        "yaxis": {
         "mirror": "all",
         "nticks": 20,
         "showgrid": true,
         "showline": true,
         "title": "数目",
         "zeroline": true
        }
       }
      },
      "text/html": [
       "<div id=\"ca368d82-744a-465e-b8f7-087d0bbf1c83\" style=\"height: 525px; width: 100%;\" class=\"plotly-graph-div\"></div><script type=\"text/javascript\">require([\"plotly\"], function(Plotly) { window.PLOTLYENV=window.PLOTLYENV || {};window.PLOTLYENV.BASE_URL=\"https://plot.ly\";\n",
       "        Plotly.plot(\n",
       "            'ca368d82-744a-465e-b8f7-087d0bbf1c83',\n",
       "            [{\"name\": \"\\u51b7\\u96ea\", \"x\": [\"8\", \"9\"], \"y\": [195.0, 249.0], \"type\": \"bar\", \"uid\": \"b06bafd4-c15e-11e8-8539-a81e84e6c740\"}, {\"name\": \"\\u5f20\\u60a6\", \"x\": [\"8\", \"9\"], \"y\": [13.0, 4.0], \"type\": \"bar\", \"uid\": \"b06bb452-c15e-11e8-8539-a81e84e6c740\"}, {\"name\": \"\\u5c48\\u6602\", \"x\": [\"8\", \"9\"], \"y\": [395.0, 201.0], \"type\": \"bar\", \"uid\": \"b06bb8b2-c15e-11e8-8539-a81e84e6c740\"}, {\"name\": \"\\u5362\\u6960\", \"x\": [\"8\", \"9\"], \"y\": [122.0, 5.0], \"type\": \"bar\", \"uid\": \"b06bbb00-c15e-11e8-8539-a81e84e6c740\"}],\n",
       "            {\"barmode\": \"stack\", \"title\": \"\\u4e0b\\u673a\\u6279\\u6b21\\u6570\\u6708\\u8d8b\\u52bf\\u56fe\", \"xaxis\": {\"mirror\": \"all\", \"nticks\": 20, \"showgrid\": true, \"showline\": true, \"title\": \"\\u6708\", \"zeroline\": true}, \"yaxis\": {\"mirror\": \"all\", \"nticks\": 20, \"showgrid\": true, \"showline\": true, \"title\": \"\\u6570\\u76ee\", \"zeroline\": true}},\n",
       "            {\"showLink\": true, \"linkText\": \"Export to plot.ly\"}\n",
       "        ).then(function () {return Plotly.addFrames('ca368d82-744a-465e-b8f7-087d0bbf1c83',{});}).then(function(){Plotly.animate('ca368d82-744a-465e-b8f7-087d0bbf1c83');})\n",
       "        });</script>"
      ],
      "text/vnd.plotly.v1+html": [
       "<div id=\"ca368d82-744a-465e-b8f7-087d0bbf1c83\" style=\"height: 525px; width: 100%;\" class=\"plotly-graph-div\"></div><script type=\"text/javascript\">require([\"plotly\"], function(Plotly) { window.PLOTLYENV=window.PLOTLYENV || {};window.PLOTLYENV.BASE_URL=\"https://plot.ly\";\n",
       "        Plotly.plot(\n",
       "            'ca368d82-744a-465e-b8f7-087d0bbf1c83',\n",
       "            [{\"name\": \"\\u51b7\\u96ea\", \"x\": [\"8\", \"9\"], \"y\": [195.0, 249.0], \"type\": \"bar\", \"uid\": \"b06bafd4-c15e-11e8-8539-a81e84e6c740\"}, {\"name\": \"\\u5f20\\u60a6\", \"x\": [\"8\", \"9\"], \"y\": [13.0, 4.0], \"type\": \"bar\", \"uid\": \"b06bb452-c15e-11e8-8539-a81e84e6c740\"}, {\"name\": \"\\u5c48\\u6602\", \"x\": [\"8\", \"9\"], \"y\": [395.0, 201.0], \"type\": \"bar\", \"uid\": \"b06bb8b2-c15e-11e8-8539-a81e84e6c740\"}, {\"name\": \"\\u5362\\u6960\", \"x\": [\"8\", \"9\"], \"y\": [122.0, 5.0], \"type\": \"bar\", \"uid\": \"b06bbb00-c15e-11e8-8539-a81e84e6c740\"}],\n",
       "            {\"barmode\": \"stack\", \"title\": \"\\u4e0b\\u673a\\u6279\\u6b21\\u6570\\u6708\\u8d8b\\u52bf\\u56fe\", \"xaxis\": {\"mirror\": \"all\", \"nticks\": 20, \"showgrid\": true, \"showline\": true, \"title\": \"\\u6708\", \"zeroline\": true}, \"yaxis\": {\"mirror\": \"all\", \"nticks\": 20, \"showgrid\": true, \"showline\": true, \"title\": \"\\u6570\\u76ee\", \"zeroline\": true}},\n",
       "            {\"showLink\": true, \"linkText\": \"Export to plot.ly\"}\n",
       "        ).then(function () {return Plotly.addFrames('ca368d82-744a-465e-b8f7-087d0bbf1c83',{});}).then(function(){Plotly.animate('ca368d82-744a-465e-b8f7-087d0bbf1c83');})\n",
       "        });</script>"
      ]
     },
     "metadata": {},
     "output_type": "display_data"
    },
    {
     "data": {
      "application/vnd.plotly.v1+json": {
       "data": [
        {
         "name": "冷雪",
         "type": "bar",
         "uid": "b0bc128a-c15e-11e8-8539-a81e84e6c740",
         "x": [
          "8-1",
          "8-2",
          "8-3",
          "8-4",
          "8-5",
          "9-1",
          "9-2",
          "9-3"
         ],
         "y": [
          31,
          49,
          51,
          26,
          2,
          54,
          63,
          103
         ]
        },
        {
         "name": "张悦",
         "type": "bar",
         "uid": "b0bc1730-c15e-11e8-8539-a81e84e6c740",
         "x": [
          "8-1",
          "8-2",
          "8-3",
          "8-4",
          "8-5",
          "9-1",
          "9-2",
          "9-3"
         ],
         "y": [
          1,
          1,
          1,
          1,
          5,
          2,
          0,
          0
         ]
        },
        {
         "name": "屈昂",
         "type": "bar",
         "uid": "b0bc1aa0-c15e-11e8-8539-a81e84e6c740",
         "x": [
          "8-1",
          "8-2",
          "8-3",
          "8-4",
          "8-5",
          "9-1",
          "9-2",
          "9-3"
         ],
         "y": [
          36,
          62,
          62,
          96,
          76,
          117,
          38,
          19
         ]
        },
        {
         "name": "卢楠",
         "type": "bar",
         "uid": "b0bc1dd4-c15e-11e8-8539-a81e84e6c740",
         "x": [
          "8-1",
          "8-2",
          "8-3",
          "8-4",
          "8-5",
          "9-1",
          "9-2",
          "9-3"
         ],
         "y": [
          26,
          34,
          21,
          13,
          2,
          1,
          2,
          0
         ]
        }
       ],
       "layout": {
        "barmode": "stack",
        "title": "下机项目数周趋势图",
        "xaxis": {
         "mirror": "all",
         "nticks": 20,
         "showgrid": true,
         "showline": true,
         "title": "周",
         "zeroline": true
        },
        "yaxis": {
         "mirror": "all",
         "nticks": 20,
         "showgrid": true,
         "showline": true,
         "title": "数目",
         "zeroline": true
        }
       }
      },
      "text/html": [
       "<div id=\"e476b596-739f-41da-a10b-dcf5adbc3fc8\" style=\"height: 525px; width: 100%;\" class=\"plotly-graph-div\"></div><script type=\"text/javascript\">require([\"plotly\"], function(Plotly) { window.PLOTLYENV=window.PLOTLYENV || {};window.PLOTLYENV.BASE_URL=\"https://plot.ly\";\n",
       "        Plotly.plot(\n",
       "            'e476b596-739f-41da-a10b-dcf5adbc3fc8',\n",
       "            [{\"name\": \"\\u51b7\\u96ea\", \"x\": [\"8-1\", \"8-2\", \"8-3\", \"8-4\", \"8-5\", \"9-1\", \"9-2\", \"9-3\"], \"y\": [31.0, 49.0, 51.0, 26.0, 2.0, 54.0, 63.0, 103.0], \"type\": \"bar\", \"uid\": \"b0bc128a-c15e-11e8-8539-a81e84e6c740\"}, {\"name\": \"\\u5f20\\u60a6\", \"x\": [\"8-1\", \"8-2\", \"8-3\", \"8-4\", \"8-5\", \"9-1\", \"9-2\", \"9-3\"], \"y\": [1.0, 1.0, 1.0, 1.0, 5.0, 2.0, 0.0, 0.0], \"type\": \"bar\", \"uid\": \"b0bc1730-c15e-11e8-8539-a81e84e6c740\"}, {\"name\": \"\\u5c48\\u6602\", \"x\": [\"8-1\", \"8-2\", \"8-3\", \"8-4\", \"8-5\", \"9-1\", \"9-2\", \"9-3\"], \"y\": [36.0, 62.0, 62.0, 96.0, 76.0, 117.0, 38.0, 19.0], \"type\": \"bar\", \"uid\": \"b0bc1aa0-c15e-11e8-8539-a81e84e6c740\"}, {\"name\": \"\\u5362\\u6960\", \"x\": [\"8-1\", \"8-2\", \"8-3\", \"8-4\", \"8-5\", \"9-1\", \"9-2\", \"9-3\"], \"y\": [26.0, 34.0, 21.0, 13.0, 2.0, 1.0, 2.0, 0.0], \"type\": \"bar\", \"uid\": \"b0bc1dd4-c15e-11e8-8539-a81e84e6c740\"}],\n",
       "            {\"barmode\": \"stack\", \"title\": \"\\u4e0b\\u673a\\u9879\\u76ee\\u6570\\u5468\\u8d8b\\u52bf\\u56fe\", \"xaxis\": {\"mirror\": \"all\", \"nticks\": 20, \"showgrid\": true, \"showline\": true, \"title\": \"\\u5468\", \"zeroline\": true}, \"yaxis\": {\"mirror\": \"all\", \"nticks\": 20, \"showgrid\": true, \"showline\": true, \"title\": \"\\u6570\\u76ee\", \"zeroline\": true}},\n",
       "            {\"showLink\": true, \"linkText\": \"Export to plot.ly\"}\n",
       "        ).then(function () {return Plotly.addFrames('e476b596-739f-41da-a10b-dcf5adbc3fc8',{});}).then(function(){Plotly.animate('e476b596-739f-41da-a10b-dcf5adbc3fc8');})\n",
       "        });</script>"
      ],
      "text/vnd.plotly.v1+html": [
       "<div id=\"e476b596-739f-41da-a10b-dcf5adbc3fc8\" style=\"height: 525px; width: 100%;\" class=\"plotly-graph-div\"></div><script type=\"text/javascript\">require([\"plotly\"], function(Plotly) { window.PLOTLYENV=window.PLOTLYENV || {};window.PLOTLYENV.BASE_URL=\"https://plot.ly\";\n",
       "        Plotly.plot(\n",
       "            'e476b596-739f-41da-a10b-dcf5adbc3fc8',\n",
       "            [{\"name\": \"\\u51b7\\u96ea\", \"x\": [\"8-1\", \"8-2\", \"8-3\", \"8-4\", \"8-5\", \"9-1\", \"9-2\", \"9-3\"], \"y\": [31.0, 49.0, 51.0, 26.0, 2.0, 54.0, 63.0, 103.0], \"type\": \"bar\", \"uid\": \"b0bc128a-c15e-11e8-8539-a81e84e6c740\"}, {\"name\": \"\\u5f20\\u60a6\", \"x\": [\"8-1\", \"8-2\", \"8-3\", \"8-4\", \"8-5\", \"9-1\", \"9-2\", \"9-3\"], \"y\": [1.0, 1.0, 1.0, 1.0, 5.0, 2.0, 0.0, 0.0], \"type\": \"bar\", \"uid\": \"b0bc1730-c15e-11e8-8539-a81e84e6c740\"}, {\"name\": \"\\u5c48\\u6602\", \"x\": [\"8-1\", \"8-2\", \"8-3\", \"8-4\", \"8-5\", \"9-1\", \"9-2\", \"9-3\"], \"y\": [36.0, 62.0, 62.0, 96.0, 76.0, 117.0, 38.0, 19.0], \"type\": \"bar\", \"uid\": \"b0bc1aa0-c15e-11e8-8539-a81e84e6c740\"}, {\"name\": \"\\u5362\\u6960\", \"x\": [\"8-1\", \"8-2\", \"8-3\", \"8-4\", \"8-5\", \"9-1\", \"9-2\", \"9-3\"], \"y\": [26.0, 34.0, 21.0, 13.0, 2.0, 1.0, 2.0, 0.0], \"type\": \"bar\", \"uid\": \"b0bc1dd4-c15e-11e8-8539-a81e84e6c740\"}],\n",
       "            {\"barmode\": \"stack\", \"title\": \"\\u4e0b\\u673a\\u9879\\u76ee\\u6570\\u5468\\u8d8b\\u52bf\\u56fe\", \"xaxis\": {\"mirror\": \"all\", \"nticks\": 20, \"showgrid\": true, \"showline\": true, \"title\": \"\\u5468\", \"zeroline\": true}, \"yaxis\": {\"mirror\": \"all\", \"nticks\": 20, \"showgrid\": true, \"showline\": true, \"title\": \"\\u6570\\u76ee\", \"zeroline\": true}},\n",
       "            {\"showLink\": true, \"linkText\": \"Export to plot.ly\"}\n",
       "        ).then(function () {return Plotly.addFrames('e476b596-739f-41da-a10b-dcf5adbc3fc8',{});}).then(function(){Plotly.animate('e476b596-739f-41da-a10b-dcf5adbc3fc8');})\n",
       "        });</script>"
      ]
     },
     "metadata": {},
     "output_type": "display_data"
    },
    {
     "data": {
      "application/vnd.plotly.v1+json": {
       "data": [
        {
         "name": "冷雪",
         "type": "bar",
         "uid": "b0d17fb2-c15e-11e8-8539-a81e84e6c740",
         "x": [
          "8",
          "9"
         ],
         "y": [
          159,
          220
         ]
        },
        {
         "name": "张悦",
         "type": "bar",
         "uid": "b0d18304-c15e-11e8-8539-a81e84e6c740",
         "x": [
          "8",
          "9"
         ],
         "y": [
          9,
          2
         ]
        },
        {
         "name": "屈昂",
         "type": "bar",
         "uid": "b0d1858e-c15e-11e8-8539-a81e84e6c740",
         "x": [
          "8",
          "9"
         ],
         "y": [
          332,
          174
         ]
        },
        {
         "name": "卢楠",
         "type": "bar",
         "uid": "b0d187a0-c15e-11e8-8539-a81e84e6c740",
         "x": [
          "8",
          "9"
         ],
         "y": [
          96,
          3
         ]
        }
       ],
       "layout": {
        "barmode": "stack",
        "title": "下机项目数月趋势图",
        "xaxis": {
         "mirror": "all",
         "nticks": 20,
         "showgrid": true,
         "showline": true,
         "title": "月",
         "zeroline": true
        },
        "yaxis": {
         "mirror": "all",
         "nticks": 20,
         "showgrid": true,
         "showline": true,
         "title": "数目",
         "zeroline": true
        }
       }
      },
      "text/html": [
       "<div id=\"93fa7c2d-982e-4466-9387-14b2de2b7357\" style=\"height: 525px; width: 100%;\" class=\"plotly-graph-div\"></div><script type=\"text/javascript\">require([\"plotly\"], function(Plotly) { window.PLOTLYENV=window.PLOTLYENV || {};window.PLOTLYENV.BASE_URL=\"https://plot.ly\";\n",
       "        Plotly.plot(\n",
       "            '93fa7c2d-982e-4466-9387-14b2de2b7357',\n",
       "            [{\"name\": \"\\u51b7\\u96ea\", \"x\": [\"8\", \"9\"], \"y\": [159.0, 220.0], \"type\": \"bar\", \"uid\": \"b0d17fb2-c15e-11e8-8539-a81e84e6c740\"}, {\"name\": \"\\u5f20\\u60a6\", \"x\": [\"8\", \"9\"], \"y\": [9.0, 2.0], \"type\": \"bar\", \"uid\": \"b0d18304-c15e-11e8-8539-a81e84e6c740\"}, {\"name\": \"\\u5c48\\u6602\", \"x\": [\"8\", \"9\"], \"y\": [332.0, 174.0], \"type\": \"bar\", \"uid\": \"b0d1858e-c15e-11e8-8539-a81e84e6c740\"}, {\"name\": \"\\u5362\\u6960\", \"x\": [\"8\", \"9\"], \"y\": [96.0, 3.0], \"type\": \"bar\", \"uid\": \"b0d187a0-c15e-11e8-8539-a81e84e6c740\"}],\n",
       "            {\"barmode\": \"stack\", \"title\": \"\\u4e0b\\u673a\\u9879\\u76ee\\u6570\\u6708\\u8d8b\\u52bf\\u56fe\", \"xaxis\": {\"mirror\": \"all\", \"nticks\": 20, \"showgrid\": true, \"showline\": true, \"title\": \"\\u6708\", \"zeroline\": true}, \"yaxis\": {\"mirror\": \"all\", \"nticks\": 20, \"showgrid\": true, \"showline\": true, \"title\": \"\\u6570\\u76ee\", \"zeroline\": true}},\n",
       "            {\"showLink\": true, \"linkText\": \"Export to plot.ly\"}\n",
       "        ).then(function () {return Plotly.addFrames('93fa7c2d-982e-4466-9387-14b2de2b7357',{});}).then(function(){Plotly.animate('93fa7c2d-982e-4466-9387-14b2de2b7357');})\n",
       "        });</script>"
      ],
      "text/vnd.plotly.v1+html": [
       "<div id=\"93fa7c2d-982e-4466-9387-14b2de2b7357\" style=\"height: 525px; width: 100%;\" class=\"plotly-graph-div\"></div><script type=\"text/javascript\">require([\"plotly\"], function(Plotly) { window.PLOTLYENV=window.PLOTLYENV || {};window.PLOTLYENV.BASE_URL=\"https://plot.ly\";\n",
       "        Plotly.plot(\n",
       "            '93fa7c2d-982e-4466-9387-14b2de2b7357',\n",
       "            [{\"name\": \"\\u51b7\\u96ea\", \"x\": [\"8\", \"9\"], \"y\": [159.0, 220.0], \"type\": \"bar\", \"uid\": \"b0d17fb2-c15e-11e8-8539-a81e84e6c740\"}, {\"name\": \"\\u5f20\\u60a6\", \"x\": [\"8\", \"9\"], \"y\": [9.0, 2.0], \"type\": \"bar\", \"uid\": \"b0d18304-c15e-11e8-8539-a81e84e6c740\"}, {\"name\": \"\\u5c48\\u6602\", \"x\": [\"8\", \"9\"], \"y\": [332.0, 174.0], \"type\": \"bar\", \"uid\": \"b0d1858e-c15e-11e8-8539-a81e84e6c740\"}, {\"name\": \"\\u5362\\u6960\", \"x\": [\"8\", \"9\"], \"y\": [96.0, 3.0], \"type\": \"bar\", \"uid\": \"b0d187a0-c15e-11e8-8539-a81e84e6c740\"}],\n",
       "            {\"barmode\": \"stack\", \"title\": \"\\u4e0b\\u673a\\u9879\\u76ee\\u6570\\u6708\\u8d8b\\u52bf\\u56fe\", \"xaxis\": {\"mirror\": \"all\", \"nticks\": 20, \"showgrid\": true, \"showline\": true, \"title\": \"\\u6708\", \"zeroline\": true}, \"yaxis\": {\"mirror\": \"all\", \"nticks\": 20, \"showgrid\": true, \"showline\": true, \"title\": \"\\u6570\\u76ee\", \"zeroline\": true}},\n",
       "            {\"showLink\": true, \"linkText\": \"Export to plot.ly\"}\n",
       "        ).then(function () {return Plotly.addFrames('93fa7c2d-982e-4466-9387-14b2de2b7357',{});}).then(function(){Plotly.animate('93fa7c2d-982e-4466-9387-14b2de2b7357');})\n",
       "        });</script>"
      ]
     },
     "metadata": {},
     "output_type": "display_data"
    }
   ],
   "source": [
    "myModule.stack_bar_plot( all_dict, ['下机批次数'] )\n",
    "myModule.stack_bar_plot( all_dict, ['下机项目数'] )"
   ]
  },
  {
   "cell_type": "code",
   "execution_count": 53,
   "metadata": {},
   "outputs": [
    {
     "data": {
      "application/vnd.plotly.v1+json": {
       "data": [
        {
         "name": "冷雪_下机批次数",
         "type": "scatter",
         "uid": "b10f4586-c15e-11e8-8539-a81e84e6c740",
         "x": [
          "8-1",
          "8-2",
          "8-3",
          "8-4",
          "8-5",
          "9-1",
          "9-2",
          "9-3"
         ],
         "y": [
          38,
          58,
          66,
          28,
          5,
          58,
          76,
          115
         ]
        },
        {
         "name": "冷雪_下机项目数",
         "type": "scatter",
         "uid": "b10f48b0-c15e-11e8-8539-a81e84e6c740",
         "x": [
          "8-1",
          "8-2",
          "8-3",
          "8-4",
          "8-5",
          "9-1",
          "9-2",
          "9-3"
         ],
         "y": [
          31,
          49,
          51,
          26,
          2,
          54,
          63,
          103
         ]
        },
        {
         "name": "张悦_下机批次数",
         "type": "scatter",
         "uid": "b10f4ae0-c15e-11e8-8539-a81e84e6c740",
         "x": [
          "8-1",
          "8-2",
          "8-3",
          "8-4",
          "8-5",
          "9-1",
          "9-2",
          "9-3"
         ],
         "y": [
          2,
          2,
          1,
          1,
          7,
          4,
          0,
          0
         ]
        },
        {
         "name": "张悦_下机项目数",
         "type": "scatter",
         "uid": "b10f4ce8-c15e-11e8-8539-a81e84e6c740",
         "x": [
          "8-1",
          "8-2",
          "8-3",
          "8-4",
          "8-5",
          "9-1",
          "9-2",
          "9-3"
         ],
         "y": [
          1,
          1,
          1,
          1,
          5,
          2,
          0,
          0
         ]
        },
        {
         "name": "屈昂_下机批次数",
         "type": "scatter",
         "uid": "b10f4ed2-c15e-11e8-8539-a81e84e6c740",
         "x": [
          "8-1",
          "8-2",
          "8-3",
          "8-4",
          "8-5",
          "9-1",
          "9-2",
          "9-3"
         ],
         "y": [
          42,
          74,
          75,
          119,
          85,
          135,
          45,
          21
         ]
        },
        {
         "name": "屈昂_下机项目数",
         "type": "scatter",
         "uid": "b10f50b2-c15e-11e8-8539-a81e84e6c740",
         "x": [
          "8-1",
          "8-2",
          "8-3",
          "8-4",
          "8-5",
          "9-1",
          "9-2",
          "9-3"
         ],
         "y": [
          36,
          62,
          62,
          96,
          76,
          117,
          38,
          19
         ]
        },
        {
         "name": "卢楠_下机批次数",
         "type": "scatter",
         "uid": "b10f5292-c15e-11e8-8539-a81e84e6c740",
         "x": [
          "8-1",
          "8-2",
          "8-3",
          "8-4",
          "8-5",
          "9-1",
          "9-2",
          "9-3"
         ],
         "y": [
          36,
          47,
          23,
          13,
          3,
          2,
          3,
          0
         ]
        },
        {
         "name": "卢楠_下机项目数",
         "type": "scatter",
         "uid": "b10f5468-c15e-11e8-8539-a81e84e6c740",
         "x": [
          "8-1",
          "8-2",
          "8-3",
          "8-4",
          "8-5",
          "9-1",
          "9-2",
          "9-3"
         ],
         "y": [
          26,
          34,
          21,
          13,
          2,
          1,
          2,
          0
         ]
        }
       ],
       "layout": {
        "title": "下机批次数&下机项目数周趋势图",
        "xaxis": {
         "mirror": "all",
         "nticks": 20,
         "showgrid": true,
         "showline": true,
         "title": "周",
         "zeroline": true
        },
        "yaxis": {
         "mirror": "all",
         "nticks": 20,
         "showgrid": true,
         "showline": true,
         "title": "下机批次数&下机项目数",
         "zeroline": true
        }
       }
      },
      "text/html": [
       "<div id=\"a0400437-7b6e-4d33-b9ab-c51192da2c6d\" style=\"height: 525px; width: 100%;\" class=\"plotly-graph-div\"></div><script type=\"text/javascript\">require([\"plotly\"], function(Plotly) { window.PLOTLYENV=window.PLOTLYENV || {};window.PLOTLYENV.BASE_URL=\"https://plot.ly\";\n",
       "        Plotly.plot(\n",
       "            'a0400437-7b6e-4d33-b9ab-c51192da2c6d',\n",
       "            [{\"name\": \"\\u51b7\\u96ea_\\u4e0b\\u673a\\u6279\\u6b21\\u6570\", \"x\": [\"8-1\", \"8-2\", \"8-3\", \"8-4\", \"8-5\", \"9-1\", \"9-2\", \"9-3\"], \"y\": [38.0, 58.0, 66.0, 28.0, 5.0, 58.0, 76.0, 115.0], \"type\": \"scatter\", \"uid\": \"b10f4586-c15e-11e8-8539-a81e84e6c740\"}, {\"name\": \"\\u51b7\\u96ea_\\u4e0b\\u673a\\u9879\\u76ee\\u6570\", \"x\": [\"8-1\", \"8-2\", \"8-3\", \"8-4\", \"8-5\", \"9-1\", \"9-2\", \"9-3\"], \"y\": [31.0, 49.0, 51.0, 26.0, 2.0, 54.0, 63.0, 103.0], \"type\": \"scatter\", \"uid\": \"b10f48b0-c15e-11e8-8539-a81e84e6c740\"}, {\"name\": \"\\u5f20\\u60a6_\\u4e0b\\u673a\\u6279\\u6b21\\u6570\", \"x\": [\"8-1\", \"8-2\", \"8-3\", \"8-4\", \"8-5\", \"9-1\", \"9-2\", \"9-3\"], \"y\": [2.0, 2.0, 1.0, 1.0, 7.0, 4.0, 0.0, 0.0], \"type\": \"scatter\", \"uid\": \"b10f4ae0-c15e-11e8-8539-a81e84e6c740\"}, {\"name\": \"\\u5f20\\u60a6_\\u4e0b\\u673a\\u9879\\u76ee\\u6570\", \"x\": [\"8-1\", \"8-2\", \"8-3\", \"8-4\", \"8-5\", \"9-1\", \"9-2\", \"9-3\"], \"y\": [1.0, 1.0, 1.0, 1.0, 5.0, 2.0, 0.0, 0.0], \"type\": \"scatter\", \"uid\": \"b10f4ce8-c15e-11e8-8539-a81e84e6c740\"}, {\"name\": \"\\u5c48\\u6602_\\u4e0b\\u673a\\u6279\\u6b21\\u6570\", \"x\": [\"8-1\", \"8-2\", \"8-3\", \"8-4\", \"8-5\", \"9-1\", \"9-2\", \"9-3\"], \"y\": [42.0, 74.0, 75.0, 119.0, 85.0, 135.0, 45.0, 21.0], \"type\": \"scatter\", \"uid\": \"b10f4ed2-c15e-11e8-8539-a81e84e6c740\"}, {\"name\": \"\\u5c48\\u6602_\\u4e0b\\u673a\\u9879\\u76ee\\u6570\", \"x\": [\"8-1\", \"8-2\", \"8-3\", \"8-4\", \"8-5\", \"9-1\", \"9-2\", \"9-3\"], \"y\": [36.0, 62.0, 62.0, 96.0, 76.0, 117.0, 38.0, 19.0], \"type\": \"scatter\", \"uid\": \"b10f50b2-c15e-11e8-8539-a81e84e6c740\"}, {\"name\": \"\\u5362\\u6960_\\u4e0b\\u673a\\u6279\\u6b21\\u6570\", \"x\": [\"8-1\", \"8-2\", \"8-3\", \"8-4\", \"8-5\", \"9-1\", \"9-2\", \"9-3\"], \"y\": [36.0, 47.0, 23.0, 13.0, 3.0, 2.0, 3.0, 0.0], \"type\": \"scatter\", \"uid\": \"b10f5292-c15e-11e8-8539-a81e84e6c740\"}, {\"name\": \"\\u5362\\u6960_\\u4e0b\\u673a\\u9879\\u76ee\\u6570\", \"x\": [\"8-1\", \"8-2\", \"8-3\", \"8-4\", \"8-5\", \"9-1\", \"9-2\", \"9-3\"], \"y\": [26.0, 34.0, 21.0, 13.0, 2.0, 1.0, 2.0, 0.0], \"type\": \"scatter\", \"uid\": \"b10f5468-c15e-11e8-8539-a81e84e6c740\"}],\n",
       "            {\"title\": \"\\u4e0b\\u673a\\u6279\\u6b21\\u6570&\\u4e0b\\u673a\\u9879\\u76ee\\u6570\\u5468\\u8d8b\\u52bf\\u56fe\", \"xaxis\": {\"mirror\": \"all\", \"nticks\": 20, \"showgrid\": true, \"showline\": true, \"title\": \"\\u5468\", \"zeroline\": true}, \"yaxis\": {\"mirror\": \"all\", \"nticks\": 20, \"showgrid\": true, \"showline\": true, \"title\": \"\\u4e0b\\u673a\\u6279\\u6b21\\u6570&\\u4e0b\\u673a\\u9879\\u76ee\\u6570\", \"zeroline\": true}},\n",
       "            {\"showLink\": true, \"linkText\": \"Export to plot.ly\"}\n",
       "        ).then(function () {return Plotly.addFrames('a0400437-7b6e-4d33-b9ab-c51192da2c6d',{});}).then(function(){Plotly.animate('a0400437-7b6e-4d33-b9ab-c51192da2c6d');})\n",
       "        });</script>"
      ],
      "text/vnd.plotly.v1+html": [
       "<div id=\"a0400437-7b6e-4d33-b9ab-c51192da2c6d\" style=\"height: 525px; width: 100%;\" class=\"plotly-graph-div\"></div><script type=\"text/javascript\">require([\"plotly\"], function(Plotly) { window.PLOTLYENV=window.PLOTLYENV || {};window.PLOTLYENV.BASE_URL=\"https://plot.ly\";\n",
       "        Plotly.plot(\n",
       "            'a0400437-7b6e-4d33-b9ab-c51192da2c6d',\n",
       "            [{\"name\": \"\\u51b7\\u96ea_\\u4e0b\\u673a\\u6279\\u6b21\\u6570\", \"x\": [\"8-1\", \"8-2\", \"8-3\", \"8-4\", \"8-5\", \"9-1\", \"9-2\", \"9-3\"], \"y\": [38.0, 58.0, 66.0, 28.0, 5.0, 58.0, 76.0, 115.0], \"type\": \"scatter\", \"uid\": \"b10f4586-c15e-11e8-8539-a81e84e6c740\"}, {\"name\": \"\\u51b7\\u96ea_\\u4e0b\\u673a\\u9879\\u76ee\\u6570\", \"x\": [\"8-1\", \"8-2\", \"8-3\", \"8-4\", \"8-5\", \"9-1\", \"9-2\", \"9-3\"], \"y\": [31.0, 49.0, 51.0, 26.0, 2.0, 54.0, 63.0, 103.0], \"type\": \"scatter\", \"uid\": \"b10f48b0-c15e-11e8-8539-a81e84e6c740\"}, {\"name\": \"\\u5f20\\u60a6_\\u4e0b\\u673a\\u6279\\u6b21\\u6570\", \"x\": [\"8-1\", \"8-2\", \"8-3\", \"8-4\", \"8-5\", \"9-1\", \"9-2\", \"9-3\"], \"y\": [2.0, 2.0, 1.0, 1.0, 7.0, 4.0, 0.0, 0.0], \"type\": \"scatter\", \"uid\": \"b10f4ae0-c15e-11e8-8539-a81e84e6c740\"}, {\"name\": \"\\u5f20\\u60a6_\\u4e0b\\u673a\\u9879\\u76ee\\u6570\", \"x\": [\"8-1\", \"8-2\", \"8-3\", \"8-4\", \"8-5\", \"9-1\", \"9-2\", \"9-3\"], \"y\": [1.0, 1.0, 1.0, 1.0, 5.0, 2.0, 0.0, 0.0], \"type\": \"scatter\", \"uid\": \"b10f4ce8-c15e-11e8-8539-a81e84e6c740\"}, {\"name\": \"\\u5c48\\u6602_\\u4e0b\\u673a\\u6279\\u6b21\\u6570\", \"x\": [\"8-1\", \"8-2\", \"8-3\", \"8-4\", \"8-5\", \"9-1\", \"9-2\", \"9-3\"], \"y\": [42.0, 74.0, 75.0, 119.0, 85.0, 135.0, 45.0, 21.0], \"type\": \"scatter\", \"uid\": \"b10f4ed2-c15e-11e8-8539-a81e84e6c740\"}, {\"name\": \"\\u5c48\\u6602_\\u4e0b\\u673a\\u9879\\u76ee\\u6570\", \"x\": [\"8-1\", \"8-2\", \"8-3\", \"8-4\", \"8-5\", \"9-1\", \"9-2\", \"9-3\"], \"y\": [36.0, 62.0, 62.0, 96.0, 76.0, 117.0, 38.0, 19.0], \"type\": \"scatter\", \"uid\": \"b10f50b2-c15e-11e8-8539-a81e84e6c740\"}, {\"name\": \"\\u5362\\u6960_\\u4e0b\\u673a\\u6279\\u6b21\\u6570\", \"x\": [\"8-1\", \"8-2\", \"8-3\", \"8-4\", \"8-5\", \"9-1\", \"9-2\", \"9-3\"], \"y\": [36.0, 47.0, 23.0, 13.0, 3.0, 2.0, 3.0, 0.0], \"type\": \"scatter\", \"uid\": \"b10f5292-c15e-11e8-8539-a81e84e6c740\"}, {\"name\": \"\\u5362\\u6960_\\u4e0b\\u673a\\u9879\\u76ee\\u6570\", \"x\": [\"8-1\", \"8-2\", \"8-3\", \"8-4\", \"8-5\", \"9-1\", \"9-2\", \"9-3\"], \"y\": [26.0, 34.0, 21.0, 13.0, 2.0, 1.0, 2.0, 0.0], \"type\": \"scatter\", \"uid\": \"b10f5468-c15e-11e8-8539-a81e84e6c740\"}],\n",
       "            {\"title\": \"\\u4e0b\\u673a\\u6279\\u6b21\\u6570&\\u4e0b\\u673a\\u9879\\u76ee\\u6570\\u5468\\u8d8b\\u52bf\\u56fe\", \"xaxis\": {\"mirror\": \"all\", \"nticks\": 20, \"showgrid\": true, \"showline\": true, \"title\": \"\\u5468\", \"zeroline\": true}, \"yaxis\": {\"mirror\": \"all\", \"nticks\": 20, \"showgrid\": true, \"showline\": true, \"title\": \"\\u4e0b\\u673a\\u6279\\u6b21\\u6570&\\u4e0b\\u673a\\u9879\\u76ee\\u6570\", \"zeroline\": true}},\n",
       "            {\"showLink\": true, \"linkText\": \"Export to plot.ly\"}\n",
       "        ).then(function () {return Plotly.addFrames('a0400437-7b6e-4d33-b9ab-c51192da2c6d',{});}).then(function(){Plotly.animate('a0400437-7b6e-4d33-b9ab-c51192da2c6d');})\n",
       "        });</script>"
      ]
     },
     "metadata": {},
     "output_type": "display_data"
    },
    {
     "data": {
      "application/vnd.plotly.v1+json": {
       "data": [
        {
         "name": "冷雪_下机批次数",
         "type": "scatter",
         "uid": "b1398a3a-c15e-11e8-8539-a81e84e6c740",
         "x": [
          "8",
          "9"
         ],
         "y": [
          195,
          249
         ]
        },
        {
         "name": "冷雪_下机项目数",
         "type": "scatter",
         "uid": "b1399124-c15e-11e8-8539-a81e84e6c740",
         "x": [
          "8",
          "9"
         ],
         "y": [
          159,
          220
         ]
        },
        {
         "name": "张悦_下机批次数",
         "type": "scatter",
         "uid": "b13995fc-c15e-11e8-8539-a81e84e6c740",
         "x": [
          "8",
          "9"
         ],
         "y": [
          13,
          4
         ]
        },
        {
         "name": "张悦_下机项目数",
         "type": "scatter",
         "uid": "b139ab78-c15e-11e8-8539-a81e84e6c740",
         "x": [
          "8",
          "9"
         ],
         "y": [
          9,
          2
         ]
        },
        {
         "name": "屈昂_下机批次数",
         "type": "scatter",
         "uid": "b139b870-c15e-11e8-8539-a81e84e6c740",
         "x": [
          "8",
          "9"
         ],
         "y": [
          395,
          201
         ]
        },
        {
         "name": "屈昂_下机项目数",
         "type": "scatter",
         "uid": "b139be7e-c15e-11e8-8539-a81e84e6c740",
         "x": [
          "8",
          "9"
         ],
         "y": [
          332,
          174
         ]
        },
        {
         "name": "卢楠_下机批次数",
         "type": "scatter",
         "uid": "b139c4c8-c15e-11e8-8539-a81e84e6c740",
         "x": [
          "8",
          "9"
         ],
         "y": [
          122,
          5
         ]
        },
        {
         "name": "卢楠_下机项目数",
         "type": "scatter",
         "uid": "b139c9aa-c15e-11e8-8539-a81e84e6c740",
         "x": [
          "8",
          "9"
         ],
         "y": [
          96,
          3
         ]
        }
       ],
       "layout": {
        "title": "下机批次数&下机项目数月趋势图",
        "xaxis": {
         "mirror": "all",
         "nticks": 20,
         "showgrid": true,
         "showline": true,
         "title": "月",
         "zeroline": true
        },
        "yaxis": {
         "mirror": "all",
         "nticks": 20,
         "showgrid": true,
         "showline": true,
         "title": "下机批次数&下机项目数",
         "zeroline": true
        }
       }
      },
      "text/html": [
       "<div id=\"a2dfa831-65bc-4113-9f5f-5360a1aa7786\" style=\"height: 525px; width: 100%;\" class=\"plotly-graph-div\"></div><script type=\"text/javascript\">require([\"plotly\"], function(Plotly) { window.PLOTLYENV=window.PLOTLYENV || {};window.PLOTLYENV.BASE_URL=\"https://plot.ly\";\n",
       "        Plotly.plot(\n",
       "            'a2dfa831-65bc-4113-9f5f-5360a1aa7786',\n",
       "            [{\"name\": \"\\u51b7\\u96ea_\\u4e0b\\u673a\\u6279\\u6b21\\u6570\", \"x\": [\"8\", \"9\"], \"y\": [195.0, 249.0], \"type\": \"scatter\", \"uid\": \"b1398a3a-c15e-11e8-8539-a81e84e6c740\"}, {\"name\": \"\\u51b7\\u96ea_\\u4e0b\\u673a\\u9879\\u76ee\\u6570\", \"x\": [\"8\", \"9\"], \"y\": [159.0, 220.0], \"type\": \"scatter\", \"uid\": \"b1399124-c15e-11e8-8539-a81e84e6c740\"}, {\"name\": \"\\u5f20\\u60a6_\\u4e0b\\u673a\\u6279\\u6b21\\u6570\", \"x\": [\"8\", \"9\"], \"y\": [13.0, 4.0], \"type\": \"scatter\", \"uid\": \"b13995fc-c15e-11e8-8539-a81e84e6c740\"}, {\"name\": \"\\u5f20\\u60a6_\\u4e0b\\u673a\\u9879\\u76ee\\u6570\", \"x\": [\"8\", \"9\"], \"y\": [9.0, 2.0], \"type\": \"scatter\", \"uid\": \"b139ab78-c15e-11e8-8539-a81e84e6c740\"}, {\"name\": \"\\u5c48\\u6602_\\u4e0b\\u673a\\u6279\\u6b21\\u6570\", \"x\": [\"8\", \"9\"], \"y\": [395.0, 201.0], \"type\": \"scatter\", \"uid\": \"b139b870-c15e-11e8-8539-a81e84e6c740\"}, {\"name\": \"\\u5c48\\u6602_\\u4e0b\\u673a\\u9879\\u76ee\\u6570\", \"x\": [\"8\", \"9\"], \"y\": [332.0, 174.0], \"type\": \"scatter\", \"uid\": \"b139be7e-c15e-11e8-8539-a81e84e6c740\"}, {\"name\": \"\\u5362\\u6960_\\u4e0b\\u673a\\u6279\\u6b21\\u6570\", \"x\": [\"8\", \"9\"], \"y\": [122.0, 5.0], \"type\": \"scatter\", \"uid\": \"b139c4c8-c15e-11e8-8539-a81e84e6c740\"}, {\"name\": \"\\u5362\\u6960_\\u4e0b\\u673a\\u9879\\u76ee\\u6570\", \"x\": [\"8\", \"9\"], \"y\": [96.0, 3.0], \"type\": \"scatter\", \"uid\": \"b139c9aa-c15e-11e8-8539-a81e84e6c740\"}],\n",
       "            {\"title\": \"\\u4e0b\\u673a\\u6279\\u6b21\\u6570&\\u4e0b\\u673a\\u9879\\u76ee\\u6570\\u6708\\u8d8b\\u52bf\\u56fe\", \"xaxis\": {\"mirror\": \"all\", \"nticks\": 20, \"showgrid\": true, \"showline\": true, \"title\": \"\\u6708\", \"zeroline\": true}, \"yaxis\": {\"mirror\": \"all\", \"nticks\": 20, \"showgrid\": true, \"showline\": true, \"title\": \"\\u4e0b\\u673a\\u6279\\u6b21\\u6570&\\u4e0b\\u673a\\u9879\\u76ee\\u6570\", \"zeroline\": true}},\n",
       "            {\"showLink\": true, \"linkText\": \"Export to plot.ly\"}\n",
       "        ).then(function () {return Plotly.addFrames('a2dfa831-65bc-4113-9f5f-5360a1aa7786',{});}).then(function(){Plotly.animate('a2dfa831-65bc-4113-9f5f-5360a1aa7786');})\n",
       "        });</script>"
      ],
      "text/vnd.plotly.v1+html": [
       "<div id=\"a2dfa831-65bc-4113-9f5f-5360a1aa7786\" style=\"height: 525px; width: 100%;\" class=\"plotly-graph-div\"></div><script type=\"text/javascript\">require([\"plotly\"], function(Plotly) { window.PLOTLYENV=window.PLOTLYENV || {};window.PLOTLYENV.BASE_URL=\"https://plot.ly\";\n",
       "        Plotly.plot(\n",
       "            'a2dfa831-65bc-4113-9f5f-5360a1aa7786',\n",
       "            [{\"name\": \"\\u51b7\\u96ea_\\u4e0b\\u673a\\u6279\\u6b21\\u6570\", \"x\": [\"8\", \"9\"], \"y\": [195.0, 249.0], \"type\": \"scatter\", \"uid\": \"b1398a3a-c15e-11e8-8539-a81e84e6c740\"}, {\"name\": \"\\u51b7\\u96ea_\\u4e0b\\u673a\\u9879\\u76ee\\u6570\", \"x\": [\"8\", \"9\"], \"y\": [159.0, 220.0], \"type\": \"scatter\", \"uid\": \"b1399124-c15e-11e8-8539-a81e84e6c740\"}, {\"name\": \"\\u5f20\\u60a6_\\u4e0b\\u673a\\u6279\\u6b21\\u6570\", \"x\": [\"8\", \"9\"], \"y\": [13.0, 4.0], \"type\": \"scatter\", \"uid\": \"b13995fc-c15e-11e8-8539-a81e84e6c740\"}, {\"name\": \"\\u5f20\\u60a6_\\u4e0b\\u673a\\u9879\\u76ee\\u6570\", \"x\": [\"8\", \"9\"], \"y\": [9.0, 2.0], \"type\": \"scatter\", \"uid\": \"b139ab78-c15e-11e8-8539-a81e84e6c740\"}, {\"name\": \"\\u5c48\\u6602_\\u4e0b\\u673a\\u6279\\u6b21\\u6570\", \"x\": [\"8\", \"9\"], \"y\": [395.0, 201.0], \"type\": \"scatter\", \"uid\": \"b139b870-c15e-11e8-8539-a81e84e6c740\"}, {\"name\": \"\\u5c48\\u6602_\\u4e0b\\u673a\\u9879\\u76ee\\u6570\", \"x\": [\"8\", \"9\"], \"y\": [332.0, 174.0], \"type\": \"scatter\", \"uid\": \"b139be7e-c15e-11e8-8539-a81e84e6c740\"}, {\"name\": \"\\u5362\\u6960_\\u4e0b\\u673a\\u6279\\u6b21\\u6570\", \"x\": [\"8\", \"9\"], \"y\": [122.0, 5.0], \"type\": \"scatter\", \"uid\": \"b139c4c8-c15e-11e8-8539-a81e84e6c740\"}, {\"name\": \"\\u5362\\u6960_\\u4e0b\\u673a\\u9879\\u76ee\\u6570\", \"x\": [\"8\", \"9\"], \"y\": [96.0, 3.0], \"type\": \"scatter\", \"uid\": \"b139c9aa-c15e-11e8-8539-a81e84e6c740\"}],\n",
       "            {\"title\": \"\\u4e0b\\u673a\\u6279\\u6b21\\u6570&\\u4e0b\\u673a\\u9879\\u76ee\\u6570\\u6708\\u8d8b\\u52bf\\u56fe\", \"xaxis\": {\"mirror\": \"all\", \"nticks\": 20, \"showgrid\": true, \"showline\": true, \"title\": \"\\u6708\", \"zeroline\": true}, \"yaxis\": {\"mirror\": \"all\", \"nticks\": 20, \"showgrid\": true, \"showline\": true, \"title\": \"\\u4e0b\\u673a\\u6279\\u6b21\\u6570&\\u4e0b\\u673a\\u9879\\u76ee\\u6570\", \"zeroline\": true}},\n",
       "            {\"showLink\": true, \"linkText\": \"Export to plot.ly\"}\n",
       "        ).then(function () {return Plotly.addFrames('a2dfa831-65bc-4113-9f5f-5360a1aa7786',{});}).then(function(){Plotly.animate('a2dfa831-65bc-4113-9f5f-5360a1aa7786');})\n",
       "        });</script>"
      ]
     },
     "metadata": {},
     "output_type": "display_data"
    }
   ],
   "source": [
    "data_dict = {'下机批次数':['下机批次数'],'下机项目数':['下机项目数']}\n",
    "myModule.plot( all_dict, data_dict, '人员' ,  'line' )"
   ]
  },
  {
   "cell_type": "markdown",
   "metadata": {},
   "source": [
    "## 效率"
   ]
  },
  {
   "cell_type": "markdown",
   "metadata": {},
   "source": [
    "### 反馈及时率和数据及时交付率"
   ]
  },
  {
   "cell_type": "code",
   "execution_count": 54,
   "metadata": {},
   "outputs": [
    {
     "data": {
      "application/vnd.plotly.v1+json": {
       "data": [
        {
         "name": "冷雪_反馈及时率",
         "type": "scatter",
         "uid": "b1865ac2-c15e-11e8-8539-a81e84e6c740",
         "x": [
          "8-1",
          "8-2",
          "8-3",
          "8-4",
          "8-5",
          "9-1",
          "9-2",
          "9-3"
         ],
         "y": [
          0.9210526315789473,
          0.9655172413793104,
          1,
          1,
          1,
          0.9827586206896551,
          0.8947368421052632,
          1
         ]
        },
        {
         "name": "冷雪_数据及时交付率",
         "type": "scatter",
         "uid": "b1866026-c15e-11e8-8539-a81e84e6c740",
         "x": [
          "8-1",
          "8-2",
          "8-3",
          "8-4",
          "8-5",
          "9-1",
          "9-2",
          "9-3"
         ],
         "y": [
          1,
          1,
          1,
          1,
          1,
          1,
          1,
          1
         ]
        },
        {
         "name": "张悦_反馈及时率",
         "type": "scatter",
         "uid": "b186642c-c15e-11e8-8539-a81e84e6c740",
         "x": [
          "8-1",
          "8-2",
          "8-3",
          "8-4",
          "8-5",
          "9-1",
          "9-2",
          "9-3"
         ],
         "y": [
          1,
          1,
          1,
          1,
          1,
          1,
          null,
          null
         ]
        },
        {
         "name": "张悦_数据及时交付率",
         "type": "scatter",
         "uid": "b186685a-c15e-11e8-8539-a81e84e6c740",
         "x": [
          "8-1",
          "8-2",
          "8-3",
          "8-4",
          "8-5",
          "9-1",
          "9-2",
          "9-3"
         ],
         "y": [
          1,
          1,
          1,
          1,
          1,
          1,
          null,
          null
         ]
        },
        {
         "name": "屈昂_反馈及时率",
         "type": "scatter",
         "uid": "b1866c74-c15e-11e8-8539-a81e84e6c740",
         "x": [
          "8-1",
          "8-2",
          "8-3",
          "8-4",
          "8-5",
          "9-1",
          "9-2",
          "9-3"
         ],
         "y": [
          0.9761904761904762,
          0.972972972972973,
          0.9866666666666667,
          0.957983193277311,
          0.9176470588235294,
          0.9851851851851852,
          0.9777777777777777,
          1
         ]
        },
        {
         "name": "屈昂_数据及时交付率",
         "type": "scatter",
         "uid": "b1867002-c15e-11e8-8539-a81e84e6c740",
         "x": [
          "8-1",
          "8-2",
          "8-3",
          "8-4",
          "8-5",
          "9-1",
          "9-2",
          "9-3"
         ],
         "y": [
          1,
          1,
          1,
          1,
          1,
          1,
          1,
          1
         ]
        },
        {
         "name": "卢楠_反馈及时率",
         "type": "scatter",
         "uid": "b186737c-c15e-11e8-8539-a81e84e6c740",
         "x": [
          "8-1",
          "8-2",
          "8-3",
          "8-4",
          "8-5",
          "9-1",
          "9-2",
          "9-3"
         ],
         "y": [
          1,
          0.9574468085106383,
          0.9565217391304348,
          1,
          1,
          1,
          1,
          null
         ]
        },
        {
         "name": "卢楠_数据及时交付率",
         "type": "scatter",
         "uid": "b18676f6-c15e-11e8-8539-a81e84e6c740",
         "x": [
          "8-1",
          "8-2",
          "8-3",
          "8-4",
          "8-5",
          "9-1",
          "9-2",
          "9-3"
         ],
         "y": [
          1,
          1,
          1,
          1,
          1,
          1,
          1,
          null
         ]
        }
       ],
       "layout": {
        "title": "反馈及时率&数据及时交付率周趋势图",
        "xaxis": {
         "mirror": "all",
         "nticks": 20,
         "showgrid": true,
         "showline": true,
         "title": "周",
         "zeroline": true
        },
        "yaxis": {
         "mirror": "all",
         "nticks": 20,
         "showgrid": true,
         "showline": true,
         "title": "反馈及时率&数据及时交付率",
         "zeroline": true
        }
       }
      },
      "text/html": [
       "<div id=\"5c2f1630-263f-40ff-8b39-672aa524b59c\" style=\"height: 525px; width: 100%;\" class=\"plotly-graph-div\"></div><script type=\"text/javascript\">require([\"plotly\"], function(Plotly) { window.PLOTLYENV=window.PLOTLYENV || {};window.PLOTLYENV.BASE_URL=\"https://plot.ly\";\n",
       "        Plotly.plot(\n",
       "            '5c2f1630-263f-40ff-8b39-672aa524b59c',\n",
       "            [{\"name\": \"\\u51b7\\u96ea_\\u53cd\\u9988\\u53ca\\u65f6\\u7387\", \"x\": [\"8-1\", \"8-2\", \"8-3\", \"8-4\", \"8-5\", \"9-1\", \"9-2\", \"9-3\"], \"y\": [0.9210526315789473, 0.9655172413793104, 1.0, 1.0, 1.0, 0.9827586206896551, 0.8947368421052632, 1.0], \"type\": \"scatter\", \"uid\": \"b1865ac2-c15e-11e8-8539-a81e84e6c740\"}, {\"name\": \"\\u51b7\\u96ea_\\u6570\\u636e\\u53ca\\u65f6\\u4ea4\\u4ed8\\u7387\", \"x\": [\"8-1\", \"8-2\", \"8-3\", \"8-4\", \"8-5\", \"9-1\", \"9-2\", \"9-3\"], \"y\": [1.0, 1.0, 1.0, 1.0, 1.0, 1.0, 1.0, 1.0], \"type\": \"scatter\", \"uid\": \"b1866026-c15e-11e8-8539-a81e84e6c740\"}, {\"name\": \"\\u5f20\\u60a6_\\u53cd\\u9988\\u53ca\\u65f6\\u7387\", \"x\": [\"8-1\", \"8-2\", \"8-3\", \"8-4\", \"8-5\", \"9-1\", \"9-2\", \"9-3\"], \"y\": [1.0, 1.0, 1.0, 1.0, 1.0, 1.0, null, null], \"type\": \"scatter\", \"uid\": \"b186642c-c15e-11e8-8539-a81e84e6c740\"}, {\"name\": \"\\u5f20\\u60a6_\\u6570\\u636e\\u53ca\\u65f6\\u4ea4\\u4ed8\\u7387\", \"x\": [\"8-1\", \"8-2\", \"8-3\", \"8-4\", \"8-5\", \"9-1\", \"9-2\", \"9-3\"], \"y\": [1.0, 1.0, 1.0, 1.0, 1.0, 1.0, null, null], \"type\": \"scatter\", \"uid\": \"b186685a-c15e-11e8-8539-a81e84e6c740\"}, {\"name\": \"\\u5c48\\u6602_\\u53cd\\u9988\\u53ca\\u65f6\\u7387\", \"x\": [\"8-1\", \"8-2\", \"8-3\", \"8-4\", \"8-5\", \"9-1\", \"9-2\", \"9-3\"], \"y\": [0.9761904761904762, 0.972972972972973, 0.9866666666666667, 0.957983193277311, 0.9176470588235294, 0.9851851851851852, 0.9777777777777777, 1.0], \"type\": \"scatter\", \"uid\": \"b1866c74-c15e-11e8-8539-a81e84e6c740\"}, {\"name\": \"\\u5c48\\u6602_\\u6570\\u636e\\u53ca\\u65f6\\u4ea4\\u4ed8\\u7387\", \"x\": [\"8-1\", \"8-2\", \"8-3\", \"8-4\", \"8-5\", \"9-1\", \"9-2\", \"9-3\"], \"y\": [1.0, 1.0, 1.0, 1.0, 1.0, 1.0, 1.0, 1.0], \"type\": \"scatter\", \"uid\": \"b1867002-c15e-11e8-8539-a81e84e6c740\"}, {\"name\": \"\\u5362\\u6960_\\u53cd\\u9988\\u53ca\\u65f6\\u7387\", \"x\": [\"8-1\", \"8-2\", \"8-3\", \"8-4\", \"8-5\", \"9-1\", \"9-2\", \"9-3\"], \"y\": [1.0, 0.9574468085106383, 0.9565217391304348, 1.0, 1.0, 1.0, 1.0, null], \"type\": \"scatter\", \"uid\": \"b186737c-c15e-11e8-8539-a81e84e6c740\"}, {\"name\": \"\\u5362\\u6960_\\u6570\\u636e\\u53ca\\u65f6\\u4ea4\\u4ed8\\u7387\", \"x\": [\"8-1\", \"8-2\", \"8-3\", \"8-4\", \"8-5\", \"9-1\", \"9-2\", \"9-3\"], \"y\": [1.0, 1.0, 1.0, 1.0, 1.0, 1.0, 1.0, null], \"type\": \"scatter\", \"uid\": \"b18676f6-c15e-11e8-8539-a81e84e6c740\"}],\n",
       "            {\"title\": \"\\u53cd\\u9988\\u53ca\\u65f6\\u7387&\\u6570\\u636e\\u53ca\\u65f6\\u4ea4\\u4ed8\\u7387\\u5468\\u8d8b\\u52bf\\u56fe\", \"xaxis\": {\"mirror\": \"all\", \"nticks\": 20, \"showgrid\": true, \"showline\": true, \"title\": \"\\u5468\", \"zeroline\": true}, \"yaxis\": {\"mirror\": \"all\", \"nticks\": 20, \"showgrid\": true, \"showline\": true, \"title\": \"\\u53cd\\u9988\\u53ca\\u65f6\\u7387&\\u6570\\u636e\\u53ca\\u65f6\\u4ea4\\u4ed8\\u7387\", \"zeroline\": true}},\n",
       "            {\"showLink\": true, \"linkText\": \"Export to plot.ly\"}\n",
       "        ).then(function () {return Plotly.addFrames('5c2f1630-263f-40ff-8b39-672aa524b59c',{});}).then(function(){Plotly.animate('5c2f1630-263f-40ff-8b39-672aa524b59c');})\n",
       "        });</script>"
      ],
      "text/vnd.plotly.v1+html": [
       "<div id=\"5c2f1630-263f-40ff-8b39-672aa524b59c\" style=\"height: 525px; width: 100%;\" class=\"plotly-graph-div\"></div><script type=\"text/javascript\">require([\"plotly\"], function(Plotly) { window.PLOTLYENV=window.PLOTLYENV || {};window.PLOTLYENV.BASE_URL=\"https://plot.ly\";\n",
       "        Plotly.plot(\n",
       "            '5c2f1630-263f-40ff-8b39-672aa524b59c',\n",
       "            [{\"name\": \"\\u51b7\\u96ea_\\u53cd\\u9988\\u53ca\\u65f6\\u7387\", \"x\": [\"8-1\", \"8-2\", \"8-3\", \"8-4\", \"8-5\", \"9-1\", \"9-2\", \"9-3\"], \"y\": [0.9210526315789473, 0.9655172413793104, 1.0, 1.0, 1.0, 0.9827586206896551, 0.8947368421052632, 1.0], \"type\": \"scatter\", \"uid\": \"b1865ac2-c15e-11e8-8539-a81e84e6c740\"}, {\"name\": \"\\u51b7\\u96ea_\\u6570\\u636e\\u53ca\\u65f6\\u4ea4\\u4ed8\\u7387\", \"x\": [\"8-1\", \"8-2\", \"8-3\", \"8-4\", \"8-5\", \"9-1\", \"9-2\", \"9-3\"], \"y\": [1.0, 1.0, 1.0, 1.0, 1.0, 1.0, 1.0, 1.0], \"type\": \"scatter\", \"uid\": \"b1866026-c15e-11e8-8539-a81e84e6c740\"}, {\"name\": \"\\u5f20\\u60a6_\\u53cd\\u9988\\u53ca\\u65f6\\u7387\", \"x\": [\"8-1\", \"8-2\", \"8-3\", \"8-4\", \"8-5\", \"9-1\", \"9-2\", \"9-3\"], \"y\": [1.0, 1.0, 1.0, 1.0, 1.0, 1.0, null, null], \"type\": \"scatter\", \"uid\": \"b186642c-c15e-11e8-8539-a81e84e6c740\"}, {\"name\": \"\\u5f20\\u60a6_\\u6570\\u636e\\u53ca\\u65f6\\u4ea4\\u4ed8\\u7387\", \"x\": [\"8-1\", \"8-2\", \"8-3\", \"8-4\", \"8-5\", \"9-1\", \"9-2\", \"9-3\"], \"y\": [1.0, 1.0, 1.0, 1.0, 1.0, 1.0, null, null], \"type\": \"scatter\", \"uid\": \"b186685a-c15e-11e8-8539-a81e84e6c740\"}, {\"name\": \"\\u5c48\\u6602_\\u53cd\\u9988\\u53ca\\u65f6\\u7387\", \"x\": [\"8-1\", \"8-2\", \"8-3\", \"8-4\", \"8-5\", \"9-1\", \"9-2\", \"9-3\"], \"y\": [0.9761904761904762, 0.972972972972973, 0.9866666666666667, 0.957983193277311, 0.9176470588235294, 0.9851851851851852, 0.9777777777777777, 1.0], \"type\": \"scatter\", \"uid\": \"b1866c74-c15e-11e8-8539-a81e84e6c740\"}, {\"name\": \"\\u5c48\\u6602_\\u6570\\u636e\\u53ca\\u65f6\\u4ea4\\u4ed8\\u7387\", \"x\": [\"8-1\", \"8-2\", \"8-3\", \"8-4\", \"8-5\", \"9-1\", \"9-2\", \"9-3\"], \"y\": [1.0, 1.0, 1.0, 1.0, 1.0, 1.0, 1.0, 1.0], \"type\": \"scatter\", \"uid\": \"b1867002-c15e-11e8-8539-a81e84e6c740\"}, {\"name\": \"\\u5362\\u6960_\\u53cd\\u9988\\u53ca\\u65f6\\u7387\", \"x\": [\"8-1\", \"8-2\", \"8-3\", \"8-4\", \"8-5\", \"9-1\", \"9-2\", \"9-3\"], \"y\": [1.0, 0.9574468085106383, 0.9565217391304348, 1.0, 1.0, 1.0, 1.0, null], \"type\": \"scatter\", \"uid\": \"b186737c-c15e-11e8-8539-a81e84e6c740\"}, {\"name\": \"\\u5362\\u6960_\\u6570\\u636e\\u53ca\\u65f6\\u4ea4\\u4ed8\\u7387\", \"x\": [\"8-1\", \"8-2\", \"8-3\", \"8-4\", \"8-5\", \"9-1\", \"9-2\", \"9-3\"], \"y\": [1.0, 1.0, 1.0, 1.0, 1.0, 1.0, 1.0, null], \"type\": \"scatter\", \"uid\": \"b18676f6-c15e-11e8-8539-a81e84e6c740\"}],\n",
       "            {\"title\": \"\\u53cd\\u9988\\u53ca\\u65f6\\u7387&\\u6570\\u636e\\u53ca\\u65f6\\u4ea4\\u4ed8\\u7387\\u5468\\u8d8b\\u52bf\\u56fe\", \"xaxis\": {\"mirror\": \"all\", \"nticks\": 20, \"showgrid\": true, \"showline\": true, \"title\": \"\\u5468\", \"zeroline\": true}, \"yaxis\": {\"mirror\": \"all\", \"nticks\": 20, \"showgrid\": true, \"showline\": true, \"title\": \"\\u53cd\\u9988\\u53ca\\u65f6\\u7387&\\u6570\\u636e\\u53ca\\u65f6\\u4ea4\\u4ed8\\u7387\", \"zeroline\": true}},\n",
       "            {\"showLink\": true, \"linkText\": \"Export to plot.ly\"}\n",
       "        ).then(function () {return Plotly.addFrames('5c2f1630-263f-40ff-8b39-672aa524b59c',{});}).then(function(){Plotly.animate('5c2f1630-263f-40ff-8b39-672aa524b59c');})\n",
       "        });</script>"
      ]
     },
     "metadata": {},
     "output_type": "display_data"
    },
    {
     "data": {
      "application/vnd.plotly.v1+json": {
       "data": [
        {
         "name": "冷雪_反馈及时率",
         "type": "scatter",
         "uid": "b1b24452-c15e-11e8-8539-a81e84e6c740",
         "x": [
          "8",
          "9"
         ],
         "y": [
          0.9743589743589743,
          0.963855421686747
         ]
        },
        {
         "name": "冷雪_数据及时交付率",
         "type": "scatter",
         "uid": "b1b24786-c15e-11e8-8539-a81e84e6c740",
         "x": [
          "8",
          "9"
         ],
         "y": [
          1,
          1
         ]
        },
        {
         "name": "张悦_反馈及时率",
         "type": "scatter",
         "uid": "b1b249ca-c15e-11e8-8539-a81e84e6c740",
         "x": [
          "8",
          "9"
         ],
         "y": [
          1,
          1
         ]
        },
        {
         "name": "张悦_数据及时交付率",
         "type": "scatter",
         "uid": "b1b24be6-c15e-11e8-8539-a81e84e6c740",
         "x": [
          "8",
          "9"
         ],
         "y": [
          1,
          1
         ]
        },
        {
         "name": "屈昂_反馈及时率",
         "type": "scatter",
         "uid": "b1b24de4-c15e-11e8-8539-a81e84e6c740",
         "x": [
          "8",
          "9"
         ],
         "y": [
          0.959493670886076,
          0.9850746268656716
         ]
        },
        {
         "name": "屈昂_数据及时交付率",
         "type": "scatter",
         "uid": "b1b24fd8-c15e-11e8-8539-a81e84e6c740",
         "x": [
          "8",
          "9"
         ],
         "y": [
          1,
          1
         ]
        },
        {
         "name": "卢楠_反馈及时率",
         "type": "scatter",
         "uid": "b1b251cc-c15e-11e8-8539-a81e84e6c740",
         "x": [
          "8",
          "9"
         ],
         "y": [
          0.9754098360655737,
          1
         ]
        },
        {
         "name": "卢楠_数据及时交付率",
         "type": "scatter",
         "uid": "b1b253c0-c15e-11e8-8539-a81e84e6c740",
         "x": [
          "8",
          "9"
         ],
         "y": [
          1,
          1
         ]
        }
       ],
       "layout": {
        "title": "反馈及时率&数据及时交付率月趋势图",
        "xaxis": {
         "mirror": "all",
         "nticks": 20,
         "showgrid": true,
         "showline": true,
         "title": "月",
         "zeroline": true
        },
        "yaxis": {
         "mirror": "all",
         "nticks": 20,
         "showgrid": true,
         "showline": true,
         "title": "反馈及时率&数据及时交付率",
         "zeroline": true
        }
       }
      },
      "text/html": [
       "<div id=\"42f96ca9-4ea4-4b04-b027-699e031208a9\" style=\"height: 525px; width: 100%;\" class=\"plotly-graph-div\"></div><script type=\"text/javascript\">require([\"plotly\"], function(Plotly) { window.PLOTLYENV=window.PLOTLYENV || {};window.PLOTLYENV.BASE_URL=\"https://plot.ly\";\n",
       "        Plotly.plot(\n",
       "            '42f96ca9-4ea4-4b04-b027-699e031208a9',\n",
       "            [{\"name\": \"\\u51b7\\u96ea_\\u53cd\\u9988\\u53ca\\u65f6\\u7387\", \"x\": [\"8\", \"9\"], \"y\": [0.9743589743589743, 0.963855421686747], \"type\": \"scatter\", \"uid\": \"b1b24452-c15e-11e8-8539-a81e84e6c740\"}, {\"name\": \"\\u51b7\\u96ea_\\u6570\\u636e\\u53ca\\u65f6\\u4ea4\\u4ed8\\u7387\", \"x\": [\"8\", \"9\"], \"y\": [1.0, 1.0], \"type\": \"scatter\", \"uid\": \"b1b24786-c15e-11e8-8539-a81e84e6c740\"}, {\"name\": \"\\u5f20\\u60a6_\\u53cd\\u9988\\u53ca\\u65f6\\u7387\", \"x\": [\"8\", \"9\"], \"y\": [1.0, 1.0], \"type\": \"scatter\", \"uid\": \"b1b249ca-c15e-11e8-8539-a81e84e6c740\"}, {\"name\": \"\\u5f20\\u60a6_\\u6570\\u636e\\u53ca\\u65f6\\u4ea4\\u4ed8\\u7387\", \"x\": [\"8\", \"9\"], \"y\": [1.0, 1.0], \"type\": \"scatter\", \"uid\": \"b1b24be6-c15e-11e8-8539-a81e84e6c740\"}, {\"name\": \"\\u5c48\\u6602_\\u53cd\\u9988\\u53ca\\u65f6\\u7387\", \"x\": [\"8\", \"9\"], \"y\": [0.959493670886076, 0.9850746268656716], \"type\": \"scatter\", \"uid\": \"b1b24de4-c15e-11e8-8539-a81e84e6c740\"}, {\"name\": \"\\u5c48\\u6602_\\u6570\\u636e\\u53ca\\u65f6\\u4ea4\\u4ed8\\u7387\", \"x\": [\"8\", \"9\"], \"y\": [1.0, 1.0], \"type\": \"scatter\", \"uid\": \"b1b24fd8-c15e-11e8-8539-a81e84e6c740\"}, {\"name\": \"\\u5362\\u6960_\\u53cd\\u9988\\u53ca\\u65f6\\u7387\", \"x\": [\"8\", \"9\"], \"y\": [0.9754098360655737, 1.0], \"type\": \"scatter\", \"uid\": \"b1b251cc-c15e-11e8-8539-a81e84e6c740\"}, {\"name\": \"\\u5362\\u6960_\\u6570\\u636e\\u53ca\\u65f6\\u4ea4\\u4ed8\\u7387\", \"x\": [\"8\", \"9\"], \"y\": [1.0, 1.0], \"type\": \"scatter\", \"uid\": \"b1b253c0-c15e-11e8-8539-a81e84e6c740\"}],\n",
       "            {\"title\": \"\\u53cd\\u9988\\u53ca\\u65f6\\u7387&\\u6570\\u636e\\u53ca\\u65f6\\u4ea4\\u4ed8\\u7387\\u6708\\u8d8b\\u52bf\\u56fe\", \"xaxis\": {\"mirror\": \"all\", \"nticks\": 20, \"showgrid\": true, \"showline\": true, \"title\": \"\\u6708\", \"zeroline\": true}, \"yaxis\": {\"mirror\": \"all\", \"nticks\": 20, \"showgrid\": true, \"showline\": true, \"title\": \"\\u53cd\\u9988\\u53ca\\u65f6\\u7387&\\u6570\\u636e\\u53ca\\u65f6\\u4ea4\\u4ed8\\u7387\", \"zeroline\": true}},\n",
       "            {\"showLink\": true, \"linkText\": \"Export to plot.ly\"}\n",
       "        ).then(function () {return Plotly.addFrames('42f96ca9-4ea4-4b04-b027-699e031208a9',{});}).then(function(){Plotly.animate('42f96ca9-4ea4-4b04-b027-699e031208a9');})\n",
       "        });</script>"
      ],
      "text/vnd.plotly.v1+html": [
       "<div id=\"42f96ca9-4ea4-4b04-b027-699e031208a9\" style=\"height: 525px; width: 100%;\" class=\"plotly-graph-div\"></div><script type=\"text/javascript\">require([\"plotly\"], function(Plotly) { window.PLOTLYENV=window.PLOTLYENV || {};window.PLOTLYENV.BASE_URL=\"https://plot.ly\";\n",
       "        Plotly.plot(\n",
       "            '42f96ca9-4ea4-4b04-b027-699e031208a9',\n",
       "            [{\"name\": \"\\u51b7\\u96ea_\\u53cd\\u9988\\u53ca\\u65f6\\u7387\", \"x\": [\"8\", \"9\"], \"y\": [0.9743589743589743, 0.963855421686747], \"type\": \"scatter\", \"uid\": \"b1b24452-c15e-11e8-8539-a81e84e6c740\"}, {\"name\": \"\\u51b7\\u96ea_\\u6570\\u636e\\u53ca\\u65f6\\u4ea4\\u4ed8\\u7387\", \"x\": [\"8\", \"9\"], \"y\": [1.0, 1.0], \"type\": \"scatter\", \"uid\": \"b1b24786-c15e-11e8-8539-a81e84e6c740\"}, {\"name\": \"\\u5f20\\u60a6_\\u53cd\\u9988\\u53ca\\u65f6\\u7387\", \"x\": [\"8\", \"9\"], \"y\": [1.0, 1.0], \"type\": \"scatter\", \"uid\": \"b1b249ca-c15e-11e8-8539-a81e84e6c740\"}, {\"name\": \"\\u5f20\\u60a6_\\u6570\\u636e\\u53ca\\u65f6\\u4ea4\\u4ed8\\u7387\", \"x\": [\"8\", \"9\"], \"y\": [1.0, 1.0], \"type\": \"scatter\", \"uid\": \"b1b24be6-c15e-11e8-8539-a81e84e6c740\"}, {\"name\": \"\\u5c48\\u6602_\\u53cd\\u9988\\u53ca\\u65f6\\u7387\", \"x\": [\"8\", \"9\"], \"y\": [0.959493670886076, 0.9850746268656716], \"type\": \"scatter\", \"uid\": \"b1b24de4-c15e-11e8-8539-a81e84e6c740\"}, {\"name\": \"\\u5c48\\u6602_\\u6570\\u636e\\u53ca\\u65f6\\u4ea4\\u4ed8\\u7387\", \"x\": [\"8\", \"9\"], \"y\": [1.0, 1.0], \"type\": \"scatter\", \"uid\": \"b1b24fd8-c15e-11e8-8539-a81e84e6c740\"}, {\"name\": \"\\u5362\\u6960_\\u53cd\\u9988\\u53ca\\u65f6\\u7387\", \"x\": [\"8\", \"9\"], \"y\": [0.9754098360655737, 1.0], \"type\": \"scatter\", \"uid\": \"b1b251cc-c15e-11e8-8539-a81e84e6c740\"}, {\"name\": \"\\u5362\\u6960_\\u6570\\u636e\\u53ca\\u65f6\\u4ea4\\u4ed8\\u7387\", \"x\": [\"8\", \"9\"], \"y\": [1.0, 1.0], \"type\": \"scatter\", \"uid\": \"b1b253c0-c15e-11e8-8539-a81e84e6c740\"}],\n",
       "            {\"title\": \"\\u53cd\\u9988\\u53ca\\u65f6\\u7387&\\u6570\\u636e\\u53ca\\u65f6\\u4ea4\\u4ed8\\u7387\\u6708\\u8d8b\\u52bf\\u56fe\", \"xaxis\": {\"mirror\": \"all\", \"nticks\": 20, \"showgrid\": true, \"showline\": true, \"title\": \"\\u6708\", \"zeroline\": true}, \"yaxis\": {\"mirror\": \"all\", \"nticks\": 20, \"showgrid\": true, \"showline\": true, \"title\": \"\\u53cd\\u9988\\u53ca\\u65f6\\u7387&\\u6570\\u636e\\u53ca\\u65f6\\u4ea4\\u4ed8\\u7387\", \"zeroline\": true}},\n",
       "            {\"showLink\": true, \"linkText\": \"Export to plot.ly\"}\n",
       "        ).then(function () {return Plotly.addFrames('42f96ca9-4ea4-4b04-b027-699e031208a9',{});}).then(function(){Plotly.animate('42f96ca9-4ea4-4b04-b027-699e031208a9');})\n",
       "        });</script>"
      ]
     },
     "metadata": {},
     "output_type": "display_data"
    }
   ],
   "source": [
    "data_dict = {'反馈及时率':['及时反馈数','下机批次数'], '数据及时交付率':['数据及时交付数','数据交付总数']}\n",
    "myModule.plot( all_dict, data_dict, '人员' ,  'line' )"
   ]
  },
  {
   "cell_type": "markdown",
   "metadata": {},
   "source": [
    "### 24h拆分过滤率和28h拆分过滤率"
   ]
  },
  {
   "cell_type": "code",
   "execution_count": 55,
   "metadata": {},
   "outputs": [
    {
     "data": {
      "application/vnd.plotly.v1+json": {
       "data": [
        {
         "name": "冷雪_24h拆分过滤率",
         "type": "scatter",
         "uid": "b1f51e1c-c15e-11e8-8539-a81e84e6c740",
         "x": [
          "8-1",
          "8-2",
          "8-3",
          "8-4",
          "8-5",
          "9-1",
          "9-2",
          "9-3"
         ],
         "y": [
          0.5789473684210527,
          0.603448275862069,
          0.7121212121212122,
          0.9642857142857143,
          0.4,
          0.8620689655172413,
          0.7368421052631579,
          0.7478260869565218
         ]
        },
        {
         "name": "冷雪_48h拆分过滤率",
         "type": "scatter",
         "uid": "b1f52204-c15e-11e8-8539-a81e84e6c740",
         "x": [
          "8-1",
          "8-2",
          "8-3",
          "8-4",
          "8-5",
          "9-1",
          "9-2",
          "9-3"
         ],
         "y": [
          0.868421052631579,
          0.8103448275862069,
          1,
          1,
          0.6,
          0.9655172413793104,
          0.9210526315789473,
          0.7913043478260869
         ]
        },
        {
         "name": "张悦_24h拆分过滤率",
         "type": "scatter",
         "uid": "b1f525ce-c15e-11e8-8539-a81e84e6c740",
         "x": [
          "8-1",
          "8-2",
          "8-3",
          "8-4",
          "8-5",
          "9-1",
          "9-2",
          "9-3"
         ],
         "y": [
          0,
          0.5,
          0,
          1,
          0.8571428571428571,
          0.75,
          null,
          null
         ]
        },
        {
         "name": "张悦_48h拆分过滤率",
         "type": "scatter",
         "uid": "b1f52844-c15e-11e8-8539-a81e84e6c740",
         "x": [
          "8-1",
          "8-2",
          "8-3",
          "8-4",
          "8-5",
          "9-1",
          "9-2",
          "9-3"
         ],
         "y": [
          1,
          1,
          1,
          1,
          1,
          1,
          null,
          null
         ]
        },
        {
         "name": "屈昂_24h拆分过滤率",
         "type": "scatter",
         "uid": "b1f52aa6-c15e-11e8-8539-a81e84e6c740",
         "x": [
          "8-1",
          "8-2",
          "8-3",
          "8-4",
          "8-5",
          "9-1",
          "9-2",
          "9-3"
         ],
         "y": [
          0.6428571428571429,
          0.5540540540540541,
          0.68,
          0.8991596638655462,
          0.7058823529411765,
          0.6666666666666666,
          0.8666666666666667,
          0.7142857142857143
         ]
        },
        {
         "name": "屈昂_48h拆分过滤率",
         "type": "scatter",
         "uid": "b1f52cfe-c15e-11e8-8539-a81e84e6c740",
         "x": [
          "8-1",
          "8-2",
          "8-3",
          "8-4",
          "8-5",
          "9-1",
          "9-2",
          "9-3"
         ],
         "y": [
          0.9523809523809523,
          0.8648648648648649,
          0.96,
          0.9663865546218487,
          0.7764705882352941,
          0.7925925925925926,
          1,
          0.8095238095238095
         ]
        },
        {
         "name": "卢楠_24h拆分过滤率",
         "type": "scatter",
         "uid": "b1f52f7e-c15e-11e8-8539-a81e84e6c740",
         "x": [
          "8-1",
          "8-2",
          "8-3",
          "8-4",
          "8-5",
          "9-1",
          "9-2",
          "9-3"
         ],
         "y": [
          0.6944444444444444,
          0.425531914893617,
          0.6086956521739131,
          1,
          1,
          1,
          0.6666666666666666,
          null
         ]
        },
        {
         "name": "卢楠_48h拆分过滤率",
         "type": "scatter",
         "uid": "b1f531cc-c15e-11e8-8539-a81e84e6c740",
         "x": [
          "8-1",
          "8-2",
          "8-3",
          "8-4",
          "8-5",
          "9-1",
          "9-2",
          "9-3"
         ],
         "y": [
          0.9444444444444444,
          0.723404255319149,
          0.9565217391304348,
          1,
          1,
          1,
          1,
          null
         ]
        }
       ],
       "layout": {
        "title": "24h拆分过滤率&48h拆分过滤率周趋势图",
        "xaxis": {
         "mirror": "all",
         "nticks": 20,
         "showgrid": true,
         "showline": true,
         "title": "周",
         "zeroline": true
        },
        "yaxis": {
         "mirror": "all",
         "nticks": 20,
         "showgrid": true,
         "showline": true,
         "title": "24h拆分过滤率&48h拆分过滤率",
         "zeroline": true
        }
       }
      },
      "text/html": [
       "<div id=\"6e29e8de-9471-41ba-8d67-df844b719000\" style=\"height: 525px; width: 100%;\" class=\"plotly-graph-div\"></div><script type=\"text/javascript\">require([\"plotly\"], function(Plotly) { window.PLOTLYENV=window.PLOTLYENV || {};window.PLOTLYENV.BASE_URL=\"https://plot.ly\";\n",
       "        Plotly.plot(\n",
       "            '6e29e8de-9471-41ba-8d67-df844b719000',\n",
       "            [{\"name\": \"\\u51b7\\u96ea_24h\\u62c6\\u5206\\u8fc7\\u6ee4\\u7387\", \"x\": [\"8-1\", \"8-2\", \"8-3\", \"8-4\", \"8-5\", \"9-1\", \"9-2\", \"9-3\"], \"y\": [0.5789473684210527, 0.603448275862069, 0.7121212121212122, 0.9642857142857143, 0.4, 0.8620689655172413, 0.7368421052631579, 0.7478260869565218], \"type\": \"scatter\", \"uid\": \"b1f51e1c-c15e-11e8-8539-a81e84e6c740\"}, {\"name\": \"\\u51b7\\u96ea_48h\\u62c6\\u5206\\u8fc7\\u6ee4\\u7387\", \"x\": [\"8-1\", \"8-2\", \"8-3\", \"8-4\", \"8-5\", \"9-1\", \"9-2\", \"9-3\"], \"y\": [0.868421052631579, 0.8103448275862069, 1.0, 1.0, 0.6, 0.9655172413793104, 0.9210526315789473, 0.7913043478260869], \"type\": \"scatter\", \"uid\": \"b1f52204-c15e-11e8-8539-a81e84e6c740\"}, {\"name\": \"\\u5f20\\u60a6_24h\\u62c6\\u5206\\u8fc7\\u6ee4\\u7387\", \"x\": [\"8-1\", \"8-2\", \"8-3\", \"8-4\", \"8-5\", \"9-1\", \"9-2\", \"9-3\"], \"y\": [0.0, 0.5, 0.0, 1.0, 0.8571428571428571, 0.75, null, null], \"type\": \"scatter\", \"uid\": \"b1f525ce-c15e-11e8-8539-a81e84e6c740\"}, {\"name\": \"\\u5f20\\u60a6_48h\\u62c6\\u5206\\u8fc7\\u6ee4\\u7387\", \"x\": [\"8-1\", \"8-2\", \"8-3\", \"8-4\", \"8-5\", \"9-1\", \"9-2\", \"9-3\"], \"y\": [1.0, 1.0, 1.0, 1.0, 1.0, 1.0, null, null], \"type\": \"scatter\", \"uid\": \"b1f52844-c15e-11e8-8539-a81e84e6c740\"}, {\"name\": \"\\u5c48\\u6602_24h\\u62c6\\u5206\\u8fc7\\u6ee4\\u7387\", \"x\": [\"8-1\", \"8-2\", \"8-3\", \"8-4\", \"8-5\", \"9-1\", \"9-2\", \"9-3\"], \"y\": [0.6428571428571429, 0.5540540540540541, 0.68, 0.8991596638655462, 0.7058823529411765, 0.6666666666666666, 0.8666666666666667, 0.7142857142857143], \"type\": \"scatter\", \"uid\": \"b1f52aa6-c15e-11e8-8539-a81e84e6c740\"}, {\"name\": \"\\u5c48\\u6602_48h\\u62c6\\u5206\\u8fc7\\u6ee4\\u7387\", \"x\": [\"8-1\", \"8-2\", \"8-3\", \"8-4\", \"8-5\", \"9-1\", \"9-2\", \"9-3\"], \"y\": [0.9523809523809523, 0.8648648648648649, 0.96, 0.9663865546218487, 0.7764705882352941, 0.7925925925925926, 1.0, 0.8095238095238095], \"type\": \"scatter\", \"uid\": \"b1f52cfe-c15e-11e8-8539-a81e84e6c740\"}, {\"name\": \"\\u5362\\u6960_24h\\u62c6\\u5206\\u8fc7\\u6ee4\\u7387\", \"x\": [\"8-1\", \"8-2\", \"8-3\", \"8-4\", \"8-5\", \"9-1\", \"9-2\", \"9-3\"], \"y\": [0.6944444444444444, 0.425531914893617, 0.6086956521739131, 1.0, 1.0, 1.0, 0.6666666666666666, null], \"type\": \"scatter\", \"uid\": \"b1f52f7e-c15e-11e8-8539-a81e84e6c740\"}, {\"name\": \"\\u5362\\u6960_48h\\u62c6\\u5206\\u8fc7\\u6ee4\\u7387\", \"x\": [\"8-1\", \"8-2\", \"8-3\", \"8-4\", \"8-5\", \"9-1\", \"9-2\", \"9-3\"], \"y\": [0.9444444444444444, 0.723404255319149, 0.9565217391304348, 1.0, 1.0, 1.0, 1.0, null], \"type\": \"scatter\", \"uid\": \"b1f531cc-c15e-11e8-8539-a81e84e6c740\"}],\n",
       "            {\"title\": \"24h\\u62c6\\u5206\\u8fc7\\u6ee4\\u7387&48h\\u62c6\\u5206\\u8fc7\\u6ee4\\u7387\\u5468\\u8d8b\\u52bf\\u56fe\", \"xaxis\": {\"mirror\": \"all\", \"nticks\": 20, \"showgrid\": true, \"showline\": true, \"title\": \"\\u5468\", \"zeroline\": true}, \"yaxis\": {\"mirror\": \"all\", \"nticks\": 20, \"showgrid\": true, \"showline\": true, \"title\": \"24h\\u62c6\\u5206\\u8fc7\\u6ee4\\u7387&48h\\u62c6\\u5206\\u8fc7\\u6ee4\\u7387\", \"zeroline\": true}},\n",
       "            {\"showLink\": true, \"linkText\": \"Export to plot.ly\"}\n",
       "        ).then(function () {return Plotly.addFrames('6e29e8de-9471-41ba-8d67-df844b719000',{});}).then(function(){Plotly.animate('6e29e8de-9471-41ba-8d67-df844b719000');})\n",
       "        });</script>"
      ],
      "text/vnd.plotly.v1+html": [
       "<div id=\"6e29e8de-9471-41ba-8d67-df844b719000\" style=\"height: 525px; width: 100%;\" class=\"plotly-graph-div\"></div><script type=\"text/javascript\">require([\"plotly\"], function(Plotly) { window.PLOTLYENV=window.PLOTLYENV || {};window.PLOTLYENV.BASE_URL=\"https://plot.ly\";\n",
       "        Plotly.plot(\n",
       "            '6e29e8de-9471-41ba-8d67-df844b719000',\n",
       "            [{\"name\": \"\\u51b7\\u96ea_24h\\u62c6\\u5206\\u8fc7\\u6ee4\\u7387\", \"x\": [\"8-1\", \"8-2\", \"8-3\", \"8-4\", \"8-5\", \"9-1\", \"9-2\", \"9-3\"], \"y\": [0.5789473684210527, 0.603448275862069, 0.7121212121212122, 0.9642857142857143, 0.4, 0.8620689655172413, 0.7368421052631579, 0.7478260869565218], \"type\": \"scatter\", \"uid\": \"b1f51e1c-c15e-11e8-8539-a81e84e6c740\"}, {\"name\": \"\\u51b7\\u96ea_48h\\u62c6\\u5206\\u8fc7\\u6ee4\\u7387\", \"x\": [\"8-1\", \"8-2\", \"8-3\", \"8-4\", \"8-5\", \"9-1\", \"9-2\", \"9-3\"], \"y\": [0.868421052631579, 0.8103448275862069, 1.0, 1.0, 0.6, 0.9655172413793104, 0.9210526315789473, 0.7913043478260869], \"type\": \"scatter\", \"uid\": \"b1f52204-c15e-11e8-8539-a81e84e6c740\"}, {\"name\": \"\\u5f20\\u60a6_24h\\u62c6\\u5206\\u8fc7\\u6ee4\\u7387\", \"x\": [\"8-1\", \"8-2\", \"8-3\", \"8-4\", \"8-5\", \"9-1\", \"9-2\", \"9-3\"], \"y\": [0.0, 0.5, 0.0, 1.0, 0.8571428571428571, 0.75, null, null], \"type\": \"scatter\", \"uid\": \"b1f525ce-c15e-11e8-8539-a81e84e6c740\"}, {\"name\": \"\\u5f20\\u60a6_48h\\u62c6\\u5206\\u8fc7\\u6ee4\\u7387\", \"x\": [\"8-1\", \"8-2\", \"8-3\", \"8-4\", \"8-5\", \"9-1\", \"9-2\", \"9-3\"], \"y\": [1.0, 1.0, 1.0, 1.0, 1.0, 1.0, null, null], \"type\": \"scatter\", \"uid\": \"b1f52844-c15e-11e8-8539-a81e84e6c740\"}, {\"name\": \"\\u5c48\\u6602_24h\\u62c6\\u5206\\u8fc7\\u6ee4\\u7387\", \"x\": [\"8-1\", \"8-2\", \"8-3\", \"8-4\", \"8-5\", \"9-1\", \"9-2\", \"9-3\"], \"y\": [0.6428571428571429, 0.5540540540540541, 0.68, 0.8991596638655462, 0.7058823529411765, 0.6666666666666666, 0.8666666666666667, 0.7142857142857143], \"type\": \"scatter\", \"uid\": \"b1f52aa6-c15e-11e8-8539-a81e84e6c740\"}, {\"name\": \"\\u5c48\\u6602_48h\\u62c6\\u5206\\u8fc7\\u6ee4\\u7387\", \"x\": [\"8-1\", \"8-2\", \"8-3\", \"8-4\", \"8-5\", \"9-1\", \"9-2\", \"9-3\"], \"y\": [0.9523809523809523, 0.8648648648648649, 0.96, 0.9663865546218487, 0.7764705882352941, 0.7925925925925926, 1.0, 0.8095238095238095], \"type\": \"scatter\", \"uid\": \"b1f52cfe-c15e-11e8-8539-a81e84e6c740\"}, {\"name\": \"\\u5362\\u6960_24h\\u62c6\\u5206\\u8fc7\\u6ee4\\u7387\", \"x\": [\"8-1\", \"8-2\", \"8-3\", \"8-4\", \"8-5\", \"9-1\", \"9-2\", \"9-3\"], \"y\": [0.6944444444444444, 0.425531914893617, 0.6086956521739131, 1.0, 1.0, 1.0, 0.6666666666666666, null], \"type\": \"scatter\", \"uid\": \"b1f52f7e-c15e-11e8-8539-a81e84e6c740\"}, {\"name\": \"\\u5362\\u6960_48h\\u62c6\\u5206\\u8fc7\\u6ee4\\u7387\", \"x\": [\"8-1\", \"8-2\", \"8-3\", \"8-4\", \"8-5\", \"9-1\", \"9-2\", \"9-3\"], \"y\": [0.9444444444444444, 0.723404255319149, 0.9565217391304348, 1.0, 1.0, 1.0, 1.0, null], \"type\": \"scatter\", \"uid\": \"b1f531cc-c15e-11e8-8539-a81e84e6c740\"}],\n",
       "            {\"title\": \"24h\\u62c6\\u5206\\u8fc7\\u6ee4\\u7387&48h\\u62c6\\u5206\\u8fc7\\u6ee4\\u7387\\u5468\\u8d8b\\u52bf\\u56fe\", \"xaxis\": {\"mirror\": \"all\", \"nticks\": 20, \"showgrid\": true, \"showline\": true, \"title\": \"\\u5468\", \"zeroline\": true}, \"yaxis\": {\"mirror\": \"all\", \"nticks\": 20, \"showgrid\": true, \"showline\": true, \"title\": \"24h\\u62c6\\u5206\\u8fc7\\u6ee4\\u7387&48h\\u62c6\\u5206\\u8fc7\\u6ee4\\u7387\", \"zeroline\": true}},\n",
       "            {\"showLink\": true, \"linkText\": \"Export to plot.ly\"}\n",
       "        ).then(function () {return Plotly.addFrames('6e29e8de-9471-41ba-8d67-df844b719000',{});}).then(function(){Plotly.animate('6e29e8de-9471-41ba-8d67-df844b719000');})\n",
       "        });</script>"
      ]
     },
     "metadata": {},
     "output_type": "display_data"
    },
    {
     "data": {
      "application/vnd.plotly.v1+json": {
       "data": [
        {
         "name": "冷雪_24h拆分过滤率",
         "type": "scatter",
         "uid": "b218784e-c15e-11e8-8539-a81e84e6c740",
         "x": [
          "8",
          "9"
         ],
         "y": [
          0.6820512820512821,
          0.7710843373493976
         ]
        },
        {
         "name": "冷雪_48h拆分过滤率",
         "type": "scatter",
         "uid": "b2187bdc-c15e-11e8-8539-a81e84e6c740",
         "x": [
          "8",
          "9"
         ],
         "y": [
          0.9076923076923077,
          0.8714859437751004
         ]
        },
        {
         "name": "张悦_24h拆分过滤率",
         "type": "scatter",
         "uid": "b2187e2a-c15e-11e8-8539-a81e84e6c740",
         "x": [
          "8",
          "9"
         ],
         "y": [
          0.6153846153846154,
          0.75
         ]
        },
        {
         "name": "张悦_48h拆分过滤率",
         "type": "scatter",
         "uid": "b2188046-c15e-11e8-8539-a81e84e6c740",
         "x": [
          "8",
          "9"
         ],
         "y": [
          1,
          1
         ]
        },
        {
         "name": "屈昂_24h拆分过滤率",
         "type": "scatter",
         "uid": "b218824e-c15e-11e8-8539-a81e84e6c740",
         "x": [
          "8",
          "9"
         ],
         "y": [
          0.7240506329113924,
          0.7164179104477612
         ]
        },
        {
         "name": "屈昂_48h拆分过滤率",
         "type": "scatter",
         "uid": "b218844c-c15e-11e8-8539-a81e84e6c740",
         "x": [
          "8",
          "9"
         ],
         "y": [
          0.9037974683544304,
          0.8407960199004975
         ]
        },
        {
         "name": "卢楠_24h拆分过滤率",
         "type": "scatter",
         "uid": "b2188640-c15e-11e8-8539-a81e84e6c740",
         "x": [
          "8",
          "9"
         ],
         "y": [
          0.6147540983606558,
          0.8
         ]
        },
        {
         "name": "卢楠_48h拆分过滤率",
         "type": "scatter",
         "uid": "b2188834-c15e-11e8-8539-a81e84e6c740",
         "x": [
          "8",
          "9"
         ],
         "y": [
          0.8688524590163934,
          1
         ]
        }
       ],
       "layout": {
        "title": "24h拆分过滤率&48h拆分过滤率月趋势图",
        "xaxis": {
         "mirror": "all",
         "nticks": 20,
         "showgrid": true,
         "showline": true,
         "title": "月",
         "zeroline": true
        },
        "yaxis": {
         "mirror": "all",
         "nticks": 20,
         "showgrid": true,
         "showline": true,
         "title": "24h拆分过滤率&48h拆分过滤率",
         "zeroline": true
        }
       }
      },
      "text/html": [
       "<div id=\"d2e7415e-5834-48a0-8ec0-9a70460e5b38\" style=\"height: 525px; width: 100%;\" class=\"plotly-graph-div\"></div><script type=\"text/javascript\">require([\"plotly\"], function(Plotly) { window.PLOTLYENV=window.PLOTLYENV || {};window.PLOTLYENV.BASE_URL=\"https://plot.ly\";\n",
       "        Plotly.plot(\n",
       "            'd2e7415e-5834-48a0-8ec0-9a70460e5b38',\n",
       "            [{\"name\": \"\\u51b7\\u96ea_24h\\u62c6\\u5206\\u8fc7\\u6ee4\\u7387\", \"x\": [\"8\", \"9\"], \"y\": [0.6820512820512821, 0.7710843373493976], \"type\": \"scatter\", \"uid\": \"b218784e-c15e-11e8-8539-a81e84e6c740\"}, {\"name\": \"\\u51b7\\u96ea_48h\\u62c6\\u5206\\u8fc7\\u6ee4\\u7387\", \"x\": [\"8\", \"9\"], \"y\": [0.9076923076923077, 0.8714859437751004], \"type\": \"scatter\", \"uid\": \"b2187bdc-c15e-11e8-8539-a81e84e6c740\"}, {\"name\": \"\\u5f20\\u60a6_24h\\u62c6\\u5206\\u8fc7\\u6ee4\\u7387\", \"x\": [\"8\", \"9\"], \"y\": [0.6153846153846154, 0.75], \"type\": \"scatter\", \"uid\": \"b2187e2a-c15e-11e8-8539-a81e84e6c740\"}, {\"name\": \"\\u5f20\\u60a6_48h\\u62c6\\u5206\\u8fc7\\u6ee4\\u7387\", \"x\": [\"8\", \"9\"], \"y\": [1.0, 1.0], \"type\": \"scatter\", \"uid\": \"b2188046-c15e-11e8-8539-a81e84e6c740\"}, {\"name\": \"\\u5c48\\u6602_24h\\u62c6\\u5206\\u8fc7\\u6ee4\\u7387\", \"x\": [\"8\", \"9\"], \"y\": [0.7240506329113924, 0.7164179104477612], \"type\": \"scatter\", \"uid\": \"b218824e-c15e-11e8-8539-a81e84e6c740\"}, {\"name\": \"\\u5c48\\u6602_48h\\u62c6\\u5206\\u8fc7\\u6ee4\\u7387\", \"x\": [\"8\", \"9\"], \"y\": [0.9037974683544304, 0.8407960199004975], \"type\": \"scatter\", \"uid\": \"b218844c-c15e-11e8-8539-a81e84e6c740\"}, {\"name\": \"\\u5362\\u6960_24h\\u62c6\\u5206\\u8fc7\\u6ee4\\u7387\", \"x\": [\"8\", \"9\"], \"y\": [0.6147540983606558, 0.8], \"type\": \"scatter\", \"uid\": \"b2188640-c15e-11e8-8539-a81e84e6c740\"}, {\"name\": \"\\u5362\\u6960_48h\\u62c6\\u5206\\u8fc7\\u6ee4\\u7387\", \"x\": [\"8\", \"9\"], \"y\": [0.8688524590163934, 1.0], \"type\": \"scatter\", \"uid\": \"b2188834-c15e-11e8-8539-a81e84e6c740\"}],\n",
       "            {\"title\": \"24h\\u62c6\\u5206\\u8fc7\\u6ee4\\u7387&48h\\u62c6\\u5206\\u8fc7\\u6ee4\\u7387\\u6708\\u8d8b\\u52bf\\u56fe\", \"xaxis\": {\"mirror\": \"all\", \"nticks\": 20, \"showgrid\": true, \"showline\": true, \"title\": \"\\u6708\", \"zeroline\": true}, \"yaxis\": {\"mirror\": \"all\", \"nticks\": 20, \"showgrid\": true, \"showline\": true, \"title\": \"24h\\u62c6\\u5206\\u8fc7\\u6ee4\\u7387&48h\\u62c6\\u5206\\u8fc7\\u6ee4\\u7387\", \"zeroline\": true}},\n",
       "            {\"showLink\": true, \"linkText\": \"Export to plot.ly\"}\n",
       "        ).then(function () {return Plotly.addFrames('d2e7415e-5834-48a0-8ec0-9a70460e5b38',{});}).then(function(){Plotly.animate('d2e7415e-5834-48a0-8ec0-9a70460e5b38');})\n",
       "        });</script>"
      ],
      "text/vnd.plotly.v1+html": [
       "<div id=\"d2e7415e-5834-48a0-8ec0-9a70460e5b38\" style=\"height: 525px; width: 100%;\" class=\"plotly-graph-div\"></div><script type=\"text/javascript\">require([\"plotly\"], function(Plotly) { window.PLOTLYENV=window.PLOTLYENV || {};window.PLOTLYENV.BASE_URL=\"https://plot.ly\";\n",
       "        Plotly.plot(\n",
       "            'd2e7415e-5834-48a0-8ec0-9a70460e5b38',\n",
       "            [{\"name\": \"\\u51b7\\u96ea_24h\\u62c6\\u5206\\u8fc7\\u6ee4\\u7387\", \"x\": [\"8\", \"9\"], \"y\": [0.6820512820512821, 0.7710843373493976], \"type\": \"scatter\", \"uid\": \"b218784e-c15e-11e8-8539-a81e84e6c740\"}, {\"name\": \"\\u51b7\\u96ea_48h\\u62c6\\u5206\\u8fc7\\u6ee4\\u7387\", \"x\": [\"8\", \"9\"], \"y\": [0.9076923076923077, 0.8714859437751004], \"type\": \"scatter\", \"uid\": \"b2187bdc-c15e-11e8-8539-a81e84e6c740\"}, {\"name\": \"\\u5f20\\u60a6_24h\\u62c6\\u5206\\u8fc7\\u6ee4\\u7387\", \"x\": [\"8\", \"9\"], \"y\": [0.6153846153846154, 0.75], \"type\": \"scatter\", \"uid\": \"b2187e2a-c15e-11e8-8539-a81e84e6c740\"}, {\"name\": \"\\u5f20\\u60a6_48h\\u62c6\\u5206\\u8fc7\\u6ee4\\u7387\", \"x\": [\"8\", \"9\"], \"y\": [1.0, 1.0], \"type\": \"scatter\", \"uid\": \"b2188046-c15e-11e8-8539-a81e84e6c740\"}, {\"name\": \"\\u5c48\\u6602_24h\\u62c6\\u5206\\u8fc7\\u6ee4\\u7387\", \"x\": [\"8\", \"9\"], \"y\": [0.7240506329113924, 0.7164179104477612], \"type\": \"scatter\", \"uid\": \"b218824e-c15e-11e8-8539-a81e84e6c740\"}, {\"name\": \"\\u5c48\\u6602_48h\\u62c6\\u5206\\u8fc7\\u6ee4\\u7387\", \"x\": [\"8\", \"9\"], \"y\": [0.9037974683544304, 0.8407960199004975], \"type\": \"scatter\", \"uid\": \"b218844c-c15e-11e8-8539-a81e84e6c740\"}, {\"name\": \"\\u5362\\u6960_24h\\u62c6\\u5206\\u8fc7\\u6ee4\\u7387\", \"x\": [\"8\", \"9\"], \"y\": [0.6147540983606558, 0.8], \"type\": \"scatter\", \"uid\": \"b2188640-c15e-11e8-8539-a81e84e6c740\"}, {\"name\": \"\\u5362\\u6960_48h\\u62c6\\u5206\\u8fc7\\u6ee4\\u7387\", \"x\": [\"8\", \"9\"], \"y\": [0.8688524590163934, 1.0], \"type\": \"scatter\", \"uid\": \"b2188834-c15e-11e8-8539-a81e84e6c740\"}],\n",
       "            {\"title\": \"24h\\u62c6\\u5206\\u8fc7\\u6ee4\\u7387&48h\\u62c6\\u5206\\u8fc7\\u6ee4\\u7387\\u6708\\u8d8b\\u52bf\\u56fe\", \"xaxis\": {\"mirror\": \"all\", \"nticks\": 20, \"showgrid\": true, \"showline\": true, \"title\": \"\\u6708\", \"zeroline\": true}, \"yaxis\": {\"mirror\": \"all\", \"nticks\": 20, \"showgrid\": true, \"showline\": true, \"title\": \"24h\\u62c6\\u5206\\u8fc7\\u6ee4\\u7387&48h\\u62c6\\u5206\\u8fc7\\u6ee4\\u7387\", \"zeroline\": true}},\n",
       "            {\"showLink\": true, \"linkText\": \"Export to plot.ly\"}\n",
       "        ).then(function () {return Plotly.addFrames('d2e7415e-5834-48a0-8ec0-9a70460e5b38',{});}).then(function(){Plotly.animate('d2e7415e-5834-48a0-8ec0-9a70460e5b38');})\n",
       "        });</script>"
      ]
     },
     "metadata": {},
     "output_type": "display_data"
    }
   ],
   "source": [
    "data_dict = {'24h拆分过滤率':['24h完成批次数', '下机批次数'], '48h拆分过滤率':['48h完成批次数', '下机批次数']}\n",
    "myModule.plot( all_dict, data_dict, '人员' ,  'line' )"
   ]
  },
  {
   "cell_type": "markdown",
   "metadata": {},
   "source": [
    "### 平均反馈时长和反馈时长Q80"
   ]
  },
  {
   "cell_type": "code",
   "execution_count": 56,
   "metadata": {},
   "outputs": [
    {
     "data": {
      "application/vnd.plotly.v1+json": {
       "data": [
        {
         "name": "冷雪_平均反馈时长",
         "type": "scatter",
         "uid": "b264c01e-c15e-11e8-8539-a81e84e6c740",
         "x": [
          "8-1",
          "8-2",
          "8-3",
          "8-4",
          "8-5",
          "9-1",
          "9-2",
          "9-3"
         ],
         "y": [
          7.090000000000001,
          3.9827586206896552,
          4.95,
          3.38,
          3.69,
          9.81,
          7.658947368421053,
          3.6
         ]
        },
        {
         "name": "冷雪_反馈时长Q80",
         "type": "scatter",
         "uid": "b264c58c-c15e-11e8-8539-a81e84e6c740",
         "x": [
          "8-1",
          "8-2",
          "8-3",
          "8-4",
          "8-5",
          "9-1",
          "9-2",
          "9-3"
         ],
         "y": [
          7.59,
          4.66,
          5.63,
          3.23,
          6.49,
          13.99,
          10.5,
          3.83
         ]
        },
        {
         "name": "张悦_平均反馈时长",
         "type": "scatter",
         "uid": "b264c9a6-c15e-11e8-8539-a81e84e6c740",
         "x": [
          "8-1",
          "8-2",
          "8-3",
          "8-4",
          "8-5",
          "9-1",
          "9-2",
          "9-3"
         ],
         "y": [
          14.51,
          3.26,
          18.68,
          1.47,
          2.7600000000000002,
          5.22,
          null,
          null
         ]
        },
        {
         "name": "张悦_反馈时长Q80",
         "type": "scatter",
         "uid": "b264cd70-c15e-11e8-8539-a81e84e6c740",
         "x": [
          "8-1",
          "8-2",
          "8-3",
          "8-4",
          "8-5",
          "9-1",
          "9-2",
          "9-3"
         ],
         "y": [
          5.54,
          2.28,
          18.68,
          1.47,
          2.11,
          3.31,
          0,
          0
         ]
        },
        {
         "name": "屈昂_平均反馈时长",
         "type": "scatter",
         "uid": "b264d108-c15e-11e8-8539-a81e84e6c740",
         "x": [
          "8-1",
          "8-2",
          "8-3",
          "8-4",
          "8-5",
          "9-1",
          "9-2",
          "9-3"
         ],
         "y": [
          5.95,
          4.49,
          4.5,
          5.37,
          7.139294117647059,
          9.77,
          6.688,
          3.6300000000000003
         ]
        },
        {
         "name": "屈昂_反馈时长Q80",
         "type": "scatter",
         "uid": "b264db1c-c15e-11e8-8539-a81e84e6c740",
         "x": [
          "8-1",
          "8-2",
          "8-3",
          "8-4",
          "8-5",
          "9-1",
          "9-2",
          "9-3"
         ],
         "y": [
          5.79,
          5.35,
          5.31,
          5.19,
          11.12,
          16,
          9.89,
          3.92
         ]
        },
        {
         "name": "卢楠_平均反馈时长",
         "type": "scatter",
         "uid": "b264e18e-c15e-11e8-8539-a81e84e6c740",
         "x": [
          "8-1",
          "8-2",
          "8-3",
          "8-4",
          "8-5",
          "9-1",
          "9-2",
          "9-3"
         ],
         "y": [
          5.77,
          5,
          8.6,
          5.199999999999999,
          1.7300000000000002,
          7.2,
          14.409999999999998,
          null
         ]
        },
        {
         "name": "卢楠_反馈时长Q80",
         "type": "scatter",
         "uid": "b264e666-c15e-11e8-8539-a81e84e6c740",
         "x": [
          "8-1",
          "8-2",
          "8-3",
          "8-4",
          "8-5",
          "9-1",
          "9-2",
          "9-3"
         ],
         "y": [
          7.58,
          4.61,
          18.53,
          5.89,
          1.85,
          2.18,
          15.12,
          0
         ]
        }
       ],
       "layout": {
        "title": "平均反馈时长&反馈时长Q80周趋势图",
        "xaxis": {
         "mirror": "all",
         "nticks": 20,
         "showgrid": true,
         "showline": true,
         "title": "周",
         "zeroline": true
        },
        "yaxis": {
         "mirror": "all",
         "nticks": 20,
         "showgrid": true,
         "showline": true,
         "title": "平均反馈时长&反馈时长Q80",
         "zeroline": true
        }
       }
      },
      "text/html": [
       "<div id=\"a07bdeb2-3a63-4703-b4f2-dbad37d59f10\" style=\"height: 525px; width: 100%;\" class=\"plotly-graph-div\"></div><script type=\"text/javascript\">require([\"plotly\"], function(Plotly) { window.PLOTLYENV=window.PLOTLYENV || {};window.PLOTLYENV.BASE_URL=\"https://plot.ly\";\n",
       "        Plotly.plot(\n",
       "            'a07bdeb2-3a63-4703-b4f2-dbad37d59f10',\n",
       "            [{\"name\": \"\\u51b7\\u96ea_\\u5e73\\u5747\\u53cd\\u9988\\u65f6\\u957f\", \"x\": [\"8-1\", \"8-2\", \"8-3\", \"8-4\", \"8-5\", \"9-1\", \"9-2\", \"9-3\"], \"y\": [7.090000000000001, 3.9827586206896552, 4.95, 3.38, 3.69, 9.81, 7.658947368421053, 3.6], \"type\": \"scatter\", \"uid\": \"b264c01e-c15e-11e8-8539-a81e84e6c740\"}, {\"name\": \"\\u51b7\\u96ea_\\u53cd\\u9988\\u65f6\\u957fQ80\", \"x\": [\"8-1\", \"8-2\", \"8-3\", \"8-4\", \"8-5\", \"9-1\", \"9-2\", \"9-3\"], \"y\": [7.59, 4.66, 5.63, 3.23, 6.49, 13.99, 10.5, 3.83], \"type\": \"scatter\", \"uid\": \"b264c58c-c15e-11e8-8539-a81e84e6c740\"}, {\"name\": \"\\u5f20\\u60a6_\\u5e73\\u5747\\u53cd\\u9988\\u65f6\\u957f\", \"x\": [\"8-1\", \"8-2\", \"8-3\", \"8-4\", \"8-5\", \"9-1\", \"9-2\", \"9-3\"], \"y\": [14.51, 3.26, 18.68, 1.47, 2.7600000000000002, 5.22, null, null], \"type\": \"scatter\", \"uid\": \"b264c9a6-c15e-11e8-8539-a81e84e6c740\"}, {\"name\": \"\\u5f20\\u60a6_\\u53cd\\u9988\\u65f6\\u957fQ80\", \"x\": [\"8-1\", \"8-2\", \"8-3\", \"8-4\", \"8-5\", \"9-1\", \"9-2\", \"9-3\"], \"y\": [5.54, 2.28, 18.68, 1.47, 2.11, 3.31, 0.0, 0.0], \"type\": \"scatter\", \"uid\": \"b264cd70-c15e-11e8-8539-a81e84e6c740\"}, {\"name\": \"\\u5c48\\u6602_\\u5e73\\u5747\\u53cd\\u9988\\u65f6\\u957f\", \"x\": [\"8-1\", \"8-2\", \"8-3\", \"8-4\", \"8-5\", \"9-1\", \"9-2\", \"9-3\"], \"y\": [5.95, 4.49, 4.5, 5.37, 7.139294117647059, 9.77, 6.688, 3.6300000000000003], \"type\": \"scatter\", \"uid\": \"b264d108-c15e-11e8-8539-a81e84e6c740\"}, {\"name\": \"\\u5c48\\u6602_\\u53cd\\u9988\\u65f6\\u957fQ80\", \"x\": [\"8-1\", \"8-2\", \"8-3\", \"8-4\", \"8-5\", \"9-1\", \"9-2\", \"9-3\"], \"y\": [5.79, 5.35, 5.31, 5.19, 11.12, 16.0, 9.89, 3.92], \"type\": \"scatter\", \"uid\": \"b264db1c-c15e-11e8-8539-a81e84e6c740\"}, {\"name\": \"\\u5362\\u6960_\\u5e73\\u5747\\u53cd\\u9988\\u65f6\\u957f\", \"x\": [\"8-1\", \"8-2\", \"8-3\", \"8-4\", \"8-5\", \"9-1\", \"9-2\", \"9-3\"], \"y\": [5.77, 5.0, 8.6, 5.199999999999999, 1.7300000000000002, 7.2, 14.409999999999998, null], \"type\": \"scatter\", \"uid\": \"b264e18e-c15e-11e8-8539-a81e84e6c740\"}, {\"name\": \"\\u5362\\u6960_\\u53cd\\u9988\\u65f6\\u957fQ80\", \"x\": [\"8-1\", \"8-2\", \"8-3\", \"8-4\", \"8-5\", \"9-1\", \"9-2\", \"9-3\"], \"y\": [7.58, 4.61, 18.53, 5.89, 1.85, 2.18, 15.12, 0.0], \"type\": \"scatter\", \"uid\": \"b264e666-c15e-11e8-8539-a81e84e6c740\"}],\n",
       "            {\"title\": \"\\u5e73\\u5747\\u53cd\\u9988\\u65f6\\u957f&\\u53cd\\u9988\\u65f6\\u957fQ80\\u5468\\u8d8b\\u52bf\\u56fe\", \"xaxis\": {\"mirror\": \"all\", \"nticks\": 20, \"showgrid\": true, \"showline\": true, \"title\": \"\\u5468\", \"zeroline\": true}, \"yaxis\": {\"mirror\": \"all\", \"nticks\": 20, \"showgrid\": true, \"showline\": true, \"title\": \"\\u5e73\\u5747\\u53cd\\u9988\\u65f6\\u957f&\\u53cd\\u9988\\u65f6\\u957fQ80\", \"zeroline\": true}},\n",
       "            {\"showLink\": true, \"linkText\": \"Export to plot.ly\"}\n",
       "        ).then(function () {return Plotly.addFrames('a07bdeb2-3a63-4703-b4f2-dbad37d59f10',{});}).then(function(){Plotly.animate('a07bdeb2-3a63-4703-b4f2-dbad37d59f10');})\n",
       "        });</script>"
      ],
      "text/vnd.plotly.v1+html": [
       "<div id=\"a07bdeb2-3a63-4703-b4f2-dbad37d59f10\" style=\"height: 525px; width: 100%;\" class=\"plotly-graph-div\"></div><script type=\"text/javascript\">require([\"plotly\"], function(Plotly) { window.PLOTLYENV=window.PLOTLYENV || {};window.PLOTLYENV.BASE_URL=\"https://plot.ly\";\n",
       "        Plotly.plot(\n",
       "            'a07bdeb2-3a63-4703-b4f2-dbad37d59f10',\n",
       "            [{\"name\": \"\\u51b7\\u96ea_\\u5e73\\u5747\\u53cd\\u9988\\u65f6\\u957f\", \"x\": [\"8-1\", \"8-2\", \"8-3\", \"8-4\", \"8-5\", \"9-1\", \"9-2\", \"9-3\"], \"y\": [7.090000000000001, 3.9827586206896552, 4.95, 3.38, 3.69, 9.81, 7.658947368421053, 3.6], \"type\": \"scatter\", \"uid\": \"b264c01e-c15e-11e8-8539-a81e84e6c740\"}, {\"name\": \"\\u51b7\\u96ea_\\u53cd\\u9988\\u65f6\\u957fQ80\", \"x\": [\"8-1\", \"8-2\", \"8-3\", \"8-4\", \"8-5\", \"9-1\", \"9-2\", \"9-3\"], \"y\": [7.59, 4.66, 5.63, 3.23, 6.49, 13.99, 10.5, 3.83], \"type\": \"scatter\", \"uid\": \"b264c58c-c15e-11e8-8539-a81e84e6c740\"}, {\"name\": \"\\u5f20\\u60a6_\\u5e73\\u5747\\u53cd\\u9988\\u65f6\\u957f\", \"x\": [\"8-1\", \"8-2\", \"8-3\", \"8-4\", \"8-5\", \"9-1\", \"9-2\", \"9-3\"], \"y\": [14.51, 3.26, 18.68, 1.47, 2.7600000000000002, 5.22, null, null], \"type\": \"scatter\", \"uid\": \"b264c9a6-c15e-11e8-8539-a81e84e6c740\"}, {\"name\": \"\\u5f20\\u60a6_\\u53cd\\u9988\\u65f6\\u957fQ80\", \"x\": [\"8-1\", \"8-2\", \"8-3\", \"8-4\", \"8-5\", \"9-1\", \"9-2\", \"9-3\"], \"y\": [5.54, 2.28, 18.68, 1.47, 2.11, 3.31, 0.0, 0.0], \"type\": \"scatter\", \"uid\": \"b264cd70-c15e-11e8-8539-a81e84e6c740\"}, {\"name\": \"\\u5c48\\u6602_\\u5e73\\u5747\\u53cd\\u9988\\u65f6\\u957f\", \"x\": [\"8-1\", \"8-2\", \"8-3\", \"8-4\", \"8-5\", \"9-1\", \"9-2\", \"9-3\"], \"y\": [5.95, 4.49, 4.5, 5.37, 7.139294117647059, 9.77, 6.688, 3.6300000000000003], \"type\": \"scatter\", \"uid\": \"b264d108-c15e-11e8-8539-a81e84e6c740\"}, {\"name\": \"\\u5c48\\u6602_\\u53cd\\u9988\\u65f6\\u957fQ80\", \"x\": [\"8-1\", \"8-2\", \"8-3\", \"8-4\", \"8-5\", \"9-1\", \"9-2\", \"9-3\"], \"y\": [5.79, 5.35, 5.31, 5.19, 11.12, 16.0, 9.89, 3.92], \"type\": \"scatter\", \"uid\": \"b264db1c-c15e-11e8-8539-a81e84e6c740\"}, {\"name\": \"\\u5362\\u6960_\\u5e73\\u5747\\u53cd\\u9988\\u65f6\\u957f\", \"x\": [\"8-1\", \"8-2\", \"8-3\", \"8-4\", \"8-5\", \"9-1\", \"9-2\", \"9-3\"], \"y\": [5.77, 5.0, 8.6, 5.199999999999999, 1.7300000000000002, 7.2, 14.409999999999998, null], \"type\": \"scatter\", \"uid\": \"b264e18e-c15e-11e8-8539-a81e84e6c740\"}, {\"name\": \"\\u5362\\u6960_\\u53cd\\u9988\\u65f6\\u957fQ80\", \"x\": [\"8-1\", \"8-2\", \"8-3\", \"8-4\", \"8-5\", \"9-1\", \"9-2\", \"9-3\"], \"y\": [7.58, 4.61, 18.53, 5.89, 1.85, 2.18, 15.12, 0.0], \"type\": \"scatter\", \"uid\": \"b264e666-c15e-11e8-8539-a81e84e6c740\"}],\n",
       "            {\"title\": \"\\u5e73\\u5747\\u53cd\\u9988\\u65f6\\u957f&\\u53cd\\u9988\\u65f6\\u957fQ80\\u5468\\u8d8b\\u52bf\\u56fe\", \"xaxis\": {\"mirror\": \"all\", \"nticks\": 20, \"showgrid\": true, \"showline\": true, \"title\": \"\\u5468\", \"zeroline\": true}, \"yaxis\": {\"mirror\": \"all\", \"nticks\": 20, \"showgrid\": true, \"showline\": true, \"title\": \"\\u5e73\\u5747\\u53cd\\u9988\\u65f6\\u957f&\\u53cd\\u9988\\u65f6\\u957fQ80\", \"zeroline\": true}},\n",
       "            {\"showLink\": true, \"linkText\": \"Export to plot.ly\"}\n",
       "        ).then(function () {return Plotly.addFrames('a07bdeb2-3a63-4703-b4f2-dbad37d59f10',{});}).then(function(){Plotly.animate('a07bdeb2-3a63-4703-b4f2-dbad37d59f10');})\n",
       "        });</script>"
      ]
     },
     "metadata": {},
     "output_type": "display_data"
    },
    {
     "data": {
      "application/vnd.plotly.v1+json": {
       "data": [
        {
         "name": "冷雪_平均反馈时长",
         "type": "scatter",
         "uid": "b287e756-c15e-11e8-8539-a81e84e6c740",
         "x": [
          "8",
          "9"
         ],
         "y": [
          4.821589743589744,
          6.285381526104417
         ]
        },
        {
         "name": "冷雪_反馈时长Q80",
         "type": "scatter",
         "uid": "b287eac6-c15e-11e8-8539-a81e84e6c740",
         "x": [
          "8",
          "9"
         ],
         "y": [
          27.6,
          28.32
         ]
        },
        {
         "name": "张悦_平均反馈时长",
         "type": "scatter",
         "uid": "b287ed14-c15e-11e8-8539-a81e84e6c740",
         "x": [
          "8",
          "9"
         ],
         "y": [
          5.77,
          5.22
         ]
        },
        {
         "name": "张悦_反馈时长Q80",
         "type": "scatter",
         "uid": "b287ef1c-c15e-11e8-8539-a81e84e6c740",
         "x": [
          "8",
          "9"
         ],
         "y": [
          30.08,
          3.31
         ]
        },
        {
         "name": "屈昂_平均反馈时长",
         "type": "scatter",
         "uid": "b287f138-c15e-11e8-8539-a81e84e6c740",
         "x": [
          "8",
          "9"
         ],
         "y": [
          5.482354430379747,
          8.438507462686568
         ]
        },
        {
         "name": "屈昂_反馈时长Q80",
         "type": "scatter",
         "uid": "b287f336-c15e-11e8-8539-a81e84e6c740",
         "x": [
          "8",
          "9"
         ],
         "y": [
          32.76,
          29.810000000000002
         ]
        },
        {
         "name": "卢楠_平均反馈时长",
         "type": "scatter",
         "uid": "b287f52a-c15e-11e8-8539-a81e84e6c740",
         "x": [
          "8",
          "9"
         ],
         "y": [
          5.846803278688525,
          11.526
         ]
        },
        {
         "name": "卢楠_反馈时长Q80",
         "type": "scatter",
         "uid": "b287f728-c15e-11e8-8539-a81e84e6c740",
         "x": [
          "8",
          "9"
         ],
         "y": [
          38.46,
          17.3
         ]
        }
       ],
       "layout": {
        "title": "平均反馈时长&反馈时长Q80月趋势图",
        "xaxis": {
         "mirror": "all",
         "nticks": 20,
         "showgrid": true,
         "showline": true,
         "title": "月",
         "zeroline": true
        },
        "yaxis": {
         "mirror": "all",
         "nticks": 20,
         "showgrid": true,
         "showline": true,
         "title": "平均反馈时长&反馈时长Q80",
         "zeroline": true
        }
       }
      },
      "text/html": [
       "<div id=\"3638396b-69a4-41a6-9f8d-bfc12fe7b6c5\" style=\"height: 525px; width: 100%;\" class=\"plotly-graph-div\"></div><script type=\"text/javascript\">require([\"plotly\"], function(Plotly) { window.PLOTLYENV=window.PLOTLYENV || {};window.PLOTLYENV.BASE_URL=\"https://plot.ly\";\n",
       "        Plotly.plot(\n",
       "            '3638396b-69a4-41a6-9f8d-bfc12fe7b6c5',\n",
       "            [{\"name\": \"\\u51b7\\u96ea_\\u5e73\\u5747\\u53cd\\u9988\\u65f6\\u957f\", \"x\": [\"8\", \"9\"], \"y\": [4.821589743589744, 6.285381526104417], \"type\": \"scatter\", \"uid\": \"b287e756-c15e-11e8-8539-a81e84e6c740\"}, {\"name\": \"\\u51b7\\u96ea_\\u53cd\\u9988\\u65f6\\u957fQ80\", \"x\": [\"8\", \"9\"], \"y\": [27.6, 28.32], \"type\": \"scatter\", \"uid\": \"b287eac6-c15e-11e8-8539-a81e84e6c740\"}, {\"name\": \"\\u5f20\\u60a6_\\u5e73\\u5747\\u53cd\\u9988\\u65f6\\u957f\", \"x\": [\"8\", \"9\"], \"y\": [5.77, 5.22], \"type\": \"scatter\", \"uid\": \"b287ed14-c15e-11e8-8539-a81e84e6c740\"}, {\"name\": \"\\u5f20\\u60a6_\\u53cd\\u9988\\u65f6\\u957fQ80\", \"x\": [\"8\", \"9\"], \"y\": [30.08, 3.31], \"type\": \"scatter\", \"uid\": \"b287ef1c-c15e-11e8-8539-a81e84e6c740\"}, {\"name\": \"\\u5c48\\u6602_\\u5e73\\u5747\\u53cd\\u9988\\u65f6\\u957f\", \"x\": [\"8\", \"9\"], \"y\": [5.482354430379747, 8.438507462686568], \"type\": \"scatter\", \"uid\": \"b287f138-c15e-11e8-8539-a81e84e6c740\"}, {\"name\": \"\\u5c48\\u6602_\\u53cd\\u9988\\u65f6\\u957fQ80\", \"x\": [\"8\", \"9\"], \"y\": [32.76, 29.810000000000002], \"type\": \"scatter\", \"uid\": \"b287f336-c15e-11e8-8539-a81e84e6c740\"}, {\"name\": \"\\u5362\\u6960_\\u5e73\\u5747\\u53cd\\u9988\\u65f6\\u957f\", \"x\": [\"8\", \"9\"], \"y\": [5.846803278688525, 11.526], \"type\": \"scatter\", \"uid\": \"b287f52a-c15e-11e8-8539-a81e84e6c740\"}, {\"name\": \"\\u5362\\u6960_\\u53cd\\u9988\\u65f6\\u957fQ80\", \"x\": [\"8\", \"9\"], \"y\": [38.46, 17.3], \"type\": \"scatter\", \"uid\": \"b287f728-c15e-11e8-8539-a81e84e6c740\"}],\n",
       "            {\"title\": \"\\u5e73\\u5747\\u53cd\\u9988\\u65f6\\u957f&\\u53cd\\u9988\\u65f6\\u957fQ80\\u6708\\u8d8b\\u52bf\\u56fe\", \"xaxis\": {\"mirror\": \"all\", \"nticks\": 20, \"showgrid\": true, \"showline\": true, \"title\": \"\\u6708\", \"zeroline\": true}, \"yaxis\": {\"mirror\": \"all\", \"nticks\": 20, \"showgrid\": true, \"showline\": true, \"title\": \"\\u5e73\\u5747\\u53cd\\u9988\\u65f6\\u957f&\\u53cd\\u9988\\u65f6\\u957fQ80\", \"zeroline\": true}},\n",
       "            {\"showLink\": true, \"linkText\": \"Export to plot.ly\"}\n",
       "        ).then(function () {return Plotly.addFrames('3638396b-69a4-41a6-9f8d-bfc12fe7b6c5',{});}).then(function(){Plotly.animate('3638396b-69a4-41a6-9f8d-bfc12fe7b6c5');})\n",
       "        });</script>"
      ],
      "text/vnd.plotly.v1+html": [
       "<div id=\"3638396b-69a4-41a6-9f8d-bfc12fe7b6c5\" style=\"height: 525px; width: 100%;\" class=\"plotly-graph-div\"></div><script type=\"text/javascript\">require([\"plotly\"], function(Plotly) { window.PLOTLYENV=window.PLOTLYENV || {};window.PLOTLYENV.BASE_URL=\"https://plot.ly\";\n",
       "        Plotly.plot(\n",
       "            '3638396b-69a4-41a6-9f8d-bfc12fe7b6c5',\n",
       "            [{\"name\": \"\\u51b7\\u96ea_\\u5e73\\u5747\\u53cd\\u9988\\u65f6\\u957f\", \"x\": [\"8\", \"9\"], \"y\": [4.821589743589744, 6.285381526104417], \"type\": \"scatter\", \"uid\": \"b287e756-c15e-11e8-8539-a81e84e6c740\"}, {\"name\": \"\\u51b7\\u96ea_\\u53cd\\u9988\\u65f6\\u957fQ80\", \"x\": [\"8\", \"9\"], \"y\": [27.6, 28.32], \"type\": \"scatter\", \"uid\": \"b287eac6-c15e-11e8-8539-a81e84e6c740\"}, {\"name\": \"\\u5f20\\u60a6_\\u5e73\\u5747\\u53cd\\u9988\\u65f6\\u957f\", \"x\": [\"8\", \"9\"], \"y\": [5.77, 5.22], \"type\": \"scatter\", \"uid\": \"b287ed14-c15e-11e8-8539-a81e84e6c740\"}, {\"name\": \"\\u5f20\\u60a6_\\u53cd\\u9988\\u65f6\\u957fQ80\", \"x\": [\"8\", \"9\"], \"y\": [30.08, 3.31], \"type\": \"scatter\", \"uid\": \"b287ef1c-c15e-11e8-8539-a81e84e6c740\"}, {\"name\": \"\\u5c48\\u6602_\\u5e73\\u5747\\u53cd\\u9988\\u65f6\\u957f\", \"x\": [\"8\", \"9\"], \"y\": [5.482354430379747, 8.438507462686568], \"type\": \"scatter\", \"uid\": \"b287f138-c15e-11e8-8539-a81e84e6c740\"}, {\"name\": \"\\u5c48\\u6602_\\u53cd\\u9988\\u65f6\\u957fQ80\", \"x\": [\"8\", \"9\"], \"y\": [32.76, 29.810000000000002], \"type\": \"scatter\", \"uid\": \"b287f336-c15e-11e8-8539-a81e84e6c740\"}, {\"name\": \"\\u5362\\u6960_\\u5e73\\u5747\\u53cd\\u9988\\u65f6\\u957f\", \"x\": [\"8\", \"9\"], \"y\": [5.846803278688525, 11.526], \"type\": \"scatter\", \"uid\": \"b287f52a-c15e-11e8-8539-a81e84e6c740\"}, {\"name\": \"\\u5362\\u6960_\\u53cd\\u9988\\u65f6\\u957fQ80\", \"x\": [\"8\", \"9\"], \"y\": [38.46, 17.3], \"type\": \"scatter\", \"uid\": \"b287f728-c15e-11e8-8539-a81e84e6c740\"}],\n",
       "            {\"title\": \"\\u5e73\\u5747\\u53cd\\u9988\\u65f6\\u957f&\\u53cd\\u9988\\u65f6\\u957fQ80\\u6708\\u8d8b\\u52bf\\u56fe\", \"xaxis\": {\"mirror\": \"all\", \"nticks\": 20, \"showgrid\": true, \"showline\": true, \"title\": \"\\u6708\", \"zeroline\": true}, \"yaxis\": {\"mirror\": \"all\", \"nticks\": 20, \"showgrid\": true, \"showline\": true, \"title\": \"\\u5e73\\u5747\\u53cd\\u9988\\u65f6\\u957f&\\u53cd\\u9988\\u65f6\\u957fQ80\", \"zeroline\": true}},\n",
       "            {\"showLink\": true, \"linkText\": \"Export to plot.ly\"}\n",
       "        ).then(function () {return Plotly.addFrames('3638396b-69a4-41a6-9f8d-bfc12fe7b6c5',{});}).then(function(){Plotly.animate('3638396b-69a4-41a6-9f8d-bfc12fe7b6c5');})\n",
       "        });</script>"
      ]
     },
     "metadata": {},
     "output_type": "display_data"
    }
   ],
   "source": [
    "data_dict = {'平均反馈时长':['反馈总时长','下机批次数'], '反馈时长Q80':['反馈时长Q80']}\n",
    "myModule.plot( all_dict, data_dict, '人员' ,  'line' )"
   ]
  },
  {
   "cell_type": "markdown",
   "metadata": {},
   "source": [
    "## 异常"
   ]
  },
  {
   "cell_type": "markdown",
   "metadata": {},
   "source": [
    "### 下机批次比"
   ]
  },
  {
   "cell_type": "code",
   "execution_count": 57,
   "metadata": {},
   "outputs": [
    {
     "data": {
      "application/vnd.plotly.v1+json": {
       "data": [
        {
         "name": "冷雪",
         "type": "scatter",
         "uid": "b2c0ef88-c15e-11e8-8539-a81e84e6c740",
         "x": [
          "8-1",
          "8-2",
          "8-3",
          "8-4",
          "8-5",
          "9-1",
          "9-2",
          "9-3"
         ],
         "y": [
          1.2258064516129032,
          1.183673469387755,
          1.2941176470588236,
          1.0769230769230769,
          2.5,
          1.0740740740740742,
          1.2063492063492063,
          1.116504854368932
         ]
        },
        {
         "name": "张悦",
         "type": "scatter",
         "uid": "b2c0f4ba-c15e-11e8-8539-a81e84e6c740",
         "x": [
          "8-1",
          "8-2",
          "8-3",
          "8-4",
          "8-5",
          "9-1",
          "9-2",
          "9-3"
         ],
         "y": [
          2,
          2,
          1,
          1,
          1.4,
          2,
          null,
          null
         ]
        },
        {
         "name": "屈昂",
         "type": "scatter",
         "uid": "b2c0f8c0-c15e-11e8-8539-a81e84e6c740",
         "x": [
          "8-1",
          "8-2",
          "8-3",
          "8-4",
          "8-5",
          "9-1",
          "9-2",
          "9-3"
         ],
         "y": [
          1.1666666666666667,
          1.1935483870967742,
          1.2096774193548387,
          1.2395833333333333,
          1.118421052631579,
          1.1538461538461537,
          1.1842105263157894,
          1.105263157894737
         ]
        },
        {
         "name": "卢楠",
         "type": "scatter",
         "uid": "b2c0fc62-c15e-11e8-8539-a81e84e6c740",
         "x": [
          "8-1",
          "8-2",
          "8-3",
          "8-4",
          "8-5",
          "9-1",
          "9-2",
          "9-3"
         ],
         "y": [
          1.3846153846153846,
          1.3823529411764706,
          1.0952380952380953,
          1,
          1.5,
          2,
          1.5,
          null
         ]
        }
       ],
       "layout": {
        "title": "下机批次比周趋势图",
        "xaxis": {
         "mirror": "all",
         "nticks": 20,
         "showgrid": true,
         "showline": true,
         "title": "周",
         "zeroline": true
        },
        "yaxis": {
         "mirror": "all",
         "nticks": 20,
         "showgrid": true,
         "showline": true,
         "title": "下机批次比",
         "zeroline": true
        }
       }
      },
      "text/html": [
       "<div id=\"cb9ce4ce-4b52-4752-b8e9-6cedfdd2e2a7\" style=\"height: 525px; width: 100%;\" class=\"plotly-graph-div\"></div><script type=\"text/javascript\">require([\"plotly\"], function(Plotly) { window.PLOTLYENV=window.PLOTLYENV || {};window.PLOTLYENV.BASE_URL=\"https://plot.ly\";\n",
       "        Plotly.plot(\n",
       "            'cb9ce4ce-4b52-4752-b8e9-6cedfdd2e2a7',\n",
       "            [{\"name\": \"\\u51b7\\u96ea\", \"x\": [\"8-1\", \"8-2\", \"8-3\", \"8-4\", \"8-5\", \"9-1\", \"9-2\", \"9-3\"], \"y\": [1.2258064516129032, 1.183673469387755, 1.2941176470588236, 1.0769230769230769, 2.5, 1.0740740740740742, 1.2063492063492063, 1.116504854368932], \"type\": \"scatter\", \"uid\": \"b2c0ef88-c15e-11e8-8539-a81e84e6c740\"}, {\"name\": \"\\u5f20\\u60a6\", \"x\": [\"8-1\", \"8-2\", \"8-3\", \"8-4\", \"8-5\", \"9-1\", \"9-2\", \"9-3\"], \"y\": [2.0, 2.0, 1.0, 1.0, 1.4, 2.0, null, null], \"type\": \"scatter\", \"uid\": \"b2c0f4ba-c15e-11e8-8539-a81e84e6c740\"}, {\"name\": \"\\u5c48\\u6602\", \"x\": [\"8-1\", \"8-2\", \"8-3\", \"8-4\", \"8-5\", \"9-1\", \"9-2\", \"9-3\"], \"y\": [1.1666666666666667, 1.1935483870967742, 1.2096774193548387, 1.2395833333333333, 1.118421052631579, 1.1538461538461537, 1.1842105263157894, 1.105263157894737], \"type\": \"scatter\", \"uid\": \"b2c0f8c0-c15e-11e8-8539-a81e84e6c740\"}, {\"name\": \"\\u5362\\u6960\", \"x\": [\"8-1\", \"8-2\", \"8-3\", \"8-4\", \"8-5\", \"9-1\", \"9-2\", \"9-3\"], \"y\": [1.3846153846153846, 1.3823529411764706, 1.0952380952380953, 1.0, 1.5, 2.0, 1.5, null], \"type\": \"scatter\", \"uid\": \"b2c0fc62-c15e-11e8-8539-a81e84e6c740\"}],\n",
       "            {\"title\": \"\\u4e0b\\u673a\\u6279\\u6b21\\u6bd4\\u5468\\u8d8b\\u52bf\\u56fe\", \"xaxis\": {\"mirror\": \"all\", \"nticks\": 20, \"showgrid\": true, \"showline\": true, \"title\": \"\\u5468\", \"zeroline\": true}, \"yaxis\": {\"mirror\": \"all\", \"nticks\": 20, \"showgrid\": true, \"showline\": true, \"title\": \"\\u4e0b\\u673a\\u6279\\u6b21\\u6bd4\", \"zeroline\": true}},\n",
       "            {\"showLink\": true, \"linkText\": \"Export to plot.ly\"}\n",
       "        ).then(function () {return Plotly.addFrames('cb9ce4ce-4b52-4752-b8e9-6cedfdd2e2a7',{});}).then(function(){Plotly.animate('cb9ce4ce-4b52-4752-b8e9-6cedfdd2e2a7');})\n",
       "        });</script>"
      ],
      "text/vnd.plotly.v1+html": [
       "<div id=\"cb9ce4ce-4b52-4752-b8e9-6cedfdd2e2a7\" style=\"height: 525px; width: 100%;\" class=\"plotly-graph-div\"></div><script type=\"text/javascript\">require([\"plotly\"], function(Plotly) { window.PLOTLYENV=window.PLOTLYENV || {};window.PLOTLYENV.BASE_URL=\"https://plot.ly\";\n",
       "        Plotly.plot(\n",
       "            'cb9ce4ce-4b52-4752-b8e9-6cedfdd2e2a7',\n",
       "            [{\"name\": \"\\u51b7\\u96ea\", \"x\": [\"8-1\", \"8-2\", \"8-3\", \"8-4\", \"8-5\", \"9-1\", \"9-2\", \"9-3\"], \"y\": [1.2258064516129032, 1.183673469387755, 1.2941176470588236, 1.0769230769230769, 2.5, 1.0740740740740742, 1.2063492063492063, 1.116504854368932], \"type\": \"scatter\", \"uid\": \"b2c0ef88-c15e-11e8-8539-a81e84e6c740\"}, {\"name\": \"\\u5f20\\u60a6\", \"x\": [\"8-1\", \"8-2\", \"8-3\", \"8-4\", \"8-5\", \"9-1\", \"9-2\", \"9-3\"], \"y\": [2.0, 2.0, 1.0, 1.0, 1.4, 2.0, null, null], \"type\": \"scatter\", \"uid\": \"b2c0f4ba-c15e-11e8-8539-a81e84e6c740\"}, {\"name\": \"\\u5c48\\u6602\", \"x\": [\"8-1\", \"8-2\", \"8-3\", \"8-4\", \"8-5\", \"9-1\", \"9-2\", \"9-3\"], \"y\": [1.1666666666666667, 1.1935483870967742, 1.2096774193548387, 1.2395833333333333, 1.118421052631579, 1.1538461538461537, 1.1842105263157894, 1.105263157894737], \"type\": \"scatter\", \"uid\": \"b2c0f8c0-c15e-11e8-8539-a81e84e6c740\"}, {\"name\": \"\\u5362\\u6960\", \"x\": [\"8-1\", \"8-2\", \"8-3\", \"8-4\", \"8-5\", \"9-1\", \"9-2\", \"9-3\"], \"y\": [1.3846153846153846, 1.3823529411764706, 1.0952380952380953, 1.0, 1.5, 2.0, 1.5, null], \"type\": \"scatter\", \"uid\": \"b2c0fc62-c15e-11e8-8539-a81e84e6c740\"}],\n",
       "            {\"title\": \"\\u4e0b\\u673a\\u6279\\u6b21\\u6bd4\\u5468\\u8d8b\\u52bf\\u56fe\", \"xaxis\": {\"mirror\": \"all\", \"nticks\": 20, \"showgrid\": true, \"showline\": true, \"title\": \"\\u5468\", \"zeroline\": true}, \"yaxis\": {\"mirror\": \"all\", \"nticks\": 20, \"showgrid\": true, \"showline\": true, \"title\": \"\\u4e0b\\u673a\\u6279\\u6b21\\u6bd4\", \"zeroline\": true}},\n",
       "            {\"showLink\": true, \"linkText\": \"Export to plot.ly\"}\n",
       "        ).then(function () {return Plotly.addFrames('cb9ce4ce-4b52-4752-b8e9-6cedfdd2e2a7',{});}).then(function(){Plotly.animate('cb9ce4ce-4b52-4752-b8e9-6cedfdd2e2a7');})\n",
       "        });</script>"
      ]
     },
     "metadata": {},
     "output_type": "display_data"
    },
    {
     "data": {
      "application/vnd.plotly.v1+json": {
       "data": [
        {
         "name": "冷雪",
         "type": "scatter",
         "uid": "b2dfc1e2-c15e-11e8-8539-a81e84e6c740",
         "x": [
          "8",
          "9"
         ],
         "y": [
          1.2264150943396226,
          1.1318181818181818
         ]
        },
        {
         "name": "张悦",
         "type": "scatter",
         "uid": "b2dfc502-c15e-11e8-8539-a81e84e6c740",
         "x": [
          "8",
          "9"
         ],
         "y": [
          1.4444444444444444,
          2
         ]
        },
        {
         "name": "屈昂",
         "type": "scatter",
         "uid": "b2dfc73c-c15e-11e8-8539-a81e84e6c740",
         "x": [
          "8",
          "9"
         ],
         "y": [
          1.1897590361445782,
          1.1551724137931034
         ]
        },
        {
         "name": "卢楠",
         "type": "scatter",
         "uid": "b2dfc958-c15e-11e8-8539-a81e84e6c740",
         "x": [
          "8",
          "9"
         ],
         "y": [
          1.2708333333333333,
          1.6666666666666667
         ]
        }
       ],
       "layout": {
        "title": "下机批次比月趋势图",
        "xaxis": {
         "mirror": "all",
         "nticks": 20,
         "showgrid": true,
         "showline": true,
         "title": "月",
         "zeroline": true
        },
        "yaxis": {
         "mirror": "all",
         "nticks": 20,
         "showgrid": true,
         "showline": true,
         "title": "下机批次比",
         "zeroline": true
        }
       }
      },
      "text/html": [
       "<div id=\"beffd38b-bb17-44ad-83a6-5ef7b04b2ac9\" style=\"height: 525px; width: 100%;\" class=\"plotly-graph-div\"></div><script type=\"text/javascript\">require([\"plotly\"], function(Plotly) { window.PLOTLYENV=window.PLOTLYENV || {};window.PLOTLYENV.BASE_URL=\"https://plot.ly\";\n",
       "        Plotly.plot(\n",
       "            'beffd38b-bb17-44ad-83a6-5ef7b04b2ac9',\n",
       "            [{\"name\": \"\\u51b7\\u96ea\", \"x\": [\"8\", \"9\"], \"y\": [1.2264150943396226, 1.1318181818181818], \"type\": \"scatter\", \"uid\": \"b2dfc1e2-c15e-11e8-8539-a81e84e6c740\"}, {\"name\": \"\\u5f20\\u60a6\", \"x\": [\"8\", \"9\"], \"y\": [1.4444444444444444, 2.0], \"type\": \"scatter\", \"uid\": \"b2dfc502-c15e-11e8-8539-a81e84e6c740\"}, {\"name\": \"\\u5c48\\u6602\", \"x\": [\"8\", \"9\"], \"y\": [1.1897590361445782, 1.1551724137931034], \"type\": \"scatter\", \"uid\": \"b2dfc73c-c15e-11e8-8539-a81e84e6c740\"}, {\"name\": \"\\u5362\\u6960\", \"x\": [\"8\", \"9\"], \"y\": [1.2708333333333333, 1.6666666666666667], \"type\": \"scatter\", \"uid\": \"b2dfc958-c15e-11e8-8539-a81e84e6c740\"}],\n",
       "            {\"title\": \"\\u4e0b\\u673a\\u6279\\u6b21\\u6bd4\\u6708\\u8d8b\\u52bf\\u56fe\", \"xaxis\": {\"mirror\": \"all\", \"nticks\": 20, \"showgrid\": true, \"showline\": true, \"title\": \"\\u6708\", \"zeroline\": true}, \"yaxis\": {\"mirror\": \"all\", \"nticks\": 20, \"showgrid\": true, \"showline\": true, \"title\": \"\\u4e0b\\u673a\\u6279\\u6b21\\u6bd4\", \"zeroline\": true}},\n",
       "            {\"showLink\": true, \"linkText\": \"Export to plot.ly\"}\n",
       "        ).then(function () {return Plotly.addFrames('beffd38b-bb17-44ad-83a6-5ef7b04b2ac9',{});}).then(function(){Plotly.animate('beffd38b-bb17-44ad-83a6-5ef7b04b2ac9');})\n",
       "        });</script>"
      ],
      "text/vnd.plotly.v1+html": [
       "<div id=\"beffd38b-bb17-44ad-83a6-5ef7b04b2ac9\" style=\"height: 525px; width: 100%;\" class=\"plotly-graph-div\"></div><script type=\"text/javascript\">require([\"plotly\"], function(Plotly) { window.PLOTLYENV=window.PLOTLYENV || {};window.PLOTLYENV.BASE_URL=\"https://plot.ly\";\n",
       "        Plotly.plot(\n",
       "            'beffd38b-bb17-44ad-83a6-5ef7b04b2ac9',\n",
       "            [{\"name\": \"\\u51b7\\u96ea\", \"x\": [\"8\", \"9\"], \"y\": [1.2264150943396226, 1.1318181818181818], \"type\": \"scatter\", \"uid\": \"b2dfc1e2-c15e-11e8-8539-a81e84e6c740\"}, {\"name\": \"\\u5f20\\u60a6\", \"x\": [\"8\", \"9\"], \"y\": [1.4444444444444444, 2.0], \"type\": \"scatter\", \"uid\": \"b2dfc502-c15e-11e8-8539-a81e84e6c740\"}, {\"name\": \"\\u5c48\\u6602\", \"x\": [\"8\", \"9\"], \"y\": [1.1897590361445782, 1.1551724137931034], \"type\": \"scatter\", \"uid\": \"b2dfc73c-c15e-11e8-8539-a81e84e6c740\"}, {\"name\": \"\\u5362\\u6960\", \"x\": [\"8\", \"9\"], \"y\": [1.2708333333333333, 1.6666666666666667], \"type\": \"scatter\", \"uid\": \"b2dfc958-c15e-11e8-8539-a81e84e6c740\"}],\n",
       "            {\"title\": \"\\u4e0b\\u673a\\u6279\\u6b21\\u6bd4\\u6708\\u8d8b\\u52bf\\u56fe\", \"xaxis\": {\"mirror\": \"all\", \"nticks\": 20, \"showgrid\": true, \"showline\": true, \"title\": \"\\u6708\", \"zeroline\": true}, \"yaxis\": {\"mirror\": \"all\", \"nticks\": 20, \"showgrid\": true, \"showline\": true, \"title\": \"\\u4e0b\\u673a\\u6279\\u6b21\\u6bd4\", \"zeroline\": true}},\n",
       "            {\"showLink\": true, \"linkText\": \"Export to plot.ly\"}\n",
       "        ).then(function () {return Plotly.addFrames('beffd38b-bb17-44ad-83a6-5ef7b04b2ac9',{});}).then(function(){Plotly.animate('beffd38b-bb17-44ad-83a6-5ef7b04b2ac9');})\n",
       "        });</script>"
      ]
     },
     "metadata": {},
     "output_type": "display_data"
    }
   ],
   "source": [
    "data_dict = {'下机批次比':['下机批次数','下机项目数']}\n",
    "myModule.plot( all_dict, data_dict, '人员' ,  'line' )"
   ]
  },
  {
   "cell_type": "markdown",
   "metadata": {
    "collapsed": true
   },
   "source": [
    "### 个性化数"
   ]
  },
  {
   "cell_type": "code",
   "execution_count": 58,
   "metadata": {},
   "outputs": [
    {
     "data": {
      "application/vnd.plotly.v1+json": {
       "data": [
        {
         "name": "冷雪",
         "type": "scatter",
         "uid": "b321940a-c15e-11e8-8539-a81e84e6c740",
         "x": [
          "8-1",
          "8-2",
          "8-3",
          "8-4",
          "8-5",
          "9-1",
          "9-2",
          "9-3"
         ],
         "y": [
          0,
          0,
          0,
          0,
          0,
          0,
          0,
          0
         ]
        },
        {
         "name": "张悦",
         "type": "scatter",
         "uid": "b32197d4-c15e-11e8-8539-a81e84e6c740",
         "x": [
          "8-1",
          "8-2",
          "8-3",
          "8-4",
          "8-5",
          "9-1",
          "9-2",
          "9-3"
         ],
         "y": [
          0,
          0,
          0,
          0,
          0,
          0,
          0,
          0
         ]
        },
        {
         "name": "屈昂",
         "type": "scatter",
         "uid": "b3219a36-c15e-11e8-8539-a81e84e6c740",
         "x": [
          "8-1",
          "8-2",
          "8-3",
          "8-4",
          "8-5",
          "9-1",
          "9-2",
          "9-3"
         ],
         "y": [
          0,
          0,
          0,
          0,
          0,
          0,
          0,
          1
         ]
        },
        {
         "name": "卢楠",
         "type": "scatter",
         "uid": "b3219c52-c15e-11e8-8539-a81e84e6c740",
         "x": [
          "8-1",
          "8-2",
          "8-3",
          "8-4",
          "8-5",
          "9-1",
          "9-2",
          "9-3"
         ],
         "y": [
          0,
          0,
          0,
          0,
          0,
          0,
          0,
          0
         ]
        }
       ],
       "layout": {
        "title": "个性化数周趋势图",
        "xaxis": {
         "mirror": "all",
         "nticks": 20,
         "showgrid": true,
         "showline": true,
         "title": "周",
         "zeroline": true
        },
        "yaxis": {
         "mirror": "all",
         "nticks": 20,
         "showgrid": true,
         "showline": true,
         "title": "个性化数",
         "zeroline": true
        }
       }
      },
      "text/html": [
       "<div id=\"61817388-8f9a-4338-aa44-c056a48bb211\" style=\"height: 525px; width: 100%;\" class=\"plotly-graph-div\"></div><script type=\"text/javascript\">require([\"plotly\"], function(Plotly) { window.PLOTLYENV=window.PLOTLYENV || {};window.PLOTLYENV.BASE_URL=\"https://plot.ly\";\n",
       "        Plotly.plot(\n",
       "            '61817388-8f9a-4338-aa44-c056a48bb211',\n",
       "            [{\"name\": \"\\u51b7\\u96ea\", \"x\": [\"8-1\", \"8-2\", \"8-3\", \"8-4\", \"8-5\", \"9-1\", \"9-2\", \"9-3\"], \"y\": [0.0, 0.0, 0.0, 0.0, 0.0, 0.0, 0.0, 0.0], \"type\": \"scatter\", \"uid\": \"b321940a-c15e-11e8-8539-a81e84e6c740\"}, {\"name\": \"\\u5f20\\u60a6\", \"x\": [\"8-1\", \"8-2\", \"8-3\", \"8-4\", \"8-5\", \"9-1\", \"9-2\", \"9-3\"], \"y\": [0.0, 0.0, 0.0, 0.0, 0.0, 0.0, 0.0, 0.0], \"type\": \"scatter\", \"uid\": \"b32197d4-c15e-11e8-8539-a81e84e6c740\"}, {\"name\": \"\\u5c48\\u6602\", \"x\": [\"8-1\", \"8-2\", \"8-3\", \"8-4\", \"8-5\", \"9-1\", \"9-2\", \"9-3\"], \"y\": [0.0, 0.0, 0.0, 0.0, 0.0, 0.0, 0.0, 1.0], \"type\": \"scatter\", \"uid\": \"b3219a36-c15e-11e8-8539-a81e84e6c740\"}, {\"name\": \"\\u5362\\u6960\", \"x\": [\"8-1\", \"8-2\", \"8-3\", \"8-4\", \"8-5\", \"9-1\", \"9-2\", \"9-3\"], \"y\": [0.0, 0.0, 0.0, 0.0, 0.0, 0.0, 0.0, 0.0], \"type\": \"scatter\", \"uid\": \"b3219c52-c15e-11e8-8539-a81e84e6c740\"}],\n",
       "            {\"title\": \"\\u4e2a\\u6027\\u5316\\u6570\\u5468\\u8d8b\\u52bf\\u56fe\", \"xaxis\": {\"mirror\": \"all\", \"nticks\": 20, \"showgrid\": true, \"showline\": true, \"title\": \"\\u5468\", \"zeroline\": true}, \"yaxis\": {\"mirror\": \"all\", \"nticks\": 20, \"showgrid\": true, \"showline\": true, \"title\": \"\\u4e2a\\u6027\\u5316\\u6570\", \"zeroline\": true}},\n",
       "            {\"showLink\": true, \"linkText\": \"Export to plot.ly\"}\n",
       "        ).then(function () {return Plotly.addFrames('61817388-8f9a-4338-aa44-c056a48bb211',{});}).then(function(){Plotly.animate('61817388-8f9a-4338-aa44-c056a48bb211');})\n",
       "        });</script>"
      ],
      "text/vnd.plotly.v1+html": [
       "<div id=\"61817388-8f9a-4338-aa44-c056a48bb211\" style=\"height: 525px; width: 100%;\" class=\"plotly-graph-div\"></div><script type=\"text/javascript\">require([\"plotly\"], function(Plotly) { window.PLOTLYENV=window.PLOTLYENV || {};window.PLOTLYENV.BASE_URL=\"https://plot.ly\";\n",
       "        Plotly.plot(\n",
       "            '61817388-8f9a-4338-aa44-c056a48bb211',\n",
       "            [{\"name\": \"\\u51b7\\u96ea\", \"x\": [\"8-1\", \"8-2\", \"8-3\", \"8-4\", \"8-5\", \"9-1\", \"9-2\", \"9-3\"], \"y\": [0.0, 0.0, 0.0, 0.0, 0.0, 0.0, 0.0, 0.0], \"type\": \"scatter\", \"uid\": \"b321940a-c15e-11e8-8539-a81e84e6c740\"}, {\"name\": \"\\u5f20\\u60a6\", \"x\": [\"8-1\", \"8-2\", \"8-3\", \"8-4\", \"8-5\", \"9-1\", \"9-2\", \"9-3\"], \"y\": [0.0, 0.0, 0.0, 0.0, 0.0, 0.0, 0.0, 0.0], \"type\": \"scatter\", \"uid\": \"b32197d4-c15e-11e8-8539-a81e84e6c740\"}, {\"name\": \"\\u5c48\\u6602\", \"x\": [\"8-1\", \"8-2\", \"8-3\", \"8-4\", \"8-5\", \"9-1\", \"9-2\", \"9-3\"], \"y\": [0.0, 0.0, 0.0, 0.0, 0.0, 0.0, 0.0, 1.0], \"type\": \"scatter\", \"uid\": \"b3219a36-c15e-11e8-8539-a81e84e6c740\"}, {\"name\": \"\\u5362\\u6960\", \"x\": [\"8-1\", \"8-2\", \"8-3\", \"8-4\", \"8-5\", \"9-1\", \"9-2\", \"9-3\"], \"y\": [0.0, 0.0, 0.0, 0.0, 0.0, 0.0, 0.0, 0.0], \"type\": \"scatter\", \"uid\": \"b3219c52-c15e-11e8-8539-a81e84e6c740\"}],\n",
       "            {\"title\": \"\\u4e2a\\u6027\\u5316\\u6570\\u5468\\u8d8b\\u52bf\\u56fe\", \"xaxis\": {\"mirror\": \"all\", \"nticks\": 20, \"showgrid\": true, \"showline\": true, \"title\": \"\\u5468\", \"zeroline\": true}, \"yaxis\": {\"mirror\": \"all\", \"nticks\": 20, \"showgrid\": true, \"showline\": true, \"title\": \"\\u4e2a\\u6027\\u5316\\u6570\", \"zeroline\": true}},\n",
       "            {\"showLink\": true, \"linkText\": \"Export to plot.ly\"}\n",
       "        ).then(function () {return Plotly.addFrames('61817388-8f9a-4338-aa44-c056a48bb211',{});}).then(function(){Plotly.animate('61817388-8f9a-4338-aa44-c056a48bb211');})\n",
       "        });</script>"
      ]
     },
     "metadata": {},
     "output_type": "display_data"
    },
    {
     "data": {
      "application/vnd.plotly.v1+json": {
       "data": [
        {
         "name": "冷雪",
         "type": "scatter",
         "uid": "b3309efa-c15e-11e8-8539-a81e84e6c740",
         "x": [
          "8",
          "9"
         ],
         "y": [
          0,
          0
         ]
        },
        {
         "name": "张悦",
         "type": "scatter",
         "uid": "b330a242-c15e-11e8-8539-a81e84e6c740",
         "x": [
          "8",
          "9"
         ],
         "y": [
          0,
          0
         ]
        },
        {
         "name": "屈昂",
         "type": "scatter",
         "uid": "b330a486-c15e-11e8-8539-a81e84e6c740",
         "x": [
          "8",
          "9"
         ],
         "y": [
          0,
          1
         ]
        },
        {
         "name": "卢楠",
         "type": "scatter",
         "uid": "b330a698-c15e-11e8-8539-a81e84e6c740",
         "x": [
          "8",
          "9"
         ],
         "y": [
          0,
          0
         ]
        }
       ],
       "layout": {
        "title": "个性化数月趋势图",
        "xaxis": {
         "mirror": "all",
         "nticks": 20,
         "showgrid": true,
         "showline": true,
         "title": "月",
         "zeroline": true
        },
        "yaxis": {
         "mirror": "all",
         "nticks": 20,
         "showgrid": true,
         "showline": true,
         "title": "个性化数",
         "zeroline": true
        }
       }
      },
      "text/html": [
       "<div id=\"41324fe4-f9dc-4181-856d-607a271422c6\" style=\"height: 525px; width: 100%;\" class=\"plotly-graph-div\"></div><script type=\"text/javascript\">require([\"plotly\"], function(Plotly) { window.PLOTLYENV=window.PLOTLYENV || {};window.PLOTLYENV.BASE_URL=\"https://plot.ly\";\n",
       "        Plotly.plot(\n",
       "            '41324fe4-f9dc-4181-856d-607a271422c6',\n",
       "            [{\"name\": \"\\u51b7\\u96ea\", \"x\": [\"8\", \"9\"], \"y\": [0.0, 0.0], \"type\": \"scatter\", \"uid\": \"b3309efa-c15e-11e8-8539-a81e84e6c740\"}, {\"name\": \"\\u5f20\\u60a6\", \"x\": [\"8\", \"9\"], \"y\": [0.0, 0.0], \"type\": \"scatter\", \"uid\": \"b330a242-c15e-11e8-8539-a81e84e6c740\"}, {\"name\": \"\\u5c48\\u6602\", \"x\": [\"8\", \"9\"], \"y\": [0.0, 1.0], \"type\": \"scatter\", \"uid\": \"b330a486-c15e-11e8-8539-a81e84e6c740\"}, {\"name\": \"\\u5362\\u6960\", \"x\": [\"8\", \"9\"], \"y\": [0.0, 0.0], \"type\": \"scatter\", \"uid\": \"b330a698-c15e-11e8-8539-a81e84e6c740\"}],\n",
       "            {\"title\": \"\\u4e2a\\u6027\\u5316\\u6570\\u6708\\u8d8b\\u52bf\\u56fe\", \"xaxis\": {\"mirror\": \"all\", \"nticks\": 20, \"showgrid\": true, \"showline\": true, \"title\": \"\\u6708\", \"zeroline\": true}, \"yaxis\": {\"mirror\": \"all\", \"nticks\": 20, \"showgrid\": true, \"showline\": true, \"title\": \"\\u4e2a\\u6027\\u5316\\u6570\", \"zeroline\": true}},\n",
       "            {\"showLink\": true, \"linkText\": \"Export to plot.ly\"}\n",
       "        ).then(function () {return Plotly.addFrames('41324fe4-f9dc-4181-856d-607a271422c6',{});}).then(function(){Plotly.animate('41324fe4-f9dc-4181-856d-607a271422c6');})\n",
       "        });</script>"
      ],
      "text/vnd.plotly.v1+html": [
       "<div id=\"41324fe4-f9dc-4181-856d-607a271422c6\" style=\"height: 525px; width: 100%;\" class=\"plotly-graph-div\"></div><script type=\"text/javascript\">require([\"plotly\"], function(Plotly) { window.PLOTLYENV=window.PLOTLYENV || {};window.PLOTLYENV.BASE_URL=\"https://plot.ly\";\n",
       "        Plotly.plot(\n",
       "            '41324fe4-f9dc-4181-856d-607a271422c6',\n",
       "            [{\"name\": \"\\u51b7\\u96ea\", \"x\": [\"8\", \"9\"], \"y\": [0.0, 0.0], \"type\": \"scatter\", \"uid\": \"b3309efa-c15e-11e8-8539-a81e84e6c740\"}, {\"name\": \"\\u5f20\\u60a6\", \"x\": [\"8\", \"9\"], \"y\": [0.0, 0.0], \"type\": \"scatter\", \"uid\": \"b330a242-c15e-11e8-8539-a81e84e6c740\"}, {\"name\": \"\\u5c48\\u6602\", \"x\": [\"8\", \"9\"], \"y\": [0.0, 1.0], \"type\": \"scatter\", \"uid\": \"b330a486-c15e-11e8-8539-a81e84e6c740\"}, {\"name\": \"\\u5362\\u6960\", \"x\": [\"8\", \"9\"], \"y\": [0.0, 0.0], \"type\": \"scatter\", \"uid\": \"b330a698-c15e-11e8-8539-a81e84e6c740\"}],\n",
       "            {\"title\": \"\\u4e2a\\u6027\\u5316\\u6570\\u6708\\u8d8b\\u52bf\\u56fe\", \"xaxis\": {\"mirror\": \"all\", \"nticks\": 20, \"showgrid\": true, \"showline\": true, \"title\": \"\\u6708\", \"zeroline\": true}, \"yaxis\": {\"mirror\": \"all\", \"nticks\": 20, \"showgrid\": true, \"showline\": true, \"title\": \"\\u4e2a\\u6027\\u5316\\u6570\", \"zeroline\": true}},\n",
       "            {\"showLink\": true, \"linkText\": \"Export to plot.ly\"}\n",
       "        ).then(function () {return Plotly.addFrames('41324fe4-f9dc-4181-856d-607a271422c6',{});}).then(function(){Plotly.animate('41324fe4-f9dc-4181-856d-607a271422c6');})\n",
       "        });</script>"
      ]
     },
     "metadata": {},
     "output_type": "display_data"
    }
   ],
   "source": [
    "data_dict = {'个性化数':['个性化数']}\n",
    "myModule.plot( all_dict, data_dict, '人员' ,  'line' )"
   ]
  },
  {
   "cell_type": "code",
   "execution_count": null,
   "metadata": {},
   "outputs": [],
   "source": []
  }
 ],
 "metadata": {
  "celltoolbar": "Raw Cell Format",
  "hide_input": false,
  "kernelspec": {
   "display_name": "Python 3",
   "language": "python",
   "name": "python3"
  },
  "language_info": {
   "codemirror_mode": {
    "name": "ipython",
    "version": 3
   },
   "file_extension": ".py",
   "mimetype": "text/x-python",
   "name": "python",
   "nbconvert_exporter": "python",
   "pygments_lexer": "ipython3",
   "version": "3.6.6"
  },
  "toc": {
   "base_numbering": 1,
   "nav_menu": {},
   "number_sections": true,
   "sideBar": true,
   "skip_h1_title": false,
   "title_cell": "Table of Contents",
   "title_sidebar": "Contents",
   "toc_cell": false,
   "toc_position": {
    "height": "513.333px",
    "left": "419px",
    "top": "110.926px",
    "width": "271px"
   },
   "toc_section_display": true,
   "toc_window_display": true
  }
 },
 "nbformat": 4,
 "nbformat_minor": 2
}
